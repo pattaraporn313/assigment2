{
 "cells": [
  {
   "cell_type": "markdown",
   "metadata": {},
   "source": [
    "# Assignment 1 : Covid -19 \n",
    "\n",
    "\n",
    "\n",
    "API Endpoint : https://covid19-api.weedmark.systems/api/v1/stats"
   ]
  },
  {
   "cell_type": "markdown",
   "metadata": {},
   "source": [
    "## Introduction to Covid-19 \n",
    "                ไวรัสโคโรนาสายพันธุ์ใหม่ 2019 คือ ไวรัสในกลุ่มโคโรนาที่เพิ่งมีการค้นพบใหม่ (ไม่เคยมีการพบเชื้อนี้ในคนมาก่อน) โดยพบครั้งแรกที่เมืองอู่ฮั่น \n",
    "            สาธารณรัฐประชาชนจีน ในช่วงปลายปี 2019\n",
    "    \n",
    " #### อาการ\n",
    "             อาการทั่วไป ได้แก่ อาการระบบทางเดินหายใจ มีไข้ ไอ หายใจถี่ หายใจลำบาก ในกรณีที่อาการรุนแรงมาก อาจทำให้เกิดภาวะแทรกซ้อน เช่น ปอดบวม\n",
    "         ปอดอักเสบ ไตวาย หรืออาจเสียชีวิต\n",
    " #### วิธีป้องกัน\n",
    "         1. หลีกเลี่ยงการใกล้ชิดกับผู้ป่วยที่มีอาการไอ จาม น้ำมูกไหล เหนื่อยหอบ เจ็บคอ \n",
    "         2. หลีกเลี่ยงการเดินทางไปในพื้นที่เสี่ยง \n",
    "         3. สวมหน้ากากอนามัยทุกครั้งเมื่ออยู่ในที่สาธารณะ \n",
    "         4. ระมัดระวังการสัมผัสพื้นผิวที่ไม่สะอาด และอาจมีเชื้อโรคเกาะอยู่ รวมถึงสิ่งที่มีคนจับบ่อยครั้ง\n"
   ]
  },
  {
   "cell_type": "markdown",
   "metadata": {},
   "source": [
    "#### Import Packages ที่ต้องใช้"
   ]
  },
  {
   "cell_type": "code",
   "execution_count": 1,
   "metadata": {
    "id": "ziuPnqeyMIB8"
   },
   "outputs": [],
   "source": [
    "import urllib\n",
    "import requests\n",
    "import matplotlib.pyplot as plt\n",
    "from pandas.io.json import json_normalize\n",
    "import json\n",
    "import plotly.graph_objects as go\n",
    "import pandas as pd\n",
    "import plotly.express as px\n",
    "import seaborn as sns\n",
    "import numpy as np\n",
    "import requests\n",
    "import warnings\n",
    "warnings.simplefilter(action='ignore', category=FutureWarning)\n"
   ]
  },
  {
   "cell_type": "code",
   "execution_count": 2,
   "metadata": {
    "colab": {
     "base_uri": "https://localhost:8080/",
     "height": 1000
    },
    "id": "SKoZRmJJMPcf",
    "outputId": "c5ea8358-f466-4e91-9992-007f5c2e4f8c"
   },
   "outputs": [],
   "source": [
    "url = 'https://covid19-api.weedmark.systems/api/v1/stats'\n",
    "r = requests.get(url)\n",
    "j = r.json()\n"
   ]
  },
  {
   "cell_type": "markdown",
   "metadata": {},
   "source": [
    "## 1. Data understanding & Data preparation\n",
    "#### นำข้อมูลเข้า Data Frame "
   ]
  },
  {
   "cell_type": "code",
   "execution_count": 3,
   "metadata": {
    "colab": {
     "base_uri": "https://localhost:8080/",
     "height": 402
    },
    "id": "YcTjpwO7M0U_",
    "outputId": "df4248b1-9071-4a0f-818e-fb22d1e50ef8",
    "scrolled": false
   },
   "outputs": [
    {
     "data": {
      "text/html": [
       "<div>\n",
       "<style scoped>\n",
       "    .dataframe tbody tr th:only-of-type {\n",
       "        vertical-align: middle;\n",
       "    }\n",
       "\n",
       "    .dataframe tbody tr th {\n",
       "        vertical-align: top;\n",
       "    }\n",
       "\n",
       "    .dataframe thead th {\n",
       "        text-align: right;\n",
       "    }\n",
       "</style>\n",
       "<table border=\"1\" class=\"dataframe\">\n",
       "  <thead>\n",
       "    <tr style=\"text-align: right;\">\n",
       "      <th></th>\n",
       "      <th>city</th>\n",
       "      <th>province</th>\n",
       "      <th>country</th>\n",
       "      <th>lastUpdate</th>\n",
       "      <th>keyId</th>\n",
       "      <th>confirmed</th>\n",
       "      <th>deaths</th>\n",
       "      <th>recovered</th>\n",
       "    </tr>\n",
       "  </thead>\n",
       "  <tbody>\n",
       "    <tr>\n",
       "      <th>0</th>\n",
       "      <td>None</td>\n",
       "      <td>None</td>\n",
       "      <td>Afghanistan</td>\n",
       "      <td>2020-10-04T04:23:44+00:00</td>\n",
       "      <td>Afghanistan</td>\n",
       "      <td>39297</td>\n",
       "      <td>1462</td>\n",
       "      <td>32842.0</td>\n",
       "    </tr>\n",
       "    <tr>\n",
       "      <th>1</th>\n",
       "      <td>None</td>\n",
       "      <td>None</td>\n",
       "      <td>Albania</td>\n",
       "      <td>2020-10-04T04:23:44+00:00</td>\n",
       "      <td>Albania</td>\n",
       "      <td>14117</td>\n",
       "      <td>392</td>\n",
       "      <td>8536.0</td>\n",
       "    </tr>\n",
       "    <tr>\n",
       "      <th>2</th>\n",
       "      <td>None</td>\n",
       "      <td>None</td>\n",
       "      <td>Algeria</td>\n",
       "      <td>2020-10-04T04:23:44+00:00</td>\n",
       "      <td>Algeria</td>\n",
       "      <td>51995</td>\n",
       "      <td>1756</td>\n",
       "      <td>36482.0</td>\n",
       "    </tr>\n",
       "    <tr>\n",
       "      <th>3</th>\n",
       "      <td>None</td>\n",
       "      <td>None</td>\n",
       "      <td>Andorra</td>\n",
       "      <td>2020-10-04T04:23:44+00:00</td>\n",
       "      <td>Andorra</td>\n",
       "      <td>2110</td>\n",
       "      <td>53</td>\n",
       "      <td>1540.0</td>\n",
       "    </tr>\n",
       "    <tr>\n",
       "      <th>4</th>\n",
       "      <td>None</td>\n",
       "      <td>None</td>\n",
       "      <td>Angola</td>\n",
       "      <td>2020-10-04T04:23:44+00:00</td>\n",
       "      <td>Angola</td>\n",
       "      <td>5370</td>\n",
       "      <td>193</td>\n",
       "      <td>2436.0</td>\n",
       "    </tr>\n",
       "    <tr>\n",
       "      <th>...</th>\n",
       "      <td>...</td>\n",
       "      <td>...</td>\n",
       "      <td>...</td>\n",
       "      <td>...</td>\n",
       "      <td>...</td>\n",
       "      <td>...</td>\n",
       "      <td>...</td>\n",
       "      <td>...</td>\n",
       "    </tr>\n",
       "    <tr>\n",
       "      <th>3950</th>\n",
       "      <td>None</td>\n",
       "      <td>None</td>\n",
       "      <td>West Bank and Gaza</td>\n",
       "      <td>2020-10-04T04:23:44+00:00</td>\n",
       "      <td>West Bank and Gaza</td>\n",
       "      <td>41078</td>\n",
       "      <td>329</td>\n",
       "      <td>33442.0</td>\n",
       "    </tr>\n",
       "    <tr>\n",
       "      <th>3951</th>\n",
       "      <td>None</td>\n",
       "      <td>None</td>\n",
       "      <td>Western Sahara</td>\n",
       "      <td>2020-10-04T04:23:44+00:00</td>\n",
       "      <td>Western Sahara</td>\n",
       "      <td>10</td>\n",
       "      <td>1</td>\n",
       "      <td>8.0</td>\n",
       "    </tr>\n",
       "    <tr>\n",
       "      <th>3952</th>\n",
       "      <td>None</td>\n",
       "      <td>None</td>\n",
       "      <td>Yemen</td>\n",
       "      <td>2020-10-04T04:23:44+00:00</td>\n",
       "      <td>Yemen</td>\n",
       "      <td>2041</td>\n",
       "      <td>589</td>\n",
       "      <td>1320.0</td>\n",
       "    </tr>\n",
       "    <tr>\n",
       "      <th>3953</th>\n",
       "      <td>None</td>\n",
       "      <td>None</td>\n",
       "      <td>Zambia</td>\n",
       "      <td>2020-10-04T04:23:44+00:00</td>\n",
       "      <td>Zambia</td>\n",
       "      <td>14974</td>\n",
       "      <td>333</td>\n",
       "      <td>14094.0</td>\n",
       "    </tr>\n",
       "    <tr>\n",
       "      <th>3954</th>\n",
       "      <td>None</td>\n",
       "      <td>None</td>\n",
       "      <td>Zimbabwe</td>\n",
       "      <td>2020-10-04T04:23:44+00:00</td>\n",
       "      <td>Zimbabwe</td>\n",
       "      <td>7885</td>\n",
       "      <td>228</td>\n",
       "      <td>6327.0</td>\n",
       "    </tr>\n",
       "  </tbody>\n",
       "</table>\n",
       "<p>3955 rows × 8 columns</p>\n",
       "</div>"
      ],
      "text/plain": [
       "      city province             country                 lastUpdate  \\\n",
       "0     None     None         Afghanistan  2020-10-04T04:23:44+00:00   \n",
       "1     None     None             Albania  2020-10-04T04:23:44+00:00   \n",
       "2     None     None             Algeria  2020-10-04T04:23:44+00:00   \n",
       "3     None     None             Andorra  2020-10-04T04:23:44+00:00   \n",
       "4     None     None              Angola  2020-10-04T04:23:44+00:00   \n",
       "...    ...      ...                 ...                        ...   \n",
       "3950  None     None  West Bank and Gaza  2020-10-04T04:23:44+00:00   \n",
       "3951  None     None      Western Sahara  2020-10-04T04:23:44+00:00   \n",
       "3952  None     None               Yemen  2020-10-04T04:23:44+00:00   \n",
       "3953  None     None              Zambia  2020-10-04T04:23:44+00:00   \n",
       "3954  None     None            Zimbabwe  2020-10-04T04:23:44+00:00   \n",
       "\n",
       "                   keyId  confirmed  deaths  recovered  \n",
       "0            Afghanistan      39297    1462    32842.0  \n",
       "1                Albania      14117     392     8536.0  \n",
       "2                Algeria      51995    1756    36482.0  \n",
       "3                Andorra       2110      53     1540.0  \n",
       "4                 Angola       5370     193     2436.0  \n",
       "...                  ...        ...     ...        ...  \n",
       "3950  West Bank and Gaza      41078     329    33442.0  \n",
       "3951      Western Sahara         10       1        8.0  \n",
       "3952               Yemen       2041     589     1320.0  \n",
       "3953              Zambia      14974     333    14094.0  \n",
       "3954            Zimbabwe       7885     228     6327.0  \n",
       "\n",
       "[3955 rows x 8 columns]"
      ]
     },
     "execution_count": 3,
     "metadata": {},
     "output_type": "execute_result"
    }
   ],
   "source": [
    "df = pd.DataFrame(j)\n",
    "df = pd.DataFrame(j[\"data\"][\"covid19Stats\"])\n",
    "df"
   ]
  },
  {
   "cell_type": "markdown",
   "metadata": {},
   "source": [
    "#### saveข้อมูลเก็บเป็น .csv เพื่อเก็บเป็น staging area"
   ]
  },
  {
   "cell_type": "code",
   "execution_count": 4,
   "metadata": {},
   "outputs": [],
   "source": [
    "\n",
    "df.to_csv(\"data/covid-19_api.csv\",index=False)"
   ]
  },
  {
   "cell_type": "code",
   "execution_count": 37,
   "metadata": {
    "scrolled": true
   },
   "outputs": [
    {
     "data": {
      "text/html": [
       "<div>\n",
       "<style scoped>\n",
       "    .dataframe tbody tr th:only-of-type {\n",
       "        vertical-align: middle;\n",
       "    }\n",
       "\n",
       "    .dataframe tbody tr th {\n",
       "        vertical-align: top;\n",
       "    }\n",
       "\n",
       "    .dataframe thead th {\n",
       "        text-align: right;\n",
       "    }\n",
       "</style>\n",
       "<table border=\"1\" class=\"dataframe\">\n",
       "  <thead>\n",
       "    <tr style=\"text-align: right;\">\n",
       "      <th></th>\n",
       "      <th>city</th>\n",
       "      <th>province</th>\n",
       "      <th>country</th>\n",
       "      <th>lastUpdate</th>\n",
       "      <th>keyId</th>\n",
       "      <th>confirmed</th>\n",
       "      <th>deaths</th>\n",
       "      <th>recovered</th>\n",
       "    </tr>\n",
       "  </thead>\n",
       "  <tbody>\n",
       "    <tr>\n",
       "      <th>0</th>\n",
       "      <td>NaN</td>\n",
       "      <td>NaN</td>\n",
       "      <td>Afghanistan</td>\n",
       "      <td>2020-10-04T04:23:44+00:00</td>\n",
       "      <td>Afghanistan</td>\n",
       "      <td>39297</td>\n",
       "      <td>1462</td>\n",
       "      <td>32842.0</td>\n",
       "    </tr>\n",
       "    <tr>\n",
       "      <th>1</th>\n",
       "      <td>NaN</td>\n",
       "      <td>NaN</td>\n",
       "      <td>Albania</td>\n",
       "      <td>2020-10-04T04:23:44+00:00</td>\n",
       "      <td>Albania</td>\n",
       "      <td>14117</td>\n",
       "      <td>392</td>\n",
       "      <td>8536.0</td>\n",
       "    </tr>\n",
       "    <tr>\n",
       "      <th>2</th>\n",
       "      <td>NaN</td>\n",
       "      <td>NaN</td>\n",
       "      <td>Algeria</td>\n",
       "      <td>2020-10-04T04:23:44+00:00</td>\n",
       "      <td>Algeria</td>\n",
       "      <td>51995</td>\n",
       "      <td>1756</td>\n",
       "      <td>36482.0</td>\n",
       "    </tr>\n",
       "    <tr>\n",
       "      <th>3</th>\n",
       "      <td>NaN</td>\n",
       "      <td>NaN</td>\n",
       "      <td>Andorra</td>\n",
       "      <td>2020-10-04T04:23:44+00:00</td>\n",
       "      <td>Andorra</td>\n",
       "      <td>2110</td>\n",
       "      <td>53</td>\n",
       "      <td>1540.0</td>\n",
       "    </tr>\n",
       "    <tr>\n",
       "      <th>4</th>\n",
       "      <td>NaN</td>\n",
       "      <td>NaN</td>\n",
       "      <td>Angola</td>\n",
       "      <td>2020-10-04T04:23:44+00:00</td>\n",
       "      <td>Angola</td>\n",
       "      <td>5370</td>\n",
       "      <td>193</td>\n",
       "      <td>2436.0</td>\n",
       "    </tr>\n",
       "    <tr>\n",
       "      <th>...</th>\n",
       "      <td>...</td>\n",
       "      <td>...</td>\n",
       "      <td>...</td>\n",
       "      <td>...</td>\n",
       "      <td>...</td>\n",
       "      <td>...</td>\n",
       "      <td>...</td>\n",
       "      <td>...</td>\n",
       "    </tr>\n",
       "    <tr>\n",
       "      <th>3950</th>\n",
       "      <td>NaN</td>\n",
       "      <td>NaN</td>\n",
       "      <td>West Bank and Gaza</td>\n",
       "      <td>2020-10-04T04:23:44+00:00</td>\n",
       "      <td>West Bank and Gaza</td>\n",
       "      <td>41078</td>\n",
       "      <td>329</td>\n",
       "      <td>33442.0</td>\n",
       "    </tr>\n",
       "    <tr>\n",
       "      <th>3951</th>\n",
       "      <td>NaN</td>\n",
       "      <td>NaN</td>\n",
       "      <td>Western Sahara</td>\n",
       "      <td>2020-10-04T04:23:44+00:00</td>\n",
       "      <td>Western Sahara</td>\n",
       "      <td>10</td>\n",
       "      <td>1</td>\n",
       "      <td>8.0</td>\n",
       "    </tr>\n",
       "    <tr>\n",
       "      <th>3952</th>\n",
       "      <td>NaN</td>\n",
       "      <td>NaN</td>\n",
       "      <td>Yemen</td>\n",
       "      <td>2020-10-04T04:23:44+00:00</td>\n",
       "      <td>Yemen</td>\n",
       "      <td>2041</td>\n",
       "      <td>589</td>\n",
       "      <td>1320.0</td>\n",
       "    </tr>\n",
       "    <tr>\n",
       "      <th>3953</th>\n",
       "      <td>NaN</td>\n",
       "      <td>NaN</td>\n",
       "      <td>Zambia</td>\n",
       "      <td>2020-10-04T04:23:44+00:00</td>\n",
       "      <td>Zambia</td>\n",
       "      <td>14974</td>\n",
       "      <td>333</td>\n",
       "      <td>14094.0</td>\n",
       "    </tr>\n",
       "    <tr>\n",
       "      <th>3954</th>\n",
       "      <td>NaN</td>\n",
       "      <td>NaN</td>\n",
       "      <td>Zimbabwe</td>\n",
       "      <td>2020-10-04T04:23:44+00:00</td>\n",
       "      <td>Zimbabwe</td>\n",
       "      <td>7885</td>\n",
       "      <td>228</td>\n",
       "      <td>6327.0</td>\n",
       "    </tr>\n",
       "  </tbody>\n",
       "</table>\n",
       "<p>3955 rows × 8 columns</p>\n",
       "</div>"
      ],
      "text/plain": [
       "     city province             country                 lastUpdate  \\\n",
       "0     NaN      NaN         Afghanistan  2020-10-04T04:23:44+00:00   \n",
       "1     NaN      NaN             Albania  2020-10-04T04:23:44+00:00   \n",
       "2     NaN      NaN             Algeria  2020-10-04T04:23:44+00:00   \n",
       "3     NaN      NaN             Andorra  2020-10-04T04:23:44+00:00   \n",
       "4     NaN      NaN              Angola  2020-10-04T04:23:44+00:00   \n",
       "...   ...      ...                 ...                        ...   \n",
       "3950  NaN      NaN  West Bank and Gaza  2020-10-04T04:23:44+00:00   \n",
       "3951  NaN      NaN      Western Sahara  2020-10-04T04:23:44+00:00   \n",
       "3952  NaN      NaN               Yemen  2020-10-04T04:23:44+00:00   \n",
       "3953  NaN      NaN              Zambia  2020-10-04T04:23:44+00:00   \n",
       "3954  NaN      NaN            Zimbabwe  2020-10-04T04:23:44+00:00   \n",
       "\n",
       "                   keyId  confirmed  deaths  recovered  \n",
       "0            Afghanistan      39297    1462    32842.0  \n",
       "1                Albania      14117     392     8536.0  \n",
       "2                Algeria      51995    1756    36482.0  \n",
       "3                Andorra       2110      53     1540.0  \n",
       "4                 Angola       5370     193     2436.0  \n",
       "...                  ...        ...     ...        ...  \n",
       "3950  West Bank and Gaza      41078     329    33442.0  \n",
       "3951      Western Sahara         10       1        8.0  \n",
       "3952               Yemen       2041     589     1320.0  \n",
       "3953              Zambia      14974     333    14094.0  \n",
       "3954            Zimbabwe       7885     228     6327.0  \n",
       "\n",
       "[3955 rows x 8 columns]"
      ]
     },
     "execution_count": 37,
     "metadata": {},
     "output_type": "execute_result"
    }
   ],
   "source": [
    "#เปิดข้อมูลจากไฟล์ covid-19_api\n",
    "df = pd.read_csv(\"data/covid-19_api.csv\")\n",
    "df"
   ]
  },
  {
   "cell_type": "markdown",
   "metadata": {},
   "source": [
    "#### หลังจากทำการโหลดข้อมูลมาแล้ว ใช้.info() เพื่อดูว่าข้อมูลมีกี่แถว, มี Missing Values เท่าไหร่, แต่ละcolumnเป็น data type อะไร"
   ]
  },
  {
   "cell_type": "code",
   "execution_count": 6,
   "metadata": {
    "colab": {
     "base_uri": "https://localhost:8080/",
     "height": 269
    },
    "id": "DkMnnkrIleCN",
    "outputId": "5146d88a-4adb-4092-847b-0a9655fe4cf2"
   },
   "outputs": [
    {
     "name": "stdout",
     "output_type": "stream",
     "text": [
      "<class 'pandas.core.frame.DataFrame'>\n",
      "RangeIndex: 3955 entries, 0 to 3954\n",
      "Data columns (total 8 columns):\n",
      " #   Column      Non-Null Count  Dtype  \n",
      "---  ------      --------------  -----  \n",
      " 0   city        3264 non-null   object \n",
      " 1   province    3787 non-null   object \n",
      " 2   country     3955 non-null   object \n",
      " 3   lastUpdate  3955 non-null   object \n",
      " 4   keyId       3955 non-null   object \n",
      " 5   confirmed   3955 non-null   int64  \n",
      " 6   deaths      3955 non-null   int64  \n",
      " 7   recovered   614 non-null    float64\n",
      "dtypes: float64(1), int64(2), object(5)\n",
      "memory usage: 247.3+ KB\n"
     ]
    }
   ],
   "source": [
    "df.info()"
   ]
  },
  {
   "cell_type": "code",
   "execution_count": 7,
   "metadata": {
    "colab": {
     "base_uri": "https://localhost:8080/",
     "height": 218
    },
    "id": "XsmBqhRgK7xb",
    "outputId": "7ea0aab1-c959-4eec-8b71-315698314fee"
   },
   "outputs": [
    {
     "data": {
      "text/plain": [
       "0       False\n",
       "1       False\n",
       "2       False\n",
       "3       False\n",
       "4       False\n",
       "        ...  \n",
       "3950    False\n",
       "3951    False\n",
       "3952    False\n",
       "3953    False\n",
       "3954    False\n",
       "Length: 3955, dtype: bool"
      ]
     },
     "execution_count": 7,
     "metadata": {},
     "output_type": "execute_result"
    }
   ],
   "source": [
    "#ตรวจสอบการซ้ำของข้อมูล\n",
    "df.duplicated()"
   ]
  },
  {
   "cell_type": "markdown",
   "metadata": {},
   "source": [
    "#### ทำการหาว่าcolumn ไหนมี Missing Values บ้างและมีค่าว่างเท่าไหร่\n",
    "    พบว่า column city มีค่าว่าง 691 \n",
    "    พบว่า column province มีค่าว่าง 168\n",
    "    พบว่า column recovered มีค่าว่าง 3341"
   ]
  },
  {
   "cell_type": "code",
   "execution_count": 8,
   "metadata": {
    "colab": {
     "base_uri": "https://localhost:8080/",
     "height": 168
    },
    "id": "W7BsDIsSE2QU",
    "outputId": "08e81c43-913c-4a44-823f-c6bc0252b1cb"
   },
   "outputs": [
    {
     "data": {
      "text/plain": [
       "city           691\n",
       "province       168\n",
       "country          0\n",
       "lastUpdate       0\n",
       "keyId            0\n",
       "confirmed        0\n",
       "deaths           0\n",
       "recovered     3341\n",
       "dtype: int64"
      ]
     },
     "execution_count": 8,
     "metadata": {},
     "output_type": "execute_result"
    }
   ],
   "source": [
    "#เช็ค Missing Values\n",
    "df.isnull().sum()"
   ]
  },
  {
   "cell_type": "code",
   "execution_count": 9,
   "metadata": {
    "colab": {
     "base_uri": "https://localhost:8080/",
     "height": 168
    },
    "id": "VTzLO9hIKjyU",
    "outputId": "14cefb53-fda3-45f8-e629-f51df5a5d218",
    "scrolled": true
   },
   "outputs": [
    {
     "data": {
      "text/plain": [
       "city           object\n",
       "province       object\n",
       "country        object\n",
       "lastUpdate     object\n",
       "keyId          object\n",
       "confirmed       int64\n",
       "deaths          int64\n",
       "recovered     float64\n",
       "dtype: object"
      ]
     },
     "execution_count": 9,
     "metadata": {},
     "output_type": "execute_result"
    }
   ],
   "source": [
    "#เช็คประเภทของข้อมูล เพื่อให้ทราบว่าเป็น data type ประเภทไหน\n",
    "df.dtypes"
   ]
  },
  {
   "cell_type": "markdown",
   "metadata": {},
   "source": [
    "    เช็คcolumn country , province เพื่อดูว่าในแต่ละประเทศและในแต่ละเมืองมีกี่เรคคอร์ด"
   ]
  },
  {
   "cell_type": "code",
   "execution_count": 10,
   "metadata": {
    "colab": {
     "base_uri": "https://localhost:8080/",
     "height": 218
    },
    "id": "klK3i2SWFaWE",
    "outputId": "f61711b3-07de-4f53-b4df-79e1ab8e55c7"
   },
   "outputs": [
    {
     "data": {
      "text/plain": [
       "US             3270\n",
       "Russia           83\n",
       "Japan            49\n",
       "India            37\n",
       "Colombia         34\n",
       "               ... \n",
       "Brunei            1\n",
       "Belize            1\n",
       "New Zealand       1\n",
       "Portugal          1\n",
       "Iceland           1\n",
       "Name: country, Length: 188, dtype: int64"
      ]
     },
     "execution_count": 10,
     "metadata": {},
     "output_type": "execute_result"
    }
   ],
   "source": [
    "df['country'].value_counts()"
   ]
  },
  {
   "cell_type": "code",
   "execution_count": 11,
   "metadata": {
    "colab": {
     "base_uri": "https://localhost:8080/",
     "height": 218
    },
    "id": "cx8w9CSOFnxD",
    "outputId": "40fcb8aa-d4ac-4f3b-85d0-f9367b83ed07",
    "scrolled": true
   },
   "outputs": [
    {
     "data": {
      "text/plain": [
       "Texas                    255\n",
       "Georgia                  161\n",
       "Virginia                 134\n",
       "Kentucky                 121\n",
       "Missouri                 117\n",
       "                        ... \n",
       "Friuli Venezia Giulia      1\n",
       "Bahia                      1\n",
       "Lima                       1\n",
       "Risaralda                  1\n",
       "Leningrad Oblast           1\n",
       "Name: province, Length: 562, dtype: int64"
      ]
     },
     "execution_count": 11,
     "metadata": {},
     "output_type": "execute_result"
    }
   ],
   "source": [
    "df['province'].value_counts()"
   ]
  },
  {
   "cell_type": "markdown",
   "metadata": {},
   "source": [
    "#### เช็คค่าที่ไม่สอดคล้องกัน\n",
    "ไม่พบค่าที่ไม่สอดคล้องกัน"
   ]
  },
  {
   "cell_type": "code",
   "execution_count": 12,
   "metadata": {
    "colab": {
     "base_uri": "https://localhost:8080/",
     "height": 1000
    },
    "id": "9NGJWfpsF7uc",
    "outputId": "5cec7aac-cbfb-4525-afea-fb1d56ba68ce",
    "scrolled": true
   },
   "outputs": [
    {
     "name": "stdout",
     "output_type": "stream",
     "text": [
      "Unassigned        51\n",
      "Washington        30\n",
      "Jefferson         26\n",
      "Franklin          25\n",
      "Jackson           24\n",
      "                  ..\n",
      "Gonzales           1\n",
      "Grafton            1\n",
      "Southeast Utah     1\n",
      "Brule              1\n",
      "Fredericksburg     1\n",
      "Name: city, Length: 1919, dtype: int64 \n",
      "\n",
      "Texas                    255\n",
      "Georgia                  161\n",
      "Virginia                 134\n",
      "Kentucky                 121\n",
      "Missouri                 117\n",
      "                        ... \n",
      "Friuli Venezia Giulia      1\n",
      "Bahia                      1\n",
      "Lima                       1\n",
      "Risaralda                  1\n",
      "Leningrad Oblast           1\n",
      "Name: province, Length: 562, dtype: int64 \n",
      "\n",
      "US             3270\n",
      "Russia           83\n",
      "Japan            49\n",
      "India            37\n",
      "Colombia         34\n",
      "               ... \n",
      "Brunei            1\n",
      "Belize            1\n",
      "New Zealand       1\n",
      "Portugal          1\n",
      "Iceland           1\n",
      "Name: country, Length: 188, dtype: int64 \n",
      "\n",
      "2020-10-04T04:23:44+00:00    3952\n",
      "2020-08-04T02:27:56+00:00       2\n",
      "2020-08-07T22:34:20+00:00       1\n",
      "Name: lastUpdate, dtype: int64 \n",
      "\n",
      "Henry, Illinois, US          1\n",
      "Hyde, South Dakota, US       1\n",
      "San Miguel, Colorado, US     1\n",
      "Stavropol Krai, Russia       1\n",
      "Amapa, Brazil                1\n",
      "                            ..\n",
      "Skamania, Washington, US     1\n",
      "Drenthe, Netherlands         1\n",
      "Unassigned, Ohio, US         1\n",
      "Sequatchie, Tennessee, US    1\n",
      "Shiga, Japan                 1\n",
      "Name: keyId, Length: 3955, dtype: int64 \n",
      "\n",
      "0        48\n",
      "18       14\n",
      "13       14\n",
      "36       12\n",
      "59       12\n",
      "         ..\n",
      "5789      1\n",
      "477       1\n",
      "2526      1\n",
      "384       1\n",
      "31451     1\n",
      "Name: confirmed, Length: 2235, dtype: int64 \n",
      "\n",
      "0       644\n",
      "1       314\n",
      "2       210\n",
      "3       185\n",
      "4       139\n",
      "       ... \n",
      "179       1\n",
      "181       1\n",
      "187       1\n",
      "191       1\n",
      "2045      1\n",
      "Name: deaths, Length: 603, dtype: int64 \n",
      "\n",
      "358.0      3\n",
      "651.0      2\n",
      "24.0       2\n",
      "230.0      2\n",
      "383.0      2\n",
      "          ..\n",
      "578.0      1\n",
      "660.0      1\n",
      "1973.0     1\n",
      "13511.0    1\n",
      "96.0       1\n",
      "Name: recovered, Length: 593, dtype: int64 \n",
      "\n"
     ]
    }
   ],
   "source": [
    "for i in df :\n",
    "  print(df[i].value_counts(),'\\n')"
   ]
  },
  {
   "cell_type": "markdown",
   "metadata": {},
   "source": [
    "#### เติมค่า Missing Values\n",
    "    เติมค่าว่างใน column \"city\" = Unknow \n",
    "    เติมค่าว่างใน column \"province\" = Unknow \n",
    "    เติมค่าว่างใน column \"recovered\" = 0\n",
    "    \n"
   ]
  },
  {
   "cell_type": "code",
   "execution_count": 52,
   "metadata": {
    "colab": {
     "base_uri": "https://localhost:8080/",
     "height": 402
    },
    "id": "EAz_4ATQNcHs",
    "outputId": "d2f005f4-ebca-4c20-d4cf-7ab02fea4b10"
   },
   "outputs": [
    {
     "data": {
      "text/html": [
       "<div>\n",
       "<style scoped>\n",
       "    .dataframe tbody tr th:only-of-type {\n",
       "        vertical-align: middle;\n",
       "    }\n",
       "\n",
       "    .dataframe tbody tr th {\n",
       "        vertical-align: top;\n",
       "    }\n",
       "\n",
       "    .dataframe thead th {\n",
       "        text-align: right;\n",
       "    }\n",
       "</style>\n",
       "<table border=\"1\" class=\"dataframe\">\n",
       "  <thead>\n",
       "    <tr style=\"text-align: right;\">\n",
       "      <th></th>\n",
       "      <th>city</th>\n",
       "      <th>province</th>\n",
       "      <th>country</th>\n",
       "      <th>lastUpdate</th>\n",
       "      <th>keyId</th>\n",
       "      <th>confirmed</th>\n",
       "      <th>deaths</th>\n",
       "      <th>recovered</th>\n",
       "    </tr>\n",
       "  </thead>\n",
       "  <tbody>\n",
       "    <tr>\n",
       "      <th>0</th>\n",
       "      <td>Unknown</td>\n",
       "      <td>NaN</td>\n",
       "      <td>Afghanistan</td>\n",
       "      <td>2020-10-04T04:23:44+00:00</td>\n",
       "      <td>Afghanistan</td>\n",
       "      <td>39297</td>\n",
       "      <td>1462</td>\n",
       "      <td>32842.0</td>\n",
       "    </tr>\n",
       "    <tr>\n",
       "      <th>1</th>\n",
       "      <td>Unknown</td>\n",
       "      <td>NaN</td>\n",
       "      <td>Albania</td>\n",
       "      <td>2020-10-04T04:23:44+00:00</td>\n",
       "      <td>Albania</td>\n",
       "      <td>14117</td>\n",
       "      <td>392</td>\n",
       "      <td>8536.0</td>\n",
       "    </tr>\n",
       "    <tr>\n",
       "      <th>2</th>\n",
       "      <td>Unknown</td>\n",
       "      <td>NaN</td>\n",
       "      <td>Algeria</td>\n",
       "      <td>2020-10-04T04:23:44+00:00</td>\n",
       "      <td>Algeria</td>\n",
       "      <td>51995</td>\n",
       "      <td>1756</td>\n",
       "      <td>36482.0</td>\n",
       "    </tr>\n",
       "    <tr>\n",
       "      <th>3</th>\n",
       "      <td>Unknown</td>\n",
       "      <td>NaN</td>\n",
       "      <td>Andorra</td>\n",
       "      <td>2020-10-04T04:23:44+00:00</td>\n",
       "      <td>Andorra</td>\n",
       "      <td>2110</td>\n",
       "      <td>53</td>\n",
       "      <td>1540.0</td>\n",
       "    </tr>\n",
       "    <tr>\n",
       "      <th>4</th>\n",
       "      <td>Unknown</td>\n",
       "      <td>NaN</td>\n",
       "      <td>Angola</td>\n",
       "      <td>2020-10-04T04:23:44+00:00</td>\n",
       "      <td>Angola</td>\n",
       "      <td>5370</td>\n",
       "      <td>193</td>\n",
       "      <td>2436.0</td>\n",
       "    </tr>\n",
       "    <tr>\n",
       "      <th>...</th>\n",
       "      <td>...</td>\n",
       "      <td>...</td>\n",
       "      <td>...</td>\n",
       "      <td>...</td>\n",
       "      <td>...</td>\n",
       "      <td>...</td>\n",
       "      <td>...</td>\n",
       "      <td>...</td>\n",
       "    </tr>\n",
       "    <tr>\n",
       "      <th>3950</th>\n",
       "      <td>Unknown</td>\n",
       "      <td>NaN</td>\n",
       "      <td>West Bank and Gaza</td>\n",
       "      <td>2020-10-04T04:23:44+00:00</td>\n",
       "      <td>West Bank and Gaza</td>\n",
       "      <td>41078</td>\n",
       "      <td>329</td>\n",
       "      <td>33442.0</td>\n",
       "    </tr>\n",
       "    <tr>\n",
       "      <th>3951</th>\n",
       "      <td>Unknown</td>\n",
       "      <td>NaN</td>\n",
       "      <td>Western Sahara</td>\n",
       "      <td>2020-10-04T04:23:44+00:00</td>\n",
       "      <td>Western Sahara</td>\n",
       "      <td>10</td>\n",
       "      <td>1</td>\n",
       "      <td>8.0</td>\n",
       "    </tr>\n",
       "    <tr>\n",
       "      <th>3952</th>\n",
       "      <td>Unknown</td>\n",
       "      <td>NaN</td>\n",
       "      <td>Yemen</td>\n",
       "      <td>2020-10-04T04:23:44+00:00</td>\n",
       "      <td>Yemen</td>\n",
       "      <td>2041</td>\n",
       "      <td>589</td>\n",
       "      <td>1320.0</td>\n",
       "    </tr>\n",
       "    <tr>\n",
       "      <th>3953</th>\n",
       "      <td>Unknown</td>\n",
       "      <td>NaN</td>\n",
       "      <td>Zambia</td>\n",
       "      <td>2020-10-04T04:23:44+00:00</td>\n",
       "      <td>Zambia</td>\n",
       "      <td>14974</td>\n",
       "      <td>333</td>\n",
       "      <td>14094.0</td>\n",
       "    </tr>\n",
       "    <tr>\n",
       "      <th>3954</th>\n",
       "      <td>Unknown</td>\n",
       "      <td>NaN</td>\n",
       "      <td>Zimbabwe</td>\n",
       "      <td>2020-10-04T04:23:44+00:00</td>\n",
       "      <td>Zimbabwe</td>\n",
       "      <td>7885</td>\n",
       "      <td>228</td>\n",
       "      <td>6327.0</td>\n",
       "    </tr>\n",
       "  </tbody>\n",
       "</table>\n",
       "<p>3955 rows × 8 columns</p>\n",
       "</div>"
      ],
      "text/plain": [
       "         city province             country                 lastUpdate  \\\n",
       "0     Unknown      NaN         Afghanistan  2020-10-04T04:23:44+00:00   \n",
       "1     Unknown      NaN             Albania  2020-10-04T04:23:44+00:00   \n",
       "2     Unknown      NaN             Algeria  2020-10-04T04:23:44+00:00   \n",
       "3     Unknown      NaN             Andorra  2020-10-04T04:23:44+00:00   \n",
       "4     Unknown      NaN              Angola  2020-10-04T04:23:44+00:00   \n",
       "...       ...      ...                 ...                        ...   \n",
       "3950  Unknown      NaN  West Bank and Gaza  2020-10-04T04:23:44+00:00   \n",
       "3951  Unknown      NaN      Western Sahara  2020-10-04T04:23:44+00:00   \n",
       "3952  Unknown      NaN               Yemen  2020-10-04T04:23:44+00:00   \n",
       "3953  Unknown      NaN              Zambia  2020-10-04T04:23:44+00:00   \n",
       "3954  Unknown      NaN            Zimbabwe  2020-10-04T04:23:44+00:00   \n",
       "\n",
       "                   keyId  confirmed  deaths  recovered  \n",
       "0            Afghanistan      39297    1462    32842.0  \n",
       "1                Albania      14117     392     8536.0  \n",
       "2                Algeria      51995    1756    36482.0  \n",
       "3                Andorra       2110      53     1540.0  \n",
       "4                 Angola       5370     193     2436.0  \n",
       "...                  ...        ...     ...        ...  \n",
       "3950  West Bank and Gaza      41078     329    33442.0  \n",
       "3951      Western Sahara         10       1        8.0  \n",
       "3952               Yemen       2041     589     1320.0  \n",
       "3953              Zambia      14974     333    14094.0  \n",
       "3954            Zimbabwe       7885     228     6327.0  \n",
       "\n",
       "[3955 rows x 8 columns]"
      ]
     },
     "execution_count": 52,
     "metadata": {},
     "output_type": "execute_result"
    }
   ],
   "source": [
    "#เติมค่าที่หายไปของคอลัมภ์ city ให้เป็น Unknown\n",
    "df[\"city\"]= df[\"city\"].fillna('Unknown')\n",
    "df"
   ]
  },
  {
   "cell_type": "code",
   "execution_count": 16,
   "metadata": {
    "colab": {
     "base_uri": "https://localhost:8080/",
     "height": 402
    },
    "id": "9in8k34jN9qJ",
    "outputId": "5bb72350-d28d-4edf-ee54-c40bff78e0e1"
   },
   "outputs": [
    {
     "data": {
      "text/html": [
       "<div>\n",
       "<style scoped>\n",
       "    .dataframe tbody tr th:only-of-type {\n",
       "        vertical-align: middle;\n",
       "    }\n",
       "\n",
       "    .dataframe tbody tr th {\n",
       "        vertical-align: top;\n",
       "    }\n",
       "\n",
       "    .dataframe thead th {\n",
       "        text-align: right;\n",
       "    }\n",
       "</style>\n",
       "<table border=\"1\" class=\"dataframe\">\n",
       "  <thead>\n",
       "    <tr style=\"text-align: right;\">\n",
       "      <th></th>\n",
       "      <th>city</th>\n",
       "      <th>province</th>\n",
       "      <th>country</th>\n",
       "      <th>lastUpdate</th>\n",
       "      <th>keyId</th>\n",
       "      <th>confirmed</th>\n",
       "      <th>deaths</th>\n",
       "      <th>recovered</th>\n",
       "    </tr>\n",
       "  </thead>\n",
       "  <tbody>\n",
       "    <tr>\n",
       "      <th>0</th>\n",
       "      <td>Unknown</td>\n",
       "      <td>Unknown</td>\n",
       "      <td>Afghanistan</td>\n",
       "      <td>2020-10-04T04:23:44+00:00</td>\n",
       "      <td>Afghanistan</td>\n",
       "      <td>39297</td>\n",
       "      <td>1462</td>\n",
       "      <td>32842.0</td>\n",
       "    </tr>\n",
       "    <tr>\n",
       "      <th>1</th>\n",
       "      <td>Unknown</td>\n",
       "      <td>Unknown</td>\n",
       "      <td>Albania</td>\n",
       "      <td>2020-10-04T04:23:44+00:00</td>\n",
       "      <td>Albania</td>\n",
       "      <td>14117</td>\n",
       "      <td>392</td>\n",
       "      <td>8536.0</td>\n",
       "    </tr>\n",
       "    <tr>\n",
       "      <th>2</th>\n",
       "      <td>Unknown</td>\n",
       "      <td>Unknown</td>\n",
       "      <td>Algeria</td>\n",
       "      <td>2020-10-04T04:23:44+00:00</td>\n",
       "      <td>Algeria</td>\n",
       "      <td>51995</td>\n",
       "      <td>1756</td>\n",
       "      <td>36482.0</td>\n",
       "    </tr>\n",
       "    <tr>\n",
       "      <th>3</th>\n",
       "      <td>Unknown</td>\n",
       "      <td>Unknown</td>\n",
       "      <td>Andorra</td>\n",
       "      <td>2020-10-04T04:23:44+00:00</td>\n",
       "      <td>Andorra</td>\n",
       "      <td>2110</td>\n",
       "      <td>53</td>\n",
       "      <td>1540.0</td>\n",
       "    </tr>\n",
       "    <tr>\n",
       "      <th>4</th>\n",
       "      <td>Unknown</td>\n",
       "      <td>Unknown</td>\n",
       "      <td>Angola</td>\n",
       "      <td>2020-10-04T04:23:44+00:00</td>\n",
       "      <td>Angola</td>\n",
       "      <td>5370</td>\n",
       "      <td>193</td>\n",
       "      <td>2436.0</td>\n",
       "    </tr>\n",
       "    <tr>\n",
       "      <th>...</th>\n",
       "      <td>...</td>\n",
       "      <td>...</td>\n",
       "      <td>...</td>\n",
       "      <td>...</td>\n",
       "      <td>...</td>\n",
       "      <td>...</td>\n",
       "      <td>...</td>\n",
       "      <td>...</td>\n",
       "    </tr>\n",
       "    <tr>\n",
       "      <th>3950</th>\n",
       "      <td>Unknown</td>\n",
       "      <td>Unknown</td>\n",
       "      <td>West Bank and Gaza</td>\n",
       "      <td>2020-10-04T04:23:44+00:00</td>\n",
       "      <td>West Bank and Gaza</td>\n",
       "      <td>41078</td>\n",
       "      <td>329</td>\n",
       "      <td>33442.0</td>\n",
       "    </tr>\n",
       "    <tr>\n",
       "      <th>3951</th>\n",
       "      <td>Unknown</td>\n",
       "      <td>Unknown</td>\n",
       "      <td>Western Sahara</td>\n",
       "      <td>2020-10-04T04:23:44+00:00</td>\n",
       "      <td>Western Sahara</td>\n",
       "      <td>10</td>\n",
       "      <td>1</td>\n",
       "      <td>8.0</td>\n",
       "    </tr>\n",
       "    <tr>\n",
       "      <th>3952</th>\n",
       "      <td>Unknown</td>\n",
       "      <td>Unknown</td>\n",
       "      <td>Yemen</td>\n",
       "      <td>2020-10-04T04:23:44+00:00</td>\n",
       "      <td>Yemen</td>\n",
       "      <td>2041</td>\n",
       "      <td>589</td>\n",
       "      <td>1320.0</td>\n",
       "    </tr>\n",
       "    <tr>\n",
       "      <th>3953</th>\n",
       "      <td>Unknown</td>\n",
       "      <td>Unknown</td>\n",
       "      <td>Zambia</td>\n",
       "      <td>2020-10-04T04:23:44+00:00</td>\n",
       "      <td>Zambia</td>\n",
       "      <td>14974</td>\n",
       "      <td>333</td>\n",
       "      <td>14094.0</td>\n",
       "    </tr>\n",
       "    <tr>\n",
       "      <th>3954</th>\n",
       "      <td>Unknown</td>\n",
       "      <td>Unknown</td>\n",
       "      <td>Zimbabwe</td>\n",
       "      <td>2020-10-04T04:23:44+00:00</td>\n",
       "      <td>Zimbabwe</td>\n",
       "      <td>7885</td>\n",
       "      <td>228</td>\n",
       "      <td>6327.0</td>\n",
       "    </tr>\n",
       "  </tbody>\n",
       "</table>\n",
       "<p>3955 rows × 8 columns</p>\n",
       "</div>"
      ],
      "text/plain": [
       "         city province             country                 lastUpdate  \\\n",
       "0     Unknown  Unknown         Afghanistan  2020-10-04T04:23:44+00:00   \n",
       "1     Unknown  Unknown             Albania  2020-10-04T04:23:44+00:00   \n",
       "2     Unknown  Unknown             Algeria  2020-10-04T04:23:44+00:00   \n",
       "3     Unknown  Unknown             Andorra  2020-10-04T04:23:44+00:00   \n",
       "4     Unknown  Unknown              Angola  2020-10-04T04:23:44+00:00   \n",
       "...       ...      ...                 ...                        ...   \n",
       "3950  Unknown  Unknown  West Bank and Gaza  2020-10-04T04:23:44+00:00   \n",
       "3951  Unknown  Unknown      Western Sahara  2020-10-04T04:23:44+00:00   \n",
       "3952  Unknown  Unknown               Yemen  2020-10-04T04:23:44+00:00   \n",
       "3953  Unknown  Unknown              Zambia  2020-10-04T04:23:44+00:00   \n",
       "3954  Unknown  Unknown            Zimbabwe  2020-10-04T04:23:44+00:00   \n",
       "\n",
       "                   keyId  confirmed  deaths  recovered  \n",
       "0            Afghanistan      39297    1462    32842.0  \n",
       "1                Albania      14117     392     8536.0  \n",
       "2                Algeria      51995    1756    36482.0  \n",
       "3                Andorra       2110      53     1540.0  \n",
       "4                 Angola       5370     193     2436.0  \n",
       "...                  ...        ...     ...        ...  \n",
       "3950  West Bank and Gaza      41078     329    33442.0  \n",
       "3951      Western Sahara         10       1        8.0  \n",
       "3952               Yemen       2041     589     1320.0  \n",
       "3953              Zambia      14974     333    14094.0  \n",
       "3954            Zimbabwe       7885     228     6327.0  \n",
       "\n",
       "[3955 rows x 8 columns]"
      ]
     },
     "execution_count": 16,
     "metadata": {},
     "output_type": "execute_result"
    }
   ],
   "source": [
    "#เติมค่าที่หายไปของคอลัมภ์ province ให้เป็น Unknown\n",
    "df[\"province\"]= df[\"province\"].fillna('Unknown')\n",
    "df"
   ]
  },
  {
   "cell_type": "code",
   "execution_count": 14,
   "metadata": {},
   "outputs": [],
   "source": [
    "#เติมค่าที่หายไปของcloumn recovered ด้วยค่า 0\n",
    "df[\"recovered\"]= df[\"recovered\"].fillna(0)\n"
   ]
  },
  {
   "cell_type": "code",
   "execution_count": 17,
   "metadata": {},
   "outputs": [
    {
     "data": {
      "text/plain": [
       "city          0\n",
       "province      0\n",
       "country       0\n",
       "lastUpdate    0\n",
       "keyId         0\n",
       "confirmed     0\n",
       "deaths        0\n",
       "recovered     0\n",
       "dtype: int64"
      ]
     },
     "execution_count": 17,
     "metadata": {},
     "output_type": "execute_result"
    }
   ],
   "source": [
    "#ทำการเช็คค่าว่างอีกหนึ่งครั้งเพื่อดูว่าค่าว่างได้หายไปแล้ว\n",
    "df.isnull().sum()"
   ]
  },
  {
   "cell_type": "markdown",
   "metadata": {},
   "source": [
    "#### เพิ่ม column Active ประกอบการวิเคราะห์ข้อมูล\n",
    "    เพิ่ม column \"Active\"เนื่องจากต้องการทราบว่าจากยอดผู้ติดเชื้อทั้งหมดยังมีผู้ที่มีชีวิตและยังไม่หายจาก covid-19 กี่คน\n",
    "    โดยใช้ df['Active'] = df['confirmed'] - df['recovered'] -df[\"deaths\"] "
   ]
  },
  {
   "cell_type": "code",
   "execution_count": 18,
   "metadata": {
    "colab": {
     "base_uri": "https://localhost:8080/",
     "height": 195
    },
    "id": "n5Tu3iyuO7ay",
    "outputId": "c5c6261e-b508-45ee-a7fc-f36692a28bc2",
    "scrolled": true
   },
   "outputs": [
    {
     "data": {
      "text/html": [
       "<div>\n",
       "<style scoped>\n",
       "    .dataframe tbody tr th:only-of-type {\n",
       "        vertical-align: middle;\n",
       "    }\n",
       "\n",
       "    .dataframe tbody tr th {\n",
       "        vertical-align: top;\n",
       "    }\n",
       "\n",
       "    .dataframe thead th {\n",
       "        text-align: right;\n",
       "    }\n",
       "</style>\n",
       "<table border=\"1\" class=\"dataframe\">\n",
       "  <thead>\n",
       "    <tr style=\"text-align: right;\">\n",
       "      <th></th>\n",
       "      <th>city</th>\n",
       "      <th>province</th>\n",
       "      <th>country</th>\n",
       "      <th>lastUpdate</th>\n",
       "      <th>keyId</th>\n",
       "      <th>confirmed</th>\n",
       "      <th>deaths</th>\n",
       "      <th>recovered</th>\n",
       "      <th>Active</th>\n",
       "    </tr>\n",
       "  </thead>\n",
       "  <tbody>\n",
       "    <tr>\n",
       "      <th>0</th>\n",
       "      <td>Unknown</td>\n",
       "      <td>Unknown</td>\n",
       "      <td>Afghanistan</td>\n",
       "      <td>2020-10-04T04:23:44+00:00</td>\n",
       "      <td>Afghanistan</td>\n",
       "      <td>39297</td>\n",
       "      <td>1462</td>\n",
       "      <td>32842.0</td>\n",
       "      <td>4993.0</td>\n",
       "    </tr>\n",
       "    <tr>\n",
       "      <th>1</th>\n",
       "      <td>Unknown</td>\n",
       "      <td>Unknown</td>\n",
       "      <td>Albania</td>\n",
       "      <td>2020-10-04T04:23:44+00:00</td>\n",
       "      <td>Albania</td>\n",
       "      <td>14117</td>\n",
       "      <td>392</td>\n",
       "      <td>8536.0</td>\n",
       "      <td>5189.0</td>\n",
       "    </tr>\n",
       "    <tr>\n",
       "      <th>2</th>\n",
       "      <td>Unknown</td>\n",
       "      <td>Unknown</td>\n",
       "      <td>Algeria</td>\n",
       "      <td>2020-10-04T04:23:44+00:00</td>\n",
       "      <td>Algeria</td>\n",
       "      <td>51995</td>\n",
       "      <td>1756</td>\n",
       "      <td>36482.0</td>\n",
       "      <td>13757.0</td>\n",
       "    </tr>\n",
       "    <tr>\n",
       "      <th>3</th>\n",
       "      <td>Unknown</td>\n",
       "      <td>Unknown</td>\n",
       "      <td>Andorra</td>\n",
       "      <td>2020-10-04T04:23:44+00:00</td>\n",
       "      <td>Andorra</td>\n",
       "      <td>2110</td>\n",
       "      <td>53</td>\n",
       "      <td>1540.0</td>\n",
       "      <td>517.0</td>\n",
       "    </tr>\n",
       "    <tr>\n",
       "      <th>4</th>\n",
       "      <td>Unknown</td>\n",
       "      <td>Unknown</td>\n",
       "      <td>Angola</td>\n",
       "      <td>2020-10-04T04:23:44+00:00</td>\n",
       "      <td>Angola</td>\n",
       "      <td>5370</td>\n",
       "      <td>193</td>\n",
       "      <td>2436.0</td>\n",
       "      <td>2741.0</td>\n",
       "    </tr>\n",
       "  </tbody>\n",
       "</table>\n",
       "</div>"
      ],
      "text/plain": [
       "      city province      country                 lastUpdate        keyId  \\\n",
       "0  Unknown  Unknown  Afghanistan  2020-10-04T04:23:44+00:00  Afghanistan   \n",
       "1  Unknown  Unknown      Albania  2020-10-04T04:23:44+00:00      Albania   \n",
       "2  Unknown  Unknown      Algeria  2020-10-04T04:23:44+00:00      Algeria   \n",
       "3  Unknown  Unknown      Andorra  2020-10-04T04:23:44+00:00      Andorra   \n",
       "4  Unknown  Unknown       Angola  2020-10-04T04:23:44+00:00       Angola   \n",
       "\n",
       "   confirmed  deaths  recovered   Active  \n",
       "0      39297    1462    32842.0   4993.0  \n",
       "1      14117     392     8536.0   5189.0  \n",
       "2      51995    1756    36482.0  13757.0  \n",
       "3       2110      53     1540.0    517.0  \n",
       "4       5370     193     2436.0   2741.0  "
      ]
     },
     "execution_count": 18,
     "metadata": {},
     "output_type": "execute_result"
    }
   ],
   "source": [
    "#เพิ่ม cloumn active เพื่อให้รู้ว่ามีคนที่ยังมีชีวิตอยู่กี่คน\n",
    "df['Active'] = df['confirmed'] - df['recovered'] -df[\"deaths\"] \n",
    "df.head()"
   ]
  },
  {
   "cell_type": "markdown",
   "metadata": {},
   "source": [
    "## 2. Analyze & Visualization\n",
    "    เมื่อทำการ cleaned data มาเป็นที่เรียบร้อยก็นำข้อมูลที่ได้มาทำการวิเคราะห์และทำvisualizationเพื่อให้เข้าใจข้อมูลได้ง่ายมายิ่งขึ้น\n"
   ]
  },
  {
   "cell_type": "markdown",
   "metadata": {},
   "source": [
    "    เนื่องจาก API Endpoints ที่ใช้นั้นเป็นข้อมูล covid-19 ที่เก็บทั่วโลก, แต่ละเมือง , แต่ละจังหวัด โดยมียอดผู้ติดเชื้อ[\"confirmed\"] ,ยอดผู้เสียชีวิต[\"deaths\"],\n",
    "    ยอดที่ได้รับการรักษาจนหาย[\"recovered\"]\n",
    "        1. ต้องการทราบยอดผู้ติดเชื้อ, ยอดผู้เสียชีวิต , ยอดผู้ที่ได้รับการรักษาจนหาย ,ยอด Active จึงได้นำเสนอในรูปแบบตาราง ซึ่งเป็นข้อมูลแบบเรียลไทม์"
   ]
  },
  {
   "cell_type": "code",
   "execution_count": 19,
   "metadata": {
    "colab": {
     "base_uri": "https://localhost:8080/",
     "height": 136
    },
    "id": "ERYjnT1bPjj0",
    "outputId": "08f2f527-bd14-4b38-d0cb-bf17cf6fc429"
   },
   "outputs": [
    {
     "data": {
      "text/html": [
       "<div>\n",
       "<style scoped>\n",
       "    .dataframe tbody tr th:only-of-type {\n",
       "        vertical-align: middle;\n",
       "    }\n",
       "\n",
       "    .dataframe tbody tr th {\n",
       "        vertical-align: top;\n",
       "    }\n",
       "\n",
       "    .dataframe thead th {\n",
       "        text-align: right;\n",
       "    }\n",
       "</style>\n",
       "<table border=\"1\" class=\"dataframe\">\n",
       "  <thead>\n",
       "    <tr style=\"text-align: right;\">\n",
       "      <th></th>\n",
       "      <th>lastUpdate</th>\n",
       "      <th>confirmed</th>\n",
       "      <th>deaths</th>\n",
       "      <th>recovered</th>\n",
       "      <th>Active</th>\n",
       "    </tr>\n",
       "  </thead>\n",
       "  <tbody>\n",
       "    <tr>\n",
       "      <th>0</th>\n",
       "      <td>2020-08-04T02:27:56+00:00</td>\n",
       "      <td>152</td>\n",
       "      <td>3</td>\n",
       "      <td>0.0</td>\n",
       "      <td>149.0</td>\n",
       "    </tr>\n",
       "    <tr>\n",
       "      <th>1</th>\n",
       "      <td>2020-08-07T22:34:20+00:00</td>\n",
       "      <td>0</td>\n",
       "      <td>0</td>\n",
       "      <td>0.0</td>\n",
       "      <td>0.0</td>\n",
       "    </tr>\n",
       "    <tr>\n",
       "      <th>2</th>\n",
       "      <td>2020-10-04T04:23:44+00:00</td>\n",
       "      <td>34902348</td>\n",
       "      <td>1033172</td>\n",
       "      <td>24287629.0</td>\n",
       "      <td>9581547.0</td>\n",
       "    </tr>\n",
       "  </tbody>\n",
       "</table>\n",
       "</div>"
      ],
      "text/plain": [
       "                  lastUpdate  confirmed   deaths   recovered     Active\n",
       "0  2020-08-04T02:27:56+00:00        152        3         0.0      149.0\n",
       "1  2020-08-07T22:34:20+00:00          0        0         0.0        0.0\n",
       "2  2020-10-04T04:23:44+00:00   34902348  1033172  24287629.0  9581547.0"
      ]
     },
     "execution_count": 19,
     "metadata": {},
     "output_type": "execute_result"
    }
   ],
   "source": [
    "#group by ข้อมูลที่ถูกเก็บจากล่าสุดเพื่อจะได้รู้จำนวนของยอดผู้ติดเชื้อทั่วโลก\n",
    "Data = df.groupby([\"lastUpdate\"])[[\"confirmed\",\"deaths\",\"recovered\",\"Active\"]].sum().reset_index()\n",
    "Data"
   ]
  },
  {
   "cell_type": "markdown",
   "metadata": {},
   "source": [
    "    เมื่อทำการ groupby แล้วพบว่าข้อมูลยอดผู้ติดเชื้อทั่วโลกอยู่ที่ 34,279,545 คน และยอดผู้เสียชีวิตทั่วโลกอยู่ที่ 1,022,702 คน"
   ]
  },
  {
   "cell_type": "code",
   "execution_count": 54,
   "metadata": {
    "colab": {
     "base_uri": "https://localhost:8080/",
     "height": 542
    },
    "id": "sRyb3CmLGvbg",
    "outputId": "48edb66a-d955-4f8f-de82-ced545e39640",
    "scrolled": true
   },
   "outputs": [
    {
     "data": {
      "application/vnd.plotly.v1+json": {
       "config": {
        "plotlyServerURL": "https://plot.ly"
       },
       "data": [
        {
         "cells": {
          "font": {
           "color": "black",
           "size": 12
          },
          "line": {
           "color": "white"
          },
          "values": [
           "2020-10-04T04:23:44+00:00",
           34902348,
           1033172,
           24287629,
           9581547
          ]
         },
         "header": {
          "values": [
           "lastUpdate",
           "confirmed",
           "deaths",
           "recovered",
           "Active"
          ]
         },
         "type": "table"
        }
       ],
       "layout": {
        "template": {
         "data": {
          "bar": [
           {
            "error_x": {
             "color": "#2a3f5f"
            },
            "error_y": {
             "color": "#2a3f5f"
            },
            "marker": {
             "line": {
              "color": "#E5ECF6",
              "width": 0.5
             }
            },
            "type": "bar"
           }
          ],
          "barpolar": [
           {
            "marker": {
             "line": {
              "color": "#E5ECF6",
              "width": 0.5
             }
            },
            "type": "barpolar"
           }
          ],
          "carpet": [
           {
            "aaxis": {
             "endlinecolor": "#2a3f5f",
             "gridcolor": "white",
             "linecolor": "white",
             "minorgridcolor": "white",
             "startlinecolor": "#2a3f5f"
            },
            "baxis": {
             "endlinecolor": "#2a3f5f",
             "gridcolor": "white",
             "linecolor": "white",
             "minorgridcolor": "white",
             "startlinecolor": "#2a3f5f"
            },
            "type": "carpet"
           }
          ],
          "choropleth": [
           {
            "colorbar": {
             "outlinewidth": 0,
             "ticks": ""
            },
            "type": "choropleth"
           }
          ],
          "contour": [
           {
            "colorbar": {
             "outlinewidth": 0,
             "ticks": ""
            },
            "colorscale": [
             [
              0,
              "#0d0887"
             ],
             [
              0.1111111111111111,
              "#46039f"
             ],
             [
              0.2222222222222222,
              "#7201a8"
             ],
             [
              0.3333333333333333,
              "#9c179e"
             ],
             [
              0.4444444444444444,
              "#bd3786"
             ],
             [
              0.5555555555555556,
              "#d8576b"
             ],
             [
              0.6666666666666666,
              "#ed7953"
             ],
             [
              0.7777777777777778,
              "#fb9f3a"
             ],
             [
              0.8888888888888888,
              "#fdca26"
             ],
             [
              1,
              "#f0f921"
             ]
            ],
            "type": "contour"
           }
          ],
          "contourcarpet": [
           {
            "colorbar": {
             "outlinewidth": 0,
             "ticks": ""
            },
            "type": "contourcarpet"
           }
          ],
          "heatmap": [
           {
            "colorbar": {
             "outlinewidth": 0,
             "ticks": ""
            },
            "colorscale": [
             [
              0,
              "#0d0887"
             ],
             [
              0.1111111111111111,
              "#46039f"
             ],
             [
              0.2222222222222222,
              "#7201a8"
             ],
             [
              0.3333333333333333,
              "#9c179e"
             ],
             [
              0.4444444444444444,
              "#bd3786"
             ],
             [
              0.5555555555555556,
              "#d8576b"
             ],
             [
              0.6666666666666666,
              "#ed7953"
             ],
             [
              0.7777777777777778,
              "#fb9f3a"
             ],
             [
              0.8888888888888888,
              "#fdca26"
             ],
             [
              1,
              "#f0f921"
             ]
            ],
            "type": "heatmap"
           }
          ],
          "heatmapgl": [
           {
            "colorbar": {
             "outlinewidth": 0,
             "ticks": ""
            },
            "colorscale": [
             [
              0,
              "#0d0887"
             ],
             [
              0.1111111111111111,
              "#46039f"
             ],
             [
              0.2222222222222222,
              "#7201a8"
             ],
             [
              0.3333333333333333,
              "#9c179e"
             ],
             [
              0.4444444444444444,
              "#bd3786"
             ],
             [
              0.5555555555555556,
              "#d8576b"
             ],
             [
              0.6666666666666666,
              "#ed7953"
             ],
             [
              0.7777777777777778,
              "#fb9f3a"
             ],
             [
              0.8888888888888888,
              "#fdca26"
             ],
             [
              1,
              "#f0f921"
             ]
            ],
            "type": "heatmapgl"
           }
          ],
          "histogram": [
           {
            "marker": {
             "colorbar": {
              "outlinewidth": 0,
              "ticks": ""
             }
            },
            "type": "histogram"
           }
          ],
          "histogram2d": [
           {
            "colorbar": {
             "outlinewidth": 0,
             "ticks": ""
            },
            "colorscale": [
             [
              0,
              "#0d0887"
             ],
             [
              0.1111111111111111,
              "#46039f"
             ],
             [
              0.2222222222222222,
              "#7201a8"
             ],
             [
              0.3333333333333333,
              "#9c179e"
             ],
             [
              0.4444444444444444,
              "#bd3786"
             ],
             [
              0.5555555555555556,
              "#d8576b"
             ],
             [
              0.6666666666666666,
              "#ed7953"
             ],
             [
              0.7777777777777778,
              "#fb9f3a"
             ],
             [
              0.8888888888888888,
              "#fdca26"
             ],
             [
              1,
              "#f0f921"
             ]
            ],
            "type": "histogram2d"
           }
          ],
          "histogram2dcontour": [
           {
            "colorbar": {
             "outlinewidth": 0,
             "ticks": ""
            },
            "colorscale": [
             [
              0,
              "#0d0887"
             ],
             [
              0.1111111111111111,
              "#46039f"
             ],
             [
              0.2222222222222222,
              "#7201a8"
             ],
             [
              0.3333333333333333,
              "#9c179e"
             ],
             [
              0.4444444444444444,
              "#bd3786"
             ],
             [
              0.5555555555555556,
              "#d8576b"
             ],
             [
              0.6666666666666666,
              "#ed7953"
             ],
             [
              0.7777777777777778,
              "#fb9f3a"
             ],
             [
              0.8888888888888888,
              "#fdca26"
             ],
             [
              1,
              "#f0f921"
             ]
            ],
            "type": "histogram2dcontour"
           }
          ],
          "mesh3d": [
           {
            "colorbar": {
             "outlinewidth": 0,
             "ticks": ""
            },
            "type": "mesh3d"
           }
          ],
          "parcoords": [
           {
            "line": {
             "colorbar": {
              "outlinewidth": 0,
              "ticks": ""
             }
            },
            "type": "parcoords"
           }
          ],
          "pie": [
           {
            "automargin": true,
            "type": "pie"
           }
          ],
          "scatter": [
           {
            "marker": {
             "colorbar": {
              "outlinewidth": 0,
              "ticks": ""
             }
            },
            "type": "scatter"
           }
          ],
          "scatter3d": [
           {
            "line": {
             "colorbar": {
              "outlinewidth": 0,
              "ticks": ""
             }
            },
            "marker": {
             "colorbar": {
              "outlinewidth": 0,
              "ticks": ""
             }
            },
            "type": "scatter3d"
           }
          ],
          "scattercarpet": [
           {
            "marker": {
             "colorbar": {
              "outlinewidth": 0,
              "ticks": ""
             }
            },
            "type": "scattercarpet"
           }
          ],
          "scattergeo": [
           {
            "marker": {
             "colorbar": {
              "outlinewidth": 0,
              "ticks": ""
             }
            },
            "type": "scattergeo"
           }
          ],
          "scattergl": [
           {
            "marker": {
             "colorbar": {
              "outlinewidth": 0,
              "ticks": ""
             }
            },
            "type": "scattergl"
           }
          ],
          "scattermapbox": [
           {
            "marker": {
             "colorbar": {
              "outlinewidth": 0,
              "ticks": ""
             }
            },
            "type": "scattermapbox"
           }
          ],
          "scatterpolar": [
           {
            "marker": {
             "colorbar": {
              "outlinewidth": 0,
              "ticks": ""
             }
            },
            "type": "scatterpolar"
           }
          ],
          "scatterpolargl": [
           {
            "marker": {
             "colorbar": {
              "outlinewidth": 0,
              "ticks": ""
             }
            },
            "type": "scatterpolargl"
           }
          ],
          "scatterternary": [
           {
            "marker": {
             "colorbar": {
              "outlinewidth": 0,
              "ticks": ""
             }
            },
            "type": "scatterternary"
           }
          ],
          "surface": [
           {
            "colorbar": {
             "outlinewidth": 0,
             "ticks": ""
            },
            "colorscale": [
             [
              0,
              "#0d0887"
             ],
             [
              0.1111111111111111,
              "#46039f"
             ],
             [
              0.2222222222222222,
              "#7201a8"
             ],
             [
              0.3333333333333333,
              "#9c179e"
             ],
             [
              0.4444444444444444,
              "#bd3786"
             ],
             [
              0.5555555555555556,
              "#d8576b"
             ],
             [
              0.6666666666666666,
              "#ed7953"
             ],
             [
              0.7777777777777778,
              "#fb9f3a"
             ],
             [
              0.8888888888888888,
              "#fdca26"
             ],
             [
              1,
              "#f0f921"
             ]
            ],
            "type": "surface"
           }
          ],
          "table": [
           {
            "cells": {
             "fill": {
              "color": "#EBF0F8"
             },
             "line": {
              "color": "white"
             }
            },
            "header": {
             "fill": {
              "color": "#C8D4E3"
             },
             "line": {
              "color": "white"
             }
            },
            "type": "table"
           }
          ]
         },
         "layout": {
          "annotationdefaults": {
           "arrowcolor": "#2a3f5f",
           "arrowhead": 0,
           "arrowwidth": 1
          },
          "coloraxis": {
           "colorbar": {
            "outlinewidth": 0,
            "ticks": ""
           }
          },
          "colorscale": {
           "diverging": [
            [
             0,
             "#8e0152"
            ],
            [
             0.1,
             "#c51b7d"
            ],
            [
             0.2,
             "#de77ae"
            ],
            [
             0.3,
             "#f1b6da"
            ],
            [
             0.4,
             "#fde0ef"
            ],
            [
             0.5,
             "#f7f7f7"
            ],
            [
             0.6,
             "#e6f5d0"
            ],
            [
             0.7,
             "#b8e186"
            ],
            [
             0.8,
             "#7fbc41"
            ],
            [
             0.9,
             "#4d9221"
            ],
            [
             1,
             "#276419"
            ]
           ],
           "sequential": [
            [
             0,
             "#0d0887"
            ],
            [
             0.1111111111111111,
             "#46039f"
            ],
            [
             0.2222222222222222,
             "#7201a8"
            ],
            [
             0.3333333333333333,
             "#9c179e"
            ],
            [
             0.4444444444444444,
             "#bd3786"
            ],
            [
             0.5555555555555556,
             "#d8576b"
            ],
            [
             0.6666666666666666,
             "#ed7953"
            ],
            [
             0.7777777777777778,
             "#fb9f3a"
            ],
            [
             0.8888888888888888,
             "#fdca26"
            ],
            [
             1,
             "#f0f921"
            ]
           ],
           "sequentialminus": [
            [
             0,
             "#0d0887"
            ],
            [
             0.1111111111111111,
             "#46039f"
            ],
            [
             0.2222222222222222,
             "#7201a8"
            ],
            [
             0.3333333333333333,
             "#9c179e"
            ],
            [
             0.4444444444444444,
             "#bd3786"
            ],
            [
             0.5555555555555556,
             "#d8576b"
            ],
            [
             0.6666666666666666,
             "#ed7953"
            ],
            [
             0.7777777777777778,
             "#fb9f3a"
            ],
            [
             0.8888888888888888,
             "#fdca26"
            ],
            [
             1,
             "#f0f921"
            ]
           ]
          },
          "colorway": [
           "#636efa",
           "#EF553B",
           "#00cc96",
           "#ab63fa",
           "#FFA15A",
           "#19d3f3",
           "#FF6692",
           "#B6E880",
           "#FF97FF",
           "#FECB52"
          ],
          "font": {
           "color": "#2a3f5f"
          },
          "geo": {
           "bgcolor": "white",
           "lakecolor": "white",
           "landcolor": "#E5ECF6",
           "showlakes": true,
           "showland": true,
           "subunitcolor": "white"
          },
          "hoverlabel": {
           "align": "left"
          },
          "hovermode": "closest",
          "mapbox": {
           "style": "light"
          },
          "paper_bgcolor": "white",
          "plot_bgcolor": "#E5ECF6",
          "polar": {
           "angularaxis": {
            "gridcolor": "white",
            "linecolor": "white",
            "ticks": ""
           },
           "bgcolor": "#E5ECF6",
           "radialaxis": {
            "gridcolor": "white",
            "linecolor": "white",
            "ticks": ""
           }
          },
          "scene": {
           "xaxis": {
            "backgroundcolor": "#E5ECF6",
            "gridcolor": "white",
            "gridwidth": 2,
            "linecolor": "white",
            "showbackground": true,
            "ticks": "",
            "zerolinecolor": "white"
           },
           "yaxis": {
            "backgroundcolor": "#E5ECF6",
            "gridcolor": "white",
            "gridwidth": 2,
            "linecolor": "white",
            "showbackground": true,
            "ticks": "",
            "zerolinecolor": "white"
           },
           "zaxis": {
            "backgroundcolor": "#E5ECF6",
            "gridcolor": "white",
            "gridwidth": 2,
            "linecolor": "white",
            "showbackground": true,
            "ticks": "",
            "zerolinecolor": "white"
           }
          },
          "shapedefaults": {
           "line": {
            "color": "#2a3f5f"
           }
          },
          "ternary": {
           "aaxis": {
            "gridcolor": "white",
            "linecolor": "white",
            "ticks": ""
           },
           "baxis": {
            "gridcolor": "white",
            "linecolor": "white",
            "ticks": ""
           },
           "bgcolor": "#E5ECF6",
           "caxis": {
            "gridcolor": "white",
            "linecolor": "white",
            "ticks": ""
           }
          },
          "title": {
           "x": 0.05
          },
          "xaxis": {
           "automargin": true,
           "gridcolor": "white",
           "linecolor": "white",
           "ticks": "",
           "title": {
            "standoff": 15
           },
           "zerolinecolor": "white",
           "zerolinewidth": 2
          },
          "yaxis": {
           "automargin": true,
           "gridcolor": "white",
           "linecolor": "white",
           "ticks": "",
           "title": {
            "standoff": 15
           },
           "zerolinecolor": "white",
           "zerolinewidth": 2
          }
         }
        },
        "title": {
         "text": "Covid-19 Last Update : 34902348"
        }
       }
      },
      "text/html": [
       "<div>                            <div id=\"963a9e33-bdf4-4d70-b861-7d69958c9793\" class=\"plotly-graph-div\" style=\"height:525px; width:100%;\"></div>            <script type=\"text/javascript\">                require([\"plotly\"], function(Plotly) {                    window.PLOTLYENV=window.PLOTLYENV || {};                                    if (document.getElementById(\"963a9e33-bdf4-4d70-b861-7d69958c9793\")) {                    Plotly.newPlot(                        \"963a9e33-bdf4-4d70-b861-7d69958c9793\",                        [{\"cells\": {\"font\": {\"color\": \"black\", \"size\": 12}, \"line\": {\"color\": \"white\"}, \"values\": [\"2020-10-04T04:23:44+00:00\", 34902348, 1033172, 24287629.0, 9581547.0]}, \"header\": {\"values\": [\"lastUpdate\", \"confirmed\", \"deaths\", \"recovered\", \"Active\"]}, \"type\": \"table\"}],                        {\"template\": {\"data\": {\"bar\": [{\"error_x\": {\"color\": \"#2a3f5f\"}, \"error_y\": {\"color\": \"#2a3f5f\"}, \"marker\": {\"line\": {\"color\": \"#E5ECF6\", \"width\": 0.5}}, \"type\": \"bar\"}], \"barpolar\": [{\"marker\": {\"line\": {\"color\": \"#E5ECF6\", \"width\": 0.5}}, \"type\": \"barpolar\"}], \"carpet\": [{\"aaxis\": {\"endlinecolor\": \"#2a3f5f\", \"gridcolor\": \"white\", \"linecolor\": \"white\", \"minorgridcolor\": \"white\", \"startlinecolor\": \"#2a3f5f\"}, \"baxis\": {\"endlinecolor\": \"#2a3f5f\", \"gridcolor\": \"white\", \"linecolor\": \"white\", \"minorgridcolor\": \"white\", \"startlinecolor\": \"#2a3f5f\"}, \"type\": \"carpet\"}], \"choropleth\": [{\"colorbar\": {\"outlinewidth\": 0, \"ticks\": \"\"}, \"type\": \"choropleth\"}], \"contour\": [{\"colorbar\": {\"outlinewidth\": 0, \"ticks\": \"\"}, \"colorscale\": [[0.0, \"#0d0887\"], [0.1111111111111111, \"#46039f\"], [0.2222222222222222, \"#7201a8\"], [0.3333333333333333, \"#9c179e\"], [0.4444444444444444, \"#bd3786\"], [0.5555555555555556, \"#d8576b\"], [0.6666666666666666, \"#ed7953\"], [0.7777777777777778, \"#fb9f3a\"], [0.8888888888888888, \"#fdca26\"], [1.0, \"#f0f921\"]], \"type\": \"contour\"}], \"contourcarpet\": [{\"colorbar\": {\"outlinewidth\": 0, \"ticks\": \"\"}, \"type\": \"contourcarpet\"}], \"heatmap\": [{\"colorbar\": {\"outlinewidth\": 0, \"ticks\": \"\"}, \"colorscale\": [[0.0, \"#0d0887\"], [0.1111111111111111, \"#46039f\"], [0.2222222222222222, \"#7201a8\"], [0.3333333333333333, \"#9c179e\"], [0.4444444444444444, \"#bd3786\"], [0.5555555555555556, \"#d8576b\"], [0.6666666666666666, \"#ed7953\"], [0.7777777777777778, \"#fb9f3a\"], [0.8888888888888888, \"#fdca26\"], [1.0, \"#f0f921\"]], \"type\": \"heatmap\"}], \"heatmapgl\": [{\"colorbar\": {\"outlinewidth\": 0, \"ticks\": \"\"}, \"colorscale\": [[0.0, \"#0d0887\"], [0.1111111111111111, \"#46039f\"], [0.2222222222222222, \"#7201a8\"], [0.3333333333333333, \"#9c179e\"], [0.4444444444444444, \"#bd3786\"], [0.5555555555555556, \"#d8576b\"], [0.6666666666666666, \"#ed7953\"], [0.7777777777777778, \"#fb9f3a\"], [0.8888888888888888, \"#fdca26\"], [1.0, \"#f0f921\"]], \"type\": \"heatmapgl\"}], \"histogram\": [{\"marker\": {\"colorbar\": {\"outlinewidth\": 0, \"ticks\": \"\"}}, \"type\": \"histogram\"}], \"histogram2d\": [{\"colorbar\": {\"outlinewidth\": 0, \"ticks\": \"\"}, \"colorscale\": [[0.0, \"#0d0887\"], [0.1111111111111111, \"#46039f\"], [0.2222222222222222, \"#7201a8\"], [0.3333333333333333, \"#9c179e\"], [0.4444444444444444, \"#bd3786\"], [0.5555555555555556, \"#d8576b\"], [0.6666666666666666, \"#ed7953\"], [0.7777777777777778, \"#fb9f3a\"], [0.8888888888888888, \"#fdca26\"], [1.0, \"#f0f921\"]], \"type\": \"histogram2d\"}], \"histogram2dcontour\": [{\"colorbar\": {\"outlinewidth\": 0, \"ticks\": \"\"}, \"colorscale\": [[0.0, \"#0d0887\"], [0.1111111111111111, \"#46039f\"], [0.2222222222222222, \"#7201a8\"], [0.3333333333333333, \"#9c179e\"], [0.4444444444444444, \"#bd3786\"], [0.5555555555555556, \"#d8576b\"], [0.6666666666666666, \"#ed7953\"], [0.7777777777777778, \"#fb9f3a\"], [0.8888888888888888, \"#fdca26\"], [1.0, \"#f0f921\"]], \"type\": \"histogram2dcontour\"}], \"mesh3d\": [{\"colorbar\": {\"outlinewidth\": 0, \"ticks\": \"\"}, \"type\": \"mesh3d\"}], \"parcoords\": [{\"line\": {\"colorbar\": {\"outlinewidth\": 0, \"ticks\": \"\"}}, \"type\": \"parcoords\"}], \"pie\": [{\"automargin\": true, \"type\": \"pie\"}], \"scatter\": [{\"marker\": {\"colorbar\": {\"outlinewidth\": 0, \"ticks\": \"\"}}, \"type\": \"scatter\"}], \"scatter3d\": [{\"line\": {\"colorbar\": {\"outlinewidth\": 0, \"ticks\": \"\"}}, \"marker\": {\"colorbar\": {\"outlinewidth\": 0, \"ticks\": \"\"}}, \"type\": \"scatter3d\"}], \"scattercarpet\": [{\"marker\": {\"colorbar\": {\"outlinewidth\": 0, \"ticks\": \"\"}}, \"type\": \"scattercarpet\"}], \"scattergeo\": [{\"marker\": {\"colorbar\": {\"outlinewidth\": 0, \"ticks\": \"\"}}, \"type\": \"scattergeo\"}], \"scattergl\": [{\"marker\": {\"colorbar\": {\"outlinewidth\": 0, \"ticks\": \"\"}}, \"type\": \"scattergl\"}], \"scattermapbox\": [{\"marker\": {\"colorbar\": {\"outlinewidth\": 0, \"ticks\": \"\"}}, \"type\": \"scattermapbox\"}], \"scatterpolar\": [{\"marker\": {\"colorbar\": {\"outlinewidth\": 0, \"ticks\": \"\"}}, \"type\": \"scatterpolar\"}], \"scatterpolargl\": [{\"marker\": {\"colorbar\": {\"outlinewidth\": 0, \"ticks\": \"\"}}, \"type\": \"scatterpolargl\"}], \"scatterternary\": [{\"marker\": {\"colorbar\": {\"outlinewidth\": 0, \"ticks\": \"\"}}, \"type\": \"scatterternary\"}], \"surface\": [{\"colorbar\": {\"outlinewidth\": 0, \"ticks\": \"\"}, \"colorscale\": [[0.0, \"#0d0887\"], [0.1111111111111111, \"#46039f\"], [0.2222222222222222, \"#7201a8\"], [0.3333333333333333, \"#9c179e\"], [0.4444444444444444, \"#bd3786\"], [0.5555555555555556, \"#d8576b\"], [0.6666666666666666, \"#ed7953\"], [0.7777777777777778, \"#fb9f3a\"], [0.8888888888888888, \"#fdca26\"], [1.0, \"#f0f921\"]], \"type\": \"surface\"}], \"table\": [{\"cells\": {\"fill\": {\"color\": \"#EBF0F8\"}, \"line\": {\"color\": \"white\"}}, \"header\": {\"fill\": {\"color\": \"#C8D4E3\"}, \"line\": {\"color\": \"white\"}}, \"type\": \"table\"}]}, \"layout\": {\"annotationdefaults\": {\"arrowcolor\": \"#2a3f5f\", \"arrowhead\": 0, \"arrowwidth\": 1}, \"coloraxis\": {\"colorbar\": {\"outlinewidth\": 0, \"ticks\": \"\"}}, \"colorscale\": {\"diverging\": [[0, \"#8e0152\"], [0.1, \"#c51b7d\"], [0.2, \"#de77ae\"], [0.3, \"#f1b6da\"], [0.4, \"#fde0ef\"], [0.5, \"#f7f7f7\"], [0.6, \"#e6f5d0\"], [0.7, \"#b8e186\"], [0.8, \"#7fbc41\"], [0.9, \"#4d9221\"], [1, \"#276419\"]], \"sequential\": [[0.0, \"#0d0887\"], [0.1111111111111111, \"#46039f\"], [0.2222222222222222, \"#7201a8\"], [0.3333333333333333, \"#9c179e\"], [0.4444444444444444, \"#bd3786\"], [0.5555555555555556, \"#d8576b\"], [0.6666666666666666, \"#ed7953\"], [0.7777777777777778, \"#fb9f3a\"], [0.8888888888888888, \"#fdca26\"], [1.0, \"#f0f921\"]], \"sequentialminus\": [[0.0, \"#0d0887\"], [0.1111111111111111, \"#46039f\"], [0.2222222222222222, \"#7201a8\"], [0.3333333333333333, \"#9c179e\"], [0.4444444444444444, \"#bd3786\"], [0.5555555555555556, \"#d8576b\"], [0.6666666666666666, \"#ed7953\"], [0.7777777777777778, \"#fb9f3a\"], [0.8888888888888888, \"#fdca26\"], [1.0, \"#f0f921\"]]}, \"colorway\": [\"#636efa\", \"#EF553B\", \"#00cc96\", \"#ab63fa\", \"#FFA15A\", \"#19d3f3\", \"#FF6692\", \"#B6E880\", \"#FF97FF\", \"#FECB52\"], \"font\": {\"color\": \"#2a3f5f\"}, \"geo\": {\"bgcolor\": \"white\", \"lakecolor\": \"white\", \"landcolor\": \"#E5ECF6\", \"showlakes\": true, \"showland\": true, \"subunitcolor\": \"white\"}, \"hoverlabel\": {\"align\": \"left\"}, \"hovermode\": \"closest\", \"mapbox\": {\"style\": \"light\"}, \"paper_bgcolor\": \"white\", \"plot_bgcolor\": \"#E5ECF6\", \"polar\": {\"angularaxis\": {\"gridcolor\": \"white\", \"linecolor\": \"white\", \"ticks\": \"\"}, \"bgcolor\": \"#E5ECF6\", \"radialaxis\": {\"gridcolor\": \"white\", \"linecolor\": \"white\", \"ticks\": \"\"}}, \"scene\": {\"xaxis\": {\"backgroundcolor\": \"#E5ECF6\", \"gridcolor\": \"white\", \"gridwidth\": 2, \"linecolor\": \"white\", \"showbackground\": true, \"ticks\": \"\", \"zerolinecolor\": \"white\"}, \"yaxis\": {\"backgroundcolor\": \"#E5ECF6\", \"gridcolor\": \"white\", \"gridwidth\": 2, \"linecolor\": \"white\", \"showbackground\": true, \"ticks\": \"\", \"zerolinecolor\": \"white\"}, \"zaxis\": {\"backgroundcolor\": \"#E5ECF6\", \"gridcolor\": \"white\", \"gridwidth\": 2, \"linecolor\": \"white\", \"showbackground\": true, \"ticks\": \"\", \"zerolinecolor\": \"white\"}}, \"shapedefaults\": {\"line\": {\"color\": \"#2a3f5f\"}}, \"ternary\": {\"aaxis\": {\"gridcolor\": \"white\", \"linecolor\": \"white\", \"ticks\": \"\"}, \"baxis\": {\"gridcolor\": \"white\", \"linecolor\": \"white\", \"ticks\": \"\"}, \"bgcolor\": \"#E5ECF6\", \"caxis\": {\"gridcolor\": \"white\", \"linecolor\": \"white\", \"ticks\": \"\"}}, \"title\": {\"x\": 0.05}, \"xaxis\": {\"automargin\": true, \"gridcolor\": \"white\", \"linecolor\": \"white\", \"ticks\": \"\", \"title\": {\"standoff\": 15}, \"zerolinecolor\": \"white\", \"zerolinewidth\": 2}, \"yaxis\": {\"automargin\": true, \"gridcolor\": \"white\", \"linecolor\": \"white\", \"ticks\": \"\", \"title\": {\"standoff\": 15}, \"zerolinecolor\": \"white\", \"zerolinewidth\": 2}}}, \"title\": {\"text\": \"Covid-19 Last Update : 34902348\"}},                        {\"responsive\": true}                    ).then(function(){\n",
       "                            \n",
       "var gd = document.getElementById('963a9e33-bdf4-4d70-b861-7d69958c9793');\n",
       "var x = new MutationObserver(function (mutations, observer) {{\n",
       "        var display = window.getComputedStyle(gd).display;\n",
       "        if (!display || display === 'none') {{\n",
       "            console.log([gd, 'removed!']);\n",
       "            Plotly.purge(gd);\n",
       "            observer.disconnect();\n",
       "        }}\n",
       "}});\n",
       "\n",
       "// Listen for the removal of the full notebook cells\n",
       "var notebookContainer = gd.closest('#notebook-container');\n",
       "if (notebookContainer) {{\n",
       "    x.observe(notebookContainer, {childList: true});\n",
       "}}\n",
       "\n",
       "// Listen for the clearing of the current output cell\n",
       "var outputEl = gd.closest('.output');\n",
       "if (outputEl) {{\n",
       "    x.observe(outputEl, {childList: true});\n",
       "}}\n",
       "\n",
       "                        })                };                });            </script>        </div>"
      ]
     },
     "metadata": {},
     "output_type": "display_data"
    }
   ],
   "source": [
    "#ทำตารางขึ้นมาให้รู้จำนวน คอนเฟิร์ม(ว่าเป็น covid), ตาย, หายแล้ว, ที่ยังมีชีวิตอยู่\n",
    "\n",
    "labels = [\"lastUpdate\",\"confirmed\",\"deaths\",\"recovered\",\"Active\"]\n",
    "fig = go.Figure(data=[go.Table(header=dict(values=labels),\n",
    "                               \n",
    "                            \n",
    "                     \n",
    "                 cells=dict(values=Data.loc[2,[\"lastUpdate\",\"confirmed\",\"deaths\",\"recovered\",\"Active\"]],\n",
    "                             line_color='white',\n",
    "                            font = dict(color = 'black', size = 12)))\n",
    "                     ])\n",
    "fig.update_layout(\n",
    "    title='Covid-19 Last Update : '+ str(Data[\"confirmed\"][2]),\n",
    ")\n",
    "fig.show()\n",
    "\n",
    "\n"
   ]
  },
  {
   "cell_type": "markdown",
   "metadata": {},
   "source": [
    "    เมื่อทราบจำนวนผู้ติดเชื้อทั้งโลกแล้ว ก็ทำการมองข้อมูลให้แคบลงไปอีกด้วยการมองจำนวนผู้ติดเชื้อในแต่ละประเทศ\n",
    "       2. ต้องการทราบยอดผู้ติดเชื้อ ยอดที่ได้รับการรักษาจนหาย ยอดผู้เสียชีวิต ของแต่ละประเทศทั่วโลก\n",
    "   โดยทำการ groupby แล้วเรียงข้อมูลจากมากไปน้อยด้วยยอดผู้เสียชีวิต"
   ]
  },
  {
   "cell_type": "code",
   "execution_count": 21,
   "metadata": {
    "colab": {
     "base_uri": "https://localhost:8080/",
     "height": 469
    },
    "id": "-_aiVOiKVgTQ",
    "outputId": "f7ed491a-1323-4fe6-d1ff-848d54d6a69b"
   },
   "outputs": [
    {
     "data": {
      "text/html": [
       "<div>\n",
       "<style scoped>\n",
       "    .dataframe tbody tr th:only-of-type {\n",
       "        vertical-align: middle;\n",
       "    }\n",
       "\n",
       "    .dataframe tbody tr th {\n",
       "        vertical-align: top;\n",
       "    }\n",
       "\n",
       "    .dataframe thead th {\n",
       "        text-align: right;\n",
       "    }\n",
       "</style>\n",
       "<table border=\"1\" class=\"dataframe\">\n",
       "  <thead>\n",
       "    <tr style=\"text-align: right;\">\n",
       "      <th></th>\n",
       "      <th>country</th>\n",
       "      <th>confirmed</th>\n",
       "      <th>recovered</th>\n",
       "      <th>deaths</th>\n",
       "    </tr>\n",
       "  </thead>\n",
       "  <tbody>\n",
       "    <tr>\n",
       "      <th>0</th>\n",
       "      <td>US</td>\n",
       "      <td>7382194</td>\n",
       "      <td>2897322.0</td>\n",
       "      <td>209382</td>\n",
       "    </tr>\n",
       "    <tr>\n",
       "      <th>1</th>\n",
       "      <td>Brazil</td>\n",
       "      <td>4906833</td>\n",
       "      <td>4361108.0</td>\n",
       "      <td>145987</td>\n",
       "    </tr>\n",
       "    <tr>\n",
       "      <th>2</th>\n",
       "      <td>India</td>\n",
       "      <td>6549373</td>\n",
       "      <td>5509966.0</td>\n",
       "      <td>101782</td>\n",
       "    </tr>\n",
       "    <tr>\n",
       "      <th>3</th>\n",
       "      <td>Mexico</td>\n",
       "      <td>757953</td>\n",
       "      <td>637993.0</td>\n",
       "      <td>78880</td>\n",
       "    </tr>\n",
       "    <tr>\n",
       "      <th>4</th>\n",
       "      <td>United Kingdom</td>\n",
       "      <td>482654</td>\n",
       "      <td>2396.0</td>\n",
       "      <td>42407</td>\n",
       "    </tr>\n",
       "    <tr>\n",
       "      <th>...</th>\n",
       "      <td>...</td>\n",
       "      <td>...</td>\n",
       "      <td>...</td>\n",
       "      <td>...</td>\n",
       "    </tr>\n",
       "    <tr>\n",
       "      <th>183</th>\n",
       "      <td>Seychelles</td>\n",
       "      <td>146</td>\n",
       "      <td>143.0</td>\n",
       "      <td>0</td>\n",
       "    </tr>\n",
       "    <tr>\n",
       "      <th>184</th>\n",
       "      <td>Cambodia</td>\n",
       "      <td>278</td>\n",
       "      <td>275.0</td>\n",
       "      <td>0</td>\n",
       "    </tr>\n",
       "    <tr>\n",
       "      <th>185</th>\n",
       "      <td>Eritrea</td>\n",
       "      <td>398</td>\n",
       "      <td>358.0</td>\n",
       "      <td>0</td>\n",
       "    </tr>\n",
       "    <tr>\n",
       "      <th>186</th>\n",
       "      <td>Laos</td>\n",
       "      <td>23</td>\n",
       "      <td>22.0</td>\n",
       "      <td>0</td>\n",
       "    </tr>\n",
       "    <tr>\n",
       "      <th>187</th>\n",
       "      <td>Dominica</td>\n",
       "      <td>31</td>\n",
       "      <td>24.0</td>\n",
       "      <td>0</td>\n",
       "    </tr>\n",
       "  </tbody>\n",
       "</table>\n",
       "<p>188 rows × 4 columns</p>\n",
       "</div>"
      ],
      "text/plain": [
       "            country  confirmed  recovered  deaths\n",
       "0                US    7382194  2897322.0  209382\n",
       "1            Brazil    4906833  4361108.0  145987\n",
       "2             India    6549373  5509966.0  101782\n",
       "3            Mexico     757953   637993.0   78880\n",
       "4    United Kingdom     482654     2396.0   42407\n",
       "..              ...        ...        ...     ...\n",
       "183      Seychelles        146      143.0       0\n",
       "184        Cambodia        278      275.0       0\n",
       "185         Eritrea        398      358.0       0\n",
       "186            Laos         23       22.0       0\n",
       "187        Dominica         31       24.0       0\n",
       "\n",
       "[188 rows x 4 columns]"
      ]
     },
     "execution_count": 21,
     "metadata": {},
     "output_type": "execute_result"
    }
   ],
   "source": [
    "#ยอด confirmed , recovered , deaths จากแต่ะประเทศทั่วโลก\n",
    "Data_country = df.groupby([\"country\"])[\"confirmed\",\"recovered\",\"deaths\"].sum().reset_index().sort_values(\"deaths\",ascending=False).reset_index(drop=True)\n",
    "Data_country "
   ]
  },
  {
   "cell_type": "markdown",
   "metadata": {},
   "source": [
    "    เมื่อได้รับ output ออกมาพบว่า ประเทศที่ยอดผู้เสียชีวิตมากที่สุดคือ US , Brazil และยอดผู้เสียชีวิตของประเทศไทยอยู่ที่ 59 คน\n",
    "    จึงได้ทำการนำเสนอในรูปแบบตาราง :\n",
    "    \n",
    " ### Deaths by Contries\n",
    "    "
   ]
  },
  {
   "cell_type": "code",
   "execution_count": 57,
   "metadata": {
    "colab": {
     "base_uri": "https://localhost:8080/",
     "height": 542
    },
    "id": "WH-IHJ8_n4in",
    "outputId": "bfba6070-c7e6-44a5-f079-3a6df0c76e45",
    "scrolled": false
   },
   "outputs": [
    {
     "data": {
      "application/vnd.plotly.v1+json": {
       "config": {
        "plotlyServerURL": "https://plot.ly"
       },
       "data": [
        {
         "cells": {
          "align": [
           "center",
           "center"
          ],
          "fill": {
           "color": "#decdc3"
          },
          "font": {
           "color": "darkslategray",
           "size": 12
          },
          "line": {
           "color": "white"
          },
          "values": [
           [
            "US",
            "Brazil",
            "India",
            "Mexico",
            "United Kingdom",
            "Italy",
            "Peru",
            "France",
            "Spain",
            "Iran",
            "Colombia",
            "Russia",
            "Argentina",
            "South Africa",
            "Chile",
            "Ecuador",
            "Indonesia",
            "Belgium",
            "Germany",
            "Canada",
            "Iraq",
            "Turkey",
            "Bolivia",
            "Pakistan",
            "Netherlands",
            "Egypt",
            "Sweden",
            "Philippines",
            "Bangladesh",
            "Romania",
            "Saudi Arabia",
            "China",
            "Ukraine",
            "Guatemala",
            "Poland",
            "Panama",
            "Honduras",
            "Morocco",
            "Dominican Republic",
            "Switzerland",
            "Portugal",
            "Ireland",
            "Algeria",
            "Kazakhstan",
            "Israel",
            "Japan",
            "Afghanistan",
            "Moldova",
            "Ethiopia",
            "Nigeria",
            "Kyrgyzstan",
            "Armenia",
            "Costa Rica",
            "Oman",
            "Paraguay",
            "Australia",
            "Bosnia and Herzegovina",
            "El Salvador",
            "Belarus",
            "Bulgaria",
            "Sudan",
            "Hungary",
            "Austria",
            "North Macedonia",
            "Serbia",
            "Kenya",
            "Czechia",
            "Denmark",
            "Venezuela",
            "Kuwait",
            "Azerbaijan",
            "Yemen",
            "Libya",
            "Nepal",
            "Kosovo",
            "Uzbekistan",
            "United Arab Emirates",
            "Korea, South",
            "Cameroon",
            "Greece",
            "Lebanon",
            "Albania",
            "Burma",
            "Finland",
            "Zambia",
            "West Bank and Gaza",
            "Senegal",
            "Ghana",
            "Croatia",
            "Tunisia",
            "Norway",
            "Congo (Kinshasa)",
            "Bahrain",
            "Madagascar",
            "Haiti",
            "Zimbabwe",
            "Qatar",
            "Syria",
            "Angola",
            "Malawi",
            "Montenegro",
            "Mauritania",
            "Slovenia",
            "Nicaragua",
            "Malaysia",
            "Mali",
            "Luxembourg",
            "Namibia",
            "Cuba",
            "Cote d'Ivoire",
            "Jamaica",
            "Gambia",
            "Eswatini",
            "Suriname",
            "Somalia",
            "Bahamas",
            "Lithuania",
            "Congo (Brazzaville)",
            "Jordan",
            "Guyana",
            "Chad",
            "Equatorial Guinea",
            "Liberia",
            "Trinidad and Tobago",
            "Uganda",
            "Tajikistan",
            "Sierra Leone",
            "Niger",
            "Estonia",
            "Guinea",
            "Mozambique",
            "Central African Republic",
            "Cabo Verde",
            "Djibouti",
            "Thailand",
            "Burkina Faso",
            "Slovakia",
            "Gabon",
            "Andorra",
            "South Sudan",
            "Georgia",
            "Uruguay",
            "Togo",
            "San Marino",
            "Benin",
            "Guinea-Bissau",
            "Lesotho",
            "Malta",
            "Latvia",
            "Vietnam",
            "Maldives",
            "Rwanda",
            "Belize",
            "Singapore",
            "New Zealand",
            "Cyprus",
            "Tanzania",
            "Botswana",
            "Sao Tome and Principe",
            "Diamond Princess",
            "Sri Lanka",
            "Mauritius",
            "Iceland",
            "Papua New Guinea",
            "Taiwan*",
            "Barbados",
            "Comoros",
            "Antigua and Barbuda",
            "Brunei",
            "MS Zaandam",
            "Fiji",
            "Monaco",
            "Western Sahara",
            "Liechtenstein",
            "Burundi",
            "Holy See",
            "Grenada",
            "Mongolia",
            "Saint Vincent and the Grenadines",
            "Saint Lucia",
            "Saint Kitts and Nevis",
            "Timor-Leste",
            "Bhutan",
            "Seychelles",
            "Cambodia",
            "Eritrea",
            "Laos",
            "Dominica"
           ],
           [
            209382,
            145987,
            101782,
            78880,
            42407,
            35968,
            32609,
            32171,
            32086,
            26746,
            26556,
            21153,
            20795,
            16938,
            12919,
            11597,
            11055,
            10044,
            9531,
            9488,
            9347,
            8384,
            8073,
            6513,
            6503,
            5970,
            5895,
            5678,
            5325,
            4947,
            4850,
            4739,
            4451,
            3285,
            2604,
            2414,
            2399,
            2293,
            2128,
            2076,
            1995,
            1810,
            1756,
            1725,
            1682,
            1594,
            1462,
            1353,
            1214,
            1113,
            1066,
            972,
            950,
            935,
            913,
            894,
            871,
            857,
            851,
            841,
            836,
            812,
            809,
            753,
            753,
            728,
            711,
            654,
            649,
            620,
            595,
            589,
            578,
            528,
            488,
            477,
            426,
            421,
            420,
            405,
            398,
            392,
            371,
            345,
            333,
            329,
            312,
            303,
            293,
            276,
            275,
            274,
            258,
            232,
            229,
            228,
            216,
            204,
            193,
            179,
            174,
            162,
            155,
            151,
            137,
            131,
            125,
            123,
            122,
            120,
            119,
            115,
            111,
            106,
            99,
            96,
            94,
            89,
            88,
            85,
            85,
            83,
            82,
            79,
            79,
            77,
            72,
            69,
            67,
            66,
            64,
            62,
            62,
            61,
            59,
            59,
            54,
            54,
            53,
            50,
            48,
            48,
            48,
            42,
            41,
            39,
            39,
            38,
            38,
            35,
            34,
            29,
            28,
            27,
            25,
            22,
            21,
            16,
            15,
            13,
            13,
            10,
            10,
            7,
            7,
            7,
            7,
            3,
            3,
            2,
            2,
            2,
            1,
            1,
            1,
            0,
            0,
            0,
            0,
            0,
            0,
            0,
            0,
            0,
            0,
            0,
            0,
            0
           ]
          ]
         },
         "header": {
          "align": [
           "center",
           "center"
          ],
          "fill": {
           "color": "#2d4059"
          },
          "font": {
           "color": "white",
           "size": 16
          },
          "line": {
           "color": "white"
          },
          "values": [
           "ประเทศ",
           "จำนวนผู้เสียชีวิต"
          ]
         },
         "type": "table"
        }
       ],
       "layout": {
        "template": {
         "data": {
          "bar": [
           {
            "error_x": {
             "color": "#2a3f5f"
            },
            "error_y": {
             "color": "#2a3f5f"
            },
            "marker": {
             "line": {
              "color": "#E5ECF6",
              "width": 0.5
             }
            },
            "type": "bar"
           }
          ],
          "barpolar": [
           {
            "marker": {
             "line": {
              "color": "#E5ECF6",
              "width": 0.5
             }
            },
            "type": "barpolar"
           }
          ],
          "carpet": [
           {
            "aaxis": {
             "endlinecolor": "#2a3f5f",
             "gridcolor": "white",
             "linecolor": "white",
             "minorgridcolor": "white",
             "startlinecolor": "#2a3f5f"
            },
            "baxis": {
             "endlinecolor": "#2a3f5f",
             "gridcolor": "white",
             "linecolor": "white",
             "minorgridcolor": "white",
             "startlinecolor": "#2a3f5f"
            },
            "type": "carpet"
           }
          ],
          "choropleth": [
           {
            "colorbar": {
             "outlinewidth": 0,
             "ticks": ""
            },
            "type": "choropleth"
           }
          ],
          "contour": [
           {
            "colorbar": {
             "outlinewidth": 0,
             "ticks": ""
            },
            "colorscale": [
             [
              0,
              "#0d0887"
             ],
             [
              0.1111111111111111,
              "#46039f"
             ],
             [
              0.2222222222222222,
              "#7201a8"
             ],
             [
              0.3333333333333333,
              "#9c179e"
             ],
             [
              0.4444444444444444,
              "#bd3786"
             ],
             [
              0.5555555555555556,
              "#d8576b"
             ],
             [
              0.6666666666666666,
              "#ed7953"
             ],
             [
              0.7777777777777778,
              "#fb9f3a"
             ],
             [
              0.8888888888888888,
              "#fdca26"
             ],
             [
              1,
              "#f0f921"
             ]
            ],
            "type": "contour"
           }
          ],
          "contourcarpet": [
           {
            "colorbar": {
             "outlinewidth": 0,
             "ticks": ""
            },
            "type": "contourcarpet"
           }
          ],
          "heatmap": [
           {
            "colorbar": {
             "outlinewidth": 0,
             "ticks": ""
            },
            "colorscale": [
             [
              0,
              "#0d0887"
             ],
             [
              0.1111111111111111,
              "#46039f"
             ],
             [
              0.2222222222222222,
              "#7201a8"
             ],
             [
              0.3333333333333333,
              "#9c179e"
             ],
             [
              0.4444444444444444,
              "#bd3786"
             ],
             [
              0.5555555555555556,
              "#d8576b"
             ],
             [
              0.6666666666666666,
              "#ed7953"
             ],
             [
              0.7777777777777778,
              "#fb9f3a"
             ],
             [
              0.8888888888888888,
              "#fdca26"
             ],
             [
              1,
              "#f0f921"
             ]
            ],
            "type": "heatmap"
           }
          ],
          "heatmapgl": [
           {
            "colorbar": {
             "outlinewidth": 0,
             "ticks": ""
            },
            "colorscale": [
             [
              0,
              "#0d0887"
             ],
             [
              0.1111111111111111,
              "#46039f"
             ],
             [
              0.2222222222222222,
              "#7201a8"
             ],
             [
              0.3333333333333333,
              "#9c179e"
             ],
             [
              0.4444444444444444,
              "#bd3786"
             ],
             [
              0.5555555555555556,
              "#d8576b"
             ],
             [
              0.6666666666666666,
              "#ed7953"
             ],
             [
              0.7777777777777778,
              "#fb9f3a"
             ],
             [
              0.8888888888888888,
              "#fdca26"
             ],
             [
              1,
              "#f0f921"
             ]
            ],
            "type": "heatmapgl"
           }
          ],
          "histogram": [
           {
            "marker": {
             "colorbar": {
              "outlinewidth": 0,
              "ticks": ""
             }
            },
            "type": "histogram"
           }
          ],
          "histogram2d": [
           {
            "colorbar": {
             "outlinewidth": 0,
             "ticks": ""
            },
            "colorscale": [
             [
              0,
              "#0d0887"
             ],
             [
              0.1111111111111111,
              "#46039f"
             ],
             [
              0.2222222222222222,
              "#7201a8"
             ],
             [
              0.3333333333333333,
              "#9c179e"
             ],
             [
              0.4444444444444444,
              "#bd3786"
             ],
             [
              0.5555555555555556,
              "#d8576b"
             ],
             [
              0.6666666666666666,
              "#ed7953"
             ],
             [
              0.7777777777777778,
              "#fb9f3a"
             ],
             [
              0.8888888888888888,
              "#fdca26"
             ],
             [
              1,
              "#f0f921"
             ]
            ],
            "type": "histogram2d"
           }
          ],
          "histogram2dcontour": [
           {
            "colorbar": {
             "outlinewidth": 0,
             "ticks": ""
            },
            "colorscale": [
             [
              0,
              "#0d0887"
             ],
             [
              0.1111111111111111,
              "#46039f"
             ],
             [
              0.2222222222222222,
              "#7201a8"
             ],
             [
              0.3333333333333333,
              "#9c179e"
             ],
             [
              0.4444444444444444,
              "#bd3786"
             ],
             [
              0.5555555555555556,
              "#d8576b"
             ],
             [
              0.6666666666666666,
              "#ed7953"
             ],
             [
              0.7777777777777778,
              "#fb9f3a"
             ],
             [
              0.8888888888888888,
              "#fdca26"
             ],
             [
              1,
              "#f0f921"
             ]
            ],
            "type": "histogram2dcontour"
           }
          ],
          "mesh3d": [
           {
            "colorbar": {
             "outlinewidth": 0,
             "ticks": ""
            },
            "type": "mesh3d"
           }
          ],
          "parcoords": [
           {
            "line": {
             "colorbar": {
              "outlinewidth": 0,
              "ticks": ""
             }
            },
            "type": "parcoords"
           }
          ],
          "pie": [
           {
            "automargin": true,
            "type": "pie"
           }
          ],
          "scatter": [
           {
            "marker": {
             "colorbar": {
              "outlinewidth": 0,
              "ticks": ""
             }
            },
            "type": "scatter"
           }
          ],
          "scatter3d": [
           {
            "line": {
             "colorbar": {
              "outlinewidth": 0,
              "ticks": ""
             }
            },
            "marker": {
             "colorbar": {
              "outlinewidth": 0,
              "ticks": ""
             }
            },
            "type": "scatter3d"
           }
          ],
          "scattercarpet": [
           {
            "marker": {
             "colorbar": {
              "outlinewidth": 0,
              "ticks": ""
             }
            },
            "type": "scattercarpet"
           }
          ],
          "scattergeo": [
           {
            "marker": {
             "colorbar": {
              "outlinewidth": 0,
              "ticks": ""
             }
            },
            "type": "scattergeo"
           }
          ],
          "scattergl": [
           {
            "marker": {
             "colorbar": {
              "outlinewidth": 0,
              "ticks": ""
             }
            },
            "type": "scattergl"
           }
          ],
          "scattermapbox": [
           {
            "marker": {
             "colorbar": {
              "outlinewidth": 0,
              "ticks": ""
             }
            },
            "type": "scattermapbox"
           }
          ],
          "scatterpolar": [
           {
            "marker": {
             "colorbar": {
              "outlinewidth": 0,
              "ticks": ""
             }
            },
            "type": "scatterpolar"
           }
          ],
          "scatterpolargl": [
           {
            "marker": {
             "colorbar": {
              "outlinewidth": 0,
              "ticks": ""
             }
            },
            "type": "scatterpolargl"
           }
          ],
          "scatterternary": [
           {
            "marker": {
             "colorbar": {
              "outlinewidth": 0,
              "ticks": ""
             }
            },
            "type": "scatterternary"
           }
          ],
          "surface": [
           {
            "colorbar": {
             "outlinewidth": 0,
             "ticks": ""
            },
            "colorscale": [
             [
              0,
              "#0d0887"
             ],
             [
              0.1111111111111111,
              "#46039f"
             ],
             [
              0.2222222222222222,
              "#7201a8"
             ],
             [
              0.3333333333333333,
              "#9c179e"
             ],
             [
              0.4444444444444444,
              "#bd3786"
             ],
             [
              0.5555555555555556,
              "#d8576b"
             ],
             [
              0.6666666666666666,
              "#ed7953"
             ],
             [
              0.7777777777777778,
              "#fb9f3a"
             ],
             [
              0.8888888888888888,
              "#fdca26"
             ],
             [
              1,
              "#f0f921"
             ]
            ],
            "type": "surface"
           }
          ],
          "table": [
           {
            "cells": {
             "fill": {
              "color": "#EBF0F8"
             },
             "line": {
              "color": "white"
             }
            },
            "header": {
             "fill": {
              "color": "#C8D4E3"
             },
             "line": {
              "color": "white"
             }
            },
            "type": "table"
           }
          ]
         },
         "layout": {
          "annotationdefaults": {
           "arrowcolor": "#2a3f5f",
           "arrowhead": 0,
           "arrowwidth": 1
          },
          "coloraxis": {
           "colorbar": {
            "outlinewidth": 0,
            "ticks": ""
           }
          },
          "colorscale": {
           "diverging": [
            [
             0,
             "#8e0152"
            ],
            [
             0.1,
             "#c51b7d"
            ],
            [
             0.2,
             "#de77ae"
            ],
            [
             0.3,
             "#f1b6da"
            ],
            [
             0.4,
             "#fde0ef"
            ],
            [
             0.5,
             "#f7f7f7"
            ],
            [
             0.6,
             "#e6f5d0"
            ],
            [
             0.7,
             "#b8e186"
            ],
            [
             0.8,
             "#7fbc41"
            ],
            [
             0.9,
             "#4d9221"
            ],
            [
             1,
             "#276419"
            ]
           ],
           "sequential": [
            [
             0,
             "#0d0887"
            ],
            [
             0.1111111111111111,
             "#46039f"
            ],
            [
             0.2222222222222222,
             "#7201a8"
            ],
            [
             0.3333333333333333,
             "#9c179e"
            ],
            [
             0.4444444444444444,
             "#bd3786"
            ],
            [
             0.5555555555555556,
             "#d8576b"
            ],
            [
             0.6666666666666666,
             "#ed7953"
            ],
            [
             0.7777777777777778,
             "#fb9f3a"
            ],
            [
             0.8888888888888888,
             "#fdca26"
            ],
            [
             1,
             "#f0f921"
            ]
           ],
           "sequentialminus": [
            [
             0,
             "#0d0887"
            ],
            [
             0.1111111111111111,
             "#46039f"
            ],
            [
             0.2222222222222222,
             "#7201a8"
            ],
            [
             0.3333333333333333,
             "#9c179e"
            ],
            [
             0.4444444444444444,
             "#bd3786"
            ],
            [
             0.5555555555555556,
             "#d8576b"
            ],
            [
             0.6666666666666666,
             "#ed7953"
            ],
            [
             0.7777777777777778,
             "#fb9f3a"
            ],
            [
             0.8888888888888888,
             "#fdca26"
            ],
            [
             1,
             "#f0f921"
            ]
           ]
          },
          "colorway": [
           "#636efa",
           "#EF553B",
           "#00cc96",
           "#ab63fa",
           "#FFA15A",
           "#19d3f3",
           "#FF6692",
           "#B6E880",
           "#FF97FF",
           "#FECB52"
          ],
          "font": {
           "color": "#2a3f5f"
          },
          "geo": {
           "bgcolor": "white",
           "lakecolor": "white",
           "landcolor": "#E5ECF6",
           "showlakes": true,
           "showland": true,
           "subunitcolor": "white"
          },
          "hoverlabel": {
           "align": "left"
          },
          "hovermode": "closest",
          "mapbox": {
           "style": "light"
          },
          "paper_bgcolor": "white",
          "plot_bgcolor": "#E5ECF6",
          "polar": {
           "angularaxis": {
            "gridcolor": "white",
            "linecolor": "white",
            "ticks": ""
           },
           "bgcolor": "#E5ECF6",
           "radialaxis": {
            "gridcolor": "white",
            "linecolor": "white",
            "ticks": ""
           }
          },
          "scene": {
           "xaxis": {
            "backgroundcolor": "#E5ECF6",
            "gridcolor": "white",
            "gridwidth": 2,
            "linecolor": "white",
            "showbackground": true,
            "ticks": "",
            "zerolinecolor": "white"
           },
           "yaxis": {
            "backgroundcolor": "#E5ECF6",
            "gridcolor": "white",
            "gridwidth": 2,
            "linecolor": "white",
            "showbackground": true,
            "ticks": "",
            "zerolinecolor": "white"
           },
           "zaxis": {
            "backgroundcolor": "#E5ECF6",
            "gridcolor": "white",
            "gridwidth": 2,
            "linecolor": "white",
            "showbackground": true,
            "ticks": "",
            "zerolinecolor": "white"
           }
          },
          "shapedefaults": {
           "line": {
            "color": "#2a3f5f"
           }
          },
          "ternary": {
           "aaxis": {
            "gridcolor": "white",
            "linecolor": "white",
            "ticks": ""
           },
           "baxis": {
            "gridcolor": "white",
            "linecolor": "white",
            "ticks": ""
           },
           "bgcolor": "#E5ECF6",
           "caxis": {
            "gridcolor": "white",
            "linecolor": "white",
            "ticks": ""
           }
          },
          "title": {
           "x": 0.05
          },
          "xaxis": {
           "automargin": true,
           "gridcolor": "white",
           "linecolor": "white",
           "ticks": "",
           "title": {
            "standoff": 15
           },
           "zerolinecolor": "white",
           "zerolinewidth": 2
          },
          "yaxis": {
           "automargin": true,
           "gridcolor": "white",
           "linecolor": "white",
           "ticks": "",
           "title": {
            "standoff": 15
           },
           "zerolinecolor": "white",
           "zerolinewidth": 2
          }
         }
        },
        "title": {
         "text": "Deaths by Contries"
        }
       }
      },
      "text/html": [
       "<div>                            <div id=\"e85e6dac-361a-4269-b6a3-a4088517c876\" class=\"plotly-graph-div\" style=\"height:525px; width:100%;\"></div>            <script type=\"text/javascript\">                require([\"plotly\"], function(Plotly) {                    window.PLOTLYENV=window.PLOTLYENV || {};                                    if (document.getElementById(\"e85e6dac-361a-4269-b6a3-a4088517c876\")) {                    Plotly.newPlot(                        \"e85e6dac-361a-4269-b6a3-a4088517c876\",                        [{\"cells\": {\"align\": [\"center\", \"center\"], \"fill\": {\"color\": \"#decdc3\"}, \"font\": {\"color\": \"darkslategray\", \"size\": 12}, \"line\": {\"color\": \"white\"}, \"values\": [[\"US\", \"Brazil\", \"India\", \"Mexico\", \"United Kingdom\", \"Italy\", \"Peru\", \"France\", \"Spain\", \"Iran\", \"Colombia\", \"Russia\", \"Argentina\", \"South Africa\", \"Chile\", \"Ecuador\", \"Indonesia\", \"Belgium\", \"Germany\", \"Canada\", \"Iraq\", \"Turkey\", \"Bolivia\", \"Pakistan\", \"Netherlands\", \"Egypt\", \"Sweden\", \"Philippines\", \"Bangladesh\", \"Romania\", \"Saudi Arabia\", \"China\", \"Ukraine\", \"Guatemala\", \"Poland\", \"Panama\", \"Honduras\", \"Morocco\", \"Dominican Republic\", \"Switzerland\", \"Portugal\", \"Ireland\", \"Algeria\", \"Kazakhstan\", \"Israel\", \"Japan\", \"Afghanistan\", \"Moldova\", \"Ethiopia\", \"Nigeria\", \"Kyrgyzstan\", \"Armenia\", \"Costa Rica\", \"Oman\", \"Paraguay\", \"Australia\", \"Bosnia and Herzegovina\", \"El Salvador\", \"Belarus\", \"Bulgaria\", \"Sudan\", \"Hungary\", \"Austria\", \"North Macedonia\", \"Serbia\", \"Kenya\", \"Czechia\", \"Denmark\", \"Venezuela\", \"Kuwait\", \"Azerbaijan\", \"Yemen\", \"Libya\", \"Nepal\", \"Kosovo\", \"Uzbekistan\", \"United Arab Emirates\", \"Korea, South\", \"Cameroon\", \"Greece\", \"Lebanon\", \"Albania\", \"Burma\", \"Finland\", \"Zambia\", \"West Bank and Gaza\", \"Senegal\", \"Ghana\", \"Croatia\", \"Tunisia\", \"Norway\", \"Congo (Kinshasa)\", \"Bahrain\", \"Madagascar\", \"Haiti\", \"Zimbabwe\", \"Qatar\", \"Syria\", \"Angola\", \"Malawi\", \"Montenegro\", \"Mauritania\", \"Slovenia\", \"Nicaragua\", \"Malaysia\", \"Mali\", \"Luxembourg\", \"Namibia\", \"Cuba\", \"Cote d'Ivoire\", \"Jamaica\", \"Gambia\", \"Eswatini\", \"Suriname\", \"Somalia\", \"Bahamas\", \"Lithuania\", \"Congo (Brazzaville)\", \"Jordan\", \"Guyana\", \"Chad\", \"Equatorial Guinea\", \"Liberia\", \"Trinidad and Tobago\", \"Uganda\", \"Tajikistan\", \"Sierra Leone\", \"Niger\", \"Estonia\", \"Guinea\", \"Mozambique\", \"Central African Republic\", \"Cabo Verde\", \"Djibouti\", \"Thailand\", \"Burkina Faso\", \"Slovakia\", \"Gabon\", \"Andorra\", \"South Sudan\", \"Georgia\", \"Uruguay\", \"Togo\", \"San Marino\", \"Benin\", \"Guinea-Bissau\", \"Lesotho\", \"Malta\", \"Latvia\", \"Vietnam\", \"Maldives\", \"Rwanda\", \"Belize\", \"Singapore\", \"New Zealand\", \"Cyprus\", \"Tanzania\", \"Botswana\", \"Sao Tome and Principe\", \"Diamond Princess\", \"Sri Lanka\", \"Mauritius\", \"Iceland\", \"Papua New Guinea\", \"Taiwan*\", \"Barbados\", \"Comoros\", \"Antigua and Barbuda\", \"Brunei\", \"MS Zaandam\", \"Fiji\", \"Monaco\", \"Western Sahara\", \"Liechtenstein\", \"Burundi\", \"Holy See\", \"Grenada\", \"Mongolia\", \"Saint Vincent and the Grenadines\", \"Saint Lucia\", \"Saint Kitts and Nevis\", \"Timor-Leste\", \"Bhutan\", \"Seychelles\", \"Cambodia\", \"Eritrea\", \"Laos\", \"Dominica\"], [209382, 145987, 101782, 78880, 42407, 35968, 32609, 32171, 32086, 26746, 26556, 21153, 20795, 16938, 12919, 11597, 11055, 10044, 9531, 9488, 9347, 8384, 8073, 6513, 6503, 5970, 5895, 5678, 5325, 4947, 4850, 4739, 4451, 3285, 2604, 2414, 2399, 2293, 2128, 2076, 1995, 1810, 1756, 1725, 1682, 1594, 1462, 1353, 1214, 1113, 1066, 972, 950, 935, 913, 894, 871, 857, 851, 841, 836, 812, 809, 753, 753, 728, 711, 654, 649, 620, 595, 589, 578, 528, 488, 477, 426, 421, 420, 405, 398, 392, 371, 345, 333, 329, 312, 303, 293, 276, 275, 274, 258, 232, 229, 228, 216, 204, 193, 179, 174, 162, 155, 151, 137, 131, 125, 123, 122, 120, 119, 115, 111, 106, 99, 96, 94, 89, 88, 85, 85, 83, 82, 79, 79, 77, 72, 69, 67, 66, 64, 62, 62, 61, 59, 59, 54, 54, 53, 50, 48, 48, 48, 42, 41, 39, 39, 38, 38, 35, 34, 29, 28, 27, 25, 22, 21, 16, 15, 13, 13, 10, 10, 7, 7, 7, 7, 3, 3, 2, 2, 2, 1, 1, 1, 0, 0, 0, 0, 0, 0, 0, 0, 0, 0, 0, 0, 0]]}, \"header\": {\"align\": [\"center\", \"center\"], \"fill\": {\"color\": \"#2d4059\"}, \"font\": {\"color\": \"white\", \"size\": 16}, \"line\": {\"color\": \"white\"}, \"values\": [\"\\u0e1b\\u0e23\\u0e30\\u0e40\\u0e17\\u0e28\", \"\\u0e08\\u0e33\\u0e19\\u0e27\\u0e19\\u0e1c\\u0e39\\u0e49\\u0e40\\u0e2a\\u0e35\\u0e22\\u0e0a\\u0e35\\u0e27\\u0e34\\u0e15\"]}, \"type\": \"table\"}],                        {\"template\": {\"data\": {\"bar\": [{\"error_x\": {\"color\": \"#2a3f5f\"}, \"error_y\": {\"color\": \"#2a3f5f\"}, \"marker\": {\"line\": {\"color\": \"#E5ECF6\", \"width\": 0.5}}, \"type\": \"bar\"}], \"barpolar\": [{\"marker\": {\"line\": {\"color\": \"#E5ECF6\", \"width\": 0.5}}, \"type\": \"barpolar\"}], \"carpet\": [{\"aaxis\": {\"endlinecolor\": \"#2a3f5f\", \"gridcolor\": \"white\", \"linecolor\": \"white\", \"minorgridcolor\": \"white\", \"startlinecolor\": \"#2a3f5f\"}, \"baxis\": {\"endlinecolor\": \"#2a3f5f\", \"gridcolor\": \"white\", \"linecolor\": \"white\", \"minorgridcolor\": \"white\", \"startlinecolor\": \"#2a3f5f\"}, \"type\": \"carpet\"}], \"choropleth\": [{\"colorbar\": {\"outlinewidth\": 0, \"ticks\": \"\"}, \"type\": \"choropleth\"}], \"contour\": [{\"colorbar\": {\"outlinewidth\": 0, \"ticks\": \"\"}, \"colorscale\": [[0.0, \"#0d0887\"], [0.1111111111111111, \"#46039f\"], [0.2222222222222222, \"#7201a8\"], [0.3333333333333333, \"#9c179e\"], [0.4444444444444444, \"#bd3786\"], [0.5555555555555556, \"#d8576b\"], [0.6666666666666666, \"#ed7953\"], [0.7777777777777778, \"#fb9f3a\"], [0.8888888888888888, \"#fdca26\"], [1.0, \"#f0f921\"]], \"type\": \"contour\"}], \"contourcarpet\": [{\"colorbar\": {\"outlinewidth\": 0, \"ticks\": \"\"}, \"type\": \"contourcarpet\"}], \"heatmap\": [{\"colorbar\": {\"outlinewidth\": 0, \"ticks\": \"\"}, \"colorscale\": [[0.0, \"#0d0887\"], [0.1111111111111111, \"#46039f\"], [0.2222222222222222, \"#7201a8\"], [0.3333333333333333, \"#9c179e\"], [0.4444444444444444, \"#bd3786\"], [0.5555555555555556, \"#d8576b\"], [0.6666666666666666, \"#ed7953\"], [0.7777777777777778, \"#fb9f3a\"], [0.8888888888888888, \"#fdca26\"], [1.0, \"#f0f921\"]], \"type\": \"heatmap\"}], \"heatmapgl\": [{\"colorbar\": {\"outlinewidth\": 0, \"ticks\": \"\"}, \"colorscale\": [[0.0, \"#0d0887\"], [0.1111111111111111, \"#46039f\"], [0.2222222222222222, \"#7201a8\"], [0.3333333333333333, \"#9c179e\"], [0.4444444444444444, \"#bd3786\"], [0.5555555555555556, \"#d8576b\"], [0.6666666666666666, \"#ed7953\"], [0.7777777777777778, \"#fb9f3a\"], [0.8888888888888888, \"#fdca26\"], [1.0, \"#f0f921\"]], \"type\": \"heatmapgl\"}], \"histogram\": [{\"marker\": {\"colorbar\": {\"outlinewidth\": 0, \"ticks\": \"\"}}, \"type\": \"histogram\"}], \"histogram2d\": [{\"colorbar\": {\"outlinewidth\": 0, \"ticks\": \"\"}, \"colorscale\": [[0.0, \"#0d0887\"], [0.1111111111111111, \"#46039f\"], [0.2222222222222222, \"#7201a8\"], [0.3333333333333333, \"#9c179e\"], [0.4444444444444444, \"#bd3786\"], [0.5555555555555556, \"#d8576b\"], [0.6666666666666666, \"#ed7953\"], [0.7777777777777778, \"#fb9f3a\"], [0.8888888888888888, \"#fdca26\"], [1.0, \"#f0f921\"]], \"type\": \"histogram2d\"}], \"histogram2dcontour\": [{\"colorbar\": {\"outlinewidth\": 0, \"ticks\": \"\"}, \"colorscale\": [[0.0, \"#0d0887\"], [0.1111111111111111, \"#46039f\"], [0.2222222222222222, \"#7201a8\"], [0.3333333333333333, \"#9c179e\"], [0.4444444444444444, \"#bd3786\"], [0.5555555555555556, \"#d8576b\"], [0.6666666666666666, \"#ed7953\"], [0.7777777777777778, \"#fb9f3a\"], [0.8888888888888888, \"#fdca26\"], [1.0, \"#f0f921\"]], \"type\": \"histogram2dcontour\"}], \"mesh3d\": [{\"colorbar\": {\"outlinewidth\": 0, \"ticks\": \"\"}, \"type\": \"mesh3d\"}], \"parcoords\": [{\"line\": {\"colorbar\": {\"outlinewidth\": 0, \"ticks\": \"\"}}, \"type\": \"parcoords\"}], \"pie\": [{\"automargin\": true, \"type\": \"pie\"}], \"scatter\": [{\"marker\": {\"colorbar\": {\"outlinewidth\": 0, \"ticks\": \"\"}}, \"type\": \"scatter\"}], \"scatter3d\": [{\"line\": {\"colorbar\": {\"outlinewidth\": 0, \"ticks\": \"\"}}, \"marker\": {\"colorbar\": {\"outlinewidth\": 0, \"ticks\": \"\"}}, \"type\": \"scatter3d\"}], \"scattercarpet\": [{\"marker\": {\"colorbar\": {\"outlinewidth\": 0, \"ticks\": \"\"}}, \"type\": \"scattercarpet\"}], \"scattergeo\": [{\"marker\": {\"colorbar\": {\"outlinewidth\": 0, \"ticks\": \"\"}}, \"type\": \"scattergeo\"}], \"scattergl\": [{\"marker\": {\"colorbar\": {\"outlinewidth\": 0, \"ticks\": \"\"}}, \"type\": \"scattergl\"}], \"scattermapbox\": [{\"marker\": {\"colorbar\": {\"outlinewidth\": 0, \"ticks\": \"\"}}, \"type\": \"scattermapbox\"}], \"scatterpolar\": [{\"marker\": {\"colorbar\": {\"outlinewidth\": 0, \"ticks\": \"\"}}, \"type\": \"scatterpolar\"}], \"scatterpolargl\": [{\"marker\": {\"colorbar\": {\"outlinewidth\": 0, \"ticks\": \"\"}}, \"type\": \"scatterpolargl\"}], \"scatterternary\": [{\"marker\": {\"colorbar\": {\"outlinewidth\": 0, \"ticks\": \"\"}}, \"type\": \"scatterternary\"}], \"surface\": [{\"colorbar\": {\"outlinewidth\": 0, \"ticks\": \"\"}, \"colorscale\": [[0.0, \"#0d0887\"], [0.1111111111111111, \"#46039f\"], [0.2222222222222222, \"#7201a8\"], [0.3333333333333333, \"#9c179e\"], [0.4444444444444444, \"#bd3786\"], [0.5555555555555556, \"#d8576b\"], [0.6666666666666666, \"#ed7953\"], [0.7777777777777778, \"#fb9f3a\"], [0.8888888888888888, \"#fdca26\"], [1.0, \"#f0f921\"]], \"type\": \"surface\"}], \"table\": [{\"cells\": {\"fill\": {\"color\": \"#EBF0F8\"}, \"line\": {\"color\": \"white\"}}, \"header\": {\"fill\": {\"color\": \"#C8D4E3\"}, \"line\": {\"color\": \"white\"}}, \"type\": \"table\"}]}, \"layout\": {\"annotationdefaults\": {\"arrowcolor\": \"#2a3f5f\", \"arrowhead\": 0, \"arrowwidth\": 1}, \"coloraxis\": {\"colorbar\": {\"outlinewidth\": 0, \"ticks\": \"\"}}, \"colorscale\": {\"diverging\": [[0, \"#8e0152\"], [0.1, \"#c51b7d\"], [0.2, \"#de77ae\"], [0.3, \"#f1b6da\"], [0.4, \"#fde0ef\"], [0.5, \"#f7f7f7\"], [0.6, \"#e6f5d0\"], [0.7, \"#b8e186\"], [0.8, \"#7fbc41\"], [0.9, \"#4d9221\"], [1, \"#276419\"]], \"sequential\": [[0.0, \"#0d0887\"], [0.1111111111111111, \"#46039f\"], [0.2222222222222222, \"#7201a8\"], [0.3333333333333333, \"#9c179e\"], [0.4444444444444444, \"#bd3786\"], [0.5555555555555556, \"#d8576b\"], [0.6666666666666666, \"#ed7953\"], [0.7777777777777778, \"#fb9f3a\"], [0.8888888888888888, \"#fdca26\"], [1.0, \"#f0f921\"]], \"sequentialminus\": [[0.0, \"#0d0887\"], [0.1111111111111111, \"#46039f\"], [0.2222222222222222, \"#7201a8\"], [0.3333333333333333, \"#9c179e\"], [0.4444444444444444, \"#bd3786\"], [0.5555555555555556, \"#d8576b\"], [0.6666666666666666, \"#ed7953\"], [0.7777777777777778, \"#fb9f3a\"], [0.8888888888888888, \"#fdca26\"], [1.0, \"#f0f921\"]]}, \"colorway\": [\"#636efa\", \"#EF553B\", \"#00cc96\", \"#ab63fa\", \"#FFA15A\", \"#19d3f3\", \"#FF6692\", \"#B6E880\", \"#FF97FF\", \"#FECB52\"], \"font\": {\"color\": \"#2a3f5f\"}, \"geo\": {\"bgcolor\": \"white\", \"lakecolor\": \"white\", \"landcolor\": \"#E5ECF6\", \"showlakes\": true, \"showland\": true, \"subunitcolor\": \"white\"}, \"hoverlabel\": {\"align\": \"left\"}, \"hovermode\": \"closest\", \"mapbox\": {\"style\": \"light\"}, \"paper_bgcolor\": \"white\", \"plot_bgcolor\": \"#E5ECF6\", \"polar\": {\"angularaxis\": {\"gridcolor\": \"white\", \"linecolor\": \"white\", \"ticks\": \"\"}, \"bgcolor\": \"#E5ECF6\", \"radialaxis\": {\"gridcolor\": \"white\", \"linecolor\": \"white\", \"ticks\": \"\"}}, \"scene\": {\"xaxis\": {\"backgroundcolor\": \"#E5ECF6\", \"gridcolor\": \"white\", \"gridwidth\": 2, \"linecolor\": \"white\", \"showbackground\": true, \"ticks\": \"\", \"zerolinecolor\": \"white\"}, \"yaxis\": {\"backgroundcolor\": \"#E5ECF6\", \"gridcolor\": \"white\", \"gridwidth\": 2, \"linecolor\": \"white\", \"showbackground\": true, \"ticks\": \"\", \"zerolinecolor\": \"white\"}, \"zaxis\": {\"backgroundcolor\": \"#E5ECF6\", \"gridcolor\": \"white\", \"gridwidth\": 2, \"linecolor\": \"white\", \"showbackground\": true, \"ticks\": \"\", \"zerolinecolor\": \"white\"}}, \"shapedefaults\": {\"line\": {\"color\": \"#2a3f5f\"}}, \"ternary\": {\"aaxis\": {\"gridcolor\": \"white\", \"linecolor\": \"white\", \"ticks\": \"\"}, \"baxis\": {\"gridcolor\": \"white\", \"linecolor\": \"white\", \"ticks\": \"\"}, \"bgcolor\": \"#E5ECF6\", \"caxis\": {\"gridcolor\": \"white\", \"linecolor\": \"white\", \"ticks\": \"\"}}, \"title\": {\"x\": 0.05}, \"xaxis\": {\"automargin\": true, \"gridcolor\": \"white\", \"linecolor\": \"white\", \"ticks\": \"\", \"title\": {\"standoff\": 15}, \"zerolinecolor\": \"white\", \"zerolinewidth\": 2}, \"yaxis\": {\"automargin\": true, \"gridcolor\": \"white\", \"linecolor\": \"white\", \"ticks\": \"\", \"title\": {\"standoff\": 15}, \"zerolinecolor\": \"white\", \"zerolinewidth\": 2}}}, \"title\": {\"text\": \"Deaths by Contries\"}},                        {\"responsive\": true}                    ).then(function(){\n",
       "                            \n",
       "var gd = document.getElementById('e85e6dac-361a-4269-b6a3-a4088517c876');\n",
       "var x = new MutationObserver(function (mutations, observer) {{\n",
       "        var display = window.getComputedStyle(gd).display;\n",
       "        if (!display || display === 'none') {{\n",
       "            console.log([gd, 'removed!']);\n",
       "            Plotly.purge(gd);\n",
       "            observer.disconnect();\n",
       "        }}\n",
       "}});\n",
       "\n",
       "// Listen for the removal of the full notebook cells\n",
       "var notebookContainer = gd.closest('#notebook-container');\n",
       "if (notebookContainer) {{\n",
       "    x.observe(notebookContainer, {childList: true});\n",
       "}}\n",
       "\n",
       "// Listen for the clearing of the current output cell\n",
       "var outputEl = gd.closest('.output');\n",
       "if (outputEl) {{\n",
       "    x.observe(outputEl, {childList: true});\n",
       "}}\n",
       "\n",
       "                        })                };                });            </script>        </div>"
      ]
     },
     "metadata": {},
     "output_type": "display_data"
    }
   ],
   "source": [
    "#จำนวนผู้เสียชีวิตในแต่ละประเทศ พบว่าประเทศไทยอยู่อันดับที่ 59 และ ประเทศที่มีอันดับผู้เสียชีวิตมากที่สุดคือ US และ India\n",
    "headerColor = 'grey'\n",
    "rowEvenColor = 'lightgrey'\n",
    "rowOddColor = 'white'\n",
    "\n",
    "fig = go.Figure(data=[go.Table(\n",
    "  header=dict(\n",
    "    values=['ประเทศ','จำนวนผู้เสียชีวิต'],\n",
    "    line_color='white',\n",
    "    fill_color='#2d4059',\n",
    "    align=['center','center'],\n",
    "      \n",
    "    font=dict(color='white', size=16)\n",
    "  ),\n",
    "  cells=dict(\n",
    "    values=[\n",
    "      Data_country['country'],\n",
    "      Data_country['deaths'],\n",
    "      ],\n",
    "    line_color='white',\n",
    "    fill_color='#decdc3',\n",
    "    align = ['center', 'center'],\n",
    "    font = dict(color = 'darkslategray', size = 12)\n",
    "    ))\n",
    "])\n",
    "fig.update_layout(\n",
    "    title='Deaths by Contries',\n",
    ")\n",
    "fig.show()"
   ]
  },
  {
   "cell_type": "markdown",
   "metadata": {},
   "source": [
    "### Confirmed by Contries"
   ]
  },
  {
   "cell_type": "code",
   "execution_count": 67,
   "metadata": {
    "colab": {
     "base_uri": "https://localhost:8080/",
     "height": 542
    },
    "id": "IInovNdkYc14",
    "outputId": "686b5ee9-c6dd-4591-8d58-4338d11cc117",
    "scrolled": true
   },
   "outputs": [
    {
     "data": {
      "application/vnd.plotly.v1+json": {
       "config": {
        "plotlyServerURL": "https://plot.ly"
       },
       "data": [
        {
         "marker": {
          "color": "#ea5455"
         },
         "orientation": "h",
         "type": "bar",
         "x": [
          7382194,
          4906833,
          6549373,
          757953,
          482654,
          322751,
          821564,
          629509,
          789932,
          468119,
          848147,
          1198663,
          790818,
          679716,
          468471,
          140351,
          299506,
          127623,
          300027,
          166360,
          375931,
          323014,
          136569,
          314616,
          137194,
          103575,
          94283,
          319330,
          367565,
          134065
         ],
         "y": [
          "US",
          "Brazil",
          "India",
          "Mexico",
          "United Kingdom",
          "Italy",
          "Peru",
          "France",
          "Spain",
          "Iran",
          "Colombia",
          "Russia",
          "Argentina",
          "South Africa",
          "Chile",
          "Ecuador",
          "Indonesia",
          "Belgium",
          "Germany",
          "Canada",
          "Iraq",
          "Turkey",
          "Bolivia",
          "Pakistan",
          "Netherlands",
          "Egypt",
          "Sweden",
          "Philippines",
          "Bangladesh",
          "Romania"
         ]
        }
       ],
       "layout": {
        "font": {
         "color": "black",
         "family": "Times New Roman",
         "size": 15
        },
        "paper_bgcolor": "#f8efd4",
        "template": {
         "data": {
          "bar": [
           {
            "error_x": {
             "color": "#2a3f5f"
            },
            "error_y": {
             "color": "#2a3f5f"
            },
            "marker": {
             "line": {
              "color": "#E5ECF6",
              "width": 0.5
             }
            },
            "type": "bar"
           }
          ],
          "barpolar": [
           {
            "marker": {
             "line": {
              "color": "#E5ECF6",
              "width": 0.5
             }
            },
            "type": "barpolar"
           }
          ],
          "carpet": [
           {
            "aaxis": {
             "endlinecolor": "#2a3f5f",
             "gridcolor": "white",
             "linecolor": "white",
             "minorgridcolor": "white",
             "startlinecolor": "#2a3f5f"
            },
            "baxis": {
             "endlinecolor": "#2a3f5f",
             "gridcolor": "white",
             "linecolor": "white",
             "minorgridcolor": "white",
             "startlinecolor": "#2a3f5f"
            },
            "type": "carpet"
           }
          ],
          "choropleth": [
           {
            "colorbar": {
             "outlinewidth": 0,
             "ticks": ""
            },
            "type": "choropleth"
           }
          ],
          "contour": [
           {
            "colorbar": {
             "outlinewidth": 0,
             "ticks": ""
            },
            "colorscale": [
             [
              0,
              "#0d0887"
             ],
             [
              0.1111111111111111,
              "#46039f"
             ],
             [
              0.2222222222222222,
              "#7201a8"
             ],
             [
              0.3333333333333333,
              "#9c179e"
             ],
             [
              0.4444444444444444,
              "#bd3786"
             ],
             [
              0.5555555555555556,
              "#d8576b"
             ],
             [
              0.6666666666666666,
              "#ed7953"
             ],
             [
              0.7777777777777778,
              "#fb9f3a"
             ],
             [
              0.8888888888888888,
              "#fdca26"
             ],
             [
              1,
              "#f0f921"
             ]
            ],
            "type": "contour"
           }
          ],
          "contourcarpet": [
           {
            "colorbar": {
             "outlinewidth": 0,
             "ticks": ""
            },
            "type": "contourcarpet"
           }
          ],
          "heatmap": [
           {
            "colorbar": {
             "outlinewidth": 0,
             "ticks": ""
            },
            "colorscale": [
             [
              0,
              "#0d0887"
             ],
             [
              0.1111111111111111,
              "#46039f"
             ],
             [
              0.2222222222222222,
              "#7201a8"
             ],
             [
              0.3333333333333333,
              "#9c179e"
             ],
             [
              0.4444444444444444,
              "#bd3786"
             ],
             [
              0.5555555555555556,
              "#d8576b"
             ],
             [
              0.6666666666666666,
              "#ed7953"
             ],
             [
              0.7777777777777778,
              "#fb9f3a"
             ],
             [
              0.8888888888888888,
              "#fdca26"
             ],
             [
              1,
              "#f0f921"
             ]
            ],
            "type": "heatmap"
           }
          ],
          "heatmapgl": [
           {
            "colorbar": {
             "outlinewidth": 0,
             "ticks": ""
            },
            "colorscale": [
             [
              0,
              "#0d0887"
             ],
             [
              0.1111111111111111,
              "#46039f"
             ],
             [
              0.2222222222222222,
              "#7201a8"
             ],
             [
              0.3333333333333333,
              "#9c179e"
             ],
             [
              0.4444444444444444,
              "#bd3786"
             ],
             [
              0.5555555555555556,
              "#d8576b"
             ],
             [
              0.6666666666666666,
              "#ed7953"
             ],
             [
              0.7777777777777778,
              "#fb9f3a"
             ],
             [
              0.8888888888888888,
              "#fdca26"
             ],
             [
              1,
              "#f0f921"
             ]
            ],
            "type": "heatmapgl"
           }
          ],
          "histogram": [
           {
            "marker": {
             "colorbar": {
              "outlinewidth": 0,
              "ticks": ""
             }
            },
            "type": "histogram"
           }
          ],
          "histogram2d": [
           {
            "colorbar": {
             "outlinewidth": 0,
             "ticks": ""
            },
            "colorscale": [
             [
              0,
              "#0d0887"
             ],
             [
              0.1111111111111111,
              "#46039f"
             ],
             [
              0.2222222222222222,
              "#7201a8"
             ],
             [
              0.3333333333333333,
              "#9c179e"
             ],
             [
              0.4444444444444444,
              "#bd3786"
             ],
             [
              0.5555555555555556,
              "#d8576b"
             ],
             [
              0.6666666666666666,
              "#ed7953"
             ],
             [
              0.7777777777777778,
              "#fb9f3a"
             ],
             [
              0.8888888888888888,
              "#fdca26"
             ],
             [
              1,
              "#f0f921"
             ]
            ],
            "type": "histogram2d"
           }
          ],
          "histogram2dcontour": [
           {
            "colorbar": {
             "outlinewidth": 0,
             "ticks": ""
            },
            "colorscale": [
             [
              0,
              "#0d0887"
             ],
             [
              0.1111111111111111,
              "#46039f"
             ],
             [
              0.2222222222222222,
              "#7201a8"
             ],
             [
              0.3333333333333333,
              "#9c179e"
             ],
             [
              0.4444444444444444,
              "#bd3786"
             ],
             [
              0.5555555555555556,
              "#d8576b"
             ],
             [
              0.6666666666666666,
              "#ed7953"
             ],
             [
              0.7777777777777778,
              "#fb9f3a"
             ],
             [
              0.8888888888888888,
              "#fdca26"
             ],
             [
              1,
              "#f0f921"
             ]
            ],
            "type": "histogram2dcontour"
           }
          ],
          "mesh3d": [
           {
            "colorbar": {
             "outlinewidth": 0,
             "ticks": ""
            },
            "type": "mesh3d"
           }
          ],
          "parcoords": [
           {
            "line": {
             "colorbar": {
              "outlinewidth": 0,
              "ticks": ""
             }
            },
            "type": "parcoords"
           }
          ],
          "pie": [
           {
            "automargin": true,
            "type": "pie"
           }
          ],
          "scatter": [
           {
            "marker": {
             "colorbar": {
              "outlinewidth": 0,
              "ticks": ""
             }
            },
            "type": "scatter"
           }
          ],
          "scatter3d": [
           {
            "line": {
             "colorbar": {
              "outlinewidth": 0,
              "ticks": ""
             }
            },
            "marker": {
             "colorbar": {
              "outlinewidth": 0,
              "ticks": ""
             }
            },
            "type": "scatter3d"
           }
          ],
          "scattercarpet": [
           {
            "marker": {
             "colorbar": {
              "outlinewidth": 0,
              "ticks": ""
             }
            },
            "type": "scattercarpet"
           }
          ],
          "scattergeo": [
           {
            "marker": {
             "colorbar": {
              "outlinewidth": 0,
              "ticks": ""
             }
            },
            "type": "scattergeo"
           }
          ],
          "scattergl": [
           {
            "marker": {
             "colorbar": {
              "outlinewidth": 0,
              "ticks": ""
             }
            },
            "type": "scattergl"
           }
          ],
          "scattermapbox": [
           {
            "marker": {
             "colorbar": {
              "outlinewidth": 0,
              "ticks": ""
             }
            },
            "type": "scattermapbox"
           }
          ],
          "scatterpolar": [
           {
            "marker": {
             "colorbar": {
              "outlinewidth": 0,
              "ticks": ""
             }
            },
            "type": "scatterpolar"
           }
          ],
          "scatterpolargl": [
           {
            "marker": {
             "colorbar": {
              "outlinewidth": 0,
              "ticks": ""
             }
            },
            "type": "scatterpolargl"
           }
          ],
          "scatterternary": [
           {
            "marker": {
             "colorbar": {
              "outlinewidth": 0,
              "ticks": ""
             }
            },
            "type": "scatterternary"
           }
          ],
          "surface": [
           {
            "colorbar": {
             "outlinewidth": 0,
             "ticks": ""
            },
            "colorscale": [
             [
              0,
              "#0d0887"
             ],
             [
              0.1111111111111111,
              "#46039f"
             ],
             [
              0.2222222222222222,
              "#7201a8"
             ],
             [
              0.3333333333333333,
              "#9c179e"
             ],
             [
              0.4444444444444444,
              "#bd3786"
             ],
             [
              0.5555555555555556,
              "#d8576b"
             ],
             [
              0.6666666666666666,
              "#ed7953"
             ],
             [
              0.7777777777777778,
              "#fb9f3a"
             ],
             [
              0.8888888888888888,
              "#fdca26"
             ],
             [
              1,
              "#f0f921"
             ]
            ],
            "type": "surface"
           }
          ],
          "table": [
           {
            "cells": {
             "fill": {
              "color": "#EBF0F8"
             },
             "line": {
              "color": "white"
             }
            },
            "header": {
             "fill": {
              "color": "#C8D4E3"
             },
             "line": {
              "color": "white"
             }
            },
            "type": "table"
           }
          ]
         },
         "layout": {
          "annotationdefaults": {
           "arrowcolor": "#2a3f5f",
           "arrowhead": 0,
           "arrowwidth": 1
          },
          "coloraxis": {
           "colorbar": {
            "outlinewidth": 0,
            "ticks": ""
           }
          },
          "colorscale": {
           "diverging": [
            [
             0,
             "#8e0152"
            ],
            [
             0.1,
             "#c51b7d"
            ],
            [
             0.2,
             "#de77ae"
            ],
            [
             0.3,
             "#f1b6da"
            ],
            [
             0.4,
             "#fde0ef"
            ],
            [
             0.5,
             "#f7f7f7"
            ],
            [
             0.6,
             "#e6f5d0"
            ],
            [
             0.7,
             "#b8e186"
            ],
            [
             0.8,
             "#7fbc41"
            ],
            [
             0.9,
             "#4d9221"
            ],
            [
             1,
             "#276419"
            ]
           ],
           "sequential": [
            [
             0,
             "#0d0887"
            ],
            [
             0.1111111111111111,
             "#46039f"
            ],
            [
             0.2222222222222222,
             "#7201a8"
            ],
            [
             0.3333333333333333,
             "#9c179e"
            ],
            [
             0.4444444444444444,
             "#bd3786"
            ],
            [
             0.5555555555555556,
             "#d8576b"
            ],
            [
             0.6666666666666666,
             "#ed7953"
            ],
            [
             0.7777777777777778,
             "#fb9f3a"
            ],
            [
             0.8888888888888888,
             "#fdca26"
            ],
            [
             1,
             "#f0f921"
            ]
           ],
           "sequentialminus": [
            [
             0,
             "#0d0887"
            ],
            [
             0.1111111111111111,
             "#46039f"
            ],
            [
             0.2222222222222222,
             "#7201a8"
            ],
            [
             0.3333333333333333,
             "#9c179e"
            ],
            [
             0.4444444444444444,
             "#bd3786"
            ],
            [
             0.5555555555555556,
             "#d8576b"
            ],
            [
             0.6666666666666666,
             "#ed7953"
            ],
            [
             0.7777777777777778,
             "#fb9f3a"
            ],
            [
             0.8888888888888888,
             "#fdca26"
            ],
            [
             1,
             "#f0f921"
            ]
           ]
          },
          "colorway": [
           "#636efa",
           "#EF553B",
           "#00cc96",
           "#ab63fa",
           "#FFA15A",
           "#19d3f3",
           "#FF6692",
           "#B6E880",
           "#FF97FF",
           "#FECB52"
          ],
          "font": {
           "color": "#2a3f5f"
          },
          "geo": {
           "bgcolor": "white",
           "lakecolor": "white",
           "landcolor": "#E5ECF6",
           "showlakes": true,
           "showland": true,
           "subunitcolor": "white"
          },
          "hoverlabel": {
           "align": "left"
          },
          "hovermode": "closest",
          "mapbox": {
           "style": "light"
          },
          "paper_bgcolor": "white",
          "plot_bgcolor": "#E5ECF6",
          "polar": {
           "angularaxis": {
            "gridcolor": "white",
            "linecolor": "white",
            "ticks": ""
           },
           "bgcolor": "#E5ECF6",
           "radialaxis": {
            "gridcolor": "white",
            "linecolor": "white",
            "ticks": ""
           }
          },
          "scene": {
           "xaxis": {
            "backgroundcolor": "#E5ECF6",
            "gridcolor": "white",
            "gridwidth": 2,
            "linecolor": "white",
            "showbackground": true,
            "ticks": "",
            "zerolinecolor": "white"
           },
           "yaxis": {
            "backgroundcolor": "#E5ECF6",
            "gridcolor": "white",
            "gridwidth": 2,
            "linecolor": "white",
            "showbackground": true,
            "ticks": "",
            "zerolinecolor": "white"
           },
           "zaxis": {
            "backgroundcolor": "#E5ECF6",
            "gridcolor": "white",
            "gridwidth": 2,
            "linecolor": "white",
            "showbackground": true,
            "ticks": "",
            "zerolinecolor": "white"
           }
          },
          "shapedefaults": {
           "line": {
            "color": "#2a3f5f"
           }
          },
          "ternary": {
           "aaxis": {
            "gridcolor": "white",
            "linecolor": "white",
            "ticks": ""
           },
           "baxis": {
            "gridcolor": "white",
            "linecolor": "white",
            "ticks": ""
           },
           "bgcolor": "#E5ECF6",
           "caxis": {
            "gridcolor": "white",
            "linecolor": "white",
            "ticks": ""
           }
          },
          "title": {
           "x": 0.05
          },
          "xaxis": {
           "automargin": true,
           "gridcolor": "white",
           "linecolor": "white",
           "ticks": "",
           "title": {
            "standoff": 15
           },
           "zerolinecolor": "white",
           "zerolinewidth": 2
          },
          "yaxis": {
           "automargin": true,
           "gridcolor": "white",
           "linecolor": "white",
           "ticks": "",
           "title": {
            "standoff": 15
           },
           "zerolinecolor": "white",
           "zerolinewidth": 2
          }
         }
        },
        "title": {
         "text": "Confirmed by Contries"
        },
        "xaxis": {
         "title": {
          "text": "Confirmed "
         }
        },
        "yaxis": {
         "title": {
          "text": "Countries"
         }
        }
       }
      },
      "text/html": [
       "<div>                            <div id=\"e736e1da-4791-46a0-be8a-8788f698b226\" class=\"plotly-graph-div\" style=\"height:525px; width:100%;\"></div>            <script type=\"text/javascript\">                require([\"plotly\"], function(Plotly) {                    window.PLOTLYENV=window.PLOTLYENV || {};                                    if (document.getElementById(\"e736e1da-4791-46a0-be8a-8788f698b226\")) {                    Plotly.newPlot(                        \"e736e1da-4791-46a0-be8a-8788f698b226\",                        [{\"marker\": {\"color\": \"#ea5455\"}, \"orientation\": \"h\", \"type\": \"bar\", \"x\": [7382194, 4906833, 6549373, 757953, 482654, 322751, 821564, 629509, 789932, 468119, 848147, 1198663, 790818, 679716, 468471, 140351, 299506, 127623, 300027, 166360, 375931, 323014, 136569, 314616, 137194, 103575, 94283, 319330, 367565, 134065], \"y\": [\"US\", \"Brazil\", \"India\", \"Mexico\", \"United Kingdom\", \"Italy\", \"Peru\", \"France\", \"Spain\", \"Iran\", \"Colombia\", \"Russia\", \"Argentina\", \"South Africa\", \"Chile\", \"Ecuador\", \"Indonesia\", \"Belgium\", \"Germany\", \"Canada\", \"Iraq\", \"Turkey\", \"Bolivia\", \"Pakistan\", \"Netherlands\", \"Egypt\", \"Sweden\", \"Philippines\", \"Bangladesh\", \"Romania\"]}],                        {\"font\": {\"color\": \"black\", \"family\": \"Times New Roman\", \"size\": 15}, \"paper_bgcolor\": \"#f8efd4\", \"template\": {\"data\": {\"bar\": [{\"error_x\": {\"color\": \"#2a3f5f\"}, \"error_y\": {\"color\": \"#2a3f5f\"}, \"marker\": {\"line\": {\"color\": \"#E5ECF6\", \"width\": 0.5}}, \"type\": \"bar\"}], \"barpolar\": [{\"marker\": {\"line\": {\"color\": \"#E5ECF6\", \"width\": 0.5}}, \"type\": \"barpolar\"}], \"carpet\": [{\"aaxis\": {\"endlinecolor\": \"#2a3f5f\", \"gridcolor\": \"white\", \"linecolor\": \"white\", \"minorgridcolor\": \"white\", \"startlinecolor\": \"#2a3f5f\"}, \"baxis\": {\"endlinecolor\": \"#2a3f5f\", \"gridcolor\": \"white\", \"linecolor\": \"white\", \"minorgridcolor\": \"white\", \"startlinecolor\": \"#2a3f5f\"}, \"type\": \"carpet\"}], \"choropleth\": [{\"colorbar\": {\"outlinewidth\": 0, \"ticks\": \"\"}, \"type\": \"choropleth\"}], \"contour\": [{\"colorbar\": {\"outlinewidth\": 0, \"ticks\": \"\"}, \"colorscale\": [[0.0, \"#0d0887\"], [0.1111111111111111, \"#46039f\"], [0.2222222222222222, \"#7201a8\"], [0.3333333333333333, \"#9c179e\"], [0.4444444444444444, \"#bd3786\"], [0.5555555555555556, \"#d8576b\"], [0.6666666666666666, \"#ed7953\"], [0.7777777777777778, \"#fb9f3a\"], [0.8888888888888888, \"#fdca26\"], [1.0, \"#f0f921\"]], \"type\": \"contour\"}], \"contourcarpet\": [{\"colorbar\": {\"outlinewidth\": 0, \"ticks\": \"\"}, \"type\": \"contourcarpet\"}], \"heatmap\": [{\"colorbar\": {\"outlinewidth\": 0, \"ticks\": \"\"}, \"colorscale\": [[0.0, \"#0d0887\"], [0.1111111111111111, \"#46039f\"], [0.2222222222222222, \"#7201a8\"], [0.3333333333333333, \"#9c179e\"], [0.4444444444444444, \"#bd3786\"], [0.5555555555555556, \"#d8576b\"], [0.6666666666666666, \"#ed7953\"], [0.7777777777777778, \"#fb9f3a\"], [0.8888888888888888, \"#fdca26\"], [1.0, \"#f0f921\"]], \"type\": \"heatmap\"}], \"heatmapgl\": [{\"colorbar\": {\"outlinewidth\": 0, \"ticks\": \"\"}, \"colorscale\": [[0.0, \"#0d0887\"], [0.1111111111111111, \"#46039f\"], [0.2222222222222222, \"#7201a8\"], [0.3333333333333333, \"#9c179e\"], [0.4444444444444444, \"#bd3786\"], [0.5555555555555556, \"#d8576b\"], [0.6666666666666666, \"#ed7953\"], [0.7777777777777778, \"#fb9f3a\"], [0.8888888888888888, \"#fdca26\"], [1.0, \"#f0f921\"]], \"type\": \"heatmapgl\"}], \"histogram\": [{\"marker\": {\"colorbar\": {\"outlinewidth\": 0, \"ticks\": \"\"}}, \"type\": \"histogram\"}], \"histogram2d\": [{\"colorbar\": {\"outlinewidth\": 0, \"ticks\": \"\"}, \"colorscale\": [[0.0, \"#0d0887\"], [0.1111111111111111, \"#46039f\"], [0.2222222222222222, \"#7201a8\"], [0.3333333333333333, \"#9c179e\"], [0.4444444444444444, \"#bd3786\"], [0.5555555555555556, \"#d8576b\"], [0.6666666666666666, \"#ed7953\"], [0.7777777777777778, \"#fb9f3a\"], [0.8888888888888888, \"#fdca26\"], [1.0, \"#f0f921\"]], \"type\": \"histogram2d\"}], \"histogram2dcontour\": [{\"colorbar\": {\"outlinewidth\": 0, \"ticks\": \"\"}, \"colorscale\": [[0.0, \"#0d0887\"], [0.1111111111111111, \"#46039f\"], [0.2222222222222222, \"#7201a8\"], [0.3333333333333333, \"#9c179e\"], [0.4444444444444444, \"#bd3786\"], [0.5555555555555556, \"#d8576b\"], [0.6666666666666666, \"#ed7953\"], [0.7777777777777778, \"#fb9f3a\"], [0.8888888888888888, \"#fdca26\"], [1.0, \"#f0f921\"]], \"type\": \"histogram2dcontour\"}], \"mesh3d\": [{\"colorbar\": {\"outlinewidth\": 0, \"ticks\": \"\"}, \"type\": \"mesh3d\"}], \"parcoords\": [{\"line\": {\"colorbar\": {\"outlinewidth\": 0, \"ticks\": \"\"}}, \"type\": \"parcoords\"}], \"pie\": [{\"automargin\": true, \"type\": \"pie\"}], \"scatter\": [{\"marker\": {\"colorbar\": {\"outlinewidth\": 0, \"ticks\": \"\"}}, \"type\": \"scatter\"}], \"scatter3d\": [{\"line\": {\"colorbar\": {\"outlinewidth\": 0, \"ticks\": \"\"}}, \"marker\": {\"colorbar\": {\"outlinewidth\": 0, \"ticks\": \"\"}}, \"type\": \"scatter3d\"}], \"scattercarpet\": [{\"marker\": {\"colorbar\": {\"outlinewidth\": 0, \"ticks\": \"\"}}, \"type\": \"scattercarpet\"}], \"scattergeo\": [{\"marker\": {\"colorbar\": {\"outlinewidth\": 0, \"ticks\": \"\"}}, \"type\": \"scattergeo\"}], \"scattergl\": [{\"marker\": {\"colorbar\": {\"outlinewidth\": 0, \"ticks\": \"\"}}, \"type\": \"scattergl\"}], \"scattermapbox\": [{\"marker\": {\"colorbar\": {\"outlinewidth\": 0, \"ticks\": \"\"}}, \"type\": \"scattermapbox\"}], \"scatterpolar\": [{\"marker\": {\"colorbar\": {\"outlinewidth\": 0, \"ticks\": \"\"}}, \"type\": \"scatterpolar\"}], \"scatterpolargl\": [{\"marker\": {\"colorbar\": {\"outlinewidth\": 0, \"ticks\": \"\"}}, \"type\": \"scatterpolargl\"}], \"scatterternary\": [{\"marker\": {\"colorbar\": {\"outlinewidth\": 0, \"ticks\": \"\"}}, \"type\": \"scatterternary\"}], \"surface\": [{\"colorbar\": {\"outlinewidth\": 0, \"ticks\": \"\"}, \"colorscale\": [[0.0, \"#0d0887\"], [0.1111111111111111, \"#46039f\"], [0.2222222222222222, \"#7201a8\"], [0.3333333333333333, \"#9c179e\"], [0.4444444444444444, \"#bd3786\"], [0.5555555555555556, \"#d8576b\"], [0.6666666666666666, \"#ed7953\"], [0.7777777777777778, \"#fb9f3a\"], [0.8888888888888888, \"#fdca26\"], [1.0, \"#f0f921\"]], \"type\": \"surface\"}], \"table\": [{\"cells\": {\"fill\": {\"color\": \"#EBF0F8\"}, \"line\": {\"color\": \"white\"}}, \"header\": {\"fill\": {\"color\": \"#C8D4E3\"}, \"line\": {\"color\": \"white\"}}, \"type\": \"table\"}]}, \"layout\": {\"annotationdefaults\": {\"arrowcolor\": \"#2a3f5f\", \"arrowhead\": 0, \"arrowwidth\": 1}, \"coloraxis\": {\"colorbar\": {\"outlinewidth\": 0, \"ticks\": \"\"}}, \"colorscale\": {\"diverging\": [[0, \"#8e0152\"], [0.1, \"#c51b7d\"], [0.2, \"#de77ae\"], [0.3, \"#f1b6da\"], [0.4, \"#fde0ef\"], [0.5, \"#f7f7f7\"], [0.6, \"#e6f5d0\"], [0.7, \"#b8e186\"], [0.8, \"#7fbc41\"], [0.9, \"#4d9221\"], [1, \"#276419\"]], \"sequential\": [[0.0, \"#0d0887\"], [0.1111111111111111, \"#46039f\"], [0.2222222222222222, \"#7201a8\"], [0.3333333333333333, \"#9c179e\"], [0.4444444444444444, \"#bd3786\"], [0.5555555555555556, \"#d8576b\"], [0.6666666666666666, \"#ed7953\"], [0.7777777777777778, \"#fb9f3a\"], [0.8888888888888888, \"#fdca26\"], [1.0, \"#f0f921\"]], \"sequentialminus\": [[0.0, \"#0d0887\"], [0.1111111111111111, \"#46039f\"], [0.2222222222222222, \"#7201a8\"], [0.3333333333333333, \"#9c179e\"], [0.4444444444444444, \"#bd3786\"], [0.5555555555555556, \"#d8576b\"], [0.6666666666666666, \"#ed7953\"], [0.7777777777777778, \"#fb9f3a\"], [0.8888888888888888, \"#fdca26\"], [1.0, \"#f0f921\"]]}, \"colorway\": [\"#636efa\", \"#EF553B\", \"#00cc96\", \"#ab63fa\", \"#FFA15A\", \"#19d3f3\", \"#FF6692\", \"#B6E880\", \"#FF97FF\", \"#FECB52\"], \"font\": {\"color\": \"#2a3f5f\"}, \"geo\": {\"bgcolor\": \"white\", \"lakecolor\": \"white\", \"landcolor\": \"#E5ECF6\", \"showlakes\": true, \"showland\": true, \"subunitcolor\": \"white\"}, \"hoverlabel\": {\"align\": \"left\"}, \"hovermode\": \"closest\", \"mapbox\": {\"style\": \"light\"}, \"paper_bgcolor\": \"white\", \"plot_bgcolor\": \"#E5ECF6\", \"polar\": {\"angularaxis\": {\"gridcolor\": \"white\", \"linecolor\": \"white\", \"ticks\": \"\"}, \"bgcolor\": \"#E5ECF6\", \"radialaxis\": {\"gridcolor\": \"white\", \"linecolor\": \"white\", \"ticks\": \"\"}}, \"scene\": {\"xaxis\": {\"backgroundcolor\": \"#E5ECF6\", \"gridcolor\": \"white\", \"gridwidth\": 2, \"linecolor\": \"white\", \"showbackground\": true, \"ticks\": \"\", \"zerolinecolor\": \"white\"}, \"yaxis\": {\"backgroundcolor\": \"#E5ECF6\", \"gridcolor\": \"white\", \"gridwidth\": 2, \"linecolor\": \"white\", \"showbackground\": true, \"ticks\": \"\", \"zerolinecolor\": \"white\"}, \"zaxis\": {\"backgroundcolor\": \"#E5ECF6\", \"gridcolor\": \"white\", \"gridwidth\": 2, \"linecolor\": \"white\", \"showbackground\": true, \"ticks\": \"\", \"zerolinecolor\": \"white\"}}, \"shapedefaults\": {\"line\": {\"color\": \"#2a3f5f\"}}, \"ternary\": {\"aaxis\": {\"gridcolor\": \"white\", \"linecolor\": \"white\", \"ticks\": \"\"}, \"baxis\": {\"gridcolor\": \"white\", \"linecolor\": \"white\", \"ticks\": \"\"}, \"bgcolor\": \"#E5ECF6\", \"caxis\": {\"gridcolor\": \"white\", \"linecolor\": \"white\", \"ticks\": \"\"}}, \"title\": {\"x\": 0.05}, \"xaxis\": {\"automargin\": true, \"gridcolor\": \"white\", \"linecolor\": \"white\", \"ticks\": \"\", \"title\": {\"standoff\": 15}, \"zerolinecolor\": \"white\", \"zerolinewidth\": 2}, \"yaxis\": {\"automargin\": true, \"gridcolor\": \"white\", \"linecolor\": \"white\", \"ticks\": \"\", \"title\": {\"standoff\": 15}, \"zerolinecolor\": \"white\", \"zerolinewidth\": 2}}}, \"title\": {\"text\": \"Confirmed by Contries\"}, \"xaxis\": {\"title\": {\"text\": \"Confirmed \"}}, \"yaxis\": {\"title\": {\"text\": \"Countries\"}}},                        {\"responsive\": true}                    ).then(function(){\n",
       "                            \n",
       "var gd = document.getElementById('e736e1da-4791-46a0-be8a-8788f698b226');\n",
       "var x = new MutationObserver(function (mutations, observer) {{\n",
       "        var display = window.getComputedStyle(gd).display;\n",
       "        if (!display || display === 'none') {{\n",
       "            console.log([gd, 'removed!']);\n",
       "            Plotly.purge(gd);\n",
       "            observer.disconnect();\n",
       "        }}\n",
       "}});\n",
       "\n",
       "// Listen for the removal of the full notebook cells\n",
       "var notebookContainer = gd.closest('#notebook-container');\n",
       "if (notebookContainer) {{\n",
       "    x.observe(notebookContainer, {childList: true});\n",
       "}}\n",
       "\n",
       "// Listen for the clearing of the current output cell\n",
       "var outputEl = gd.closest('.output');\n",
       "if (outputEl) {{\n",
       "    x.observe(outputEl, {childList: true});\n",
       "}}\n",
       "\n",
       "                        })                };                });            </script>        </div>"
      ]
     },
     "metadata": {},
     "output_type": "display_data"
    }
   ],
   "source": [
    "#สร้าง bar chart (horizontal) เพื่อเปรียบเทียบจำนวน confirmed ในแต่ละประเทศ\n",
    "fig = go.Figure(go.Bar(\n",
    "            x=Data_country['confirmed'].head(30),\n",
    "            y=Data_country['country'].head(30),\n",
    "            marker_color = \"#ea5455\",\n",
    "            orientation='h'))\n",
    "fig.update_layout(\n",
    "    title='Confirmed by Contries',\n",
    "     xaxis_title=\"Confirmed \",\n",
    "    yaxis_title=\"Countries\",\n",
    "    paper_bgcolor=\"#f8efd4\",\n",
    "    font=dict(\n",
    "        family=\"Times New Roman\",\n",
    "        size=15,\n",
    "        color=\"black\"\n",
    "    )\n",
    ")\n",
    "\n",
    "\n",
    "fig.show()"
   ]
  },
  {
   "cell_type": "markdown",
   "metadata": {},
   "source": [
    "    3. ต้องการทราบยอดผู้ติดเชื้อในแต่ละประเทศ\n",
    "    โดยนำเสนอในรูปแบบ horizontal bar chart พบว่า ยอดผู้ติดเชื้อ 3 อันดับแรกคือ 1) อเมริกา 2)อินเดีย  3)บราซิล"
   ]
  },
  {
   "cell_type": "markdown",
   "metadata": {},
   "source": [
    "### Recovered by Contries"
   ]
  },
  {
   "cell_type": "code",
   "execution_count": 66,
   "metadata": {
    "colab": {
     "base_uri": "https://localhost:8080/",
     "height": 542
    },
    "id": "nCbnRiMtakdX",
    "outputId": "af83a5f9-1ff7-41f5-9acb-ddfd3db4fc92",
    "scrolled": false
   },
   "outputs": [
    {
     "data": {
      "application/vnd.plotly.v1+json": {
       "config": {
        "plotlyServerURL": "https://plot.ly"
       },
       "data": [
        {
         "marker": {
          "color": "#07689f"
         },
         "orientation": "h",
         "type": "bar",
         "x": [
          2897322,
          4361108,
          5509966,
          637993,
          2396,
          231217,
          695645,
          100281,
          150376,
          387675,
          757801,
          972249,
          626114,
          612763,
          440881,
          112296,
          225052,
          19645,
          260916,
          140711,
          303665,
          283868,
          97105,
          298968,
          4305,
          97274,
          0,
          255046,
          280069,
          107058
         ],
         "y": [
          "US",
          "Brazil",
          "India",
          "Mexico",
          "United Kingdom",
          "Italy",
          "Peru",
          "France",
          "Spain",
          "Iran",
          "Colombia",
          "Russia",
          "Argentina",
          "South Africa",
          "Chile",
          "Ecuador",
          "Indonesia",
          "Belgium",
          "Germany",
          "Canada",
          "Iraq",
          "Turkey",
          "Bolivia",
          "Pakistan",
          "Netherlands",
          "Egypt",
          "Sweden",
          "Philippines",
          "Bangladesh",
          "Romania"
         ]
        }
       ],
       "layout": {
        "font": {
         "color": "black",
         "family": "Times New Roman",
         "size": 15
        },
        "paper_bgcolor": "#f8efd4",
        "template": {
         "data": {
          "bar": [
           {
            "error_x": {
             "color": "#2a3f5f"
            },
            "error_y": {
             "color": "#2a3f5f"
            },
            "marker": {
             "line": {
              "color": "#E5ECF6",
              "width": 0.5
             }
            },
            "type": "bar"
           }
          ],
          "barpolar": [
           {
            "marker": {
             "line": {
              "color": "#E5ECF6",
              "width": 0.5
             }
            },
            "type": "barpolar"
           }
          ],
          "carpet": [
           {
            "aaxis": {
             "endlinecolor": "#2a3f5f",
             "gridcolor": "white",
             "linecolor": "white",
             "minorgridcolor": "white",
             "startlinecolor": "#2a3f5f"
            },
            "baxis": {
             "endlinecolor": "#2a3f5f",
             "gridcolor": "white",
             "linecolor": "white",
             "minorgridcolor": "white",
             "startlinecolor": "#2a3f5f"
            },
            "type": "carpet"
           }
          ],
          "choropleth": [
           {
            "colorbar": {
             "outlinewidth": 0,
             "ticks": ""
            },
            "type": "choropleth"
           }
          ],
          "contour": [
           {
            "colorbar": {
             "outlinewidth": 0,
             "ticks": ""
            },
            "colorscale": [
             [
              0,
              "#0d0887"
             ],
             [
              0.1111111111111111,
              "#46039f"
             ],
             [
              0.2222222222222222,
              "#7201a8"
             ],
             [
              0.3333333333333333,
              "#9c179e"
             ],
             [
              0.4444444444444444,
              "#bd3786"
             ],
             [
              0.5555555555555556,
              "#d8576b"
             ],
             [
              0.6666666666666666,
              "#ed7953"
             ],
             [
              0.7777777777777778,
              "#fb9f3a"
             ],
             [
              0.8888888888888888,
              "#fdca26"
             ],
             [
              1,
              "#f0f921"
             ]
            ],
            "type": "contour"
           }
          ],
          "contourcarpet": [
           {
            "colorbar": {
             "outlinewidth": 0,
             "ticks": ""
            },
            "type": "contourcarpet"
           }
          ],
          "heatmap": [
           {
            "colorbar": {
             "outlinewidth": 0,
             "ticks": ""
            },
            "colorscale": [
             [
              0,
              "#0d0887"
             ],
             [
              0.1111111111111111,
              "#46039f"
             ],
             [
              0.2222222222222222,
              "#7201a8"
             ],
             [
              0.3333333333333333,
              "#9c179e"
             ],
             [
              0.4444444444444444,
              "#bd3786"
             ],
             [
              0.5555555555555556,
              "#d8576b"
             ],
             [
              0.6666666666666666,
              "#ed7953"
             ],
             [
              0.7777777777777778,
              "#fb9f3a"
             ],
             [
              0.8888888888888888,
              "#fdca26"
             ],
             [
              1,
              "#f0f921"
             ]
            ],
            "type": "heatmap"
           }
          ],
          "heatmapgl": [
           {
            "colorbar": {
             "outlinewidth": 0,
             "ticks": ""
            },
            "colorscale": [
             [
              0,
              "#0d0887"
             ],
             [
              0.1111111111111111,
              "#46039f"
             ],
             [
              0.2222222222222222,
              "#7201a8"
             ],
             [
              0.3333333333333333,
              "#9c179e"
             ],
             [
              0.4444444444444444,
              "#bd3786"
             ],
             [
              0.5555555555555556,
              "#d8576b"
             ],
             [
              0.6666666666666666,
              "#ed7953"
             ],
             [
              0.7777777777777778,
              "#fb9f3a"
             ],
             [
              0.8888888888888888,
              "#fdca26"
             ],
             [
              1,
              "#f0f921"
             ]
            ],
            "type": "heatmapgl"
           }
          ],
          "histogram": [
           {
            "marker": {
             "colorbar": {
              "outlinewidth": 0,
              "ticks": ""
             }
            },
            "type": "histogram"
           }
          ],
          "histogram2d": [
           {
            "colorbar": {
             "outlinewidth": 0,
             "ticks": ""
            },
            "colorscale": [
             [
              0,
              "#0d0887"
             ],
             [
              0.1111111111111111,
              "#46039f"
             ],
             [
              0.2222222222222222,
              "#7201a8"
             ],
             [
              0.3333333333333333,
              "#9c179e"
             ],
             [
              0.4444444444444444,
              "#bd3786"
             ],
             [
              0.5555555555555556,
              "#d8576b"
             ],
             [
              0.6666666666666666,
              "#ed7953"
             ],
             [
              0.7777777777777778,
              "#fb9f3a"
             ],
             [
              0.8888888888888888,
              "#fdca26"
             ],
             [
              1,
              "#f0f921"
             ]
            ],
            "type": "histogram2d"
           }
          ],
          "histogram2dcontour": [
           {
            "colorbar": {
             "outlinewidth": 0,
             "ticks": ""
            },
            "colorscale": [
             [
              0,
              "#0d0887"
             ],
             [
              0.1111111111111111,
              "#46039f"
             ],
             [
              0.2222222222222222,
              "#7201a8"
             ],
             [
              0.3333333333333333,
              "#9c179e"
             ],
             [
              0.4444444444444444,
              "#bd3786"
             ],
             [
              0.5555555555555556,
              "#d8576b"
             ],
             [
              0.6666666666666666,
              "#ed7953"
             ],
             [
              0.7777777777777778,
              "#fb9f3a"
             ],
             [
              0.8888888888888888,
              "#fdca26"
             ],
             [
              1,
              "#f0f921"
             ]
            ],
            "type": "histogram2dcontour"
           }
          ],
          "mesh3d": [
           {
            "colorbar": {
             "outlinewidth": 0,
             "ticks": ""
            },
            "type": "mesh3d"
           }
          ],
          "parcoords": [
           {
            "line": {
             "colorbar": {
              "outlinewidth": 0,
              "ticks": ""
             }
            },
            "type": "parcoords"
           }
          ],
          "pie": [
           {
            "automargin": true,
            "type": "pie"
           }
          ],
          "scatter": [
           {
            "marker": {
             "colorbar": {
              "outlinewidth": 0,
              "ticks": ""
             }
            },
            "type": "scatter"
           }
          ],
          "scatter3d": [
           {
            "line": {
             "colorbar": {
              "outlinewidth": 0,
              "ticks": ""
             }
            },
            "marker": {
             "colorbar": {
              "outlinewidth": 0,
              "ticks": ""
             }
            },
            "type": "scatter3d"
           }
          ],
          "scattercarpet": [
           {
            "marker": {
             "colorbar": {
              "outlinewidth": 0,
              "ticks": ""
             }
            },
            "type": "scattercarpet"
           }
          ],
          "scattergeo": [
           {
            "marker": {
             "colorbar": {
              "outlinewidth": 0,
              "ticks": ""
             }
            },
            "type": "scattergeo"
           }
          ],
          "scattergl": [
           {
            "marker": {
             "colorbar": {
              "outlinewidth": 0,
              "ticks": ""
             }
            },
            "type": "scattergl"
           }
          ],
          "scattermapbox": [
           {
            "marker": {
             "colorbar": {
              "outlinewidth": 0,
              "ticks": ""
             }
            },
            "type": "scattermapbox"
           }
          ],
          "scatterpolar": [
           {
            "marker": {
             "colorbar": {
              "outlinewidth": 0,
              "ticks": ""
             }
            },
            "type": "scatterpolar"
           }
          ],
          "scatterpolargl": [
           {
            "marker": {
             "colorbar": {
              "outlinewidth": 0,
              "ticks": ""
             }
            },
            "type": "scatterpolargl"
           }
          ],
          "scatterternary": [
           {
            "marker": {
             "colorbar": {
              "outlinewidth": 0,
              "ticks": ""
             }
            },
            "type": "scatterternary"
           }
          ],
          "surface": [
           {
            "colorbar": {
             "outlinewidth": 0,
             "ticks": ""
            },
            "colorscale": [
             [
              0,
              "#0d0887"
             ],
             [
              0.1111111111111111,
              "#46039f"
             ],
             [
              0.2222222222222222,
              "#7201a8"
             ],
             [
              0.3333333333333333,
              "#9c179e"
             ],
             [
              0.4444444444444444,
              "#bd3786"
             ],
             [
              0.5555555555555556,
              "#d8576b"
             ],
             [
              0.6666666666666666,
              "#ed7953"
             ],
             [
              0.7777777777777778,
              "#fb9f3a"
             ],
             [
              0.8888888888888888,
              "#fdca26"
             ],
             [
              1,
              "#f0f921"
             ]
            ],
            "type": "surface"
           }
          ],
          "table": [
           {
            "cells": {
             "fill": {
              "color": "#EBF0F8"
             },
             "line": {
              "color": "white"
             }
            },
            "header": {
             "fill": {
              "color": "#C8D4E3"
             },
             "line": {
              "color": "white"
             }
            },
            "type": "table"
           }
          ]
         },
         "layout": {
          "annotationdefaults": {
           "arrowcolor": "#2a3f5f",
           "arrowhead": 0,
           "arrowwidth": 1
          },
          "coloraxis": {
           "colorbar": {
            "outlinewidth": 0,
            "ticks": ""
           }
          },
          "colorscale": {
           "diverging": [
            [
             0,
             "#8e0152"
            ],
            [
             0.1,
             "#c51b7d"
            ],
            [
             0.2,
             "#de77ae"
            ],
            [
             0.3,
             "#f1b6da"
            ],
            [
             0.4,
             "#fde0ef"
            ],
            [
             0.5,
             "#f7f7f7"
            ],
            [
             0.6,
             "#e6f5d0"
            ],
            [
             0.7,
             "#b8e186"
            ],
            [
             0.8,
             "#7fbc41"
            ],
            [
             0.9,
             "#4d9221"
            ],
            [
             1,
             "#276419"
            ]
           ],
           "sequential": [
            [
             0,
             "#0d0887"
            ],
            [
             0.1111111111111111,
             "#46039f"
            ],
            [
             0.2222222222222222,
             "#7201a8"
            ],
            [
             0.3333333333333333,
             "#9c179e"
            ],
            [
             0.4444444444444444,
             "#bd3786"
            ],
            [
             0.5555555555555556,
             "#d8576b"
            ],
            [
             0.6666666666666666,
             "#ed7953"
            ],
            [
             0.7777777777777778,
             "#fb9f3a"
            ],
            [
             0.8888888888888888,
             "#fdca26"
            ],
            [
             1,
             "#f0f921"
            ]
           ],
           "sequentialminus": [
            [
             0,
             "#0d0887"
            ],
            [
             0.1111111111111111,
             "#46039f"
            ],
            [
             0.2222222222222222,
             "#7201a8"
            ],
            [
             0.3333333333333333,
             "#9c179e"
            ],
            [
             0.4444444444444444,
             "#bd3786"
            ],
            [
             0.5555555555555556,
             "#d8576b"
            ],
            [
             0.6666666666666666,
             "#ed7953"
            ],
            [
             0.7777777777777778,
             "#fb9f3a"
            ],
            [
             0.8888888888888888,
             "#fdca26"
            ],
            [
             1,
             "#f0f921"
            ]
           ]
          },
          "colorway": [
           "#636efa",
           "#EF553B",
           "#00cc96",
           "#ab63fa",
           "#FFA15A",
           "#19d3f3",
           "#FF6692",
           "#B6E880",
           "#FF97FF",
           "#FECB52"
          ],
          "font": {
           "color": "#2a3f5f"
          },
          "geo": {
           "bgcolor": "white",
           "lakecolor": "white",
           "landcolor": "#E5ECF6",
           "showlakes": true,
           "showland": true,
           "subunitcolor": "white"
          },
          "hoverlabel": {
           "align": "left"
          },
          "hovermode": "closest",
          "mapbox": {
           "style": "light"
          },
          "paper_bgcolor": "white",
          "plot_bgcolor": "#E5ECF6",
          "polar": {
           "angularaxis": {
            "gridcolor": "white",
            "linecolor": "white",
            "ticks": ""
           },
           "bgcolor": "#E5ECF6",
           "radialaxis": {
            "gridcolor": "white",
            "linecolor": "white",
            "ticks": ""
           }
          },
          "scene": {
           "xaxis": {
            "backgroundcolor": "#E5ECF6",
            "gridcolor": "white",
            "gridwidth": 2,
            "linecolor": "white",
            "showbackground": true,
            "ticks": "",
            "zerolinecolor": "white"
           },
           "yaxis": {
            "backgroundcolor": "#E5ECF6",
            "gridcolor": "white",
            "gridwidth": 2,
            "linecolor": "white",
            "showbackground": true,
            "ticks": "",
            "zerolinecolor": "white"
           },
           "zaxis": {
            "backgroundcolor": "#E5ECF6",
            "gridcolor": "white",
            "gridwidth": 2,
            "linecolor": "white",
            "showbackground": true,
            "ticks": "",
            "zerolinecolor": "white"
           }
          },
          "shapedefaults": {
           "line": {
            "color": "#2a3f5f"
           }
          },
          "ternary": {
           "aaxis": {
            "gridcolor": "white",
            "linecolor": "white",
            "ticks": ""
           },
           "baxis": {
            "gridcolor": "white",
            "linecolor": "white",
            "ticks": ""
           },
           "bgcolor": "#E5ECF6",
           "caxis": {
            "gridcolor": "white",
            "linecolor": "white",
            "ticks": ""
           }
          },
          "title": {
           "x": 0.05
          },
          "xaxis": {
           "automargin": true,
           "gridcolor": "white",
           "linecolor": "white",
           "ticks": "",
           "title": {
            "standoff": 15
           },
           "zerolinecolor": "white",
           "zerolinewidth": 2
          },
          "yaxis": {
           "automargin": true,
           "gridcolor": "white",
           "linecolor": "white",
           "ticks": "",
           "title": {
            "standoff": 15
           },
           "zerolinecolor": "white",
           "zerolinewidth": 2
          }
         }
        },
        "title": {
         "text": "Recovered by Contries"
        },
        "xaxis": {
         "title": {
          "text": "Recovered"
         }
        },
        "yaxis": {
         "title": {
          "text": "Countries"
         }
        }
       }
      },
      "text/html": [
       "<div>                            <div id=\"ae900db1-95ed-4312-b096-e8ae944e7550\" class=\"plotly-graph-div\" style=\"height:525px; width:100%;\"></div>            <script type=\"text/javascript\">                require([\"plotly\"], function(Plotly) {                    window.PLOTLYENV=window.PLOTLYENV || {};                                    if (document.getElementById(\"ae900db1-95ed-4312-b096-e8ae944e7550\")) {                    Plotly.newPlot(                        \"ae900db1-95ed-4312-b096-e8ae944e7550\",                        [{\"marker\": {\"color\": \"#07689f\"}, \"orientation\": \"h\", \"type\": \"bar\", \"x\": [2897322.0, 4361108.0, 5509966.0, 637993.0, 2396.0, 231217.0, 695645.0, 100281.0, 150376.0, 387675.0, 757801.0, 972249.0, 626114.0, 612763.0, 440881.0, 112296.0, 225052.0, 19645.0, 260916.0, 140711.0, 303665.0, 283868.0, 97105.0, 298968.0, 4305.0, 97274.0, 0.0, 255046.0, 280069.0, 107058.0], \"y\": [\"US\", \"Brazil\", \"India\", \"Mexico\", \"United Kingdom\", \"Italy\", \"Peru\", \"France\", \"Spain\", \"Iran\", \"Colombia\", \"Russia\", \"Argentina\", \"South Africa\", \"Chile\", \"Ecuador\", \"Indonesia\", \"Belgium\", \"Germany\", \"Canada\", \"Iraq\", \"Turkey\", \"Bolivia\", \"Pakistan\", \"Netherlands\", \"Egypt\", \"Sweden\", \"Philippines\", \"Bangladesh\", \"Romania\"]}],                        {\"font\": {\"color\": \"black\", \"family\": \"Times New Roman\", \"size\": 15}, \"paper_bgcolor\": \"#f8efd4\", \"template\": {\"data\": {\"bar\": [{\"error_x\": {\"color\": \"#2a3f5f\"}, \"error_y\": {\"color\": \"#2a3f5f\"}, \"marker\": {\"line\": {\"color\": \"#E5ECF6\", \"width\": 0.5}}, \"type\": \"bar\"}], \"barpolar\": [{\"marker\": {\"line\": {\"color\": \"#E5ECF6\", \"width\": 0.5}}, \"type\": \"barpolar\"}], \"carpet\": [{\"aaxis\": {\"endlinecolor\": \"#2a3f5f\", \"gridcolor\": \"white\", \"linecolor\": \"white\", \"minorgridcolor\": \"white\", \"startlinecolor\": \"#2a3f5f\"}, \"baxis\": {\"endlinecolor\": \"#2a3f5f\", \"gridcolor\": \"white\", \"linecolor\": \"white\", \"minorgridcolor\": \"white\", \"startlinecolor\": \"#2a3f5f\"}, \"type\": \"carpet\"}], \"choropleth\": [{\"colorbar\": {\"outlinewidth\": 0, \"ticks\": \"\"}, \"type\": \"choropleth\"}], \"contour\": [{\"colorbar\": {\"outlinewidth\": 0, \"ticks\": \"\"}, \"colorscale\": [[0.0, \"#0d0887\"], [0.1111111111111111, \"#46039f\"], [0.2222222222222222, \"#7201a8\"], [0.3333333333333333, \"#9c179e\"], [0.4444444444444444, \"#bd3786\"], [0.5555555555555556, \"#d8576b\"], [0.6666666666666666, \"#ed7953\"], [0.7777777777777778, \"#fb9f3a\"], [0.8888888888888888, \"#fdca26\"], [1.0, \"#f0f921\"]], \"type\": \"contour\"}], \"contourcarpet\": [{\"colorbar\": {\"outlinewidth\": 0, \"ticks\": \"\"}, \"type\": \"contourcarpet\"}], \"heatmap\": [{\"colorbar\": {\"outlinewidth\": 0, \"ticks\": \"\"}, \"colorscale\": [[0.0, \"#0d0887\"], [0.1111111111111111, \"#46039f\"], [0.2222222222222222, \"#7201a8\"], [0.3333333333333333, \"#9c179e\"], [0.4444444444444444, \"#bd3786\"], [0.5555555555555556, \"#d8576b\"], [0.6666666666666666, \"#ed7953\"], [0.7777777777777778, \"#fb9f3a\"], [0.8888888888888888, \"#fdca26\"], [1.0, \"#f0f921\"]], \"type\": \"heatmap\"}], \"heatmapgl\": [{\"colorbar\": {\"outlinewidth\": 0, \"ticks\": \"\"}, \"colorscale\": [[0.0, \"#0d0887\"], [0.1111111111111111, \"#46039f\"], [0.2222222222222222, \"#7201a8\"], [0.3333333333333333, \"#9c179e\"], [0.4444444444444444, \"#bd3786\"], [0.5555555555555556, \"#d8576b\"], [0.6666666666666666, \"#ed7953\"], [0.7777777777777778, \"#fb9f3a\"], [0.8888888888888888, \"#fdca26\"], [1.0, \"#f0f921\"]], \"type\": \"heatmapgl\"}], \"histogram\": [{\"marker\": {\"colorbar\": {\"outlinewidth\": 0, \"ticks\": \"\"}}, \"type\": \"histogram\"}], \"histogram2d\": [{\"colorbar\": {\"outlinewidth\": 0, \"ticks\": \"\"}, \"colorscale\": [[0.0, \"#0d0887\"], [0.1111111111111111, \"#46039f\"], [0.2222222222222222, \"#7201a8\"], [0.3333333333333333, \"#9c179e\"], [0.4444444444444444, \"#bd3786\"], [0.5555555555555556, \"#d8576b\"], [0.6666666666666666, \"#ed7953\"], [0.7777777777777778, \"#fb9f3a\"], [0.8888888888888888, \"#fdca26\"], [1.0, \"#f0f921\"]], \"type\": \"histogram2d\"}], \"histogram2dcontour\": [{\"colorbar\": {\"outlinewidth\": 0, \"ticks\": \"\"}, \"colorscale\": [[0.0, \"#0d0887\"], [0.1111111111111111, \"#46039f\"], [0.2222222222222222, \"#7201a8\"], [0.3333333333333333, \"#9c179e\"], [0.4444444444444444, \"#bd3786\"], [0.5555555555555556, \"#d8576b\"], [0.6666666666666666, \"#ed7953\"], [0.7777777777777778, \"#fb9f3a\"], [0.8888888888888888, \"#fdca26\"], [1.0, \"#f0f921\"]], \"type\": \"histogram2dcontour\"}], \"mesh3d\": [{\"colorbar\": {\"outlinewidth\": 0, \"ticks\": \"\"}, \"type\": \"mesh3d\"}], \"parcoords\": [{\"line\": {\"colorbar\": {\"outlinewidth\": 0, \"ticks\": \"\"}}, \"type\": \"parcoords\"}], \"pie\": [{\"automargin\": true, \"type\": \"pie\"}], \"scatter\": [{\"marker\": {\"colorbar\": {\"outlinewidth\": 0, \"ticks\": \"\"}}, \"type\": \"scatter\"}], \"scatter3d\": [{\"line\": {\"colorbar\": {\"outlinewidth\": 0, \"ticks\": \"\"}}, \"marker\": {\"colorbar\": {\"outlinewidth\": 0, \"ticks\": \"\"}}, \"type\": \"scatter3d\"}], \"scattercarpet\": [{\"marker\": {\"colorbar\": {\"outlinewidth\": 0, \"ticks\": \"\"}}, \"type\": \"scattercarpet\"}], \"scattergeo\": [{\"marker\": {\"colorbar\": {\"outlinewidth\": 0, \"ticks\": \"\"}}, \"type\": \"scattergeo\"}], \"scattergl\": [{\"marker\": {\"colorbar\": {\"outlinewidth\": 0, \"ticks\": \"\"}}, \"type\": \"scattergl\"}], \"scattermapbox\": [{\"marker\": {\"colorbar\": {\"outlinewidth\": 0, \"ticks\": \"\"}}, \"type\": \"scattermapbox\"}], \"scatterpolar\": [{\"marker\": {\"colorbar\": {\"outlinewidth\": 0, \"ticks\": \"\"}}, \"type\": \"scatterpolar\"}], \"scatterpolargl\": [{\"marker\": {\"colorbar\": {\"outlinewidth\": 0, \"ticks\": \"\"}}, \"type\": \"scatterpolargl\"}], \"scatterternary\": [{\"marker\": {\"colorbar\": {\"outlinewidth\": 0, \"ticks\": \"\"}}, \"type\": \"scatterternary\"}], \"surface\": [{\"colorbar\": {\"outlinewidth\": 0, \"ticks\": \"\"}, \"colorscale\": [[0.0, \"#0d0887\"], [0.1111111111111111, \"#46039f\"], [0.2222222222222222, \"#7201a8\"], [0.3333333333333333, \"#9c179e\"], [0.4444444444444444, \"#bd3786\"], [0.5555555555555556, \"#d8576b\"], [0.6666666666666666, \"#ed7953\"], [0.7777777777777778, \"#fb9f3a\"], [0.8888888888888888, \"#fdca26\"], [1.0, \"#f0f921\"]], \"type\": \"surface\"}], \"table\": [{\"cells\": {\"fill\": {\"color\": \"#EBF0F8\"}, \"line\": {\"color\": \"white\"}}, \"header\": {\"fill\": {\"color\": \"#C8D4E3\"}, \"line\": {\"color\": \"white\"}}, \"type\": \"table\"}]}, \"layout\": {\"annotationdefaults\": {\"arrowcolor\": \"#2a3f5f\", \"arrowhead\": 0, \"arrowwidth\": 1}, \"coloraxis\": {\"colorbar\": {\"outlinewidth\": 0, \"ticks\": \"\"}}, \"colorscale\": {\"diverging\": [[0, \"#8e0152\"], [0.1, \"#c51b7d\"], [0.2, \"#de77ae\"], [0.3, \"#f1b6da\"], [0.4, \"#fde0ef\"], [0.5, \"#f7f7f7\"], [0.6, \"#e6f5d0\"], [0.7, \"#b8e186\"], [0.8, \"#7fbc41\"], [0.9, \"#4d9221\"], [1, \"#276419\"]], \"sequential\": [[0.0, \"#0d0887\"], [0.1111111111111111, \"#46039f\"], [0.2222222222222222, \"#7201a8\"], [0.3333333333333333, \"#9c179e\"], [0.4444444444444444, \"#bd3786\"], [0.5555555555555556, \"#d8576b\"], [0.6666666666666666, \"#ed7953\"], [0.7777777777777778, \"#fb9f3a\"], [0.8888888888888888, \"#fdca26\"], [1.0, \"#f0f921\"]], \"sequentialminus\": [[0.0, \"#0d0887\"], [0.1111111111111111, \"#46039f\"], [0.2222222222222222, \"#7201a8\"], [0.3333333333333333, \"#9c179e\"], [0.4444444444444444, \"#bd3786\"], [0.5555555555555556, \"#d8576b\"], [0.6666666666666666, \"#ed7953\"], [0.7777777777777778, \"#fb9f3a\"], [0.8888888888888888, \"#fdca26\"], [1.0, \"#f0f921\"]]}, \"colorway\": [\"#636efa\", \"#EF553B\", \"#00cc96\", \"#ab63fa\", \"#FFA15A\", \"#19d3f3\", \"#FF6692\", \"#B6E880\", \"#FF97FF\", \"#FECB52\"], \"font\": {\"color\": \"#2a3f5f\"}, \"geo\": {\"bgcolor\": \"white\", \"lakecolor\": \"white\", \"landcolor\": \"#E5ECF6\", \"showlakes\": true, \"showland\": true, \"subunitcolor\": \"white\"}, \"hoverlabel\": {\"align\": \"left\"}, \"hovermode\": \"closest\", \"mapbox\": {\"style\": \"light\"}, \"paper_bgcolor\": \"white\", \"plot_bgcolor\": \"#E5ECF6\", \"polar\": {\"angularaxis\": {\"gridcolor\": \"white\", \"linecolor\": \"white\", \"ticks\": \"\"}, \"bgcolor\": \"#E5ECF6\", \"radialaxis\": {\"gridcolor\": \"white\", \"linecolor\": \"white\", \"ticks\": \"\"}}, \"scene\": {\"xaxis\": {\"backgroundcolor\": \"#E5ECF6\", \"gridcolor\": \"white\", \"gridwidth\": 2, \"linecolor\": \"white\", \"showbackground\": true, \"ticks\": \"\", \"zerolinecolor\": \"white\"}, \"yaxis\": {\"backgroundcolor\": \"#E5ECF6\", \"gridcolor\": \"white\", \"gridwidth\": 2, \"linecolor\": \"white\", \"showbackground\": true, \"ticks\": \"\", \"zerolinecolor\": \"white\"}, \"zaxis\": {\"backgroundcolor\": \"#E5ECF6\", \"gridcolor\": \"white\", \"gridwidth\": 2, \"linecolor\": \"white\", \"showbackground\": true, \"ticks\": \"\", \"zerolinecolor\": \"white\"}}, \"shapedefaults\": {\"line\": {\"color\": \"#2a3f5f\"}}, \"ternary\": {\"aaxis\": {\"gridcolor\": \"white\", \"linecolor\": \"white\", \"ticks\": \"\"}, \"baxis\": {\"gridcolor\": \"white\", \"linecolor\": \"white\", \"ticks\": \"\"}, \"bgcolor\": \"#E5ECF6\", \"caxis\": {\"gridcolor\": \"white\", \"linecolor\": \"white\", \"ticks\": \"\"}}, \"title\": {\"x\": 0.05}, \"xaxis\": {\"automargin\": true, \"gridcolor\": \"white\", \"linecolor\": \"white\", \"ticks\": \"\", \"title\": {\"standoff\": 15}, \"zerolinecolor\": \"white\", \"zerolinewidth\": 2}, \"yaxis\": {\"automargin\": true, \"gridcolor\": \"white\", \"linecolor\": \"white\", \"ticks\": \"\", \"title\": {\"standoff\": 15}, \"zerolinecolor\": \"white\", \"zerolinewidth\": 2}}}, \"title\": {\"text\": \"Recovered by Contries\"}, \"xaxis\": {\"title\": {\"text\": \"Recovered\"}}, \"yaxis\": {\"title\": {\"text\": \"Countries\"}}},                        {\"responsive\": true}                    ).then(function(){\n",
       "                            \n",
       "var gd = document.getElementById('ae900db1-95ed-4312-b096-e8ae944e7550');\n",
       "var x = new MutationObserver(function (mutations, observer) {{\n",
       "        var display = window.getComputedStyle(gd).display;\n",
       "        if (!display || display === 'none') {{\n",
       "            console.log([gd, 'removed!']);\n",
       "            Plotly.purge(gd);\n",
       "            observer.disconnect();\n",
       "        }}\n",
       "}});\n",
       "\n",
       "// Listen for the removal of the full notebook cells\n",
       "var notebookContainer = gd.closest('#notebook-container');\n",
       "if (notebookContainer) {{\n",
       "    x.observe(notebookContainer, {childList: true});\n",
       "}}\n",
       "\n",
       "// Listen for the clearing of the current output cell\n",
       "var outputEl = gd.closest('.output');\n",
       "if (outputEl) {{\n",
       "    x.observe(outputEl, {childList: true});\n",
       "}}\n",
       "\n",
       "                        })                };                });            </script>        </div>"
      ]
     },
     "metadata": {},
     "output_type": "display_data"
    }
   ],
   "source": [
    "#สร้าง bar chart (horizontal) เพื่อเปรียบเทียบจำนวน recoverd ในแต่ละประเทศ\n",
    "fig = go.Figure(go.Bar(\n",
    "            x=Data_country['recovered'].head(30),\n",
    "            y=Data_country['country'].head(30),\n",
    "            marker_color = \"#07689f\",\n",
    "            orientation='h'))\n",
    "fig.update_layout(\n",
    "    title='Recovered by Contries',\n",
    "     xaxis_title=\"Recovered\",\n",
    "    yaxis_title=\"Countries\",\n",
    "    paper_bgcolor=\"#f8efd4\",\n",
    "    font=dict(\n",
    "        family=\"Times New Roman\",\n",
    "        size=15,\n",
    "        color=\"black\"\n",
    "    )\n",
    ")\n",
    "fig.show()"
   ]
  },
  {
   "cell_type": "markdown",
   "metadata": {},
   "source": [
    "    4. ต้องการทราบยอดผู้ที่ได้รับการรักษาจนหายในแต่ละประเทศ\n",
    "    โดยนำเสนอในรูปแบบ horizontal bar chart พบว่า ยอดผู้ที่ได้รับการรักษาจนหาย 3 อันดับแรกคือ 1) อินเดีย  2)บราซิล  3)อเมริกา"
   ]
  },
  {
   "cell_type": "markdown",
   "metadata": {},
   "source": [
    "### Covid-19 in India\n",
    "        จากการสำรวจยอด confirmed , recovered , deaths แล้วนั้น จะทำการวิเคราะห์ย่อยลงไปในประเทศอินเดีย ที่มียอดผู้ติดเชื้อและยอดผู้เสียชีวิตเป็นอันดับที่ 3 \n",
    "    สาเหตุที่สนใจเพราะว่า เนื่องจากอินเดียเป็นประเทศที่มีความแออัดและมีประชากรที่เยอะ รวมถึงมีการอุปโภค-บริโภคบางอย่างที่ยังไม่ถูกสุขลักษณะอนามัย\n",
    "    ด้วยจำนวนที่ประชากรที่เยอะในแต่ละพื้นที่ที่มีความแออัด อาจส่งผลต่อ การแพร่ระบาดของ covid-19\n",
    "        \n",
    "        \n",
    "        โดยมีข้อมูลที่อ้างอิงจำนวนประชากรในแต่ละเมืองของอินเดีย\n",
    "        Link : https://en.wikipedia.org/wiki/List_of_cities_in_India_by_population\n",
    "        \n",
    "    "
   ]
  },
  {
   "cell_type": "code",
   "execution_count": 25,
   "metadata": {
    "colab": {
     "base_uri": "https://localhost:8080/",
     "height": 1000
    },
    "id": "yw4YYWhIjTY_",
    "outputId": "135ff9ae-8d2c-4864-adeb-282aff835b7a",
    "scrolled": true
   },
   "outputs": [
    {
     "data": {
      "text/html": [
       "<div>\n",
       "<style scoped>\n",
       "    .dataframe tbody tr th:only-of-type {\n",
       "        vertical-align: middle;\n",
       "    }\n",
       "\n",
       "    .dataframe tbody tr th {\n",
       "        vertical-align: top;\n",
       "    }\n",
       "\n",
       "    .dataframe thead th {\n",
       "        text-align: right;\n",
       "    }\n",
       "</style>\n",
       "<table border=\"1\" class=\"dataframe\">\n",
       "  <thead>\n",
       "    <tr style=\"text-align: right;\">\n",
       "      <th></th>\n",
       "      <th>city</th>\n",
       "      <th>province</th>\n",
       "      <th>country</th>\n",
       "      <th>lastUpdate</th>\n",
       "      <th>keyId</th>\n",
       "      <th>confirmed</th>\n",
       "      <th>deaths</th>\n",
       "      <th>recovered</th>\n",
       "      <th>Active</th>\n",
       "    </tr>\n",
       "  </thead>\n",
       "  <tbody>\n",
       "    <tr>\n",
       "      <th>0</th>\n",
       "      <td>Unknown</td>\n",
       "      <td>Andaman and Nicobar Islands</td>\n",
       "      <td>India</td>\n",
       "      <td>2020-10-04T04:23:44+00:00</td>\n",
       "      <td>Andaman and Nicobar Islands, India</td>\n",
       "      <td>3868</td>\n",
       "      <td>53</td>\n",
       "      <td>3642.0</td>\n",
       "      <td>173.0</td>\n",
       "    </tr>\n",
       "    <tr>\n",
       "      <th>1</th>\n",
       "      <td>Unknown</td>\n",
       "      <td>Andhra Pradesh</td>\n",
       "      <td>India</td>\n",
       "      <td>2020-10-04T04:23:44+00:00</td>\n",
       "      <td>Andhra Pradesh, India</td>\n",
       "      <td>713014</td>\n",
       "      <td>5941</td>\n",
       "      <td>651791.0</td>\n",
       "      <td>55282.0</td>\n",
       "    </tr>\n",
       "    <tr>\n",
       "      <th>2</th>\n",
       "      <td>Unknown</td>\n",
       "      <td>Arunachal Pradesh</td>\n",
       "      <td>India</td>\n",
       "      <td>2020-10-04T04:23:44+00:00</td>\n",
       "      <td>Arunachal Pradesh, India</td>\n",
       "      <td>10421</td>\n",
       "      <td>18</td>\n",
       "      <td>7388.0</td>\n",
       "      <td>3015.0</td>\n",
       "    </tr>\n",
       "    <tr>\n",
       "      <th>3</th>\n",
       "      <td>Unknown</td>\n",
       "      <td>Assam</td>\n",
       "      <td>India</td>\n",
       "      <td>2020-10-04T04:23:44+00:00</td>\n",
       "      <td>Assam, India</td>\n",
       "      <td>185444</td>\n",
       "      <td>735</td>\n",
       "      <td>150776.0</td>\n",
       "      <td>33933.0</td>\n",
       "    </tr>\n",
       "    <tr>\n",
       "      <th>4</th>\n",
       "      <td>Unknown</td>\n",
       "      <td>Bihar</td>\n",
       "      <td>India</td>\n",
       "      <td>2020-10-04T04:23:44+00:00</td>\n",
       "      <td>Bihar, India</td>\n",
       "      <td>186441</td>\n",
       "      <td>912</td>\n",
       "      <td>173932.0</td>\n",
       "      <td>11597.0</td>\n",
       "    </tr>\n",
       "    <tr>\n",
       "      <th>5</th>\n",
       "      <td>Unknown</td>\n",
       "      <td>Chandigarh</td>\n",
       "      <td>India</td>\n",
       "      <td>2020-10-04T04:23:44+00:00</td>\n",
       "      <td>Chandigarh, India</td>\n",
       "      <td>12360</td>\n",
       "      <td>172</td>\n",
       "      <td>10396.0</td>\n",
       "      <td>1792.0</td>\n",
       "    </tr>\n",
       "    <tr>\n",
       "      <th>6</th>\n",
       "      <td>Unknown</td>\n",
       "      <td>Chhattisgarh</td>\n",
       "      <td>India</td>\n",
       "      <td>2020-10-04T04:23:44+00:00</td>\n",
       "      <td>Chhattisgarh, India</td>\n",
       "      <td>121400</td>\n",
       "      <td>1031</td>\n",
       "      <td>91077.0</td>\n",
       "      <td>29292.0</td>\n",
       "    </tr>\n",
       "    <tr>\n",
       "      <th>7</th>\n",
       "      <td>Unknown</td>\n",
       "      <td>Dadra and Nagar Haveli and Daman and Diu</td>\n",
       "      <td>India</td>\n",
       "      <td>2020-10-04T04:23:44+00:00</td>\n",
       "      <td>Dadra and Nagar Haveli and Daman and Diu, India</td>\n",
       "      <td>3070</td>\n",
       "      <td>2</td>\n",
       "      <td>2967.0</td>\n",
       "      <td>101.0</td>\n",
       "    </tr>\n",
       "    <tr>\n",
       "      <th>8</th>\n",
       "      <td>Unknown</td>\n",
       "      <td>Delhi</td>\n",
       "      <td>India</td>\n",
       "      <td>2020-10-04T04:23:44+00:00</td>\n",
       "      <td>Delhi, India</td>\n",
       "      <td>287930</td>\n",
       "      <td>5472</td>\n",
       "      <td>257224.0</td>\n",
       "      <td>25234.0</td>\n",
       "    </tr>\n",
       "    <tr>\n",
       "      <th>9</th>\n",
       "      <td>Unknown</td>\n",
       "      <td>Goa</td>\n",
       "      <td>India</td>\n",
       "      <td>2020-10-04T04:23:44+00:00</td>\n",
       "      <td>Goa, India</td>\n",
       "      <td>34900</td>\n",
       "      <td>450</td>\n",
       "      <td>29527.0</td>\n",
       "      <td>4923.0</td>\n",
       "    </tr>\n",
       "    <tr>\n",
       "      <th>10</th>\n",
       "      <td>Unknown</td>\n",
       "      <td>Gujarat</td>\n",
       "      <td>India</td>\n",
       "      <td>2020-10-04T04:23:44+00:00</td>\n",
       "      <td>Gujarat, India</td>\n",
       "      <td>141236</td>\n",
       "      <td>3487</td>\n",
       "      <td>120987.0</td>\n",
       "      <td>16762.0</td>\n",
       "    </tr>\n",
       "    <tr>\n",
       "      <th>11</th>\n",
       "      <td>Unknown</td>\n",
       "      <td>Haryana</td>\n",
       "      <td>India</td>\n",
       "      <td>2020-10-04T04:23:44+00:00</td>\n",
       "      <td>Haryana, India</td>\n",
       "      <td>132576</td>\n",
       "      <td>1450</td>\n",
       "      <td>118258.0</td>\n",
       "      <td>12868.0</td>\n",
       "    </tr>\n",
       "    <tr>\n",
       "      <th>12</th>\n",
       "      <td>Unknown</td>\n",
       "      <td>Himachal Pradesh</td>\n",
       "      <td>India</td>\n",
       "      <td>2020-10-04T04:23:44+00:00</td>\n",
       "      <td>Himachal Pradesh, India</td>\n",
       "      <td>15695</td>\n",
       "      <td>210</td>\n",
       "      <td>12193.0</td>\n",
       "      <td>3292.0</td>\n",
       "    </tr>\n",
       "    <tr>\n",
       "      <th>13</th>\n",
       "      <td>Unknown</td>\n",
       "      <td>Jammu and Kashmir</td>\n",
       "      <td>India</td>\n",
       "      <td>2020-10-04T04:23:44+00:00</td>\n",
       "      <td>Jammu and Kashmir, India</td>\n",
       "      <td>78228</td>\n",
       "      <td>1231</td>\n",
       "      <td>61351.0</td>\n",
       "      <td>15646.0</td>\n",
       "    </tr>\n",
       "    <tr>\n",
       "      <th>14</th>\n",
       "      <td>Unknown</td>\n",
       "      <td>Jharkhand</td>\n",
       "      <td>India</td>\n",
       "      <td>2020-10-04T04:23:44+00:00</td>\n",
       "      <td>Jharkhand, India</td>\n",
       "      <td>86277</td>\n",
       "      <td>734</td>\n",
       "      <td>74604.0</td>\n",
       "      <td>10939.0</td>\n",
       "    </tr>\n",
       "    <tr>\n",
       "      <th>15</th>\n",
       "      <td>Unknown</td>\n",
       "      <td>Karnataka</td>\n",
       "      <td>India</td>\n",
       "      <td>2020-10-04T04:23:44+00:00</td>\n",
       "      <td>Karnataka, India</td>\n",
       "      <td>630516</td>\n",
       "      <td>9219</td>\n",
       "      <td>508495.0</td>\n",
       "      <td>112802.0</td>\n",
       "    </tr>\n",
       "    <tr>\n",
       "      <th>16</th>\n",
       "      <td>Unknown</td>\n",
       "      <td>Kerala</td>\n",
       "      <td>India</td>\n",
       "      <td>2020-10-04T04:23:44+00:00</td>\n",
       "      <td>Kerala, India</td>\n",
       "      <td>221333</td>\n",
       "      <td>813</td>\n",
       "      <td>139620.0</td>\n",
       "      <td>80900.0</td>\n",
       "    </tr>\n",
       "    <tr>\n",
       "      <th>17</th>\n",
       "      <td>Unknown</td>\n",
       "      <td>Ladakh</td>\n",
       "      <td>India</td>\n",
       "      <td>2020-10-04T04:23:44+00:00</td>\n",
       "      <td>Ladakh, India</td>\n",
       "      <td>4477</td>\n",
       "      <td>61</td>\n",
       "      <td>3315.0</td>\n",
       "      <td>1101.0</td>\n",
       "    </tr>\n",
       "    <tr>\n",
       "      <th>18</th>\n",
       "      <td>Unknown</td>\n",
       "      <td>Lakshadweep</td>\n",
       "      <td>India</td>\n",
       "      <td>2020-10-04T04:23:44+00:00</td>\n",
       "      <td>Lakshadweep, India</td>\n",
       "      <td>0</td>\n",
       "      <td>0</td>\n",
       "      <td>0.0</td>\n",
       "      <td>0.0</td>\n",
       "    </tr>\n",
       "    <tr>\n",
       "      <th>19</th>\n",
       "      <td>Unknown</td>\n",
       "      <td>Madhya Pradesh</td>\n",
       "      <td>India</td>\n",
       "      <td>2020-10-04T04:23:44+00:00</td>\n",
       "      <td>Madhya Pradesh, India</td>\n",
       "      <td>133918</td>\n",
       "      <td>2399</td>\n",
       "      <td>111712.0</td>\n",
       "      <td>19807.0</td>\n",
       "    </tr>\n",
       "    <tr>\n",
       "      <th>20</th>\n",
       "      <td>Unknown</td>\n",
       "      <td>Maharashtra</td>\n",
       "      <td>India</td>\n",
       "      <td>2020-10-04T04:23:44+00:00</td>\n",
       "      <td>Maharashtra, India</td>\n",
       "      <td>1430861</td>\n",
       "      <td>37758</td>\n",
       "      <td>1134555.0</td>\n",
       "      <td>258548.0</td>\n",
       "    </tr>\n",
       "    <tr>\n",
       "      <th>21</th>\n",
       "      <td>Unknown</td>\n",
       "      <td>Manipur</td>\n",
       "      <td>India</td>\n",
       "      <td>2020-10-04T04:23:44+00:00</td>\n",
       "      <td>Manipur, India</td>\n",
       "      <td>11649</td>\n",
       "      <td>71</td>\n",
       "      <td>9081.0</td>\n",
       "      <td>2497.0</td>\n",
       "    </tr>\n",
       "    <tr>\n",
       "      <th>22</th>\n",
       "      <td>Unknown</td>\n",
       "      <td>Meghalaya</td>\n",
       "      <td>India</td>\n",
       "      <td>2020-10-04T04:23:44+00:00</td>\n",
       "      <td>Meghalaya, India</td>\n",
       "      <td>6456</td>\n",
       "      <td>54</td>\n",
       "      <td>4319.0</td>\n",
       "      <td>2083.0</td>\n",
       "    </tr>\n",
       "    <tr>\n",
       "      <th>23</th>\n",
       "      <td>Unknown</td>\n",
       "      <td>Mizoram</td>\n",
       "      <td>India</td>\n",
       "      <td>2020-10-04T04:23:44+00:00</td>\n",
       "      <td>Mizoram, India</td>\n",
       "      <td>2120</td>\n",
       "      <td>0</td>\n",
       "      <td>1772.0</td>\n",
       "      <td>348.0</td>\n",
       "    </tr>\n",
       "    <tr>\n",
       "      <th>24</th>\n",
       "      <td>Unknown</td>\n",
       "      <td>Nagaland</td>\n",
       "      <td>India</td>\n",
       "      <td>2020-10-04T04:23:44+00:00</td>\n",
       "      <td>Nagaland, India</td>\n",
       "      <td>6429</td>\n",
       "      <td>17</td>\n",
       "      <td>5257.0</td>\n",
       "      <td>1155.0</td>\n",
       "    </tr>\n",
       "    <tr>\n",
       "      <th>25</th>\n",
       "      <td>Unknown</td>\n",
       "      <td>Odisha</td>\n",
       "      <td>India</td>\n",
       "      <td>2020-10-04T04:23:44+00:00</td>\n",
       "      <td>Odisha, India</td>\n",
       "      <td>229387</td>\n",
       "      <td>892</td>\n",
       "      <td>198194.0</td>\n",
       "      <td>30301.0</td>\n",
       "    </tr>\n",
       "    <tr>\n",
       "      <th>26</th>\n",
       "      <td>Unknown</td>\n",
       "      <td>Puducherry</td>\n",
       "      <td>India</td>\n",
       "      <td>2020-10-04T04:23:44+00:00</td>\n",
       "      <td>Puducherry, India</td>\n",
       "      <td>28752</td>\n",
       "      <td>534</td>\n",
       "      <td>23344.0</td>\n",
       "      <td>4874.0</td>\n",
       "    </tr>\n",
       "    <tr>\n",
       "      <th>27</th>\n",
       "      <td>Unknown</td>\n",
       "      <td>Punjab</td>\n",
       "      <td>India</td>\n",
       "      <td>2020-10-04T04:23:44+00:00</td>\n",
       "      <td>Punjab, India</td>\n",
       "      <td>117319</td>\n",
       "      <td>3562</td>\n",
       "      <td>99468.0</td>\n",
       "      <td>14289.0</td>\n",
       "    </tr>\n",
       "    <tr>\n",
       "      <th>28</th>\n",
       "      <td>Unknown</td>\n",
       "      <td>Rajasthan</td>\n",
       "      <td>India</td>\n",
       "      <td>2020-10-04T04:23:44+00:00</td>\n",
       "      <td>Rajasthan, India</td>\n",
       "      <td>141846</td>\n",
       "      <td>1530</td>\n",
       "      <td>119241.0</td>\n",
       "      <td>21075.0</td>\n",
       "    </tr>\n",
       "    <tr>\n",
       "      <th>29</th>\n",
       "      <td>Unknown</td>\n",
       "      <td>Sikkim</td>\n",
       "      <td>India</td>\n",
       "      <td>2020-10-04T04:23:44+00:00</td>\n",
       "      <td>Sikkim, India</td>\n",
       "      <td>3131</td>\n",
       "      <td>43</td>\n",
       "      <td>2448.0</td>\n",
       "      <td>640.0</td>\n",
       "    </tr>\n",
       "    <tr>\n",
       "      <th>30</th>\n",
       "      <td>Unknown</td>\n",
       "      <td>Tamil Nadu</td>\n",
       "      <td>India</td>\n",
       "      <td>2020-10-04T04:23:44+00:00</td>\n",
       "      <td>Tamil Nadu, India</td>\n",
       "      <td>614507</td>\n",
       "      <td>9718</td>\n",
       "      <td>558534.0</td>\n",
       "      <td>46255.0</td>\n",
       "    </tr>\n",
       "    <tr>\n",
       "      <th>31</th>\n",
       "      <td>Unknown</td>\n",
       "      <td>Telangana</td>\n",
       "      <td>India</td>\n",
       "      <td>2020-10-04T04:23:44+00:00</td>\n",
       "      <td>Telangana, India</td>\n",
       "      <td>199276</td>\n",
       "      <td>1163</td>\n",
       "      <td>170212.0</td>\n",
       "      <td>27901.0</td>\n",
       "    </tr>\n",
       "    <tr>\n",
       "      <th>32</th>\n",
       "      <td>Unknown</td>\n",
       "      <td>Tripura</td>\n",
       "      <td>India</td>\n",
       "      <td>2020-10-04T04:23:44+00:00</td>\n",
       "      <td>Tripura, India</td>\n",
       "      <td>26874</td>\n",
       "      <td>293</td>\n",
       "      <td>21410.0</td>\n",
       "      <td>5171.0</td>\n",
       "    </tr>\n",
       "    <tr>\n",
       "      <th>33</th>\n",
       "      <td>Unknown</td>\n",
       "      <td>Unknown</td>\n",
       "      <td>India</td>\n",
       "      <td>2020-10-04T04:23:44+00:00</td>\n",
       "      <td>Unknown, India</td>\n",
       "      <td>0</td>\n",
       "      <td>0</td>\n",
       "      <td>0.0</td>\n",
       "      <td>0.0</td>\n",
       "    </tr>\n",
       "    <tr>\n",
       "      <th>34</th>\n",
       "      <td>Unknown</td>\n",
       "      <td>Uttar Pradesh</td>\n",
       "      <td>India</td>\n",
       "      <td>2020-10-04T04:23:44+00:00</td>\n",
       "      <td>Uttar Pradesh, India</td>\n",
       "      <td>410626</td>\n",
       "      <td>5977</td>\n",
       "      <td>356826.0</td>\n",
       "      <td>47823.0</td>\n",
       "    </tr>\n",
       "    <tr>\n",
       "      <th>35</th>\n",
       "      <td>Unknown</td>\n",
       "      <td>Uttarakhand</td>\n",
       "      <td>India</td>\n",
       "      <td>2020-10-04T04:23:44+00:00</td>\n",
       "      <td>Uttarakhand, India</td>\n",
       "      <td>50062</td>\n",
       "      <td>648</td>\n",
       "      <td>41338.0</td>\n",
       "      <td>8076.0</td>\n",
       "    </tr>\n",
       "    <tr>\n",
       "      <th>36</th>\n",
       "      <td>Unknown</td>\n",
       "      <td>West Bengal</td>\n",
       "      <td>India</td>\n",
       "      <td>2020-10-04T04:23:44+00:00</td>\n",
       "      <td>West Bengal, India</td>\n",
       "      <td>266974</td>\n",
       "      <td>5132</td>\n",
       "      <td>234712.0</td>\n",
       "      <td>27130.0</td>\n",
       "    </tr>\n",
       "  </tbody>\n",
       "</table>\n",
       "</div>"
      ],
      "text/plain": [
       "       city                                  province country  \\\n",
       "0   Unknown               Andaman and Nicobar Islands   India   \n",
       "1   Unknown                            Andhra Pradesh   India   \n",
       "2   Unknown                         Arunachal Pradesh   India   \n",
       "3   Unknown                                     Assam   India   \n",
       "4   Unknown                                     Bihar   India   \n",
       "5   Unknown                                Chandigarh   India   \n",
       "6   Unknown                              Chhattisgarh   India   \n",
       "7   Unknown  Dadra and Nagar Haveli and Daman and Diu   India   \n",
       "8   Unknown                                     Delhi   India   \n",
       "9   Unknown                                       Goa   India   \n",
       "10  Unknown                                   Gujarat   India   \n",
       "11  Unknown                                   Haryana   India   \n",
       "12  Unknown                          Himachal Pradesh   India   \n",
       "13  Unknown                         Jammu and Kashmir   India   \n",
       "14  Unknown                                 Jharkhand   India   \n",
       "15  Unknown                                 Karnataka   India   \n",
       "16  Unknown                                    Kerala   India   \n",
       "17  Unknown                                    Ladakh   India   \n",
       "18  Unknown                               Lakshadweep   India   \n",
       "19  Unknown                            Madhya Pradesh   India   \n",
       "20  Unknown                               Maharashtra   India   \n",
       "21  Unknown                                   Manipur   India   \n",
       "22  Unknown                                 Meghalaya   India   \n",
       "23  Unknown                                   Mizoram   India   \n",
       "24  Unknown                                  Nagaland   India   \n",
       "25  Unknown                                    Odisha   India   \n",
       "26  Unknown                                Puducherry   India   \n",
       "27  Unknown                                    Punjab   India   \n",
       "28  Unknown                                 Rajasthan   India   \n",
       "29  Unknown                                    Sikkim   India   \n",
       "30  Unknown                                Tamil Nadu   India   \n",
       "31  Unknown                                 Telangana   India   \n",
       "32  Unknown                                   Tripura   India   \n",
       "33  Unknown                                   Unknown   India   \n",
       "34  Unknown                             Uttar Pradesh   India   \n",
       "35  Unknown                               Uttarakhand   India   \n",
       "36  Unknown                               West Bengal   India   \n",
       "\n",
       "                   lastUpdate  \\\n",
       "0   2020-10-04T04:23:44+00:00   \n",
       "1   2020-10-04T04:23:44+00:00   \n",
       "2   2020-10-04T04:23:44+00:00   \n",
       "3   2020-10-04T04:23:44+00:00   \n",
       "4   2020-10-04T04:23:44+00:00   \n",
       "5   2020-10-04T04:23:44+00:00   \n",
       "6   2020-10-04T04:23:44+00:00   \n",
       "7   2020-10-04T04:23:44+00:00   \n",
       "8   2020-10-04T04:23:44+00:00   \n",
       "9   2020-10-04T04:23:44+00:00   \n",
       "10  2020-10-04T04:23:44+00:00   \n",
       "11  2020-10-04T04:23:44+00:00   \n",
       "12  2020-10-04T04:23:44+00:00   \n",
       "13  2020-10-04T04:23:44+00:00   \n",
       "14  2020-10-04T04:23:44+00:00   \n",
       "15  2020-10-04T04:23:44+00:00   \n",
       "16  2020-10-04T04:23:44+00:00   \n",
       "17  2020-10-04T04:23:44+00:00   \n",
       "18  2020-10-04T04:23:44+00:00   \n",
       "19  2020-10-04T04:23:44+00:00   \n",
       "20  2020-10-04T04:23:44+00:00   \n",
       "21  2020-10-04T04:23:44+00:00   \n",
       "22  2020-10-04T04:23:44+00:00   \n",
       "23  2020-10-04T04:23:44+00:00   \n",
       "24  2020-10-04T04:23:44+00:00   \n",
       "25  2020-10-04T04:23:44+00:00   \n",
       "26  2020-10-04T04:23:44+00:00   \n",
       "27  2020-10-04T04:23:44+00:00   \n",
       "28  2020-10-04T04:23:44+00:00   \n",
       "29  2020-10-04T04:23:44+00:00   \n",
       "30  2020-10-04T04:23:44+00:00   \n",
       "31  2020-10-04T04:23:44+00:00   \n",
       "32  2020-10-04T04:23:44+00:00   \n",
       "33  2020-10-04T04:23:44+00:00   \n",
       "34  2020-10-04T04:23:44+00:00   \n",
       "35  2020-10-04T04:23:44+00:00   \n",
       "36  2020-10-04T04:23:44+00:00   \n",
       "\n",
       "                                              keyId  confirmed  deaths  \\\n",
       "0                Andaman and Nicobar Islands, India       3868      53   \n",
       "1                             Andhra Pradesh, India     713014    5941   \n",
       "2                          Arunachal Pradesh, India      10421      18   \n",
       "3                                      Assam, India     185444     735   \n",
       "4                                      Bihar, India     186441     912   \n",
       "5                                 Chandigarh, India      12360     172   \n",
       "6                               Chhattisgarh, India     121400    1031   \n",
       "7   Dadra and Nagar Haveli and Daman and Diu, India       3070       2   \n",
       "8                                      Delhi, India     287930    5472   \n",
       "9                                        Goa, India      34900     450   \n",
       "10                                   Gujarat, India     141236    3487   \n",
       "11                                   Haryana, India     132576    1450   \n",
       "12                          Himachal Pradesh, India      15695     210   \n",
       "13                         Jammu and Kashmir, India      78228    1231   \n",
       "14                                 Jharkhand, India      86277     734   \n",
       "15                                 Karnataka, India     630516    9219   \n",
       "16                                    Kerala, India     221333     813   \n",
       "17                                    Ladakh, India       4477      61   \n",
       "18                               Lakshadweep, India          0       0   \n",
       "19                            Madhya Pradesh, India     133918    2399   \n",
       "20                               Maharashtra, India    1430861   37758   \n",
       "21                                   Manipur, India      11649      71   \n",
       "22                                 Meghalaya, India       6456      54   \n",
       "23                                   Mizoram, India       2120       0   \n",
       "24                                  Nagaland, India       6429      17   \n",
       "25                                    Odisha, India     229387     892   \n",
       "26                                Puducherry, India      28752     534   \n",
       "27                                    Punjab, India     117319    3562   \n",
       "28                                 Rajasthan, India     141846    1530   \n",
       "29                                    Sikkim, India       3131      43   \n",
       "30                                Tamil Nadu, India     614507    9718   \n",
       "31                                 Telangana, India     199276    1163   \n",
       "32                                   Tripura, India      26874     293   \n",
       "33                                   Unknown, India          0       0   \n",
       "34                             Uttar Pradesh, India     410626    5977   \n",
       "35                               Uttarakhand, India      50062     648   \n",
       "36                               West Bengal, India     266974    5132   \n",
       "\n",
       "    recovered    Active  \n",
       "0      3642.0     173.0  \n",
       "1    651791.0   55282.0  \n",
       "2      7388.0    3015.0  \n",
       "3    150776.0   33933.0  \n",
       "4    173932.0   11597.0  \n",
       "5     10396.0    1792.0  \n",
       "6     91077.0   29292.0  \n",
       "7      2967.0     101.0  \n",
       "8    257224.0   25234.0  \n",
       "9     29527.0    4923.0  \n",
       "10   120987.0   16762.0  \n",
       "11   118258.0   12868.0  \n",
       "12    12193.0    3292.0  \n",
       "13    61351.0   15646.0  \n",
       "14    74604.0   10939.0  \n",
       "15   508495.0  112802.0  \n",
       "16   139620.0   80900.0  \n",
       "17     3315.0    1101.0  \n",
       "18        0.0       0.0  \n",
       "19   111712.0   19807.0  \n",
       "20  1134555.0  258548.0  \n",
       "21     9081.0    2497.0  \n",
       "22     4319.0    2083.0  \n",
       "23     1772.0     348.0  \n",
       "24     5257.0    1155.0  \n",
       "25   198194.0   30301.0  \n",
       "26    23344.0    4874.0  \n",
       "27    99468.0   14289.0  \n",
       "28   119241.0   21075.0  \n",
       "29     2448.0     640.0  \n",
       "30   558534.0   46255.0  \n",
       "31   170212.0   27901.0  \n",
       "32    21410.0    5171.0  \n",
       "33        0.0       0.0  \n",
       "34   356826.0   47823.0  \n",
       "35    41338.0    8076.0  \n",
       "36   234712.0   27130.0  "
      ]
     },
     "execution_count": 25,
     "metadata": {},
     "output_type": "execute_result"
    }
   ],
   "source": [
    "#เลือกประเทศอินเดีย\n",
    "Data_ID = df[(df['country'] == 'India') ].reset_index(drop=True)\n",
    "Data_ID\n"
   ]
  },
  {
   "cell_type": "code",
   "execution_count": 27,
   "metadata": {
    "colab": {
     "base_uri": "https://localhost:8080/",
     "height": 1000
    },
    "id": "Q3rWOjK5rYmH",
    "outputId": "9caf6553-5545-4734-d8f2-2a14c8fe578a",
    "scrolled": false
   },
   "outputs": [
    {
     "data": {
      "text/html": [
       "<div>\n",
       "<style scoped>\n",
       "    .dataframe tbody tr th:only-of-type {\n",
       "        vertical-align: middle;\n",
       "    }\n",
       "\n",
       "    .dataframe tbody tr th {\n",
       "        vertical-align: top;\n",
       "    }\n",
       "\n",
       "    .dataframe thead th {\n",
       "        text-align: right;\n",
       "    }\n",
       "</style>\n",
       "<table border=\"1\" class=\"dataframe\">\n",
       "  <thead>\n",
       "    <tr style=\"text-align: right;\">\n",
       "      <th></th>\n",
       "      <th>province</th>\n",
       "      <th>confirmed</th>\n",
       "      <th>recovered</th>\n",
       "      <th>deaths</th>\n",
       "    </tr>\n",
       "  </thead>\n",
       "  <tbody>\n",
       "    <tr>\n",
       "      <th>0</th>\n",
       "      <td>Maharashtra</td>\n",
       "      <td>1430861</td>\n",
       "      <td>1134555.0</td>\n",
       "      <td>37758</td>\n",
       "    </tr>\n",
       "    <tr>\n",
       "      <th>1</th>\n",
       "      <td>Andhra Pradesh</td>\n",
       "      <td>713014</td>\n",
       "      <td>651791.0</td>\n",
       "      <td>5941</td>\n",
       "    </tr>\n",
       "    <tr>\n",
       "      <th>2</th>\n",
       "      <td>Karnataka</td>\n",
       "      <td>630516</td>\n",
       "      <td>508495.0</td>\n",
       "      <td>9219</td>\n",
       "    </tr>\n",
       "    <tr>\n",
       "      <th>3</th>\n",
       "      <td>Tamil Nadu</td>\n",
       "      <td>614507</td>\n",
       "      <td>558534.0</td>\n",
       "      <td>9718</td>\n",
       "    </tr>\n",
       "    <tr>\n",
       "      <th>4</th>\n",
       "      <td>Uttar Pradesh</td>\n",
       "      <td>410626</td>\n",
       "      <td>356826.0</td>\n",
       "      <td>5977</td>\n",
       "    </tr>\n",
       "    <tr>\n",
       "      <th>5</th>\n",
       "      <td>Delhi</td>\n",
       "      <td>287930</td>\n",
       "      <td>257224.0</td>\n",
       "      <td>5472</td>\n",
       "    </tr>\n",
       "    <tr>\n",
       "      <th>6</th>\n",
       "      <td>West Bengal</td>\n",
       "      <td>266974</td>\n",
       "      <td>234712.0</td>\n",
       "      <td>5132</td>\n",
       "    </tr>\n",
       "    <tr>\n",
       "      <th>7</th>\n",
       "      <td>Odisha</td>\n",
       "      <td>229387</td>\n",
       "      <td>198194.0</td>\n",
       "      <td>892</td>\n",
       "    </tr>\n",
       "    <tr>\n",
       "      <th>8</th>\n",
       "      <td>Kerala</td>\n",
       "      <td>221333</td>\n",
       "      <td>139620.0</td>\n",
       "      <td>813</td>\n",
       "    </tr>\n",
       "    <tr>\n",
       "      <th>9</th>\n",
       "      <td>Telangana</td>\n",
       "      <td>199276</td>\n",
       "      <td>170212.0</td>\n",
       "      <td>1163</td>\n",
       "    </tr>\n",
       "    <tr>\n",
       "      <th>10</th>\n",
       "      <td>Bihar</td>\n",
       "      <td>186441</td>\n",
       "      <td>173932.0</td>\n",
       "      <td>912</td>\n",
       "    </tr>\n",
       "    <tr>\n",
       "      <th>11</th>\n",
       "      <td>Assam</td>\n",
       "      <td>185444</td>\n",
       "      <td>150776.0</td>\n",
       "      <td>735</td>\n",
       "    </tr>\n",
       "    <tr>\n",
       "      <th>12</th>\n",
       "      <td>Rajasthan</td>\n",
       "      <td>141846</td>\n",
       "      <td>119241.0</td>\n",
       "      <td>1530</td>\n",
       "    </tr>\n",
       "    <tr>\n",
       "      <th>13</th>\n",
       "      <td>Gujarat</td>\n",
       "      <td>141236</td>\n",
       "      <td>120987.0</td>\n",
       "      <td>3487</td>\n",
       "    </tr>\n",
       "    <tr>\n",
       "      <th>14</th>\n",
       "      <td>Madhya Pradesh</td>\n",
       "      <td>133918</td>\n",
       "      <td>111712.0</td>\n",
       "      <td>2399</td>\n",
       "    </tr>\n",
       "    <tr>\n",
       "      <th>15</th>\n",
       "      <td>Haryana</td>\n",
       "      <td>132576</td>\n",
       "      <td>118258.0</td>\n",
       "      <td>1450</td>\n",
       "    </tr>\n",
       "    <tr>\n",
       "      <th>16</th>\n",
       "      <td>Chhattisgarh</td>\n",
       "      <td>121400</td>\n",
       "      <td>91077.0</td>\n",
       "      <td>1031</td>\n",
       "    </tr>\n",
       "    <tr>\n",
       "      <th>17</th>\n",
       "      <td>Punjab</td>\n",
       "      <td>117319</td>\n",
       "      <td>99468.0</td>\n",
       "      <td>3562</td>\n",
       "    </tr>\n",
       "    <tr>\n",
       "      <th>18</th>\n",
       "      <td>Jharkhand</td>\n",
       "      <td>86277</td>\n",
       "      <td>74604.0</td>\n",
       "      <td>734</td>\n",
       "    </tr>\n",
       "    <tr>\n",
       "      <th>19</th>\n",
       "      <td>Jammu and Kashmir</td>\n",
       "      <td>78228</td>\n",
       "      <td>61351.0</td>\n",
       "      <td>1231</td>\n",
       "    </tr>\n",
       "    <tr>\n",
       "      <th>20</th>\n",
       "      <td>Uttarakhand</td>\n",
       "      <td>50062</td>\n",
       "      <td>41338.0</td>\n",
       "      <td>648</td>\n",
       "    </tr>\n",
       "    <tr>\n",
       "      <th>21</th>\n",
       "      <td>Goa</td>\n",
       "      <td>34900</td>\n",
       "      <td>29527.0</td>\n",
       "      <td>450</td>\n",
       "    </tr>\n",
       "    <tr>\n",
       "      <th>22</th>\n",
       "      <td>Puducherry</td>\n",
       "      <td>28752</td>\n",
       "      <td>23344.0</td>\n",
       "      <td>534</td>\n",
       "    </tr>\n",
       "    <tr>\n",
       "      <th>23</th>\n",
       "      <td>Tripura</td>\n",
       "      <td>26874</td>\n",
       "      <td>21410.0</td>\n",
       "      <td>293</td>\n",
       "    </tr>\n",
       "    <tr>\n",
       "      <th>24</th>\n",
       "      <td>Himachal Pradesh</td>\n",
       "      <td>15695</td>\n",
       "      <td>12193.0</td>\n",
       "      <td>210</td>\n",
       "    </tr>\n",
       "    <tr>\n",
       "      <th>25</th>\n",
       "      <td>Chandigarh</td>\n",
       "      <td>12360</td>\n",
       "      <td>10396.0</td>\n",
       "      <td>172</td>\n",
       "    </tr>\n",
       "    <tr>\n",
       "      <th>26</th>\n",
       "      <td>Manipur</td>\n",
       "      <td>11649</td>\n",
       "      <td>9081.0</td>\n",
       "      <td>71</td>\n",
       "    </tr>\n",
       "    <tr>\n",
       "      <th>27</th>\n",
       "      <td>Arunachal Pradesh</td>\n",
       "      <td>10421</td>\n",
       "      <td>7388.0</td>\n",
       "      <td>18</td>\n",
       "    </tr>\n",
       "    <tr>\n",
       "      <th>28</th>\n",
       "      <td>Meghalaya</td>\n",
       "      <td>6456</td>\n",
       "      <td>4319.0</td>\n",
       "      <td>54</td>\n",
       "    </tr>\n",
       "    <tr>\n",
       "      <th>29</th>\n",
       "      <td>Nagaland</td>\n",
       "      <td>6429</td>\n",
       "      <td>5257.0</td>\n",
       "      <td>17</td>\n",
       "    </tr>\n",
       "    <tr>\n",
       "      <th>30</th>\n",
       "      <td>Ladakh</td>\n",
       "      <td>4477</td>\n",
       "      <td>3315.0</td>\n",
       "      <td>61</td>\n",
       "    </tr>\n",
       "    <tr>\n",
       "      <th>31</th>\n",
       "      <td>Andaman and Nicobar Islands</td>\n",
       "      <td>3868</td>\n",
       "      <td>3642.0</td>\n",
       "      <td>53</td>\n",
       "    </tr>\n",
       "    <tr>\n",
       "      <th>32</th>\n",
       "      <td>Sikkim</td>\n",
       "      <td>3131</td>\n",
       "      <td>2448.0</td>\n",
       "      <td>43</td>\n",
       "    </tr>\n",
       "    <tr>\n",
       "      <th>33</th>\n",
       "      <td>Dadra and Nagar Haveli and Daman and Diu</td>\n",
       "      <td>3070</td>\n",
       "      <td>2967.0</td>\n",
       "      <td>2</td>\n",
       "    </tr>\n",
       "    <tr>\n",
       "      <th>34</th>\n",
       "      <td>Mizoram</td>\n",
       "      <td>2120</td>\n",
       "      <td>1772.0</td>\n",
       "      <td>0</td>\n",
       "    </tr>\n",
       "    <tr>\n",
       "      <th>35</th>\n",
       "      <td>Unknown</td>\n",
       "      <td>0</td>\n",
       "      <td>0.0</td>\n",
       "      <td>0</td>\n",
       "    </tr>\n",
       "    <tr>\n",
       "      <th>36</th>\n",
       "      <td>Lakshadweep</td>\n",
       "      <td>0</td>\n",
       "      <td>0.0</td>\n",
       "      <td>0</td>\n",
       "    </tr>\n",
       "  </tbody>\n",
       "</table>\n",
       "</div>"
      ],
      "text/plain": [
       "                                    province  confirmed  recovered  deaths\n",
       "0                                Maharashtra    1430861  1134555.0   37758\n",
       "1                             Andhra Pradesh     713014   651791.0    5941\n",
       "2                                  Karnataka     630516   508495.0    9219\n",
       "3                                 Tamil Nadu     614507   558534.0    9718\n",
       "4                              Uttar Pradesh     410626   356826.0    5977\n",
       "5                                      Delhi     287930   257224.0    5472\n",
       "6                                West Bengal     266974   234712.0    5132\n",
       "7                                     Odisha     229387   198194.0     892\n",
       "8                                     Kerala     221333   139620.0     813\n",
       "9                                  Telangana     199276   170212.0    1163\n",
       "10                                     Bihar     186441   173932.0     912\n",
       "11                                     Assam     185444   150776.0     735\n",
       "12                                 Rajasthan     141846   119241.0    1530\n",
       "13                                   Gujarat     141236   120987.0    3487\n",
       "14                            Madhya Pradesh     133918   111712.0    2399\n",
       "15                                   Haryana     132576   118258.0    1450\n",
       "16                              Chhattisgarh     121400    91077.0    1031\n",
       "17                                    Punjab     117319    99468.0    3562\n",
       "18                                 Jharkhand      86277    74604.0     734\n",
       "19                         Jammu and Kashmir      78228    61351.0    1231\n",
       "20                               Uttarakhand      50062    41338.0     648\n",
       "21                                       Goa      34900    29527.0     450\n",
       "22                                Puducherry      28752    23344.0     534\n",
       "23                                   Tripura      26874    21410.0     293\n",
       "24                          Himachal Pradesh      15695    12193.0     210\n",
       "25                                Chandigarh      12360    10396.0     172\n",
       "26                                   Manipur      11649     9081.0      71\n",
       "27                         Arunachal Pradesh      10421     7388.0      18\n",
       "28                                 Meghalaya       6456     4319.0      54\n",
       "29                                  Nagaland       6429     5257.0      17\n",
       "30                                    Ladakh       4477     3315.0      61\n",
       "31               Andaman and Nicobar Islands       3868     3642.0      53\n",
       "32                                    Sikkim       3131     2448.0      43\n",
       "33  Dadra and Nagar Haveli and Daman and Diu       3070     2967.0       2\n",
       "34                                   Mizoram       2120     1772.0       0\n",
       "35                                   Unknown          0        0.0       0\n",
       "36                               Lakshadweep          0        0.0       0"
      ]
     },
     "execution_count": 27,
     "metadata": {},
     "output_type": "execute_result"
    }
   ],
   "source": [
    "#ทำการจัดกลุ่มแต่ละรัฐโดยใช้ยอดผู้ติดเชื้อเรียงจากมากไปน้อย\n",
    "Data_id_state= Data_ID.groupby([\"province\"])[\"confirmed\",\"recovered\",\"deaths\"].sum().reset_index().sort_values(\"confirmed\",ascending=False).reset_index(drop=True)\n",
    "Data_id_state"
   ]
  },
  {
   "cell_type": "code",
   "execution_count": 69,
   "metadata": {
    "colab": {
     "base_uri": "https://localhost:8080/",
     "height": 542
    },
    "id": "Y_gJgSR3sLaQ",
    "outputId": "7087d889-ce17-4630-a78c-b18f6b3807c6",
    "scrolled": true
   },
   "outputs": [
    {
     "data": {
      "application/vnd.plotly.v1+json": {
       "config": {
        "plotlyServerURL": "https://plot.ly"
       },
       "data": [
        {
         "domain": {
          "x": [
           0,
           1
          ],
          "y": [
           0,
           1
          ]
         },
         "hole": 0.5,
         "hovertemplate": "province=%{label}<br>confirmed=%{value}<extra></extra>",
         "labels": [
          "Maharashtra",
          "Andhra Pradesh",
          "Karnataka",
          "Tamil Nadu",
          "Uttar Pradesh",
          "Delhi",
          "West Bengal",
          "Odisha",
          "Kerala",
          "Telangana",
          "Bihar",
          "Assam",
          "Rajasthan",
          "Gujarat",
          "Madhya Pradesh",
          "Haryana",
          "Chhattisgarh",
          "Punjab",
          "Jharkhand",
          "Jammu and Kashmir",
          "Uttarakhand",
          "Goa",
          "Puducherry",
          "Tripura",
          "Himachal Pradesh",
          "Chandigarh",
          "Manipur",
          "Arunachal Pradesh",
          "Meghalaya",
          "Nagaland",
          "Ladakh",
          "Andaman and Nicobar Islands",
          "Sikkim",
          "Dadra and Nagar Haveli and Daman and Diu",
          "Mizoram",
          "Unknown",
          "Lakshadweep"
         ],
         "legendgroup": "",
         "name": "",
         "showlegend": true,
         "textinfo": "value+label",
         "textposition": "inside",
         "type": "pie",
         "values": [
          1430861,
          713014,
          630516,
          614507,
          410626,
          287930,
          266974,
          229387,
          221333,
          199276,
          186441,
          185444,
          141846,
          141236,
          133918,
          132576,
          121400,
          117319,
          86277,
          78228,
          50062,
          34900,
          28752,
          26874,
          15695,
          12360,
          11649,
          10421,
          6456,
          6429,
          4477,
          3868,
          3131,
          3070,
          2120,
          0,
          0
         ]
        }
       ],
       "layout": {
        "legend": {
         "tracegroupgap": 0
        },
        "template": {
         "data": {
          "bar": [
           {
            "error_x": {
             "color": "#2a3f5f"
            },
            "error_y": {
             "color": "#2a3f5f"
            },
            "marker": {
             "line": {
              "color": "#E5ECF6",
              "width": 0.5
             }
            },
            "type": "bar"
           }
          ],
          "barpolar": [
           {
            "marker": {
             "line": {
              "color": "#E5ECF6",
              "width": 0.5
             }
            },
            "type": "barpolar"
           }
          ],
          "carpet": [
           {
            "aaxis": {
             "endlinecolor": "#2a3f5f",
             "gridcolor": "white",
             "linecolor": "white",
             "minorgridcolor": "white",
             "startlinecolor": "#2a3f5f"
            },
            "baxis": {
             "endlinecolor": "#2a3f5f",
             "gridcolor": "white",
             "linecolor": "white",
             "minorgridcolor": "white",
             "startlinecolor": "#2a3f5f"
            },
            "type": "carpet"
           }
          ],
          "choropleth": [
           {
            "colorbar": {
             "outlinewidth": 0,
             "ticks": ""
            },
            "type": "choropleth"
           }
          ],
          "contour": [
           {
            "colorbar": {
             "outlinewidth": 0,
             "ticks": ""
            },
            "colorscale": [
             [
              0,
              "#0d0887"
             ],
             [
              0.1111111111111111,
              "#46039f"
             ],
             [
              0.2222222222222222,
              "#7201a8"
             ],
             [
              0.3333333333333333,
              "#9c179e"
             ],
             [
              0.4444444444444444,
              "#bd3786"
             ],
             [
              0.5555555555555556,
              "#d8576b"
             ],
             [
              0.6666666666666666,
              "#ed7953"
             ],
             [
              0.7777777777777778,
              "#fb9f3a"
             ],
             [
              0.8888888888888888,
              "#fdca26"
             ],
             [
              1,
              "#f0f921"
             ]
            ],
            "type": "contour"
           }
          ],
          "contourcarpet": [
           {
            "colorbar": {
             "outlinewidth": 0,
             "ticks": ""
            },
            "type": "contourcarpet"
           }
          ],
          "heatmap": [
           {
            "colorbar": {
             "outlinewidth": 0,
             "ticks": ""
            },
            "colorscale": [
             [
              0,
              "#0d0887"
             ],
             [
              0.1111111111111111,
              "#46039f"
             ],
             [
              0.2222222222222222,
              "#7201a8"
             ],
             [
              0.3333333333333333,
              "#9c179e"
             ],
             [
              0.4444444444444444,
              "#bd3786"
             ],
             [
              0.5555555555555556,
              "#d8576b"
             ],
             [
              0.6666666666666666,
              "#ed7953"
             ],
             [
              0.7777777777777778,
              "#fb9f3a"
             ],
             [
              0.8888888888888888,
              "#fdca26"
             ],
             [
              1,
              "#f0f921"
             ]
            ],
            "type": "heatmap"
           }
          ],
          "heatmapgl": [
           {
            "colorbar": {
             "outlinewidth": 0,
             "ticks": ""
            },
            "colorscale": [
             [
              0,
              "#0d0887"
             ],
             [
              0.1111111111111111,
              "#46039f"
             ],
             [
              0.2222222222222222,
              "#7201a8"
             ],
             [
              0.3333333333333333,
              "#9c179e"
             ],
             [
              0.4444444444444444,
              "#bd3786"
             ],
             [
              0.5555555555555556,
              "#d8576b"
             ],
             [
              0.6666666666666666,
              "#ed7953"
             ],
             [
              0.7777777777777778,
              "#fb9f3a"
             ],
             [
              0.8888888888888888,
              "#fdca26"
             ],
             [
              1,
              "#f0f921"
             ]
            ],
            "type": "heatmapgl"
           }
          ],
          "histogram": [
           {
            "marker": {
             "colorbar": {
              "outlinewidth": 0,
              "ticks": ""
             }
            },
            "type": "histogram"
           }
          ],
          "histogram2d": [
           {
            "colorbar": {
             "outlinewidth": 0,
             "ticks": ""
            },
            "colorscale": [
             [
              0,
              "#0d0887"
             ],
             [
              0.1111111111111111,
              "#46039f"
             ],
             [
              0.2222222222222222,
              "#7201a8"
             ],
             [
              0.3333333333333333,
              "#9c179e"
             ],
             [
              0.4444444444444444,
              "#bd3786"
             ],
             [
              0.5555555555555556,
              "#d8576b"
             ],
             [
              0.6666666666666666,
              "#ed7953"
             ],
             [
              0.7777777777777778,
              "#fb9f3a"
             ],
             [
              0.8888888888888888,
              "#fdca26"
             ],
             [
              1,
              "#f0f921"
             ]
            ],
            "type": "histogram2d"
           }
          ],
          "histogram2dcontour": [
           {
            "colorbar": {
             "outlinewidth": 0,
             "ticks": ""
            },
            "colorscale": [
             [
              0,
              "#0d0887"
             ],
             [
              0.1111111111111111,
              "#46039f"
             ],
             [
              0.2222222222222222,
              "#7201a8"
             ],
             [
              0.3333333333333333,
              "#9c179e"
             ],
             [
              0.4444444444444444,
              "#bd3786"
             ],
             [
              0.5555555555555556,
              "#d8576b"
             ],
             [
              0.6666666666666666,
              "#ed7953"
             ],
             [
              0.7777777777777778,
              "#fb9f3a"
             ],
             [
              0.8888888888888888,
              "#fdca26"
             ],
             [
              1,
              "#f0f921"
             ]
            ],
            "type": "histogram2dcontour"
           }
          ],
          "mesh3d": [
           {
            "colorbar": {
             "outlinewidth": 0,
             "ticks": ""
            },
            "type": "mesh3d"
           }
          ],
          "parcoords": [
           {
            "line": {
             "colorbar": {
              "outlinewidth": 0,
              "ticks": ""
             }
            },
            "type": "parcoords"
           }
          ],
          "pie": [
           {
            "automargin": true,
            "type": "pie"
           }
          ],
          "scatter": [
           {
            "marker": {
             "colorbar": {
              "outlinewidth": 0,
              "ticks": ""
             }
            },
            "type": "scatter"
           }
          ],
          "scatter3d": [
           {
            "line": {
             "colorbar": {
              "outlinewidth": 0,
              "ticks": ""
             }
            },
            "marker": {
             "colorbar": {
              "outlinewidth": 0,
              "ticks": ""
             }
            },
            "type": "scatter3d"
           }
          ],
          "scattercarpet": [
           {
            "marker": {
             "colorbar": {
              "outlinewidth": 0,
              "ticks": ""
             }
            },
            "type": "scattercarpet"
           }
          ],
          "scattergeo": [
           {
            "marker": {
             "colorbar": {
              "outlinewidth": 0,
              "ticks": ""
             }
            },
            "type": "scattergeo"
           }
          ],
          "scattergl": [
           {
            "marker": {
             "colorbar": {
              "outlinewidth": 0,
              "ticks": ""
             }
            },
            "type": "scattergl"
           }
          ],
          "scattermapbox": [
           {
            "marker": {
             "colorbar": {
              "outlinewidth": 0,
              "ticks": ""
             }
            },
            "type": "scattermapbox"
           }
          ],
          "scatterpolar": [
           {
            "marker": {
             "colorbar": {
              "outlinewidth": 0,
              "ticks": ""
             }
            },
            "type": "scatterpolar"
           }
          ],
          "scatterpolargl": [
           {
            "marker": {
             "colorbar": {
              "outlinewidth": 0,
              "ticks": ""
             }
            },
            "type": "scatterpolargl"
           }
          ],
          "scatterternary": [
           {
            "marker": {
             "colorbar": {
              "outlinewidth": 0,
              "ticks": ""
             }
            },
            "type": "scatterternary"
           }
          ],
          "surface": [
           {
            "colorbar": {
             "outlinewidth": 0,
             "ticks": ""
            },
            "colorscale": [
             [
              0,
              "#0d0887"
             ],
             [
              0.1111111111111111,
              "#46039f"
             ],
             [
              0.2222222222222222,
              "#7201a8"
             ],
             [
              0.3333333333333333,
              "#9c179e"
             ],
             [
              0.4444444444444444,
              "#bd3786"
             ],
             [
              0.5555555555555556,
              "#d8576b"
             ],
             [
              0.6666666666666666,
              "#ed7953"
             ],
             [
              0.7777777777777778,
              "#fb9f3a"
             ],
             [
              0.8888888888888888,
              "#fdca26"
             ],
             [
              1,
              "#f0f921"
             ]
            ],
            "type": "surface"
           }
          ],
          "table": [
           {
            "cells": {
             "fill": {
              "color": "#EBF0F8"
             },
             "line": {
              "color": "white"
             }
            },
            "header": {
             "fill": {
              "color": "#C8D4E3"
             },
             "line": {
              "color": "white"
             }
            },
            "type": "table"
           }
          ]
         },
         "layout": {
          "annotationdefaults": {
           "arrowcolor": "#2a3f5f",
           "arrowhead": 0,
           "arrowwidth": 1
          },
          "coloraxis": {
           "colorbar": {
            "outlinewidth": 0,
            "ticks": ""
           }
          },
          "colorscale": {
           "diverging": [
            [
             0,
             "#8e0152"
            ],
            [
             0.1,
             "#c51b7d"
            ],
            [
             0.2,
             "#de77ae"
            ],
            [
             0.3,
             "#f1b6da"
            ],
            [
             0.4,
             "#fde0ef"
            ],
            [
             0.5,
             "#f7f7f7"
            ],
            [
             0.6,
             "#e6f5d0"
            ],
            [
             0.7,
             "#b8e186"
            ],
            [
             0.8,
             "#7fbc41"
            ],
            [
             0.9,
             "#4d9221"
            ],
            [
             1,
             "#276419"
            ]
           ],
           "sequential": [
            [
             0,
             "#0d0887"
            ],
            [
             0.1111111111111111,
             "#46039f"
            ],
            [
             0.2222222222222222,
             "#7201a8"
            ],
            [
             0.3333333333333333,
             "#9c179e"
            ],
            [
             0.4444444444444444,
             "#bd3786"
            ],
            [
             0.5555555555555556,
             "#d8576b"
            ],
            [
             0.6666666666666666,
             "#ed7953"
            ],
            [
             0.7777777777777778,
             "#fb9f3a"
            ],
            [
             0.8888888888888888,
             "#fdca26"
            ],
            [
             1,
             "#f0f921"
            ]
           ],
           "sequentialminus": [
            [
             0,
             "#0d0887"
            ],
            [
             0.1111111111111111,
             "#46039f"
            ],
            [
             0.2222222222222222,
             "#7201a8"
            ],
            [
             0.3333333333333333,
             "#9c179e"
            ],
            [
             0.4444444444444444,
             "#bd3786"
            ],
            [
             0.5555555555555556,
             "#d8576b"
            ],
            [
             0.6666666666666666,
             "#ed7953"
            ],
            [
             0.7777777777777778,
             "#fb9f3a"
            ],
            [
             0.8888888888888888,
             "#fdca26"
            ],
            [
             1,
             "#f0f921"
            ]
           ]
          },
          "colorway": [
           "#636efa",
           "#EF553B",
           "#00cc96",
           "#ab63fa",
           "#FFA15A",
           "#19d3f3",
           "#FF6692",
           "#B6E880",
           "#FF97FF",
           "#FECB52"
          ],
          "font": {
           "color": "#2a3f5f"
          },
          "geo": {
           "bgcolor": "white",
           "lakecolor": "white",
           "landcolor": "#E5ECF6",
           "showlakes": true,
           "showland": true,
           "subunitcolor": "white"
          },
          "hoverlabel": {
           "align": "left"
          },
          "hovermode": "closest",
          "mapbox": {
           "style": "light"
          },
          "paper_bgcolor": "white",
          "plot_bgcolor": "#E5ECF6",
          "polar": {
           "angularaxis": {
            "gridcolor": "white",
            "linecolor": "white",
            "ticks": ""
           },
           "bgcolor": "#E5ECF6",
           "radialaxis": {
            "gridcolor": "white",
            "linecolor": "white",
            "ticks": ""
           }
          },
          "scene": {
           "xaxis": {
            "backgroundcolor": "#E5ECF6",
            "gridcolor": "white",
            "gridwidth": 2,
            "linecolor": "white",
            "showbackground": true,
            "ticks": "",
            "zerolinecolor": "white"
           },
           "yaxis": {
            "backgroundcolor": "#E5ECF6",
            "gridcolor": "white",
            "gridwidth": 2,
            "linecolor": "white",
            "showbackground": true,
            "ticks": "",
            "zerolinecolor": "white"
           },
           "zaxis": {
            "backgroundcolor": "#E5ECF6",
            "gridcolor": "white",
            "gridwidth": 2,
            "linecolor": "white",
            "showbackground": true,
            "ticks": "",
            "zerolinecolor": "white"
           }
          },
          "shapedefaults": {
           "line": {
            "color": "#2a3f5f"
           }
          },
          "ternary": {
           "aaxis": {
            "gridcolor": "white",
            "linecolor": "white",
            "ticks": ""
           },
           "baxis": {
            "gridcolor": "white",
            "linecolor": "white",
            "ticks": ""
           },
           "bgcolor": "#E5ECF6",
           "caxis": {
            "gridcolor": "white",
            "linecolor": "white",
            "ticks": ""
           }
          },
          "title": {
           "x": 0.05
          },
          "xaxis": {
           "automargin": true,
           "gridcolor": "white",
           "linecolor": "white",
           "ticks": "",
           "title": {
            "standoff": 15
           },
           "zerolinecolor": "white",
           "zerolinewidth": 2
          },
          "yaxis": {
           "automargin": true,
           "gridcolor": "white",
           "linecolor": "white",
           "ticks": "",
           "title": {
            "standoff": 15
           },
           "zerolinecolor": "white",
           "zerolinewidth": 2
          }
         }
        },
        "title": {
         "text": "Confirmed Covid-19 cases in India by Contries"
        }
       }
      },
      "text/html": [
       "<div>                            <div id=\"7708bc46-b1ff-4417-81ad-12bcc64fadcd\" class=\"plotly-graph-div\" style=\"height:525px; width:100%;\"></div>            <script type=\"text/javascript\">                require([\"plotly\"], function(Plotly) {                    window.PLOTLYENV=window.PLOTLYENV || {};                                    if (document.getElementById(\"7708bc46-b1ff-4417-81ad-12bcc64fadcd\")) {                    Plotly.newPlot(                        \"7708bc46-b1ff-4417-81ad-12bcc64fadcd\",                        [{\"domain\": {\"x\": [0.0, 1.0], \"y\": [0.0, 1.0]}, \"hole\": 0.5, \"hovertemplate\": \"province=%{label}<br>confirmed=%{value}<extra></extra>\", \"labels\": [\"Maharashtra\", \"Andhra Pradesh\", \"Karnataka\", \"Tamil Nadu\", \"Uttar Pradesh\", \"Delhi\", \"West Bengal\", \"Odisha\", \"Kerala\", \"Telangana\", \"Bihar\", \"Assam\", \"Rajasthan\", \"Gujarat\", \"Madhya Pradesh\", \"Haryana\", \"Chhattisgarh\", \"Punjab\", \"Jharkhand\", \"Jammu and Kashmir\", \"Uttarakhand\", \"Goa\", \"Puducherry\", \"Tripura\", \"Himachal Pradesh\", \"Chandigarh\", \"Manipur\", \"Arunachal Pradesh\", \"Meghalaya\", \"Nagaland\", \"Ladakh\", \"Andaman and Nicobar Islands\", \"Sikkim\", \"Dadra and Nagar Haveli and Daman and Diu\", \"Mizoram\", \"Unknown\", \"Lakshadweep\"], \"legendgroup\": \"\", \"name\": \"\", \"showlegend\": true, \"textinfo\": \"value+label\", \"textposition\": \"inside\", \"type\": \"pie\", \"values\": [1430861, 713014, 630516, 614507, 410626, 287930, 266974, 229387, 221333, 199276, 186441, 185444, 141846, 141236, 133918, 132576, 121400, 117319, 86277, 78228, 50062, 34900, 28752, 26874, 15695, 12360, 11649, 10421, 6456, 6429, 4477, 3868, 3131, 3070, 2120, 0, 0]}],                        {\"legend\": {\"tracegroupgap\": 0}, \"template\": {\"data\": {\"bar\": [{\"error_x\": {\"color\": \"#2a3f5f\"}, \"error_y\": {\"color\": \"#2a3f5f\"}, \"marker\": {\"line\": {\"color\": \"#E5ECF6\", \"width\": 0.5}}, \"type\": \"bar\"}], \"barpolar\": [{\"marker\": {\"line\": {\"color\": \"#E5ECF6\", \"width\": 0.5}}, \"type\": \"barpolar\"}], \"carpet\": [{\"aaxis\": {\"endlinecolor\": \"#2a3f5f\", \"gridcolor\": \"white\", \"linecolor\": \"white\", \"minorgridcolor\": \"white\", \"startlinecolor\": \"#2a3f5f\"}, \"baxis\": {\"endlinecolor\": \"#2a3f5f\", \"gridcolor\": \"white\", \"linecolor\": \"white\", \"minorgridcolor\": \"white\", \"startlinecolor\": \"#2a3f5f\"}, \"type\": \"carpet\"}], \"choropleth\": [{\"colorbar\": {\"outlinewidth\": 0, \"ticks\": \"\"}, \"type\": \"choropleth\"}], \"contour\": [{\"colorbar\": {\"outlinewidth\": 0, \"ticks\": \"\"}, \"colorscale\": [[0.0, \"#0d0887\"], [0.1111111111111111, \"#46039f\"], [0.2222222222222222, \"#7201a8\"], [0.3333333333333333, \"#9c179e\"], [0.4444444444444444, \"#bd3786\"], [0.5555555555555556, \"#d8576b\"], [0.6666666666666666, \"#ed7953\"], [0.7777777777777778, \"#fb9f3a\"], [0.8888888888888888, \"#fdca26\"], [1.0, \"#f0f921\"]], \"type\": \"contour\"}], \"contourcarpet\": [{\"colorbar\": {\"outlinewidth\": 0, \"ticks\": \"\"}, \"type\": \"contourcarpet\"}], \"heatmap\": [{\"colorbar\": {\"outlinewidth\": 0, \"ticks\": \"\"}, \"colorscale\": [[0.0, \"#0d0887\"], [0.1111111111111111, \"#46039f\"], [0.2222222222222222, \"#7201a8\"], [0.3333333333333333, \"#9c179e\"], [0.4444444444444444, \"#bd3786\"], [0.5555555555555556, \"#d8576b\"], [0.6666666666666666, \"#ed7953\"], [0.7777777777777778, \"#fb9f3a\"], [0.8888888888888888, \"#fdca26\"], [1.0, \"#f0f921\"]], \"type\": \"heatmap\"}], \"heatmapgl\": [{\"colorbar\": {\"outlinewidth\": 0, \"ticks\": \"\"}, \"colorscale\": [[0.0, \"#0d0887\"], [0.1111111111111111, \"#46039f\"], [0.2222222222222222, \"#7201a8\"], [0.3333333333333333, \"#9c179e\"], [0.4444444444444444, \"#bd3786\"], [0.5555555555555556, \"#d8576b\"], [0.6666666666666666, \"#ed7953\"], [0.7777777777777778, \"#fb9f3a\"], [0.8888888888888888, \"#fdca26\"], [1.0, \"#f0f921\"]], \"type\": \"heatmapgl\"}], \"histogram\": [{\"marker\": {\"colorbar\": {\"outlinewidth\": 0, \"ticks\": \"\"}}, \"type\": \"histogram\"}], \"histogram2d\": [{\"colorbar\": {\"outlinewidth\": 0, \"ticks\": \"\"}, \"colorscale\": [[0.0, \"#0d0887\"], [0.1111111111111111, \"#46039f\"], [0.2222222222222222, \"#7201a8\"], [0.3333333333333333, \"#9c179e\"], [0.4444444444444444, \"#bd3786\"], [0.5555555555555556, \"#d8576b\"], [0.6666666666666666, \"#ed7953\"], [0.7777777777777778, \"#fb9f3a\"], [0.8888888888888888, \"#fdca26\"], [1.0, \"#f0f921\"]], \"type\": \"histogram2d\"}], \"histogram2dcontour\": [{\"colorbar\": {\"outlinewidth\": 0, \"ticks\": \"\"}, \"colorscale\": [[0.0, \"#0d0887\"], [0.1111111111111111, \"#46039f\"], [0.2222222222222222, \"#7201a8\"], [0.3333333333333333, \"#9c179e\"], [0.4444444444444444, \"#bd3786\"], [0.5555555555555556, \"#d8576b\"], [0.6666666666666666, \"#ed7953\"], [0.7777777777777778, \"#fb9f3a\"], [0.8888888888888888, \"#fdca26\"], [1.0, \"#f0f921\"]], \"type\": \"histogram2dcontour\"}], \"mesh3d\": [{\"colorbar\": {\"outlinewidth\": 0, \"ticks\": \"\"}, \"type\": \"mesh3d\"}], \"parcoords\": [{\"line\": {\"colorbar\": {\"outlinewidth\": 0, \"ticks\": \"\"}}, \"type\": \"parcoords\"}], \"pie\": [{\"automargin\": true, \"type\": \"pie\"}], \"scatter\": [{\"marker\": {\"colorbar\": {\"outlinewidth\": 0, \"ticks\": \"\"}}, \"type\": \"scatter\"}], \"scatter3d\": [{\"line\": {\"colorbar\": {\"outlinewidth\": 0, \"ticks\": \"\"}}, \"marker\": {\"colorbar\": {\"outlinewidth\": 0, \"ticks\": \"\"}}, \"type\": \"scatter3d\"}], \"scattercarpet\": [{\"marker\": {\"colorbar\": {\"outlinewidth\": 0, \"ticks\": \"\"}}, \"type\": \"scattercarpet\"}], \"scattergeo\": [{\"marker\": {\"colorbar\": {\"outlinewidth\": 0, \"ticks\": \"\"}}, \"type\": \"scattergeo\"}], \"scattergl\": [{\"marker\": {\"colorbar\": {\"outlinewidth\": 0, \"ticks\": \"\"}}, \"type\": \"scattergl\"}], \"scattermapbox\": [{\"marker\": {\"colorbar\": {\"outlinewidth\": 0, \"ticks\": \"\"}}, \"type\": \"scattermapbox\"}], \"scatterpolar\": [{\"marker\": {\"colorbar\": {\"outlinewidth\": 0, \"ticks\": \"\"}}, \"type\": \"scatterpolar\"}], \"scatterpolargl\": [{\"marker\": {\"colorbar\": {\"outlinewidth\": 0, \"ticks\": \"\"}}, \"type\": \"scatterpolargl\"}], \"scatterternary\": [{\"marker\": {\"colorbar\": {\"outlinewidth\": 0, \"ticks\": \"\"}}, \"type\": \"scatterternary\"}], \"surface\": [{\"colorbar\": {\"outlinewidth\": 0, \"ticks\": \"\"}, \"colorscale\": [[0.0, \"#0d0887\"], [0.1111111111111111, \"#46039f\"], [0.2222222222222222, \"#7201a8\"], [0.3333333333333333, \"#9c179e\"], [0.4444444444444444, \"#bd3786\"], [0.5555555555555556, \"#d8576b\"], [0.6666666666666666, \"#ed7953\"], [0.7777777777777778, \"#fb9f3a\"], [0.8888888888888888, \"#fdca26\"], [1.0, \"#f0f921\"]], \"type\": \"surface\"}], \"table\": [{\"cells\": {\"fill\": {\"color\": \"#EBF0F8\"}, \"line\": {\"color\": \"white\"}}, \"header\": {\"fill\": {\"color\": \"#C8D4E3\"}, \"line\": {\"color\": \"white\"}}, \"type\": \"table\"}]}, \"layout\": {\"annotationdefaults\": {\"arrowcolor\": \"#2a3f5f\", \"arrowhead\": 0, \"arrowwidth\": 1}, \"coloraxis\": {\"colorbar\": {\"outlinewidth\": 0, \"ticks\": \"\"}}, \"colorscale\": {\"diverging\": [[0, \"#8e0152\"], [0.1, \"#c51b7d\"], [0.2, \"#de77ae\"], [0.3, \"#f1b6da\"], [0.4, \"#fde0ef\"], [0.5, \"#f7f7f7\"], [0.6, \"#e6f5d0\"], [0.7, \"#b8e186\"], [0.8, \"#7fbc41\"], [0.9, \"#4d9221\"], [1, \"#276419\"]], \"sequential\": [[0.0, \"#0d0887\"], [0.1111111111111111, \"#46039f\"], [0.2222222222222222, \"#7201a8\"], [0.3333333333333333, \"#9c179e\"], [0.4444444444444444, \"#bd3786\"], [0.5555555555555556, \"#d8576b\"], [0.6666666666666666, \"#ed7953\"], [0.7777777777777778, \"#fb9f3a\"], [0.8888888888888888, \"#fdca26\"], [1.0, \"#f0f921\"]], \"sequentialminus\": [[0.0, \"#0d0887\"], [0.1111111111111111, \"#46039f\"], [0.2222222222222222, \"#7201a8\"], [0.3333333333333333, \"#9c179e\"], [0.4444444444444444, \"#bd3786\"], [0.5555555555555556, \"#d8576b\"], [0.6666666666666666, \"#ed7953\"], [0.7777777777777778, \"#fb9f3a\"], [0.8888888888888888, \"#fdca26\"], [1.0, \"#f0f921\"]]}, \"colorway\": [\"#636efa\", \"#EF553B\", \"#00cc96\", \"#ab63fa\", \"#FFA15A\", \"#19d3f3\", \"#FF6692\", \"#B6E880\", \"#FF97FF\", \"#FECB52\"], \"font\": {\"color\": \"#2a3f5f\"}, \"geo\": {\"bgcolor\": \"white\", \"lakecolor\": \"white\", \"landcolor\": \"#E5ECF6\", \"showlakes\": true, \"showland\": true, \"subunitcolor\": \"white\"}, \"hoverlabel\": {\"align\": \"left\"}, \"hovermode\": \"closest\", \"mapbox\": {\"style\": \"light\"}, \"paper_bgcolor\": \"white\", \"plot_bgcolor\": \"#E5ECF6\", \"polar\": {\"angularaxis\": {\"gridcolor\": \"white\", \"linecolor\": \"white\", \"ticks\": \"\"}, \"bgcolor\": \"#E5ECF6\", \"radialaxis\": {\"gridcolor\": \"white\", \"linecolor\": \"white\", \"ticks\": \"\"}}, \"scene\": {\"xaxis\": {\"backgroundcolor\": \"#E5ECF6\", \"gridcolor\": \"white\", \"gridwidth\": 2, \"linecolor\": \"white\", \"showbackground\": true, \"ticks\": \"\", \"zerolinecolor\": \"white\"}, \"yaxis\": {\"backgroundcolor\": \"#E5ECF6\", \"gridcolor\": \"white\", \"gridwidth\": 2, \"linecolor\": \"white\", \"showbackground\": true, \"ticks\": \"\", \"zerolinecolor\": \"white\"}, \"zaxis\": {\"backgroundcolor\": \"#E5ECF6\", \"gridcolor\": \"white\", \"gridwidth\": 2, \"linecolor\": \"white\", \"showbackground\": true, \"ticks\": \"\", \"zerolinecolor\": \"white\"}}, \"shapedefaults\": {\"line\": {\"color\": \"#2a3f5f\"}}, \"ternary\": {\"aaxis\": {\"gridcolor\": \"white\", \"linecolor\": \"white\", \"ticks\": \"\"}, \"baxis\": {\"gridcolor\": \"white\", \"linecolor\": \"white\", \"ticks\": \"\"}, \"bgcolor\": \"#E5ECF6\", \"caxis\": {\"gridcolor\": \"white\", \"linecolor\": \"white\", \"ticks\": \"\"}}, \"title\": {\"x\": 0.05}, \"xaxis\": {\"automargin\": true, \"gridcolor\": \"white\", \"linecolor\": \"white\", \"ticks\": \"\", \"title\": {\"standoff\": 15}, \"zerolinecolor\": \"white\", \"zerolinewidth\": 2}, \"yaxis\": {\"automargin\": true, \"gridcolor\": \"white\", \"linecolor\": \"white\", \"ticks\": \"\", \"title\": {\"standoff\": 15}, \"zerolinecolor\": \"white\", \"zerolinewidth\": 2}}}, \"title\": {\"text\": \"Confirmed Covid-19 cases in India by Contries\"}},                        {\"responsive\": true}                    ).then(function(){\n",
       "                            \n",
       "var gd = document.getElementById('7708bc46-b1ff-4417-81ad-12bcc64fadcd');\n",
       "var x = new MutationObserver(function (mutations, observer) {{\n",
       "        var display = window.getComputedStyle(gd).display;\n",
       "        if (!display || display === 'none') {{\n",
       "            console.log([gd, 'removed!']);\n",
       "            Plotly.purge(gd);\n",
       "            observer.disconnect();\n",
       "        }}\n",
       "}});\n",
       "\n",
       "// Listen for the removal of the full notebook cells\n",
       "var notebookContainer = gd.closest('#notebook-container');\n",
       "if (notebookContainer) {{\n",
       "    x.observe(notebookContainer, {childList: true});\n",
       "}}\n",
       "\n",
       "// Listen for the clearing of the current output cell\n",
       "var outputEl = gd.closest('.output');\n",
       "if (outputEl) {{\n",
       "    x.observe(outputEl, {childList: true});\n",
       "}}\n",
       "\n",
       "                        })                };                });            </script>        </div>"
      ]
     },
     "metadata": {},
     "output_type": "display_data"
    }
   ],
   "source": [
    "#สร้าง Pie Chart เพื่อให้เห็นสัดส่วนผู้ติดเชื้อในแต่ละเมืองของอินเดีย\n",
    "fig = px.pie(Data_id_state,values=Data_id_state['confirmed'], names=Data_id_state['province'],\n",
    "             title='Confirmed Covid-19 cases in India by Contries',\n",
    "            hole=0.5)\n",
    "fig.update_traces(textposition='inside', textinfo='value+label')\n",
    "fig.show()"
   ]
  },
  {
   "cell_type": "markdown",
   "metadata": {},
   "source": [
    "## สรุปผล\n",
    "เมื่อนำข้อมูลที่ทำการจัดกลุ่มแบ่งออกเป็นรัฐแล้วนำมา plot เป็น donut chart พบว่า รัฐที่มียอดผู้ติดเชื้อสูงสุดคือ \n",
    "    1. Maharashtra ซึ่งมียอดผู้ติดเชื้อ 1,400,922 คน โดยพบว่า รัฐมหาราษฏระมีประชากร 112,374,333 คน ซึ่งเป็นเขตประการปกครองระดับที่1ที่มีประชากรมากที่สุดเป็นอันดับ2ของโลก\n",
    "    2. Andhra Pradesh (อนาธรประเทศ) มียอดผู้ติดเชื้อ 700,235 โดยมีประชากรที่อาศัยอยู่ในอนาธรประเทศทั้งหมด 49,386,799 คน\n",
    "    3. karnataka(คาร์นาตากา) มียอดผู้ติดเชื้อ 611,837 โดยมีประชากรที่อาศัยอยู่ในคาร์นาตากา 61,130,704 คน\n",
    "    4. Tamil Nadu(ทมิฬนาดู) มียอดผู้ติดเชื้อ 603,290 โดยมีประชากรที่อาศัยอยู่ในทมิฬนาดู 72,147,030 คน\n",
    "    5. Uttar Pradesh(อุตตรประเทศ ) มียอดผู้ติดเชื้อ 399,082 โดยมีประชากรที่อาศัยอยู่ในอุตตรประเทศ  199,812,341 คน\n",
    "\n",
    "เนื่องจากแต่ละเมืองมีประชากรอาศัยอยู่จำนวนมากซึ่งอยู่ในพื้นที่ที่จำกัดอาจส่งผลต่อการแพร่ระบาดของ covid-19 ได้ง่าย เนื่องจาก social distancingจะต้องมีพื้นที่ที่เยอะพอสมควรคือห่างกัน 2เมตร"
   ]
  },
  {
   "cell_type": "markdown",
   "metadata": {},
   "source": [
    "## Covid-19 in Brazil\n",
    "            บราซิลเป็นประเทศที่มีค่าครองชีพที่สูงซึ่งสูงมากกว่าประเทศไทย 2-3 เท่า และชาวบ้านที่ยากจนไม่สามารถเข้าถึงสาธรณูปโภค-สาธารณะสุขได้ แต่ผู้ว่าการแต่ละรัฐได้มีมาตรการตรวจเชื้อ covid-19 จึงทำให้ตัวเลขของผู้ติดเชื้อมากขึ้น แต่เนื่องจากชาวบ้านที่ยากจนก็ยังไม่สามารถเข้าถึงได้จึงส่งผลต่อตัวเลขผู้เสียชีวิตเช่นกัน แต่ในช่วง 10 สัปดาห์ที่ผ่านมายอดผู้ติดเชื้อสะสมลดลงจึงมีมาตรการให้กลับมาเปิดการเรียนการสอนได้ "
   ]
  },
  {
   "cell_type": "code",
   "execution_count": 29,
   "metadata": {
    "id": "5A_DsvW46jPl",
    "scrolled": true
   },
   "outputs": [
    {
     "data": {
      "text/html": [
       "<div>\n",
       "<style scoped>\n",
       "    .dataframe tbody tr th:only-of-type {\n",
       "        vertical-align: middle;\n",
       "    }\n",
       "\n",
       "    .dataframe tbody tr th {\n",
       "        vertical-align: top;\n",
       "    }\n",
       "\n",
       "    .dataframe thead th {\n",
       "        text-align: right;\n",
       "    }\n",
       "</style>\n",
       "<table border=\"1\" class=\"dataframe\">\n",
       "  <thead>\n",
       "    <tr style=\"text-align: right;\">\n",
       "      <th></th>\n",
       "      <th>city</th>\n",
       "      <th>province</th>\n",
       "      <th>country</th>\n",
       "      <th>lastUpdate</th>\n",
       "      <th>keyId</th>\n",
       "      <th>confirmed</th>\n",
       "      <th>deaths</th>\n",
       "      <th>recovered</th>\n",
       "      <th>Active</th>\n",
       "    </tr>\n",
       "  </thead>\n",
       "  <tbody>\n",
       "    <tr>\n",
       "      <th>0</th>\n",
       "      <td>Unknown</td>\n",
       "      <td>Acre</td>\n",
       "      <td>Brazil</td>\n",
       "      <td>2020-10-04T04:23:44+00:00</td>\n",
       "      <td>Acre, Brazil</td>\n",
       "      <td>28662</td>\n",
       "      <td>667</td>\n",
       "      <td>26885.0</td>\n",
       "      <td>1110.0</td>\n",
       "    </tr>\n",
       "    <tr>\n",
       "      <th>1</th>\n",
       "      <td>Unknown</td>\n",
       "      <td>Alagoas</td>\n",
       "      <td>Brazil</td>\n",
       "      <td>2020-10-04T04:23:44+00:00</td>\n",
       "      <td>Alagoas, Brazil</td>\n",
       "      <td>87928</td>\n",
       "      <td>2091</td>\n",
       "      <td>84709.0</td>\n",
       "      <td>1128.0</td>\n",
       "    </tr>\n",
       "    <tr>\n",
       "      <th>2</th>\n",
       "      <td>Unknown</td>\n",
       "      <td>Amapa</td>\n",
       "      <td>Brazil</td>\n",
       "      <td>2020-10-04T04:23:44+00:00</td>\n",
       "      <td>Amapa, Brazil</td>\n",
       "      <td>48602</td>\n",
       "      <td>715</td>\n",
       "      <td>36489.0</td>\n",
       "      <td>11398.0</td>\n",
       "    </tr>\n",
       "    <tr>\n",
       "      <th>3</th>\n",
       "      <td>Unknown</td>\n",
       "      <td>Amazonas</td>\n",
       "      <td>Brazil</td>\n",
       "      <td>2020-10-04T04:23:44+00:00</td>\n",
       "      <td>Amazonas, Brazil</td>\n",
       "      <td>142137</td>\n",
       "      <td>4169</td>\n",
       "      <td>120012.0</td>\n",
       "      <td>17956.0</td>\n",
       "    </tr>\n",
       "    <tr>\n",
       "      <th>4</th>\n",
       "      <td>Unknown</td>\n",
       "      <td>Bahia</td>\n",
       "      <td>Brazil</td>\n",
       "      <td>2020-10-04T04:23:44+00:00</td>\n",
       "      <td>Bahia, Brazil</td>\n",
       "      <td>314711</td>\n",
       "      <td>6890</td>\n",
       "      <td>301080.0</td>\n",
       "      <td>6741.0</td>\n",
       "    </tr>\n",
       "    <tr>\n",
       "      <th>5</th>\n",
       "      <td>Unknown</td>\n",
       "      <td>Ceara</td>\n",
       "      <td>Brazil</td>\n",
       "      <td>2020-10-04T04:23:44+00:00</td>\n",
       "      <td>Ceara, Brazil</td>\n",
       "      <td>242669</td>\n",
       "      <td>9050</td>\n",
       "      <td>215635.0</td>\n",
       "      <td>17984.0</td>\n",
       "    </tr>\n",
       "    <tr>\n",
       "      <th>6</th>\n",
       "      <td>Unknown</td>\n",
       "      <td>Distrito Federal</td>\n",
       "      <td>Brazil</td>\n",
       "      <td>2020-10-04T04:23:44+00:00</td>\n",
       "      <td>Distrito Federal, Brazil</td>\n",
       "      <td>194783</td>\n",
       "      <td>3309</td>\n",
       "      <td>184460.0</td>\n",
       "      <td>7014.0</td>\n",
       "    </tr>\n",
       "    <tr>\n",
       "      <th>7</th>\n",
       "      <td>Unknown</td>\n",
       "      <td>Espirito Santo</td>\n",
       "      <td>Brazil</td>\n",
       "      <td>2020-10-04T04:23:44+00:00</td>\n",
       "      <td>Espirito Santo, Brazil</td>\n",
       "      <td>133744</td>\n",
       "      <td>3572</td>\n",
       "      <td>123083.0</td>\n",
       "      <td>7089.0</td>\n",
       "    </tr>\n",
       "    <tr>\n",
       "      <th>8</th>\n",
       "      <td>Unknown</td>\n",
       "      <td>Goias</td>\n",
       "      <td>Brazil</td>\n",
       "      <td>2020-10-04T04:23:44+00:00</td>\n",
       "      <td>Goias, Brazil</td>\n",
       "      <td>215938</td>\n",
       "      <td>4832</td>\n",
       "      <td>204925.0</td>\n",
       "      <td>6181.0</td>\n",
       "    </tr>\n",
       "    <tr>\n",
       "      <th>9</th>\n",
       "      <td>Unknown</td>\n",
       "      <td>Maranhao</td>\n",
       "      <td>Brazil</td>\n",
       "      <td>2020-10-04T04:23:44+00:00</td>\n",
       "      <td>Maranhao, Brazil</td>\n",
       "      <td>175218</td>\n",
       "      <td>3787</td>\n",
       "      <td>165886.0</td>\n",
       "      <td>5545.0</td>\n",
       "    </tr>\n",
       "    <tr>\n",
       "      <th>10</th>\n",
       "      <td>Unknown</td>\n",
       "      <td>Mato Grosso</td>\n",
       "      <td>Brazil</td>\n",
       "      <td>2020-10-04T04:23:44+00:00</td>\n",
       "      <td>Mato Grosso, Brazil</td>\n",
       "      <td>125732</td>\n",
       "      <td>3450</td>\n",
       "      <td>107119.0</td>\n",
       "      <td>15163.0</td>\n",
       "    </tr>\n",
       "    <tr>\n",
       "      <th>11</th>\n",
       "      <td>Unknown</td>\n",
       "      <td>Mato Grosso do Sul</td>\n",
       "      <td>Brazil</td>\n",
       "      <td>2020-10-04T04:23:44+00:00</td>\n",
       "      <td>Mato Grosso do Sul, Brazil</td>\n",
       "      <td>71476</td>\n",
       "      <td>1335</td>\n",
       "      <td>64799.0</td>\n",
       "      <td>5342.0</td>\n",
       "    </tr>\n",
       "    <tr>\n",
       "      <th>12</th>\n",
       "      <td>Unknown</td>\n",
       "      <td>Minas Gerais</td>\n",
       "      <td>Brazil</td>\n",
       "      <td>2020-10-04T04:23:44+00:00</td>\n",
       "      <td>Minas Gerais, Brazil</td>\n",
       "      <td>305527</td>\n",
       "      <td>7569</td>\n",
       "      <td>270475.0</td>\n",
       "      <td>27483.0</td>\n",
       "    </tr>\n",
       "    <tr>\n",
       "      <th>13</th>\n",
       "      <td>Unknown</td>\n",
       "      <td>Para</td>\n",
       "      <td>Brazil</td>\n",
       "      <td>2020-10-04T04:23:44+00:00</td>\n",
       "      <td>Para, Brazil</td>\n",
       "      <td>233802</td>\n",
       "      <td>6593</td>\n",
       "      <td>217904.0</td>\n",
       "      <td>9305.0</td>\n",
       "    </tr>\n",
       "    <tr>\n",
       "      <th>14</th>\n",
       "      <td>Unknown</td>\n",
       "      <td>Paraiba</td>\n",
       "      <td>Brazil</td>\n",
       "      <td>2020-10-04T04:23:44+00:00</td>\n",
       "      <td>Paraiba, Brazil</td>\n",
       "      <td>122681</td>\n",
       "      <td>2846</td>\n",
       "      <td>98017.0</td>\n",
       "      <td>21818.0</td>\n",
       "    </tr>\n",
       "    <tr>\n",
       "      <th>15</th>\n",
       "      <td>Unknown</td>\n",
       "      <td>Parana</td>\n",
       "      <td>Brazil</td>\n",
       "      <td>2020-10-04T04:23:44+00:00</td>\n",
       "      <td>Parana, Brazil</td>\n",
       "      <td>183715</td>\n",
       "      <td>4574</td>\n",
       "      <td>133977.0</td>\n",
       "      <td>45164.0</td>\n",
       "    </tr>\n",
       "    <tr>\n",
       "      <th>16</th>\n",
       "      <td>Unknown</td>\n",
       "      <td>Pernambuco</td>\n",
       "      <td>Brazil</td>\n",
       "      <td>2020-10-04T04:23:44+00:00</td>\n",
       "      <td>Pernambuco, Brazil</td>\n",
       "      <td>149349</td>\n",
       "      <td>8318</td>\n",
       "      <td>129516.0</td>\n",
       "      <td>11515.0</td>\n",
       "    </tr>\n",
       "    <tr>\n",
       "      <th>17</th>\n",
       "      <td>Unknown</td>\n",
       "      <td>Piaui</td>\n",
       "      <td>Brazil</td>\n",
       "      <td>2020-10-04T04:23:44+00:00</td>\n",
       "      <td>Piaui, Brazil</td>\n",
       "      <td>98108</td>\n",
       "      <td>2144</td>\n",
       "      <td>95708.0</td>\n",
       "      <td>256.0</td>\n",
       "    </tr>\n",
       "    <tr>\n",
       "      <th>18</th>\n",
       "      <td>Unknown</td>\n",
       "      <td>Rio Grande do Norte</td>\n",
       "      <td>Brazil</td>\n",
       "      <td>2020-10-04T04:23:44+00:00</td>\n",
       "      <td>Rio Grande do Norte, Brazil</td>\n",
       "      <td>70553</td>\n",
       "      <td>2402</td>\n",
       "      <td>41449.0</td>\n",
       "      <td>26702.0</td>\n",
       "    </tr>\n",
       "    <tr>\n",
       "      <th>19</th>\n",
       "      <td>Unknown</td>\n",
       "      <td>Rio Grande do Sul</td>\n",
       "      <td>Brazil</td>\n",
       "      <td>2020-10-04T04:23:44+00:00</td>\n",
       "      <td>Rio Grande do Sul, Brazil</td>\n",
       "      <td>202587</td>\n",
       "      <td>4898</td>\n",
       "      <td>187652.0</td>\n",
       "      <td>10037.0</td>\n",
       "    </tr>\n",
       "    <tr>\n",
       "      <th>20</th>\n",
       "      <td>Unknown</td>\n",
       "      <td>Rio de Janeiro</td>\n",
       "      <td>Brazil</td>\n",
       "      <td>2020-10-04T04:23:44+00:00</td>\n",
       "      <td>Rio de Janeiro, Brazil</td>\n",
       "      <td>271575</td>\n",
       "      <td>18749</td>\n",
       "      <td>247541.0</td>\n",
       "      <td>5285.0</td>\n",
       "    </tr>\n",
       "    <tr>\n",
       "      <th>21</th>\n",
       "      <td>Unknown</td>\n",
       "      <td>Rondonia</td>\n",
       "      <td>Brazil</td>\n",
       "      <td>2020-10-04T04:23:44+00:00</td>\n",
       "      <td>Rondonia, Brazil</td>\n",
       "      <td>66576</td>\n",
       "      <td>1371</td>\n",
       "      <td>58783.0</td>\n",
       "      <td>6422.0</td>\n",
       "    </tr>\n",
       "    <tr>\n",
       "      <th>22</th>\n",
       "      <td>Unknown</td>\n",
       "      <td>Roraima</td>\n",
       "      <td>Brazil</td>\n",
       "      <td>2020-10-04T04:23:44+00:00</td>\n",
       "      <td>Roraima, Brazil</td>\n",
       "      <td>51298</td>\n",
       "      <td>661</td>\n",
       "      <td>46135.0</td>\n",
       "      <td>4502.0</td>\n",
       "    </tr>\n",
       "    <tr>\n",
       "      <th>23</th>\n",
       "      <td>Unknown</td>\n",
       "      <td>Santa Catarina</td>\n",
       "      <td>Brazil</td>\n",
       "      <td>2020-10-04T04:23:44+00:00</td>\n",
       "      <td>Santa Catarina, Brazil</td>\n",
       "      <td>218633</td>\n",
       "      <td>2842</td>\n",
       "      <td>208547.0</td>\n",
       "      <td>7244.0</td>\n",
       "    </tr>\n",
       "    <tr>\n",
       "      <th>24</th>\n",
       "      <td>Unknown</td>\n",
       "      <td>Sao Paulo</td>\n",
       "      <td>Brazil</td>\n",
       "      <td>2020-10-04T04:23:44+00:00</td>\n",
       "      <td>Sao Paulo, Brazil</td>\n",
       "      <td>1003429</td>\n",
       "      <td>36136</td>\n",
       "      <td>865135.0</td>\n",
       "      <td>102158.0</td>\n",
       "    </tr>\n",
       "    <tr>\n",
       "      <th>25</th>\n",
       "      <td>Unknown</td>\n",
       "      <td>Sergipe</td>\n",
       "      <td>Brazil</td>\n",
       "      <td>2020-10-04T04:23:44+00:00</td>\n",
       "      <td>Sergipe, Brazil</td>\n",
       "      <td>78002</td>\n",
       "      <td>2051</td>\n",
       "      <td>72063.0</td>\n",
       "      <td>3888.0</td>\n",
       "    </tr>\n",
       "    <tr>\n",
       "      <th>26</th>\n",
       "      <td>Unknown</td>\n",
       "      <td>Tocantins</td>\n",
       "      <td>Brazil</td>\n",
       "      <td>2020-10-04T04:23:44+00:00</td>\n",
       "      <td>Tocantins, Brazil</td>\n",
       "      <td>69398</td>\n",
       "      <td>966</td>\n",
       "      <td>53124.0</td>\n",
       "      <td>15308.0</td>\n",
       "    </tr>\n",
       "  </tbody>\n",
       "</table>\n",
       "</div>"
      ],
      "text/plain": [
       "       city             province country                 lastUpdate  \\\n",
       "0   Unknown                 Acre  Brazil  2020-10-04T04:23:44+00:00   \n",
       "1   Unknown              Alagoas  Brazil  2020-10-04T04:23:44+00:00   \n",
       "2   Unknown                Amapa  Brazil  2020-10-04T04:23:44+00:00   \n",
       "3   Unknown             Amazonas  Brazil  2020-10-04T04:23:44+00:00   \n",
       "4   Unknown                Bahia  Brazil  2020-10-04T04:23:44+00:00   \n",
       "5   Unknown                Ceara  Brazil  2020-10-04T04:23:44+00:00   \n",
       "6   Unknown     Distrito Federal  Brazil  2020-10-04T04:23:44+00:00   \n",
       "7   Unknown       Espirito Santo  Brazil  2020-10-04T04:23:44+00:00   \n",
       "8   Unknown                Goias  Brazil  2020-10-04T04:23:44+00:00   \n",
       "9   Unknown             Maranhao  Brazil  2020-10-04T04:23:44+00:00   \n",
       "10  Unknown          Mato Grosso  Brazil  2020-10-04T04:23:44+00:00   \n",
       "11  Unknown   Mato Grosso do Sul  Brazil  2020-10-04T04:23:44+00:00   \n",
       "12  Unknown         Minas Gerais  Brazil  2020-10-04T04:23:44+00:00   \n",
       "13  Unknown                 Para  Brazil  2020-10-04T04:23:44+00:00   \n",
       "14  Unknown              Paraiba  Brazil  2020-10-04T04:23:44+00:00   \n",
       "15  Unknown               Parana  Brazil  2020-10-04T04:23:44+00:00   \n",
       "16  Unknown           Pernambuco  Brazil  2020-10-04T04:23:44+00:00   \n",
       "17  Unknown                Piaui  Brazil  2020-10-04T04:23:44+00:00   \n",
       "18  Unknown  Rio Grande do Norte  Brazil  2020-10-04T04:23:44+00:00   \n",
       "19  Unknown    Rio Grande do Sul  Brazil  2020-10-04T04:23:44+00:00   \n",
       "20  Unknown       Rio de Janeiro  Brazil  2020-10-04T04:23:44+00:00   \n",
       "21  Unknown             Rondonia  Brazil  2020-10-04T04:23:44+00:00   \n",
       "22  Unknown              Roraima  Brazil  2020-10-04T04:23:44+00:00   \n",
       "23  Unknown       Santa Catarina  Brazil  2020-10-04T04:23:44+00:00   \n",
       "24  Unknown            Sao Paulo  Brazil  2020-10-04T04:23:44+00:00   \n",
       "25  Unknown              Sergipe  Brazil  2020-10-04T04:23:44+00:00   \n",
       "26  Unknown            Tocantins  Brazil  2020-10-04T04:23:44+00:00   \n",
       "\n",
       "                          keyId  confirmed  deaths  recovered    Active  \n",
       "0                  Acre, Brazil      28662     667    26885.0    1110.0  \n",
       "1               Alagoas, Brazil      87928    2091    84709.0    1128.0  \n",
       "2                 Amapa, Brazil      48602     715    36489.0   11398.0  \n",
       "3              Amazonas, Brazil     142137    4169   120012.0   17956.0  \n",
       "4                 Bahia, Brazil     314711    6890   301080.0    6741.0  \n",
       "5                 Ceara, Brazil     242669    9050   215635.0   17984.0  \n",
       "6      Distrito Federal, Brazil     194783    3309   184460.0    7014.0  \n",
       "7        Espirito Santo, Brazil     133744    3572   123083.0    7089.0  \n",
       "8                 Goias, Brazil     215938    4832   204925.0    6181.0  \n",
       "9              Maranhao, Brazil     175218    3787   165886.0    5545.0  \n",
       "10          Mato Grosso, Brazil     125732    3450   107119.0   15163.0  \n",
       "11   Mato Grosso do Sul, Brazil      71476    1335    64799.0    5342.0  \n",
       "12         Minas Gerais, Brazil     305527    7569   270475.0   27483.0  \n",
       "13                 Para, Brazil     233802    6593   217904.0    9305.0  \n",
       "14              Paraiba, Brazil     122681    2846    98017.0   21818.0  \n",
       "15               Parana, Brazil     183715    4574   133977.0   45164.0  \n",
       "16           Pernambuco, Brazil     149349    8318   129516.0   11515.0  \n",
       "17                Piaui, Brazil      98108    2144    95708.0     256.0  \n",
       "18  Rio Grande do Norte, Brazil      70553    2402    41449.0   26702.0  \n",
       "19    Rio Grande do Sul, Brazil     202587    4898   187652.0   10037.0  \n",
       "20       Rio de Janeiro, Brazil     271575   18749   247541.0    5285.0  \n",
       "21             Rondonia, Brazil      66576    1371    58783.0    6422.0  \n",
       "22              Roraima, Brazil      51298     661    46135.0    4502.0  \n",
       "23       Santa Catarina, Brazil     218633    2842   208547.0    7244.0  \n",
       "24            Sao Paulo, Brazil    1003429   36136   865135.0  102158.0  \n",
       "25              Sergipe, Brazil      78002    2051    72063.0    3888.0  \n",
       "26            Tocantins, Brazil      69398     966    53124.0   15308.0  "
      ]
     },
     "execution_count": 29,
     "metadata": {},
     "output_type": "execute_result"
    }
   ],
   "source": [
    "#ยอดผู้ติดเชื้อในแต่ละเมืองของบราซิล\n",
    "Data_BZ = df[(df['country'] == 'Brazil') ].reset_index(drop=True)\n",
    "Data_BZ"
   ]
  },
  {
   "cell_type": "code",
   "execution_count": 30,
   "metadata": {
    "id": "GAvHlS5a6vea",
    "scrolled": true
   },
   "outputs": [
    {
     "data": {
      "text/html": [
       "<div>\n",
       "<style scoped>\n",
       "    .dataframe tbody tr th:only-of-type {\n",
       "        vertical-align: middle;\n",
       "    }\n",
       "\n",
       "    .dataframe tbody tr th {\n",
       "        vertical-align: top;\n",
       "    }\n",
       "\n",
       "    .dataframe thead th {\n",
       "        text-align: right;\n",
       "    }\n",
       "</style>\n",
       "<table border=\"1\" class=\"dataframe\">\n",
       "  <thead>\n",
       "    <tr style=\"text-align: right;\">\n",
       "      <th></th>\n",
       "      <th>province</th>\n",
       "      <th>confirmed</th>\n",
       "      <th>recovered</th>\n",
       "      <th>deaths</th>\n",
       "    </tr>\n",
       "  </thead>\n",
       "  <tbody>\n",
       "    <tr>\n",
       "      <th>0</th>\n",
       "      <td>Sao Paulo</td>\n",
       "      <td>1003429</td>\n",
       "      <td>865135.0</td>\n",
       "      <td>36136</td>\n",
       "    </tr>\n",
       "    <tr>\n",
       "      <th>1</th>\n",
       "      <td>Bahia</td>\n",
       "      <td>314711</td>\n",
       "      <td>301080.0</td>\n",
       "      <td>6890</td>\n",
       "    </tr>\n",
       "    <tr>\n",
       "      <th>2</th>\n",
       "      <td>Minas Gerais</td>\n",
       "      <td>305527</td>\n",
       "      <td>270475.0</td>\n",
       "      <td>7569</td>\n",
       "    </tr>\n",
       "    <tr>\n",
       "      <th>3</th>\n",
       "      <td>Rio de Janeiro</td>\n",
       "      <td>271575</td>\n",
       "      <td>247541.0</td>\n",
       "      <td>18749</td>\n",
       "    </tr>\n",
       "    <tr>\n",
       "      <th>4</th>\n",
       "      <td>Ceara</td>\n",
       "      <td>242669</td>\n",
       "      <td>215635.0</td>\n",
       "      <td>9050</td>\n",
       "    </tr>\n",
       "    <tr>\n",
       "      <th>5</th>\n",
       "      <td>Para</td>\n",
       "      <td>233802</td>\n",
       "      <td>217904.0</td>\n",
       "      <td>6593</td>\n",
       "    </tr>\n",
       "    <tr>\n",
       "      <th>6</th>\n",
       "      <td>Santa Catarina</td>\n",
       "      <td>218633</td>\n",
       "      <td>208547.0</td>\n",
       "      <td>2842</td>\n",
       "    </tr>\n",
       "    <tr>\n",
       "      <th>7</th>\n",
       "      <td>Goias</td>\n",
       "      <td>215938</td>\n",
       "      <td>204925.0</td>\n",
       "      <td>4832</td>\n",
       "    </tr>\n",
       "    <tr>\n",
       "      <th>8</th>\n",
       "      <td>Rio Grande do Sul</td>\n",
       "      <td>202587</td>\n",
       "      <td>187652.0</td>\n",
       "      <td>4898</td>\n",
       "    </tr>\n",
       "    <tr>\n",
       "      <th>9</th>\n",
       "      <td>Distrito Federal</td>\n",
       "      <td>194783</td>\n",
       "      <td>184460.0</td>\n",
       "      <td>3309</td>\n",
       "    </tr>\n",
       "    <tr>\n",
       "      <th>10</th>\n",
       "      <td>Parana</td>\n",
       "      <td>183715</td>\n",
       "      <td>133977.0</td>\n",
       "      <td>4574</td>\n",
       "    </tr>\n",
       "    <tr>\n",
       "      <th>11</th>\n",
       "      <td>Maranhao</td>\n",
       "      <td>175218</td>\n",
       "      <td>165886.0</td>\n",
       "      <td>3787</td>\n",
       "    </tr>\n",
       "    <tr>\n",
       "      <th>12</th>\n",
       "      <td>Pernambuco</td>\n",
       "      <td>149349</td>\n",
       "      <td>129516.0</td>\n",
       "      <td>8318</td>\n",
       "    </tr>\n",
       "    <tr>\n",
       "      <th>13</th>\n",
       "      <td>Amazonas</td>\n",
       "      <td>142137</td>\n",
       "      <td>120012.0</td>\n",
       "      <td>4169</td>\n",
       "    </tr>\n",
       "    <tr>\n",
       "      <th>14</th>\n",
       "      <td>Espirito Santo</td>\n",
       "      <td>133744</td>\n",
       "      <td>123083.0</td>\n",
       "      <td>3572</td>\n",
       "    </tr>\n",
       "    <tr>\n",
       "      <th>15</th>\n",
       "      <td>Mato Grosso</td>\n",
       "      <td>125732</td>\n",
       "      <td>107119.0</td>\n",
       "      <td>3450</td>\n",
       "    </tr>\n",
       "    <tr>\n",
       "      <th>16</th>\n",
       "      <td>Paraiba</td>\n",
       "      <td>122681</td>\n",
       "      <td>98017.0</td>\n",
       "      <td>2846</td>\n",
       "    </tr>\n",
       "    <tr>\n",
       "      <th>17</th>\n",
       "      <td>Piaui</td>\n",
       "      <td>98108</td>\n",
       "      <td>95708.0</td>\n",
       "      <td>2144</td>\n",
       "    </tr>\n",
       "    <tr>\n",
       "      <th>18</th>\n",
       "      <td>Alagoas</td>\n",
       "      <td>87928</td>\n",
       "      <td>84709.0</td>\n",
       "      <td>2091</td>\n",
       "    </tr>\n",
       "    <tr>\n",
       "      <th>19</th>\n",
       "      <td>Sergipe</td>\n",
       "      <td>78002</td>\n",
       "      <td>72063.0</td>\n",
       "      <td>2051</td>\n",
       "    </tr>\n",
       "    <tr>\n",
       "      <th>20</th>\n",
       "      <td>Mato Grosso do Sul</td>\n",
       "      <td>71476</td>\n",
       "      <td>64799.0</td>\n",
       "      <td>1335</td>\n",
       "    </tr>\n",
       "    <tr>\n",
       "      <th>21</th>\n",
       "      <td>Rio Grande do Norte</td>\n",
       "      <td>70553</td>\n",
       "      <td>41449.0</td>\n",
       "      <td>2402</td>\n",
       "    </tr>\n",
       "    <tr>\n",
       "      <th>22</th>\n",
       "      <td>Tocantins</td>\n",
       "      <td>69398</td>\n",
       "      <td>53124.0</td>\n",
       "      <td>966</td>\n",
       "    </tr>\n",
       "    <tr>\n",
       "      <th>23</th>\n",
       "      <td>Rondonia</td>\n",
       "      <td>66576</td>\n",
       "      <td>58783.0</td>\n",
       "      <td>1371</td>\n",
       "    </tr>\n",
       "    <tr>\n",
       "      <th>24</th>\n",
       "      <td>Roraima</td>\n",
       "      <td>51298</td>\n",
       "      <td>46135.0</td>\n",
       "      <td>661</td>\n",
       "    </tr>\n",
       "    <tr>\n",
       "      <th>25</th>\n",
       "      <td>Amapa</td>\n",
       "      <td>48602</td>\n",
       "      <td>36489.0</td>\n",
       "      <td>715</td>\n",
       "    </tr>\n",
       "    <tr>\n",
       "      <th>26</th>\n",
       "      <td>Acre</td>\n",
       "      <td>28662</td>\n",
       "      <td>26885.0</td>\n",
       "      <td>667</td>\n",
       "    </tr>\n",
       "  </tbody>\n",
       "</table>\n",
       "</div>"
      ],
      "text/plain": [
       "               province  confirmed  recovered  deaths\n",
       "0             Sao Paulo    1003429   865135.0   36136\n",
       "1                 Bahia     314711   301080.0    6890\n",
       "2          Minas Gerais     305527   270475.0    7569\n",
       "3        Rio de Janeiro     271575   247541.0   18749\n",
       "4                 Ceara     242669   215635.0    9050\n",
       "5                  Para     233802   217904.0    6593\n",
       "6        Santa Catarina     218633   208547.0    2842\n",
       "7                 Goias     215938   204925.0    4832\n",
       "8     Rio Grande do Sul     202587   187652.0    4898\n",
       "9      Distrito Federal     194783   184460.0    3309\n",
       "10               Parana     183715   133977.0    4574\n",
       "11             Maranhao     175218   165886.0    3787\n",
       "12           Pernambuco     149349   129516.0    8318\n",
       "13             Amazonas     142137   120012.0    4169\n",
       "14       Espirito Santo     133744   123083.0    3572\n",
       "15          Mato Grosso     125732   107119.0    3450\n",
       "16              Paraiba     122681    98017.0    2846\n",
       "17                Piaui      98108    95708.0    2144\n",
       "18              Alagoas      87928    84709.0    2091\n",
       "19              Sergipe      78002    72063.0    2051\n",
       "20   Mato Grosso do Sul      71476    64799.0    1335\n",
       "21  Rio Grande do Norte      70553    41449.0    2402\n",
       "22            Tocantins      69398    53124.0     966\n",
       "23             Rondonia      66576    58783.0    1371\n",
       "24              Roraima      51298    46135.0     661\n",
       "25                Amapa      48602    36489.0     715\n",
       "26                 Acre      28662    26885.0     667"
      ]
     },
     "execution_count": 30,
     "metadata": {},
     "output_type": "execute_result"
    }
   ],
   "source": [
    "#ทำการจัดกลุ่มแต่ละเมืองโดยใช้ยอดผู้ติดเชื้อเรียงจากมากไปน้อย\n",
    "Data_BZ_state= Data_BZ.groupby([\"province\"])[\"confirmed\",\"recovered\",\"deaths\"].sum().reset_index().sort_values(\"confirmed\",ascending=False).reset_index(drop=True)\n",
    "Data_BZ_state"
   ]
  },
  {
   "cell_type": "code",
   "execution_count": 72,
   "metadata": {
    "colab": {
     "base_uri": "https://localhost:8080/",
     "height": 542
    },
    "id": "jw6eavyg7MSy",
    "outputId": "8c46d786-d9d7-41f6-8fa2-3ca05c7b2fd3",
    "scrolled": true
   },
   "outputs": [
    {
     "data": {
      "application/vnd.plotly.v1+json": {
       "config": {
        "plotlyServerURL": "https://plot.ly"
       },
       "data": [
        {
         "marker": {
          "color": [
           "#7d0633",
           "#821752",
           "#0f3057",
           "#00587a",
           "#008891",
           "#41aea9",
           "#a6f6f1",
           "#ccf6c8",
           "#fafcc2",
           "#f6d6ad",
           "#f9c0c0"
          ]
         },
         "text": [
          "confirmed"
         ],
         "textposition": "auto",
         "type": "bar",
         "x": [
          "Sao Paulo",
          "Bahia",
          "Minas Gerais",
          "Rio de Janeiro",
          "Ceara",
          "Para",
          "Santa Catarina",
          "Goias",
          "Rio Grande do Sul",
          "Distrito Federal",
          "Parana",
          "Maranhao",
          "Pernambuco",
          "Amazonas",
          "Espirito Santo",
          "Mato Grosso",
          "Paraiba",
          "Piaui",
          "Alagoas",
          "Sergipe",
          "Mato Grosso do Sul",
          "Rio Grande do Norte",
          "Tocantins",
          "Rondonia",
          "Roraima",
          "Amapa",
          "Acre"
         ],
         "y": [
          1003429,
          314711,
          305527,
          271575,
          242669,
          233802,
          218633,
          215938,
          202587,
          194783,
          183715,
          175218,
          149349,
          142137,
          133744,
          125732,
          122681,
          98108,
          87928,
          78002,
          71476,
          70553,
          69398,
          66576,
          51298,
          48602,
          28662
         ]
        }
       ],
       "layout": {
        "template": {
         "data": {
          "bar": [
           {
            "error_x": {
             "color": "#2a3f5f"
            },
            "error_y": {
             "color": "#2a3f5f"
            },
            "marker": {
             "line": {
              "color": "white",
              "width": 0.5
             }
            },
            "type": "bar"
           }
          ],
          "barpolar": [
           {
            "marker": {
             "line": {
              "color": "white",
              "width": 0.5
             }
            },
            "type": "barpolar"
           }
          ],
          "carpet": [
           {
            "aaxis": {
             "endlinecolor": "#2a3f5f",
             "gridcolor": "#C8D4E3",
             "linecolor": "#C8D4E3",
             "minorgridcolor": "#C8D4E3",
             "startlinecolor": "#2a3f5f"
            },
            "baxis": {
             "endlinecolor": "#2a3f5f",
             "gridcolor": "#C8D4E3",
             "linecolor": "#C8D4E3",
             "minorgridcolor": "#C8D4E3",
             "startlinecolor": "#2a3f5f"
            },
            "type": "carpet"
           }
          ],
          "choropleth": [
           {
            "colorbar": {
             "outlinewidth": 0,
             "ticks": ""
            },
            "type": "choropleth"
           }
          ],
          "contour": [
           {
            "colorbar": {
             "outlinewidth": 0,
             "ticks": ""
            },
            "colorscale": [
             [
              0,
              "#0d0887"
             ],
             [
              0.1111111111111111,
              "#46039f"
             ],
             [
              0.2222222222222222,
              "#7201a8"
             ],
             [
              0.3333333333333333,
              "#9c179e"
             ],
             [
              0.4444444444444444,
              "#bd3786"
             ],
             [
              0.5555555555555556,
              "#d8576b"
             ],
             [
              0.6666666666666666,
              "#ed7953"
             ],
             [
              0.7777777777777778,
              "#fb9f3a"
             ],
             [
              0.8888888888888888,
              "#fdca26"
             ],
             [
              1,
              "#f0f921"
             ]
            ],
            "type": "contour"
           }
          ],
          "contourcarpet": [
           {
            "colorbar": {
             "outlinewidth": 0,
             "ticks": ""
            },
            "type": "contourcarpet"
           }
          ],
          "heatmap": [
           {
            "colorbar": {
             "outlinewidth": 0,
             "ticks": ""
            },
            "colorscale": [
             [
              0,
              "#0d0887"
             ],
             [
              0.1111111111111111,
              "#46039f"
             ],
             [
              0.2222222222222222,
              "#7201a8"
             ],
             [
              0.3333333333333333,
              "#9c179e"
             ],
             [
              0.4444444444444444,
              "#bd3786"
             ],
             [
              0.5555555555555556,
              "#d8576b"
             ],
             [
              0.6666666666666666,
              "#ed7953"
             ],
             [
              0.7777777777777778,
              "#fb9f3a"
             ],
             [
              0.8888888888888888,
              "#fdca26"
             ],
             [
              1,
              "#f0f921"
             ]
            ],
            "type": "heatmap"
           }
          ],
          "heatmapgl": [
           {
            "colorbar": {
             "outlinewidth": 0,
             "ticks": ""
            },
            "colorscale": [
             [
              0,
              "#0d0887"
             ],
             [
              0.1111111111111111,
              "#46039f"
             ],
             [
              0.2222222222222222,
              "#7201a8"
             ],
             [
              0.3333333333333333,
              "#9c179e"
             ],
             [
              0.4444444444444444,
              "#bd3786"
             ],
             [
              0.5555555555555556,
              "#d8576b"
             ],
             [
              0.6666666666666666,
              "#ed7953"
             ],
             [
              0.7777777777777778,
              "#fb9f3a"
             ],
             [
              0.8888888888888888,
              "#fdca26"
             ],
             [
              1,
              "#f0f921"
             ]
            ],
            "type": "heatmapgl"
           }
          ],
          "histogram": [
           {
            "marker": {
             "colorbar": {
              "outlinewidth": 0,
              "ticks": ""
             }
            },
            "type": "histogram"
           }
          ],
          "histogram2d": [
           {
            "colorbar": {
             "outlinewidth": 0,
             "ticks": ""
            },
            "colorscale": [
             [
              0,
              "#0d0887"
             ],
             [
              0.1111111111111111,
              "#46039f"
             ],
             [
              0.2222222222222222,
              "#7201a8"
             ],
             [
              0.3333333333333333,
              "#9c179e"
             ],
             [
              0.4444444444444444,
              "#bd3786"
             ],
             [
              0.5555555555555556,
              "#d8576b"
             ],
             [
              0.6666666666666666,
              "#ed7953"
             ],
             [
              0.7777777777777778,
              "#fb9f3a"
             ],
             [
              0.8888888888888888,
              "#fdca26"
             ],
             [
              1,
              "#f0f921"
             ]
            ],
            "type": "histogram2d"
           }
          ],
          "histogram2dcontour": [
           {
            "colorbar": {
             "outlinewidth": 0,
             "ticks": ""
            },
            "colorscale": [
             [
              0,
              "#0d0887"
             ],
             [
              0.1111111111111111,
              "#46039f"
             ],
             [
              0.2222222222222222,
              "#7201a8"
             ],
             [
              0.3333333333333333,
              "#9c179e"
             ],
             [
              0.4444444444444444,
              "#bd3786"
             ],
             [
              0.5555555555555556,
              "#d8576b"
             ],
             [
              0.6666666666666666,
              "#ed7953"
             ],
             [
              0.7777777777777778,
              "#fb9f3a"
             ],
             [
              0.8888888888888888,
              "#fdca26"
             ],
             [
              1,
              "#f0f921"
             ]
            ],
            "type": "histogram2dcontour"
           }
          ],
          "mesh3d": [
           {
            "colorbar": {
             "outlinewidth": 0,
             "ticks": ""
            },
            "type": "mesh3d"
           }
          ],
          "parcoords": [
           {
            "line": {
             "colorbar": {
              "outlinewidth": 0,
              "ticks": ""
             }
            },
            "type": "parcoords"
           }
          ],
          "pie": [
           {
            "automargin": true,
            "type": "pie"
           }
          ],
          "scatter": [
           {
            "marker": {
             "colorbar": {
              "outlinewidth": 0,
              "ticks": ""
             }
            },
            "type": "scatter"
           }
          ],
          "scatter3d": [
           {
            "line": {
             "colorbar": {
              "outlinewidth": 0,
              "ticks": ""
             }
            },
            "marker": {
             "colorbar": {
              "outlinewidth": 0,
              "ticks": ""
             }
            },
            "type": "scatter3d"
           }
          ],
          "scattercarpet": [
           {
            "marker": {
             "colorbar": {
              "outlinewidth": 0,
              "ticks": ""
             }
            },
            "type": "scattercarpet"
           }
          ],
          "scattergeo": [
           {
            "marker": {
             "colorbar": {
              "outlinewidth": 0,
              "ticks": ""
             }
            },
            "type": "scattergeo"
           }
          ],
          "scattergl": [
           {
            "marker": {
             "colorbar": {
              "outlinewidth": 0,
              "ticks": ""
             }
            },
            "type": "scattergl"
           }
          ],
          "scattermapbox": [
           {
            "marker": {
             "colorbar": {
              "outlinewidth": 0,
              "ticks": ""
             }
            },
            "type": "scattermapbox"
           }
          ],
          "scatterpolar": [
           {
            "marker": {
             "colorbar": {
              "outlinewidth": 0,
              "ticks": ""
             }
            },
            "type": "scatterpolar"
           }
          ],
          "scatterpolargl": [
           {
            "marker": {
             "colorbar": {
              "outlinewidth": 0,
              "ticks": ""
             }
            },
            "type": "scatterpolargl"
           }
          ],
          "scatterternary": [
           {
            "marker": {
             "colorbar": {
              "outlinewidth": 0,
              "ticks": ""
             }
            },
            "type": "scatterternary"
           }
          ],
          "surface": [
           {
            "colorbar": {
             "outlinewidth": 0,
             "ticks": ""
            },
            "colorscale": [
             [
              0,
              "#0d0887"
             ],
             [
              0.1111111111111111,
              "#46039f"
             ],
             [
              0.2222222222222222,
              "#7201a8"
             ],
             [
              0.3333333333333333,
              "#9c179e"
             ],
             [
              0.4444444444444444,
              "#bd3786"
             ],
             [
              0.5555555555555556,
              "#d8576b"
             ],
             [
              0.6666666666666666,
              "#ed7953"
             ],
             [
              0.7777777777777778,
              "#fb9f3a"
             ],
             [
              0.8888888888888888,
              "#fdca26"
             ],
             [
              1,
              "#f0f921"
             ]
            ],
            "type": "surface"
           }
          ],
          "table": [
           {
            "cells": {
             "fill": {
              "color": "#EBF0F8"
             },
             "line": {
              "color": "white"
             }
            },
            "header": {
             "fill": {
              "color": "#C8D4E3"
             },
             "line": {
              "color": "white"
             }
            },
            "type": "table"
           }
          ]
         },
         "layout": {
          "annotationdefaults": {
           "arrowcolor": "#2a3f5f",
           "arrowhead": 0,
           "arrowwidth": 1
          },
          "coloraxis": {
           "colorbar": {
            "outlinewidth": 0,
            "ticks": ""
           }
          },
          "colorscale": {
           "diverging": [
            [
             0,
             "#8e0152"
            ],
            [
             0.1,
             "#c51b7d"
            ],
            [
             0.2,
             "#de77ae"
            ],
            [
             0.3,
             "#f1b6da"
            ],
            [
             0.4,
             "#fde0ef"
            ],
            [
             0.5,
             "#f7f7f7"
            ],
            [
             0.6,
             "#e6f5d0"
            ],
            [
             0.7,
             "#b8e186"
            ],
            [
             0.8,
             "#7fbc41"
            ],
            [
             0.9,
             "#4d9221"
            ],
            [
             1,
             "#276419"
            ]
           ],
           "sequential": [
            [
             0,
             "#0d0887"
            ],
            [
             0.1111111111111111,
             "#46039f"
            ],
            [
             0.2222222222222222,
             "#7201a8"
            ],
            [
             0.3333333333333333,
             "#9c179e"
            ],
            [
             0.4444444444444444,
             "#bd3786"
            ],
            [
             0.5555555555555556,
             "#d8576b"
            ],
            [
             0.6666666666666666,
             "#ed7953"
            ],
            [
             0.7777777777777778,
             "#fb9f3a"
            ],
            [
             0.8888888888888888,
             "#fdca26"
            ],
            [
             1,
             "#f0f921"
            ]
           ],
           "sequentialminus": [
            [
             0,
             "#0d0887"
            ],
            [
             0.1111111111111111,
             "#46039f"
            ],
            [
             0.2222222222222222,
             "#7201a8"
            ],
            [
             0.3333333333333333,
             "#9c179e"
            ],
            [
             0.4444444444444444,
             "#bd3786"
            ],
            [
             0.5555555555555556,
             "#d8576b"
            ],
            [
             0.6666666666666666,
             "#ed7953"
            ],
            [
             0.7777777777777778,
             "#fb9f3a"
            ],
            [
             0.8888888888888888,
             "#fdca26"
            ],
            [
             1,
             "#f0f921"
            ]
           ]
          },
          "colorway": [
           "#636efa",
           "#EF553B",
           "#00cc96",
           "#ab63fa",
           "#FFA15A",
           "#19d3f3",
           "#FF6692",
           "#B6E880",
           "#FF97FF",
           "#FECB52"
          ],
          "font": {
           "color": "#2a3f5f"
          },
          "geo": {
           "bgcolor": "white",
           "lakecolor": "white",
           "landcolor": "white",
           "showlakes": true,
           "showland": true,
           "subunitcolor": "#C8D4E3"
          },
          "hoverlabel": {
           "align": "left"
          },
          "hovermode": "closest",
          "mapbox": {
           "style": "light"
          },
          "paper_bgcolor": "white",
          "plot_bgcolor": "white",
          "polar": {
           "angularaxis": {
            "gridcolor": "#EBF0F8",
            "linecolor": "#EBF0F8",
            "ticks": ""
           },
           "bgcolor": "white",
           "radialaxis": {
            "gridcolor": "#EBF0F8",
            "linecolor": "#EBF0F8",
            "ticks": ""
           }
          },
          "scene": {
           "xaxis": {
            "backgroundcolor": "white",
            "gridcolor": "#DFE8F3",
            "gridwidth": 2,
            "linecolor": "#EBF0F8",
            "showbackground": true,
            "ticks": "",
            "zerolinecolor": "#EBF0F8"
           },
           "yaxis": {
            "backgroundcolor": "white",
            "gridcolor": "#DFE8F3",
            "gridwidth": 2,
            "linecolor": "#EBF0F8",
            "showbackground": true,
            "ticks": "",
            "zerolinecolor": "#EBF0F8"
           },
           "zaxis": {
            "backgroundcolor": "white",
            "gridcolor": "#DFE8F3",
            "gridwidth": 2,
            "linecolor": "#EBF0F8",
            "showbackground": true,
            "ticks": "",
            "zerolinecolor": "#EBF0F8"
           }
          },
          "shapedefaults": {
           "line": {
            "color": "#2a3f5f"
           }
          },
          "ternary": {
           "aaxis": {
            "gridcolor": "#DFE8F3",
            "linecolor": "#A2B1C6",
            "ticks": ""
           },
           "baxis": {
            "gridcolor": "#DFE8F3",
            "linecolor": "#A2B1C6",
            "ticks": ""
           },
           "bgcolor": "white",
           "caxis": {
            "gridcolor": "#DFE8F3",
            "linecolor": "#A2B1C6",
            "ticks": ""
           }
          },
          "title": {
           "x": 0.05
          },
          "xaxis": {
           "automargin": true,
           "gridcolor": "#EBF0F8",
           "linecolor": "#EBF0F8",
           "ticks": "",
           "title": {
            "standoff": 15
           },
           "zerolinecolor": "#EBF0F8",
           "zerolinewidth": 2
          },
          "yaxis": {
           "automargin": true,
           "gridcolor": "#EBF0F8",
           "linecolor": "#EBF0F8",
           "ticks": "",
           "title": {
            "standoff": 15
           },
           "zerolinecolor": "#EBF0F8",
           "zerolinewidth": 2
          }
         }
        },
        "title": {
         "text": "Confirmed Covid-19 cases in Brazil by Contries"
        },
        "xaxis": {
         "title": {
          "text": "Contries"
         }
        },
        "yaxis": {
         "title": {
          "text": "Confirmed(case)"
         }
        }
       }
      },
      "text/html": [
       "<div>                            <div id=\"60147b37-7ee4-47ab-8928-32bde828e30d\" class=\"plotly-graph-div\" style=\"height:525px; width:100%;\"></div>            <script type=\"text/javascript\">                require([\"plotly\"], function(Plotly) {                    window.PLOTLYENV=window.PLOTLYENV || {};                                    if (document.getElementById(\"60147b37-7ee4-47ab-8928-32bde828e30d\")) {                    Plotly.newPlot(                        \"60147b37-7ee4-47ab-8928-32bde828e30d\",                        [{\"marker\": {\"color\": [\"#7d0633\", \"#821752\", \"#0f3057\", \"#00587a\", \"#008891\", \"#41aea9\", \"#a6f6f1\", \"#ccf6c8\", \"#fafcc2\", \"#f6d6ad\", \"#f9c0c0\"]}, \"text\": [\"confirmed\"], \"textposition\": \"auto\", \"type\": \"bar\", \"x\": [\"Sao Paulo\", \"Bahia\", \"Minas Gerais\", \"Rio de Janeiro\", \"Ceara\", \"Para\", \"Santa Catarina\", \"Goias\", \"Rio Grande do Sul\", \"Distrito Federal\", \"Parana\", \"Maranhao\", \"Pernambuco\", \"Amazonas\", \"Espirito Santo\", \"Mato Grosso\", \"Paraiba\", \"Piaui\", \"Alagoas\", \"Sergipe\", \"Mato Grosso do Sul\", \"Rio Grande do Norte\", \"Tocantins\", \"Rondonia\", \"Roraima\", \"Amapa\", \"Acre\"], \"y\": [1003429, 314711, 305527, 271575, 242669, 233802, 218633, 215938, 202587, 194783, 183715, 175218, 149349, 142137, 133744, 125732, 122681, 98108, 87928, 78002, 71476, 70553, 69398, 66576, 51298, 48602, 28662]}],                        {\"template\": {\"data\": {\"bar\": [{\"error_x\": {\"color\": \"#2a3f5f\"}, \"error_y\": {\"color\": \"#2a3f5f\"}, \"marker\": {\"line\": {\"color\": \"white\", \"width\": 0.5}}, \"type\": \"bar\"}], \"barpolar\": [{\"marker\": {\"line\": {\"color\": \"white\", \"width\": 0.5}}, \"type\": \"barpolar\"}], \"carpet\": [{\"aaxis\": {\"endlinecolor\": \"#2a3f5f\", \"gridcolor\": \"#C8D4E3\", \"linecolor\": \"#C8D4E3\", \"minorgridcolor\": \"#C8D4E3\", \"startlinecolor\": \"#2a3f5f\"}, \"baxis\": {\"endlinecolor\": \"#2a3f5f\", \"gridcolor\": \"#C8D4E3\", \"linecolor\": \"#C8D4E3\", \"minorgridcolor\": \"#C8D4E3\", \"startlinecolor\": \"#2a3f5f\"}, \"type\": \"carpet\"}], \"choropleth\": [{\"colorbar\": {\"outlinewidth\": 0, \"ticks\": \"\"}, \"type\": \"choropleth\"}], \"contour\": [{\"colorbar\": {\"outlinewidth\": 0, \"ticks\": \"\"}, \"colorscale\": [[0.0, \"#0d0887\"], [0.1111111111111111, \"#46039f\"], [0.2222222222222222, \"#7201a8\"], [0.3333333333333333, \"#9c179e\"], [0.4444444444444444, \"#bd3786\"], [0.5555555555555556, \"#d8576b\"], [0.6666666666666666, \"#ed7953\"], [0.7777777777777778, \"#fb9f3a\"], [0.8888888888888888, \"#fdca26\"], [1.0, \"#f0f921\"]], \"type\": \"contour\"}], \"contourcarpet\": [{\"colorbar\": {\"outlinewidth\": 0, \"ticks\": \"\"}, \"type\": \"contourcarpet\"}], \"heatmap\": [{\"colorbar\": {\"outlinewidth\": 0, \"ticks\": \"\"}, \"colorscale\": [[0.0, \"#0d0887\"], [0.1111111111111111, \"#46039f\"], [0.2222222222222222, \"#7201a8\"], [0.3333333333333333, \"#9c179e\"], [0.4444444444444444, \"#bd3786\"], [0.5555555555555556, \"#d8576b\"], [0.6666666666666666, \"#ed7953\"], [0.7777777777777778, \"#fb9f3a\"], [0.8888888888888888, \"#fdca26\"], [1.0, \"#f0f921\"]], \"type\": \"heatmap\"}], \"heatmapgl\": [{\"colorbar\": {\"outlinewidth\": 0, \"ticks\": \"\"}, \"colorscale\": [[0.0, \"#0d0887\"], [0.1111111111111111, \"#46039f\"], [0.2222222222222222, \"#7201a8\"], [0.3333333333333333, \"#9c179e\"], [0.4444444444444444, \"#bd3786\"], [0.5555555555555556, \"#d8576b\"], [0.6666666666666666, \"#ed7953\"], [0.7777777777777778, \"#fb9f3a\"], [0.8888888888888888, \"#fdca26\"], [1.0, \"#f0f921\"]], \"type\": \"heatmapgl\"}], \"histogram\": [{\"marker\": {\"colorbar\": {\"outlinewidth\": 0, \"ticks\": \"\"}}, \"type\": \"histogram\"}], \"histogram2d\": [{\"colorbar\": {\"outlinewidth\": 0, \"ticks\": \"\"}, \"colorscale\": [[0.0, \"#0d0887\"], [0.1111111111111111, \"#46039f\"], [0.2222222222222222, \"#7201a8\"], [0.3333333333333333, \"#9c179e\"], [0.4444444444444444, \"#bd3786\"], [0.5555555555555556, \"#d8576b\"], [0.6666666666666666, \"#ed7953\"], [0.7777777777777778, \"#fb9f3a\"], [0.8888888888888888, \"#fdca26\"], [1.0, \"#f0f921\"]], \"type\": \"histogram2d\"}], \"histogram2dcontour\": [{\"colorbar\": {\"outlinewidth\": 0, \"ticks\": \"\"}, \"colorscale\": [[0.0, \"#0d0887\"], [0.1111111111111111, \"#46039f\"], [0.2222222222222222, \"#7201a8\"], [0.3333333333333333, \"#9c179e\"], [0.4444444444444444, \"#bd3786\"], [0.5555555555555556, \"#d8576b\"], [0.6666666666666666, \"#ed7953\"], [0.7777777777777778, \"#fb9f3a\"], [0.8888888888888888, \"#fdca26\"], [1.0, \"#f0f921\"]], \"type\": \"histogram2dcontour\"}], \"mesh3d\": [{\"colorbar\": {\"outlinewidth\": 0, \"ticks\": \"\"}, \"type\": \"mesh3d\"}], \"parcoords\": [{\"line\": {\"colorbar\": {\"outlinewidth\": 0, \"ticks\": \"\"}}, \"type\": \"parcoords\"}], \"pie\": [{\"automargin\": true, \"type\": \"pie\"}], \"scatter\": [{\"marker\": {\"colorbar\": {\"outlinewidth\": 0, \"ticks\": \"\"}}, \"type\": \"scatter\"}], \"scatter3d\": [{\"line\": {\"colorbar\": {\"outlinewidth\": 0, \"ticks\": \"\"}}, \"marker\": {\"colorbar\": {\"outlinewidth\": 0, \"ticks\": \"\"}}, \"type\": \"scatter3d\"}], \"scattercarpet\": [{\"marker\": {\"colorbar\": {\"outlinewidth\": 0, \"ticks\": \"\"}}, \"type\": \"scattercarpet\"}], \"scattergeo\": [{\"marker\": {\"colorbar\": {\"outlinewidth\": 0, \"ticks\": \"\"}}, \"type\": \"scattergeo\"}], \"scattergl\": [{\"marker\": {\"colorbar\": {\"outlinewidth\": 0, \"ticks\": \"\"}}, \"type\": \"scattergl\"}], \"scattermapbox\": [{\"marker\": {\"colorbar\": {\"outlinewidth\": 0, \"ticks\": \"\"}}, \"type\": \"scattermapbox\"}], \"scatterpolar\": [{\"marker\": {\"colorbar\": {\"outlinewidth\": 0, \"ticks\": \"\"}}, \"type\": \"scatterpolar\"}], \"scatterpolargl\": [{\"marker\": {\"colorbar\": {\"outlinewidth\": 0, \"ticks\": \"\"}}, \"type\": \"scatterpolargl\"}], \"scatterternary\": [{\"marker\": {\"colorbar\": {\"outlinewidth\": 0, \"ticks\": \"\"}}, \"type\": \"scatterternary\"}], \"surface\": [{\"colorbar\": {\"outlinewidth\": 0, \"ticks\": \"\"}, \"colorscale\": [[0.0, \"#0d0887\"], [0.1111111111111111, \"#46039f\"], [0.2222222222222222, \"#7201a8\"], [0.3333333333333333, \"#9c179e\"], [0.4444444444444444, \"#bd3786\"], [0.5555555555555556, \"#d8576b\"], [0.6666666666666666, \"#ed7953\"], [0.7777777777777778, \"#fb9f3a\"], [0.8888888888888888, \"#fdca26\"], [1.0, \"#f0f921\"]], \"type\": \"surface\"}], \"table\": [{\"cells\": {\"fill\": {\"color\": \"#EBF0F8\"}, \"line\": {\"color\": \"white\"}}, \"header\": {\"fill\": {\"color\": \"#C8D4E3\"}, \"line\": {\"color\": \"white\"}}, \"type\": \"table\"}]}, \"layout\": {\"annotationdefaults\": {\"arrowcolor\": \"#2a3f5f\", \"arrowhead\": 0, \"arrowwidth\": 1}, \"coloraxis\": {\"colorbar\": {\"outlinewidth\": 0, \"ticks\": \"\"}}, \"colorscale\": {\"diverging\": [[0, \"#8e0152\"], [0.1, \"#c51b7d\"], [0.2, \"#de77ae\"], [0.3, \"#f1b6da\"], [0.4, \"#fde0ef\"], [0.5, \"#f7f7f7\"], [0.6, \"#e6f5d0\"], [0.7, \"#b8e186\"], [0.8, \"#7fbc41\"], [0.9, \"#4d9221\"], [1, \"#276419\"]], \"sequential\": [[0.0, \"#0d0887\"], [0.1111111111111111, \"#46039f\"], [0.2222222222222222, \"#7201a8\"], [0.3333333333333333, \"#9c179e\"], [0.4444444444444444, \"#bd3786\"], [0.5555555555555556, \"#d8576b\"], [0.6666666666666666, \"#ed7953\"], [0.7777777777777778, \"#fb9f3a\"], [0.8888888888888888, \"#fdca26\"], [1.0, \"#f0f921\"]], \"sequentialminus\": [[0.0, \"#0d0887\"], [0.1111111111111111, \"#46039f\"], [0.2222222222222222, \"#7201a8\"], [0.3333333333333333, \"#9c179e\"], [0.4444444444444444, \"#bd3786\"], [0.5555555555555556, \"#d8576b\"], [0.6666666666666666, \"#ed7953\"], [0.7777777777777778, \"#fb9f3a\"], [0.8888888888888888, \"#fdca26\"], [1.0, \"#f0f921\"]]}, \"colorway\": [\"#636efa\", \"#EF553B\", \"#00cc96\", \"#ab63fa\", \"#FFA15A\", \"#19d3f3\", \"#FF6692\", \"#B6E880\", \"#FF97FF\", \"#FECB52\"], \"font\": {\"color\": \"#2a3f5f\"}, \"geo\": {\"bgcolor\": \"white\", \"lakecolor\": \"white\", \"landcolor\": \"white\", \"showlakes\": true, \"showland\": true, \"subunitcolor\": \"#C8D4E3\"}, \"hoverlabel\": {\"align\": \"left\"}, \"hovermode\": \"closest\", \"mapbox\": {\"style\": \"light\"}, \"paper_bgcolor\": \"white\", \"plot_bgcolor\": \"white\", \"polar\": {\"angularaxis\": {\"gridcolor\": \"#EBF0F8\", \"linecolor\": \"#EBF0F8\", \"ticks\": \"\"}, \"bgcolor\": \"white\", \"radialaxis\": {\"gridcolor\": \"#EBF0F8\", \"linecolor\": \"#EBF0F8\", \"ticks\": \"\"}}, \"scene\": {\"xaxis\": {\"backgroundcolor\": \"white\", \"gridcolor\": \"#DFE8F3\", \"gridwidth\": 2, \"linecolor\": \"#EBF0F8\", \"showbackground\": true, \"ticks\": \"\", \"zerolinecolor\": \"#EBF0F8\"}, \"yaxis\": {\"backgroundcolor\": \"white\", \"gridcolor\": \"#DFE8F3\", \"gridwidth\": 2, \"linecolor\": \"#EBF0F8\", \"showbackground\": true, \"ticks\": \"\", \"zerolinecolor\": \"#EBF0F8\"}, \"zaxis\": {\"backgroundcolor\": \"white\", \"gridcolor\": \"#DFE8F3\", \"gridwidth\": 2, \"linecolor\": \"#EBF0F8\", \"showbackground\": true, \"ticks\": \"\", \"zerolinecolor\": \"#EBF0F8\"}}, \"shapedefaults\": {\"line\": {\"color\": \"#2a3f5f\"}}, \"ternary\": {\"aaxis\": {\"gridcolor\": \"#DFE8F3\", \"linecolor\": \"#A2B1C6\", \"ticks\": \"\"}, \"baxis\": {\"gridcolor\": \"#DFE8F3\", \"linecolor\": \"#A2B1C6\", \"ticks\": \"\"}, \"bgcolor\": \"white\", \"caxis\": {\"gridcolor\": \"#DFE8F3\", \"linecolor\": \"#A2B1C6\", \"ticks\": \"\"}}, \"title\": {\"x\": 0.05}, \"xaxis\": {\"automargin\": true, \"gridcolor\": \"#EBF0F8\", \"linecolor\": \"#EBF0F8\", \"ticks\": \"\", \"title\": {\"standoff\": 15}, \"zerolinecolor\": \"#EBF0F8\", \"zerolinewidth\": 2}, \"yaxis\": {\"automargin\": true, \"gridcolor\": \"#EBF0F8\", \"linecolor\": \"#EBF0F8\", \"ticks\": \"\", \"title\": {\"standoff\": 15}, \"zerolinecolor\": \"#EBF0F8\", \"zerolinewidth\": 2}}}, \"title\": {\"text\": \"Confirmed Covid-19 cases in Brazil by Contries\"}, \"xaxis\": {\"title\": {\"text\": \"Contries\"}}, \"yaxis\": {\"title\": {\"text\": \"Confirmed(case)\"}}},                        {\"responsive\": true}                    ).then(function(){\n",
       "                            \n",
       "var gd = document.getElementById('60147b37-7ee4-47ab-8928-32bde828e30d');\n",
       "var x = new MutationObserver(function (mutations, observer) {{\n",
       "        var display = window.getComputedStyle(gd).display;\n",
       "        if (!display || display === 'none') {{\n",
       "            console.log([gd, 'removed!']);\n",
       "            Plotly.purge(gd);\n",
       "            observer.disconnect();\n",
       "        }}\n",
       "}});\n",
       "\n",
       "// Listen for the removal of the full notebook cells\n",
       "var notebookContainer = gd.closest('#notebook-container');\n",
       "if (notebookContainer) {{\n",
       "    x.observe(notebookContainer, {childList: true});\n",
       "}}\n",
       "\n",
       "// Listen for the clearing of the current output cell\n",
       "var outputEl = gd.closest('.output');\n",
       "if (outputEl) {{\n",
       "    x.observe(outputEl, {childList: true});\n",
       "}}\n",
       "\n",
       "                        })                };                });            </script>        </div>"
      ]
     },
     "metadata": {},
     "output_type": "display_data"
    }
   ],
   "source": [
    "#สร้างกราฟแสดงยอดผู้ติดเชื้อในแต่ละเมืองของบราซิล\n",
    "#ซึ่งทำการโฟกัส10อันดับแรกด้วยการใส่สี \n",
    "\n",
    "fig = go.Figure(data=[go.Bar(\n",
    "            x=Data_BZ_state['province'], y=Data_BZ_state['confirmed'],\n",
    "            text=['confirmed'],\n",
    "            textposition='auto',\n",
    "            marker_color=['#7d0633','#821752','#0f3057','#00587a','#008891','#41aea9','#a6f6f1','#ccf6c8','#fafcc2','#f6d6ad','#f9c0c0'],\n",
    "\n",
    "        )])\n",
    "fig.update_layout(\n",
    "    title='Confirmed Covid-19 cases in Brazil by Contries',\n",
    "    xaxis_title=\"Contries\",\n",
    "    yaxis_title=\"Confirmed(case)\",\n",
    "    template='plotly_white'\n",
    ")\n",
    "fig.show()\n"
   ]
  },
  {
   "cell_type": "markdown",
   "metadata": {},
   "source": [
    "## สรุปผล\n",
    "                จาก bar chart พบว่า เมืองที่มียอดผู้ติดเชื้อสะสมมากที่สุดคือ \n",
    "        1. Sao Paulo ยอดผู้ติดเชื้อสะสม 991,725 คน \n",
    "        2. Bahia ยอดผู้ติดเชื้อสะสม 298,607 คน \n",
    "        3. Minas Gerais ยอดผู้ติดเชื้อสะสม 298,607 คน \n",
    "        4. Rio de Janeiro ยอดผู้ติดเชื้อสะสม 266,235 คน \n",
    "        5. Ceara ยอดผู้ติดเชื้อสะสม 241,684 คน \n",
    "          \n",
    "          \n",
    "              โดยวิสัยทัศน์ของประธาณาธิบดีของประเทศบราซิลนั้นไม่ได้ให้ความสำคัญกับ covid-19 แต่ให้ความสำคัญกับเศรษฐกิจที่กำลังชะลอตัวซึ่งเป็นผลกระทบจาก \n",
    "          covid-19 มากกว่าจึงทำให้ไม่ได้สนับสนุนการตรวจเชื้อและไม่ได้ปฏิบัติตามคำแนะนำขององค์กรอนามัยโลก(WHO) จึงส่งผลต่อจำนวนผู้ติดเชื้อ covid-19 \n",
    "          ในบราซิล\n",
    "    "
   ]
  },
  {
   "cell_type": "markdown",
   "metadata": {},
   "source": [
    "## Covid-19 in Thailand\n",
    "        เนื่องจากประเทศไทยไม่ได้มีมาตรการปูพรมตรวจเชื้อcovid-19ย่อมส่งผลต่อตัวเลขผู้ติดเชื้อสะสมที่ดูไม่มากนัก แต่ประเทศไทยยังคุมเข้มเรื่องมาตรการล็อคดาวน์และมีการประกาศใช้ พรบ.ฉุกเฉิน "
   ]
  },
  {
   "cell_type": "code",
   "execution_count": 32,
   "metadata": {
    "colab": {
     "base_uri": "https://localhost:8080/",
     "height": 77
    },
    "id": "kUh93hRu-aQr",
    "outputId": "81454fda-e4d6-4a76-8dc5-e29a9bc71f24"
   },
   "outputs": [
    {
     "data": {
      "text/html": [
       "<div>\n",
       "<style scoped>\n",
       "    .dataframe tbody tr th:only-of-type {\n",
       "        vertical-align: middle;\n",
       "    }\n",
       "\n",
       "    .dataframe tbody tr th {\n",
       "        vertical-align: top;\n",
       "    }\n",
       "\n",
       "    .dataframe thead th {\n",
       "        text-align: right;\n",
       "    }\n",
       "</style>\n",
       "<table border=\"1\" class=\"dataframe\">\n",
       "  <thead>\n",
       "    <tr style=\"text-align: right;\">\n",
       "      <th></th>\n",
       "      <th>city</th>\n",
       "      <th>province</th>\n",
       "      <th>country</th>\n",
       "      <th>lastUpdate</th>\n",
       "      <th>keyId</th>\n",
       "      <th>confirmed</th>\n",
       "      <th>deaths</th>\n",
       "      <th>recovered</th>\n",
       "      <th>Active</th>\n",
       "    </tr>\n",
       "  </thead>\n",
       "  <tbody>\n",
       "    <tr>\n",
       "      <th>0</th>\n",
       "      <td>Unknown</td>\n",
       "      <td>Unknown</td>\n",
       "      <td>Thailand</td>\n",
       "      <td>2020-10-04T04:23:44+00:00</td>\n",
       "      <td>Thailand</td>\n",
       "      <td>3585</td>\n",
       "      <td>59</td>\n",
       "      <td>3388.0</td>\n",
       "      <td>138.0</td>\n",
       "    </tr>\n",
       "  </tbody>\n",
       "</table>\n",
       "</div>"
      ],
      "text/plain": [
       "      city province   country                 lastUpdate     keyId  confirmed  \\\n",
       "0  Unknown  Unknown  Thailand  2020-10-04T04:23:44+00:00  Thailand       3585   \n",
       "\n",
       "   deaths  recovered  Active  \n",
       "0      59     3388.0   138.0  "
      ]
     },
     "execution_count": 32,
     "metadata": {},
     "output_type": "execute_result"
    }
   ],
   "source": [
    "#สัดส่วนผู้ติดเชื้อ-ผู้ที่ได้รับการรักษาแล้วหาย -ผู้เสียชีวิต\n",
    "Data_TH = df[(df['country'] == 'Thailand') ].reset_index(drop=True)\n",
    "Data_TH"
   ]
  },
  {
   "cell_type": "code",
   "execution_count": 33,
   "metadata": {
    "colab": {
     "base_uri": "https://localhost:8080/",
     "height": 144
    },
    "id": "kHtZ60hxP03W",
    "outputId": "b8470621-7d51-4caf-8581-861ad1407a76"
   },
   "outputs": [
    {
     "data": {
      "text/html": [
       "<div>\n",
       "<style scoped>\n",
       "    .dataframe tbody tr th:only-of-type {\n",
       "        vertical-align: middle;\n",
       "    }\n",
       "\n",
       "    .dataframe tbody tr th {\n",
       "        vertical-align: top;\n",
       "    }\n",
       "\n",
       "    .dataframe thead th {\n",
       "        text-align: right;\n",
       "    }\n",
       "</style>\n",
       "<table border=\"1\" class=\"dataframe\">\n",
       "  <thead>\n",
       "    <tr style=\"text-align: right;\">\n",
       "      <th></th>\n",
       "      <th>city</th>\n",
       "      <th>confirmed</th>\n",
       "      <th>deaths</th>\n",
       "      <th>recovered</th>\n",
       "      <th>Active</th>\n",
       "    </tr>\n",
       "  </thead>\n",
       "  <tbody>\n",
       "    <tr>\n",
       "      <th>0</th>\n",
       "      <td>Unknown</td>\n",
       "      <td>3585</td>\n",
       "      <td>59</td>\n",
       "      <td>3388.0</td>\n",
       "      <td>138.0</td>\n",
       "    </tr>\n",
       "  </tbody>\n",
       "</table>\n",
       "</div>"
      ],
      "text/plain": [
       "      city  confirmed  deaths  recovered  Active\n",
       "0  Unknown       3585      59     3388.0   138.0"
      ]
     },
     "execution_count": 33,
     "metadata": {},
     "output_type": "execute_result"
    }
   ],
   "source": [
    "#ดึงข้อมูลที่ต้องการคือ confirmed , deaths , recovered , Active มาเพื่อแสดงตัวเลข \n",
    "Data_TH = Data_TH[Data_TH['lastUpdate'] == max(Data_TH['lastUpdate'])].reset_index()\n",
    "Data_TH2= Data_TH.groupby([\"city\"])[\"confirmed\",\"deaths\",\"recovered\",\"Active\"].sum().reset_index().reset_index(drop=True)\n",
    "Data_TH2"
   ]
  },
  {
   "cell_type": "code",
   "execution_count": 73,
   "metadata": {
    "colab": {
     "base_uri": "https://localhost:8080/",
     "height": 542
    },
    "id": "P1AspZW_QYbr",
    "outputId": "f963fc4a-703c-4652-a21b-8c34ad932695"
   },
   "outputs": [
    {
     "data": {
      "application/vnd.plotly.v1+json": {
       "config": {
        "plotlyServerURL": "https://plot.ly"
       },
       "data": [
        {
         "domain": {
          "x": [
           0,
           1
          ],
          "y": [
           0,
           1
          ]
         },
         "hole": 0.5,
         "hovertemplate": "label=%{label}<br>value=%{value}<extra></extra>",
         "labels": [
          "Active ",
          "recovered",
          "deaths"
         ],
         "legendgroup": "",
         "name": "",
         "showlegend": true,
         "type": "pie",
         "values": [
          138,
          3388,
          59
         ]
        }
       ],
       "layout": {
        "legend": {
         "tracegroupgap": 0
        },
        "margin": {
         "t": 60
        },
        "piecolorway": [
         "#679b9b",
         "#6a2c70",
         "#821752"
        ],
        "template": {
         "data": {
          "bar": [
           {
            "error_x": {
             "color": "#2a3f5f"
            },
            "error_y": {
             "color": "#2a3f5f"
            },
            "marker": {
             "line": {
              "color": "#E5ECF6",
              "width": 0.5
             }
            },
            "type": "bar"
           }
          ],
          "barpolar": [
           {
            "marker": {
             "line": {
              "color": "#E5ECF6",
              "width": 0.5
             }
            },
            "type": "barpolar"
           }
          ],
          "carpet": [
           {
            "aaxis": {
             "endlinecolor": "#2a3f5f",
             "gridcolor": "white",
             "linecolor": "white",
             "minorgridcolor": "white",
             "startlinecolor": "#2a3f5f"
            },
            "baxis": {
             "endlinecolor": "#2a3f5f",
             "gridcolor": "white",
             "linecolor": "white",
             "minorgridcolor": "white",
             "startlinecolor": "#2a3f5f"
            },
            "type": "carpet"
           }
          ],
          "choropleth": [
           {
            "colorbar": {
             "outlinewidth": 0,
             "ticks": ""
            },
            "type": "choropleth"
           }
          ],
          "contour": [
           {
            "colorbar": {
             "outlinewidth": 0,
             "ticks": ""
            },
            "colorscale": [
             [
              0,
              "#0d0887"
             ],
             [
              0.1111111111111111,
              "#46039f"
             ],
             [
              0.2222222222222222,
              "#7201a8"
             ],
             [
              0.3333333333333333,
              "#9c179e"
             ],
             [
              0.4444444444444444,
              "#bd3786"
             ],
             [
              0.5555555555555556,
              "#d8576b"
             ],
             [
              0.6666666666666666,
              "#ed7953"
             ],
             [
              0.7777777777777778,
              "#fb9f3a"
             ],
             [
              0.8888888888888888,
              "#fdca26"
             ],
             [
              1,
              "#f0f921"
             ]
            ],
            "type": "contour"
           }
          ],
          "contourcarpet": [
           {
            "colorbar": {
             "outlinewidth": 0,
             "ticks": ""
            },
            "type": "contourcarpet"
           }
          ],
          "heatmap": [
           {
            "colorbar": {
             "outlinewidth": 0,
             "ticks": ""
            },
            "colorscale": [
             [
              0,
              "#0d0887"
             ],
             [
              0.1111111111111111,
              "#46039f"
             ],
             [
              0.2222222222222222,
              "#7201a8"
             ],
             [
              0.3333333333333333,
              "#9c179e"
             ],
             [
              0.4444444444444444,
              "#bd3786"
             ],
             [
              0.5555555555555556,
              "#d8576b"
             ],
             [
              0.6666666666666666,
              "#ed7953"
             ],
             [
              0.7777777777777778,
              "#fb9f3a"
             ],
             [
              0.8888888888888888,
              "#fdca26"
             ],
             [
              1,
              "#f0f921"
             ]
            ],
            "type": "heatmap"
           }
          ],
          "heatmapgl": [
           {
            "colorbar": {
             "outlinewidth": 0,
             "ticks": ""
            },
            "colorscale": [
             [
              0,
              "#0d0887"
             ],
             [
              0.1111111111111111,
              "#46039f"
             ],
             [
              0.2222222222222222,
              "#7201a8"
             ],
             [
              0.3333333333333333,
              "#9c179e"
             ],
             [
              0.4444444444444444,
              "#bd3786"
             ],
             [
              0.5555555555555556,
              "#d8576b"
             ],
             [
              0.6666666666666666,
              "#ed7953"
             ],
             [
              0.7777777777777778,
              "#fb9f3a"
             ],
             [
              0.8888888888888888,
              "#fdca26"
             ],
             [
              1,
              "#f0f921"
             ]
            ],
            "type": "heatmapgl"
           }
          ],
          "histogram": [
           {
            "marker": {
             "colorbar": {
              "outlinewidth": 0,
              "ticks": ""
             }
            },
            "type": "histogram"
           }
          ],
          "histogram2d": [
           {
            "colorbar": {
             "outlinewidth": 0,
             "ticks": ""
            },
            "colorscale": [
             [
              0,
              "#0d0887"
             ],
             [
              0.1111111111111111,
              "#46039f"
             ],
             [
              0.2222222222222222,
              "#7201a8"
             ],
             [
              0.3333333333333333,
              "#9c179e"
             ],
             [
              0.4444444444444444,
              "#bd3786"
             ],
             [
              0.5555555555555556,
              "#d8576b"
             ],
             [
              0.6666666666666666,
              "#ed7953"
             ],
             [
              0.7777777777777778,
              "#fb9f3a"
             ],
             [
              0.8888888888888888,
              "#fdca26"
             ],
             [
              1,
              "#f0f921"
             ]
            ],
            "type": "histogram2d"
           }
          ],
          "histogram2dcontour": [
           {
            "colorbar": {
             "outlinewidth": 0,
             "ticks": ""
            },
            "colorscale": [
             [
              0,
              "#0d0887"
             ],
             [
              0.1111111111111111,
              "#46039f"
             ],
             [
              0.2222222222222222,
              "#7201a8"
             ],
             [
              0.3333333333333333,
              "#9c179e"
             ],
             [
              0.4444444444444444,
              "#bd3786"
             ],
             [
              0.5555555555555556,
              "#d8576b"
             ],
             [
              0.6666666666666666,
              "#ed7953"
             ],
             [
              0.7777777777777778,
              "#fb9f3a"
             ],
             [
              0.8888888888888888,
              "#fdca26"
             ],
             [
              1,
              "#f0f921"
             ]
            ],
            "type": "histogram2dcontour"
           }
          ],
          "mesh3d": [
           {
            "colorbar": {
             "outlinewidth": 0,
             "ticks": ""
            },
            "type": "mesh3d"
           }
          ],
          "parcoords": [
           {
            "line": {
             "colorbar": {
              "outlinewidth": 0,
              "ticks": ""
             }
            },
            "type": "parcoords"
           }
          ],
          "pie": [
           {
            "automargin": true,
            "type": "pie"
           }
          ],
          "scatter": [
           {
            "marker": {
             "colorbar": {
              "outlinewidth": 0,
              "ticks": ""
             }
            },
            "type": "scatter"
           }
          ],
          "scatter3d": [
           {
            "line": {
             "colorbar": {
              "outlinewidth": 0,
              "ticks": ""
             }
            },
            "marker": {
             "colorbar": {
              "outlinewidth": 0,
              "ticks": ""
             }
            },
            "type": "scatter3d"
           }
          ],
          "scattercarpet": [
           {
            "marker": {
             "colorbar": {
              "outlinewidth": 0,
              "ticks": ""
             }
            },
            "type": "scattercarpet"
           }
          ],
          "scattergeo": [
           {
            "marker": {
             "colorbar": {
              "outlinewidth": 0,
              "ticks": ""
             }
            },
            "type": "scattergeo"
           }
          ],
          "scattergl": [
           {
            "marker": {
             "colorbar": {
              "outlinewidth": 0,
              "ticks": ""
             }
            },
            "type": "scattergl"
           }
          ],
          "scattermapbox": [
           {
            "marker": {
             "colorbar": {
              "outlinewidth": 0,
              "ticks": ""
             }
            },
            "type": "scattermapbox"
           }
          ],
          "scatterpolar": [
           {
            "marker": {
             "colorbar": {
              "outlinewidth": 0,
              "ticks": ""
             }
            },
            "type": "scatterpolar"
           }
          ],
          "scatterpolargl": [
           {
            "marker": {
             "colorbar": {
              "outlinewidth": 0,
              "ticks": ""
             }
            },
            "type": "scatterpolargl"
           }
          ],
          "scatterternary": [
           {
            "marker": {
             "colorbar": {
              "outlinewidth": 0,
              "ticks": ""
             }
            },
            "type": "scatterternary"
           }
          ],
          "surface": [
           {
            "colorbar": {
             "outlinewidth": 0,
             "ticks": ""
            },
            "colorscale": [
             [
              0,
              "#0d0887"
             ],
             [
              0.1111111111111111,
              "#46039f"
             ],
             [
              0.2222222222222222,
              "#7201a8"
             ],
             [
              0.3333333333333333,
              "#9c179e"
             ],
             [
              0.4444444444444444,
              "#bd3786"
             ],
             [
              0.5555555555555556,
              "#d8576b"
             ],
             [
              0.6666666666666666,
              "#ed7953"
             ],
             [
              0.7777777777777778,
              "#fb9f3a"
             ],
             [
              0.8888888888888888,
              "#fdca26"
             ],
             [
              1,
              "#f0f921"
             ]
            ],
            "type": "surface"
           }
          ],
          "table": [
           {
            "cells": {
             "fill": {
              "color": "#EBF0F8"
             },
             "line": {
              "color": "white"
             }
            },
            "header": {
             "fill": {
              "color": "#C8D4E3"
             },
             "line": {
              "color": "white"
             }
            },
            "type": "table"
           }
          ]
         },
         "layout": {
          "annotationdefaults": {
           "arrowcolor": "#2a3f5f",
           "arrowhead": 0,
           "arrowwidth": 1
          },
          "coloraxis": {
           "colorbar": {
            "outlinewidth": 0,
            "ticks": ""
           }
          },
          "colorscale": {
           "diverging": [
            [
             0,
             "#8e0152"
            ],
            [
             0.1,
             "#c51b7d"
            ],
            [
             0.2,
             "#de77ae"
            ],
            [
             0.3,
             "#f1b6da"
            ],
            [
             0.4,
             "#fde0ef"
            ],
            [
             0.5,
             "#f7f7f7"
            ],
            [
             0.6,
             "#e6f5d0"
            ],
            [
             0.7,
             "#b8e186"
            ],
            [
             0.8,
             "#7fbc41"
            ],
            [
             0.9,
             "#4d9221"
            ],
            [
             1,
             "#276419"
            ]
           ],
           "sequential": [
            [
             0,
             "#0d0887"
            ],
            [
             0.1111111111111111,
             "#46039f"
            ],
            [
             0.2222222222222222,
             "#7201a8"
            ],
            [
             0.3333333333333333,
             "#9c179e"
            ],
            [
             0.4444444444444444,
             "#bd3786"
            ],
            [
             0.5555555555555556,
             "#d8576b"
            ],
            [
             0.6666666666666666,
             "#ed7953"
            ],
            [
             0.7777777777777778,
             "#fb9f3a"
            ],
            [
             0.8888888888888888,
             "#fdca26"
            ],
            [
             1,
             "#f0f921"
            ]
           ],
           "sequentialminus": [
            [
             0,
             "#0d0887"
            ],
            [
             0.1111111111111111,
             "#46039f"
            ],
            [
             0.2222222222222222,
             "#7201a8"
            ],
            [
             0.3333333333333333,
             "#9c179e"
            ],
            [
             0.4444444444444444,
             "#bd3786"
            ],
            [
             0.5555555555555556,
             "#d8576b"
            ],
            [
             0.6666666666666666,
             "#ed7953"
            ],
            [
             0.7777777777777778,
             "#fb9f3a"
            ],
            [
             0.8888888888888888,
             "#fdca26"
            ],
            [
             1,
             "#f0f921"
            ]
           ]
          },
          "colorway": [
           "#636efa",
           "#EF553B",
           "#00cc96",
           "#ab63fa",
           "#FFA15A",
           "#19d3f3",
           "#FF6692",
           "#B6E880",
           "#FF97FF",
           "#FECB52"
          ],
          "font": {
           "color": "#2a3f5f"
          },
          "geo": {
           "bgcolor": "white",
           "lakecolor": "white",
           "landcolor": "#E5ECF6",
           "showlakes": true,
           "showland": true,
           "subunitcolor": "white"
          },
          "hoverlabel": {
           "align": "left"
          },
          "hovermode": "closest",
          "mapbox": {
           "style": "light"
          },
          "paper_bgcolor": "white",
          "plot_bgcolor": "#E5ECF6",
          "polar": {
           "angularaxis": {
            "gridcolor": "white",
            "linecolor": "white",
            "ticks": ""
           },
           "bgcolor": "#E5ECF6",
           "radialaxis": {
            "gridcolor": "white",
            "linecolor": "white",
            "ticks": ""
           }
          },
          "scene": {
           "xaxis": {
            "backgroundcolor": "#E5ECF6",
            "gridcolor": "white",
            "gridwidth": 2,
            "linecolor": "white",
            "showbackground": true,
            "ticks": "",
            "zerolinecolor": "white"
           },
           "yaxis": {
            "backgroundcolor": "#E5ECF6",
            "gridcolor": "white",
            "gridwidth": 2,
            "linecolor": "white",
            "showbackground": true,
            "ticks": "",
            "zerolinecolor": "white"
           },
           "zaxis": {
            "backgroundcolor": "#E5ECF6",
            "gridcolor": "white",
            "gridwidth": 2,
            "linecolor": "white",
            "showbackground": true,
            "ticks": "",
            "zerolinecolor": "white"
           }
          },
          "shapedefaults": {
           "line": {
            "color": "#2a3f5f"
           }
          },
          "ternary": {
           "aaxis": {
            "gridcolor": "white",
            "linecolor": "white",
            "ticks": ""
           },
           "baxis": {
            "gridcolor": "white",
            "linecolor": "white",
            "ticks": ""
           },
           "bgcolor": "#E5ECF6",
           "caxis": {
            "gridcolor": "white",
            "linecolor": "white",
            "ticks": ""
           }
          },
          "title": {
           "x": 0.05
          },
          "xaxis": {
           "automargin": true,
           "gridcolor": "white",
           "linecolor": "white",
           "ticks": "",
           "title": {
            "standoff": 15
           },
           "zerolinecolor": "white",
           "zerolinewidth": 2
          },
          "yaxis": {
           "automargin": true,
           "gridcolor": "white",
           "linecolor": "white",
           "ticks": "",
           "title": {
            "standoff": 15
           },
           "zerolinecolor": "white",
           "zerolinewidth": 2
          }
         }
        },
        "title": {
         "text": "Covid-19 cases in Thailand : 3585"
        }
       }
      },
      "text/html": [
       "<div>                            <div id=\"79a97255-1207-4173-ba59-17860220e236\" class=\"plotly-graph-div\" style=\"height:525px; width:100%;\"></div>            <script type=\"text/javascript\">                require([\"plotly\"], function(Plotly) {                    window.PLOTLYENV=window.PLOTLYENV || {};                                    if (document.getElementById(\"79a97255-1207-4173-ba59-17860220e236\")) {                    Plotly.newPlot(                        \"79a97255-1207-4173-ba59-17860220e236\",                        [{\"domain\": {\"x\": [0.0, 1.0], \"y\": [0.0, 1.0]}, \"hole\": 0.5, \"hovertemplate\": \"label=%{label}<br>value=%{value}<extra></extra>\", \"labels\": [\"Active \", \"recovered\", \"deaths\"], \"legendgroup\": \"\", \"name\": \"\", \"showlegend\": true, \"type\": \"pie\", \"values\": [138.0, 3388.0, 59]}],                        {\"legend\": {\"tracegroupgap\": 0}, \"margin\": {\"t\": 60}, \"piecolorway\": [\"#679b9b\", \"#6a2c70\", \"#821752\"], \"template\": {\"data\": {\"bar\": [{\"error_x\": {\"color\": \"#2a3f5f\"}, \"error_y\": {\"color\": \"#2a3f5f\"}, \"marker\": {\"line\": {\"color\": \"#E5ECF6\", \"width\": 0.5}}, \"type\": \"bar\"}], \"barpolar\": [{\"marker\": {\"line\": {\"color\": \"#E5ECF6\", \"width\": 0.5}}, \"type\": \"barpolar\"}], \"carpet\": [{\"aaxis\": {\"endlinecolor\": \"#2a3f5f\", \"gridcolor\": \"white\", \"linecolor\": \"white\", \"minorgridcolor\": \"white\", \"startlinecolor\": \"#2a3f5f\"}, \"baxis\": {\"endlinecolor\": \"#2a3f5f\", \"gridcolor\": \"white\", \"linecolor\": \"white\", \"minorgridcolor\": \"white\", \"startlinecolor\": \"#2a3f5f\"}, \"type\": \"carpet\"}], \"choropleth\": [{\"colorbar\": {\"outlinewidth\": 0, \"ticks\": \"\"}, \"type\": \"choropleth\"}], \"contour\": [{\"colorbar\": {\"outlinewidth\": 0, \"ticks\": \"\"}, \"colorscale\": [[0.0, \"#0d0887\"], [0.1111111111111111, \"#46039f\"], [0.2222222222222222, \"#7201a8\"], [0.3333333333333333, \"#9c179e\"], [0.4444444444444444, \"#bd3786\"], [0.5555555555555556, \"#d8576b\"], [0.6666666666666666, \"#ed7953\"], [0.7777777777777778, \"#fb9f3a\"], [0.8888888888888888, \"#fdca26\"], [1.0, \"#f0f921\"]], \"type\": \"contour\"}], \"contourcarpet\": [{\"colorbar\": {\"outlinewidth\": 0, \"ticks\": \"\"}, \"type\": \"contourcarpet\"}], \"heatmap\": [{\"colorbar\": {\"outlinewidth\": 0, \"ticks\": \"\"}, \"colorscale\": [[0.0, \"#0d0887\"], [0.1111111111111111, \"#46039f\"], [0.2222222222222222, \"#7201a8\"], [0.3333333333333333, \"#9c179e\"], [0.4444444444444444, \"#bd3786\"], [0.5555555555555556, \"#d8576b\"], [0.6666666666666666, \"#ed7953\"], [0.7777777777777778, \"#fb9f3a\"], [0.8888888888888888, \"#fdca26\"], [1.0, \"#f0f921\"]], \"type\": \"heatmap\"}], \"heatmapgl\": [{\"colorbar\": {\"outlinewidth\": 0, \"ticks\": \"\"}, \"colorscale\": [[0.0, \"#0d0887\"], [0.1111111111111111, \"#46039f\"], [0.2222222222222222, \"#7201a8\"], [0.3333333333333333, \"#9c179e\"], [0.4444444444444444, \"#bd3786\"], [0.5555555555555556, \"#d8576b\"], [0.6666666666666666, \"#ed7953\"], [0.7777777777777778, \"#fb9f3a\"], [0.8888888888888888, \"#fdca26\"], [1.0, \"#f0f921\"]], \"type\": \"heatmapgl\"}], \"histogram\": [{\"marker\": {\"colorbar\": {\"outlinewidth\": 0, \"ticks\": \"\"}}, \"type\": \"histogram\"}], \"histogram2d\": [{\"colorbar\": {\"outlinewidth\": 0, \"ticks\": \"\"}, \"colorscale\": [[0.0, \"#0d0887\"], [0.1111111111111111, \"#46039f\"], [0.2222222222222222, \"#7201a8\"], [0.3333333333333333, \"#9c179e\"], [0.4444444444444444, \"#bd3786\"], [0.5555555555555556, \"#d8576b\"], [0.6666666666666666, \"#ed7953\"], [0.7777777777777778, \"#fb9f3a\"], [0.8888888888888888, \"#fdca26\"], [1.0, \"#f0f921\"]], \"type\": \"histogram2d\"}], \"histogram2dcontour\": [{\"colorbar\": {\"outlinewidth\": 0, \"ticks\": \"\"}, \"colorscale\": [[0.0, \"#0d0887\"], [0.1111111111111111, \"#46039f\"], [0.2222222222222222, \"#7201a8\"], [0.3333333333333333, \"#9c179e\"], [0.4444444444444444, \"#bd3786\"], [0.5555555555555556, \"#d8576b\"], [0.6666666666666666, \"#ed7953\"], [0.7777777777777778, \"#fb9f3a\"], [0.8888888888888888, \"#fdca26\"], [1.0, \"#f0f921\"]], \"type\": \"histogram2dcontour\"}], \"mesh3d\": [{\"colorbar\": {\"outlinewidth\": 0, \"ticks\": \"\"}, \"type\": \"mesh3d\"}], \"parcoords\": [{\"line\": {\"colorbar\": {\"outlinewidth\": 0, \"ticks\": \"\"}}, \"type\": \"parcoords\"}], \"pie\": [{\"automargin\": true, \"type\": \"pie\"}], \"scatter\": [{\"marker\": {\"colorbar\": {\"outlinewidth\": 0, \"ticks\": \"\"}}, \"type\": \"scatter\"}], \"scatter3d\": [{\"line\": {\"colorbar\": {\"outlinewidth\": 0, \"ticks\": \"\"}}, \"marker\": {\"colorbar\": {\"outlinewidth\": 0, \"ticks\": \"\"}}, \"type\": \"scatter3d\"}], \"scattercarpet\": [{\"marker\": {\"colorbar\": {\"outlinewidth\": 0, \"ticks\": \"\"}}, \"type\": \"scattercarpet\"}], \"scattergeo\": [{\"marker\": {\"colorbar\": {\"outlinewidth\": 0, \"ticks\": \"\"}}, \"type\": \"scattergeo\"}], \"scattergl\": [{\"marker\": {\"colorbar\": {\"outlinewidth\": 0, \"ticks\": \"\"}}, \"type\": \"scattergl\"}], \"scattermapbox\": [{\"marker\": {\"colorbar\": {\"outlinewidth\": 0, \"ticks\": \"\"}}, \"type\": \"scattermapbox\"}], \"scatterpolar\": [{\"marker\": {\"colorbar\": {\"outlinewidth\": 0, \"ticks\": \"\"}}, \"type\": \"scatterpolar\"}], \"scatterpolargl\": [{\"marker\": {\"colorbar\": {\"outlinewidth\": 0, \"ticks\": \"\"}}, \"type\": \"scatterpolargl\"}], \"scatterternary\": [{\"marker\": {\"colorbar\": {\"outlinewidth\": 0, \"ticks\": \"\"}}, \"type\": \"scatterternary\"}], \"surface\": [{\"colorbar\": {\"outlinewidth\": 0, \"ticks\": \"\"}, \"colorscale\": [[0.0, \"#0d0887\"], [0.1111111111111111, \"#46039f\"], [0.2222222222222222, \"#7201a8\"], [0.3333333333333333, \"#9c179e\"], [0.4444444444444444, \"#bd3786\"], [0.5555555555555556, \"#d8576b\"], [0.6666666666666666, \"#ed7953\"], [0.7777777777777778, \"#fb9f3a\"], [0.8888888888888888, \"#fdca26\"], [1.0, \"#f0f921\"]], \"type\": \"surface\"}], \"table\": [{\"cells\": {\"fill\": {\"color\": \"#EBF0F8\"}, \"line\": {\"color\": \"white\"}}, \"header\": {\"fill\": {\"color\": \"#C8D4E3\"}, \"line\": {\"color\": \"white\"}}, \"type\": \"table\"}]}, \"layout\": {\"annotationdefaults\": {\"arrowcolor\": \"#2a3f5f\", \"arrowhead\": 0, \"arrowwidth\": 1}, \"coloraxis\": {\"colorbar\": {\"outlinewidth\": 0, \"ticks\": \"\"}}, \"colorscale\": {\"diverging\": [[0, \"#8e0152\"], [0.1, \"#c51b7d\"], [0.2, \"#de77ae\"], [0.3, \"#f1b6da\"], [0.4, \"#fde0ef\"], [0.5, \"#f7f7f7\"], [0.6, \"#e6f5d0\"], [0.7, \"#b8e186\"], [0.8, \"#7fbc41\"], [0.9, \"#4d9221\"], [1, \"#276419\"]], \"sequential\": [[0.0, \"#0d0887\"], [0.1111111111111111, \"#46039f\"], [0.2222222222222222, \"#7201a8\"], [0.3333333333333333, \"#9c179e\"], [0.4444444444444444, \"#bd3786\"], [0.5555555555555556, \"#d8576b\"], [0.6666666666666666, \"#ed7953\"], [0.7777777777777778, \"#fb9f3a\"], [0.8888888888888888, \"#fdca26\"], [1.0, \"#f0f921\"]], \"sequentialminus\": [[0.0, \"#0d0887\"], [0.1111111111111111, \"#46039f\"], [0.2222222222222222, \"#7201a8\"], [0.3333333333333333, \"#9c179e\"], [0.4444444444444444, \"#bd3786\"], [0.5555555555555556, \"#d8576b\"], [0.6666666666666666, \"#ed7953\"], [0.7777777777777778, \"#fb9f3a\"], [0.8888888888888888, \"#fdca26\"], [1.0, \"#f0f921\"]]}, \"colorway\": [\"#636efa\", \"#EF553B\", \"#00cc96\", \"#ab63fa\", \"#FFA15A\", \"#19d3f3\", \"#FF6692\", \"#B6E880\", \"#FF97FF\", \"#FECB52\"], \"font\": {\"color\": \"#2a3f5f\"}, \"geo\": {\"bgcolor\": \"white\", \"lakecolor\": \"white\", \"landcolor\": \"#E5ECF6\", \"showlakes\": true, \"showland\": true, \"subunitcolor\": \"white\"}, \"hoverlabel\": {\"align\": \"left\"}, \"hovermode\": \"closest\", \"mapbox\": {\"style\": \"light\"}, \"paper_bgcolor\": \"white\", \"plot_bgcolor\": \"#E5ECF6\", \"polar\": {\"angularaxis\": {\"gridcolor\": \"white\", \"linecolor\": \"white\", \"ticks\": \"\"}, \"bgcolor\": \"#E5ECF6\", \"radialaxis\": {\"gridcolor\": \"white\", \"linecolor\": \"white\", \"ticks\": \"\"}}, \"scene\": {\"xaxis\": {\"backgroundcolor\": \"#E5ECF6\", \"gridcolor\": \"white\", \"gridwidth\": 2, \"linecolor\": \"white\", \"showbackground\": true, \"ticks\": \"\", \"zerolinecolor\": \"white\"}, \"yaxis\": {\"backgroundcolor\": \"#E5ECF6\", \"gridcolor\": \"white\", \"gridwidth\": 2, \"linecolor\": \"white\", \"showbackground\": true, \"ticks\": \"\", \"zerolinecolor\": \"white\"}, \"zaxis\": {\"backgroundcolor\": \"#E5ECF6\", \"gridcolor\": \"white\", \"gridwidth\": 2, \"linecolor\": \"white\", \"showbackground\": true, \"ticks\": \"\", \"zerolinecolor\": \"white\"}}, \"shapedefaults\": {\"line\": {\"color\": \"#2a3f5f\"}}, \"ternary\": {\"aaxis\": {\"gridcolor\": \"white\", \"linecolor\": \"white\", \"ticks\": \"\"}, \"baxis\": {\"gridcolor\": \"white\", \"linecolor\": \"white\", \"ticks\": \"\"}, \"bgcolor\": \"#E5ECF6\", \"caxis\": {\"gridcolor\": \"white\", \"linecolor\": \"white\", \"ticks\": \"\"}}, \"title\": {\"x\": 0.05}, \"xaxis\": {\"automargin\": true, \"gridcolor\": \"white\", \"linecolor\": \"white\", \"ticks\": \"\", \"title\": {\"standoff\": 15}, \"zerolinecolor\": \"white\", \"zerolinewidth\": 2}, \"yaxis\": {\"automargin\": true, \"gridcolor\": \"white\", \"linecolor\": \"white\", \"ticks\": \"\", \"title\": {\"standoff\": 15}, \"zerolinecolor\": \"white\", \"zerolinewidth\": 2}}}, \"title\": {\"text\": \"Covid-19 cases in Thailand : 3585\"}},                        {\"responsive\": true}                    ).then(function(){\n",
       "                            \n",
       "var gd = document.getElementById('79a97255-1207-4173-ba59-17860220e236');\n",
       "var x = new MutationObserver(function (mutations, observer) {{\n",
       "        var display = window.getComputedStyle(gd).display;\n",
       "        if (!display || display === 'none') {{\n",
       "            console.log([gd, 'removed!']);\n",
       "            Plotly.purge(gd);\n",
       "            observer.disconnect();\n",
       "        }}\n",
       "}});\n",
       "\n",
       "// Listen for the removal of the full notebook cells\n",
       "var notebookContainer = gd.closest('#notebook-container');\n",
       "if (notebookContainer) {{\n",
       "    x.observe(notebookContainer, {childList: true});\n",
       "}}\n",
       "\n",
       "// Listen for the clearing of the current output cell\n",
       "var outputEl = gd.closest('.output');\n",
       "if (outputEl) {{\n",
       "    x.observe(outputEl, {childList: true});\n",
       "}}\n",
       "\n",
       "                        })                };                });            </script>        </div>"
      ]
     },
     "metadata": {},
     "output_type": "display_data"
    }
   ],
   "source": [
    "#Pie chart แสดงจำนวนผู้เสียชีวิต , ผู้ติดเชื้อ , recovered ในประเทศไทย\n",
    "labels = [\"Active \",\"recovered\",\"deaths\"]\n",
    "values = Data_TH2.loc[0, [\"Active\",\"recovered\",\"deaths\"]]\n",
    "df = px.data.tips()\n",
    "fig = px.pie(Data_TH2, values=values, names=labels, color_discrete_sequence=['#679b9b','#6a2c70','#821752'], hole=0.5)\n",
    "fig.update_layout(\n",
    "    title='Covid-19 cases in Thailand : '+str(Data_TH2[\"confirmed\"][0]),\n",
    ")\n",
    "fig.show()"
   ]
  },
  {
   "cell_type": "markdown",
   "metadata": {},
   "source": [
    "## สรุปผล\n",
    "             ประเทศไทยมียอดผู้ติดเชื้อ(confirmed) 3,575 คน, รักษาแล้วหาย(recovered) 3,384 คน , เสียชีวิต 59 คน \n",
    "         เมื่อทำการวิเคราะห์ยอดผู้ติดเชื้อสะสมและยอดrecoverd พบว่าประเทศไทยมีศักยภาพในการรักษาได้ดี และมีการคุมเข้มในช่วงแรกของโรคที่กำลังระบาด คือ \n",
    "         ให้งดการจัดกิจกรรมรวมคนจำนวนมากที่มีความเสี่ยงสูงต่อการแพร่ระบาดของโรค เช่น จัดคอนเสิร์ต การจัดงานแสดงสินค้าต่าง ๆ\n",
    "        "
   ]
  },
  {
   "cell_type": "markdown",
   "metadata": {},
   "source": [
    "## Covid-19 in Japan\n",
    "           ญี่ปุ่นติดอันดับระบบสุขภาพที่ดีที่สุดในโลก(ระบบสาธารณสุข) เป็นอันดับที่3 เมื่อปี2019\n",
    "           เมื่อวันที่ 2 กันยายน 2563 ที่ผ่านมา กระทรวงสาธรณะสุขญี่ปุ่นประกาศฉีดวัคซีนต้านcovid-19ให้กับพลเมืองชาวญี่ปุ่นทุกคน ฟรี โดยมีเป้าหมายเพื่อลดยอดผู้ติดเชื้อและการเสียชีวิตจากโควิด       \n",
    "           ญี่ปุ่นไม่ได้มีมาตรการล็อคดาวน์เพียงแต่รัฐบาลขอความร่วมมืออยู่บ้านโดยสมัครใจ\n",
    "       \n",
    "       \n",
    "       \n",
    "        อ้างอิง : https://www.thansettakij.com/content/normal_news/430180\n",
    "        อ้างอิง : https://www.posttoday.com/world/634526\n",
    "    "
   ]
  },
  {
   "cell_type": "code",
   "execution_count": 53,
   "metadata": {
    "scrolled": false
   },
   "outputs": [
    {
     "data": {
      "text/html": [
       "<div>\n",
       "<style scoped>\n",
       "    .dataframe tbody tr th:only-of-type {\n",
       "        vertical-align: middle;\n",
       "    }\n",
       "\n",
       "    .dataframe tbody tr th {\n",
       "        vertical-align: top;\n",
       "    }\n",
       "\n",
       "    .dataframe thead th {\n",
       "        text-align: right;\n",
       "    }\n",
       "</style>\n",
       "<table border=\"1\" class=\"dataframe\">\n",
       "  <thead>\n",
       "    <tr style=\"text-align: right;\">\n",
       "      <th></th>\n",
       "      <th>city</th>\n",
       "      <th>province</th>\n",
       "      <th>country</th>\n",
       "      <th>lastUpdate</th>\n",
       "      <th>keyId</th>\n",
       "      <th>confirmed</th>\n",
       "      <th>deaths</th>\n",
       "      <th>recovered</th>\n",
       "    </tr>\n",
       "  </thead>\n",
       "  <tbody>\n",
       "    <tr>\n",
       "      <th>0</th>\n",
       "      <td>Unknown</td>\n",
       "      <td>Aichi</td>\n",
       "      <td>Japan</td>\n",
       "      <td>2020-10-04T04:23:44+00:00</td>\n",
       "      <td>Aichi, Japan</td>\n",
       "      <td>5426</td>\n",
       "      <td>83</td>\n",
       "      <td>4924.0</td>\n",
       "    </tr>\n",
       "    <tr>\n",
       "      <th>1</th>\n",
       "      <td>Unknown</td>\n",
       "      <td>Akita</td>\n",
       "      <td>Japan</td>\n",
       "      <td>2020-10-04T04:23:44+00:00</td>\n",
       "      <td>Akita, Japan</td>\n",
       "      <td>53</td>\n",
       "      <td>0</td>\n",
       "      <td>53.0</td>\n",
       "    </tr>\n",
       "    <tr>\n",
       "      <th>2</th>\n",
       "      <td>Unknown</td>\n",
       "      <td>Aomori</td>\n",
       "      <td>Japan</td>\n",
       "      <td>2020-10-04T04:23:44+00:00</td>\n",
       "      <td>Aomori, Japan</td>\n",
       "      <td>37</td>\n",
       "      <td>1</td>\n",
       "      <td>34.0</td>\n",
       "    </tr>\n",
       "    <tr>\n",
       "      <th>3</th>\n",
       "      <td>Unknown</td>\n",
       "      <td>Chiba</td>\n",
       "      <td>Japan</td>\n",
       "      <td>2020-10-04T04:23:44+00:00</td>\n",
       "      <td>Chiba, Japan</td>\n",
       "      <td>4010</td>\n",
       "      <td>72</td>\n",
       "      <td>3580.0</td>\n",
       "    </tr>\n",
       "    <tr>\n",
       "      <th>4</th>\n",
       "      <td>Unknown</td>\n",
       "      <td>Ehime</td>\n",
       "      <td>Japan</td>\n",
       "      <td>2020-10-04T04:23:44+00:00</td>\n",
       "      <td>Ehime, Japan</td>\n",
       "      <td>114</td>\n",
       "      <td>6</td>\n",
       "      <td>108.0</td>\n",
       "    </tr>\n",
       "    <tr>\n",
       "      <th>5</th>\n",
       "      <td>Unknown</td>\n",
       "      <td>Fukui</td>\n",
       "      <td>Japan</td>\n",
       "      <td>2020-10-04T04:23:44+00:00</td>\n",
       "      <td>Fukui, Japan</td>\n",
       "      <td>244</td>\n",
       "      <td>11</td>\n",
       "      <td>230.0</td>\n",
       "    </tr>\n",
       "    <tr>\n",
       "      <th>6</th>\n",
       "      <td>Unknown</td>\n",
       "      <td>Fukuoka</td>\n",
       "      <td>Japan</td>\n",
       "      <td>2020-10-04T04:23:44+00:00</td>\n",
       "      <td>Fukuoka, Japan</td>\n",
       "      <td>5059</td>\n",
       "      <td>99</td>\n",
       "      <td>4855.0</td>\n",
       "    </tr>\n",
       "    <tr>\n",
       "      <th>7</th>\n",
       "      <td>Unknown</td>\n",
       "      <td>Fukushima</td>\n",
       "      <td>Japan</td>\n",
       "      <td>2020-10-04T04:23:44+00:00</td>\n",
       "      <td>Fukushima, Japan</td>\n",
       "      <td>263</td>\n",
       "      <td>4</td>\n",
       "      <td>214.0</td>\n",
       "    </tr>\n",
       "    <tr>\n",
       "      <th>8</th>\n",
       "      <td>Unknown</td>\n",
       "      <td>Gifu</td>\n",
       "      <td>Japan</td>\n",
       "      <td>2020-10-04T04:23:44+00:00</td>\n",
       "      <td>Gifu, Japan</td>\n",
       "      <td>629</td>\n",
       "      <td>10</td>\n",
       "      <td>588.0</td>\n",
       "    </tr>\n",
       "    <tr>\n",
       "      <th>9</th>\n",
       "      <td>Unknown</td>\n",
       "      <td>Gunma</td>\n",
       "      <td>Japan</td>\n",
       "      <td>2020-10-04T04:23:44+00:00</td>\n",
       "      <td>Gunma, Japan</td>\n",
       "      <td>725</td>\n",
       "      <td>19</td>\n",
       "      <td>644.0</td>\n",
       "    </tr>\n",
       "    <tr>\n",
       "      <th>10</th>\n",
       "      <td>Unknown</td>\n",
       "      <td>Hiroshima</td>\n",
       "      <td>Japan</td>\n",
       "      <td>2020-10-04T04:23:44+00:00</td>\n",
       "      <td>Hiroshima, Japan</td>\n",
       "      <td>599</td>\n",
       "      <td>3</td>\n",
       "      <td>479.0</td>\n",
       "    </tr>\n",
       "    <tr>\n",
       "      <th>11</th>\n",
       "      <td>Unknown</td>\n",
       "      <td>Hokkaido</td>\n",
       "      <td>Japan</td>\n",
       "      <td>2020-10-04T04:23:44+00:00</td>\n",
       "      <td>Hokkaido, Japan</td>\n",
       "      <td>2148</td>\n",
       "      <td>107</td>\n",
       "      <td>1862.0</td>\n",
       "    </tr>\n",
       "    <tr>\n",
       "      <th>12</th>\n",
       "      <td>Unknown</td>\n",
       "      <td>Hyogo</td>\n",
       "      <td>Japan</td>\n",
       "      <td>2020-10-04T04:23:44+00:00</td>\n",
       "      <td>Hyogo, Japan</td>\n",
       "      <td>2785</td>\n",
       "      <td>59</td>\n",
       "      <td>2551.0</td>\n",
       "    </tr>\n",
       "    <tr>\n",
       "      <th>13</th>\n",
       "      <td>Unknown</td>\n",
       "      <td>Ibaraki</td>\n",
       "      <td>Japan</td>\n",
       "      <td>2020-10-04T04:23:44+00:00</td>\n",
       "      <td>Ibaraki, Japan</td>\n",
       "      <td>671</td>\n",
       "      <td>18</td>\n",
       "      <td>606.0</td>\n",
       "    </tr>\n",
       "    <tr>\n",
       "      <th>14</th>\n",
       "      <td>Unknown</td>\n",
       "      <td>Ishikawa</td>\n",
       "      <td>Japan</td>\n",
       "      <td>2020-10-04T04:23:44+00:00</td>\n",
       "      <td>Ishikawa, Japan</td>\n",
       "      <td>777</td>\n",
       "      <td>47</td>\n",
       "      <td>691.0</td>\n",
       "    </tr>\n",
       "    <tr>\n",
       "      <th>15</th>\n",
       "      <td>Unknown</td>\n",
       "      <td>Iwate</td>\n",
       "      <td>Japan</td>\n",
       "      <td>2020-10-04T04:23:44+00:00</td>\n",
       "      <td>Iwate, Japan</td>\n",
       "      <td>24</td>\n",
       "      <td>0</td>\n",
       "      <td>23.0</td>\n",
       "    </tr>\n",
       "    <tr>\n",
       "      <th>16</th>\n",
       "      <td>Unknown</td>\n",
       "      <td>Kagawa</td>\n",
       "      <td>Japan</td>\n",
       "      <td>2020-10-04T04:23:44+00:00</td>\n",
       "      <td>Kagawa, Japan</td>\n",
       "      <td>94</td>\n",
       "      <td>2</td>\n",
       "      <td>88.0</td>\n",
       "    </tr>\n",
       "    <tr>\n",
       "      <th>17</th>\n",
       "      <td>Unknown</td>\n",
       "      <td>Kagoshima</td>\n",
       "      <td>Japan</td>\n",
       "      <td>2020-10-04T04:23:44+00:00</td>\n",
       "      <td>Kagoshima, Japan</td>\n",
       "      <td>425</td>\n",
       "      <td>12</td>\n",
       "      <td>379.0</td>\n",
       "    </tr>\n",
       "    <tr>\n",
       "      <th>18</th>\n",
       "      <td>Unknown</td>\n",
       "      <td>Kanagawa</td>\n",
       "      <td>Japan</td>\n",
       "      <td>2020-10-04T04:23:44+00:00</td>\n",
       "      <td>Kanagawa, Japan</td>\n",
       "      <td>7108</td>\n",
       "      <td>144</td>\n",
       "      <td>6328.0</td>\n",
       "    </tr>\n",
       "    <tr>\n",
       "      <th>19</th>\n",
       "      <td>Unknown</td>\n",
       "      <td>Kochi</td>\n",
       "      <td>Japan</td>\n",
       "      <td>2020-10-04T04:23:44+00:00</td>\n",
       "      <td>Kochi, Japan</td>\n",
       "      <td>138</td>\n",
       "      <td>4</td>\n",
       "      <td>133.0</td>\n",
       "    </tr>\n",
       "    <tr>\n",
       "      <th>20</th>\n",
       "      <td>Unknown</td>\n",
       "      <td>Kumamoto</td>\n",
       "      <td>Japan</td>\n",
       "      <td>2020-10-04T04:23:44+00:00</td>\n",
       "      <td>Kumamoto, Japan</td>\n",
       "      <td>586</td>\n",
       "      <td>8</td>\n",
       "      <td>559.0</td>\n",
       "    </tr>\n",
       "    <tr>\n",
       "      <th>21</th>\n",
       "      <td>Unknown</td>\n",
       "      <td>Kyoto</td>\n",
       "      <td>Japan</td>\n",
       "      <td>2020-10-04T04:23:44+00:00</td>\n",
       "      <td>Kyoto, Japan</td>\n",
       "      <td>1783</td>\n",
       "      <td>26</td>\n",
       "      <td>1669.0</td>\n",
       "    </tr>\n",
       "    <tr>\n",
       "      <th>22</th>\n",
       "      <td>Unknown</td>\n",
       "      <td>Mie</td>\n",
       "      <td>Japan</td>\n",
       "      <td>2020-10-04T04:23:44+00:00</td>\n",
       "      <td>Mie, Japan</td>\n",
       "      <td>528</td>\n",
       "      <td>6</td>\n",
       "      <td>418.0</td>\n",
       "    </tr>\n",
       "    <tr>\n",
       "      <th>23</th>\n",
       "      <td>Unknown</td>\n",
       "      <td>Miyagi</td>\n",
       "      <td>Japan</td>\n",
       "      <td>2020-10-04T04:23:44+00:00</td>\n",
       "      <td>Miyagi, Japan</td>\n",
       "      <td>425</td>\n",
       "      <td>2</td>\n",
       "      <td>367.0</td>\n",
       "    </tr>\n",
       "    <tr>\n",
       "      <th>24</th>\n",
       "      <td>Unknown</td>\n",
       "      <td>Miyazaki</td>\n",
       "      <td>Japan</td>\n",
       "      <td>2020-10-04T04:23:44+00:00</td>\n",
       "      <td>Miyazaki, Japan</td>\n",
       "      <td>365</td>\n",
       "      <td>1</td>\n",
       "      <td>343.0</td>\n",
       "    </tr>\n",
       "    <tr>\n",
       "      <th>25</th>\n",
       "      <td>Unknown</td>\n",
       "      <td>Nagano</td>\n",
       "      <td>Japan</td>\n",
       "      <td>2020-10-04T04:23:44+00:00</td>\n",
       "      <td>Nagano, Japan</td>\n",
       "      <td>311</td>\n",
       "      <td>1</td>\n",
       "      <td>307.0</td>\n",
       "    </tr>\n",
       "    <tr>\n",
       "      <th>26</th>\n",
       "      <td>Unknown</td>\n",
       "      <td>Nagasaki</td>\n",
       "      <td>Japan</td>\n",
       "      <td>2020-10-04T04:23:44+00:00</td>\n",
       "      <td>Nagasaki, Japan</td>\n",
       "      <td>238</td>\n",
       "      <td>3</td>\n",
       "      <td>232.0</td>\n",
       "    </tr>\n",
       "    <tr>\n",
       "      <th>27</th>\n",
       "      <td>Unknown</td>\n",
       "      <td>Nara</td>\n",
       "      <td>Japan</td>\n",
       "      <td>2020-10-04T04:23:44+00:00</td>\n",
       "      <td>Nara, Japan</td>\n",
       "      <td>580</td>\n",
       "      <td>9</td>\n",
       "      <td>548.0</td>\n",
       "    </tr>\n",
       "    <tr>\n",
       "      <th>28</th>\n",
       "      <td>Unknown</td>\n",
       "      <td>Niigata</td>\n",
       "      <td>Japan</td>\n",
       "      <td>2020-10-04T04:23:44+00:00</td>\n",
       "      <td>Niigata, Japan</td>\n",
       "      <td>170</td>\n",
       "      <td>0</td>\n",
       "      <td>162.0</td>\n",
       "    </tr>\n",
       "    <tr>\n",
       "      <th>29</th>\n",
       "      <td>Unknown</td>\n",
       "      <td>Oita</td>\n",
       "      <td>Japan</td>\n",
       "      <td>2020-10-04T04:23:44+00:00</td>\n",
       "      <td>Oita, Japan</td>\n",
       "      <td>158</td>\n",
       "      <td>2</td>\n",
       "      <td>153.0</td>\n",
       "    </tr>\n",
       "    <tr>\n",
       "      <th>30</th>\n",
       "      <td>Unknown</td>\n",
       "      <td>Okayama</td>\n",
       "      <td>Japan</td>\n",
       "      <td>2020-10-04T04:23:44+00:00</td>\n",
       "      <td>Okayama, Japan</td>\n",
       "      <td>158</td>\n",
       "      <td>1</td>\n",
       "      <td>149.0</td>\n",
       "    </tr>\n",
       "    <tr>\n",
       "      <th>31</th>\n",
       "      <td>Unknown</td>\n",
       "      <td>Okinawa</td>\n",
       "      <td>Japan</td>\n",
       "      <td>2020-10-04T04:23:44+00:00</td>\n",
       "      <td>Okinawa, Japan</td>\n",
       "      <td>2580</td>\n",
       "      <td>46</td>\n",
       "      <td>2270.0</td>\n",
       "    </tr>\n",
       "    <tr>\n",
       "      <th>32</th>\n",
       "      <td>Unknown</td>\n",
       "      <td>Osaka</td>\n",
       "      <td>Japan</td>\n",
       "      <td>2020-10-04T04:23:44+00:00</td>\n",
       "      <td>Osaka, Japan</td>\n",
       "      <td>10770</td>\n",
       "      <td>217</td>\n",
       "      <td>9939.0</td>\n",
       "    </tr>\n",
       "    <tr>\n",
       "      <th>33</th>\n",
       "      <td>Unknown</td>\n",
       "      <td>Port Quarantine</td>\n",
       "      <td>Japan</td>\n",
       "      <td>2020-10-04T04:23:44+00:00</td>\n",
       "      <td>Port Quarantine, Japan</td>\n",
       "      <td>991</td>\n",
       "      <td>1</td>\n",
       "      <td>514.0</td>\n",
       "    </tr>\n",
       "    <tr>\n",
       "      <th>34</th>\n",
       "      <td>Unknown</td>\n",
       "      <td>Saga</td>\n",
       "      <td>Japan</td>\n",
       "      <td>2020-10-04T04:23:44+00:00</td>\n",
       "      <td>Saga, Japan</td>\n",
       "      <td>244</td>\n",
       "      <td>0</td>\n",
       "      <td>246.0</td>\n",
       "    </tr>\n",
       "    <tr>\n",
       "      <th>35</th>\n",
       "      <td>Unknown</td>\n",
       "      <td>Saitama</td>\n",
       "      <td>Japan</td>\n",
       "      <td>2020-10-04T04:23:44+00:00</td>\n",
       "      <td>Saitama, Japan</td>\n",
       "      <td>4776</td>\n",
       "      <td>102</td>\n",
       "      <td>4298.0</td>\n",
       "    </tr>\n",
       "    <tr>\n",
       "      <th>36</th>\n",
       "      <td>Unknown</td>\n",
       "      <td>Shiga</td>\n",
       "      <td>Japan</td>\n",
       "      <td>2020-10-04T04:23:44+00:00</td>\n",
       "      <td>Shiga, Japan</td>\n",
       "      <td>503</td>\n",
       "      <td>8</td>\n",
       "      <td>468.0</td>\n",
       "    </tr>\n",
       "    <tr>\n",
       "      <th>37</th>\n",
       "      <td>Unknown</td>\n",
       "      <td>Shimane</td>\n",
       "      <td>Japan</td>\n",
       "      <td>2020-10-04T04:23:44+00:00</td>\n",
       "      <td>Shimane, Japan</td>\n",
       "      <td>140</td>\n",
       "      <td>0</td>\n",
       "      <td>139.0</td>\n",
       "    </tr>\n",
       "    <tr>\n",
       "      <th>38</th>\n",
       "      <td>Unknown</td>\n",
       "      <td>Shizuoka</td>\n",
       "      <td>Japan</td>\n",
       "      <td>2020-10-04T04:23:44+00:00</td>\n",
       "      <td>Shizuoka, Japan</td>\n",
       "      <td>557</td>\n",
       "      <td>2</td>\n",
       "      <td>518.0</td>\n",
       "    </tr>\n",
       "    <tr>\n",
       "      <th>39</th>\n",
       "      <td>Unknown</td>\n",
       "      <td>Tochigi</td>\n",
       "      <td>Japan</td>\n",
       "      <td>2020-10-04T04:23:44+00:00</td>\n",
       "      <td>Tochigi, Japan</td>\n",
       "      <td>435</td>\n",
       "      <td>1</td>\n",
       "      <td>383.0</td>\n",
       "    </tr>\n",
       "    <tr>\n",
       "      <th>40</th>\n",
       "      <td>Unknown</td>\n",
       "      <td>Tokushima</td>\n",
       "      <td>Japan</td>\n",
       "      <td>2020-10-04T04:23:44+00:00</td>\n",
       "      <td>Tokushima, Japan</td>\n",
       "      <td>148</td>\n",
       "      <td>9</td>\n",
       "      <td>128.0</td>\n",
       "    </tr>\n",
       "    <tr>\n",
       "      <th>41</th>\n",
       "      <td>Unknown</td>\n",
       "      <td>Tokyo</td>\n",
       "      <td>Japan</td>\n",
       "      <td>2020-10-04T04:23:44+00:00</td>\n",
       "      <td>Tokyo, Japan</td>\n",
       "      <td>26389</td>\n",
       "      <td>409</td>\n",
       "      <td>23430.0</td>\n",
       "    </tr>\n",
       "    <tr>\n",
       "      <th>42</th>\n",
       "      <td>Unknown</td>\n",
       "      <td>Tottori</td>\n",
       "      <td>Japan</td>\n",
       "      <td>2020-10-04T04:23:44+00:00</td>\n",
       "      <td>Tottori, Japan</td>\n",
       "      <td>36</td>\n",
       "      <td>0</td>\n",
       "      <td>31.0</td>\n",
       "    </tr>\n",
       "    <tr>\n",
       "      <th>43</th>\n",
       "      <td>Unknown</td>\n",
       "      <td>Toyama</td>\n",
       "      <td>Japan</td>\n",
       "      <td>2020-10-04T04:23:44+00:00</td>\n",
       "      <td>Toyama, Japan</td>\n",
       "      <td>422</td>\n",
       "      <td>26</td>\n",
       "      <td>383.0</td>\n",
       "    </tr>\n",
       "    <tr>\n",
       "      <th>44</th>\n",
       "      <td>Unknown</td>\n",
       "      <td>Unknown</td>\n",
       "      <td>Japan</td>\n",
       "      <td>2020-10-04T04:23:44+00:00</td>\n",
       "      <td>Unknown, Japan</td>\n",
       "      <td>8</td>\n",
       "      <td>0</td>\n",
       "      <td>8.0</td>\n",
       "    </tr>\n",
       "    <tr>\n",
       "      <th>45</th>\n",
       "      <td>Unknown</td>\n",
       "      <td>Wakayama</td>\n",
       "      <td>Japan</td>\n",
       "      <td>2020-10-04T04:23:44+00:00</td>\n",
       "      <td>Wakayama, Japan</td>\n",
       "      <td>242</td>\n",
       "      <td>4</td>\n",
       "      <td>229.0</td>\n",
       "    </tr>\n",
       "    <tr>\n",
       "      <th>46</th>\n",
       "      <td>Unknown</td>\n",
       "      <td>Yamagata</td>\n",
       "      <td>Japan</td>\n",
       "      <td>2020-10-04T04:23:44+00:00</td>\n",
       "      <td>Yamagata, Japan</td>\n",
       "      <td>78</td>\n",
       "      <td>1</td>\n",
       "      <td>76.0</td>\n",
       "    </tr>\n",
       "    <tr>\n",
       "      <th>47</th>\n",
       "      <td>Unknown</td>\n",
       "      <td>Yamaguchi</td>\n",
       "      <td>Japan</td>\n",
       "      <td>2020-10-04T04:23:44+00:00</td>\n",
       "      <td>Yamaguchi, Japan</td>\n",
       "      <td>201</td>\n",
       "      <td>2</td>\n",
       "      <td>191.0</td>\n",
       "    </tr>\n",
       "    <tr>\n",
       "      <th>48</th>\n",
       "      <td>Unknown</td>\n",
       "      <td>Yamanashi</td>\n",
       "      <td>Japan</td>\n",
       "      <td>2020-10-04T04:23:44+00:00</td>\n",
       "      <td>Yamanashi, Japan</td>\n",
       "      <td>194</td>\n",
       "      <td>6</td>\n",
       "      <td>172.0</td>\n",
       "    </tr>\n",
       "  </tbody>\n",
       "</table>\n",
       "</div>"
      ],
      "text/plain": [
       "       city         province country                 lastUpdate  \\\n",
       "0   Unknown            Aichi   Japan  2020-10-04T04:23:44+00:00   \n",
       "1   Unknown            Akita   Japan  2020-10-04T04:23:44+00:00   \n",
       "2   Unknown           Aomori   Japan  2020-10-04T04:23:44+00:00   \n",
       "3   Unknown            Chiba   Japan  2020-10-04T04:23:44+00:00   \n",
       "4   Unknown            Ehime   Japan  2020-10-04T04:23:44+00:00   \n",
       "5   Unknown            Fukui   Japan  2020-10-04T04:23:44+00:00   \n",
       "6   Unknown          Fukuoka   Japan  2020-10-04T04:23:44+00:00   \n",
       "7   Unknown        Fukushima   Japan  2020-10-04T04:23:44+00:00   \n",
       "8   Unknown             Gifu   Japan  2020-10-04T04:23:44+00:00   \n",
       "9   Unknown            Gunma   Japan  2020-10-04T04:23:44+00:00   \n",
       "10  Unknown        Hiroshima   Japan  2020-10-04T04:23:44+00:00   \n",
       "11  Unknown         Hokkaido   Japan  2020-10-04T04:23:44+00:00   \n",
       "12  Unknown            Hyogo   Japan  2020-10-04T04:23:44+00:00   \n",
       "13  Unknown          Ibaraki   Japan  2020-10-04T04:23:44+00:00   \n",
       "14  Unknown         Ishikawa   Japan  2020-10-04T04:23:44+00:00   \n",
       "15  Unknown            Iwate   Japan  2020-10-04T04:23:44+00:00   \n",
       "16  Unknown           Kagawa   Japan  2020-10-04T04:23:44+00:00   \n",
       "17  Unknown        Kagoshima   Japan  2020-10-04T04:23:44+00:00   \n",
       "18  Unknown         Kanagawa   Japan  2020-10-04T04:23:44+00:00   \n",
       "19  Unknown            Kochi   Japan  2020-10-04T04:23:44+00:00   \n",
       "20  Unknown         Kumamoto   Japan  2020-10-04T04:23:44+00:00   \n",
       "21  Unknown            Kyoto   Japan  2020-10-04T04:23:44+00:00   \n",
       "22  Unknown              Mie   Japan  2020-10-04T04:23:44+00:00   \n",
       "23  Unknown           Miyagi   Japan  2020-10-04T04:23:44+00:00   \n",
       "24  Unknown         Miyazaki   Japan  2020-10-04T04:23:44+00:00   \n",
       "25  Unknown           Nagano   Japan  2020-10-04T04:23:44+00:00   \n",
       "26  Unknown         Nagasaki   Japan  2020-10-04T04:23:44+00:00   \n",
       "27  Unknown             Nara   Japan  2020-10-04T04:23:44+00:00   \n",
       "28  Unknown          Niigata   Japan  2020-10-04T04:23:44+00:00   \n",
       "29  Unknown             Oita   Japan  2020-10-04T04:23:44+00:00   \n",
       "30  Unknown          Okayama   Japan  2020-10-04T04:23:44+00:00   \n",
       "31  Unknown          Okinawa   Japan  2020-10-04T04:23:44+00:00   \n",
       "32  Unknown            Osaka   Japan  2020-10-04T04:23:44+00:00   \n",
       "33  Unknown  Port Quarantine   Japan  2020-10-04T04:23:44+00:00   \n",
       "34  Unknown             Saga   Japan  2020-10-04T04:23:44+00:00   \n",
       "35  Unknown          Saitama   Japan  2020-10-04T04:23:44+00:00   \n",
       "36  Unknown            Shiga   Japan  2020-10-04T04:23:44+00:00   \n",
       "37  Unknown          Shimane   Japan  2020-10-04T04:23:44+00:00   \n",
       "38  Unknown         Shizuoka   Japan  2020-10-04T04:23:44+00:00   \n",
       "39  Unknown          Tochigi   Japan  2020-10-04T04:23:44+00:00   \n",
       "40  Unknown        Tokushima   Japan  2020-10-04T04:23:44+00:00   \n",
       "41  Unknown            Tokyo   Japan  2020-10-04T04:23:44+00:00   \n",
       "42  Unknown          Tottori   Japan  2020-10-04T04:23:44+00:00   \n",
       "43  Unknown           Toyama   Japan  2020-10-04T04:23:44+00:00   \n",
       "44  Unknown          Unknown   Japan  2020-10-04T04:23:44+00:00   \n",
       "45  Unknown         Wakayama   Japan  2020-10-04T04:23:44+00:00   \n",
       "46  Unknown         Yamagata   Japan  2020-10-04T04:23:44+00:00   \n",
       "47  Unknown        Yamaguchi   Japan  2020-10-04T04:23:44+00:00   \n",
       "48  Unknown        Yamanashi   Japan  2020-10-04T04:23:44+00:00   \n",
       "\n",
       "                     keyId  confirmed  deaths  recovered  \n",
       "0             Aichi, Japan       5426      83     4924.0  \n",
       "1             Akita, Japan         53       0       53.0  \n",
       "2            Aomori, Japan         37       1       34.0  \n",
       "3             Chiba, Japan       4010      72     3580.0  \n",
       "4             Ehime, Japan        114       6      108.0  \n",
       "5             Fukui, Japan        244      11      230.0  \n",
       "6           Fukuoka, Japan       5059      99     4855.0  \n",
       "7         Fukushima, Japan        263       4      214.0  \n",
       "8              Gifu, Japan        629      10      588.0  \n",
       "9             Gunma, Japan        725      19      644.0  \n",
       "10        Hiroshima, Japan        599       3      479.0  \n",
       "11         Hokkaido, Japan       2148     107     1862.0  \n",
       "12            Hyogo, Japan       2785      59     2551.0  \n",
       "13          Ibaraki, Japan        671      18      606.0  \n",
       "14         Ishikawa, Japan        777      47      691.0  \n",
       "15            Iwate, Japan         24       0       23.0  \n",
       "16           Kagawa, Japan         94       2       88.0  \n",
       "17        Kagoshima, Japan        425      12      379.0  \n",
       "18         Kanagawa, Japan       7108     144     6328.0  \n",
       "19            Kochi, Japan        138       4      133.0  \n",
       "20         Kumamoto, Japan        586       8      559.0  \n",
       "21            Kyoto, Japan       1783      26     1669.0  \n",
       "22              Mie, Japan        528       6      418.0  \n",
       "23           Miyagi, Japan        425       2      367.0  \n",
       "24         Miyazaki, Japan        365       1      343.0  \n",
       "25           Nagano, Japan        311       1      307.0  \n",
       "26         Nagasaki, Japan        238       3      232.0  \n",
       "27             Nara, Japan        580       9      548.0  \n",
       "28          Niigata, Japan        170       0      162.0  \n",
       "29             Oita, Japan        158       2      153.0  \n",
       "30          Okayama, Japan        158       1      149.0  \n",
       "31          Okinawa, Japan       2580      46     2270.0  \n",
       "32            Osaka, Japan      10770     217     9939.0  \n",
       "33  Port Quarantine, Japan        991       1      514.0  \n",
       "34             Saga, Japan        244       0      246.0  \n",
       "35          Saitama, Japan       4776     102     4298.0  \n",
       "36            Shiga, Japan        503       8      468.0  \n",
       "37          Shimane, Japan        140       0      139.0  \n",
       "38         Shizuoka, Japan        557       2      518.0  \n",
       "39          Tochigi, Japan        435       1      383.0  \n",
       "40        Tokushima, Japan        148       9      128.0  \n",
       "41            Tokyo, Japan      26389     409    23430.0  \n",
       "42          Tottori, Japan         36       0       31.0  \n",
       "43           Toyama, Japan        422      26      383.0  \n",
       "44          Unknown, Japan          8       0        8.0  \n",
       "45         Wakayama, Japan        242       4      229.0  \n",
       "46         Yamagata, Japan         78       1       76.0  \n",
       "47        Yamaguchi, Japan        201       2      191.0  \n",
       "48        Yamanashi, Japan        194       6      172.0  "
      ]
     },
     "execution_count": 53,
     "metadata": {},
     "output_type": "execute_result"
    }
   ],
   "source": [
    "Data_JP = df[(df['country'] == 'Japan') ].reset_index(drop=True)\n",
    "Data_JP"
   ]
  },
  {
   "cell_type": "code",
   "execution_count": 40,
   "metadata": {},
   "outputs": [
    {
     "data": {
      "text/html": [
       "<style  type=\"text/css\" >\n",
       "    #T_828acf6e_0632_11eb_ae9f_1062e5670ca3row0_col0 {\n",
       "            background-color:  #000000;\n",
       "            color:  #f1f1f1;\n",
       "        }    #T_828acf6e_0632_11eb_ae9f_1062e5670ca3row1_col0 {\n",
       "            background-color:  #ce7d8c;\n",
       "            color:  #000000;\n",
       "        }    #T_828acf6e_0632_11eb_ae9f_1062e5670ca3row2_col0 {\n",
       "            background-color:  #caabe8;\n",
       "            color:  #000000;\n",
       "        }    #T_828acf6e_0632_11eb_ae9f_1062e5670ca3row3_col0 {\n",
       "            background-color:  #c2c8f3;\n",
       "            color:  #000000;\n",
       "        }    #T_828acf6e_0632_11eb_ae9f_1062e5670ca3row4_col0 {\n",
       "            background-color:  #c1cdf3;\n",
       "            color:  #000000;\n",
       "        }    #T_828acf6e_0632_11eb_ae9f_1062e5670ca3row5_col0 {\n",
       "            background-color:  #c2d2f3;\n",
       "            color:  #000000;\n",
       "        }    #T_828acf6e_0632_11eb_ae9f_1062e5670ca3row6_col0 {\n",
       "            background-color:  #c5dff2;\n",
       "            color:  #000000;\n",
       "        }    #T_828acf6e_0632_11eb_ae9f_1062e5670ca3row7_col0 {\n",
       "            background-color:  #d1edef;\n",
       "            color:  #000000;\n",
       "        }    #T_828acf6e_0632_11eb_ae9f_1062e5670ca3row8_col0 {\n",
       "            background-color:  #d4efef;\n",
       "            color:  #000000;\n",
       "        }    #T_828acf6e_0632_11eb_ae9f_1062e5670ca3row9_col0 {\n",
       "            background-color:  #dbf3ef;\n",
       "            color:  #000000;\n",
       "        }    #T_828acf6e_0632_11eb_ae9f_1062e5670ca3row10_col0 {\n",
       "            background-color:  #e0f5f0;\n",
       "            color:  #000000;\n",
       "        }    #T_828acf6e_0632_11eb_ae9f_1062e5670ca3row11_col0 {\n",
       "            background-color:  #effaf4;\n",
       "            color:  #000000;\n",
       "        }    #T_828acf6e_0632_11eb_ae9f_1062e5670ca3row12_col0 {\n",
       "            background-color:  #f2fbf6;\n",
       "            color:  #000000;\n",
       "        }    #T_828acf6e_0632_11eb_ae9f_1062e5670ca3row13_col0 {\n",
       "            background-color:  #f4fcf7;\n",
       "            color:  #000000;\n",
       "        }    #T_828acf6e_0632_11eb_ae9f_1062e5670ca3row14_col0 {\n",
       "            background-color:  #f4fcf7;\n",
       "            color:  #000000;\n",
       "        }    #T_828acf6e_0632_11eb_ae9f_1062e5670ca3row15_col0 {\n",
       "            background-color:  #f4fcf7;\n",
       "            color:  #000000;\n",
       "        }    #T_828acf6e_0632_11eb_ae9f_1062e5670ca3row16_col0 {\n",
       "            background-color:  #f6fcf8;\n",
       "            color:  #000000;\n",
       "        }    #T_828acf6e_0632_11eb_ae9f_1062e5670ca3row17_col0 {\n",
       "            background-color:  #f6fcf8;\n",
       "            color:  #000000;\n",
       "        }    #T_828acf6e_0632_11eb_ae9f_1062e5670ca3row18_col0 {\n",
       "            background-color:  #f6fcf8;\n",
       "            color:  #000000;\n",
       "        }    #T_828acf6e_0632_11eb_ae9f_1062e5670ca3row19_col0 {\n",
       "            background-color:  #f6fcf8;\n",
       "            color:  #000000;\n",
       "        }    #T_828acf6e_0632_11eb_ae9f_1062e5670ca3row20_col0 {\n",
       "            background-color:  #f6fcf8;\n",
       "            color:  #000000;\n",
       "        }    #T_828acf6e_0632_11eb_ae9f_1062e5670ca3row21_col0 {\n",
       "            background-color:  #f8fdfa;\n",
       "            color:  #000000;\n",
       "        }    #T_828acf6e_0632_11eb_ae9f_1062e5670ca3row22_col0 {\n",
       "            background-color:  #f8fdfa;\n",
       "            color:  #000000;\n",
       "        }    #T_828acf6e_0632_11eb_ae9f_1062e5670ca3row23_col0 {\n",
       "            background-color:  #f8fdfa;\n",
       "            color:  #000000;\n",
       "        }    #T_828acf6e_0632_11eb_ae9f_1062e5670ca3row24_col0 {\n",
       "            background-color:  #f8fdfa;\n",
       "            color:  #000000;\n",
       "        }    #T_828acf6e_0632_11eb_ae9f_1062e5670ca3row25_col0 {\n",
       "            background-color:  #f8fdfa;\n",
       "            color:  #000000;\n",
       "        }    #T_828acf6e_0632_11eb_ae9f_1062e5670ca3row26_col0 {\n",
       "            background-color:  #fafdfb;\n",
       "            color:  #000000;\n",
       "        }    #T_828acf6e_0632_11eb_ae9f_1062e5670ca3row27_col0 {\n",
       "            background-color:  #fbfefc;\n",
       "            color:  #000000;\n",
       "        }    #T_828acf6e_0632_11eb_ae9f_1062e5670ca3row28_col0 {\n",
       "            background-color:  #fbfefc;\n",
       "            color:  #000000;\n",
       "        }    #T_828acf6e_0632_11eb_ae9f_1062e5670ca3row29_col0 {\n",
       "            background-color:  #fbfefc;\n",
       "            color:  #000000;\n",
       "        }    #T_828acf6e_0632_11eb_ae9f_1062e5670ca3row30_col0 {\n",
       "            background-color:  #fbfefc;\n",
       "            color:  #000000;\n",
       "        }    #T_828acf6e_0632_11eb_ae9f_1062e5670ca3row31_col0 {\n",
       "            background-color:  #fbfefc;\n",
       "            color:  #000000;\n",
       "        }    #T_828acf6e_0632_11eb_ae9f_1062e5670ca3row32_col0 {\n",
       "            background-color:  #fbfefc;\n",
       "            color:  #000000;\n",
       "        }    #T_828acf6e_0632_11eb_ae9f_1062e5670ca3row33_col0 {\n",
       "            background-color:  #fdfefe;\n",
       "            color:  #000000;\n",
       "        }    #T_828acf6e_0632_11eb_ae9f_1062e5670ca3row34_col0 {\n",
       "            background-color:  #fdfefe;\n",
       "            color:  #000000;\n",
       "        }    #T_828acf6e_0632_11eb_ae9f_1062e5670ca3row35_col0 {\n",
       "            background-color:  #fdfefe;\n",
       "            color:  #000000;\n",
       "        }    #T_828acf6e_0632_11eb_ae9f_1062e5670ca3row36_col0 {\n",
       "            background-color:  #fdfefe;\n",
       "            color:  #000000;\n",
       "        }    #T_828acf6e_0632_11eb_ae9f_1062e5670ca3row37_col0 {\n",
       "            background-color:  #fdfefe;\n",
       "            color:  #000000;\n",
       "        }    #T_828acf6e_0632_11eb_ae9f_1062e5670ca3row38_col0 {\n",
       "            background-color:  #fdfefe;\n",
       "            color:  #000000;\n",
       "        }    #T_828acf6e_0632_11eb_ae9f_1062e5670ca3row39_col0 {\n",
       "            background-color:  #fdfefe;\n",
       "            color:  #000000;\n",
       "        }    #T_828acf6e_0632_11eb_ae9f_1062e5670ca3row40_col0 {\n",
       "            background-color:  #fdfefe;\n",
       "            color:  #000000;\n",
       "        }    #T_828acf6e_0632_11eb_ae9f_1062e5670ca3row41_col0 {\n",
       "            background-color:  #fdfefe;\n",
       "            color:  #000000;\n",
       "        }    #T_828acf6e_0632_11eb_ae9f_1062e5670ca3row42_col0 {\n",
       "            background-color:  #ffffff;\n",
       "            color:  #000000;\n",
       "        }    #T_828acf6e_0632_11eb_ae9f_1062e5670ca3row43_col0 {\n",
       "            background-color:  #ffffff;\n",
       "            color:  #000000;\n",
       "        }    #T_828acf6e_0632_11eb_ae9f_1062e5670ca3row44_col0 {\n",
       "            background-color:  #ffffff;\n",
       "            color:  #000000;\n",
       "        }    #T_828acf6e_0632_11eb_ae9f_1062e5670ca3row45_col0 {\n",
       "            background-color:  #ffffff;\n",
       "            color:  #000000;\n",
       "        }    #T_828acf6e_0632_11eb_ae9f_1062e5670ca3row46_col0 {\n",
       "            background-color:  #ffffff;\n",
       "            color:  #000000;\n",
       "        }    #T_828acf6e_0632_11eb_ae9f_1062e5670ca3row47_col0 {\n",
       "            background-color:  #ffffff;\n",
       "            color:  #000000;\n",
       "        }    #T_828acf6e_0632_11eb_ae9f_1062e5670ca3row48_col0 {\n",
       "            background-color:  #ffffff;\n",
       "            color:  #000000;\n",
       "        }</style><table id=\"T_828acf6e_0632_11eb_ae9f_1062e5670ca3\" ><thead>    <tr>        <th class=\"blank level0\" ></th>        <th class=\"col_heading level0 col0\" >confirmed</th>    </tr>    <tr>        <th class=\"index_name level0\" >province</th>        <th class=\"blank\" ></th>    </tr></thead><tbody>\n",
       "                <tr>\n",
       "                        <th id=\"T_828acf6e_0632_11eb_ae9f_1062e5670ca3level0_row0\" class=\"row_heading level0 row0\" >Tokyo</th>\n",
       "                        <td id=\"T_828acf6e_0632_11eb_ae9f_1062e5670ca3row0_col0\" class=\"data row0 col0\" >26389</td>\n",
       "            </tr>\n",
       "            <tr>\n",
       "                        <th id=\"T_828acf6e_0632_11eb_ae9f_1062e5670ca3level0_row1\" class=\"row_heading level0 row1\" >Osaka</th>\n",
       "                        <td id=\"T_828acf6e_0632_11eb_ae9f_1062e5670ca3row1_col0\" class=\"data row1 col0\" >10770</td>\n",
       "            </tr>\n",
       "            <tr>\n",
       "                        <th id=\"T_828acf6e_0632_11eb_ae9f_1062e5670ca3level0_row2\" class=\"row_heading level0 row2\" >Kanagawa</th>\n",
       "                        <td id=\"T_828acf6e_0632_11eb_ae9f_1062e5670ca3row2_col0\" class=\"data row2 col0\" >7108</td>\n",
       "            </tr>\n",
       "            <tr>\n",
       "                        <th id=\"T_828acf6e_0632_11eb_ae9f_1062e5670ca3level0_row3\" class=\"row_heading level0 row3\" >Aichi</th>\n",
       "                        <td id=\"T_828acf6e_0632_11eb_ae9f_1062e5670ca3row3_col0\" class=\"data row3 col0\" >5426</td>\n",
       "            </tr>\n",
       "            <tr>\n",
       "                        <th id=\"T_828acf6e_0632_11eb_ae9f_1062e5670ca3level0_row4\" class=\"row_heading level0 row4\" >Fukuoka</th>\n",
       "                        <td id=\"T_828acf6e_0632_11eb_ae9f_1062e5670ca3row4_col0\" class=\"data row4 col0\" >5059</td>\n",
       "            </tr>\n",
       "            <tr>\n",
       "                        <th id=\"T_828acf6e_0632_11eb_ae9f_1062e5670ca3level0_row5\" class=\"row_heading level0 row5\" >Saitama</th>\n",
       "                        <td id=\"T_828acf6e_0632_11eb_ae9f_1062e5670ca3row5_col0\" class=\"data row5 col0\" >4776</td>\n",
       "            </tr>\n",
       "            <tr>\n",
       "                        <th id=\"T_828acf6e_0632_11eb_ae9f_1062e5670ca3level0_row6\" class=\"row_heading level0 row6\" >Chiba</th>\n",
       "                        <td id=\"T_828acf6e_0632_11eb_ae9f_1062e5670ca3row6_col0\" class=\"data row6 col0\" >4010</td>\n",
       "            </tr>\n",
       "            <tr>\n",
       "                        <th id=\"T_828acf6e_0632_11eb_ae9f_1062e5670ca3level0_row7\" class=\"row_heading level0 row7\" >Hyogo</th>\n",
       "                        <td id=\"T_828acf6e_0632_11eb_ae9f_1062e5670ca3row7_col0\" class=\"data row7 col0\" >2785</td>\n",
       "            </tr>\n",
       "            <tr>\n",
       "                        <th id=\"T_828acf6e_0632_11eb_ae9f_1062e5670ca3level0_row8\" class=\"row_heading level0 row8\" >Okinawa</th>\n",
       "                        <td id=\"T_828acf6e_0632_11eb_ae9f_1062e5670ca3row8_col0\" class=\"data row8 col0\" >2580</td>\n",
       "            </tr>\n",
       "            <tr>\n",
       "                        <th id=\"T_828acf6e_0632_11eb_ae9f_1062e5670ca3level0_row9\" class=\"row_heading level0 row9\" >Hokkaido</th>\n",
       "                        <td id=\"T_828acf6e_0632_11eb_ae9f_1062e5670ca3row9_col0\" class=\"data row9 col0\" >2148</td>\n",
       "            </tr>\n",
       "            <tr>\n",
       "                        <th id=\"T_828acf6e_0632_11eb_ae9f_1062e5670ca3level0_row10\" class=\"row_heading level0 row10\" >Kyoto</th>\n",
       "                        <td id=\"T_828acf6e_0632_11eb_ae9f_1062e5670ca3row10_col0\" class=\"data row10 col0\" >1783</td>\n",
       "            </tr>\n",
       "            <tr>\n",
       "                        <th id=\"T_828acf6e_0632_11eb_ae9f_1062e5670ca3level0_row11\" class=\"row_heading level0 row11\" >Port Quarantine</th>\n",
       "                        <td id=\"T_828acf6e_0632_11eb_ae9f_1062e5670ca3row11_col0\" class=\"data row11 col0\" >991</td>\n",
       "            </tr>\n",
       "            <tr>\n",
       "                        <th id=\"T_828acf6e_0632_11eb_ae9f_1062e5670ca3level0_row12\" class=\"row_heading level0 row12\" >Ishikawa</th>\n",
       "                        <td id=\"T_828acf6e_0632_11eb_ae9f_1062e5670ca3row12_col0\" class=\"data row12 col0\" >777</td>\n",
       "            </tr>\n",
       "            <tr>\n",
       "                        <th id=\"T_828acf6e_0632_11eb_ae9f_1062e5670ca3level0_row13\" class=\"row_heading level0 row13\" >Gunma</th>\n",
       "                        <td id=\"T_828acf6e_0632_11eb_ae9f_1062e5670ca3row13_col0\" class=\"data row13 col0\" >725</td>\n",
       "            </tr>\n",
       "            <tr>\n",
       "                        <th id=\"T_828acf6e_0632_11eb_ae9f_1062e5670ca3level0_row14\" class=\"row_heading level0 row14\" >Ibaraki</th>\n",
       "                        <td id=\"T_828acf6e_0632_11eb_ae9f_1062e5670ca3row14_col0\" class=\"data row14 col0\" >671</td>\n",
       "            </tr>\n",
       "            <tr>\n",
       "                        <th id=\"T_828acf6e_0632_11eb_ae9f_1062e5670ca3level0_row15\" class=\"row_heading level0 row15\" >Gifu</th>\n",
       "                        <td id=\"T_828acf6e_0632_11eb_ae9f_1062e5670ca3row15_col0\" class=\"data row15 col0\" >629</td>\n",
       "            </tr>\n",
       "            <tr>\n",
       "                        <th id=\"T_828acf6e_0632_11eb_ae9f_1062e5670ca3level0_row16\" class=\"row_heading level0 row16\" >Hiroshima</th>\n",
       "                        <td id=\"T_828acf6e_0632_11eb_ae9f_1062e5670ca3row16_col0\" class=\"data row16 col0\" >599</td>\n",
       "            </tr>\n",
       "            <tr>\n",
       "                        <th id=\"T_828acf6e_0632_11eb_ae9f_1062e5670ca3level0_row17\" class=\"row_heading level0 row17\" >Kumamoto</th>\n",
       "                        <td id=\"T_828acf6e_0632_11eb_ae9f_1062e5670ca3row17_col0\" class=\"data row17 col0\" >586</td>\n",
       "            </tr>\n",
       "            <tr>\n",
       "                        <th id=\"T_828acf6e_0632_11eb_ae9f_1062e5670ca3level0_row18\" class=\"row_heading level0 row18\" >Nara</th>\n",
       "                        <td id=\"T_828acf6e_0632_11eb_ae9f_1062e5670ca3row18_col0\" class=\"data row18 col0\" >580</td>\n",
       "            </tr>\n",
       "            <tr>\n",
       "                        <th id=\"T_828acf6e_0632_11eb_ae9f_1062e5670ca3level0_row19\" class=\"row_heading level0 row19\" >Shizuoka</th>\n",
       "                        <td id=\"T_828acf6e_0632_11eb_ae9f_1062e5670ca3row19_col0\" class=\"data row19 col0\" >557</td>\n",
       "            </tr>\n",
       "            <tr>\n",
       "                        <th id=\"T_828acf6e_0632_11eb_ae9f_1062e5670ca3level0_row20\" class=\"row_heading level0 row20\" >Mie</th>\n",
       "                        <td id=\"T_828acf6e_0632_11eb_ae9f_1062e5670ca3row20_col0\" class=\"data row20 col0\" >528</td>\n",
       "            </tr>\n",
       "            <tr>\n",
       "                        <th id=\"T_828acf6e_0632_11eb_ae9f_1062e5670ca3level0_row21\" class=\"row_heading level0 row21\" >Shiga</th>\n",
       "                        <td id=\"T_828acf6e_0632_11eb_ae9f_1062e5670ca3row21_col0\" class=\"data row21 col0\" >503</td>\n",
       "            </tr>\n",
       "            <tr>\n",
       "                        <th id=\"T_828acf6e_0632_11eb_ae9f_1062e5670ca3level0_row22\" class=\"row_heading level0 row22\" >Tochigi</th>\n",
       "                        <td id=\"T_828acf6e_0632_11eb_ae9f_1062e5670ca3row22_col0\" class=\"data row22 col0\" >435</td>\n",
       "            </tr>\n",
       "            <tr>\n",
       "                        <th id=\"T_828acf6e_0632_11eb_ae9f_1062e5670ca3level0_row23\" class=\"row_heading level0 row23\" >Kagoshima</th>\n",
       "                        <td id=\"T_828acf6e_0632_11eb_ae9f_1062e5670ca3row23_col0\" class=\"data row23 col0\" >425</td>\n",
       "            </tr>\n",
       "            <tr>\n",
       "                        <th id=\"T_828acf6e_0632_11eb_ae9f_1062e5670ca3level0_row24\" class=\"row_heading level0 row24\" >Miyagi</th>\n",
       "                        <td id=\"T_828acf6e_0632_11eb_ae9f_1062e5670ca3row24_col0\" class=\"data row24 col0\" >425</td>\n",
       "            </tr>\n",
       "            <tr>\n",
       "                        <th id=\"T_828acf6e_0632_11eb_ae9f_1062e5670ca3level0_row25\" class=\"row_heading level0 row25\" >Toyama</th>\n",
       "                        <td id=\"T_828acf6e_0632_11eb_ae9f_1062e5670ca3row25_col0\" class=\"data row25 col0\" >422</td>\n",
       "            </tr>\n",
       "            <tr>\n",
       "                        <th id=\"T_828acf6e_0632_11eb_ae9f_1062e5670ca3level0_row26\" class=\"row_heading level0 row26\" >Miyazaki</th>\n",
       "                        <td id=\"T_828acf6e_0632_11eb_ae9f_1062e5670ca3row26_col0\" class=\"data row26 col0\" >365</td>\n",
       "            </tr>\n",
       "            <tr>\n",
       "                        <th id=\"T_828acf6e_0632_11eb_ae9f_1062e5670ca3level0_row27\" class=\"row_heading level0 row27\" >Nagano</th>\n",
       "                        <td id=\"T_828acf6e_0632_11eb_ae9f_1062e5670ca3row27_col0\" class=\"data row27 col0\" >311</td>\n",
       "            </tr>\n",
       "            <tr>\n",
       "                        <th id=\"T_828acf6e_0632_11eb_ae9f_1062e5670ca3level0_row28\" class=\"row_heading level0 row28\" >Fukushima</th>\n",
       "                        <td id=\"T_828acf6e_0632_11eb_ae9f_1062e5670ca3row28_col0\" class=\"data row28 col0\" >263</td>\n",
       "            </tr>\n",
       "            <tr>\n",
       "                        <th id=\"T_828acf6e_0632_11eb_ae9f_1062e5670ca3level0_row29\" class=\"row_heading level0 row29\" >Saga</th>\n",
       "                        <td id=\"T_828acf6e_0632_11eb_ae9f_1062e5670ca3row29_col0\" class=\"data row29 col0\" >244</td>\n",
       "            </tr>\n",
       "            <tr>\n",
       "                        <th id=\"T_828acf6e_0632_11eb_ae9f_1062e5670ca3level0_row30\" class=\"row_heading level0 row30\" >Fukui</th>\n",
       "                        <td id=\"T_828acf6e_0632_11eb_ae9f_1062e5670ca3row30_col0\" class=\"data row30 col0\" >244</td>\n",
       "            </tr>\n",
       "            <tr>\n",
       "                        <th id=\"T_828acf6e_0632_11eb_ae9f_1062e5670ca3level0_row31\" class=\"row_heading level0 row31\" >Wakayama</th>\n",
       "                        <td id=\"T_828acf6e_0632_11eb_ae9f_1062e5670ca3row31_col0\" class=\"data row31 col0\" >242</td>\n",
       "            </tr>\n",
       "            <tr>\n",
       "                        <th id=\"T_828acf6e_0632_11eb_ae9f_1062e5670ca3level0_row32\" class=\"row_heading level0 row32\" >Nagasaki</th>\n",
       "                        <td id=\"T_828acf6e_0632_11eb_ae9f_1062e5670ca3row32_col0\" class=\"data row32 col0\" >238</td>\n",
       "            </tr>\n",
       "            <tr>\n",
       "                        <th id=\"T_828acf6e_0632_11eb_ae9f_1062e5670ca3level0_row33\" class=\"row_heading level0 row33\" >Yamaguchi</th>\n",
       "                        <td id=\"T_828acf6e_0632_11eb_ae9f_1062e5670ca3row33_col0\" class=\"data row33 col0\" >201</td>\n",
       "            </tr>\n",
       "            <tr>\n",
       "                        <th id=\"T_828acf6e_0632_11eb_ae9f_1062e5670ca3level0_row34\" class=\"row_heading level0 row34\" >Yamanashi</th>\n",
       "                        <td id=\"T_828acf6e_0632_11eb_ae9f_1062e5670ca3row34_col0\" class=\"data row34 col0\" >194</td>\n",
       "            </tr>\n",
       "            <tr>\n",
       "                        <th id=\"T_828acf6e_0632_11eb_ae9f_1062e5670ca3level0_row35\" class=\"row_heading level0 row35\" >Niigata</th>\n",
       "                        <td id=\"T_828acf6e_0632_11eb_ae9f_1062e5670ca3row35_col0\" class=\"data row35 col0\" >170</td>\n",
       "            </tr>\n",
       "            <tr>\n",
       "                        <th id=\"T_828acf6e_0632_11eb_ae9f_1062e5670ca3level0_row36\" class=\"row_heading level0 row36\" >Okayama</th>\n",
       "                        <td id=\"T_828acf6e_0632_11eb_ae9f_1062e5670ca3row36_col0\" class=\"data row36 col0\" >158</td>\n",
       "            </tr>\n",
       "            <tr>\n",
       "                        <th id=\"T_828acf6e_0632_11eb_ae9f_1062e5670ca3level0_row37\" class=\"row_heading level0 row37\" >Oita</th>\n",
       "                        <td id=\"T_828acf6e_0632_11eb_ae9f_1062e5670ca3row37_col0\" class=\"data row37 col0\" >158</td>\n",
       "            </tr>\n",
       "            <tr>\n",
       "                        <th id=\"T_828acf6e_0632_11eb_ae9f_1062e5670ca3level0_row38\" class=\"row_heading level0 row38\" >Tokushima</th>\n",
       "                        <td id=\"T_828acf6e_0632_11eb_ae9f_1062e5670ca3row38_col0\" class=\"data row38 col0\" >148</td>\n",
       "            </tr>\n",
       "            <tr>\n",
       "                        <th id=\"T_828acf6e_0632_11eb_ae9f_1062e5670ca3level0_row39\" class=\"row_heading level0 row39\" >Shimane</th>\n",
       "                        <td id=\"T_828acf6e_0632_11eb_ae9f_1062e5670ca3row39_col0\" class=\"data row39 col0\" >140</td>\n",
       "            </tr>\n",
       "            <tr>\n",
       "                        <th id=\"T_828acf6e_0632_11eb_ae9f_1062e5670ca3level0_row40\" class=\"row_heading level0 row40\" >Kochi</th>\n",
       "                        <td id=\"T_828acf6e_0632_11eb_ae9f_1062e5670ca3row40_col0\" class=\"data row40 col0\" >138</td>\n",
       "            </tr>\n",
       "            <tr>\n",
       "                        <th id=\"T_828acf6e_0632_11eb_ae9f_1062e5670ca3level0_row41\" class=\"row_heading level0 row41\" >Ehime</th>\n",
       "                        <td id=\"T_828acf6e_0632_11eb_ae9f_1062e5670ca3row41_col0\" class=\"data row41 col0\" >114</td>\n",
       "            </tr>\n",
       "            <tr>\n",
       "                        <th id=\"T_828acf6e_0632_11eb_ae9f_1062e5670ca3level0_row42\" class=\"row_heading level0 row42\" >Kagawa</th>\n",
       "                        <td id=\"T_828acf6e_0632_11eb_ae9f_1062e5670ca3row42_col0\" class=\"data row42 col0\" >94</td>\n",
       "            </tr>\n",
       "            <tr>\n",
       "                        <th id=\"T_828acf6e_0632_11eb_ae9f_1062e5670ca3level0_row43\" class=\"row_heading level0 row43\" >Yamagata</th>\n",
       "                        <td id=\"T_828acf6e_0632_11eb_ae9f_1062e5670ca3row43_col0\" class=\"data row43 col0\" >78</td>\n",
       "            </tr>\n",
       "            <tr>\n",
       "                        <th id=\"T_828acf6e_0632_11eb_ae9f_1062e5670ca3level0_row44\" class=\"row_heading level0 row44\" >Akita</th>\n",
       "                        <td id=\"T_828acf6e_0632_11eb_ae9f_1062e5670ca3row44_col0\" class=\"data row44 col0\" >53</td>\n",
       "            </tr>\n",
       "            <tr>\n",
       "                        <th id=\"T_828acf6e_0632_11eb_ae9f_1062e5670ca3level0_row45\" class=\"row_heading level0 row45\" >Aomori</th>\n",
       "                        <td id=\"T_828acf6e_0632_11eb_ae9f_1062e5670ca3row45_col0\" class=\"data row45 col0\" >37</td>\n",
       "            </tr>\n",
       "            <tr>\n",
       "                        <th id=\"T_828acf6e_0632_11eb_ae9f_1062e5670ca3level0_row46\" class=\"row_heading level0 row46\" >Tottori</th>\n",
       "                        <td id=\"T_828acf6e_0632_11eb_ae9f_1062e5670ca3row46_col0\" class=\"data row46 col0\" >36</td>\n",
       "            </tr>\n",
       "            <tr>\n",
       "                        <th id=\"T_828acf6e_0632_11eb_ae9f_1062e5670ca3level0_row47\" class=\"row_heading level0 row47\" >Iwate</th>\n",
       "                        <td id=\"T_828acf6e_0632_11eb_ae9f_1062e5670ca3row47_col0\" class=\"data row47 col0\" >24</td>\n",
       "            </tr>\n",
       "            <tr>\n",
       "                        <th id=\"T_828acf6e_0632_11eb_ae9f_1062e5670ca3level0_row48\" class=\"row_heading level0 row48\" >Unknown</th>\n",
       "                        <td id=\"T_828acf6e_0632_11eb_ae9f_1062e5670ca3row48_col0\" class=\"data row48 col0\" >8</td>\n",
       "            </tr>\n",
       "    </tbody></table>"
      ],
      "text/plain": [
       "<pandas.io.formats.style.Styler at 0x2a3caeedcd0>"
      ]
     },
     "execution_count": 40,
     "metadata": {},
     "output_type": "execute_result"
    }
   ],
   "source": [
    "#แสดงยอดconfirmedในแต่ละจังหวัดของประเทศญี่ปุ่น\n",
    "D_JP = Data_JP.groupby('province')['confirmed'].sum().sort_values(ascending=False).to_frame()\n",
    "D_JP.style.background_gradient(cmap='cubehelix_r')"
   ]
  },
  {
   "cell_type": "code",
   "execution_count": 41,
   "metadata": {},
   "outputs": [
    {
     "data": {
      "text/html": [
       "<style  type=\"text/css\" >\n",
       "    #T_85ab728b_0632_11eb_9d8f_1062e5670ca3row0_col0 {\n",
       "            background-color:  #000000;\n",
       "            color:  #f1f1f1;\n",
       "        }    #T_85ab728b_0632_11eb_9d8f_1062e5670ca3row1_col0 {\n",
       "            background-color:  #c97b7f;\n",
       "            color:  #000000;\n",
       "        }    #T_85ab728b_0632_11eb_9d8f_1062e5670ca3row2_col0 {\n",
       "            background-color:  #caa9e7;\n",
       "            color:  #000000;\n",
       "        }    #T_85ab728b_0632_11eb_9d8f_1062e5670ca3row3_col0 {\n",
       "            background-color:  #c2c6f3;\n",
       "            color:  #000000;\n",
       "        }    #T_85ab728b_0632_11eb_9d8f_1062e5670ca3row4_col0 {\n",
       "            background-color:  #c2c8f3;\n",
       "            color:  #000000;\n",
       "        }    #T_85ab728b_0632_11eb_9d8f_1062e5670ca3row5_col0 {\n",
       "            background-color:  #c2d2f3;\n",
       "            color:  #000000;\n",
       "        }    #T_85ab728b_0632_11eb_9d8f_1062e5670ca3row6_col0 {\n",
       "            background-color:  #c4ddf2;\n",
       "            color:  #000000;\n",
       "        }    #T_85ab728b_0632_11eb_9d8f_1062e5670ca3row7_col0 {\n",
       "            background-color:  #d0ecef;\n",
       "            color:  #000000;\n",
       "        }    #T_85ab728b_0632_11eb_9d8f_1062e5670ca3row8_col0 {\n",
       "            background-color:  #d4efef;\n",
       "            color:  #000000;\n",
       "        }    #T_85ab728b_0632_11eb_9d8f_1062e5670ca3row9_col0 {\n",
       "            background-color:  #dbf3ef;\n",
       "            color:  #000000;\n",
       "        }    #T_85ab728b_0632_11eb_9d8f_1062e5670ca3row10_col0 {\n",
       "            background-color:  #def4ef;\n",
       "            color:  #000000;\n",
       "        }    #T_85ab728b_0632_11eb_9d8f_1062e5670ca3row11_col0 {\n",
       "            background-color:  #f2fbf6;\n",
       "            color:  #000000;\n",
       "        }    #T_85ab728b_0632_11eb_9d8f_1062e5670ca3row12_col0 {\n",
       "            background-color:  #f4fcf7;\n",
       "            color:  #000000;\n",
       "        }    #T_85ab728b_0632_11eb_9d8f_1062e5670ca3row13_col0 {\n",
       "            background-color:  #f4fcf7;\n",
       "            color:  #000000;\n",
       "        }    #T_85ab728b_0632_11eb_9d8f_1062e5670ca3row14_col0 {\n",
       "            background-color:  #f4fcf7;\n",
       "            color:  #000000;\n",
       "        }    #T_85ab728b_0632_11eb_9d8f_1062e5670ca3row15_col0 {\n",
       "            background-color:  #f4fcf7;\n",
       "            color:  #000000;\n",
       "        }    #T_85ab728b_0632_11eb_9d8f_1062e5670ca3row16_col0 {\n",
       "            background-color:  #f6fcf8;\n",
       "            color:  #000000;\n",
       "        }    #T_85ab728b_0632_11eb_9d8f_1062e5670ca3row17_col0 {\n",
       "            background-color:  #f6fcf8;\n",
       "            color:  #000000;\n",
       "        }    #T_85ab728b_0632_11eb_9d8f_1062e5670ca3row18_col0 {\n",
       "            background-color:  #f6fcf8;\n",
       "            color:  #000000;\n",
       "        }    #T_85ab728b_0632_11eb_9d8f_1062e5670ca3row19_col0 {\n",
       "            background-color:  #f6fcf8;\n",
       "            color:  #000000;\n",
       "        }    #T_85ab728b_0632_11eb_9d8f_1062e5670ca3row20_col0 {\n",
       "            background-color:  #f6fcf8;\n",
       "            color:  #000000;\n",
       "        }    #T_85ab728b_0632_11eb_9d8f_1062e5670ca3row21_col0 {\n",
       "            background-color:  #f8fdfa;\n",
       "            color:  #000000;\n",
       "        }    #T_85ab728b_0632_11eb_9d8f_1062e5670ca3row22_col0 {\n",
       "            background-color:  #f8fdfa;\n",
       "            color:  #000000;\n",
       "        }    #T_85ab728b_0632_11eb_9d8f_1062e5670ca3row23_col0 {\n",
       "            background-color:  #f8fdfa;\n",
       "            color:  #000000;\n",
       "        }    #T_85ab728b_0632_11eb_9d8f_1062e5670ca3row24_col0 {\n",
       "            background-color:  #f8fdfa;\n",
       "            color:  #000000;\n",
       "        }    #T_85ab728b_0632_11eb_9d8f_1062e5670ca3row25_col0 {\n",
       "            background-color:  #fafdfb;\n",
       "            color:  #000000;\n",
       "        }    #T_85ab728b_0632_11eb_9d8f_1062e5670ca3row26_col0 {\n",
       "            background-color:  #fafdfb;\n",
       "            color:  #000000;\n",
       "        }    #T_85ab728b_0632_11eb_9d8f_1062e5670ca3row27_col0 {\n",
       "            background-color:  #fafdfb;\n",
       "            color:  #000000;\n",
       "        }    #T_85ab728b_0632_11eb_9d8f_1062e5670ca3row28_col0 {\n",
       "            background-color:  #fbfefc;\n",
       "            color:  #000000;\n",
       "        }    #T_85ab728b_0632_11eb_9d8f_1062e5670ca3row29_col0 {\n",
       "            background-color:  #fbfefc;\n",
       "            color:  #000000;\n",
       "        }    #T_85ab728b_0632_11eb_9d8f_1062e5670ca3row30_col0 {\n",
       "            background-color:  #fbfefc;\n",
       "            color:  #000000;\n",
       "        }    #T_85ab728b_0632_11eb_9d8f_1062e5670ca3row31_col0 {\n",
       "            background-color:  #fbfefc;\n",
       "            color:  #000000;\n",
       "        }    #T_85ab728b_0632_11eb_9d8f_1062e5670ca3row32_col0 {\n",
       "            background-color:  #fbfefc;\n",
       "            color:  #000000;\n",
       "        }    #T_85ab728b_0632_11eb_9d8f_1062e5670ca3row33_col0 {\n",
       "            background-color:  #fbfefc;\n",
       "            color:  #000000;\n",
       "        }    #T_85ab728b_0632_11eb_9d8f_1062e5670ca3row34_col0 {\n",
       "            background-color:  #fdfefe;\n",
       "            color:  #000000;\n",
       "        }    #T_85ab728b_0632_11eb_9d8f_1062e5670ca3row35_col0 {\n",
       "            background-color:  #fdfefe;\n",
       "            color:  #000000;\n",
       "        }    #T_85ab728b_0632_11eb_9d8f_1062e5670ca3row36_col0 {\n",
       "            background-color:  #fdfefe;\n",
       "            color:  #000000;\n",
       "        }    #T_85ab728b_0632_11eb_9d8f_1062e5670ca3row37_col0 {\n",
       "            background-color:  #fdfefe;\n",
       "            color:  #000000;\n",
       "        }    #T_85ab728b_0632_11eb_9d8f_1062e5670ca3row38_col0 {\n",
       "            background-color:  #fdfefe;\n",
       "            color:  #000000;\n",
       "        }    #T_85ab728b_0632_11eb_9d8f_1062e5670ca3row39_col0 {\n",
       "            background-color:  #fdfefe;\n",
       "            color:  #000000;\n",
       "        }    #T_85ab728b_0632_11eb_9d8f_1062e5670ca3row40_col0 {\n",
       "            background-color:  #fdfefe;\n",
       "            color:  #000000;\n",
       "        }    #T_85ab728b_0632_11eb_9d8f_1062e5670ca3row41_col0 {\n",
       "            background-color:  #fdfefe;\n",
       "            color:  #000000;\n",
       "        }    #T_85ab728b_0632_11eb_9d8f_1062e5670ca3row42_col0 {\n",
       "            background-color:  #ffffff;\n",
       "            color:  #000000;\n",
       "        }    #T_85ab728b_0632_11eb_9d8f_1062e5670ca3row43_col0 {\n",
       "            background-color:  #ffffff;\n",
       "            color:  #000000;\n",
       "        }    #T_85ab728b_0632_11eb_9d8f_1062e5670ca3row44_col0 {\n",
       "            background-color:  #ffffff;\n",
       "            color:  #000000;\n",
       "        }    #T_85ab728b_0632_11eb_9d8f_1062e5670ca3row45_col0 {\n",
       "            background-color:  #ffffff;\n",
       "            color:  #000000;\n",
       "        }    #T_85ab728b_0632_11eb_9d8f_1062e5670ca3row46_col0 {\n",
       "            background-color:  #ffffff;\n",
       "            color:  #000000;\n",
       "        }    #T_85ab728b_0632_11eb_9d8f_1062e5670ca3row47_col0 {\n",
       "            background-color:  #ffffff;\n",
       "            color:  #000000;\n",
       "        }    #T_85ab728b_0632_11eb_9d8f_1062e5670ca3row48_col0 {\n",
       "            background-color:  #ffffff;\n",
       "            color:  #000000;\n",
       "        }</style><table id=\"T_85ab728b_0632_11eb_9d8f_1062e5670ca3\" ><thead>    <tr>        <th class=\"blank level0\" ></th>        <th class=\"col_heading level0 col0\" >recovered</th>    </tr>    <tr>        <th class=\"index_name level0\" >province</th>        <th class=\"blank\" ></th>    </tr></thead><tbody>\n",
       "                <tr>\n",
       "                        <th id=\"T_85ab728b_0632_11eb_9d8f_1062e5670ca3level0_row0\" class=\"row_heading level0 row0\" >Tokyo</th>\n",
       "                        <td id=\"T_85ab728b_0632_11eb_9d8f_1062e5670ca3row0_col0\" class=\"data row0 col0\" >23430.000000</td>\n",
       "            </tr>\n",
       "            <tr>\n",
       "                        <th id=\"T_85ab728b_0632_11eb_9d8f_1062e5670ca3level0_row1\" class=\"row_heading level0 row1\" >Osaka</th>\n",
       "                        <td id=\"T_85ab728b_0632_11eb_9d8f_1062e5670ca3row1_col0\" class=\"data row1 col0\" >9939.000000</td>\n",
       "            </tr>\n",
       "            <tr>\n",
       "                        <th id=\"T_85ab728b_0632_11eb_9d8f_1062e5670ca3level0_row2\" class=\"row_heading level0 row2\" >Kanagawa</th>\n",
       "                        <td id=\"T_85ab728b_0632_11eb_9d8f_1062e5670ca3row2_col0\" class=\"data row2 col0\" >6328.000000</td>\n",
       "            </tr>\n",
       "            <tr>\n",
       "                        <th id=\"T_85ab728b_0632_11eb_9d8f_1062e5670ca3level0_row3\" class=\"row_heading level0 row3\" >Aichi</th>\n",
       "                        <td id=\"T_85ab728b_0632_11eb_9d8f_1062e5670ca3row3_col0\" class=\"data row3 col0\" >4924.000000</td>\n",
       "            </tr>\n",
       "            <tr>\n",
       "                        <th id=\"T_85ab728b_0632_11eb_9d8f_1062e5670ca3level0_row4\" class=\"row_heading level0 row4\" >Fukuoka</th>\n",
       "                        <td id=\"T_85ab728b_0632_11eb_9d8f_1062e5670ca3row4_col0\" class=\"data row4 col0\" >4855.000000</td>\n",
       "            </tr>\n",
       "            <tr>\n",
       "                        <th id=\"T_85ab728b_0632_11eb_9d8f_1062e5670ca3level0_row5\" class=\"row_heading level0 row5\" >Saitama</th>\n",
       "                        <td id=\"T_85ab728b_0632_11eb_9d8f_1062e5670ca3row5_col0\" class=\"data row5 col0\" >4298.000000</td>\n",
       "            </tr>\n",
       "            <tr>\n",
       "                        <th id=\"T_85ab728b_0632_11eb_9d8f_1062e5670ca3level0_row6\" class=\"row_heading level0 row6\" >Chiba</th>\n",
       "                        <td id=\"T_85ab728b_0632_11eb_9d8f_1062e5670ca3row6_col0\" class=\"data row6 col0\" >3580.000000</td>\n",
       "            </tr>\n",
       "            <tr>\n",
       "                        <th id=\"T_85ab728b_0632_11eb_9d8f_1062e5670ca3level0_row7\" class=\"row_heading level0 row7\" >Hyogo</th>\n",
       "                        <td id=\"T_85ab728b_0632_11eb_9d8f_1062e5670ca3row7_col0\" class=\"data row7 col0\" >2551.000000</td>\n",
       "            </tr>\n",
       "            <tr>\n",
       "                        <th id=\"T_85ab728b_0632_11eb_9d8f_1062e5670ca3level0_row8\" class=\"row_heading level0 row8\" >Okinawa</th>\n",
       "                        <td id=\"T_85ab728b_0632_11eb_9d8f_1062e5670ca3row8_col0\" class=\"data row8 col0\" >2270.000000</td>\n",
       "            </tr>\n",
       "            <tr>\n",
       "                        <th id=\"T_85ab728b_0632_11eb_9d8f_1062e5670ca3level0_row9\" class=\"row_heading level0 row9\" >Hokkaido</th>\n",
       "                        <td id=\"T_85ab728b_0632_11eb_9d8f_1062e5670ca3row9_col0\" class=\"data row9 col0\" >1862.000000</td>\n",
       "            </tr>\n",
       "            <tr>\n",
       "                        <th id=\"T_85ab728b_0632_11eb_9d8f_1062e5670ca3level0_row10\" class=\"row_heading level0 row10\" >Kyoto</th>\n",
       "                        <td id=\"T_85ab728b_0632_11eb_9d8f_1062e5670ca3row10_col0\" class=\"data row10 col0\" >1669.000000</td>\n",
       "            </tr>\n",
       "            <tr>\n",
       "                        <th id=\"T_85ab728b_0632_11eb_9d8f_1062e5670ca3level0_row11\" class=\"row_heading level0 row11\" >Ishikawa</th>\n",
       "                        <td id=\"T_85ab728b_0632_11eb_9d8f_1062e5670ca3row11_col0\" class=\"data row11 col0\" >691.000000</td>\n",
       "            </tr>\n",
       "            <tr>\n",
       "                        <th id=\"T_85ab728b_0632_11eb_9d8f_1062e5670ca3level0_row12\" class=\"row_heading level0 row12\" >Gunma</th>\n",
       "                        <td id=\"T_85ab728b_0632_11eb_9d8f_1062e5670ca3row12_col0\" class=\"data row12 col0\" >644.000000</td>\n",
       "            </tr>\n",
       "            <tr>\n",
       "                        <th id=\"T_85ab728b_0632_11eb_9d8f_1062e5670ca3level0_row13\" class=\"row_heading level0 row13\" >Ibaraki</th>\n",
       "                        <td id=\"T_85ab728b_0632_11eb_9d8f_1062e5670ca3row13_col0\" class=\"data row13 col0\" >606.000000</td>\n",
       "            </tr>\n",
       "            <tr>\n",
       "                        <th id=\"T_85ab728b_0632_11eb_9d8f_1062e5670ca3level0_row14\" class=\"row_heading level0 row14\" >Gifu</th>\n",
       "                        <td id=\"T_85ab728b_0632_11eb_9d8f_1062e5670ca3row14_col0\" class=\"data row14 col0\" >588.000000</td>\n",
       "            </tr>\n",
       "            <tr>\n",
       "                        <th id=\"T_85ab728b_0632_11eb_9d8f_1062e5670ca3level0_row15\" class=\"row_heading level0 row15\" >Kumamoto</th>\n",
       "                        <td id=\"T_85ab728b_0632_11eb_9d8f_1062e5670ca3row15_col0\" class=\"data row15 col0\" >559.000000</td>\n",
       "            </tr>\n",
       "            <tr>\n",
       "                        <th id=\"T_85ab728b_0632_11eb_9d8f_1062e5670ca3level0_row16\" class=\"row_heading level0 row16\" >Nara</th>\n",
       "                        <td id=\"T_85ab728b_0632_11eb_9d8f_1062e5670ca3row16_col0\" class=\"data row16 col0\" >548.000000</td>\n",
       "            </tr>\n",
       "            <tr>\n",
       "                        <th id=\"T_85ab728b_0632_11eb_9d8f_1062e5670ca3level0_row17\" class=\"row_heading level0 row17\" >Shizuoka</th>\n",
       "                        <td id=\"T_85ab728b_0632_11eb_9d8f_1062e5670ca3row17_col0\" class=\"data row17 col0\" >518.000000</td>\n",
       "            </tr>\n",
       "            <tr>\n",
       "                        <th id=\"T_85ab728b_0632_11eb_9d8f_1062e5670ca3level0_row18\" class=\"row_heading level0 row18\" >Port Quarantine</th>\n",
       "                        <td id=\"T_85ab728b_0632_11eb_9d8f_1062e5670ca3row18_col0\" class=\"data row18 col0\" >514.000000</td>\n",
       "            </tr>\n",
       "            <tr>\n",
       "                        <th id=\"T_85ab728b_0632_11eb_9d8f_1062e5670ca3level0_row19\" class=\"row_heading level0 row19\" >Hiroshima</th>\n",
       "                        <td id=\"T_85ab728b_0632_11eb_9d8f_1062e5670ca3row19_col0\" class=\"data row19 col0\" >479.000000</td>\n",
       "            </tr>\n",
       "            <tr>\n",
       "                        <th id=\"T_85ab728b_0632_11eb_9d8f_1062e5670ca3level0_row20\" class=\"row_heading level0 row20\" >Shiga</th>\n",
       "                        <td id=\"T_85ab728b_0632_11eb_9d8f_1062e5670ca3row20_col0\" class=\"data row20 col0\" >468.000000</td>\n",
       "            </tr>\n",
       "            <tr>\n",
       "                        <th id=\"T_85ab728b_0632_11eb_9d8f_1062e5670ca3level0_row21\" class=\"row_heading level0 row21\" >Mie</th>\n",
       "                        <td id=\"T_85ab728b_0632_11eb_9d8f_1062e5670ca3row21_col0\" class=\"data row21 col0\" >418.000000</td>\n",
       "            </tr>\n",
       "            <tr>\n",
       "                        <th id=\"T_85ab728b_0632_11eb_9d8f_1062e5670ca3level0_row22\" class=\"row_heading level0 row22\" >Toyama</th>\n",
       "                        <td id=\"T_85ab728b_0632_11eb_9d8f_1062e5670ca3row22_col0\" class=\"data row22 col0\" >383.000000</td>\n",
       "            </tr>\n",
       "            <tr>\n",
       "                        <th id=\"T_85ab728b_0632_11eb_9d8f_1062e5670ca3level0_row23\" class=\"row_heading level0 row23\" >Tochigi</th>\n",
       "                        <td id=\"T_85ab728b_0632_11eb_9d8f_1062e5670ca3row23_col0\" class=\"data row23 col0\" >383.000000</td>\n",
       "            </tr>\n",
       "            <tr>\n",
       "                        <th id=\"T_85ab728b_0632_11eb_9d8f_1062e5670ca3level0_row24\" class=\"row_heading level0 row24\" >Kagoshima</th>\n",
       "                        <td id=\"T_85ab728b_0632_11eb_9d8f_1062e5670ca3row24_col0\" class=\"data row24 col0\" >379.000000</td>\n",
       "            </tr>\n",
       "            <tr>\n",
       "                        <th id=\"T_85ab728b_0632_11eb_9d8f_1062e5670ca3level0_row25\" class=\"row_heading level0 row25\" >Miyagi</th>\n",
       "                        <td id=\"T_85ab728b_0632_11eb_9d8f_1062e5670ca3row25_col0\" class=\"data row25 col0\" >367.000000</td>\n",
       "            </tr>\n",
       "            <tr>\n",
       "                        <th id=\"T_85ab728b_0632_11eb_9d8f_1062e5670ca3level0_row26\" class=\"row_heading level0 row26\" >Miyazaki</th>\n",
       "                        <td id=\"T_85ab728b_0632_11eb_9d8f_1062e5670ca3row26_col0\" class=\"data row26 col0\" >343.000000</td>\n",
       "            </tr>\n",
       "            <tr>\n",
       "                        <th id=\"T_85ab728b_0632_11eb_9d8f_1062e5670ca3level0_row27\" class=\"row_heading level0 row27\" >Nagano</th>\n",
       "                        <td id=\"T_85ab728b_0632_11eb_9d8f_1062e5670ca3row27_col0\" class=\"data row27 col0\" >307.000000</td>\n",
       "            </tr>\n",
       "            <tr>\n",
       "                        <th id=\"T_85ab728b_0632_11eb_9d8f_1062e5670ca3level0_row28\" class=\"row_heading level0 row28\" >Saga</th>\n",
       "                        <td id=\"T_85ab728b_0632_11eb_9d8f_1062e5670ca3row28_col0\" class=\"data row28 col0\" >246.000000</td>\n",
       "            </tr>\n",
       "            <tr>\n",
       "                        <th id=\"T_85ab728b_0632_11eb_9d8f_1062e5670ca3level0_row29\" class=\"row_heading level0 row29\" >Nagasaki</th>\n",
       "                        <td id=\"T_85ab728b_0632_11eb_9d8f_1062e5670ca3row29_col0\" class=\"data row29 col0\" >232.000000</td>\n",
       "            </tr>\n",
       "            <tr>\n",
       "                        <th id=\"T_85ab728b_0632_11eb_9d8f_1062e5670ca3level0_row30\" class=\"row_heading level0 row30\" >Fukui</th>\n",
       "                        <td id=\"T_85ab728b_0632_11eb_9d8f_1062e5670ca3row30_col0\" class=\"data row30 col0\" >230.000000</td>\n",
       "            </tr>\n",
       "            <tr>\n",
       "                        <th id=\"T_85ab728b_0632_11eb_9d8f_1062e5670ca3level0_row31\" class=\"row_heading level0 row31\" >Wakayama</th>\n",
       "                        <td id=\"T_85ab728b_0632_11eb_9d8f_1062e5670ca3row31_col0\" class=\"data row31 col0\" >229.000000</td>\n",
       "            </tr>\n",
       "            <tr>\n",
       "                        <th id=\"T_85ab728b_0632_11eb_9d8f_1062e5670ca3level0_row32\" class=\"row_heading level0 row32\" >Fukushima</th>\n",
       "                        <td id=\"T_85ab728b_0632_11eb_9d8f_1062e5670ca3row32_col0\" class=\"data row32 col0\" >214.000000</td>\n",
       "            </tr>\n",
       "            <tr>\n",
       "                        <th id=\"T_85ab728b_0632_11eb_9d8f_1062e5670ca3level0_row33\" class=\"row_heading level0 row33\" >Yamaguchi</th>\n",
       "                        <td id=\"T_85ab728b_0632_11eb_9d8f_1062e5670ca3row33_col0\" class=\"data row33 col0\" >191.000000</td>\n",
       "            </tr>\n",
       "            <tr>\n",
       "                        <th id=\"T_85ab728b_0632_11eb_9d8f_1062e5670ca3level0_row34\" class=\"row_heading level0 row34\" >Yamanashi</th>\n",
       "                        <td id=\"T_85ab728b_0632_11eb_9d8f_1062e5670ca3row34_col0\" class=\"data row34 col0\" >172.000000</td>\n",
       "            </tr>\n",
       "            <tr>\n",
       "                        <th id=\"T_85ab728b_0632_11eb_9d8f_1062e5670ca3level0_row35\" class=\"row_heading level0 row35\" >Niigata</th>\n",
       "                        <td id=\"T_85ab728b_0632_11eb_9d8f_1062e5670ca3row35_col0\" class=\"data row35 col0\" >162.000000</td>\n",
       "            </tr>\n",
       "            <tr>\n",
       "                        <th id=\"T_85ab728b_0632_11eb_9d8f_1062e5670ca3level0_row36\" class=\"row_heading level0 row36\" >Oita</th>\n",
       "                        <td id=\"T_85ab728b_0632_11eb_9d8f_1062e5670ca3row36_col0\" class=\"data row36 col0\" >153.000000</td>\n",
       "            </tr>\n",
       "            <tr>\n",
       "                        <th id=\"T_85ab728b_0632_11eb_9d8f_1062e5670ca3level0_row37\" class=\"row_heading level0 row37\" >Okayama</th>\n",
       "                        <td id=\"T_85ab728b_0632_11eb_9d8f_1062e5670ca3row37_col0\" class=\"data row37 col0\" >149.000000</td>\n",
       "            </tr>\n",
       "            <tr>\n",
       "                        <th id=\"T_85ab728b_0632_11eb_9d8f_1062e5670ca3level0_row38\" class=\"row_heading level0 row38\" >Shimane</th>\n",
       "                        <td id=\"T_85ab728b_0632_11eb_9d8f_1062e5670ca3row38_col0\" class=\"data row38 col0\" >139.000000</td>\n",
       "            </tr>\n",
       "            <tr>\n",
       "                        <th id=\"T_85ab728b_0632_11eb_9d8f_1062e5670ca3level0_row39\" class=\"row_heading level0 row39\" >Kochi</th>\n",
       "                        <td id=\"T_85ab728b_0632_11eb_9d8f_1062e5670ca3row39_col0\" class=\"data row39 col0\" >133.000000</td>\n",
       "            </tr>\n",
       "            <tr>\n",
       "                        <th id=\"T_85ab728b_0632_11eb_9d8f_1062e5670ca3level0_row40\" class=\"row_heading level0 row40\" >Tokushima</th>\n",
       "                        <td id=\"T_85ab728b_0632_11eb_9d8f_1062e5670ca3row40_col0\" class=\"data row40 col0\" >128.000000</td>\n",
       "            </tr>\n",
       "            <tr>\n",
       "                        <th id=\"T_85ab728b_0632_11eb_9d8f_1062e5670ca3level0_row41\" class=\"row_heading level0 row41\" >Ehime</th>\n",
       "                        <td id=\"T_85ab728b_0632_11eb_9d8f_1062e5670ca3row41_col0\" class=\"data row41 col0\" >108.000000</td>\n",
       "            </tr>\n",
       "            <tr>\n",
       "                        <th id=\"T_85ab728b_0632_11eb_9d8f_1062e5670ca3level0_row42\" class=\"row_heading level0 row42\" >Kagawa</th>\n",
       "                        <td id=\"T_85ab728b_0632_11eb_9d8f_1062e5670ca3row42_col0\" class=\"data row42 col0\" >88.000000</td>\n",
       "            </tr>\n",
       "            <tr>\n",
       "                        <th id=\"T_85ab728b_0632_11eb_9d8f_1062e5670ca3level0_row43\" class=\"row_heading level0 row43\" >Yamagata</th>\n",
       "                        <td id=\"T_85ab728b_0632_11eb_9d8f_1062e5670ca3row43_col0\" class=\"data row43 col0\" >76.000000</td>\n",
       "            </tr>\n",
       "            <tr>\n",
       "                        <th id=\"T_85ab728b_0632_11eb_9d8f_1062e5670ca3level0_row44\" class=\"row_heading level0 row44\" >Akita</th>\n",
       "                        <td id=\"T_85ab728b_0632_11eb_9d8f_1062e5670ca3row44_col0\" class=\"data row44 col0\" >53.000000</td>\n",
       "            </tr>\n",
       "            <tr>\n",
       "                        <th id=\"T_85ab728b_0632_11eb_9d8f_1062e5670ca3level0_row45\" class=\"row_heading level0 row45\" >Aomori</th>\n",
       "                        <td id=\"T_85ab728b_0632_11eb_9d8f_1062e5670ca3row45_col0\" class=\"data row45 col0\" >34.000000</td>\n",
       "            </tr>\n",
       "            <tr>\n",
       "                        <th id=\"T_85ab728b_0632_11eb_9d8f_1062e5670ca3level0_row46\" class=\"row_heading level0 row46\" >Tottori</th>\n",
       "                        <td id=\"T_85ab728b_0632_11eb_9d8f_1062e5670ca3row46_col0\" class=\"data row46 col0\" >31.000000</td>\n",
       "            </tr>\n",
       "            <tr>\n",
       "                        <th id=\"T_85ab728b_0632_11eb_9d8f_1062e5670ca3level0_row47\" class=\"row_heading level0 row47\" >Iwate</th>\n",
       "                        <td id=\"T_85ab728b_0632_11eb_9d8f_1062e5670ca3row47_col0\" class=\"data row47 col0\" >23.000000</td>\n",
       "            </tr>\n",
       "            <tr>\n",
       "                        <th id=\"T_85ab728b_0632_11eb_9d8f_1062e5670ca3level0_row48\" class=\"row_heading level0 row48\" >Unknown</th>\n",
       "                        <td id=\"T_85ab728b_0632_11eb_9d8f_1062e5670ca3row48_col0\" class=\"data row48 col0\" >8.000000</td>\n",
       "            </tr>\n",
       "    </tbody></table>"
      ],
      "text/plain": [
       "<pandas.io.formats.style.Styler at 0x2a3caeed1f0>"
      ]
     },
     "execution_count": 41,
     "metadata": {},
     "output_type": "execute_result"
    }
   ],
   "source": [
    "#แสดงยอดrecoveredในแต่ละจังหวัดของประเทศญี่ปุ่น\n",
    "D_JP = Data_JP.groupby('province')['recovered'].sum().sort_values(ascending=False).to_frame()\n",
    "D_JP.style.background_gradient(cmap='cubehelix_r')"
   ]
  },
  {
   "cell_type": "code",
   "execution_count": 40,
   "metadata": {},
   "outputs": [
    {
     "data": {
      "text/html": [
       "<style  type=\"text/css\" >\n",
       "    #T_aa2f8e6c_05e9_11eb_9ad9_1062e5670ca3row0_col0 {\n",
       "            background-color:  #000000;\n",
       "            color:  #f1f1f1;\n",
       "        }    #T_aa2f8e6c_05e9_11eb_9ad9_1062e5670ca3row1_col0 {\n",
       "            background-color:  #8d7a3d;\n",
       "            color:  #000000;\n",
       "        }    #T_aa2f8e6c_05e9_11eb_9ad9_1062e5670ca3row2_col0 {\n",
       "            background-color:  #d589b8;\n",
       "            color:  #000000;\n",
       "        }    #T_aa2f8e6c_05e9_11eb_9ad9_1062e5670ca3row3_col0 {\n",
       "            background-color:  #c8afea;\n",
       "            color:  #000000;\n",
       "        }    #T_aa2f8e6c_05e9_11eb_9ad9_1062e5670ca3row4_col0 {\n",
       "            background-color:  #c6b4ee;\n",
       "            color:  #000000;\n",
       "        }    #T_aa2f8e6c_05e9_11eb_9ad9_1062e5670ca3row5_col0 {\n",
       "            background-color:  #c5b8ef;\n",
       "            color:  #000000;\n",
       "        }    #T_aa2f8e6c_05e9_11eb_9ad9_1062e5670ca3row6_col0 {\n",
       "            background-color:  #c1caf3;\n",
       "            color:  #000000;\n",
       "        }    #T_aa2f8e6c_05e9_11eb_9ad9_1062e5670ca3row7_col0 {\n",
       "            background-color:  #c2d4f3;\n",
       "            color:  #000000;\n",
       "        }    #T_aa2f8e6c_05e9_11eb_9ad9_1062e5670ca3row8_col0 {\n",
       "            background-color:  #c6e1f1;\n",
       "            color:  #000000;\n",
       "        }    #T_aa2f8e6c_05e9_11eb_9ad9_1062e5670ca3row9_col0 {\n",
       "            background-color:  #cdeaef;\n",
       "            color:  #000000;\n",
       "        }    #T_aa2f8e6c_05e9_11eb_9ad9_1062e5670ca3row10_col0 {\n",
       "            background-color:  #cfebef;\n",
       "            color:  #000000;\n",
       "        }    #T_aa2f8e6c_05e9_11eb_9ad9_1062e5670ca3row11_col0 {\n",
       "            background-color:  #e2f6f0;\n",
       "            color:  #000000;\n",
       "        }    #T_aa2f8e6c_05e9_11eb_9ad9_1062e5670ca3row12_col0 {\n",
       "            background-color:  #e2f6f0;\n",
       "            color:  #000000;\n",
       "        }    #T_aa2f8e6c_05e9_11eb_9ad9_1062e5670ca3row13_col0 {\n",
       "            background-color:  #ebf9f3;\n",
       "            color:  #000000;\n",
       "        }    #T_aa2f8e6c_05e9_11eb_9ad9_1062e5670ca3row14_col0 {\n",
       "            background-color:  #ebf9f3;\n",
       "            color:  #000000;\n",
       "        }    #T_aa2f8e6c_05e9_11eb_9ad9_1062e5670ca3row15_col0 {\n",
       "            background-color:  #f2fbf6;\n",
       "            color:  #000000;\n",
       "        }    #T_aa2f8e6c_05e9_11eb_9ad9_1062e5670ca3row16_col0 {\n",
       "            background-color:  #f4fcf7;\n",
       "            color:  #000000;\n",
       "        }    #T_aa2f8e6c_05e9_11eb_9ad9_1062e5670ca3row17_col0 {\n",
       "            background-color:  #f4fcf7;\n",
       "            color:  #000000;\n",
       "        }    #T_aa2f8e6c_05e9_11eb_9ad9_1062e5670ca3row18_col0 {\n",
       "            background-color:  #f6fcf8;\n",
       "            color:  #000000;\n",
       "        }    #T_aa2f8e6c_05e9_11eb_9ad9_1062e5670ca3row19_col0 {\n",
       "            background-color:  #f6fcf8;\n",
       "            color:  #000000;\n",
       "        }    #T_aa2f8e6c_05e9_11eb_9ad9_1062e5670ca3row20_col0 {\n",
       "            background-color:  #f6fcf8;\n",
       "            color:  #000000;\n",
       "        }    #T_aa2f8e6c_05e9_11eb_9ad9_1062e5670ca3row21_col0 {\n",
       "            background-color:  #f6fcf8;\n",
       "            color:  #000000;\n",
       "        }    #T_aa2f8e6c_05e9_11eb_9ad9_1062e5670ca3row22_col0 {\n",
       "            background-color:  #fafdfb;\n",
       "            color:  #000000;\n",
       "        }    #T_aa2f8e6c_05e9_11eb_9ad9_1062e5670ca3row23_col0 {\n",
       "            background-color:  #fafdfb;\n",
       "            color:  #000000;\n",
       "        }    #T_aa2f8e6c_05e9_11eb_9ad9_1062e5670ca3row24_col0 {\n",
       "            background-color:  #fafdfb;\n",
       "            color:  #000000;\n",
       "        }    #T_aa2f8e6c_05e9_11eb_9ad9_1062e5670ca3row25_col0 {\n",
       "            background-color:  #fbfefc;\n",
       "            color:  #000000;\n",
       "        }    #T_aa2f8e6c_05e9_11eb_9ad9_1062e5670ca3row26_col0 {\n",
       "            background-color:  #fbfefc;\n",
       "            color:  #000000;\n",
       "        }    #T_aa2f8e6c_05e9_11eb_9ad9_1062e5670ca3row27_col0 {\n",
       "            background-color:  #fdfefe;\n",
       "            color:  #000000;\n",
       "        }    #T_aa2f8e6c_05e9_11eb_9ad9_1062e5670ca3row28_col0 {\n",
       "            background-color:  #fdfefe;\n",
       "            color:  #000000;\n",
       "        }    #T_aa2f8e6c_05e9_11eb_9ad9_1062e5670ca3row29_col0 {\n",
       "            background-color:  #fdfefe;\n",
       "            color:  #000000;\n",
       "        }    #T_aa2f8e6c_05e9_11eb_9ad9_1062e5670ca3row30_col0 {\n",
       "            background-color:  #fdfefe;\n",
       "            color:  #000000;\n",
       "        }    #T_aa2f8e6c_05e9_11eb_9ad9_1062e5670ca3row31_col0 {\n",
       "            background-color:  #fdfefe;\n",
       "            color:  #000000;\n",
       "        }    #T_aa2f8e6c_05e9_11eb_9ad9_1062e5670ca3row32_col0 {\n",
       "            background-color:  #fdfefe;\n",
       "            color:  #000000;\n",
       "        }    #T_aa2f8e6c_05e9_11eb_9ad9_1062e5670ca3row33_col0 {\n",
       "            background-color:  #fdfefe;\n",
       "            color:  #000000;\n",
       "        }    #T_aa2f8e6c_05e9_11eb_9ad9_1062e5670ca3row34_col0 {\n",
       "            background-color:  #fdfefe;\n",
       "            color:  #000000;\n",
       "        }    #T_aa2f8e6c_05e9_11eb_9ad9_1062e5670ca3row35_col0 {\n",
       "            background-color:  #ffffff;\n",
       "            color:  #000000;\n",
       "        }    #T_aa2f8e6c_05e9_11eb_9ad9_1062e5670ca3row36_col0 {\n",
       "            background-color:  #ffffff;\n",
       "            color:  #000000;\n",
       "        }    #T_aa2f8e6c_05e9_11eb_9ad9_1062e5670ca3row37_col0 {\n",
       "            background-color:  #ffffff;\n",
       "            color:  #000000;\n",
       "        }    #T_aa2f8e6c_05e9_11eb_9ad9_1062e5670ca3row38_col0 {\n",
       "            background-color:  #ffffff;\n",
       "            color:  #000000;\n",
       "        }    #T_aa2f8e6c_05e9_11eb_9ad9_1062e5670ca3row39_col0 {\n",
       "            background-color:  #ffffff;\n",
       "            color:  #000000;\n",
       "        }    #T_aa2f8e6c_05e9_11eb_9ad9_1062e5670ca3row40_col0 {\n",
       "            background-color:  #ffffff;\n",
       "            color:  #000000;\n",
       "        }    #T_aa2f8e6c_05e9_11eb_9ad9_1062e5670ca3row41_col0 {\n",
       "            background-color:  #ffffff;\n",
       "            color:  #000000;\n",
       "        }    #T_aa2f8e6c_05e9_11eb_9ad9_1062e5670ca3row42_col0 {\n",
       "            background-color:  #ffffff;\n",
       "            color:  #000000;\n",
       "        }    #T_aa2f8e6c_05e9_11eb_9ad9_1062e5670ca3row43_col0 {\n",
       "            background-color:  #ffffff;\n",
       "            color:  #000000;\n",
       "        }    #T_aa2f8e6c_05e9_11eb_9ad9_1062e5670ca3row44_col0 {\n",
       "            background-color:  #ffffff;\n",
       "            color:  #000000;\n",
       "        }    #T_aa2f8e6c_05e9_11eb_9ad9_1062e5670ca3row45_col0 {\n",
       "            background-color:  #ffffff;\n",
       "            color:  #000000;\n",
       "        }    #T_aa2f8e6c_05e9_11eb_9ad9_1062e5670ca3row46_col0 {\n",
       "            background-color:  #ffffff;\n",
       "            color:  #000000;\n",
       "        }    #T_aa2f8e6c_05e9_11eb_9ad9_1062e5670ca3row47_col0 {\n",
       "            background-color:  #ffffff;\n",
       "            color:  #000000;\n",
       "        }    #T_aa2f8e6c_05e9_11eb_9ad9_1062e5670ca3row48_col0 {\n",
       "            background-color:  #ffffff;\n",
       "            color:  #000000;\n",
       "        }</style><table id=\"T_aa2f8e6c_05e9_11eb_9ad9_1062e5670ca3\" ><thead>    <tr>        <th class=\"blank level0\" ></th>        <th class=\"col_heading level0 col0\" >deaths</th>    </tr>    <tr>        <th class=\"index_name level0\" >province</th>        <th class=\"blank\" ></th>    </tr></thead><tbody>\n",
       "                <tr>\n",
       "                        <th id=\"T_aa2f8e6c_05e9_11eb_9ad9_1062e5670ca3level0_row0\" class=\"row_heading level0 row0\" >Tokyo</th>\n",
       "                        <td id=\"T_aa2f8e6c_05e9_11eb_9ad9_1062e5670ca3row0_col0\" class=\"data row0 col0\" >409</td>\n",
       "            </tr>\n",
       "            <tr>\n",
       "                        <th id=\"T_aa2f8e6c_05e9_11eb_9ad9_1062e5670ca3level0_row1\" class=\"row_heading level0 row1\" >Osaka</th>\n",
       "                        <td id=\"T_aa2f8e6c_05e9_11eb_9ad9_1062e5670ca3row1_col0\" class=\"data row1 col0\" >215</td>\n",
       "            </tr>\n",
       "            <tr>\n",
       "                        <th id=\"T_aa2f8e6c_05e9_11eb_9ad9_1062e5670ca3level0_row2\" class=\"row_heading level0 row2\" >Kanagawa</th>\n",
       "                        <td id=\"T_aa2f8e6c_05e9_11eb_9ad9_1062e5670ca3row2_col0\" class=\"data row2 col0\" >144</td>\n",
       "            </tr>\n",
       "            <tr>\n",
       "                        <th id=\"T_aa2f8e6c_05e9_11eb_9ad9_1062e5670ca3level0_row3\" class=\"row_heading level0 row3\" >Hokkaido</th>\n",
       "                        <td id=\"T_aa2f8e6c_05e9_11eb_9ad9_1062e5670ca3row3_col0\" class=\"data row3 col0\" >107</td>\n",
       "            </tr>\n",
       "            <tr>\n",
       "                        <th id=\"T_aa2f8e6c_05e9_11eb_9ad9_1062e5670ca3level0_row4\" class=\"row_heading level0 row4\" >Saitama</th>\n",
       "                        <td id=\"T_aa2f8e6c_05e9_11eb_9ad9_1062e5670ca3row4_col0\" class=\"data row4 col0\" >102</td>\n",
       "            </tr>\n",
       "            <tr>\n",
       "                        <th id=\"T_aa2f8e6c_05e9_11eb_9ad9_1062e5670ca3level0_row5\" class=\"row_heading level0 row5\" >Fukuoka</th>\n",
       "                        <td id=\"T_aa2f8e6c_05e9_11eb_9ad9_1062e5670ca3row5_col0\" class=\"data row5 col0\" >99</td>\n",
       "            </tr>\n",
       "            <tr>\n",
       "                        <th id=\"T_aa2f8e6c_05e9_11eb_9ad9_1062e5670ca3level0_row6\" class=\"row_heading level0 row6\" >Aichi</th>\n",
       "                        <td id=\"T_aa2f8e6c_05e9_11eb_9ad9_1062e5670ca3row6_col0\" class=\"data row6 col0\" >83</td>\n",
       "            </tr>\n",
       "            <tr>\n",
       "                        <th id=\"T_aa2f8e6c_05e9_11eb_9ad9_1062e5670ca3level0_row7\" class=\"row_heading level0 row7\" >Chiba</th>\n",
       "                        <td id=\"T_aa2f8e6c_05e9_11eb_9ad9_1062e5670ca3row7_col0\" class=\"data row7 col0\" >72</td>\n",
       "            </tr>\n",
       "            <tr>\n",
       "                        <th id=\"T_aa2f8e6c_05e9_11eb_9ad9_1062e5670ca3level0_row8\" class=\"row_heading level0 row8\" >Hyogo</th>\n",
       "                        <td id=\"T_aa2f8e6c_05e9_11eb_9ad9_1062e5670ca3row8_col0\" class=\"data row8 col0\" >59</td>\n",
       "            </tr>\n",
       "            <tr>\n",
       "                        <th id=\"T_aa2f8e6c_05e9_11eb_9ad9_1062e5670ca3level0_row9\" class=\"row_heading level0 row9\" >Ishikawa</th>\n",
       "                        <td id=\"T_aa2f8e6c_05e9_11eb_9ad9_1062e5670ca3row9_col0\" class=\"data row9 col0\" >47</td>\n",
       "            </tr>\n",
       "            <tr>\n",
       "                        <th id=\"T_aa2f8e6c_05e9_11eb_9ad9_1062e5670ca3level0_row10\" class=\"row_heading level0 row10\" >Okinawa</th>\n",
       "                        <td id=\"T_aa2f8e6c_05e9_11eb_9ad9_1062e5670ca3row10_col0\" class=\"data row10 col0\" >46</td>\n",
       "            </tr>\n",
       "            <tr>\n",
       "                        <th id=\"T_aa2f8e6c_05e9_11eb_9ad9_1062e5670ca3level0_row11\" class=\"row_heading level0 row11\" >Kyoto</th>\n",
       "                        <td id=\"T_aa2f8e6c_05e9_11eb_9ad9_1062e5670ca3row11_col0\" class=\"data row11 col0\" >26</td>\n",
       "            </tr>\n",
       "            <tr>\n",
       "                        <th id=\"T_aa2f8e6c_05e9_11eb_9ad9_1062e5670ca3level0_row12\" class=\"row_heading level0 row12\" >Toyama</th>\n",
       "                        <td id=\"T_aa2f8e6c_05e9_11eb_9ad9_1062e5670ca3row12_col0\" class=\"data row12 col0\" >26</td>\n",
       "            </tr>\n",
       "            <tr>\n",
       "                        <th id=\"T_aa2f8e6c_05e9_11eb_9ad9_1062e5670ca3level0_row13\" class=\"row_heading level0 row13\" >Gunma</th>\n",
       "                        <td id=\"T_aa2f8e6c_05e9_11eb_9ad9_1062e5670ca3row13_col0\" class=\"data row13 col0\" >19</td>\n",
       "            </tr>\n",
       "            <tr>\n",
       "                        <th id=\"T_aa2f8e6c_05e9_11eb_9ad9_1062e5670ca3level0_row14\" class=\"row_heading level0 row14\" >Ibaraki</th>\n",
       "                        <td id=\"T_aa2f8e6c_05e9_11eb_9ad9_1062e5670ca3row14_col0\" class=\"data row14 col0\" >18</td>\n",
       "            </tr>\n",
       "            <tr>\n",
       "                        <th id=\"T_aa2f8e6c_05e9_11eb_9ad9_1062e5670ca3level0_row15\" class=\"row_heading level0 row15\" >Kagoshima</th>\n",
       "                        <td id=\"T_aa2f8e6c_05e9_11eb_9ad9_1062e5670ca3row15_col0\" class=\"data row15 col0\" >12</td>\n",
       "            </tr>\n",
       "            <tr>\n",
       "                        <th id=\"T_aa2f8e6c_05e9_11eb_9ad9_1062e5670ca3level0_row16\" class=\"row_heading level0 row16\" >Fukui</th>\n",
       "                        <td id=\"T_aa2f8e6c_05e9_11eb_9ad9_1062e5670ca3row16_col0\" class=\"data row16 col0\" >11</td>\n",
       "            </tr>\n",
       "            <tr>\n",
       "                        <th id=\"T_aa2f8e6c_05e9_11eb_9ad9_1062e5670ca3level0_row17\" class=\"row_heading level0 row17\" >Gifu</th>\n",
       "                        <td id=\"T_aa2f8e6c_05e9_11eb_9ad9_1062e5670ca3row17_col0\" class=\"data row17 col0\" >10</td>\n",
       "            </tr>\n",
       "            <tr>\n",
       "                        <th id=\"T_aa2f8e6c_05e9_11eb_9ad9_1062e5670ca3level0_row18\" class=\"row_heading level0 row18\" >Tokushima</th>\n",
       "                        <td id=\"T_aa2f8e6c_05e9_11eb_9ad9_1062e5670ca3row18_col0\" class=\"data row18 col0\" >9</td>\n",
       "            </tr>\n",
       "            <tr>\n",
       "                        <th id=\"T_aa2f8e6c_05e9_11eb_9ad9_1062e5670ca3level0_row19\" class=\"row_heading level0 row19\" >Nara</th>\n",
       "                        <td id=\"T_aa2f8e6c_05e9_11eb_9ad9_1062e5670ca3row19_col0\" class=\"data row19 col0\" >9</td>\n",
       "            </tr>\n",
       "            <tr>\n",
       "                        <th id=\"T_aa2f8e6c_05e9_11eb_9ad9_1062e5670ca3level0_row20\" class=\"row_heading level0 row20\" >Kumamoto</th>\n",
       "                        <td id=\"T_aa2f8e6c_05e9_11eb_9ad9_1062e5670ca3row20_col0\" class=\"data row20 col0\" >8</td>\n",
       "            </tr>\n",
       "            <tr>\n",
       "                        <th id=\"T_aa2f8e6c_05e9_11eb_9ad9_1062e5670ca3level0_row21\" class=\"row_heading level0 row21\" >Shiga</th>\n",
       "                        <td id=\"T_aa2f8e6c_05e9_11eb_9ad9_1062e5670ca3row21_col0\" class=\"data row21 col0\" >8</td>\n",
       "            </tr>\n",
       "            <tr>\n",
       "                        <th id=\"T_aa2f8e6c_05e9_11eb_9ad9_1062e5670ca3level0_row22\" class=\"row_heading level0 row22\" >Mie</th>\n",
       "                        <td id=\"T_aa2f8e6c_05e9_11eb_9ad9_1062e5670ca3row22_col0\" class=\"data row22 col0\" >6</td>\n",
       "            </tr>\n",
       "            <tr>\n",
       "                        <th id=\"T_aa2f8e6c_05e9_11eb_9ad9_1062e5670ca3level0_row23\" class=\"row_heading level0 row23\" >Ehime</th>\n",
       "                        <td id=\"T_aa2f8e6c_05e9_11eb_9ad9_1062e5670ca3row23_col0\" class=\"data row23 col0\" >6</td>\n",
       "            </tr>\n",
       "            <tr>\n",
       "                        <th id=\"T_aa2f8e6c_05e9_11eb_9ad9_1062e5670ca3level0_row24\" class=\"row_heading level0 row24\" >Yamanashi</th>\n",
       "                        <td id=\"T_aa2f8e6c_05e9_11eb_9ad9_1062e5670ca3row24_col0\" class=\"data row24 col0\" >6</td>\n",
       "            </tr>\n",
       "            <tr>\n",
       "                        <th id=\"T_aa2f8e6c_05e9_11eb_9ad9_1062e5670ca3level0_row25\" class=\"row_heading level0 row25\" >Kochi</th>\n",
       "                        <td id=\"T_aa2f8e6c_05e9_11eb_9ad9_1062e5670ca3row25_col0\" class=\"data row25 col0\" >4</td>\n",
       "            </tr>\n",
       "            <tr>\n",
       "                        <th id=\"T_aa2f8e6c_05e9_11eb_9ad9_1062e5670ca3level0_row26\" class=\"row_heading level0 row26\" >Wakayama</th>\n",
       "                        <td id=\"T_aa2f8e6c_05e9_11eb_9ad9_1062e5670ca3row26_col0\" class=\"data row26 col0\" >4</td>\n",
       "            </tr>\n",
       "            <tr>\n",
       "                        <th id=\"T_aa2f8e6c_05e9_11eb_9ad9_1062e5670ca3level0_row27\" class=\"row_heading level0 row27\" >Hiroshima</th>\n",
       "                        <td id=\"T_aa2f8e6c_05e9_11eb_9ad9_1062e5670ca3row27_col0\" class=\"data row27 col0\" >3</td>\n",
       "            </tr>\n",
       "            <tr>\n",
       "                        <th id=\"T_aa2f8e6c_05e9_11eb_9ad9_1062e5670ca3level0_row28\" class=\"row_heading level0 row28\" >Nagasaki</th>\n",
       "                        <td id=\"T_aa2f8e6c_05e9_11eb_9ad9_1062e5670ca3row28_col0\" class=\"data row28 col0\" >3</td>\n",
       "            </tr>\n",
       "            <tr>\n",
       "                        <th id=\"T_aa2f8e6c_05e9_11eb_9ad9_1062e5670ca3level0_row29\" class=\"row_heading level0 row29\" >Fukushima</th>\n",
       "                        <td id=\"T_aa2f8e6c_05e9_11eb_9ad9_1062e5670ca3row29_col0\" class=\"data row29 col0\" >3</td>\n",
       "            </tr>\n",
       "            <tr>\n",
       "                        <th id=\"T_aa2f8e6c_05e9_11eb_9ad9_1062e5670ca3level0_row30\" class=\"row_heading level0 row30\" >Miyagi</th>\n",
       "                        <td id=\"T_aa2f8e6c_05e9_11eb_9ad9_1062e5670ca3row30_col0\" class=\"data row30 col0\" >2</td>\n",
       "            </tr>\n",
       "            <tr>\n",
       "                        <th id=\"T_aa2f8e6c_05e9_11eb_9ad9_1062e5670ca3level0_row31\" class=\"row_heading level0 row31\" >Oita</th>\n",
       "                        <td id=\"T_aa2f8e6c_05e9_11eb_9ad9_1062e5670ca3row31_col0\" class=\"data row31 col0\" >2</td>\n",
       "            </tr>\n",
       "            <tr>\n",
       "                        <th id=\"T_aa2f8e6c_05e9_11eb_9ad9_1062e5670ca3level0_row32\" class=\"row_heading level0 row32\" >Kagawa</th>\n",
       "                        <td id=\"T_aa2f8e6c_05e9_11eb_9ad9_1062e5670ca3row32_col0\" class=\"data row32 col0\" >2</td>\n",
       "            </tr>\n",
       "            <tr>\n",
       "                        <th id=\"T_aa2f8e6c_05e9_11eb_9ad9_1062e5670ca3level0_row33\" class=\"row_heading level0 row33\" >Shizuoka</th>\n",
       "                        <td id=\"T_aa2f8e6c_05e9_11eb_9ad9_1062e5670ca3row33_col0\" class=\"data row33 col0\" >2</td>\n",
       "            </tr>\n",
       "            <tr>\n",
       "                        <th id=\"T_aa2f8e6c_05e9_11eb_9ad9_1062e5670ca3level0_row34\" class=\"row_heading level0 row34\" >Yamaguchi</th>\n",
       "                        <td id=\"T_aa2f8e6c_05e9_11eb_9ad9_1062e5670ca3row34_col0\" class=\"data row34 col0\" >2</td>\n",
       "            </tr>\n",
       "            <tr>\n",
       "                        <th id=\"T_aa2f8e6c_05e9_11eb_9ad9_1062e5670ca3level0_row35\" class=\"row_heading level0 row35\" >Aomori</th>\n",
       "                        <td id=\"T_aa2f8e6c_05e9_11eb_9ad9_1062e5670ca3row35_col0\" class=\"data row35 col0\" >1</td>\n",
       "            </tr>\n",
       "            <tr>\n",
       "                        <th id=\"T_aa2f8e6c_05e9_11eb_9ad9_1062e5670ca3level0_row36\" class=\"row_heading level0 row36\" >Yamagata</th>\n",
       "                        <td id=\"T_aa2f8e6c_05e9_11eb_9ad9_1062e5670ca3row36_col0\" class=\"data row36 col0\" >1</td>\n",
       "            </tr>\n",
       "            <tr>\n",
       "                        <th id=\"T_aa2f8e6c_05e9_11eb_9ad9_1062e5670ca3level0_row37\" class=\"row_heading level0 row37\" >Tochigi</th>\n",
       "                        <td id=\"T_aa2f8e6c_05e9_11eb_9ad9_1062e5670ca3row37_col0\" class=\"data row37 col0\" >1</td>\n",
       "            </tr>\n",
       "            <tr>\n",
       "                        <th id=\"T_aa2f8e6c_05e9_11eb_9ad9_1062e5670ca3level0_row38\" class=\"row_heading level0 row38\" >Miyazaki</th>\n",
       "                        <td id=\"T_aa2f8e6c_05e9_11eb_9ad9_1062e5670ca3row38_col0\" class=\"data row38 col0\" >1</td>\n",
       "            </tr>\n",
       "            <tr>\n",
       "                        <th id=\"T_aa2f8e6c_05e9_11eb_9ad9_1062e5670ca3level0_row39\" class=\"row_heading level0 row39\" >Port Quarantine</th>\n",
       "                        <td id=\"T_aa2f8e6c_05e9_11eb_9ad9_1062e5670ca3row39_col0\" class=\"data row39 col0\" >1</td>\n",
       "            </tr>\n",
       "            <tr>\n",
       "                        <th id=\"T_aa2f8e6c_05e9_11eb_9ad9_1062e5670ca3level0_row40\" class=\"row_heading level0 row40\" >Okayama</th>\n",
       "                        <td id=\"T_aa2f8e6c_05e9_11eb_9ad9_1062e5670ca3row40_col0\" class=\"data row40 col0\" >1</td>\n",
       "            </tr>\n",
       "            <tr>\n",
       "                        <th id=\"T_aa2f8e6c_05e9_11eb_9ad9_1062e5670ca3level0_row41\" class=\"row_heading level0 row41\" >Nagano</th>\n",
       "                        <td id=\"T_aa2f8e6c_05e9_11eb_9ad9_1062e5670ca3row41_col0\" class=\"data row41 col0\" >1</td>\n",
       "            </tr>\n",
       "            <tr>\n",
       "                        <th id=\"T_aa2f8e6c_05e9_11eb_9ad9_1062e5670ca3level0_row42\" class=\"row_heading level0 row42\" >Saga</th>\n",
       "                        <td id=\"T_aa2f8e6c_05e9_11eb_9ad9_1062e5670ca3row42_col0\" class=\"data row42 col0\" >0</td>\n",
       "            </tr>\n",
       "            <tr>\n",
       "                        <th id=\"T_aa2f8e6c_05e9_11eb_9ad9_1062e5670ca3level0_row43\" class=\"row_heading level0 row43\" >Tottori</th>\n",
       "                        <td id=\"T_aa2f8e6c_05e9_11eb_9ad9_1062e5670ca3row43_col0\" class=\"data row43 col0\" >0</td>\n",
       "            </tr>\n",
       "            <tr>\n",
       "                        <th id=\"T_aa2f8e6c_05e9_11eb_9ad9_1062e5670ca3level0_row44\" class=\"row_heading level0 row44\" >Unknown</th>\n",
       "                        <td id=\"T_aa2f8e6c_05e9_11eb_9ad9_1062e5670ca3row44_col0\" class=\"data row44 col0\" >0</td>\n",
       "            </tr>\n",
       "            <tr>\n",
       "                        <th id=\"T_aa2f8e6c_05e9_11eb_9ad9_1062e5670ca3level0_row45\" class=\"row_heading level0 row45\" >Iwate</th>\n",
       "                        <td id=\"T_aa2f8e6c_05e9_11eb_9ad9_1062e5670ca3row45_col0\" class=\"data row45 col0\" >0</td>\n",
       "            </tr>\n",
       "            <tr>\n",
       "                        <th id=\"T_aa2f8e6c_05e9_11eb_9ad9_1062e5670ca3level0_row46\" class=\"row_heading level0 row46\" >Niigata</th>\n",
       "                        <td id=\"T_aa2f8e6c_05e9_11eb_9ad9_1062e5670ca3row46_col0\" class=\"data row46 col0\" >0</td>\n",
       "            </tr>\n",
       "            <tr>\n",
       "                        <th id=\"T_aa2f8e6c_05e9_11eb_9ad9_1062e5670ca3level0_row47\" class=\"row_heading level0 row47\" >Akita</th>\n",
       "                        <td id=\"T_aa2f8e6c_05e9_11eb_9ad9_1062e5670ca3row47_col0\" class=\"data row47 col0\" >0</td>\n",
       "            </tr>\n",
       "            <tr>\n",
       "                        <th id=\"T_aa2f8e6c_05e9_11eb_9ad9_1062e5670ca3level0_row48\" class=\"row_heading level0 row48\" >Shimane</th>\n",
       "                        <td id=\"T_aa2f8e6c_05e9_11eb_9ad9_1062e5670ca3row48_col0\" class=\"data row48 col0\" >0</td>\n",
       "            </tr>\n",
       "    </tbody></table>"
      ],
      "text/plain": [
       "<pandas.io.formats.style.Styler at 0x173efebff70>"
      ]
     },
     "execution_count": 40,
     "metadata": {},
     "output_type": "execute_result"
    }
   ],
   "source": [
    "#แสดงยอดผู้เสียชีวิตในแต่ละจังหวัดของประเทศญี่ปุ่น\n",
    "D_JP = Data_JP.groupby('province')['deaths'].sum().sort_values(ascending=False).to_frame()\n",
    "D_JP.style.background_gradient(cmap='cubehelix_r')"
   ]
  },
  {
   "cell_type": "code",
   "execution_count": 74,
   "metadata": {
    "scrolled": true
   },
   "outputs": [
    {
     "data": {
      "image/png": "[encoded data removed]",
      "text/plain": [
       "<Figure size 864x576 with 1 Axes>"
      ]
     },
     "metadata": {
      "needs_background": "light"
     },
     "output_type": "display_data"
    }
   ],
   "source": [
    "#ทำ stack bar chart เพื่อเปรียบเทียบระหว่างยอดผู้ติดเชื้อ-และได้รับการรักษาจนหายดี\n",
    "f, ax = plt.subplots(figsize=(12, 8))\n",
    "dt = Data_JP[['confirmed','deaths','recovered']]\n",
    "Data_JP.sort_values('confirmed',ascending=False,inplace=True)\n",
    "sns.set_color_codes(\"pastel\")\n",
    "sns.barplot(x=\"confirmed\", y=\"province\", data=Data_JP,\n",
    "            label=\"Confirmed-case\", color=\"#931a25\")\n",
    "\n",
    "sns.set_color_codes(\"muted\")\n",
    "sns.barplot(x=\"recovered\", y=\"province\", data=Data_JP,\n",
    "            label=\"Recovered-case\", color=\"#a6f6f1\")\n",
    "\n",
    "\n",
    "ax.legend(ncol=2, loc=\"lower right\", frameon=True)\n",
    "ax.set(xlim=(0, 10000), ylabel=\"Province in Japan\",\n",
    "       xlabel=\"Case\")\n",
    "sns.despine(left=True, bottom=True)"
   ]
  },
  {
   "cell_type": "markdown",
   "metadata": {},
   "source": [
    "## สรุปผล\n",
    "        ช่วงเวลาก่อนหน้าการเกิดการแพร่ระบาดของ covid-19 ในญี่ปุ่น ประชาชนได้มีการสวมหน้ากากอนามัยกันเป็นประจำอยู่แล้ว จึงส่งผลให้เกิดการเคยชินในการใส่หน้ากากอนามัย ถึงแม้จะไม่ได้มีมาตาการการล็อคดาวน์ที่เข้มงวดจากรัฐบาลแต่คนญี่ปุ่นก็ยังปฏิบัติตามอย่างเข้มงวด\n",
    "        เมื่อดู stack bar charts เปรียบเทียบยอดconfirmedกับ recovered พบว่า ญี่ปุ่นสามารถทำการรักษาผู้ติดเชื้อได้และมียอดผู้เสียชีวิตที่น้อยเมื่อเทียบกับยอดผู้ติดเชื้อในแต่ละเมือง \n",
    "        เช่น Tokyo มียอดผู้ติดเชื้อ 25,986 คน สามารถรักษาให้หายได้ 23,147 คน และมียอดผู้เสียชีวิต 409 คน ซึ่งส่งผลมาจากระบบสาธารสุขที่ดี"
   ]
  },
  {
   "cell_type": "markdown",
   "metadata": {},
   "source": [
    "## Top 20 Covid - 19 by City and Province"
   ]
  },
  {
   "cell_type": "code",
   "execution_count": 43,
   "metadata": {
    "scrolled": true
   },
   "outputs": [
    {
     "data": {
      "text/html": [
       "<div>\n",
       "<style scoped>\n",
       "    .dataframe tbody tr th:only-of-type {\n",
       "        vertical-align: middle;\n",
       "    }\n",
       "\n",
       "    .dataframe tbody tr th {\n",
       "        vertical-align: top;\n",
       "    }\n",
       "\n",
       "    .dataframe thead th {\n",
       "        text-align: right;\n",
       "    }\n",
       "</style>\n",
       "<table border=\"1\" class=\"dataframe\">\n",
       "  <thead>\n",
       "    <tr style=\"text-align: right;\">\n",
       "      <th></th>\n",
       "      <th>province</th>\n",
       "      <th>confirmed</th>\n",
       "    </tr>\n",
       "  </thead>\n",
       "  <tbody>\n",
       "    <tr>\n",
       "      <th>0</th>\n",
       "      <td>Maharashtra</td>\n",
       "      <td>1430861</td>\n",
       "    </tr>\n",
       "    <tr>\n",
       "      <th>1</th>\n",
       "      <td>Sao Paulo</td>\n",
       "      <td>1003429</td>\n",
       "    </tr>\n",
       "    <tr>\n",
       "      <th>2</th>\n",
       "      <td>California</td>\n",
       "      <td>829521</td>\n",
       "    </tr>\n",
       "    <tr>\n",
       "      <th>3</th>\n",
       "      <td>Texas</td>\n",
       "      <td>787425</td>\n",
       "    </tr>\n",
       "    <tr>\n",
       "      <th>4</th>\n",
       "      <td>Florida</td>\n",
       "      <td>714591</td>\n",
       "    </tr>\n",
       "    <tr>\n",
       "      <th>5</th>\n",
       "      <td>Andhra Pradesh</td>\n",
       "      <td>713014</td>\n",
       "    </tr>\n",
       "    <tr>\n",
       "      <th>6</th>\n",
       "      <td>Karnataka</td>\n",
       "      <td>630516</td>\n",
       "    </tr>\n",
       "    <tr>\n",
       "      <th>7</th>\n",
       "      <td>Tamil Nadu</td>\n",
       "      <td>614507</td>\n",
       "    </tr>\n",
       "    <tr>\n",
       "      <th>8</th>\n",
       "      <td>New York</td>\n",
       "      <td>463360</td>\n",
       "    </tr>\n",
       "    <tr>\n",
       "      <th>9</th>\n",
       "      <td>Uttar Pradesh</td>\n",
       "      <td>410626</td>\n",
       "    </tr>\n",
       "    <tr>\n",
       "      <th>10</th>\n",
       "      <td>England</td>\n",
       "      <td>409534</td>\n",
       "    </tr>\n",
       "    <tr>\n",
       "      <th>11</th>\n",
       "      <td>Lima</td>\n",
       "      <td>373982</td>\n",
       "    </tr>\n",
       "    <tr>\n",
       "      <th>12</th>\n",
       "      <td>Georgia</td>\n",
       "      <td>322169</td>\n",
       "    </tr>\n",
       "    <tr>\n",
       "      <th>13</th>\n",
       "      <td>Bahia</td>\n",
       "      <td>314711</td>\n",
       "    </tr>\n",
       "    <tr>\n",
       "      <th>14</th>\n",
       "      <td>Minas Gerais</td>\n",
       "      <td>305527</td>\n",
       "    </tr>\n",
       "    <tr>\n",
       "      <th>15</th>\n",
       "      <td>Illinois</td>\n",
       "      <td>302782</td>\n",
       "    </tr>\n",
       "    <tr>\n",
       "      <th>16</th>\n",
       "      <td>Moscow</td>\n",
       "      <td>300613</td>\n",
       "    </tr>\n",
       "    <tr>\n",
       "      <th>17</th>\n",
       "      <td>Delhi</td>\n",
       "      <td>287930</td>\n",
       "    </tr>\n",
       "    <tr>\n",
       "      <th>18</th>\n",
       "      <td>Metropolitana</td>\n",
       "      <td>287903</td>\n",
       "    </tr>\n",
       "    <tr>\n",
       "      <th>19</th>\n",
       "      <td>Capital District</td>\n",
       "      <td>273481</td>\n",
       "    </tr>\n",
       "  </tbody>\n",
       "</table>\n",
       "</div>"
      ],
      "text/plain": [
       "            province  confirmed\n",
       "0        Maharashtra    1430861\n",
       "1          Sao Paulo    1003429\n",
       "2         California     829521\n",
       "3              Texas     787425\n",
       "4            Florida     714591\n",
       "5     Andhra Pradesh     713014\n",
       "6          Karnataka     630516\n",
       "7         Tamil Nadu     614507\n",
       "8           New York     463360\n",
       "9      Uttar Pradesh     410626\n",
       "10           England     409534\n",
       "11              Lima     373982\n",
       "12           Georgia     322169\n",
       "13             Bahia     314711\n",
       "14      Minas Gerais     305527\n",
       "15          Illinois     302782\n",
       "16            Moscow     300613\n",
       "17             Delhi     287930\n",
       "18     Metropolitana     287903\n",
       "19  Capital District     273481"
      ]
     },
     "execution_count": 43,
     "metadata": {},
     "output_type": "execute_result"
    }
   ],
   "source": [
    "#จำนวน confirmed , deaths ในแต่ละprovince\n",
    "Data_province = df.groupby([\"province\"])[\"confirmed\"].sum().reset_index().sort_values(\"confirmed\",ascending=False).reset_index(drop=True)\n",
    "Data_province.head(20)"
   ]
  },
  {
   "cell_type": "code",
   "execution_count": 75,
   "metadata": {
    "scrolled": true
   },
   "outputs": [
    {
     "data": {
      "application/vnd.plotly.v1+json": {
       "config": {
        "plotlyServerURL": "https://plot.ly"
       },
       "data": [
        {
         "labels": [
          "Maharashtra",
          "Sao Paulo",
          "California",
          "Texas",
          "Florida",
          "Andhra Pradesh",
          "Karnataka",
          "Tamil Nadu",
          "New York",
          "Uttar Pradesh",
          "England",
          "Lima",
          "Georgia",
          "Bahia",
          "Minas Gerais",
          "Illinois",
          "Moscow",
          "Delhi",
          "Metropolitana",
          "Capital District"
         ],
         "marker": {
          "colorscale": [
           [
            0,
            "rgb(254, 246, 181)"
           ],
           [
            0.16666666666666666,
            "rgb(255, 221, 154)"
           ],
           [
            0.3333333333333333,
            "rgb(255, 194, 133)"
           ],
           [
            0.5,
            "rgb(255, 166, 121)"
           ],
           [
            0.6666666666666666,
            "rgb(250, 138, 118)"
           ],
           [
            0.8333333333333334,
            "rgb(241, 109, 122)"
           ],
           [
            1,
            "rgb(225, 83, 131)"
           ]
          ]
         },
         "parents": [
          "",
          "",
          "",
          "",
          "",
          "",
          "",
          "",
          "",
          "",
          "",
          "",
          "",
          "",
          "",
          "",
          "",
          "",
          "",
          "",
          "",
          "",
          "",
          "",
          "",
          "",
          "",
          "",
          "",
          "",
          "",
          "",
          "",
          "",
          "",
          "",
          "",
          "",
          "",
          "",
          "",
          "",
          "",
          "",
          "",
          "",
          "",
          "",
          "",
          "",
          "",
          "",
          "",
          "",
          "",
          "",
          "",
          "",
          "",
          "",
          "",
          "",
          "",
          "",
          "",
          "",
          "",
          "",
          "",
          "",
          "",
          "",
          "",
          "",
          "",
          "",
          "",
          "",
          "",
          "",
          "",
          "",
          "",
          "",
          "",
          "",
          "",
          "",
          "",
          "",
          "",
          "",
          "",
          "",
          "",
          "",
          "",
          "",
          "",
          "",
          "",
          "",
          "",
          "",
          "",
          "",
          "",
          "",
          "",
          "",
          "",
          "",
          "",
          "",
          "",
          "",
          "",
          "",
          "",
          "",
          "",
          "",
          "",
          "",
          "",
          "",
          "",
          "",
          "",
          "",
          "",
          "",
          "",
          "",
          "",
          "",
          "",
          "",
          "",
          "",
          "",
          "",
          "",
          "",
          "",
          "",
          "",
          "",
          "",
          "",
          "",
          "",
          "",
          "",
          "",
          "",
          "",
          "",
          "",
          "",
          "",
          "",
          "",
          "",
          "",
          "",
          "",
          "",
          "",
          "",
          "",
          "",
          "",
          "",
          "",
          "",
          "",
          "",
          "",
          "",
          "",
          "",
          "",
          "",
          "",
          "",
          "",
          "",
          "",
          "",
          "",
          "",
          "",
          "",
          "",
          "",
          "",
          "",
          "",
          "",
          "",
          "",
          "",
          "",
          "",
          "",
          "",
          "",
          "",
          "",
          "",
          "",
          "",
          "",
          "",
          "",
          "",
          "",
          "",
          "",
          "",
          "",
          "",
          "",
          "",
          "",
          "",
          "",
          "",
          "",
          "",
          "",
          "",
          "",
          "",
          "",
          "",
          "",
          "",
          "",
          "",
          "",
          "",
          "",
          "",
          "",
          "",
          "",
          "",
          "",
          "",
          "",
          "",
          "",
          "",
          "",
          "",
          "",
          "",
          "",
          "",
          "",
          "",
          "",
          "",
          "",
          "",
          "",
          "",
          "",
          "",
          "",
          "",
          "",
          "",
          "",
          "",
          "",
          "",
          "",
          "",
          "",
          "",
          "",
          "",
          "",
          "",
          "",
          "",
          "",
          "",
          "",
          "",
          "",
          "",
          "",
          "",
          "",
          "",
          "",
          "",
          "",
          "",
          "",
          "",
          "",
          "",
          "",
          "",
          "",
          "",
          "",
          "",
          "",
          "",
          "",
          "",
          "",
          "",
          "",
          "",
          "",
          "",
          "",
          "",
          "",
          "",
          "",
          "",
          "",
          "",
          "",
          "",
          "",
          "",
          "",
          "",
          "",
          "",
          "",
          "",
          "",
          "",
          "",
          "",
          "",
          "",
          "",
          "",
          "",
          "",
          "",
          "",
          "",
          "",
          "",
          "",
          "",
          "",
          "",
          "",
          "",
          "",
          "",
          "",
          "",
          "",
          "",
          "",
          "",
          "",
          "",
          "",
          "",
          "",
          "",
          "",
          "",
          "",
          "",
          "",
          "",
          "",
          "",
          "",
          "",
          "",
          "",
          "",
          "",
          "",
          "",
          "",
          "",
          "",
          "",
          "",
          "",
          "",
          "",
          "",
          "",
          "",
          "",
          "",
          "",
          "",
          "",
          "",
          "",
          "",
          "",
          "",
          "",
          "",
          "",
          "",
          "",
          "",
          "",
          "",
          "",
          "",
          "",
          "",
          "",
          "",
          "",
          "",
          "",
          "",
          "",
          "",
          "",
          "",
          "",
          "",
          "",
          "",
          "",
          "",
          "",
          "",
          "",
          "",
          "",
          "",
          "",
          "",
          "",
          "",
          "",
          "",
          "",
          "",
          "",
          "",
          "",
          "",
          "",
          "",
          "",
          "",
          "",
          "",
          "",
          "",
          "",
          "",
          "",
          "",
          "",
          "",
          "",
          "",
          "",
          "",
          "",
          "",
          "",
          "",
          "",
          "",
          "",
          "",
          "",
          "",
          "",
          "",
          "",
          "",
          "",
          "",
          "",
          "",
          "",
          "",
          "",
          "",
          "",
          "",
          "",
          "",
          "",
          "",
          "",
          "",
          "",
          "",
          "",
          "",
          "",
          "",
          "",
          "",
          "",
          "",
          "",
          "",
          "",
          "",
          "",
          "",
          "",
          "",
          "",
          "",
          "",
          "",
          "",
          "",
          "",
          "",
          "",
          "",
          "",
          "",
          "",
          "",
          "",
          "",
          "",
          "",
          "",
          "",
          "",
          "",
          "",
          "",
          "",
          "",
          "",
          "",
          "",
          "",
          "",
          "",
          "",
          "",
          "",
          "",
          ""
         ],
         "textinfo": "label+value",
         "type": "treemap",
         "values": [
          1430861,
          1003429,
          829521,
          787425,
          714591,
          713014,
          630516,
          614507,
          463360,
          410626,
          409534,
          373982,
          322169,
          314711,
          305527,
          302782,
          300613,
          287930,
          287903,
          273481
         ]
        }
       ],
       "layout": {
        "font": {
         "color": "black",
         "family": "Times New Roman",
         "size": 18
        },
        "paper_bgcolor": "#ade498",
        "plot_bgcolor": "#ade498",
        "template": {
         "data": {
          "bar": [
           {
            "error_x": {
             "color": "#2a3f5f"
            },
            "error_y": {
             "color": "#2a3f5f"
            },
            "marker": {
             "line": {
              "color": "#E5ECF6",
              "width": 0.5
             }
            },
            "type": "bar"
           }
          ],
          "barpolar": [
           {
            "marker": {
             "line": {
              "color": "#E5ECF6",
              "width": 0.5
             }
            },
            "type": "barpolar"
           }
          ],
          "carpet": [
           {
            "aaxis": {
             "endlinecolor": "#2a3f5f",
             "gridcolor": "white",
             "linecolor": "white",
             "minorgridcolor": "white",
             "startlinecolor": "#2a3f5f"
            },
            "baxis": {
             "endlinecolor": "#2a3f5f",
             "gridcolor": "white",
             "linecolor": "white",
             "minorgridcolor": "white",
             "startlinecolor": "#2a3f5f"
            },
            "type": "carpet"
           }
          ],
          "choropleth": [
           {
            "colorbar": {
             "outlinewidth": 0,
             "ticks": ""
            },
            "type": "choropleth"
           }
          ],
          "contour": [
           {
            "colorbar": {
             "outlinewidth": 0,
             "ticks": ""
            },
            "colorscale": [
             [
              0,
              "#0d0887"
             ],
             [
              0.1111111111111111,
              "#46039f"
             ],
             [
              0.2222222222222222,
              "#7201a8"
             ],
             [
              0.3333333333333333,
              "#9c179e"
             ],
             [
              0.4444444444444444,
              "#bd3786"
             ],
             [
              0.5555555555555556,
              "#d8576b"
             ],
             [
              0.6666666666666666,
              "#ed7953"
             ],
             [
              0.7777777777777778,
              "#fb9f3a"
             ],
             [
              0.8888888888888888,
              "#fdca26"
             ],
             [
              1,
              "#f0f921"
             ]
            ],
            "type": "contour"
           }
          ],
          "contourcarpet": [
           {
            "colorbar": {
             "outlinewidth": 0,
             "ticks": ""
            },
            "type": "contourcarpet"
           }
          ],
          "heatmap": [
           {
            "colorbar": {
             "outlinewidth": 0,
             "ticks": ""
            },
            "colorscale": [
             [
              0,
              "#0d0887"
             ],
             [
              0.1111111111111111,
              "#46039f"
             ],
             [
              0.2222222222222222,
              "#7201a8"
             ],
             [
              0.3333333333333333,
              "#9c179e"
             ],
             [
              0.4444444444444444,
              "#bd3786"
             ],
             [
              0.5555555555555556,
              "#d8576b"
             ],
             [
              0.6666666666666666,
              "#ed7953"
             ],
             [
              0.7777777777777778,
              "#fb9f3a"
             ],
             [
              0.8888888888888888,
              "#fdca26"
             ],
             [
              1,
              "#f0f921"
             ]
            ],
            "type": "heatmap"
           }
          ],
          "heatmapgl": [
           {
            "colorbar": {
             "outlinewidth": 0,
             "ticks": ""
            },
            "colorscale": [
             [
              0,
              "#0d0887"
             ],
             [
              0.1111111111111111,
              "#46039f"
             ],
             [
              0.2222222222222222,
              "#7201a8"
             ],
             [
              0.3333333333333333,
              "#9c179e"
             ],
             [
              0.4444444444444444,
              "#bd3786"
             ],
             [
              0.5555555555555556,
              "#d8576b"
             ],
             [
              0.6666666666666666,
              "#ed7953"
             ],
             [
              0.7777777777777778,
              "#fb9f3a"
             ],
             [
              0.8888888888888888,
              "#fdca26"
             ],
             [
              1,
              "#f0f921"
             ]
            ],
            "type": "heatmapgl"
           }
          ],
          "histogram": [
           {
            "marker": {
             "colorbar": {
              "outlinewidth": 0,
              "ticks": ""
             }
            },
            "type": "histogram"
           }
          ],
          "histogram2d": [
           {
            "colorbar": {
             "outlinewidth": 0,
             "ticks": ""
            },
            "colorscale": [
             [
              0,
              "#0d0887"
             ],
             [
              0.1111111111111111,
              "#46039f"
             ],
             [
              0.2222222222222222,
              "#7201a8"
             ],
             [
              0.3333333333333333,
              "#9c179e"
             ],
             [
              0.4444444444444444,
              "#bd3786"
             ],
             [
              0.5555555555555556,
              "#d8576b"
             ],
             [
              0.6666666666666666,
              "#ed7953"
             ],
             [
              0.7777777777777778,
              "#fb9f3a"
             ],
             [
              0.8888888888888888,
              "#fdca26"
             ],
             [
              1,
              "#f0f921"
             ]
            ],
            "type": "histogram2d"
           }
          ],
          "histogram2dcontour": [
           {
            "colorbar": {
             "outlinewidth": 0,
             "ticks": ""
            },
            "colorscale": [
             [
              0,
              "#0d0887"
             ],
             [
              0.1111111111111111,
              "#46039f"
             ],
             [
              0.2222222222222222,
              "#7201a8"
             ],
             [
              0.3333333333333333,
              "#9c179e"
             ],
             [
              0.4444444444444444,
              "#bd3786"
             ],
             [
              0.5555555555555556,
              "#d8576b"
             ],
             [
              0.6666666666666666,
              "#ed7953"
             ],
             [
              0.7777777777777778,
              "#fb9f3a"
             ],
             [
              0.8888888888888888,
              "#fdca26"
             ],
             [
              1,
              "#f0f921"
             ]
            ],
            "type": "histogram2dcontour"
           }
          ],
          "mesh3d": [
           {
            "colorbar": {
             "outlinewidth": 0,
             "ticks": ""
            },
            "type": "mesh3d"
           }
          ],
          "parcoords": [
           {
            "line": {
             "colorbar": {
              "outlinewidth": 0,
              "ticks": ""
             }
            },
            "type": "parcoords"
           }
          ],
          "pie": [
           {
            "automargin": true,
            "type": "pie"
           }
          ],
          "scatter": [
           {
            "marker": {
             "colorbar": {
              "outlinewidth": 0,
              "ticks": ""
             }
            },
            "type": "scatter"
           }
          ],
          "scatter3d": [
           {
            "line": {
             "colorbar": {
              "outlinewidth": 0,
              "ticks": ""
             }
            },
            "marker": {
             "colorbar": {
              "outlinewidth": 0,
              "ticks": ""
             }
            },
            "type": "scatter3d"
           }
          ],
          "scattercarpet": [
           {
            "marker": {
             "colorbar": {
              "outlinewidth": 0,
              "ticks": ""
             }
            },
            "type": "scattercarpet"
           }
          ],
          "scattergeo": [
           {
            "marker": {
             "colorbar": {
              "outlinewidth": 0,
              "ticks": ""
             }
            },
            "type": "scattergeo"
           }
          ],
          "scattergl": [
           {
            "marker": {
             "colorbar": {
              "outlinewidth": 0,
              "ticks": ""
             }
            },
            "type": "scattergl"
           }
          ],
          "scattermapbox": [
           {
            "marker": {
             "colorbar": {
              "outlinewidth": 0,
              "ticks": ""
             }
            },
            "type": "scattermapbox"
           }
          ],
          "scatterpolar": [
           {
            "marker": {
             "colorbar": {
              "outlinewidth": 0,
              "ticks": ""
             }
            },
            "type": "scatterpolar"
           }
          ],
          "scatterpolargl": [
           {
            "marker": {
             "colorbar": {
              "outlinewidth": 0,
              "ticks": ""
             }
            },
            "type": "scatterpolargl"
           }
          ],
          "scatterternary": [
           {
            "marker": {
             "colorbar": {
              "outlinewidth": 0,
              "ticks": ""
             }
            },
            "type": "scatterternary"
           }
          ],
          "surface": [
           {
            "colorbar": {
             "outlinewidth": 0,
             "ticks": ""
            },
            "colorscale": [
             [
              0,
              "#0d0887"
             ],
             [
              0.1111111111111111,
              "#46039f"
             ],
             [
              0.2222222222222222,
              "#7201a8"
             ],
             [
              0.3333333333333333,
              "#9c179e"
             ],
             [
              0.4444444444444444,
              "#bd3786"
             ],
             [
              0.5555555555555556,
              "#d8576b"
             ],
             [
              0.6666666666666666,
              "#ed7953"
             ],
             [
              0.7777777777777778,
              "#fb9f3a"
             ],
             [
              0.8888888888888888,
              "#fdca26"
             ],
             [
              1,
              "#f0f921"
             ]
            ],
            "type": "surface"
           }
          ],
          "table": [
           {
            "cells": {
             "fill": {
              "color": "#EBF0F8"
             },
             "line": {
              "color": "white"
             }
            },
            "header": {
             "fill": {
              "color": "#C8D4E3"
             },
             "line": {
              "color": "white"
             }
            },
            "type": "table"
           }
          ]
         },
         "layout": {
          "annotationdefaults": {
           "arrowcolor": "#2a3f5f",
           "arrowhead": 0,
           "arrowwidth": 1
          },
          "coloraxis": {
           "colorbar": {
            "outlinewidth": 0,
            "ticks": ""
           }
          },
          "colorscale": {
           "diverging": [
            [
             0,
             "#8e0152"
            ],
            [
             0.1,
             "#c51b7d"
            ],
            [
             0.2,
             "#de77ae"
            ],
            [
             0.3,
             "#f1b6da"
            ],
            [
             0.4,
             "#fde0ef"
            ],
            [
             0.5,
             "#f7f7f7"
            ],
            [
             0.6,
             "#e6f5d0"
            ],
            [
             0.7,
             "#b8e186"
            ],
            [
             0.8,
             "#7fbc41"
            ],
            [
             0.9,
             "#4d9221"
            ],
            [
             1,
             "#276419"
            ]
           ],
           "sequential": [
            [
             0,
             "#0d0887"
            ],
            [
             0.1111111111111111,
             "#46039f"
            ],
            [
             0.2222222222222222,
             "#7201a8"
            ],
            [
             0.3333333333333333,
             "#9c179e"
            ],
            [
             0.4444444444444444,
             "#bd3786"
            ],
            [
             0.5555555555555556,
             "#d8576b"
            ],
            [
             0.6666666666666666,
             "#ed7953"
            ],
            [
             0.7777777777777778,
             "#fb9f3a"
            ],
            [
             0.8888888888888888,
             "#fdca26"
            ],
            [
             1,
             "#f0f921"
            ]
           ],
           "sequentialminus": [
            [
             0,
             "#0d0887"
            ],
            [
             0.1111111111111111,
             "#46039f"
            ],
            [
             0.2222222222222222,
             "#7201a8"
            ],
            [
             0.3333333333333333,
             "#9c179e"
            ],
            [
             0.4444444444444444,
             "#bd3786"
            ],
            [
             0.5555555555555556,
             "#d8576b"
            ],
            [
             0.6666666666666666,
             "#ed7953"
            ],
            [
             0.7777777777777778,
             "#fb9f3a"
            ],
            [
             0.8888888888888888,
             "#fdca26"
            ],
            [
             1,
             "#f0f921"
            ]
           ]
          },
          "colorway": [
           "#636efa",
           "#EF553B",
           "#00cc96",
           "#ab63fa",
           "#FFA15A",
           "#19d3f3",
           "#FF6692",
           "#B6E880",
           "#FF97FF",
           "#FECB52"
          ],
          "font": {
           "color": "#2a3f5f"
          },
          "geo": {
           "bgcolor": "white",
           "lakecolor": "white",
           "landcolor": "#E5ECF6",
           "showlakes": true,
           "showland": true,
           "subunitcolor": "white"
          },
          "hoverlabel": {
           "align": "left"
          },
          "hovermode": "closest",
          "mapbox": {
           "style": "light"
          },
          "paper_bgcolor": "white",
          "plot_bgcolor": "#E5ECF6",
          "polar": {
           "angularaxis": {
            "gridcolor": "white",
            "linecolor": "white",
            "ticks": ""
           },
           "bgcolor": "#E5ECF6",
           "radialaxis": {
            "gridcolor": "white",
            "linecolor": "white",
            "ticks": ""
           }
          },
          "scene": {
           "xaxis": {
            "backgroundcolor": "#E5ECF6",
            "gridcolor": "white",
            "gridwidth": 2,
            "linecolor": "white",
            "showbackground": true,
            "ticks": "",
            "zerolinecolor": "white"
           },
           "yaxis": {
            "backgroundcolor": "#E5ECF6",
            "gridcolor": "white",
            "gridwidth": 2,
            "linecolor": "white",
            "showbackground": true,
            "ticks": "",
            "zerolinecolor": "white"
           },
           "zaxis": {
            "backgroundcolor": "#E5ECF6",
            "gridcolor": "white",
            "gridwidth": 2,
            "linecolor": "white",
            "showbackground": true,
            "ticks": "",
            "zerolinecolor": "white"
           }
          },
          "shapedefaults": {
           "line": {
            "color": "#2a3f5f"
           }
          },
          "ternary": {
           "aaxis": {
            "gridcolor": "white",
            "linecolor": "white",
            "ticks": ""
           },
           "baxis": {
            "gridcolor": "white",
            "linecolor": "white",
            "ticks": ""
           },
           "bgcolor": "#E5ECF6",
           "caxis": {
            "gridcolor": "white",
            "linecolor": "white",
            "ticks": ""
           }
          },
          "title": {
           "x": 0.05
          },
          "xaxis": {
           "automargin": true,
           "gridcolor": "white",
           "linecolor": "white",
           "ticks": "",
           "title": {
            "standoff": 15
           },
           "zerolinecolor": "white",
           "zerolinewidth": 2
          },
          "yaxis": {
           "automargin": true,
           "gridcolor": "white",
           "linecolor": "white",
           "ticks": "",
           "title": {
            "standoff": 15
           },
           "zerolinecolor": "white",
           "zerolinewidth": 2
          }
         }
        },
        "title": {
         "text": "Top 20 Covid-19 cases by Province",
         "x": 0.5
        }
       }
      },
      "text/html": [
       "<div>                            <div id=\"fae6ba6d-8780-44b6-bcfb-e2c8857bb3dc\" class=\"plotly-graph-div\" style=\"height:525px; width:100%;\"></div>            <script type=\"text/javascript\">                require([\"plotly\"], function(Plotly) {                    window.PLOTLYENV=window.PLOTLYENV || {};                                    if (document.getElementById(\"fae6ba6d-8780-44b6-bcfb-e2c8857bb3dc\")) {                    Plotly.newPlot(                        \"fae6ba6d-8780-44b6-bcfb-e2c8857bb3dc\",                        [{\"labels\": [\"Maharashtra\", \"Sao Paulo\", \"California\", \"Texas\", \"Florida\", \"Andhra Pradesh\", \"Karnataka\", \"Tamil Nadu\", \"New York\", \"Uttar Pradesh\", \"England\", \"Lima\", \"Georgia\", \"Bahia\", \"Minas Gerais\", \"Illinois\", \"Moscow\", \"Delhi\", \"Metropolitana\", \"Capital District\"], \"marker\": {\"colorscale\": [[0.0, \"rgb(254, 246, 181)\"], [0.16666666666666666, \"rgb(255, 221, 154)\"], [0.3333333333333333, \"rgb(255, 194, 133)\"], [0.5, \"rgb(255, 166, 121)\"], [0.6666666666666666, \"rgb(250, 138, 118)\"], [0.8333333333333334, \"rgb(241, 109, 122)\"], [1.0, \"rgb(225, 83, 131)\"]]}, \"parents\": [\"\", \"\", \"\", \"\", \"\", \"\", \"\", \"\", \"\", \"\", \"\", \"\", \"\", \"\", \"\", \"\", \"\", \"\", \"\", \"\", \"\", \"\", \"\", \"\", \"\", \"\", \"\", \"\", \"\", \"\", \"\", \"\", \"\", \"\", \"\", \"\", \"\", \"\", \"\", \"\", \"\", \"\", \"\", \"\", \"\", \"\", \"\", \"\", \"\", \"\", \"\", \"\", \"\", \"\", \"\", \"\", \"\", \"\", \"\", \"\", \"\", \"\", \"\", \"\", \"\", \"\", \"\", \"\", \"\", \"\", \"\", \"\", \"\", \"\", \"\", \"\", \"\", \"\", \"\", \"\", \"\", \"\", \"\", \"\", \"\", \"\", \"\", \"\", \"\", \"\", \"\", \"\", \"\", \"\", \"\", \"\", \"\", \"\", \"\", \"\", \"\", \"\", \"\", \"\", \"\", \"\", \"\", \"\", \"\", \"\", \"\", \"\", \"\", \"\", \"\", \"\", \"\", \"\", \"\", \"\", \"\", \"\", \"\", \"\", \"\", \"\", \"\", \"\", \"\", \"\", \"\", \"\", \"\", \"\", \"\", \"\", \"\", \"\", \"\", \"\", \"\", \"\", \"\", \"\", \"\", \"\", \"\", \"\", \"\", \"\", \"\", \"\", \"\", \"\", \"\", \"\", \"\", \"\", \"\", \"\", \"\", \"\", \"\", \"\", \"\", \"\", \"\", \"\", \"\", \"\", \"\", \"\", \"\", \"\", \"\", \"\", \"\", \"\", \"\", \"\", \"\", \"\", \"\", \"\", \"\", \"\", \"\", \"\", \"\", \"\", \"\", \"\", \"\", \"\", \"\", \"\", \"\", \"\", \"\", \"\", \"\", \"\", \"\", \"\", \"\", \"\", \"\", \"\", \"\", \"\", \"\", \"\", \"\", \"\", \"\", \"\", \"\", \"\", \"\", \"\", \"\", \"\", \"\", \"\", \"\", \"\", \"\", \"\", \"\", \"\", \"\", \"\", \"\", \"\", \"\", \"\", \"\", \"\", \"\", \"\", \"\", \"\", \"\", \"\", \"\", \"\", \"\", \"\", \"\", \"\", \"\", \"\", \"\", \"\", \"\", \"\", \"\", \"\", \"\", \"\", \"\", \"\", \"\", \"\", \"\", \"\", \"\", \"\", \"\", \"\", \"\", \"\", \"\", \"\", \"\", \"\", \"\", \"\", \"\", \"\", \"\", \"\", \"\", \"\", \"\", \"\", \"\", \"\", \"\", \"\", \"\", \"\", \"\", \"\", \"\", \"\", \"\", \"\", \"\", \"\", \"\", \"\", \"\", \"\", \"\", \"\", \"\", \"\", \"\", \"\", \"\", \"\", \"\", \"\", \"\", \"\", \"\", \"\", \"\", \"\", \"\", \"\", \"\", \"\", \"\", \"\", \"\", \"\", \"\", \"\", \"\", \"\", \"\", \"\", \"\", \"\", \"\", \"\", \"\", \"\", \"\", \"\", \"\", \"\", \"\", \"\", \"\", \"\", \"\", \"\", \"\", \"\", \"\", \"\", \"\", \"\", \"\", \"\", \"\", \"\", \"\", \"\", \"\", \"\", \"\", \"\", \"\", \"\", \"\", \"\", \"\", \"\", \"\", \"\", \"\", \"\", \"\", \"\", \"\", \"\", \"\", \"\", \"\", \"\", \"\", \"\", \"\", \"\", \"\", \"\", \"\", \"\", \"\", \"\", \"\", \"\", \"\", \"\", \"\", \"\", \"\", \"\", \"\", \"\", \"\", \"\", \"\", \"\", \"\", \"\", \"\", \"\", \"\", \"\", \"\", \"\", \"\", \"\", \"\", \"\", \"\", \"\", \"\", \"\", \"\", \"\", \"\", \"\", \"\", \"\", \"\", \"\", \"\", \"\", \"\", \"\", \"\", \"\", \"\", \"\", \"\", \"\", \"\", \"\", \"\", \"\", \"\", \"\", \"\", \"\", \"\", \"\", \"\", \"\", \"\", \"\", \"\", \"\", \"\", \"\", \"\", \"\", \"\", \"\", \"\", \"\", \"\", \"\", \"\", \"\", \"\", \"\", \"\", \"\", \"\", \"\", \"\", \"\", \"\", \"\", \"\", \"\", \"\", \"\", \"\", \"\", \"\", \"\", \"\", \"\", \"\", \"\", \"\", \"\", \"\", \"\", \"\", \"\", \"\", \"\", \"\", \"\", \"\", \"\", \"\", \"\", \"\", \"\", \"\", \"\", \"\", \"\", \"\", \"\", \"\", \"\", \"\", \"\", \"\", \"\", \"\", \"\", \"\", \"\", \"\", \"\", \"\", \"\", \"\", \"\", \"\", \"\", \"\", \"\", \"\", \"\", \"\", \"\", \"\", \"\", \"\", \"\", \"\", \"\", \"\", \"\", \"\", \"\", \"\", \"\", \"\", \"\", \"\", \"\", \"\", \"\", \"\", \"\", \"\", \"\", \"\", \"\"], \"textinfo\": \"label+value\", \"type\": \"treemap\", \"values\": [1430861, 1003429, 829521, 787425, 714591, 713014, 630516, 614507, 463360, 410626, 409534, 373982, 322169, 314711, 305527, 302782, 300613, 287930, 287903, 273481]}],                        {\"font\": {\"color\": \"black\", \"family\": \"Times New Roman\", \"size\": 18}, \"paper_bgcolor\": \"#ade498\", \"plot_bgcolor\": \"#ade498\", \"template\": {\"data\": {\"bar\": [{\"error_x\": {\"color\": \"#2a3f5f\"}, \"error_y\": {\"color\": \"#2a3f5f\"}, \"marker\": {\"line\": {\"color\": \"#E5ECF6\", \"width\": 0.5}}, \"type\": \"bar\"}], \"barpolar\": [{\"marker\": {\"line\": {\"color\": \"#E5ECF6\", \"width\": 0.5}}, \"type\": \"barpolar\"}], \"carpet\": [{\"aaxis\": {\"endlinecolor\": \"#2a3f5f\", \"gridcolor\": \"white\", \"linecolor\": \"white\", \"minorgridcolor\": \"white\", \"startlinecolor\": \"#2a3f5f\"}, \"baxis\": {\"endlinecolor\": \"#2a3f5f\", \"gridcolor\": \"white\", \"linecolor\": \"white\", \"minorgridcolor\": \"white\", \"startlinecolor\": \"#2a3f5f\"}, \"type\": \"carpet\"}], \"choropleth\": [{\"colorbar\": {\"outlinewidth\": 0, \"ticks\": \"\"}, \"type\": \"choropleth\"}], \"contour\": [{\"colorbar\": {\"outlinewidth\": 0, \"ticks\": \"\"}, \"colorscale\": [[0.0, \"#0d0887\"], [0.1111111111111111, \"#46039f\"], [0.2222222222222222, \"#7201a8\"], [0.3333333333333333, \"#9c179e\"], [0.4444444444444444, \"#bd3786\"], [0.5555555555555556, \"#d8576b\"], [0.6666666666666666, \"#ed7953\"], [0.7777777777777778, \"#fb9f3a\"], [0.8888888888888888, \"#fdca26\"], [1.0, \"#f0f921\"]], \"type\": \"contour\"}], \"contourcarpet\": [{\"colorbar\": {\"outlinewidth\": 0, \"ticks\": \"\"}, \"type\": \"contourcarpet\"}], \"heatmap\": [{\"colorbar\": {\"outlinewidth\": 0, \"ticks\": \"\"}, \"colorscale\": [[0.0, \"#0d0887\"], [0.1111111111111111, \"#46039f\"], [0.2222222222222222, \"#7201a8\"], [0.3333333333333333, \"#9c179e\"], [0.4444444444444444, \"#bd3786\"], [0.5555555555555556, \"#d8576b\"], [0.6666666666666666, \"#ed7953\"], [0.7777777777777778, \"#fb9f3a\"], [0.8888888888888888, \"#fdca26\"], [1.0, \"#f0f921\"]], \"type\": \"heatmap\"}], \"heatmapgl\": [{\"colorbar\": {\"outlinewidth\": 0, \"ticks\": \"\"}, \"colorscale\": [[0.0, \"#0d0887\"], [0.1111111111111111, \"#46039f\"], [0.2222222222222222, \"#7201a8\"], [0.3333333333333333, \"#9c179e\"], [0.4444444444444444, \"#bd3786\"], [0.5555555555555556, \"#d8576b\"], [0.6666666666666666, \"#ed7953\"], [0.7777777777777778, \"#fb9f3a\"], [0.8888888888888888, \"#fdca26\"], [1.0, \"#f0f921\"]], \"type\": \"heatmapgl\"}], \"histogram\": [{\"marker\": {\"colorbar\": {\"outlinewidth\": 0, \"ticks\": \"\"}}, \"type\": \"histogram\"}], \"histogram2d\": [{\"colorbar\": {\"outlinewidth\": 0, \"ticks\": \"\"}, \"colorscale\": [[0.0, \"#0d0887\"], [0.1111111111111111, \"#46039f\"], [0.2222222222222222, \"#7201a8\"], [0.3333333333333333, \"#9c179e\"], [0.4444444444444444, \"#bd3786\"], [0.5555555555555556, \"#d8576b\"], [0.6666666666666666, \"#ed7953\"], [0.7777777777777778, \"#fb9f3a\"], [0.8888888888888888, \"#fdca26\"], [1.0, \"#f0f921\"]], \"type\": \"histogram2d\"}], \"histogram2dcontour\": [{\"colorbar\": {\"outlinewidth\": 0, \"ticks\": \"\"}, \"colorscale\": [[0.0, \"#0d0887\"], [0.1111111111111111, \"#46039f\"], [0.2222222222222222, \"#7201a8\"], [0.3333333333333333, \"#9c179e\"], [0.4444444444444444, \"#bd3786\"], [0.5555555555555556, \"#d8576b\"], [0.6666666666666666, \"#ed7953\"], [0.7777777777777778, \"#fb9f3a\"], [0.8888888888888888, \"#fdca26\"], [1.0, \"#f0f921\"]], \"type\": \"histogram2dcontour\"}], \"mesh3d\": [{\"colorbar\": {\"outlinewidth\": 0, \"ticks\": \"\"}, \"type\": \"mesh3d\"}], \"parcoords\": [{\"line\": {\"colorbar\": {\"outlinewidth\": 0, \"ticks\": \"\"}}, \"type\": \"parcoords\"}], \"pie\": [{\"automargin\": true, \"type\": \"pie\"}], \"scatter\": [{\"marker\": {\"colorbar\": {\"outlinewidth\": 0, \"ticks\": \"\"}}, \"type\": \"scatter\"}], \"scatter3d\": [{\"line\": {\"colorbar\": {\"outlinewidth\": 0, \"ticks\": \"\"}}, \"marker\": {\"colorbar\": {\"outlinewidth\": 0, \"ticks\": \"\"}}, \"type\": \"scatter3d\"}], \"scattercarpet\": [{\"marker\": {\"colorbar\": {\"outlinewidth\": 0, \"ticks\": \"\"}}, \"type\": \"scattercarpet\"}], \"scattergeo\": [{\"marker\": {\"colorbar\": {\"outlinewidth\": 0, \"ticks\": \"\"}}, \"type\": \"scattergeo\"}], \"scattergl\": [{\"marker\": {\"colorbar\": {\"outlinewidth\": 0, \"ticks\": \"\"}}, \"type\": \"scattergl\"}], \"scattermapbox\": [{\"marker\": {\"colorbar\": {\"outlinewidth\": 0, \"ticks\": \"\"}}, \"type\": \"scattermapbox\"}], \"scatterpolar\": [{\"marker\": {\"colorbar\": {\"outlinewidth\": 0, \"ticks\": \"\"}}, \"type\": \"scatterpolar\"}], \"scatterpolargl\": [{\"marker\": {\"colorbar\": {\"outlinewidth\": 0, \"ticks\": \"\"}}, \"type\": \"scatterpolargl\"}], \"scatterternary\": [{\"marker\": {\"colorbar\": {\"outlinewidth\": 0, \"ticks\": \"\"}}, \"type\": \"scatterternary\"}], \"surface\": [{\"colorbar\": {\"outlinewidth\": 0, \"ticks\": \"\"}, \"colorscale\": [[0.0, \"#0d0887\"], [0.1111111111111111, \"#46039f\"], [0.2222222222222222, \"#7201a8\"], [0.3333333333333333, \"#9c179e\"], [0.4444444444444444, \"#bd3786\"], [0.5555555555555556, \"#d8576b\"], [0.6666666666666666, \"#ed7953\"], [0.7777777777777778, \"#fb9f3a\"], [0.8888888888888888, \"#fdca26\"], [1.0, \"#f0f921\"]], \"type\": \"surface\"}], \"table\": [{\"cells\": {\"fill\": {\"color\": \"#EBF0F8\"}, \"line\": {\"color\": \"white\"}}, \"header\": {\"fill\": {\"color\": \"#C8D4E3\"}, \"line\": {\"color\": \"white\"}}, \"type\": \"table\"}]}, \"layout\": {\"annotationdefaults\": {\"arrowcolor\": \"#2a3f5f\", \"arrowhead\": 0, \"arrowwidth\": 1}, \"coloraxis\": {\"colorbar\": {\"outlinewidth\": 0, \"ticks\": \"\"}}, \"colorscale\": {\"diverging\": [[0, \"#8e0152\"], [0.1, \"#c51b7d\"], [0.2, \"#de77ae\"], [0.3, \"#f1b6da\"], [0.4, \"#fde0ef\"], [0.5, \"#f7f7f7\"], [0.6, \"#e6f5d0\"], [0.7, \"#b8e186\"], [0.8, \"#7fbc41\"], [0.9, \"#4d9221\"], [1, \"#276419\"]], \"sequential\": [[0.0, \"#0d0887\"], [0.1111111111111111, \"#46039f\"], [0.2222222222222222, \"#7201a8\"], [0.3333333333333333, \"#9c179e\"], [0.4444444444444444, \"#bd3786\"], [0.5555555555555556, \"#d8576b\"], [0.6666666666666666, \"#ed7953\"], [0.7777777777777778, \"#fb9f3a\"], [0.8888888888888888, \"#fdca26\"], [1.0, \"#f0f921\"]], \"sequentialminus\": [[0.0, \"#0d0887\"], [0.1111111111111111, \"#46039f\"], [0.2222222222222222, \"#7201a8\"], [0.3333333333333333, \"#9c179e\"], [0.4444444444444444, \"#bd3786\"], [0.5555555555555556, \"#d8576b\"], [0.6666666666666666, \"#ed7953\"], [0.7777777777777778, \"#fb9f3a\"], [0.8888888888888888, \"#fdca26\"], [1.0, \"#f0f921\"]]}, \"colorway\": [\"#636efa\", \"#EF553B\", \"#00cc96\", \"#ab63fa\", \"#FFA15A\", \"#19d3f3\", \"#FF6692\", \"#B6E880\", \"#FF97FF\", \"#FECB52\"], \"font\": {\"color\": \"#2a3f5f\"}, \"geo\": {\"bgcolor\": \"white\", \"lakecolor\": \"white\", \"landcolor\": \"#E5ECF6\", \"showlakes\": true, \"showland\": true, \"subunitcolor\": \"white\"}, \"hoverlabel\": {\"align\": \"left\"}, \"hovermode\": \"closest\", \"mapbox\": {\"style\": \"light\"}, \"paper_bgcolor\": \"white\", \"plot_bgcolor\": \"#E5ECF6\", \"polar\": {\"angularaxis\": {\"gridcolor\": \"white\", \"linecolor\": \"white\", \"ticks\": \"\"}, \"bgcolor\": \"#E5ECF6\", \"radialaxis\": {\"gridcolor\": \"white\", \"linecolor\": \"white\", \"ticks\": \"\"}}, \"scene\": {\"xaxis\": {\"backgroundcolor\": \"#E5ECF6\", \"gridcolor\": \"white\", \"gridwidth\": 2, \"linecolor\": \"white\", \"showbackground\": true, \"ticks\": \"\", \"zerolinecolor\": \"white\"}, \"yaxis\": {\"backgroundcolor\": \"#E5ECF6\", \"gridcolor\": \"white\", \"gridwidth\": 2, \"linecolor\": \"white\", \"showbackground\": true, \"ticks\": \"\", \"zerolinecolor\": \"white\"}, \"zaxis\": {\"backgroundcolor\": \"#E5ECF6\", \"gridcolor\": \"white\", \"gridwidth\": 2, \"linecolor\": \"white\", \"showbackground\": true, \"ticks\": \"\", \"zerolinecolor\": \"white\"}}, \"shapedefaults\": {\"line\": {\"color\": \"#2a3f5f\"}}, \"ternary\": {\"aaxis\": {\"gridcolor\": \"white\", \"linecolor\": \"white\", \"ticks\": \"\"}, \"baxis\": {\"gridcolor\": \"white\", \"linecolor\": \"white\", \"ticks\": \"\"}, \"bgcolor\": \"#E5ECF6\", \"caxis\": {\"gridcolor\": \"white\", \"linecolor\": \"white\", \"ticks\": \"\"}}, \"title\": {\"x\": 0.05}, \"xaxis\": {\"automargin\": true, \"gridcolor\": \"white\", \"linecolor\": \"white\", \"ticks\": \"\", \"title\": {\"standoff\": 15}, \"zerolinecolor\": \"white\", \"zerolinewidth\": 2}, \"yaxis\": {\"automargin\": true, \"gridcolor\": \"white\", \"linecolor\": \"white\", \"ticks\": \"\", \"title\": {\"standoff\": 15}, \"zerolinecolor\": \"white\", \"zerolinewidth\": 2}}}, \"title\": {\"text\": \"Top 20 Covid-19 cases by Province\", \"x\": 0.5}},                        {\"responsive\": true}                    ).then(function(){\n",
       "                            \n",
       "var gd = document.getElementById('fae6ba6d-8780-44b6-bcfb-e2c8857bb3dc');\n",
       "var x = new MutationObserver(function (mutations, observer) {{\n",
       "        var display = window.getComputedStyle(gd).display;\n",
       "        if (!display || display === 'none') {{\n",
       "            console.log([gd, 'removed!']);\n",
       "            Plotly.purge(gd);\n",
       "            observer.disconnect();\n",
       "        }}\n",
       "}});\n",
       "\n",
       "// Listen for the removal of the full notebook cells\n",
       "var notebookContainer = gd.closest('#notebook-container');\n",
       "if (notebookContainer) {{\n",
       "    x.observe(notebookContainer, {childList: true});\n",
       "}}\n",
       "\n",
       "// Listen for the clearing of the current output cell\n",
       "var outputEl = gd.closest('.output');\n",
       "if (outputEl) {{\n",
       "    x.observe(outputEl, {childList: true});\n",
       "}}\n",
       "\n",
       "                        })                };                });            </script>        </div>"
      ]
     },
     "metadata": {},
     "output_type": "display_data"
    }
   ],
   "source": [
    "#นำข้อมูลที่ได้ทำการ group by province มาplot ลงใน treemaps\n",
    "state = list(Data_province[\"province\"])\n",
    "cases = list(Data_province[\"confirmed\"])\n",
    "\n",
    "fig= go.Figure(go.Treemap(\n",
    "    \n",
    "    labels =  Data_province[\"province\"].head(20),\n",
    "    parents=[\"\"]*len(state),\n",
    "    values =  Data_province[\"confirmed\"].head(20),\n",
    "    textinfo = \"label+value\",\n",
    "    marker_colorscale = \"pinkyl\"\n",
    "))\n",
    "fig.update_layout(\n",
    "    title_text= 'Top 20 Covid-19 cases by Province',\n",
    "    title_x=0.5,\n",
    "    paper_bgcolor='#ade498',\n",
    "    plot_bgcolor = \"#ade498\",\n",
    "    font=dict(\n",
    "        family=\"Times New Roman\",\n",
    "        size=18,\n",
    "        color=\"black\"\n",
    "    )\n",
    "    \n",
    "    )\n",
    "\n",
    "\n",
    "fig.show()"
   ]
  },
  {
   "cell_type": "markdown",
   "metadata": {},
   "source": [
    "## สรุปผล\n",
    "    ยอดผู้ติดเชื้อสูงสุด20อันดับโดยพบว่าทั้ง20อันดับอยู่ในกลุ่มประเทศเหล่านี้คือ อินเดีย อเมริกา อังกฤษ รัสเซีย บราซิล \n",
    "        Maharashtra 1,416,513 คน\n",
    "        Sao Paulo 991,725 คน\n",
    "        California 826,013 คน\n",
    "        Texas 782,306 คน\n",
    "        Florida 711,804 คน\n",
    "            กล่าวถึง อินเดีย อเมริกา บราซิล มีปัจจัยที่ส่งผลต่อยอดผู้ติดเชื้อคล้ายกันอยู่ 3 ปัจจัย คือ\n",
    "            1. สาธารณสุขแย่-ไม่คลอบคลุมประชาชนทุกคนเป็นทุนเดิมอยู่แล้ว \n",
    "            2. ทั้ง3ประเทศรัฐบาลให้ความสำคัญเรื่องเศรษกิจมากกว่า covid-19  เช่น อินเดียยกเลิกมาตการล้อคดาวน์เพื่อฟื้นฟูเศรษกิจ \n",
    "            3. ทั้ง3ประเทศพบปัญหาบุคลากรทางการแพท์ไม่เพียงพอ จึงทำให้ผู้ป่วยล้นโรงพยาบาลและไม่สามารถทำการรักษาได้ \n",
    "         โดยอังกฤษ,รัสเซีย,เปรู\n",
    "             1.เมือง Lima ในประเทศเปรูมียอดผู้ติดเชื้อ 372,659 โดยเผยสาเหตุที่เปรูไม่สามารถทำมามาตรการล็อกดาวน์ได้คือ\n",
    "                 1.1ในประเทศเปรูหลายครอบครัวยังไม่มีเครื่องใช้ไฟฟ้า ทำให้ไม่สามารถกักตุนอาหารได้เป็นเวลาหลายวัน ซึ่งตลาดถือเป็นแหล่งแพร่เชื้อที่สำคัญ\n",
    "                 1.2เนื่องจากปัญหาครัวเรือนที่ยากจนของเปรูอยู่กันในพื้นที่แออัดจึงไม่สามารถทำ social distancing ได้\n",
    "             2. รัสเซียไม่สามารถควบคุมยอดผู้ติดเชื้อได้ แต่ มีระบบการรักษาที่ดี ซึ่งรัสเซียได้มีการทำวัคซีนเกี่ยวกับ covid-19\n",
    "                 2.1 โดยรัสเซียมียอดผู้ติดเชื้อทั้งสิ้น 1.18 ล้านคน แต่สามารถรักษาให้หายได้ 966,724 คน\n",
    "             3. ประชาชนในอังกฤษไม่พอใจที่จะใช้มาตรการล็อคดาวน์ประเทศเป็นครั้งที่ 2 จึงเกิดการรวมตัวเพื่อประท้วงทั้งที่รัฐบาลมีมาตาการไม่ให้รวมตัวกันเกิน6คน \n",
    "             \n",
    "        \n",
    "            \n",
    "    "
   ]
  },
  {
   "cell_type": "code",
   "execution_count": 45,
   "metadata": {},
   "outputs": [
    {
     "data": {
      "text/html": [
       "<div>\n",
       "<style scoped>\n",
       "    .dataframe tbody tr th:only-of-type {\n",
       "        vertical-align: middle;\n",
       "    }\n",
       "\n",
       "    .dataframe tbody tr th {\n",
       "        vertical-align: top;\n",
       "    }\n",
       "\n",
       "    .dataframe thead th {\n",
       "        text-align: right;\n",
       "    }\n",
       "</style>\n",
       "<table border=\"1\" class=\"dataframe\">\n",
       "  <thead>\n",
       "    <tr style=\"text-align: right;\">\n",
       "      <th></th>\n",
       "      <th>city</th>\n",
       "      <th>confirmed</th>\n",
       "    </tr>\n",
       "  </thead>\n",
       "  <tbody>\n",
       "    <tr>\n",
       "      <th>0</th>\n",
       "      <td>Los Angeles</td>\n",
       "      <td>273638</td>\n",
       "    </tr>\n",
       "    <tr>\n",
       "      <th>1</th>\n",
       "      <td>Miami-Dade</td>\n",
       "      <td>171876</td>\n",
       "    </tr>\n",
       "    <tr>\n",
       "      <th>2</th>\n",
       "      <td>Cook</td>\n",
       "      <td>148403</td>\n",
       "    </tr>\n",
       "    <tr>\n",
       "      <th>3</th>\n",
       "      <td>Harris</td>\n",
       "      <td>148100</td>\n",
       "    </tr>\n",
       "    <tr>\n",
       "      <th>4</th>\n",
       "      <td>Maricopa</td>\n",
       "      <td>142968</td>\n",
       "    </tr>\n",
       "    <tr>\n",
       "      <th>5</th>\n",
       "      <td>Orange</td>\n",
       "      <td>112959</td>\n",
       "    </tr>\n",
       "    <tr>\n",
       "      <th>6</th>\n",
       "      <td>Dallas</td>\n",
       "      <td>88026</td>\n",
       "    </tr>\n",
       "    <tr>\n",
       "      <th>7</th>\n",
       "      <td>Jefferson</td>\n",
       "      <td>84684</td>\n",
       "    </tr>\n",
       "    <tr>\n",
       "      <th>8</th>\n",
       "      <td>Clark</td>\n",
       "      <td>77914</td>\n",
       "    </tr>\n",
       "    <tr>\n",
       "      <th>9</th>\n",
       "      <td>Broward</td>\n",
       "      <td>77762</td>\n",
       "    </tr>\n",
       "  </tbody>\n",
       "</table>\n",
       "</div>"
      ],
      "text/plain": [
       "          city  confirmed\n",
       "0  Los Angeles     273638\n",
       "1   Miami-Dade     171876\n",
       "2         Cook     148403\n",
       "3       Harris     148100\n",
       "4     Maricopa     142968\n",
       "5       Orange     112959\n",
       "6       Dallas      88026\n",
       "7    Jefferson      84684\n",
       "8        Clark      77914\n",
       "9      Broward      77762"
      ]
     },
     "execution_count": 45,
     "metadata": {},
     "output_type": "execute_result"
    }
   ],
   "source": [
    "#จำนวน confirmed , deaths ในแต่ละcity\n",
    "Data_city = df.groupby([\"city\"])[\"confirmed\"].sum().reset_index().sort_values(\"confirmed\",ascending=False).reset_index(drop=True)\n",
    "Data_city.head(10)"
   ]
  },
  {
   "cell_type": "code",
   "execution_count": 77,
   "metadata": {},
   "outputs": [
    {
     "data": {
      "application/vnd.plotly.v1+json": {
       "config": {
        "plotlyServerURL": "https://plot.ly"
       },
       "data": [
        {
         "labels": [
          "Los Angeles",
          "Miami-Dade",
          "Cook",
          "Harris",
          "Maricopa",
          "Orange",
          "Dallas",
          "Jefferson",
          "Clark",
          "Broward",
          "Kings",
          "Suffolk",
          "Montgomery",
          "Queens",
          "Riverside",
          "Bexar",
          "San Bernardino",
          "Bronx",
          "Tarrant",
          "Middlesex"
         ],
         "marker": {
          "colorscale": [
           [
            0,
            "rgb(249, 221, 218)"
           ],
           [
            0.16666666666666666,
            "rgb(242, 185, 196)"
           ],
           [
            0.3333333333333333,
            "rgb(229, 151, 185)"
           ],
           [
            0.5,
            "rgb(206, 120, 179)"
           ],
           [
            0.6666666666666666,
            "rgb(173, 95, 173)"
           ],
           [
            0.8333333333333334,
            "rgb(131, 75, 160)"
           ],
           [
            1,
            "rgb(87, 59, 136)"
           ]
          ]
         },
         "parents": [
          "",
          "",
          "",
          "",
          "",
          "",
          "",
          "",
          "",
          "",
          "",
          "",
          "",
          "",
          "",
          "",
          "",
          "",
          "",
          "",
          "",
          "",
          "",
          "",
          "",
          "",
          "",
          "",
          "",
          "",
          "",
          "",
          "",
          "",
          "",
          "",
          "",
          "",
          "",
          "",
          "",
          "",
          "",
          "",
          "",
          "",
          "",
          "",
          "",
          "",
          "",
          "",
          "",
          "",
          "",
          "",
          "",
          "",
          "",
          "",
          "",
          "",
          "",
          "",
          "",
          "",
          "",
          "",
          "",
          "",
          "",
          "",
          "",
          "",
          "",
          "",
          "",
          "",
          "",
          "",
          "",
          "",
          "",
          "",
          "",
          "",
          "",
          "",
          "",
          "",
          "",
          "",
          "",
          "",
          "",
          "",
          "",
          "",
          "",
          "",
          "",
          "",
          "",
          "",
          "",
          "",
          "",
          "",
          "",
          "",
          "",
          "",
          "",
          "",
          "",
          "",
          "",
          "",
          "",
          "",
          "",
          "",
          "",
          "",
          "",
          "",
          "",
          "",
          "",
          "",
          "",
          "",
          "",
          "",
          "",
          "",
          "",
          "",
          "",
          "",
          "",
          "",
          "",
          "",
          "",
          "",
          "",
          "",
          "",
          "",
          "",
          "",
          "",
          "",
          "",
          "",
          "",
          "",
          "",
          "",
          "",
          "",
          "",
          "",
          "",
          "",
          "",
          "",
          "",
          "",
          "",
          "",
          "",
          "",
          "",
          "",
          "",
          "",
          "",
          "",
          "",
          "",
          "",
          "",
          "",
          "",
          "",
          "",
          "",
          "",
          "",
          "",
          "",
          "",
          "",
          "",
          "",
          "",
          "",
          "",
          "",
          "",
          "",
          "",
          "",
          "",
          "",
          "",
          "",
          "",
          "",
          "",
          "",
          "",
          "",
          "",
          "",
          "",
          "",
          "",
          "",
          "",
          "",
          "",
          "",
          "",
          "",
          "",
          "",
          "",
          "",
          "",
          "",
          "",
          "",
          "",
          "",
          "",
          "",
          "",
          "",
          "",
          "",
          "",
          "",
          "",
          "",
          "",
          "",
          "",
          "",
          "",
          "",
          "",
          "",
          "",
          "",
          "",
          "",
          "",
          "",
          "",
          "",
          "",
          "",
          "",
          "",
          "",
          "",
          "",
          "",
          "",
          "",
          "",
          "",
          "",
          "",
          "",
          "",
          "",
          "",
          "",
          "",
          "",
          "",
          "",
          "",
          "",
          "",
          "",
          "",
          "",
          "",
          "",
          "",
          "",
          "",
          "",
          "",
          "",
          "",
          "",
          "",
          "",
          "",
          "",
          "",
          "",
          "",
          "",
          "",
          "",
          "",
          "",
          "",
          "",
          "",
          "",
          "",
          "",
          "",
          "",
          "",
          "",
          "",
          "",
          "",
          "",
          "",
          "",
          "",
          "",
          "",
          "",
          "",
          "",
          "",
          "",
          "",
          "",
          "",
          "",
          "",
          "",
          "",
          "",
          "",
          "",
          "",
          "",
          "",
          "",
          "",
          "",
          "",
          "",
          "",
          "",
          "",
          "",
          "",
          "",
          "",
          "",
          "",
          "",
          "",
          "",
          "",
          "",
          "",
          "",
          "",
          "",
          "",
          "",
          "",
          "",
          "",
          "",
          "",
          "",
          "",
          "",
          "",
          "",
          "",
          "",
          "",
          "",
          "",
          "",
          "",
          "",
          "",
          "",
          "",
          "",
          "",
          "",
          "",
          "",
          "",
          "",
          "",
          "",
          "",
          "",
          "",
          "",
          "",
          "",
          "",
          "",
          "",
          "",
          "",
          "",
          "",
          "",
          "",
          "",
          "",
          "",
          "",
          "",
          "",
          "",
          "",
          "",
          "",
          "",
          "",
          "",
          "",
          "",
          "",
          "",
          "",
          "",
          "",
          "",
          "",
          "",
          "",
          "",
          "",
          "",
          "",
          "",
          "",
          "",
          "",
          "",
          "",
          "",
          "",
          "",
          "",
          "",
          "",
          "",
          "",
          "",
          "",
          "",
          "",
          "",
          "",
          "",
          "",
          "",
          "",
          "",
          "",
          "",
          "",
          "",
          "",
          "",
          "",
          "",
          "",
          "",
          "",
          "",
          "",
          "",
          "",
          "",
          "",
          "",
          "",
          "",
          "",
          "",
          "",
          "",
          "",
          "",
          "",
          "",
          "",
          "",
          "",
          "",
          "",
          "",
          "",
          "",
          "",
          "",
          "",
          "",
          "",
          "",
          "",
          "",
          "",
          "",
          "",
          "",
          "",
          "",
          "",
          "",
          "",
          "",
          "",
          "",
          "",
          "",
          "",
          "",
          "",
          "",
          "",
          "",
          "",
          "",
          "",
          "",
          "",
          "",
          "",
          "",
          "",
          "",
          "",
          "",
          "",
          "",
          "",
          "",
          "",
          "",
          "",
          "",
          "",
          "",
          "",
          ""
         ],
         "textinfo": "label+value",
         "type": "treemap",
         "values": [
          273638,
          171876,
          148403,
          148100,
          142968,
          112959,
          88026,
          84684,
          77914,
          77762,
          77393,
          73640,
          73300,
          73012,
          59934,
          58184,
          56011,
          53298,
          51499,
          49696
         ]
        }
       ],
       "layout": {
        "font": {
         "color": "black",
         "family": "Times New Roman",
         "size": 18
        },
        "paper_bgcolor": "#ade498",
        "plot_bgcolor": "#ade498",
        "template": {
         "data": {
          "bar": [
           {
            "error_x": {
             "color": "#2a3f5f"
            },
            "error_y": {
             "color": "#2a3f5f"
            },
            "marker": {
             "line": {
              "color": "#E5ECF6",
              "width": 0.5
             }
            },
            "type": "bar"
           }
          ],
          "barpolar": [
           {
            "marker": {
             "line": {
              "color": "#E5ECF6",
              "width": 0.5
             }
            },
            "type": "barpolar"
           }
          ],
          "carpet": [
           {
            "aaxis": {
             "endlinecolor": "#2a3f5f",
             "gridcolor": "white",
             "linecolor": "white",
             "minorgridcolor": "white",
             "startlinecolor": "#2a3f5f"
            },
            "baxis": {
             "endlinecolor": "#2a3f5f",
             "gridcolor": "white",
             "linecolor": "white",
             "minorgridcolor": "white",
             "startlinecolor": "#2a3f5f"
            },
            "type": "carpet"
           }
          ],
          "choropleth": [
           {
            "colorbar": {
             "outlinewidth": 0,
             "ticks": ""
            },
            "type": "choropleth"
           }
          ],
          "contour": [
           {
            "colorbar": {
             "outlinewidth": 0,
             "ticks": ""
            },
            "colorscale": [
             [
              0,
              "#0d0887"
             ],
             [
              0.1111111111111111,
              "#46039f"
             ],
             [
              0.2222222222222222,
              "#7201a8"
             ],
             [
              0.3333333333333333,
              "#9c179e"
             ],
             [
              0.4444444444444444,
              "#bd3786"
             ],
             [
              0.5555555555555556,
              "#d8576b"
             ],
             [
              0.6666666666666666,
              "#ed7953"
             ],
             [
              0.7777777777777778,
              "#fb9f3a"
             ],
             [
              0.8888888888888888,
              "#fdca26"
             ],
             [
              1,
              "#f0f921"
             ]
            ],
            "type": "contour"
           }
          ],
          "contourcarpet": [
           {
            "colorbar": {
             "outlinewidth": 0,
             "ticks": ""
            },
            "type": "contourcarpet"
           }
          ],
          "heatmap": [
           {
            "colorbar": {
             "outlinewidth": 0,
             "ticks": ""
            },
            "colorscale": [
             [
              0,
              "#0d0887"
             ],
             [
              0.1111111111111111,
              "#46039f"
             ],
             [
              0.2222222222222222,
              "#7201a8"
             ],
             [
              0.3333333333333333,
              "#9c179e"
             ],
             [
              0.4444444444444444,
              "#bd3786"
             ],
             [
              0.5555555555555556,
              "#d8576b"
             ],
             [
              0.6666666666666666,
              "#ed7953"
             ],
             [
              0.7777777777777778,
              "#fb9f3a"
             ],
             [
              0.8888888888888888,
              "#fdca26"
             ],
             [
              1,
              "#f0f921"
             ]
            ],
            "type": "heatmap"
           }
          ],
          "heatmapgl": [
           {
            "colorbar": {
             "outlinewidth": 0,
             "ticks": ""
            },
            "colorscale": [
             [
              0,
              "#0d0887"
             ],
             [
              0.1111111111111111,
              "#46039f"
             ],
             [
              0.2222222222222222,
              "#7201a8"
             ],
             [
              0.3333333333333333,
              "#9c179e"
             ],
             [
              0.4444444444444444,
              "#bd3786"
             ],
             [
              0.5555555555555556,
              "#d8576b"
             ],
             [
              0.6666666666666666,
              "#ed7953"
             ],
             [
              0.7777777777777778,
              "#fb9f3a"
             ],
             [
              0.8888888888888888,
              "#fdca26"
             ],
             [
              1,
              "#f0f921"
             ]
            ],
            "type": "heatmapgl"
           }
          ],
          "histogram": [
           {
            "marker": {
             "colorbar": {
              "outlinewidth": 0,
              "ticks": ""
             }
            },
            "type": "histogram"
           }
          ],
          "histogram2d": [
           {
            "colorbar": {
             "outlinewidth": 0,
             "ticks": ""
            },
            "colorscale": [
             [
              0,
              "#0d0887"
             ],
             [
              0.1111111111111111,
              "#46039f"
             ],
             [
              0.2222222222222222,
              "#7201a8"
             ],
             [
              0.3333333333333333,
              "#9c179e"
             ],
             [
              0.4444444444444444,
              "#bd3786"
             ],
             [
              0.5555555555555556,
              "#d8576b"
             ],
             [
              0.6666666666666666,
              "#ed7953"
             ],
             [
              0.7777777777777778,
              "#fb9f3a"
             ],
             [
              0.8888888888888888,
              "#fdca26"
             ],
             [
              1,
              "#f0f921"
             ]
            ],
            "type": "histogram2d"
           }
          ],
          "histogram2dcontour": [
           {
            "colorbar": {
             "outlinewidth": 0,
             "ticks": ""
            },
            "colorscale": [
             [
              0,
              "#0d0887"
             ],
             [
              0.1111111111111111,
              "#46039f"
             ],
             [
              0.2222222222222222,
              "#7201a8"
             ],
             [
              0.3333333333333333,
              "#9c179e"
             ],
             [
              0.4444444444444444,
              "#bd3786"
             ],
             [
              0.5555555555555556,
              "#d8576b"
             ],
             [
              0.6666666666666666,
              "#ed7953"
             ],
             [
              0.7777777777777778,
              "#fb9f3a"
             ],
             [
              0.8888888888888888,
              "#fdca26"
             ],
             [
              1,
              "#f0f921"
             ]
            ],
            "type": "histogram2dcontour"
           }
          ],
          "mesh3d": [
           {
            "colorbar": {
             "outlinewidth": 0,
             "ticks": ""
            },
            "type": "mesh3d"
           }
          ],
          "parcoords": [
           {
            "line": {
             "colorbar": {
              "outlinewidth": 0,
              "ticks": ""
             }
            },
            "type": "parcoords"
           }
          ],
          "pie": [
           {
            "automargin": true,
            "type": "pie"
           }
          ],
          "scatter": [
           {
            "marker": {
             "colorbar": {
              "outlinewidth": 0,
              "ticks": ""
             }
            },
            "type": "scatter"
           }
          ],
          "scatter3d": [
           {
            "line": {
             "colorbar": {
              "outlinewidth": 0,
              "ticks": ""
             }
            },
            "marker": {
             "colorbar": {
              "outlinewidth": 0,
              "ticks": ""
             }
            },
            "type": "scatter3d"
           }
          ],
          "scattercarpet": [
           {
            "marker": {
             "colorbar": {
              "outlinewidth": 0,
              "ticks": ""
             }
            },
            "type": "scattercarpet"
           }
          ],
          "scattergeo": [
           {
            "marker": {
             "colorbar": {
              "outlinewidth": 0,
              "ticks": ""
             }
            },
            "type": "scattergeo"
           }
          ],
          "scattergl": [
           {
            "marker": {
             "colorbar": {
              "outlinewidth": 0,
              "ticks": ""
             }
            },
            "type": "scattergl"
           }
          ],
          "scattermapbox": [
           {
            "marker": {
             "colorbar": {
              "outlinewidth": 0,
              "ticks": ""
             }
            },
            "type": "scattermapbox"
           }
          ],
          "scatterpolar": [
           {
            "marker": {
             "colorbar": {
              "outlinewidth": 0,
              "ticks": ""
             }
            },
            "type": "scatterpolar"
           }
          ],
          "scatterpolargl": [
           {
            "marker": {
             "colorbar": {
              "outlinewidth": 0,
              "ticks": ""
             }
            },
            "type": "scatterpolargl"
           }
          ],
          "scatterternary": [
           {
            "marker": {
             "colorbar": {
              "outlinewidth": 0,
              "ticks": ""
             }
            },
            "type": "scatterternary"
           }
          ],
          "surface": [
           {
            "colorbar": {
             "outlinewidth": 0,
             "ticks": ""
            },
            "colorscale": [
             [
              0,
              "#0d0887"
             ],
             [
              0.1111111111111111,
              "#46039f"
             ],
             [
              0.2222222222222222,
              "#7201a8"
             ],
             [
              0.3333333333333333,
              "#9c179e"
             ],
             [
              0.4444444444444444,
              "#bd3786"
             ],
             [
              0.5555555555555556,
              "#d8576b"
             ],
             [
              0.6666666666666666,
              "#ed7953"
             ],
             [
              0.7777777777777778,
              "#fb9f3a"
             ],
             [
              0.8888888888888888,
              "#fdca26"
             ],
             [
              1,
              "#f0f921"
             ]
            ],
            "type": "surface"
           }
          ],
          "table": [
           {
            "cells": {
             "fill": {
              "color": "#EBF0F8"
             },
             "line": {
              "color": "white"
             }
            },
            "header": {
             "fill": {
              "color": "#C8D4E3"
             },
             "line": {
              "color": "white"
             }
            },
            "type": "table"
           }
          ]
         },
         "layout": {
          "annotationdefaults": {
           "arrowcolor": "#2a3f5f",
           "arrowhead": 0,
           "arrowwidth": 1
          },
          "coloraxis": {
           "colorbar": {
            "outlinewidth": 0,
            "ticks": ""
           }
          },
          "colorscale": {
           "diverging": [
            [
             0,
             "#8e0152"
            ],
            [
             0.1,
             "#c51b7d"
            ],
            [
             0.2,
             "#de77ae"
            ],
            [
             0.3,
             "#f1b6da"
            ],
            [
             0.4,
             "#fde0ef"
            ],
            [
             0.5,
             "#f7f7f7"
            ],
            [
             0.6,
             "#e6f5d0"
            ],
            [
             0.7,
             "#b8e186"
            ],
            [
             0.8,
             "#7fbc41"
            ],
            [
             0.9,
             "#4d9221"
            ],
            [
             1,
             "#276419"
            ]
           ],
           "sequential": [
            [
             0,
             "#0d0887"
            ],
            [
             0.1111111111111111,
             "#46039f"
            ],
            [
             0.2222222222222222,
             "#7201a8"
            ],
            [
             0.3333333333333333,
             "#9c179e"
            ],
            [
             0.4444444444444444,
             "#bd3786"
            ],
            [
             0.5555555555555556,
             "#d8576b"
            ],
            [
             0.6666666666666666,
             "#ed7953"
            ],
            [
             0.7777777777777778,
             "#fb9f3a"
            ],
            [
             0.8888888888888888,
             "#fdca26"
            ],
            [
             1,
             "#f0f921"
            ]
           ],
           "sequentialminus": [
            [
             0,
             "#0d0887"
            ],
            [
             0.1111111111111111,
             "#46039f"
            ],
            [
             0.2222222222222222,
             "#7201a8"
            ],
            [
             0.3333333333333333,
             "#9c179e"
            ],
            [
             0.4444444444444444,
             "#bd3786"
            ],
            [
             0.5555555555555556,
             "#d8576b"
            ],
            [
             0.6666666666666666,
             "#ed7953"
            ],
            [
             0.7777777777777778,
             "#fb9f3a"
            ],
            [
             0.8888888888888888,
             "#fdca26"
            ],
            [
             1,
             "#f0f921"
            ]
           ]
          },
          "colorway": [
           "#636efa",
           "#EF553B",
           "#00cc96",
           "#ab63fa",
           "#FFA15A",
           "#19d3f3",
           "#FF6692",
           "#B6E880",
           "#FF97FF",
           "#FECB52"
          ],
          "font": {
           "color": "#2a3f5f"
          },
          "geo": {
           "bgcolor": "white",
           "lakecolor": "white",
           "landcolor": "#E5ECF6",
           "showlakes": true,
           "showland": true,
           "subunitcolor": "white"
          },
          "hoverlabel": {
           "align": "left"
          },
          "hovermode": "closest",
          "mapbox": {
           "style": "light"
          },
          "paper_bgcolor": "white",
          "plot_bgcolor": "#E5ECF6",
          "polar": {
           "angularaxis": {
            "gridcolor": "white",
            "linecolor": "white",
            "ticks": ""
           },
           "bgcolor": "#E5ECF6",
           "radialaxis": {
            "gridcolor": "white",
            "linecolor": "white",
            "ticks": ""
           }
          },
          "scene": {
           "xaxis": {
            "backgroundcolor": "#E5ECF6",
            "gridcolor": "white",
            "gridwidth": 2,
            "linecolor": "white",
            "showbackground": true,
            "ticks": "",
            "zerolinecolor": "white"
           },
           "yaxis": {
            "backgroundcolor": "#E5ECF6",
            "gridcolor": "white",
            "gridwidth": 2,
            "linecolor": "white",
            "showbackground": true,
            "ticks": "",
            "zerolinecolor": "white"
           },
           "zaxis": {
            "backgroundcolor": "#E5ECF6",
            "gridcolor": "white",
            "gridwidth": 2,
            "linecolor": "white",
            "showbackground": true,
            "ticks": "",
            "zerolinecolor": "white"
           }
          },
          "shapedefaults": {
           "line": {
            "color": "#2a3f5f"
           }
          },
          "ternary": {
           "aaxis": {
            "gridcolor": "white",
            "linecolor": "white",
            "ticks": ""
           },
           "baxis": {
            "gridcolor": "white",
            "linecolor": "white",
            "ticks": ""
           },
           "bgcolor": "#E5ECF6",
           "caxis": {
            "gridcolor": "white",
            "linecolor": "white",
            "ticks": ""
           }
          },
          "title": {
           "x": 0.05
          },
          "xaxis": {
           "automargin": true,
           "gridcolor": "white",
           "linecolor": "white",
           "ticks": "",
           "title": {
            "standoff": 15
           },
           "zerolinecolor": "white",
           "zerolinewidth": 2
          },
          "yaxis": {
           "automargin": true,
           "gridcolor": "white",
           "linecolor": "white",
           "ticks": "",
           "title": {
            "standoff": 15
           },
           "zerolinecolor": "white",
           "zerolinewidth": 2
          }
         }
        },
        "title": {
         "text": "Top 20 Covid-19 cases by City",
         "x": 0.5
        }
       }
      },
      "text/html": [
       "<div>                            <div id=\"0426adc2-036c-4f34-b7a6-8106ee73009c\" class=\"plotly-graph-div\" style=\"height:525px; width:100%;\"></div>            <script type=\"text/javascript\">                require([\"plotly\"], function(Plotly) {                    window.PLOTLYENV=window.PLOTLYENV || {};                                    if (document.getElementById(\"0426adc2-036c-4f34-b7a6-8106ee73009c\")) {                    Plotly.newPlot(                        \"0426adc2-036c-4f34-b7a6-8106ee73009c\",                        [{\"labels\": [\"Los Angeles\", \"Miami-Dade\", \"Cook\", \"Harris\", \"Maricopa\", \"Orange\", \"Dallas\", \"Jefferson\", \"Clark\", \"Broward\", \"Kings\", \"Suffolk\", \"Montgomery\", \"Queens\", \"Riverside\", \"Bexar\", \"San Bernardino\", \"Bronx\", \"Tarrant\", \"Middlesex\"], \"marker\": {\"colorscale\": [[0.0, \"rgb(249, 221, 218)\"], [0.16666666666666666, \"rgb(242, 185, 196)\"], [0.3333333333333333, \"rgb(229, 151, 185)\"], [0.5, \"rgb(206, 120, 179)\"], [0.6666666666666666, \"rgb(173, 95, 173)\"], [0.8333333333333334, \"rgb(131, 75, 160)\"], [1.0, \"rgb(87, 59, 136)\"]]}, \"parents\": [\"\", \"\", \"\", \"\", \"\", \"\", \"\", \"\", \"\", \"\", \"\", \"\", \"\", \"\", \"\", \"\", \"\", \"\", \"\", \"\", \"\", \"\", \"\", \"\", \"\", \"\", \"\", \"\", \"\", \"\", \"\", \"\", \"\", \"\", \"\", \"\", \"\", \"\", \"\", \"\", \"\", \"\", \"\", \"\", \"\", \"\", \"\", \"\", \"\", \"\", \"\", \"\", \"\", \"\", \"\", \"\", \"\", \"\", \"\", \"\", \"\", \"\", \"\", \"\", \"\", \"\", \"\", \"\", \"\", \"\", \"\", \"\", \"\", \"\", \"\", \"\", \"\", \"\", \"\", \"\", \"\", \"\", \"\", \"\", \"\", \"\", \"\", \"\", \"\", \"\", \"\", \"\", \"\", \"\", \"\", \"\", \"\", \"\", \"\", \"\", \"\", \"\", \"\", \"\", \"\", \"\", \"\", \"\", \"\", \"\", \"\", \"\", \"\", \"\", \"\", \"\", \"\", \"\", \"\", \"\", \"\", \"\", \"\", \"\", \"\", \"\", \"\", \"\", \"\", \"\", \"\", \"\", \"\", \"\", \"\", \"\", \"\", \"\", \"\", \"\", \"\", \"\", \"\", \"\", \"\", \"\", \"\", \"\", \"\", \"\", \"\", \"\", \"\", \"\", \"\", \"\", \"\", \"\", \"\", \"\", \"\", \"\", \"\", \"\", \"\", \"\", \"\", \"\", \"\", \"\", \"\", \"\", \"\", \"\", \"\", \"\", \"\", \"\", \"\", \"\", \"\", \"\", \"\", \"\", \"\", \"\", \"\", \"\", \"\", \"\", \"\", \"\", \"\", \"\", \"\", \"\", \"\", \"\", \"\", \"\", \"\", \"\", \"\", \"\", \"\", \"\", \"\", \"\", \"\", \"\", \"\", \"\", \"\", \"\", \"\", \"\", \"\", \"\", \"\", \"\", \"\", \"\", \"\", \"\", \"\", \"\", \"\", \"\", \"\", \"\", \"\", \"\", \"\", \"\", \"\", \"\", \"\", \"\", \"\", \"\", \"\", \"\", \"\", \"\", \"\", \"\", \"\", \"\", \"\", \"\", \"\", \"\", \"\", \"\", \"\", \"\", \"\", \"\", \"\", \"\", \"\", \"\", \"\", \"\", \"\", \"\", \"\", \"\", \"\", \"\", \"\", \"\", \"\", \"\", \"\", \"\", \"\", \"\", \"\", \"\", \"\", \"\", \"\", \"\", \"\", \"\", \"\", \"\", \"\", \"\", \"\", \"\", \"\", \"\", \"\", \"\", \"\", \"\", \"\", \"\", \"\", \"\", \"\", \"\", \"\", \"\", \"\", \"\", \"\", \"\", \"\", \"\", \"\", \"\", \"\", \"\", \"\", \"\", \"\", \"\", \"\", \"\", \"\", \"\", \"\", \"\", \"\", \"\", \"\", \"\", \"\", \"\", \"\", \"\", \"\", \"\", \"\", \"\", \"\", \"\", \"\", \"\", \"\", \"\", \"\", \"\", \"\", \"\", \"\", \"\", \"\", \"\", \"\", \"\", \"\", \"\", \"\", \"\", \"\", \"\", \"\", \"\", \"\", \"\", \"\", \"\", \"\", \"\", \"\", \"\", \"\", \"\", \"\", \"\", \"\", \"\", \"\", \"\", \"\", \"\", \"\", \"\", \"\", \"\", \"\", \"\", \"\", \"\", \"\", \"\", \"\", \"\", \"\", \"\", \"\", \"\", \"\", \"\", \"\", \"\", \"\", \"\", \"\", \"\", \"\", \"\", \"\", \"\", \"\", \"\", \"\", \"\", \"\", \"\", \"\", \"\", \"\", \"\", \"\", \"\", \"\", \"\", \"\", \"\", \"\", \"\", \"\", \"\", \"\", \"\", \"\", \"\", \"\", \"\", \"\", \"\", \"\", \"\", \"\", \"\", \"\", \"\", \"\", \"\", \"\", \"\", \"\", \"\", \"\", \"\", \"\", \"\", \"\", \"\", \"\", \"\", \"\", \"\", \"\", \"\", \"\", \"\", \"\", \"\", \"\", \"\", \"\", \"\", \"\", \"\", \"\", \"\", \"\", \"\", \"\", \"\", \"\", \"\", \"\", \"\", \"\", \"\", \"\", \"\", \"\", \"\", \"\", \"\", \"\", \"\", \"\", \"\", \"\", \"\", \"\", \"\", \"\", \"\", \"\", \"\", \"\", \"\", \"\", \"\", \"\", \"\", \"\", \"\", \"\", \"\", \"\", \"\", \"\", \"\", \"\", \"\", \"\", \"\", \"\", \"\", \"\", \"\", \"\", \"\", \"\", \"\", \"\", \"\", \"\", \"\", \"\", \"\", \"\", \"\", \"\", \"\", \"\", \"\", \"\", \"\", \"\", \"\", \"\", \"\", \"\", \"\", \"\", \"\", \"\", \"\", \"\", \"\", \"\", \"\", \"\", \"\", \"\", \"\", \"\", \"\", \"\", \"\"], \"textinfo\": \"label+value\", \"type\": \"treemap\", \"values\": [273638, 171876, 148403, 148100, 142968, 112959, 88026, 84684, 77914, 77762, 77393, 73640, 73300, 73012, 59934, 58184, 56011, 53298, 51499, 49696]}],                        {\"font\": {\"color\": \"black\", \"family\": \"Times New Roman\", \"size\": 18}, \"paper_bgcolor\": \"#ade498\", \"plot_bgcolor\": \"#ade498\", \"template\": {\"data\": {\"bar\": [{\"error_x\": {\"color\": \"#2a3f5f\"}, \"error_y\": {\"color\": \"#2a3f5f\"}, \"marker\": {\"line\": {\"color\": \"#E5ECF6\", \"width\": 0.5}}, \"type\": \"bar\"}], \"barpolar\": [{\"marker\": {\"line\": {\"color\": \"#E5ECF6\", \"width\": 0.5}}, \"type\": \"barpolar\"}], \"carpet\": [{\"aaxis\": {\"endlinecolor\": \"#2a3f5f\", \"gridcolor\": \"white\", \"linecolor\": \"white\", \"minorgridcolor\": \"white\", \"startlinecolor\": \"#2a3f5f\"}, \"baxis\": {\"endlinecolor\": \"#2a3f5f\", \"gridcolor\": \"white\", \"linecolor\": \"white\", \"minorgridcolor\": \"white\", \"startlinecolor\": \"#2a3f5f\"}, \"type\": \"carpet\"}], \"choropleth\": [{\"colorbar\": {\"outlinewidth\": 0, \"ticks\": \"\"}, \"type\": \"choropleth\"}], \"contour\": [{\"colorbar\": {\"outlinewidth\": 0, \"ticks\": \"\"}, \"colorscale\": [[0.0, \"#0d0887\"], [0.1111111111111111, \"#46039f\"], [0.2222222222222222, \"#7201a8\"], [0.3333333333333333, \"#9c179e\"], [0.4444444444444444, \"#bd3786\"], [0.5555555555555556, \"#d8576b\"], [0.6666666666666666, \"#ed7953\"], [0.7777777777777778, \"#fb9f3a\"], [0.8888888888888888, \"#fdca26\"], [1.0, \"#f0f921\"]], \"type\": \"contour\"}], \"contourcarpet\": [{\"colorbar\": {\"outlinewidth\": 0, \"ticks\": \"\"}, \"type\": \"contourcarpet\"}], \"heatmap\": [{\"colorbar\": {\"outlinewidth\": 0, \"ticks\": \"\"}, \"colorscale\": [[0.0, \"#0d0887\"], [0.1111111111111111, \"#46039f\"], [0.2222222222222222, \"#7201a8\"], [0.3333333333333333, \"#9c179e\"], [0.4444444444444444, \"#bd3786\"], [0.5555555555555556, \"#d8576b\"], [0.6666666666666666, \"#ed7953\"], [0.7777777777777778, \"#fb9f3a\"], [0.8888888888888888, \"#fdca26\"], [1.0, \"#f0f921\"]], \"type\": \"heatmap\"}], \"heatmapgl\": [{\"colorbar\": {\"outlinewidth\": 0, \"ticks\": \"\"}, \"colorscale\": [[0.0, \"#0d0887\"], [0.1111111111111111, \"#46039f\"], [0.2222222222222222, \"#7201a8\"], [0.3333333333333333, \"#9c179e\"], [0.4444444444444444, \"#bd3786\"], [0.5555555555555556, \"#d8576b\"], [0.6666666666666666, \"#ed7953\"], [0.7777777777777778, \"#fb9f3a\"], [0.8888888888888888, \"#fdca26\"], [1.0, \"#f0f921\"]], \"type\": \"heatmapgl\"}], \"histogram\": [{\"marker\": {\"colorbar\": {\"outlinewidth\": 0, \"ticks\": \"\"}}, \"type\": \"histogram\"}], \"histogram2d\": [{\"colorbar\": {\"outlinewidth\": 0, \"ticks\": \"\"}, \"colorscale\": [[0.0, \"#0d0887\"], [0.1111111111111111, \"#46039f\"], [0.2222222222222222, \"#7201a8\"], [0.3333333333333333, \"#9c179e\"], [0.4444444444444444, \"#bd3786\"], [0.5555555555555556, \"#d8576b\"], [0.6666666666666666, \"#ed7953\"], [0.7777777777777778, \"#fb9f3a\"], [0.8888888888888888, \"#fdca26\"], [1.0, \"#f0f921\"]], \"type\": \"histogram2d\"}], \"histogram2dcontour\": [{\"colorbar\": {\"outlinewidth\": 0, \"ticks\": \"\"}, \"colorscale\": [[0.0, \"#0d0887\"], [0.1111111111111111, \"#46039f\"], [0.2222222222222222, \"#7201a8\"], [0.3333333333333333, \"#9c179e\"], [0.4444444444444444, \"#bd3786\"], [0.5555555555555556, \"#d8576b\"], [0.6666666666666666, \"#ed7953\"], [0.7777777777777778, \"#fb9f3a\"], [0.8888888888888888, \"#fdca26\"], [1.0, \"#f0f921\"]], \"type\": \"histogram2dcontour\"}], \"mesh3d\": [{\"colorbar\": {\"outlinewidth\": 0, \"ticks\": \"\"}, \"type\": \"mesh3d\"}], \"parcoords\": [{\"line\": {\"colorbar\": {\"outlinewidth\": 0, \"ticks\": \"\"}}, \"type\": \"parcoords\"}], \"pie\": [{\"automargin\": true, \"type\": \"pie\"}], \"scatter\": [{\"marker\": {\"colorbar\": {\"outlinewidth\": 0, \"ticks\": \"\"}}, \"type\": \"scatter\"}], \"scatter3d\": [{\"line\": {\"colorbar\": {\"outlinewidth\": 0, \"ticks\": \"\"}}, \"marker\": {\"colorbar\": {\"outlinewidth\": 0, \"ticks\": \"\"}}, \"type\": \"scatter3d\"}], \"scattercarpet\": [{\"marker\": {\"colorbar\": {\"outlinewidth\": 0, \"ticks\": \"\"}}, \"type\": \"scattercarpet\"}], \"scattergeo\": [{\"marker\": {\"colorbar\": {\"outlinewidth\": 0, \"ticks\": \"\"}}, \"type\": \"scattergeo\"}], \"scattergl\": [{\"marker\": {\"colorbar\": {\"outlinewidth\": 0, \"ticks\": \"\"}}, \"type\": \"scattergl\"}], \"scattermapbox\": [{\"marker\": {\"colorbar\": {\"outlinewidth\": 0, \"ticks\": \"\"}}, \"type\": \"scattermapbox\"}], \"scatterpolar\": [{\"marker\": {\"colorbar\": {\"outlinewidth\": 0, \"ticks\": \"\"}}, \"type\": \"scatterpolar\"}], \"scatterpolargl\": [{\"marker\": {\"colorbar\": {\"outlinewidth\": 0, \"ticks\": \"\"}}, \"type\": \"scatterpolargl\"}], \"scatterternary\": [{\"marker\": {\"colorbar\": {\"outlinewidth\": 0, \"ticks\": \"\"}}, \"type\": \"scatterternary\"}], \"surface\": [{\"colorbar\": {\"outlinewidth\": 0, \"ticks\": \"\"}, \"colorscale\": [[0.0, \"#0d0887\"], [0.1111111111111111, \"#46039f\"], [0.2222222222222222, \"#7201a8\"], [0.3333333333333333, \"#9c179e\"], [0.4444444444444444, \"#bd3786\"], [0.5555555555555556, \"#d8576b\"], [0.6666666666666666, \"#ed7953\"], [0.7777777777777778, \"#fb9f3a\"], [0.8888888888888888, \"#fdca26\"], [1.0, \"#f0f921\"]], \"type\": \"surface\"}], \"table\": [{\"cells\": {\"fill\": {\"color\": \"#EBF0F8\"}, \"line\": {\"color\": \"white\"}}, \"header\": {\"fill\": {\"color\": \"#C8D4E3\"}, \"line\": {\"color\": \"white\"}}, \"type\": \"table\"}]}, \"layout\": {\"annotationdefaults\": {\"arrowcolor\": \"#2a3f5f\", \"arrowhead\": 0, \"arrowwidth\": 1}, \"coloraxis\": {\"colorbar\": {\"outlinewidth\": 0, \"ticks\": \"\"}}, \"colorscale\": {\"diverging\": [[0, \"#8e0152\"], [0.1, \"#c51b7d\"], [0.2, \"#de77ae\"], [0.3, \"#f1b6da\"], [0.4, \"#fde0ef\"], [0.5, \"#f7f7f7\"], [0.6, \"#e6f5d0\"], [0.7, \"#b8e186\"], [0.8, \"#7fbc41\"], [0.9, \"#4d9221\"], [1, \"#276419\"]], \"sequential\": [[0.0, \"#0d0887\"], [0.1111111111111111, \"#46039f\"], [0.2222222222222222, \"#7201a8\"], [0.3333333333333333, \"#9c179e\"], [0.4444444444444444, \"#bd3786\"], [0.5555555555555556, \"#d8576b\"], [0.6666666666666666, \"#ed7953\"], [0.7777777777777778, \"#fb9f3a\"], [0.8888888888888888, \"#fdca26\"], [1.0, \"#f0f921\"]], \"sequentialminus\": [[0.0, \"#0d0887\"], [0.1111111111111111, \"#46039f\"], [0.2222222222222222, \"#7201a8\"], [0.3333333333333333, \"#9c179e\"], [0.4444444444444444, \"#bd3786\"], [0.5555555555555556, \"#d8576b\"], [0.6666666666666666, \"#ed7953\"], [0.7777777777777778, \"#fb9f3a\"], [0.8888888888888888, \"#fdca26\"], [1.0, \"#f0f921\"]]}, \"colorway\": [\"#636efa\", \"#EF553B\", \"#00cc96\", \"#ab63fa\", \"#FFA15A\", \"#19d3f3\", \"#FF6692\", \"#B6E880\", \"#FF97FF\", \"#FECB52\"], \"font\": {\"color\": \"#2a3f5f\"}, \"geo\": {\"bgcolor\": \"white\", \"lakecolor\": \"white\", \"landcolor\": \"#E5ECF6\", \"showlakes\": true, \"showland\": true, \"subunitcolor\": \"white\"}, \"hoverlabel\": {\"align\": \"left\"}, \"hovermode\": \"closest\", \"mapbox\": {\"style\": \"light\"}, \"paper_bgcolor\": \"white\", \"plot_bgcolor\": \"#E5ECF6\", \"polar\": {\"angularaxis\": {\"gridcolor\": \"white\", \"linecolor\": \"white\", \"ticks\": \"\"}, \"bgcolor\": \"#E5ECF6\", \"radialaxis\": {\"gridcolor\": \"white\", \"linecolor\": \"white\", \"ticks\": \"\"}}, \"scene\": {\"xaxis\": {\"backgroundcolor\": \"#E5ECF6\", \"gridcolor\": \"white\", \"gridwidth\": 2, \"linecolor\": \"white\", \"showbackground\": true, \"ticks\": \"\", \"zerolinecolor\": \"white\"}, \"yaxis\": {\"backgroundcolor\": \"#E5ECF6\", \"gridcolor\": \"white\", \"gridwidth\": 2, \"linecolor\": \"white\", \"showbackground\": true, \"ticks\": \"\", \"zerolinecolor\": \"white\"}, \"zaxis\": {\"backgroundcolor\": \"#E5ECF6\", \"gridcolor\": \"white\", \"gridwidth\": 2, \"linecolor\": \"white\", \"showbackground\": true, \"ticks\": \"\", \"zerolinecolor\": \"white\"}}, \"shapedefaults\": {\"line\": {\"color\": \"#2a3f5f\"}}, \"ternary\": {\"aaxis\": {\"gridcolor\": \"white\", \"linecolor\": \"white\", \"ticks\": \"\"}, \"baxis\": {\"gridcolor\": \"white\", \"linecolor\": \"white\", \"ticks\": \"\"}, \"bgcolor\": \"#E5ECF6\", \"caxis\": {\"gridcolor\": \"white\", \"linecolor\": \"white\", \"ticks\": \"\"}}, \"title\": {\"x\": 0.05}, \"xaxis\": {\"automargin\": true, \"gridcolor\": \"white\", \"linecolor\": \"white\", \"ticks\": \"\", \"title\": {\"standoff\": 15}, \"zerolinecolor\": \"white\", \"zerolinewidth\": 2}, \"yaxis\": {\"automargin\": true, \"gridcolor\": \"white\", \"linecolor\": \"white\", \"ticks\": \"\", \"title\": {\"standoff\": 15}, \"zerolinecolor\": \"white\", \"zerolinewidth\": 2}}}, \"title\": {\"text\": \"Top 20 Covid-19 cases by City\", \"x\": 0.5}},                        {\"responsive\": true}                    ).then(function(){\n",
       "                            \n",
       "var gd = document.getElementById('0426adc2-036c-4f34-b7a6-8106ee73009c');\n",
       "var x = new MutationObserver(function (mutations, observer) {{\n",
       "        var display = window.getComputedStyle(gd).display;\n",
       "        if (!display || display === 'none') {{\n",
       "            console.log([gd, 'removed!']);\n",
       "            Plotly.purge(gd);\n",
       "            observer.disconnect();\n",
       "        }}\n",
       "}});\n",
       "\n",
       "// Listen for the removal of the full notebook cells\n",
       "var notebookContainer = gd.closest('#notebook-container');\n",
       "if (notebookContainer) {{\n",
       "    x.observe(notebookContainer, {childList: true});\n",
       "}}\n",
       "\n",
       "// Listen for the clearing of the current output cell\n",
       "var outputEl = gd.closest('.output');\n",
       "if (outputEl) {{\n",
       "    x.observe(outputEl, {childList: true});\n",
       "}}\n",
       "\n",
       "                        })                };                });            </script>        </div>"
      ]
     },
     "metadata": {},
     "output_type": "display_data"
    }
   ],
   "source": [
    "#นำข้อมูลที่ได้ทำการ group by city มาplot ลงใน treemaps\n",
    "city= Data_city[\"city\"]\n",
    "confirmed_ct = Data_city[\"confirmed\"]\n",
    "\n",
    "fig= go.Figure(go.Treemap(\n",
    "    \n",
    "    labels =  Data_city[\"city\"].head(20),\n",
    "    parents=[\"\"]*len(state),\n",
    "    values =  Data_city[\"confirmed\"].head(20),\n",
    "    textinfo = \"label+value\",\n",
    "    marker_colorscale = \"purpor\"\n",
    "))\n",
    "fig.update_layout(\n",
    "    title_text= 'Top 20 Covid-19 cases by City',\n",
    "    title_x=0.5,\n",
    "    paper_bgcolor='#ade498',\n",
    "    plot_bgcolor = \"#ade498\",\n",
    "    font=dict(\n",
    "        family=\"Times New Roman\",\n",
    "        size=18,\n",
    "        color=\"black\"\n",
    "    )\n",
    "    \n",
    "    )\n",
    "\n",
    "fig.show()"
   ]
  },
  {
   "cell_type": "markdown",
   "metadata": {},
   "source": [
    "## สรุปผล\n",
    "    Los Angeles 272,665 คน\n",
    "    Miami-Dade 171,391 คน\n",
    "    Cook 147,478 คน\n",
    "    Harris  147,034 คน \n",
    "    Marricopa 142,566 คน\n",
    "    \n",
    "               เมื่อพิจารณา Top 20 เมืองที่มียอดผู้ติดเชื้อมากที่สุด พบว่า จาก15ใน20อันดับ เป็นประเทศสหรัฐอเมริกาซึ่งเป็นประเทศที่มียอดผู้ติดเชื้อ,และยอดผู้เสียชีวิตเป็นอันดับ 1 ของโลก เมื่อพิจารณาปัจจัยที่ส่งผลต่อจำนวนผู้ติดเชื้อและเสียชีวิตในอเมริกา พบว่า \n",
    "               1. ประชาชนไม่ได้ใส่หน้ากากอนามัยและมีการใช้ชีวิตที่ปกติ เช่น มีการจัดปาร์ตี้ และไม่มีการทำ social distancing\n",
    "               2. สหรัฐไม่มีระบบสุขภาพเพื่อดูแลคนทั้งประเทศ ซึ่งไม่สามารถเข้าถึงประชาชนที่มีรายได้ต่ำได้\n",
    "               3. พลเมืองอเมริกันราว 8.5 เปอร์เซ็นต์ ไม่มีประกันสุขภาพใดๆ เลย และไม่อยู่ในกลุ่มที่จะได้รับความช่วยเหลือจากรัฐบาล \n",
    "               4. ยอดผู้ติดเชื้อพุ่งสูงขึ้นทำให้โรงพยาบาลและแพทย์มีไม่เพียงพอต่อความต้องการที่จะรักษา จึงมีทางเลือกแค่ให้ผู้ติดเชื้อรักษาตัวเองที่บ้าน โดยมีเพียงคำแนะนำในการดูแลตัวเองจากแพทย์เท่านั้น\n",
    "               5. วิสัยทัศน์ของประธานาธิบดี โดนัล ทรัมป์ \"เรื่องของการสวมหน้ากาก เป็นเรื่องของความสมัครใจ คุณจะทำก็ได้ ไม่ทำก็ได้ ผมเลือกที่จะไม่สวมมัน แต่บางคนอาจจะอยากสวมหน้ากาก ซึ่งมันก็ไม่เป็นอะไร\" ซึ่งส่งผลให้ชาวอเมริกันที่สนับสนุนทรัมป์นั้นปฏิบัติตาม \n",
    "               \n",
    "               \n",
    "       อ้างอิง : http://www.voicetv.co.th/read/GGUyVF_Lp\n",
    "  "
   ]
  },
  {
   "cell_type": "code",
   "execution_count": null,
   "metadata": {},
   "outputs": [],
   "source": []
  }
 ],
 "metadata": {
  "colab": {
   "collapsed_sections": [],
   "name": "ASS_DTS_EDIT.ipynb",
   "provenance": [],
   "toc_visible": true
  },
  "kernelspec": {
   "display_name": "Python 3",
   "language": "python",
   "name": "python3"
  },
  "language_info": {
   "codemirror_mode": {
    "name": "ipython",
    "version": 3
   },
   "file_extension": ".py",
   "mimetype": "text/x-python",
   "name": "python",
   "nbconvert_exporter": "python",
   "pygments_lexer": "ipython3",
   "version": "3.8.3"
  }
 },
 "nbformat": 4,
 "nbformat_minor": 1
}
