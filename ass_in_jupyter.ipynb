{
 "cells": [
  {
   "cell_type": "markdown",
   "metadata": {},
   "source": [
    "# Assignment 1 \n",
    "### COVID-19 \n",
    "\n"
   ]
  },
  {
   "cell_type": "markdown",
   "metadata": {},
   "source": [
    "##### ทำการ import libraly ที่ต้องใช้"
   ]
  },
  {
   "cell_type": "code",
   "execution_count": 2,
   "metadata": {
    "id": "ziuPnqeyMIB8"
   },
   "outputs": [],
   "source": [
    "import urllib\n",
    "import requests\n",
    "import matplotlib.pyplot as plt\n",
    "from pandas.io.json import json_normalize\n",
    "import json\n",
    "import plotly.graph_objects as go\n",
    "import pandas as pd\n",
    "import plotly.express as px\n",
    "import seaborn as sns\n",
    "import numpy as np\n",
    "import requests\n",
    "import warnings\n",
    "warnings.simplefilter(action='ignore', category=FutureWarning)\n"
   ]
  },
  {
   "cell_type": "code",
   "execution_count": 4,
   "metadata": {
    "colab": {
     "base_uri": "https://localhost:8080/",
     "height": 1000
    },
    "id": "SKoZRmJJMPcf",
    "outputId": "c5ea8358-f466-4e91-9992-007f5c2e4f8c"
   },
   "outputs": [],
   "source": [
    "url = 'https://covid19-api.weedmark.systems/api/v1/stats'\n",
    "r = requests.get(url)\n",
    "j = r.json()\n"
   ]
  },
  {
   "cell_type": "code",
   "execution_count": 5,
   "metadata": {
    "colab": {
     "base_uri": "https://localhost:8080/",
     "height": 402
    },
    "id": "YcTjpwO7M0U_",
    "outputId": "df4248b1-9071-4a0f-818e-fb22d1e50ef8",
    "scrolled": false
   },
   "outputs": [
    {
     "data": {
      "text/html": [
       "<div>\n",
       "<style scoped>\n",
       "    .dataframe tbody tr th:only-of-type {\n",
       "        vertical-align: middle;\n",
       "    }\n",
       "\n",
       "    .dataframe tbody tr th {\n",
       "        vertical-align: top;\n",
       "    }\n",
       "\n",
       "    .dataframe thead th {\n",
       "        text-align: right;\n",
       "    }\n",
       "</style>\n",
       "<table border=\"1\" class=\"dataframe\">\n",
       "  <thead>\n",
       "    <tr style=\"text-align: right;\">\n",
       "      <th></th>\n",
       "      <th>city</th>\n",
       "      <th>province</th>\n",
       "      <th>country</th>\n",
       "      <th>lastUpdate</th>\n",
       "      <th>keyId</th>\n",
       "      <th>confirmed</th>\n",
       "      <th>deaths</th>\n",
       "      <th>recovered</th>\n",
       "    </tr>\n",
       "  </thead>\n",
       "  <tbody>\n",
       "    <tr>\n",
       "      <th>0</th>\n",
       "      <td>None</td>\n",
       "      <td>None</td>\n",
       "      <td>Afghanistan</td>\n",
       "      <td>2020-10-01T04:23:42+00:00</td>\n",
       "      <td>Afghanistan</td>\n",
       "      <td>39268</td>\n",
       "      <td>1458</td>\n",
       "      <td>32789.0</td>\n",
       "    </tr>\n",
       "    <tr>\n",
       "      <th>1</th>\n",
       "      <td>None</td>\n",
       "      <td>None</td>\n",
       "      <td>Albania</td>\n",
       "      <td>2020-10-01T04:23:42+00:00</td>\n",
       "      <td>Albania</td>\n",
       "      <td>13649</td>\n",
       "      <td>387</td>\n",
       "      <td>7847.0</td>\n",
       "    </tr>\n",
       "    <tr>\n",
       "      <th>2</th>\n",
       "      <td>None</td>\n",
       "      <td>None</td>\n",
       "      <td>Algeria</td>\n",
       "      <td>2020-10-01T04:23:42+00:00</td>\n",
       "      <td>Algeria</td>\n",
       "      <td>51530</td>\n",
       "      <td>1736</td>\n",
       "      <td>36174.0</td>\n",
       "    </tr>\n",
       "    <tr>\n",
       "      <th>3</th>\n",
       "      <td>None</td>\n",
       "      <td>None</td>\n",
       "      <td>Andorra</td>\n",
       "      <td>2020-10-01T04:23:42+00:00</td>\n",
       "      <td>Andorra</td>\n",
       "      <td>2050</td>\n",
       "      <td>53</td>\n",
       "      <td>1432.0</td>\n",
       "    </tr>\n",
       "    <tr>\n",
       "      <th>4</th>\n",
       "      <td>None</td>\n",
       "      <td>None</td>\n",
       "      <td>Angola</td>\n",
       "      <td>2020-10-01T04:23:42+00:00</td>\n",
       "      <td>Angola</td>\n",
       "      <td>4972</td>\n",
       "      <td>183</td>\n",
       "      <td>1941.0</td>\n",
       "    </tr>\n",
       "    <tr>\n",
       "      <th>...</th>\n",
       "      <td>...</td>\n",
       "      <td>...</td>\n",
       "      <td>...</td>\n",
       "      <td>...</td>\n",
       "      <td>...</td>\n",
       "      <td>...</td>\n",
       "      <td>...</td>\n",
       "      <td>...</td>\n",
       "    </tr>\n",
       "    <tr>\n",
       "      <th>3950</th>\n",
       "      <td>None</td>\n",
       "      <td>None</td>\n",
       "      <td>West Bank and Gaza</td>\n",
       "      <td>2020-10-01T04:23:42+00:00</td>\n",
       "      <td>West Bank and Gaza</td>\n",
       "      <td>39899</td>\n",
       "      <td>311</td>\n",
       "      <td>31743.0</td>\n",
       "    </tr>\n",
       "    <tr>\n",
       "      <th>3951</th>\n",
       "      <td>None</td>\n",
       "      <td>None</td>\n",
       "      <td>Western Sahara</td>\n",
       "      <td>2020-10-01T04:23:42+00:00</td>\n",
       "      <td>Western Sahara</td>\n",
       "      <td>10</td>\n",
       "      <td>1</td>\n",
       "      <td>8.0</td>\n",
       "    </tr>\n",
       "    <tr>\n",
       "      <th>3952</th>\n",
       "      <td>None</td>\n",
       "      <td>None</td>\n",
       "      <td>Yemen</td>\n",
       "      <td>2020-10-01T04:23:42+00:00</td>\n",
       "      <td>Yemen</td>\n",
       "      <td>2034</td>\n",
       "      <td>587</td>\n",
       "      <td>1286.0</td>\n",
       "    </tr>\n",
       "    <tr>\n",
       "      <th>3953</th>\n",
       "      <td>None</td>\n",
       "      <td>None</td>\n",
       "      <td>Zambia</td>\n",
       "      <td>2020-10-01T04:23:42+00:00</td>\n",
       "      <td>Zambia</td>\n",
       "      <td>14759</td>\n",
       "      <td>332</td>\n",
       "      <td>13959.0</td>\n",
       "    </tr>\n",
       "    <tr>\n",
       "      <th>3954</th>\n",
       "      <td>None</td>\n",
       "      <td>None</td>\n",
       "      <td>Zimbabwe</td>\n",
       "      <td>2020-10-01T04:23:42+00:00</td>\n",
       "      <td>Zimbabwe</td>\n",
       "      <td>7838</td>\n",
       "      <td>228</td>\n",
       "      <td>6303.0</td>\n",
       "    </tr>\n",
       "  </tbody>\n",
       "</table>\n",
       "<p>3955 rows × 8 columns</p>\n",
       "</div>"
      ],
      "text/plain": [
       "      city province             country                 lastUpdate  \\\n",
       "0     None     None         Afghanistan  2020-10-01T04:23:42+00:00   \n",
       "1     None     None             Albania  2020-10-01T04:23:42+00:00   \n",
       "2     None     None             Algeria  2020-10-01T04:23:42+00:00   \n",
       "3     None     None             Andorra  2020-10-01T04:23:42+00:00   \n",
       "4     None     None              Angola  2020-10-01T04:23:42+00:00   \n",
       "...    ...      ...                 ...                        ...   \n",
       "3950  None     None  West Bank and Gaza  2020-10-01T04:23:42+00:00   \n",
       "3951  None     None      Western Sahara  2020-10-01T04:23:42+00:00   \n",
       "3952  None     None               Yemen  2020-10-01T04:23:42+00:00   \n",
       "3953  None     None              Zambia  2020-10-01T04:23:42+00:00   \n",
       "3954  None     None            Zimbabwe  2020-10-01T04:23:42+00:00   \n",
       "\n",
       "                   keyId  confirmed  deaths  recovered  \n",
       "0            Afghanistan      39268    1458    32789.0  \n",
       "1                Albania      13649     387     7847.0  \n",
       "2                Algeria      51530    1736    36174.0  \n",
       "3                Andorra       2050      53     1432.0  \n",
       "4                 Angola       4972     183     1941.0  \n",
       "...                  ...        ...     ...        ...  \n",
       "3950  West Bank and Gaza      39899     311    31743.0  \n",
       "3951      Western Sahara         10       1        8.0  \n",
       "3952               Yemen       2034     587     1286.0  \n",
       "3953              Zambia      14759     332    13959.0  \n",
       "3954            Zimbabwe       7838     228     6303.0  \n",
       "\n",
       "[3955 rows x 8 columns]"
      ]
     },
     "execution_count": 5,
     "metadata": {},
     "output_type": "execute_result"
    }
   ],
   "source": [
    "#เอาข้อมูลเข้า Data Frame \n",
    "df = pd.DataFrame(j)\n",
    "df = pd.DataFrame(j[\"data\"][\"covid19Stats\"])\n",
    "df"
   ]
  },
  {
   "cell_type": "code",
   "execution_count": 6,
   "metadata": {},
   "outputs": [],
   "source": [
    "#saveข้อมูลเก็บเป็น .csv เพื่อเก็บเป็น staging area\n",
    "df.to_csv(\"data/covid-19_api.csv\",index=False)"
   ]
  },
  {
   "cell_type": "code",
   "execution_count": 68,
   "metadata": {},
   "outputs": [
    {
     "data": {
      "text/html": [
       "<div>\n",
       "<style scoped>\n",
       "    .dataframe tbody tr th:only-of-type {\n",
       "        vertical-align: middle;\n",
       "    }\n",
       "\n",
       "    .dataframe tbody tr th {\n",
       "        vertical-align: top;\n",
       "    }\n",
       "\n",
       "    .dataframe thead th {\n",
       "        text-align: right;\n",
       "    }\n",
       "</style>\n",
       "<table border=\"1\" class=\"dataframe\">\n",
       "  <thead>\n",
       "    <tr style=\"text-align: right;\">\n",
       "      <th></th>\n",
       "      <th>city</th>\n",
       "      <th>province</th>\n",
       "      <th>country</th>\n",
       "      <th>lastUpdate</th>\n",
       "      <th>keyId</th>\n",
       "      <th>confirmed</th>\n",
       "      <th>deaths</th>\n",
       "      <th>recovered</th>\n",
       "    </tr>\n",
       "  </thead>\n",
       "  <tbody>\n",
       "    <tr>\n",
       "      <th>0</th>\n",
       "      <td>NaN</td>\n",
       "      <td>NaN</td>\n",
       "      <td>Afghanistan</td>\n",
       "      <td>2020-10-01T04:23:42+00:00</td>\n",
       "      <td>Afghanistan</td>\n",
       "      <td>39268</td>\n",
       "      <td>1458</td>\n",
       "      <td>32789.0</td>\n",
       "    </tr>\n",
       "    <tr>\n",
       "      <th>1</th>\n",
       "      <td>NaN</td>\n",
       "      <td>NaN</td>\n",
       "      <td>Albania</td>\n",
       "      <td>2020-10-01T04:23:42+00:00</td>\n",
       "      <td>Albania</td>\n",
       "      <td>13649</td>\n",
       "      <td>387</td>\n",
       "      <td>7847.0</td>\n",
       "    </tr>\n",
       "    <tr>\n",
       "      <th>2</th>\n",
       "      <td>NaN</td>\n",
       "      <td>NaN</td>\n",
       "      <td>Algeria</td>\n",
       "      <td>2020-10-01T04:23:42+00:00</td>\n",
       "      <td>Algeria</td>\n",
       "      <td>51530</td>\n",
       "      <td>1736</td>\n",
       "      <td>36174.0</td>\n",
       "    </tr>\n",
       "    <tr>\n",
       "      <th>3</th>\n",
       "      <td>NaN</td>\n",
       "      <td>NaN</td>\n",
       "      <td>Andorra</td>\n",
       "      <td>2020-10-01T04:23:42+00:00</td>\n",
       "      <td>Andorra</td>\n",
       "      <td>2050</td>\n",
       "      <td>53</td>\n",
       "      <td>1432.0</td>\n",
       "    </tr>\n",
       "    <tr>\n",
       "      <th>4</th>\n",
       "      <td>NaN</td>\n",
       "      <td>NaN</td>\n",
       "      <td>Angola</td>\n",
       "      <td>2020-10-01T04:23:42+00:00</td>\n",
       "      <td>Angola</td>\n",
       "      <td>4972</td>\n",
       "      <td>183</td>\n",
       "      <td>1941.0</td>\n",
       "    </tr>\n",
       "    <tr>\n",
       "      <th>...</th>\n",
       "      <td>...</td>\n",
       "      <td>...</td>\n",
       "      <td>...</td>\n",
       "      <td>...</td>\n",
       "      <td>...</td>\n",
       "      <td>...</td>\n",
       "      <td>...</td>\n",
       "      <td>...</td>\n",
       "    </tr>\n",
       "    <tr>\n",
       "      <th>3950</th>\n",
       "      <td>NaN</td>\n",
       "      <td>NaN</td>\n",
       "      <td>West Bank and Gaza</td>\n",
       "      <td>2020-10-01T04:23:42+00:00</td>\n",
       "      <td>West Bank and Gaza</td>\n",
       "      <td>39899</td>\n",
       "      <td>311</td>\n",
       "      <td>31743.0</td>\n",
       "    </tr>\n",
       "    <tr>\n",
       "      <th>3951</th>\n",
       "      <td>NaN</td>\n",
       "      <td>NaN</td>\n",
       "      <td>Western Sahara</td>\n",
       "      <td>2020-10-01T04:23:42+00:00</td>\n",
       "      <td>Western Sahara</td>\n",
       "      <td>10</td>\n",
       "      <td>1</td>\n",
       "      <td>8.0</td>\n",
       "    </tr>\n",
       "    <tr>\n",
       "      <th>3952</th>\n",
       "      <td>NaN</td>\n",
       "      <td>NaN</td>\n",
       "      <td>Yemen</td>\n",
       "      <td>2020-10-01T04:23:42+00:00</td>\n",
       "      <td>Yemen</td>\n",
       "      <td>2034</td>\n",
       "      <td>587</td>\n",
       "      <td>1286.0</td>\n",
       "    </tr>\n",
       "    <tr>\n",
       "      <th>3953</th>\n",
       "      <td>NaN</td>\n",
       "      <td>NaN</td>\n",
       "      <td>Zambia</td>\n",
       "      <td>2020-10-01T04:23:42+00:00</td>\n",
       "      <td>Zambia</td>\n",
       "      <td>14759</td>\n",
       "      <td>332</td>\n",
       "      <td>13959.0</td>\n",
       "    </tr>\n",
       "    <tr>\n",
       "      <th>3954</th>\n",
       "      <td>NaN</td>\n",
       "      <td>NaN</td>\n",
       "      <td>Zimbabwe</td>\n",
       "      <td>2020-10-01T04:23:42+00:00</td>\n",
       "      <td>Zimbabwe</td>\n",
       "      <td>7838</td>\n",
       "      <td>228</td>\n",
       "      <td>6303.0</td>\n",
       "    </tr>\n",
       "  </tbody>\n",
       "</table>\n",
       "<p>3955 rows × 8 columns</p>\n",
       "</div>"
      ],
      "text/plain": [
       "     city province             country                 lastUpdate  \\\n",
       "0     NaN      NaN         Afghanistan  2020-10-01T04:23:42+00:00   \n",
       "1     NaN      NaN             Albania  2020-10-01T04:23:42+00:00   \n",
       "2     NaN      NaN             Algeria  2020-10-01T04:23:42+00:00   \n",
       "3     NaN      NaN             Andorra  2020-10-01T04:23:42+00:00   \n",
       "4     NaN      NaN              Angola  2020-10-01T04:23:42+00:00   \n",
       "...   ...      ...                 ...                        ...   \n",
       "3950  NaN      NaN  West Bank and Gaza  2020-10-01T04:23:42+00:00   \n",
       "3951  NaN      NaN      Western Sahara  2020-10-01T04:23:42+00:00   \n",
       "3952  NaN      NaN               Yemen  2020-10-01T04:23:42+00:00   \n",
       "3953  NaN      NaN              Zambia  2020-10-01T04:23:42+00:00   \n",
       "3954  NaN      NaN            Zimbabwe  2020-10-01T04:23:42+00:00   \n",
       "\n",
       "                   keyId  confirmed  deaths  recovered  \n",
       "0            Afghanistan      39268    1458    32789.0  \n",
       "1                Albania      13649     387     7847.0  \n",
       "2                Algeria      51530    1736    36174.0  \n",
       "3                Andorra       2050      53     1432.0  \n",
       "4                 Angola       4972     183     1941.0  \n",
       "...                  ...        ...     ...        ...  \n",
       "3950  West Bank and Gaza      39899     311    31743.0  \n",
       "3951      Western Sahara         10       1        8.0  \n",
       "3952               Yemen       2034     587     1286.0  \n",
       "3953              Zambia      14759     332    13959.0  \n",
       "3954            Zimbabwe       7838     228     6303.0  \n",
       "\n",
       "[3955 rows x 8 columns]"
      ]
     },
     "execution_count": 68,
     "metadata": {},
     "output_type": "execute_result"
    }
   ],
   "source": [
    "#เปิดข้อมูลจากไฟล์ covid-19_api\n",
    "df = pd.read_csv(\"data/covid-19_api.csv\")\n",
    "df"
   ]
  },
  {
   "cell_type": "code",
   "execution_count": 36,
   "metadata": {
    "colab": {
     "base_uri": "https://localhost:8080/",
     "height": 269
    },
    "id": "DkMnnkrIleCN",
    "outputId": "5146d88a-4adb-4092-847b-0a9655fe4cf2"
   },
   "outputs": [
    {
     "name": "stdout",
     "output_type": "stream",
     "text": [
      "<class 'pandas.core.frame.DataFrame'>\n",
      "RangeIndex: 3955 entries, 0 to 3954\n",
      "Data columns (total 8 columns):\n",
      " #   Column      Non-Null Count  Dtype  \n",
      "---  ------      --------------  -----  \n",
      " 0   city        3264 non-null   object \n",
      " 1   province    3787 non-null   object \n",
      " 2   country     3955 non-null   object \n",
      " 3   lastUpdate  3955 non-null   object \n",
      " 4   keyId       3955 non-null   object \n",
      " 5   confirmed   3955 non-null   int64  \n",
      " 6   deaths      3955 non-null   int64  \n",
      " 7   recovered   614 non-null    float64\n",
      "dtypes: float64(1), int64(2), object(5)\n",
      "memory usage: 247.3+ KB\n"
     ]
    }
   ],
   "source": [
    "df.info()"
   ]
  },
  {
   "cell_type": "code",
   "execution_count": 37,
   "metadata": {
    "colab": {
     "base_uri": "https://localhost:8080/",
     "height": 218
    },
    "id": "XsmBqhRgK7xb",
    "outputId": "7ea0aab1-c959-4eec-8b71-315698314fee"
   },
   "outputs": [
    {
     "data": {
      "text/plain": [
       "0       False\n",
       "1       False\n",
       "2       False\n",
       "3       False\n",
       "4       False\n",
       "        ...  \n",
       "3950    False\n",
       "3951    False\n",
       "3952    False\n",
       "3953    False\n",
       "3954    False\n",
       "Length: 3955, dtype: bool"
      ]
     },
     "execution_count": 37,
     "metadata": {},
     "output_type": "execute_result"
    }
   ],
   "source": [
    "#ตรวจสอบการซ้ำของข้อมูล\n",
    "df.duplicated()"
   ]
  },
  {
   "cell_type": "code",
   "execution_count": 38,
   "metadata": {
    "colab": {
     "base_uri": "https://localhost:8080/",
     "height": 168
    },
    "id": "W7BsDIsSE2QU",
    "outputId": "08e81c43-913c-4a44-823f-c6bc0252b1cb"
   },
   "outputs": [
    {
     "data": {
      "text/plain": [
       "city           691\n",
       "province       168\n",
       "country          0\n",
       "lastUpdate       0\n",
       "keyId            0\n",
       "confirmed        0\n",
       "deaths           0\n",
       "recovered     3341\n",
       "dtype: int64"
      ]
     },
     "execution_count": 38,
     "metadata": {},
     "output_type": "execute_result"
    }
   ],
   "source": [
    "#พบว่า column city, province มีค่าว่าง\n",
    "df.isnull().sum()"
   ]
  },
  {
   "cell_type": "code",
   "execution_count": 39,
   "metadata": {
    "colab": {
     "base_uri": "https://localhost:8080/",
     "height": 168
    },
    "id": "VTzLO9hIKjyU",
    "outputId": "14cefb53-fda3-45f8-e629-f51df5a5d218"
   },
   "outputs": [
    {
     "data": {
      "text/plain": [
       "city           object\n",
       "province       object\n",
       "country        object\n",
       "lastUpdate     object\n",
       "keyId          object\n",
       "confirmed       int64\n",
       "deaths          int64\n",
       "recovered     float64\n",
       "dtype: object"
      ]
     },
     "execution_count": 39,
     "metadata": {},
     "output_type": "execute_result"
    }
   ],
   "source": [
    "#เช็คประเภทของข้อมูล เพื่อให้ทราบว่าเป็น data type ประเภทไหน\n",
    "df.dtypes"
   ]
  },
  {
   "cell_type": "code",
   "execution_count": 40,
   "metadata": {
    "colab": {
     "base_uri": "https://localhost:8080/",
     "height": 218
    },
    "id": "klK3i2SWFaWE",
    "outputId": "f61711b3-07de-4f53-b4df-79e1ab8e55c7"
   },
   "outputs": [
    {
     "data": {
      "text/plain": [
       "US                 3270\n",
       "Russia               83\n",
       "Japan                49\n",
       "India                37\n",
       "Colombia             34\n",
       "                   ... \n",
       "Venezuela             1\n",
       "Kenya                 1\n",
       "North Macedonia       1\n",
       "Zimbabwe              1\n",
       "Cameroon              1\n",
       "Name: country, Length: 188, dtype: int64"
      ]
     },
     "execution_count": 40,
     "metadata": {},
     "output_type": "execute_result"
    }
   ],
   "source": [
    "df['country'].value_counts()"
   ]
  },
  {
   "cell_type": "code",
   "execution_count": 41,
   "metadata": {
    "colab": {
     "base_uri": "https://localhost:8080/",
     "height": 218
    },
    "id": "cx8w9CSOFnxD",
    "outputId": "40fcb8aa-d4ac-4f3b-85d0-f9367b83ed07"
   },
   "outputs": [
    {
     "data": {
      "text/plain": [
       "Texas               255\n",
       "Georgia             161\n",
       "Virginia            134\n",
       "Kentucky            121\n",
       "Missouri            117\n",
       "                   ... \n",
       "Kumamoto              1\n",
       "Capital District      1\n",
       "Andalusia             1\n",
       "Chongqing             1\n",
       "Uttar Pradesh         1\n",
       "Name: province, Length: 562, dtype: int64"
      ]
     },
     "execution_count": 41,
     "metadata": {},
     "output_type": "execute_result"
    }
   ],
   "source": [
    "df['province'].value_counts()"
   ]
  },
  {
   "cell_type": "code",
   "execution_count": 11,
   "metadata": {
    "colab": {
     "base_uri": "https://localhost:8080/",
     "height": 1000
    },
    "id": "9NGJWfpsF7uc",
    "outputId": "5cec7aac-cbfb-4525-afea-fb1d56ba68ce"
   },
   "outputs": [
    {
     "name": "stdout",
     "output_type": "stream",
     "text": [
      "Unassigned    51\n",
      "Washington    30\n",
      "Jefferson     26\n",
      "Franklin      25\n",
      "Lincoln       24\n",
      "              ..\n",
      "Lavaca         1\n",
      "Grimes         1\n",
      "Deschutes      1\n",
      "Snohomish      1\n",
      "Greenbrier     1\n",
      "Name: city, Length: 1919, dtype: int64 \n",
      "\n",
      "Texas                  255\n",
      "Georgia                161\n",
      "Virginia               134\n",
      "Kentucky               121\n",
      "Missouri               117\n",
      "                      ... \n",
      "Sachsen                  1\n",
      "Los Rios                 1\n",
      "Rio Grande do Norte      1\n",
      "Sinaloa                  1\n",
      "Sumy Oblast              1\n",
      "Name: province, Length: 562, dtype: int64 \n",
      "\n",
      "US            3270\n",
      "Russia          83\n",
      "Japan           49\n",
      "India           37\n",
      "Colombia        34\n",
      "              ... \n",
      "Kyrgyzstan       1\n",
      "Madagascar       1\n",
      "Georgia          1\n",
      "Uzbekistan       1\n",
      "Cuba             1\n",
      "Name: country, Length: 188, dtype: int64 \n",
      "\n",
      "2020-10-01T04:23:42+00:00    3952\n",
      "2020-08-04T02:27:56+00:00       2\n",
      "2020-08-07T22:34:20+00:00       1\n",
      "Name: lastUpdate, dtype: int64 \n",
      "\n",
      "Osceola, Michigan, US         1\n",
      "Modoc, California, US         1\n",
      "Garfield, Washington, US      1\n",
      "Madison, Kentucky, US         1\n",
      "Out of IL, Illinois, US       1\n",
      "                             ..\n",
      "Martin, North Carolina, US    1\n",
      "Murray, Minnesota, US         1\n",
      "Quebec, Canada                1\n",
      "Christian, Illinois, US       1\n",
      "Benton, Mississippi, US       1\n",
      "Name: keyId, Length: 3955, dtype: int64 \n",
      "\n",
      "0         47\n",
      "13        15\n",
      "8         14\n",
      "36        12\n",
      "53        11\n",
      "          ..\n",
      "533        1\n",
      "537        1\n",
      "539        1\n",
      "985628     1\n",
      "1617       1\n",
      "Name: confirmed, Length: 2211, dtype: int64 \n",
      "\n",
      "0       668\n",
      "1       308\n",
      "2       225\n",
      "3       183\n",
      "4       143\n",
      "       ... \n",
      "185       1\n",
      "195       1\n",
      "203       1\n",
      "209       1\n",
      "1954      1\n",
      "Name: deaths, Length: 589, dtype: int64 \n",
      "\n",
      "179.0       2\n",
      "516.0       2\n",
      "344.0       2\n",
      "12.0        2\n",
      "27.0        2\n",
      "           ..\n",
      "137.0       1\n",
      "3312.0      1\n",
      "144002.0    1\n",
      "147.0       1\n",
      "1432.0      1\n",
      "Name: recovered, Length: 599, dtype: int64 \n",
      "\n"
     ]
    }
   ],
   "source": [
    "for i in df :\n",
    "  print(df[i].value_counts(),'\\n')"
   ]
  },
  {
   "cell_type": "code",
   "execution_count": 42,
   "metadata": {
    "colab": {
     "base_uri": "https://localhost:8080/",
     "height": 402
    },
    "id": "EAz_4ATQNcHs",
    "outputId": "d2f005f4-ebca-4c20-d4cf-7ab02fea4b10"
   },
   "outputs": [
    {
     "data": {
      "text/html": [
       "<div>\n",
       "<style scoped>\n",
       "    .dataframe tbody tr th:only-of-type {\n",
       "        vertical-align: middle;\n",
       "    }\n",
       "\n",
       "    .dataframe tbody tr th {\n",
       "        vertical-align: top;\n",
       "    }\n",
       "\n",
       "    .dataframe thead th {\n",
       "        text-align: right;\n",
       "    }\n",
       "</style>\n",
       "<table border=\"1\" class=\"dataframe\">\n",
       "  <thead>\n",
       "    <tr style=\"text-align: right;\">\n",
       "      <th></th>\n",
       "      <th>city</th>\n",
       "      <th>province</th>\n",
       "      <th>country</th>\n",
       "      <th>lastUpdate</th>\n",
       "      <th>keyId</th>\n",
       "      <th>confirmed</th>\n",
       "      <th>deaths</th>\n",
       "      <th>recovered</th>\n",
       "    </tr>\n",
       "  </thead>\n",
       "  <tbody>\n",
       "    <tr>\n",
       "      <th>0</th>\n",
       "      <td>Unknown</td>\n",
       "      <td>NaN</td>\n",
       "      <td>Afghanistan</td>\n",
       "      <td>2020-10-01T04:23:42+00:00</td>\n",
       "      <td>Afghanistan</td>\n",
       "      <td>39268</td>\n",
       "      <td>1458</td>\n",
       "      <td>32789.0</td>\n",
       "    </tr>\n",
       "    <tr>\n",
       "      <th>1</th>\n",
       "      <td>Unknown</td>\n",
       "      <td>NaN</td>\n",
       "      <td>Albania</td>\n",
       "      <td>2020-10-01T04:23:42+00:00</td>\n",
       "      <td>Albania</td>\n",
       "      <td>13649</td>\n",
       "      <td>387</td>\n",
       "      <td>7847.0</td>\n",
       "    </tr>\n",
       "    <tr>\n",
       "      <th>2</th>\n",
       "      <td>Unknown</td>\n",
       "      <td>NaN</td>\n",
       "      <td>Algeria</td>\n",
       "      <td>2020-10-01T04:23:42+00:00</td>\n",
       "      <td>Algeria</td>\n",
       "      <td>51530</td>\n",
       "      <td>1736</td>\n",
       "      <td>36174.0</td>\n",
       "    </tr>\n",
       "    <tr>\n",
       "      <th>3</th>\n",
       "      <td>Unknown</td>\n",
       "      <td>NaN</td>\n",
       "      <td>Andorra</td>\n",
       "      <td>2020-10-01T04:23:42+00:00</td>\n",
       "      <td>Andorra</td>\n",
       "      <td>2050</td>\n",
       "      <td>53</td>\n",
       "      <td>1432.0</td>\n",
       "    </tr>\n",
       "    <tr>\n",
       "      <th>4</th>\n",
       "      <td>Unknown</td>\n",
       "      <td>NaN</td>\n",
       "      <td>Angola</td>\n",
       "      <td>2020-10-01T04:23:42+00:00</td>\n",
       "      <td>Angola</td>\n",
       "      <td>4972</td>\n",
       "      <td>183</td>\n",
       "      <td>1941.0</td>\n",
       "    </tr>\n",
       "    <tr>\n",
       "      <th>...</th>\n",
       "      <td>...</td>\n",
       "      <td>...</td>\n",
       "      <td>...</td>\n",
       "      <td>...</td>\n",
       "      <td>...</td>\n",
       "      <td>...</td>\n",
       "      <td>...</td>\n",
       "      <td>...</td>\n",
       "    </tr>\n",
       "    <tr>\n",
       "      <th>3950</th>\n",
       "      <td>Unknown</td>\n",
       "      <td>NaN</td>\n",
       "      <td>West Bank and Gaza</td>\n",
       "      <td>2020-10-01T04:23:42+00:00</td>\n",
       "      <td>West Bank and Gaza</td>\n",
       "      <td>39899</td>\n",
       "      <td>311</td>\n",
       "      <td>31743.0</td>\n",
       "    </tr>\n",
       "    <tr>\n",
       "      <th>3951</th>\n",
       "      <td>Unknown</td>\n",
       "      <td>NaN</td>\n",
       "      <td>Western Sahara</td>\n",
       "      <td>2020-10-01T04:23:42+00:00</td>\n",
       "      <td>Western Sahara</td>\n",
       "      <td>10</td>\n",
       "      <td>1</td>\n",
       "      <td>8.0</td>\n",
       "    </tr>\n",
       "    <tr>\n",
       "      <th>3952</th>\n",
       "      <td>Unknown</td>\n",
       "      <td>NaN</td>\n",
       "      <td>Yemen</td>\n",
       "      <td>2020-10-01T04:23:42+00:00</td>\n",
       "      <td>Yemen</td>\n",
       "      <td>2034</td>\n",
       "      <td>587</td>\n",
       "      <td>1286.0</td>\n",
       "    </tr>\n",
       "    <tr>\n",
       "      <th>3953</th>\n",
       "      <td>Unknown</td>\n",
       "      <td>NaN</td>\n",
       "      <td>Zambia</td>\n",
       "      <td>2020-10-01T04:23:42+00:00</td>\n",
       "      <td>Zambia</td>\n",
       "      <td>14759</td>\n",
       "      <td>332</td>\n",
       "      <td>13959.0</td>\n",
       "    </tr>\n",
       "    <tr>\n",
       "      <th>3954</th>\n",
       "      <td>Unknown</td>\n",
       "      <td>NaN</td>\n",
       "      <td>Zimbabwe</td>\n",
       "      <td>2020-10-01T04:23:42+00:00</td>\n",
       "      <td>Zimbabwe</td>\n",
       "      <td>7838</td>\n",
       "      <td>228</td>\n",
       "      <td>6303.0</td>\n",
       "    </tr>\n",
       "  </tbody>\n",
       "</table>\n",
       "<p>3955 rows × 8 columns</p>\n",
       "</div>"
      ],
      "text/plain": [
       "         city province             country                 lastUpdate  \\\n",
       "0     Unknown      NaN         Afghanistan  2020-10-01T04:23:42+00:00   \n",
       "1     Unknown      NaN             Albania  2020-10-01T04:23:42+00:00   \n",
       "2     Unknown      NaN             Algeria  2020-10-01T04:23:42+00:00   \n",
       "3     Unknown      NaN             Andorra  2020-10-01T04:23:42+00:00   \n",
       "4     Unknown      NaN              Angola  2020-10-01T04:23:42+00:00   \n",
       "...       ...      ...                 ...                        ...   \n",
       "3950  Unknown      NaN  West Bank and Gaza  2020-10-01T04:23:42+00:00   \n",
       "3951  Unknown      NaN      Western Sahara  2020-10-01T04:23:42+00:00   \n",
       "3952  Unknown      NaN               Yemen  2020-10-01T04:23:42+00:00   \n",
       "3953  Unknown      NaN              Zambia  2020-10-01T04:23:42+00:00   \n",
       "3954  Unknown      NaN            Zimbabwe  2020-10-01T04:23:42+00:00   \n",
       "\n",
       "                   keyId  confirmed  deaths  recovered  \n",
       "0            Afghanistan      39268    1458    32789.0  \n",
       "1                Albania      13649     387     7847.0  \n",
       "2                Algeria      51530    1736    36174.0  \n",
       "3                Andorra       2050      53     1432.0  \n",
       "4                 Angola       4972     183     1941.0  \n",
       "...                  ...        ...     ...        ...  \n",
       "3950  West Bank and Gaza      39899     311    31743.0  \n",
       "3951      Western Sahara         10       1        8.0  \n",
       "3952               Yemen       2034     587     1286.0  \n",
       "3953              Zambia      14759     332    13959.0  \n",
       "3954            Zimbabwe       7838     228     6303.0  \n",
       "\n",
       "[3955 rows x 8 columns]"
      ]
     },
     "execution_count": 42,
     "metadata": {},
     "output_type": "execute_result"
    }
   ],
   "source": [
    "#เติมค่าที่หายไปของคอลัมภ์ city ให้เป็น Unknown\n",
    "df[\"city\"]= df[\"city\"].fillna('Unknown')\n",
    "df"
   ]
  },
  {
   "cell_type": "code",
   "execution_count": 43,
   "metadata": {
    "colab": {
     "base_uri": "https://localhost:8080/",
     "height": 402
    },
    "id": "9in8k34jN9qJ",
    "outputId": "5bb72350-d28d-4edf-ee54-c40bff78e0e1"
   },
   "outputs": [
    {
     "data": {
      "text/html": [
       "<div>\n",
       "<style scoped>\n",
       "    .dataframe tbody tr th:only-of-type {\n",
       "        vertical-align: middle;\n",
       "    }\n",
       "\n",
       "    .dataframe tbody tr th {\n",
       "        vertical-align: top;\n",
       "    }\n",
       "\n",
       "    .dataframe thead th {\n",
       "        text-align: right;\n",
       "    }\n",
       "</style>\n",
       "<table border=\"1\" class=\"dataframe\">\n",
       "  <thead>\n",
       "    <tr style=\"text-align: right;\">\n",
       "      <th></th>\n",
       "      <th>city</th>\n",
       "      <th>province</th>\n",
       "      <th>country</th>\n",
       "      <th>lastUpdate</th>\n",
       "      <th>keyId</th>\n",
       "      <th>confirmed</th>\n",
       "      <th>deaths</th>\n",
       "      <th>recovered</th>\n",
       "    </tr>\n",
       "  </thead>\n",
       "  <tbody>\n",
       "    <tr>\n",
       "      <th>0</th>\n",
       "      <td>Unknown</td>\n",
       "      <td>Unknown</td>\n",
       "      <td>Afghanistan</td>\n",
       "      <td>2020-10-01T04:23:42+00:00</td>\n",
       "      <td>Afghanistan</td>\n",
       "      <td>39268</td>\n",
       "      <td>1458</td>\n",
       "      <td>32789.0</td>\n",
       "    </tr>\n",
       "    <tr>\n",
       "      <th>1</th>\n",
       "      <td>Unknown</td>\n",
       "      <td>Unknown</td>\n",
       "      <td>Albania</td>\n",
       "      <td>2020-10-01T04:23:42+00:00</td>\n",
       "      <td>Albania</td>\n",
       "      <td>13649</td>\n",
       "      <td>387</td>\n",
       "      <td>7847.0</td>\n",
       "    </tr>\n",
       "    <tr>\n",
       "      <th>2</th>\n",
       "      <td>Unknown</td>\n",
       "      <td>Unknown</td>\n",
       "      <td>Algeria</td>\n",
       "      <td>2020-10-01T04:23:42+00:00</td>\n",
       "      <td>Algeria</td>\n",
       "      <td>51530</td>\n",
       "      <td>1736</td>\n",
       "      <td>36174.0</td>\n",
       "    </tr>\n",
       "    <tr>\n",
       "      <th>3</th>\n",
       "      <td>Unknown</td>\n",
       "      <td>Unknown</td>\n",
       "      <td>Andorra</td>\n",
       "      <td>2020-10-01T04:23:42+00:00</td>\n",
       "      <td>Andorra</td>\n",
       "      <td>2050</td>\n",
       "      <td>53</td>\n",
       "      <td>1432.0</td>\n",
       "    </tr>\n",
       "    <tr>\n",
       "      <th>4</th>\n",
       "      <td>Unknown</td>\n",
       "      <td>Unknown</td>\n",
       "      <td>Angola</td>\n",
       "      <td>2020-10-01T04:23:42+00:00</td>\n",
       "      <td>Angola</td>\n",
       "      <td>4972</td>\n",
       "      <td>183</td>\n",
       "      <td>1941.0</td>\n",
       "    </tr>\n",
       "    <tr>\n",
       "      <th>...</th>\n",
       "      <td>...</td>\n",
       "      <td>...</td>\n",
       "      <td>...</td>\n",
       "      <td>...</td>\n",
       "      <td>...</td>\n",
       "      <td>...</td>\n",
       "      <td>...</td>\n",
       "      <td>...</td>\n",
       "    </tr>\n",
       "    <tr>\n",
       "      <th>3950</th>\n",
       "      <td>Unknown</td>\n",
       "      <td>Unknown</td>\n",
       "      <td>West Bank and Gaza</td>\n",
       "      <td>2020-10-01T04:23:42+00:00</td>\n",
       "      <td>West Bank and Gaza</td>\n",
       "      <td>39899</td>\n",
       "      <td>311</td>\n",
       "      <td>31743.0</td>\n",
       "    </tr>\n",
       "    <tr>\n",
       "      <th>3951</th>\n",
       "      <td>Unknown</td>\n",
       "      <td>Unknown</td>\n",
       "      <td>Western Sahara</td>\n",
       "      <td>2020-10-01T04:23:42+00:00</td>\n",
       "      <td>Western Sahara</td>\n",
       "      <td>10</td>\n",
       "      <td>1</td>\n",
       "      <td>8.0</td>\n",
       "    </tr>\n",
       "    <tr>\n",
       "      <th>3952</th>\n",
       "      <td>Unknown</td>\n",
       "      <td>Unknown</td>\n",
       "      <td>Yemen</td>\n",
       "      <td>2020-10-01T04:23:42+00:00</td>\n",
       "      <td>Yemen</td>\n",
       "      <td>2034</td>\n",
       "      <td>587</td>\n",
       "      <td>1286.0</td>\n",
       "    </tr>\n",
       "    <tr>\n",
       "      <th>3953</th>\n",
       "      <td>Unknown</td>\n",
       "      <td>Unknown</td>\n",
       "      <td>Zambia</td>\n",
       "      <td>2020-10-01T04:23:42+00:00</td>\n",
       "      <td>Zambia</td>\n",
       "      <td>14759</td>\n",
       "      <td>332</td>\n",
       "      <td>13959.0</td>\n",
       "    </tr>\n",
       "    <tr>\n",
       "      <th>3954</th>\n",
       "      <td>Unknown</td>\n",
       "      <td>Unknown</td>\n",
       "      <td>Zimbabwe</td>\n",
       "      <td>2020-10-01T04:23:42+00:00</td>\n",
       "      <td>Zimbabwe</td>\n",
       "      <td>7838</td>\n",
       "      <td>228</td>\n",
       "      <td>6303.0</td>\n",
       "    </tr>\n",
       "  </tbody>\n",
       "</table>\n",
       "<p>3955 rows × 8 columns</p>\n",
       "</div>"
      ],
      "text/plain": [
       "         city province             country                 lastUpdate  \\\n",
       "0     Unknown  Unknown         Afghanistan  2020-10-01T04:23:42+00:00   \n",
       "1     Unknown  Unknown             Albania  2020-10-01T04:23:42+00:00   \n",
       "2     Unknown  Unknown             Algeria  2020-10-01T04:23:42+00:00   \n",
       "3     Unknown  Unknown             Andorra  2020-10-01T04:23:42+00:00   \n",
       "4     Unknown  Unknown              Angola  2020-10-01T04:23:42+00:00   \n",
       "...       ...      ...                 ...                        ...   \n",
       "3950  Unknown  Unknown  West Bank and Gaza  2020-10-01T04:23:42+00:00   \n",
       "3951  Unknown  Unknown      Western Sahara  2020-10-01T04:23:42+00:00   \n",
       "3952  Unknown  Unknown               Yemen  2020-10-01T04:23:42+00:00   \n",
       "3953  Unknown  Unknown              Zambia  2020-10-01T04:23:42+00:00   \n",
       "3954  Unknown  Unknown            Zimbabwe  2020-10-01T04:23:42+00:00   \n",
       "\n",
       "                   keyId  confirmed  deaths  recovered  \n",
       "0            Afghanistan      39268    1458    32789.0  \n",
       "1                Albania      13649     387     7847.0  \n",
       "2                Algeria      51530    1736    36174.0  \n",
       "3                Andorra       2050      53     1432.0  \n",
       "4                 Angola       4972     183     1941.0  \n",
       "...                  ...        ...     ...        ...  \n",
       "3950  West Bank and Gaza      39899     311    31743.0  \n",
       "3951      Western Sahara         10       1        8.0  \n",
       "3952               Yemen       2034     587     1286.0  \n",
       "3953              Zambia      14759     332    13959.0  \n",
       "3954            Zimbabwe       7838     228     6303.0  \n",
       "\n",
       "[3955 rows x 8 columns]"
      ]
     },
     "execution_count": 43,
     "metadata": {},
     "output_type": "execute_result"
    }
   ],
   "source": [
    "#เติมค่าที่หายไปของคอลัมภ์ province ให้เป็น Unknown\n",
    "df[\"province\"]= df[\"province\"].fillna('Unknown')\n",
    "df"
   ]
  },
  {
   "cell_type": "code",
   "execution_count": 44,
   "metadata": {
    "colab": {
     "base_uri": "https://localhost:8080/",
     "height": 195
    },
    "id": "n5Tu3iyuO7ay",
    "outputId": "c5c6261e-b508-45ee-a7fc-f36692a28bc2"
   },
   "outputs": [
    {
     "data": {
      "text/html": [
       "<div>\n",
       "<style scoped>\n",
       "    .dataframe tbody tr th:only-of-type {\n",
       "        vertical-align: middle;\n",
       "    }\n",
       "\n",
       "    .dataframe tbody tr th {\n",
       "        vertical-align: top;\n",
       "    }\n",
       "\n",
       "    .dataframe thead th {\n",
       "        text-align: right;\n",
       "    }\n",
       "</style>\n",
       "<table border=\"1\" class=\"dataframe\">\n",
       "  <thead>\n",
       "    <tr style=\"text-align: right;\">\n",
       "      <th></th>\n",
       "      <th>city</th>\n",
       "      <th>province</th>\n",
       "      <th>country</th>\n",
       "      <th>lastUpdate</th>\n",
       "      <th>keyId</th>\n",
       "      <th>confirmed</th>\n",
       "      <th>deaths</th>\n",
       "      <th>recovered</th>\n",
       "      <th>Active</th>\n",
       "    </tr>\n",
       "  </thead>\n",
       "  <tbody>\n",
       "    <tr>\n",
       "      <th>0</th>\n",
       "      <td>Unknown</td>\n",
       "      <td>Unknown</td>\n",
       "      <td>Afghanistan</td>\n",
       "      <td>2020-10-01T04:23:42+00:00</td>\n",
       "      <td>Afghanistan</td>\n",
       "      <td>39268</td>\n",
       "      <td>1458</td>\n",
       "      <td>32789.0</td>\n",
       "      <td>5021.0</td>\n",
       "    </tr>\n",
       "    <tr>\n",
       "      <th>1</th>\n",
       "      <td>Unknown</td>\n",
       "      <td>Unknown</td>\n",
       "      <td>Albania</td>\n",
       "      <td>2020-10-01T04:23:42+00:00</td>\n",
       "      <td>Albania</td>\n",
       "      <td>13649</td>\n",
       "      <td>387</td>\n",
       "      <td>7847.0</td>\n",
       "      <td>5415.0</td>\n",
       "    </tr>\n",
       "    <tr>\n",
       "      <th>2</th>\n",
       "      <td>Unknown</td>\n",
       "      <td>Unknown</td>\n",
       "      <td>Algeria</td>\n",
       "      <td>2020-10-01T04:23:42+00:00</td>\n",
       "      <td>Algeria</td>\n",
       "      <td>51530</td>\n",
       "      <td>1736</td>\n",
       "      <td>36174.0</td>\n",
       "      <td>13620.0</td>\n",
       "    </tr>\n",
       "    <tr>\n",
       "      <th>3</th>\n",
       "      <td>Unknown</td>\n",
       "      <td>Unknown</td>\n",
       "      <td>Andorra</td>\n",
       "      <td>2020-10-01T04:23:42+00:00</td>\n",
       "      <td>Andorra</td>\n",
       "      <td>2050</td>\n",
       "      <td>53</td>\n",
       "      <td>1432.0</td>\n",
       "      <td>565.0</td>\n",
       "    </tr>\n",
       "    <tr>\n",
       "      <th>4</th>\n",
       "      <td>Unknown</td>\n",
       "      <td>Unknown</td>\n",
       "      <td>Angola</td>\n",
       "      <td>2020-10-01T04:23:42+00:00</td>\n",
       "      <td>Angola</td>\n",
       "      <td>4972</td>\n",
       "      <td>183</td>\n",
       "      <td>1941.0</td>\n",
       "      <td>2848.0</td>\n",
       "    </tr>\n",
       "  </tbody>\n",
       "</table>\n",
       "</div>"
      ],
      "text/plain": [
       "      city province      country                 lastUpdate        keyId  \\\n",
       "0  Unknown  Unknown  Afghanistan  2020-10-01T04:23:42+00:00  Afghanistan   \n",
       "1  Unknown  Unknown      Albania  2020-10-01T04:23:42+00:00      Albania   \n",
       "2  Unknown  Unknown      Algeria  2020-10-01T04:23:42+00:00      Algeria   \n",
       "3  Unknown  Unknown      Andorra  2020-10-01T04:23:42+00:00      Andorra   \n",
       "4  Unknown  Unknown       Angola  2020-10-01T04:23:42+00:00       Angola   \n",
       "\n",
       "   confirmed  deaths  recovered   Active  \n",
       "0      39268    1458    32789.0   5021.0  \n",
       "1      13649     387     7847.0   5415.0  \n",
       "2      51530    1736    36174.0  13620.0  \n",
       "3       2050      53     1432.0    565.0  \n",
       "4       4972     183     1941.0   2848.0  "
      ]
     },
     "execution_count": 44,
     "metadata": {},
     "output_type": "execute_result"
    }
   ],
   "source": [
    "#เพิ่ม cloumn active เพื่อให้รู้ว่ามีคนที่ยังมีชีวิตอยู่กี่คน\n",
    "df['Active'] = df['confirmed'] - df['recovered'] -df[\"deaths\"] \n",
    "df.head()"
   ]
  },
  {
   "cell_type": "code",
   "execution_count": 45,
   "metadata": {
    "colab": {
     "base_uri": "https://localhost:8080/",
     "height": 136
    },
    "id": "ERYjnT1bPjj0",
    "outputId": "08f2f527-bd14-4b38-d0cb-bf17cf6fc429"
   },
   "outputs": [
    {
     "data": {
      "text/html": [
       "<div>\n",
       "<style scoped>\n",
       "    .dataframe tbody tr th:only-of-type {\n",
       "        vertical-align: middle;\n",
       "    }\n",
       "\n",
       "    .dataframe tbody tr th {\n",
       "        vertical-align: top;\n",
       "    }\n",
       "\n",
       "    .dataframe thead th {\n",
       "        text-align: right;\n",
       "    }\n",
       "</style>\n",
       "<table border=\"1\" class=\"dataframe\">\n",
       "  <thead>\n",
       "    <tr style=\"text-align: right;\">\n",
       "      <th></th>\n",
       "      <th>lastUpdate</th>\n",
       "      <th>confirmed</th>\n",
       "      <th>deaths</th>\n",
       "      <th>recovered</th>\n",
       "      <th>Active</th>\n",
       "    </tr>\n",
       "  </thead>\n",
       "  <tbody>\n",
       "    <tr>\n",
       "      <th>0</th>\n",
       "      <td>2020-08-04T02:27:56+00:00</td>\n",
       "      <td>152</td>\n",
       "      <td>3</td>\n",
       "      <td>0.0</td>\n",
       "      <td>0.0</td>\n",
       "    </tr>\n",
       "    <tr>\n",
       "      <th>1</th>\n",
       "      <td>2020-08-07T22:34:20+00:00</td>\n",
       "      <td>0</td>\n",
       "      <td>0</td>\n",
       "      <td>0.0</td>\n",
       "      <td>0.0</td>\n",
       "    </tr>\n",
       "    <tr>\n",
       "      <th>2</th>\n",
       "      <td>2020-10-01T04:23:42+00:00</td>\n",
       "      <td>33967941</td>\n",
       "      <td>1014158</td>\n",
       "      <td>23637164.0</td>\n",
       "      <td>863415.0</td>\n",
       "    </tr>\n",
       "  </tbody>\n",
       "</table>\n",
       "</div>"
      ],
      "text/plain": [
       "                  lastUpdate  confirmed   deaths   recovered    Active\n",
       "0  2020-08-04T02:27:56+00:00        152        3         0.0       0.0\n",
       "1  2020-08-07T22:34:20+00:00          0        0         0.0       0.0\n",
       "2  2020-10-01T04:23:42+00:00   33967941  1014158  23637164.0  863415.0"
      ]
     },
     "execution_count": 45,
     "metadata": {},
     "output_type": "execute_result"
    }
   ],
   "source": [
    "#group by ข้อมูลที่ถูกเก็บจากล่าสุดเพื่อจะได้รู้จำนวนของยอดผู้ติดเชื้อทั่วโลก\n",
    "Data = df.groupby([\"lastUpdate\"])[[\"confirmed\",\"deaths\",\"recovered\",\"Active\"]].sum().reset_index()\n",
    "Data"
   ]
  },
  {
   "cell_type": "code",
   "execution_count": 46,
   "metadata": {
    "colab": {
     "base_uri": "https://localhost:8080/",
     "height": 542
    },
    "id": "sRyb3CmLGvbg",
    "outputId": "48edb66a-d955-4f8f-de82-ced545e39640"
   },
   "outputs": [
    {
     "data": {
      "application/vnd.plotly.v1+json": {
       "config": {
        "plotlyServerURL": "https://plot.ly"
       },
       "data": [
        {
         "cells": {
          "font": {
           "color": "black",
           "size": 12
          },
          "line": {
           "color": "white"
          },
          "values": [
           "2020-10-01T04:23:42+00:00",
           33967941,
           1014158,
           23637164,
           863415
          ]
         },
         "header": {
          "values": [
           "lastUpdate",
           "confirmed",
           "deaths",
           "recovered",
           "Active"
          ]
         },
         "type": "table"
        }
       ],
       "layout": {
        "template": {
         "data": {
          "bar": [
           {
            "error_x": {
             "color": "#2a3f5f"
            },
            "error_y": {
             "color": "#2a3f5f"
            },
            "marker": {
             "line": {
              "color": "#E5ECF6",
              "width": 0.5
             }
            },
            "type": "bar"
           }
          ],
          "barpolar": [
           {
            "marker": {
             "line": {
              "color": "#E5ECF6",
              "width": 0.5
             }
            },
            "type": "barpolar"
           }
          ],
          "carpet": [
           {
            "aaxis": {
             "endlinecolor": "#2a3f5f",
             "gridcolor": "white",
             "linecolor": "white",
             "minorgridcolor": "white",
             "startlinecolor": "#2a3f5f"
            },
            "baxis": {
             "endlinecolor": "#2a3f5f",
             "gridcolor": "white",
             "linecolor": "white",
             "minorgridcolor": "white",
             "startlinecolor": "#2a3f5f"
            },
            "type": "carpet"
           }
          ],
          "choropleth": [
           {
            "colorbar": {
             "outlinewidth": 0,
             "ticks": ""
            },
            "type": "choropleth"
           }
          ],
          "contour": [
           {
            "colorbar": {
             "outlinewidth": 0,
             "ticks": ""
            },
            "colorscale": [
             [
              0,
              "#0d0887"
             ],
             [
              0.1111111111111111,
              "#46039f"
             ],
             [
              0.2222222222222222,
              "#7201a8"
             ],
             [
              0.3333333333333333,
              "#9c179e"
             ],
             [
              0.4444444444444444,
              "#bd3786"
             ],
             [
              0.5555555555555556,
              "#d8576b"
             ],
             [
              0.6666666666666666,
              "#ed7953"
             ],
             [
              0.7777777777777778,
              "#fb9f3a"
             ],
             [
              0.8888888888888888,
              "#fdca26"
             ],
             [
              1,
              "#f0f921"
             ]
            ],
            "type": "contour"
           }
          ],
          "contourcarpet": [
           {
            "colorbar": {
             "outlinewidth": 0,
             "ticks": ""
            },
            "type": "contourcarpet"
           }
          ],
          "heatmap": [
           {
            "colorbar": {
             "outlinewidth": 0,
             "ticks": ""
            },
            "colorscale": [
             [
              0,
              "#0d0887"
             ],
             [
              0.1111111111111111,
              "#46039f"
             ],
             [
              0.2222222222222222,
              "#7201a8"
             ],
             [
              0.3333333333333333,
              "#9c179e"
             ],
             [
              0.4444444444444444,
              "#bd3786"
             ],
             [
              0.5555555555555556,
              "#d8576b"
             ],
             [
              0.6666666666666666,
              "#ed7953"
             ],
             [
              0.7777777777777778,
              "#fb9f3a"
             ],
             [
              0.8888888888888888,
              "#fdca26"
             ],
             [
              1,
              "#f0f921"
             ]
            ],
            "type": "heatmap"
           }
          ],
          "heatmapgl": [
           {
            "colorbar": {
             "outlinewidth": 0,
             "ticks": ""
            },
            "colorscale": [
             [
              0,
              "#0d0887"
             ],
             [
              0.1111111111111111,
              "#46039f"
             ],
             [
              0.2222222222222222,
              "#7201a8"
             ],
             [
              0.3333333333333333,
              "#9c179e"
             ],
             [
              0.4444444444444444,
              "#bd3786"
             ],
             [
              0.5555555555555556,
              "#d8576b"
             ],
             [
              0.6666666666666666,
              "#ed7953"
             ],
             [
              0.7777777777777778,
              "#fb9f3a"
             ],
             [
              0.8888888888888888,
              "#fdca26"
             ],
             [
              1,
              "#f0f921"
             ]
            ],
            "type": "heatmapgl"
           }
          ],
          "histogram": [
           {
            "marker": {
             "colorbar": {
              "outlinewidth": 0,
              "ticks": ""
             }
            },
            "type": "histogram"
           }
          ],
          "histogram2d": [
           {
            "colorbar": {
             "outlinewidth": 0,
             "ticks": ""
            },
            "colorscale": [
             [
              0,
              "#0d0887"
             ],
             [
              0.1111111111111111,
              "#46039f"
             ],
             [
              0.2222222222222222,
              "#7201a8"
             ],
             [
              0.3333333333333333,
              "#9c179e"
             ],
             [
              0.4444444444444444,
              "#bd3786"
             ],
             [
              0.5555555555555556,
              "#d8576b"
             ],
             [
              0.6666666666666666,
              "#ed7953"
             ],
             [
              0.7777777777777778,
              "#fb9f3a"
             ],
             [
              0.8888888888888888,
              "#fdca26"
             ],
             [
              1,
              "#f0f921"
             ]
            ],
            "type": "histogram2d"
           }
          ],
          "histogram2dcontour": [
           {
            "colorbar": {
             "outlinewidth": 0,
             "ticks": ""
            },
            "colorscale": [
             [
              0,
              "#0d0887"
             ],
             [
              0.1111111111111111,
              "#46039f"
             ],
             [
              0.2222222222222222,
              "#7201a8"
             ],
             [
              0.3333333333333333,
              "#9c179e"
             ],
             [
              0.4444444444444444,
              "#bd3786"
             ],
             [
              0.5555555555555556,
              "#d8576b"
             ],
             [
              0.6666666666666666,
              "#ed7953"
             ],
             [
              0.7777777777777778,
              "#fb9f3a"
             ],
             [
              0.8888888888888888,
              "#fdca26"
             ],
             [
              1,
              "#f0f921"
             ]
            ],
            "type": "histogram2dcontour"
           }
          ],
          "mesh3d": [
           {
            "colorbar": {
             "outlinewidth": 0,
             "ticks": ""
            },
            "type": "mesh3d"
           }
          ],
          "parcoords": [
           {
            "line": {
             "colorbar": {
              "outlinewidth": 0,
              "ticks": ""
             }
            },
            "type": "parcoords"
           }
          ],
          "pie": [
           {
            "automargin": true,
            "type": "pie"
           }
          ],
          "scatter": [
           {
            "marker": {
             "colorbar": {
              "outlinewidth": 0,
              "ticks": ""
             }
            },
            "type": "scatter"
           }
          ],
          "scatter3d": [
           {
            "line": {
             "colorbar": {
              "outlinewidth": 0,
              "ticks": ""
             }
            },
            "marker": {
             "colorbar": {
              "outlinewidth": 0,
              "ticks": ""
             }
            },
            "type": "scatter3d"
           }
          ],
          "scattercarpet": [
           {
            "marker": {
             "colorbar": {
              "outlinewidth": 0,
              "ticks": ""
             }
            },
            "type": "scattercarpet"
           }
          ],
          "scattergeo": [
           {
            "marker": {
             "colorbar": {
              "outlinewidth": 0,
              "ticks": ""
             }
            },
            "type": "scattergeo"
           }
          ],
          "scattergl": [
           {
            "marker": {
             "colorbar": {
              "outlinewidth": 0,
              "ticks": ""
             }
            },
            "type": "scattergl"
           }
          ],
          "scattermapbox": [
           {
            "marker": {
             "colorbar": {
              "outlinewidth": 0,
              "ticks": ""
             }
            },
            "type": "scattermapbox"
           }
          ],
          "scatterpolar": [
           {
            "marker": {
             "colorbar": {
              "outlinewidth": 0,
              "ticks": ""
             }
            },
            "type": "scatterpolar"
           }
          ],
          "scatterpolargl": [
           {
            "marker": {
             "colorbar": {
              "outlinewidth": 0,
              "ticks": ""
             }
            },
            "type": "scatterpolargl"
           }
          ],
          "scatterternary": [
           {
            "marker": {
             "colorbar": {
              "outlinewidth": 0,
              "ticks": ""
             }
            },
            "type": "scatterternary"
           }
          ],
          "surface": [
           {
            "colorbar": {
             "outlinewidth": 0,
             "ticks": ""
            },
            "colorscale": [
             [
              0,
              "#0d0887"
             ],
             [
              0.1111111111111111,
              "#46039f"
             ],
             [
              0.2222222222222222,
              "#7201a8"
             ],
             [
              0.3333333333333333,
              "#9c179e"
             ],
             [
              0.4444444444444444,
              "#bd3786"
             ],
             [
              0.5555555555555556,
              "#d8576b"
             ],
             [
              0.6666666666666666,
              "#ed7953"
             ],
             [
              0.7777777777777778,
              "#fb9f3a"
             ],
             [
              0.8888888888888888,
              "#fdca26"
             ],
             [
              1,
              "#f0f921"
             ]
            ],
            "type": "surface"
           }
          ],
          "table": [
           {
            "cells": {
             "fill": {
              "color": "#EBF0F8"
             },
             "line": {
              "color": "white"
             }
            },
            "header": {
             "fill": {
              "color": "#C8D4E3"
             },
             "line": {
              "color": "white"
             }
            },
            "type": "table"
           }
          ]
         },
         "layout": {
          "annotationdefaults": {
           "arrowcolor": "#2a3f5f",
           "arrowhead": 0,
           "arrowwidth": 1
          },
          "coloraxis": {
           "colorbar": {
            "outlinewidth": 0,
            "ticks": ""
           }
          },
          "colorscale": {
           "diverging": [
            [
             0,
             "#8e0152"
            ],
            [
             0.1,
             "#c51b7d"
            ],
            [
             0.2,
             "#de77ae"
            ],
            [
             0.3,
             "#f1b6da"
            ],
            [
             0.4,
             "#fde0ef"
            ],
            [
             0.5,
             "#f7f7f7"
            ],
            [
             0.6,
             "#e6f5d0"
            ],
            [
             0.7,
             "#b8e186"
            ],
            [
             0.8,
             "#7fbc41"
            ],
            [
             0.9,
             "#4d9221"
            ],
            [
             1,
             "#276419"
            ]
           ],
           "sequential": [
            [
             0,
             "#0d0887"
            ],
            [
             0.1111111111111111,
             "#46039f"
            ],
            [
             0.2222222222222222,
             "#7201a8"
            ],
            [
             0.3333333333333333,
             "#9c179e"
            ],
            [
             0.4444444444444444,
             "#bd3786"
            ],
            [
             0.5555555555555556,
             "#d8576b"
            ],
            [
             0.6666666666666666,
             "#ed7953"
            ],
            [
             0.7777777777777778,
             "#fb9f3a"
            ],
            [
             0.8888888888888888,
             "#fdca26"
            ],
            [
             1,
             "#f0f921"
            ]
           ],
           "sequentialminus": [
            [
             0,
             "#0d0887"
            ],
            [
             0.1111111111111111,
             "#46039f"
            ],
            [
             0.2222222222222222,
             "#7201a8"
            ],
            [
             0.3333333333333333,
             "#9c179e"
            ],
            [
             0.4444444444444444,
             "#bd3786"
            ],
            [
             0.5555555555555556,
             "#d8576b"
            ],
            [
             0.6666666666666666,
             "#ed7953"
            ],
            [
             0.7777777777777778,
             "#fb9f3a"
            ],
            [
             0.8888888888888888,
             "#fdca26"
            ],
            [
             1,
             "#f0f921"
            ]
           ]
          },
          "colorway": [
           "#636efa",
           "#EF553B",
           "#00cc96",
           "#ab63fa",
           "#FFA15A",
           "#19d3f3",
           "#FF6692",
           "#B6E880",
           "#FF97FF",
           "#FECB52"
          ],
          "font": {
           "color": "#2a3f5f"
          },
          "geo": {
           "bgcolor": "white",
           "lakecolor": "white",
           "landcolor": "#E5ECF6",
           "showlakes": true,
           "showland": true,
           "subunitcolor": "white"
          },
          "hoverlabel": {
           "align": "left"
          },
          "hovermode": "closest",
          "mapbox": {
           "style": "light"
          },
          "paper_bgcolor": "white",
          "plot_bgcolor": "#E5ECF6",
          "polar": {
           "angularaxis": {
            "gridcolor": "white",
            "linecolor": "white",
            "ticks": ""
           },
           "bgcolor": "#E5ECF6",
           "radialaxis": {
            "gridcolor": "white",
            "linecolor": "white",
            "ticks": ""
           }
          },
          "scene": {
           "xaxis": {
            "backgroundcolor": "#E5ECF6",
            "gridcolor": "white",
            "gridwidth": 2,
            "linecolor": "white",
            "showbackground": true,
            "ticks": "",
            "zerolinecolor": "white"
           },
           "yaxis": {
            "backgroundcolor": "#E5ECF6",
            "gridcolor": "white",
            "gridwidth": 2,
            "linecolor": "white",
            "showbackground": true,
            "ticks": "",
            "zerolinecolor": "white"
           },
           "zaxis": {
            "backgroundcolor": "#E5ECF6",
            "gridcolor": "white",
            "gridwidth": 2,
            "linecolor": "white",
            "showbackground": true,
            "ticks": "",
            "zerolinecolor": "white"
           }
          },
          "shapedefaults": {
           "line": {
            "color": "#2a3f5f"
           }
          },
          "ternary": {
           "aaxis": {
            "gridcolor": "white",
            "linecolor": "white",
            "ticks": ""
           },
           "baxis": {
            "gridcolor": "white",
            "linecolor": "white",
            "ticks": ""
           },
           "bgcolor": "#E5ECF6",
           "caxis": {
            "gridcolor": "white",
            "linecolor": "white",
            "ticks": ""
           }
          },
          "title": {
           "x": 0.05
          },
          "xaxis": {
           "automargin": true,
           "gridcolor": "white",
           "linecolor": "white",
           "ticks": "",
           "title": {
            "standoff": 15
           },
           "zerolinecolor": "white",
           "zerolinewidth": 2
          },
          "yaxis": {
           "automargin": true,
           "gridcolor": "white",
           "linecolor": "white",
           "ticks": "",
           "title": {
            "standoff": 15
           },
           "zerolinecolor": "white",
           "zerolinewidth": 2
          }
         }
        },
        "title": {
         "text": "Coronavirus in the word : 33967941"
        }
       }
      },
      "text/html": [
       "<div>                            <div id=\"cd893e46-8802-44ef-8295-56672cbdd6a3\" class=\"plotly-graph-div\" style=\"height:525px; width:100%;\"></div>            <script type=\"text/javascript\">                require([\"plotly\"], function(Plotly) {                    window.PLOTLYENV=window.PLOTLYENV || {};                                    if (document.getElementById(\"cd893e46-8802-44ef-8295-56672cbdd6a3\")) {                    Plotly.newPlot(                        \"cd893e46-8802-44ef-8295-56672cbdd6a3\",                        [{\"cells\": {\"font\": {\"color\": \"black\", \"size\": 12}, \"line\": {\"color\": \"white\"}, \"values\": [\"2020-10-01T04:23:42+00:00\", 33967941, 1014158, 23637164.0, 863415.0]}, \"header\": {\"values\": [\"lastUpdate\", \"confirmed\", \"deaths\", \"recovered\", \"Active\"]}, \"type\": \"table\"}],                        {\"template\": {\"data\": {\"bar\": [{\"error_x\": {\"color\": \"#2a3f5f\"}, \"error_y\": {\"color\": \"#2a3f5f\"}, \"marker\": {\"line\": {\"color\": \"#E5ECF6\", \"width\": 0.5}}, \"type\": \"bar\"}], \"barpolar\": [{\"marker\": {\"line\": {\"color\": \"#E5ECF6\", \"width\": 0.5}}, \"type\": \"barpolar\"}], \"carpet\": [{\"aaxis\": {\"endlinecolor\": \"#2a3f5f\", \"gridcolor\": \"white\", \"linecolor\": \"white\", \"minorgridcolor\": \"white\", \"startlinecolor\": \"#2a3f5f\"}, \"baxis\": {\"endlinecolor\": \"#2a3f5f\", \"gridcolor\": \"white\", \"linecolor\": \"white\", \"minorgridcolor\": \"white\", \"startlinecolor\": \"#2a3f5f\"}, \"type\": \"carpet\"}], \"choropleth\": [{\"colorbar\": {\"outlinewidth\": 0, \"ticks\": \"\"}, \"type\": \"choropleth\"}], \"contour\": [{\"colorbar\": {\"outlinewidth\": 0, \"ticks\": \"\"}, \"colorscale\": [[0.0, \"#0d0887\"], [0.1111111111111111, \"#46039f\"], [0.2222222222222222, \"#7201a8\"], [0.3333333333333333, \"#9c179e\"], [0.4444444444444444, \"#bd3786\"], [0.5555555555555556, \"#d8576b\"], [0.6666666666666666, \"#ed7953\"], [0.7777777777777778, \"#fb9f3a\"], [0.8888888888888888, \"#fdca26\"], [1.0, \"#f0f921\"]], \"type\": \"contour\"}], \"contourcarpet\": [{\"colorbar\": {\"outlinewidth\": 0, \"ticks\": \"\"}, \"type\": \"contourcarpet\"}], \"heatmap\": [{\"colorbar\": {\"outlinewidth\": 0, \"ticks\": \"\"}, \"colorscale\": [[0.0, \"#0d0887\"], [0.1111111111111111, \"#46039f\"], [0.2222222222222222, \"#7201a8\"], [0.3333333333333333, \"#9c179e\"], [0.4444444444444444, \"#bd3786\"], [0.5555555555555556, \"#d8576b\"], [0.6666666666666666, \"#ed7953\"], [0.7777777777777778, \"#fb9f3a\"], [0.8888888888888888, \"#fdca26\"], [1.0, \"#f0f921\"]], \"type\": \"heatmap\"}], \"heatmapgl\": [{\"colorbar\": {\"outlinewidth\": 0, \"ticks\": \"\"}, \"colorscale\": [[0.0, \"#0d0887\"], [0.1111111111111111, \"#46039f\"], [0.2222222222222222, \"#7201a8\"], [0.3333333333333333, \"#9c179e\"], [0.4444444444444444, \"#bd3786\"], [0.5555555555555556, \"#d8576b\"], [0.6666666666666666, \"#ed7953\"], [0.7777777777777778, \"#fb9f3a\"], [0.8888888888888888, \"#fdca26\"], [1.0, \"#f0f921\"]], \"type\": \"heatmapgl\"}], \"histogram\": [{\"marker\": {\"colorbar\": {\"outlinewidth\": 0, \"ticks\": \"\"}}, \"type\": \"histogram\"}], \"histogram2d\": [{\"colorbar\": {\"outlinewidth\": 0, \"ticks\": \"\"}, \"colorscale\": [[0.0, \"#0d0887\"], [0.1111111111111111, \"#46039f\"], [0.2222222222222222, \"#7201a8\"], [0.3333333333333333, \"#9c179e\"], [0.4444444444444444, \"#bd3786\"], [0.5555555555555556, \"#d8576b\"], [0.6666666666666666, \"#ed7953\"], [0.7777777777777778, \"#fb9f3a\"], [0.8888888888888888, \"#fdca26\"], [1.0, \"#f0f921\"]], \"type\": \"histogram2d\"}], \"histogram2dcontour\": [{\"colorbar\": {\"outlinewidth\": 0, \"ticks\": \"\"}, \"colorscale\": [[0.0, \"#0d0887\"], [0.1111111111111111, \"#46039f\"], [0.2222222222222222, \"#7201a8\"], [0.3333333333333333, \"#9c179e\"], [0.4444444444444444, \"#bd3786\"], [0.5555555555555556, \"#d8576b\"], [0.6666666666666666, \"#ed7953\"], [0.7777777777777778, \"#fb9f3a\"], [0.8888888888888888, \"#fdca26\"], [1.0, \"#f0f921\"]], \"type\": \"histogram2dcontour\"}], \"mesh3d\": [{\"colorbar\": {\"outlinewidth\": 0, \"ticks\": \"\"}, \"type\": \"mesh3d\"}], \"parcoords\": [{\"line\": {\"colorbar\": {\"outlinewidth\": 0, \"ticks\": \"\"}}, \"type\": \"parcoords\"}], \"pie\": [{\"automargin\": true, \"type\": \"pie\"}], \"scatter\": [{\"marker\": {\"colorbar\": {\"outlinewidth\": 0, \"ticks\": \"\"}}, \"type\": \"scatter\"}], \"scatter3d\": [{\"line\": {\"colorbar\": {\"outlinewidth\": 0, \"ticks\": \"\"}}, \"marker\": {\"colorbar\": {\"outlinewidth\": 0, \"ticks\": \"\"}}, \"type\": \"scatter3d\"}], \"scattercarpet\": [{\"marker\": {\"colorbar\": {\"outlinewidth\": 0, \"ticks\": \"\"}}, \"type\": \"scattercarpet\"}], \"scattergeo\": [{\"marker\": {\"colorbar\": {\"outlinewidth\": 0, \"ticks\": \"\"}}, \"type\": \"scattergeo\"}], \"scattergl\": [{\"marker\": {\"colorbar\": {\"outlinewidth\": 0, \"ticks\": \"\"}}, \"type\": \"scattergl\"}], \"scattermapbox\": [{\"marker\": {\"colorbar\": {\"outlinewidth\": 0, \"ticks\": \"\"}}, \"type\": \"scattermapbox\"}], \"scatterpolar\": [{\"marker\": {\"colorbar\": {\"outlinewidth\": 0, \"ticks\": \"\"}}, \"type\": \"scatterpolar\"}], \"scatterpolargl\": [{\"marker\": {\"colorbar\": {\"outlinewidth\": 0, \"ticks\": \"\"}}, \"type\": \"scatterpolargl\"}], \"scatterternary\": [{\"marker\": {\"colorbar\": {\"outlinewidth\": 0, \"ticks\": \"\"}}, \"type\": \"scatterternary\"}], \"surface\": [{\"colorbar\": {\"outlinewidth\": 0, \"ticks\": \"\"}, \"colorscale\": [[0.0, \"#0d0887\"], [0.1111111111111111, \"#46039f\"], [0.2222222222222222, \"#7201a8\"], [0.3333333333333333, \"#9c179e\"], [0.4444444444444444, \"#bd3786\"], [0.5555555555555556, \"#d8576b\"], [0.6666666666666666, \"#ed7953\"], [0.7777777777777778, \"#fb9f3a\"], [0.8888888888888888, \"#fdca26\"], [1.0, \"#f0f921\"]], \"type\": \"surface\"}], \"table\": [{\"cells\": {\"fill\": {\"color\": \"#EBF0F8\"}, \"line\": {\"color\": \"white\"}}, \"header\": {\"fill\": {\"color\": \"#C8D4E3\"}, \"line\": {\"color\": \"white\"}}, \"type\": \"table\"}]}, \"layout\": {\"annotationdefaults\": {\"arrowcolor\": \"#2a3f5f\", \"arrowhead\": 0, \"arrowwidth\": 1}, \"coloraxis\": {\"colorbar\": {\"outlinewidth\": 0, \"ticks\": \"\"}}, \"colorscale\": {\"diverging\": [[0, \"#8e0152\"], [0.1, \"#c51b7d\"], [0.2, \"#de77ae\"], [0.3, \"#f1b6da\"], [0.4, \"#fde0ef\"], [0.5, \"#f7f7f7\"], [0.6, \"#e6f5d0\"], [0.7, \"#b8e186\"], [0.8, \"#7fbc41\"], [0.9, \"#4d9221\"], [1, \"#276419\"]], \"sequential\": [[0.0, \"#0d0887\"], [0.1111111111111111, \"#46039f\"], [0.2222222222222222, \"#7201a8\"], [0.3333333333333333, \"#9c179e\"], [0.4444444444444444, \"#bd3786\"], [0.5555555555555556, \"#d8576b\"], [0.6666666666666666, \"#ed7953\"], [0.7777777777777778, \"#fb9f3a\"], [0.8888888888888888, \"#fdca26\"], [1.0, \"#f0f921\"]], \"sequentialminus\": [[0.0, \"#0d0887\"], [0.1111111111111111, \"#46039f\"], [0.2222222222222222, \"#7201a8\"], [0.3333333333333333, \"#9c179e\"], [0.4444444444444444, \"#bd3786\"], [0.5555555555555556, \"#d8576b\"], [0.6666666666666666, \"#ed7953\"], [0.7777777777777778, \"#fb9f3a\"], [0.8888888888888888, \"#fdca26\"], [1.0, \"#f0f921\"]]}, \"colorway\": [\"#636efa\", \"#EF553B\", \"#00cc96\", \"#ab63fa\", \"#FFA15A\", \"#19d3f3\", \"#FF6692\", \"#B6E880\", \"#FF97FF\", \"#FECB52\"], \"font\": {\"color\": \"#2a3f5f\"}, \"geo\": {\"bgcolor\": \"white\", \"lakecolor\": \"white\", \"landcolor\": \"#E5ECF6\", \"showlakes\": true, \"showland\": true, \"subunitcolor\": \"white\"}, \"hoverlabel\": {\"align\": \"left\"}, \"hovermode\": \"closest\", \"mapbox\": {\"style\": \"light\"}, \"paper_bgcolor\": \"white\", \"plot_bgcolor\": \"#E5ECF6\", \"polar\": {\"angularaxis\": {\"gridcolor\": \"white\", \"linecolor\": \"white\", \"ticks\": \"\"}, \"bgcolor\": \"#E5ECF6\", \"radialaxis\": {\"gridcolor\": \"white\", \"linecolor\": \"white\", \"ticks\": \"\"}}, \"scene\": {\"xaxis\": {\"backgroundcolor\": \"#E5ECF6\", \"gridcolor\": \"white\", \"gridwidth\": 2, \"linecolor\": \"white\", \"showbackground\": true, \"ticks\": \"\", \"zerolinecolor\": \"white\"}, \"yaxis\": {\"backgroundcolor\": \"#E5ECF6\", \"gridcolor\": \"white\", \"gridwidth\": 2, \"linecolor\": \"white\", \"showbackground\": true, \"ticks\": \"\", \"zerolinecolor\": \"white\"}, \"zaxis\": {\"backgroundcolor\": \"#E5ECF6\", \"gridcolor\": \"white\", \"gridwidth\": 2, \"linecolor\": \"white\", \"showbackground\": true, \"ticks\": \"\", \"zerolinecolor\": \"white\"}}, \"shapedefaults\": {\"line\": {\"color\": \"#2a3f5f\"}}, \"ternary\": {\"aaxis\": {\"gridcolor\": \"white\", \"linecolor\": \"white\", \"ticks\": \"\"}, \"baxis\": {\"gridcolor\": \"white\", \"linecolor\": \"white\", \"ticks\": \"\"}, \"bgcolor\": \"#E5ECF6\", \"caxis\": {\"gridcolor\": \"white\", \"linecolor\": \"white\", \"ticks\": \"\"}}, \"title\": {\"x\": 0.05}, \"xaxis\": {\"automargin\": true, \"gridcolor\": \"white\", \"linecolor\": \"white\", \"ticks\": \"\", \"title\": {\"standoff\": 15}, \"zerolinecolor\": \"white\", \"zerolinewidth\": 2}, \"yaxis\": {\"automargin\": true, \"gridcolor\": \"white\", \"linecolor\": \"white\", \"ticks\": \"\", \"title\": {\"standoff\": 15}, \"zerolinecolor\": \"white\", \"zerolinewidth\": 2}}}, \"title\": {\"text\": \"Coronavirus in the word : 33967941\"}},                        {\"responsive\": true}                    ).then(function(){\n",
       "                            \n",
       "var gd = document.getElementById('cd893e46-8802-44ef-8295-56672cbdd6a3');\n",
       "var x = new MutationObserver(function (mutations, observer) {{\n",
       "        var display = window.getComputedStyle(gd).display;\n",
       "        if (!display || display === 'none') {{\n",
       "            console.log([gd, 'removed!']);\n",
       "            Plotly.purge(gd);\n",
       "            observer.disconnect();\n",
       "        }}\n",
       "}});\n",
       "\n",
       "// Listen for the removal of the full notebook cells\n",
       "var notebookContainer = gd.closest('#notebook-container');\n",
       "if (notebookContainer) {{\n",
       "    x.observe(notebookContainer, {childList: true});\n",
       "}}\n",
       "\n",
       "// Listen for the clearing of the current output cell\n",
       "var outputEl = gd.closest('.output');\n",
       "if (outputEl) {{\n",
       "    x.observe(outputEl, {childList: true});\n",
       "}}\n",
       "\n",
       "                        })                };                });            </script>        </div>"
      ]
     },
     "metadata": {},
     "output_type": "display_data"
    }
   ],
   "source": [
    "#ทำตารางขึ้นมาให้รู้จำนวน คอนเฟิร์ม(ว่าเป็น covid), ตาย, หายแล้ว, ที่ยังมีชีวิตอยู่\n",
    "\n",
    "labels = [\"lastUpdate\",\"confirmed\",\"deaths\",\"recovered\",\"Active\"]\n",
    "fig = go.Figure(data=[go.Table(header=dict(values=labels),\n",
    "                            \n",
    "                     \n",
    "                 cells=dict(values=Data.loc[2,[\"lastUpdate\",\"confirmed\",\"deaths\",\"recovered\",\"Active\"]],\n",
    "                             line_color='white',\n",
    "                            font = dict(color = 'black', size = 12)))\n",
    "                     ])\n",
    "fig.update_layout(\n",
    "    title='Coronavirus in the word : '+ str(Data[\"confirmed\"][2]),\n",
    ")\n",
    "fig.show()\n",
    "\n",
    "\n"
   ]
  },
  {
   "cell_type": "code",
   "execution_count": 48,
   "metadata": {
    "colab": {
     "base_uri": "https://localhost:8080/",
     "height": 469
    },
    "id": "-_aiVOiKVgTQ",
    "outputId": "f7ed491a-1323-4fe6-d1ff-848d54d6a69b"
   },
   "outputs": [
    {
     "data": {
      "text/html": [
       "<div>\n",
       "<style scoped>\n",
       "    .dataframe tbody tr th:only-of-type {\n",
       "        vertical-align: middle;\n",
       "    }\n",
       "\n",
       "    .dataframe tbody tr th {\n",
       "        vertical-align: top;\n",
       "    }\n",
       "\n",
       "    .dataframe thead th {\n",
       "        text-align: right;\n",
       "    }\n",
       "</style>\n",
       "<table border=\"1\" class=\"dataframe\">\n",
       "  <thead>\n",
       "    <tr style=\"text-align: right;\">\n",
       "      <th></th>\n",
       "      <th>country</th>\n",
       "      <th>confirmed</th>\n",
       "      <th>recovered</th>\n",
       "      <th>deaths</th>\n",
       "    </tr>\n",
       "  </thead>\n",
       "  <tbody>\n",
       "    <tr>\n",
       "      <th>0</th>\n",
       "      <td>US</td>\n",
       "      <td>7233042</td>\n",
       "      <td>2840688.0</td>\n",
       "      <td>206932</td>\n",
       "    </tr>\n",
       "    <tr>\n",
       "      <th>1</th>\n",
       "      <td>Brazil</td>\n",
       "      <td>4810935</td>\n",
       "      <td>4274774.0</td>\n",
       "      <td>143952</td>\n",
       "    </tr>\n",
       "    <tr>\n",
       "      <th>2</th>\n",
       "      <td>India</td>\n",
       "      <td>6312584</td>\n",
       "      <td>5273201.0</td>\n",
       "      <td>98678</td>\n",
       "    </tr>\n",
       "    <tr>\n",
       "      <th>3</th>\n",
       "      <td>Mexico</td>\n",
       "      <td>743216</td>\n",
       "      <td>628007.0</td>\n",
       "      <td>77646</td>\n",
       "    </tr>\n",
       "    <tr>\n",
       "      <th>4</th>\n",
       "      <td>United Kingdom</td>\n",
       "      <td>455846</td>\n",
       "      <td>2373.0</td>\n",
       "      <td>42233</td>\n",
       "    </tr>\n",
       "    <tr>\n",
       "      <th>...</th>\n",
       "      <td>...</td>\n",
       "      <td>...</td>\n",
       "      <td>...</td>\n",
       "      <td>...</td>\n",
       "    </tr>\n",
       "    <tr>\n",
       "      <th>183</th>\n",
       "      <td>Seychelles</td>\n",
       "      <td>144</td>\n",
       "      <td>140.0</td>\n",
       "      <td>0</td>\n",
       "    </tr>\n",
       "    <tr>\n",
       "      <th>184</th>\n",
       "      <td>Cambodia</td>\n",
       "      <td>277</td>\n",
       "      <td>275.0</td>\n",
       "      <td>0</td>\n",
       "    </tr>\n",
       "    <tr>\n",
       "      <th>185</th>\n",
       "      <td>Eritrea</td>\n",
       "      <td>375</td>\n",
       "      <td>341.0</td>\n",
       "      <td>0</td>\n",
       "    </tr>\n",
       "    <tr>\n",
       "      <th>186</th>\n",
       "      <td>Laos</td>\n",
       "      <td>23</td>\n",
       "      <td>22.0</td>\n",
       "      <td>0</td>\n",
       "    </tr>\n",
       "    <tr>\n",
       "      <th>187</th>\n",
       "      <td>Dominica</td>\n",
       "      <td>30</td>\n",
       "      <td>24.0</td>\n",
       "      <td>0</td>\n",
       "    </tr>\n",
       "  </tbody>\n",
       "</table>\n",
       "<p>188 rows × 4 columns</p>\n",
       "</div>"
      ],
      "text/plain": [
       "            country  confirmed  recovered  deaths\n",
       "0                US    7233042  2840688.0  206932\n",
       "1            Brazil    4810935  4274774.0  143952\n",
       "2             India    6312584  5273201.0   98678\n",
       "3            Mexico     743216   628007.0   77646\n",
       "4    United Kingdom     455846     2373.0   42233\n",
       "..              ...        ...        ...     ...\n",
       "183      Seychelles        144      140.0       0\n",
       "184        Cambodia        277      275.0       0\n",
       "185         Eritrea        375      341.0       0\n",
       "186            Laos         23       22.0       0\n",
       "187        Dominica         30       24.0       0\n",
       "\n",
       "[188 rows x 4 columns]"
      ]
     },
     "execution_count": 48,
     "metadata": {},
     "output_type": "execute_result"
    }
   ],
   "source": [
    "Data_country = df.groupby([\"country\"])[\"confirmed\",\"recovered\",\"deaths\"].sum().reset_index().sort_values(\"deaths\",ascending=False).reset_index(drop=True)\n",
    "Data_country "
   ]
  },
  {
   "cell_type": "code",
   "execution_count": 47,
   "metadata": {
    "colab": {
     "base_uri": "https://localhost:8080/",
     "height": 542
    },
    "id": "WH-IHJ8_n4in",
    "outputId": "bfba6070-c7e6-44a5-f079-3a6df0c76e45",
    "scrolled": true
   },
   "outputs": [
    {
     "data": {
      "application/vnd.plotly.v1+json": {
       "config": {
        "plotlyServerURL": "https://plot.ly"
       },
       "data": [
        {
         "cells": {
          "align": [
           "center",
           "center"
          ],
          "fill": {
           "color": "#decdc3"
          },
          "font": {
           "color": "darkslategray",
           "size": 12
          },
          "line": {
           "color": "white"
          },
          "values": [
           [
            "US",
            "Brazil",
            "India",
            "Mexico",
            "United Kingdom",
            "Italy",
            "Peru",
            "France",
            "Spain",
            "Iran",
            "Colombia",
            "Russia",
            "Argentina",
            "South Africa",
            "Chile",
            "Ecuador",
            "Indonesia",
            "Belgium",
            "Germany",
            "Canada",
            "Iraq",
            "Turkey",
            "Bolivia",
            "Pakistan",
            "Netherlands",
            "Egypt",
            "Sweden",
            "Philippines",
            "Bangladesh",
            "Romania",
            "Saudi Arabia",
            "China",
            "Ukraine",
            "Guatemala",
            "Poland",
            "Panama",
            "Honduras",
            "Morocco",
            "Dominican Republic",
            "Switzerland",
            "Portugal",
            "Ireland",
            "Algeria",
            "Kazakhstan",
            "Japan",
            "Israel",
            "Afghanistan",
            "Moldova",
            "Ethiopia",
            "Nigeria",
            "Kyrgyzstan",
            "Armenia",
            "Oman",
            "Costa Rica",
            "Australia",
            "Paraguay",
            "Bosnia and Herzegovina",
            "El Salvador",
            "Sudan",
            "Belarus",
            "Bulgaria",
            "Austria",
            "Hungary",
            "Serbia",
            "North Macedonia",
            "Kenya",
            "Czechia",
            "Denmark",
            "Venezuela",
            "Kuwait",
            "Azerbaijan",
            "Yemen",
            "Libya",
            "Nepal",
            "Kosovo",
            "Uzbekistan",
            "United Arab Emirates",
            "Cameroon",
            "Korea, South",
            "Greece",
            "Albania",
            "Lebanon",
            "Finland",
            "Zambia",
            "Senegal",
            "West Bank and Gaza",
            "Burma",
            "Ghana",
            "Croatia",
            "Norway",
            "Congo (Kinshasa)",
            "Tunisia",
            "Bahrain",
            "Madagascar",
            "Haiti",
            "Zimbabwe",
            "Qatar",
            "Syria",
            "Angola",
            "Malawi",
            "Montenegro",
            "Mauritania",
            "Nicaragua",
            "Slovenia",
            "Malaysia",
            "Mali",
            "Luxembourg",
            "Cuba",
            "Namibia",
            "Cote d'Ivoire",
            "Gambia",
            "Eswatini",
            "Jamaica",
            "Suriname",
            "Somalia",
            "Bahamas",
            "Lithuania",
            "Congo (Brazzaville)",
            "Chad",
            "Equatorial Guinea",
            "Liberia",
            "Guyana",
            "Tajikistan",
            "Trinidad and Tobago",
            "Uganda",
            "Sierra Leone",
            "Niger",
            "Guinea",
            "Estonia",
            "Central African Republic",
            "Mozambique",
            "Jordan",
            "Djibouti",
            "Cabo Verde",
            "Thailand",
            "Burkina Faso",
            "Gabon",
            "Andorra",
            "South Sudan",
            "Slovakia",
            "Uruguay",
            "Togo",
            "San Marino",
            "Benin",
            "Guinea-Bissau",
            "Georgia",
            "Latvia",
            "Lesotho",
            "Vietnam",
            "Malta",
            "Maldives",
            "Rwanda",
            "Belize",
            "Singapore",
            "New Zealand",
            "Cyprus",
            "Tanzania",
            "Botswana",
            "Sao Tome and Principe",
            "Diamond Princess",
            "Sri Lanka",
            "Mauritius",
            "Iceland",
            "Papua New Guinea",
            "Taiwan*",
            "Barbados",
            "Comoros",
            "Antigua and Barbuda",
            "Brunei",
            "MS Zaandam",
            "Fiji",
            "Monaco",
            "Western Sahara",
            "Liechtenstein",
            "Burundi",
            "Holy See",
            "Grenada",
            "Mongolia",
            "Saint Vincent and the Grenadines",
            "Saint Lucia",
            "Saint Kitts and Nevis",
            "Timor-Leste",
            "Bhutan",
            "Seychelles",
            "Cambodia",
            "Eritrea",
            "Laos",
            "Dominica"
           ],
           [
            206932,
            143952,
            98678,
            77646,
            42233,
            35894,
            32396,
            31986,
            31791,
            26169,
            25998,
            20630,
            16937,
            16734,
            12741,
            11355,
            10740,
            10016,
            9495,
            9346,
            9181,
            8195,
            7965,
            6484,
            6457,
            5930,
            5893,
            5504,
            5251,
            4825,
            4768,
            4739,
            4221,
            3246,
            2513,
            2372,
            2353,
            2194,
            2105,
            2074,
            1971,
            1804,
            1736,
            1725,
            1575,
            1569,
            1458,
            1320,
            1198,
            1112,
            1064,
            959,
            935,
            904,
            888,
            857,
            856,
            843,
            836,
            833,
            825,
            799,
            765,
            749,
            739,
            711,
            655,
            650,
            628,
            610,
            591,
            587,
            551,
            498,
            488,
            470,
            419,
            418,
            415,
            391,
            387,
            367,
            344,
            332,
            311,
            311,
            310,
            301,
            280,
            274,
            272,
            265,
            251,
            230,
            229,
            228,
            214,
            200,
            183,
            179,
            169,
            161,
            151,
            150,
            136,
            131,
            124,
            122,
            121,
            120,
            112,
            109,
            107,
            104,
            99,
            96,
            92,
            89,
            85,
            83,
            82,
            80,
            76,
            76,
            75,
            72,
            69,
            66,
            64,
            62,
            61,
            61,
            61,
            60,
            59,
            58,
            54,
            53,
            49,
            48,
            48,
            48,
            42,
            41,
            39,
            39,
            37,
            36,
            35,
            35,
            34,
            29,
            27,
            27,
            25,
            22,
            21,
            16,
            15,
            13,
            13,
            10,
            10,
            7,
            7,
            7,
            7,
            3,
            3,
            2,
            2,
            2,
            1,
            1,
            1,
            0,
            0,
            0,
            0,
            0,
            0,
            0,
            0,
            0,
            0,
            0,
            0,
            0
           ]
          ]
         },
         "header": {
          "align": [
           "center",
           "center"
          ],
          "fill": {
           "color": "#2d4059"
          },
          "font": {
           "color": "white",
           "size": 16
          },
          "line": {
           "color": "white"
          },
          "values": [
           "ประเทศ",
           "จำนวนผู้เสียชีวิต"
          ]
         },
         "type": "table"
        }
       ],
       "layout": {
        "template": {
         "data": {
          "bar": [
           {
            "error_x": {
             "color": "#2a3f5f"
            },
            "error_y": {
             "color": "#2a3f5f"
            },
            "marker": {
             "line": {
              "color": "#E5ECF6",
              "width": 0.5
             }
            },
            "type": "bar"
           }
          ],
          "barpolar": [
           {
            "marker": {
             "line": {
              "color": "#E5ECF6",
              "width": 0.5
             }
            },
            "type": "barpolar"
           }
          ],
          "carpet": [
           {
            "aaxis": {
             "endlinecolor": "#2a3f5f",
             "gridcolor": "white",
             "linecolor": "white",
             "minorgridcolor": "white",
             "startlinecolor": "#2a3f5f"
            },
            "baxis": {
             "endlinecolor": "#2a3f5f",
             "gridcolor": "white",
             "linecolor": "white",
             "minorgridcolor": "white",
             "startlinecolor": "#2a3f5f"
            },
            "type": "carpet"
           }
          ],
          "choropleth": [
           {
            "colorbar": {
             "outlinewidth": 0,
             "ticks": ""
            },
            "type": "choropleth"
           }
          ],
          "contour": [
           {
            "colorbar": {
             "outlinewidth": 0,
             "ticks": ""
            },
            "colorscale": [
             [
              0,
              "#0d0887"
             ],
             [
              0.1111111111111111,
              "#46039f"
             ],
             [
              0.2222222222222222,
              "#7201a8"
             ],
             [
              0.3333333333333333,
              "#9c179e"
             ],
             [
              0.4444444444444444,
              "#bd3786"
             ],
             [
              0.5555555555555556,
              "#d8576b"
             ],
             [
              0.6666666666666666,
              "#ed7953"
             ],
             [
              0.7777777777777778,
              "#fb9f3a"
             ],
             [
              0.8888888888888888,
              "#fdca26"
             ],
             [
              1,
              "#f0f921"
             ]
            ],
            "type": "contour"
           }
          ],
          "contourcarpet": [
           {
            "colorbar": {
             "outlinewidth": 0,
             "ticks": ""
            },
            "type": "contourcarpet"
           }
          ],
          "heatmap": [
           {
            "colorbar": {
             "outlinewidth": 0,
             "ticks": ""
            },
            "colorscale": [
             [
              0,
              "#0d0887"
             ],
             [
              0.1111111111111111,
              "#46039f"
             ],
             [
              0.2222222222222222,
              "#7201a8"
             ],
             [
              0.3333333333333333,
              "#9c179e"
             ],
             [
              0.4444444444444444,
              "#bd3786"
             ],
             [
              0.5555555555555556,
              "#d8576b"
             ],
             [
              0.6666666666666666,
              "#ed7953"
             ],
             [
              0.7777777777777778,
              "#fb9f3a"
             ],
             [
              0.8888888888888888,
              "#fdca26"
             ],
             [
              1,
              "#f0f921"
             ]
            ],
            "type": "heatmap"
           }
          ],
          "heatmapgl": [
           {
            "colorbar": {
             "outlinewidth": 0,
             "ticks": ""
            },
            "colorscale": [
             [
              0,
              "#0d0887"
             ],
             [
              0.1111111111111111,
              "#46039f"
             ],
             [
              0.2222222222222222,
              "#7201a8"
             ],
             [
              0.3333333333333333,
              "#9c179e"
             ],
             [
              0.4444444444444444,
              "#bd3786"
             ],
             [
              0.5555555555555556,
              "#d8576b"
             ],
             [
              0.6666666666666666,
              "#ed7953"
             ],
             [
              0.7777777777777778,
              "#fb9f3a"
             ],
             [
              0.8888888888888888,
              "#fdca26"
             ],
             [
              1,
              "#f0f921"
             ]
            ],
            "type": "heatmapgl"
           }
          ],
          "histogram": [
           {
            "marker": {
             "colorbar": {
              "outlinewidth": 0,
              "ticks": ""
             }
            },
            "type": "histogram"
           }
          ],
          "histogram2d": [
           {
            "colorbar": {
             "outlinewidth": 0,
             "ticks": ""
            },
            "colorscale": [
             [
              0,
              "#0d0887"
             ],
             [
              0.1111111111111111,
              "#46039f"
             ],
             [
              0.2222222222222222,
              "#7201a8"
             ],
             [
              0.3333333333333333,
              "#9c179e"
             ],
             [
              0.4444444444444444,
              "#bd3786"
             ],
             [
              0.5555555555555556,
              "#d8576b"
             ],
             [
              0.6666666666666666,
              "#ed7953"
             ],
             [
              0.7777777777777778,
              "#fb9f3a"
             ],
             [
              0.8888888888888888,
              "#fdca26"
             ],
             [
              1,
              "#f0f921"
             ]
            ],
            "type": "histogram2d"
           }
          ],
          "histogram2dcontour": [
           {
            "colorbar": {
             "outlinewidth": 0,
             "ticks": ""
            },
            "colorscale": [
             [
              0,
              "#0d0887"
             ],
             [
              0.1111111111111111,
              "#46039f"
             ],
             [
              0.2222222222222222,
              "#7201a8"
             ],
             [
              0.3333333333333333,
              "#9c179e"
             ],
             [
              0.4444444444444444,
              "#bd3786"
             ],
             [
              0.5555555555555556,
              "#d8576b"
             ],
             [
              0.6666666666666666,
              "#ed7953"
             ],
             [
              0.7777777777777778,
              "#fb9f3a"
             ],
             [
              0.8888888888888888,
              "#fdca26"
             ],
             [
              1,
              "#f0f921"
             ]
            ],
            "type": "histogram2dcontour"
           }
          ],
          "mesh3d": [
           {
            "colorbar": {
             "outlinewidth": 0,
             "ticks": ""
            },
            "type": "mesh3d"
           }
          ],
          "parcoords": [
           {
            "line": {
             "colorbar": {
              "outlinewidth": 0,
              "ticks": ""
             }
            },
            "type": "parcoords"
           }
          ],
          "pie": [
           {
            "automargin": true,
            "type": "pie"
           }
          ],
          "scatter": [
           {
            "marker": {
             "colorbar": {
              "outlinewidth": 0,
              "ticks": ""
             }
            },
            "type": "scatter"
           }
          ],
          "scatter3d": [
           {
            "line": {
             "colorbar": {
              "outlinewidth": 0,
              "ticks": ""
             }
            },
            "marker": {
             "colorbar": {
              "outlinewidth": 0,
              "ticks": ""
             }
            },
            "type": "scatter3d"
           }
          ],
          "scattercarpet": [
           {
            "marker": {
             "colorbar": {
              "outlinewidth": 0,
              "ticks": ""
             }
            },
            "type": "scattercarpet"
           }
          ],
          "scattergeo": [
           {
            "marker": {
             "colorbar": {
              "outlinewidth": 0,
              "ticks": ""
             }
            },
            "type": "scattergeo"
           }
          ],
          "scattergl": [
           {
            "marker": {
             "colorbar": {
              "outlinewidth": 0,
              "ticks": ""
             }
            },
            "type": "scattergl"
           }
          ],
          "scattermapbox": [
           {
            "marker": {
             "colorbar": {
              "outlinewidth": 0,
              "ticks": ""
             }
            },
            "type": "scattermapbox"
           }
          ],
          "scatterpolar": [
           {
            "marker": {
             "colorbar": {
              "outlinewidth": 0,
              "ticks": ""
             }
            },
            "type": "scatterpolar"
           }
          ],
          "scatterpolargl": [
           {
            "marker": {
             "colorbar": {
              "outlinewidth": 0,
              "ticks": ""
             }
            },
            "type": "scatterpolargl"
           }
          ],
          "scatterternary": [
           {
            "marker": {
             "colorbar": {
              "outlinewidth": 0,
              "ticks": ""
             }
            },
            "type": "scatterternary"
           }
          ],
          "surface": [
           {
            "colorbar": {
             "outlinewidth": 0,
             "ticks": ""
            },
            "colorscale": [
             [
              0,
              "#0d0887"
             ],
             [
              0.1111111111111111,
              "#46039f"
             ],
             [
              0.2222222222222222,
              "#7201a8"
             ],
             [
              0.3333333333333333,
              "#9c179e"
             ],
             [
              0.4444444444444444,
              "#bd3786"
             ],
             [
              0.5555555555555556,
              "#d8576b"
             ],
             [
              0.6666666666666666,
              "#ed7953"
             ],
             [
              0.7777777777777778,
              "#fb9f3a"
             ],
             [
              0.8888888888888888,
              "#fdca26"
             ],
             [
              1,
              "#f0f921"
             ]
            ],
            "type": "surface"
           }
          ],
          "table": [
           {
            "cells": {
             "fill": {
              "color": "#EBF0F8"
             },
             "line": {
              "color": "white"
             }
            },
            "header": {
             "fill": {
              "color": "#C8D4E3"
             },
             "line": {
              "color": "white"
             }
            },
            "type": "table"
           }
          ]
         },
         "layout": {
          "annotationdefaults": {
           "arrowcolor": "#2a3f5f",
           "arrowhead": 0,
           "arrowwidth": 1
          },
          "coloraxis": {
           "colorbar": {
            "outlinewidth": 0,
            "ticks": ""
           }
          },
          "colorscale": {
           "diverging": [
            [
             0,
             "#8e0152"
            ],
            [
             0.1,
             "#c51b7d"
            ],
            [
             0.2,
             "#de77ae"
            ],
            [
             0.3,
             "#f1b6da"
            ],
            [
             0.4,
             "#fde0ef"
            ],
            [
             0.5,
             "#f7f7f7"
            ],
            [
             0.6,
             "#e6f5d0"
            ],
            [
             0.7,
             "#b8e186"
            ],
            [
             0.8,
             "#7fbc41"
            ],
            [
             0.9,
             "#4d9221"
            ],
            [
             1,
             "#276419"
            ]
           ],
           "sequential": [
            [
             0,
             "#0d0887"
            ],
            [
             0.1111111111111111,
             "#46039f"
            ],
            [
             0.2222222222222222,
             "#7201a8"
            ],
            [
             0.3333333333333333,
             "#9c179e"
            ],
            [
             0.4444444444444444,
             "#bd3786"
            ],
            [
             0.5555555555555556,
             "#d8576b"
            ],
            [
             0.6666666666666666,
             "#ed7953"
            ],
            [
             0.7777777777777778,
             "#fb9f3a"
            ],
            [
             0.8888888888888888,
             "#fdca26"
            ],
            [
             1,
             "#f0f921"
            ]
           ],
           "sequentialminus": [
            [
             0,
             "#0d0887"
            ],
            [
             0.1111111111111111,
             "#46039f"
            ],
            [
             0.2222222222222222,
             "#7201a8"
            ],
            [
             0.3333333333333333,
             "#9c179e"
            ],
            [
             0.4444444444444444,
             "#bd3786"
            ],
            [
             0.5555555555555556,
             "#d8576b"
            ],
            [
             0.6666666666666666,
             "#ed7953"
            ],
            [
             0.7777777777777778,
             "#fb9f3a"
            ],
            [
             0.8888888888888888,
             "#fdca26"
            ],
            [
             1,
             "#f0f921"
            ]
           ]
          },
          "colorway": [
           "#636efa",
           "#EF553B",
           "#00cc96",
           "#ab63fa",
           "#FFA15A",
           "#19d3f3",
           "#FF6692",
           "#B6E880",
           "#FF97FF",
           "#FECB52"
          ],
          "font": {
           "color": "#2a3f5f"
          },
          "geo": {
           "bgcolor": "white",
           "lakecolor": "white",
           "landcolor": "#E5ECF6",
           "showlakes": true,
           "showland": true,
           "subunitcolor": "white"
          },
          "hoverlabel": {
           "align": "left"
          },
          "hovermode": "closest",
          "mapbox": {
           "style": "light"
          },
          "paper_bgcolor": "white",
          "plot_bgcolor": "#E5ECF6",
          "polar": {
           "angularaxis": {
            "gridcolor": "white",
            "linecolor": "white",
            "ticks": ""
           },
           "bgcolor": "#E5ECF6",
           "radialaxis": {
            "gridcolor": "white",
            "linecolor": "white",
            "ticks": ""
           }
          },
          "scene": {
           "xaxis": {
            "backgroundcolor": "#E5ECF6",
            "gridcolor": "white",
            "gridwidth": 2,
            "linecolor": "white",
            "showbackground": true,
            "ticks": "",
            "zerolinecolor": "white"
           },
           "yaxis": {
            "backgroundcolor": "#E5ECF6",
            "gridcolor": "white",
            "gridwidth": 2,
            "linecolor": "white",
            "showbackground": true,
            "ticks": "",
            "zerolinecolor": "white"
           },
           "zaxis": {
            "backgroundcolor": "#E5ECF6",
            "gridcolor": "white",
            "gridwidth": 2,
            "linecolor": "white",
            "showbackground": true,
            "ticks": "",
            "zerolinecolor": "white"
           }
          },
          "shapedefaults": {
           "line": {
            "color": "#2a3f5f"
           }
          },
          "ternary": {
           "aaxis": {
            "gridcolor": "white",
            "linecolor": "white",
            "ticks": ""
           },
           "baxis": {
            "gridcolor": "white",
            "linecolor": "white",
            "ticks": ""
           },
           "bgcolor": "#E5ECF6",
           "caxis": {
            "gridcolor": "white",
            "linecolor": "white",
            "ticks": ""
           }
          },
          "title": {
           "x": 0.05
          },
          "xaxis": {
           "automargin": true,
           "gridcolor": "white",
           "linecolor": "white",
           "ticks": "",
           "title": {
            "standoff": 15
           },
           "zerolinecolor": "white",
           "zerolinewidth": 2
          },
          "yaxis": {
           "automargin": true,
           "gridcolor": "white",
           "linecolor": "white",
           "ticks": "",
           "title": {
            "standoff": 15
           },
           "zerolinecolor": "white",
           "zerolinewidth": 2
          }
         }
        },
        "title": {
         "text": "จำนวนผู้เสียชีวิตในแต่ละประเทศ"
        }
       }
      },
      "text/html": [
       "<div>                            <div id=\"d656272d-49a7-4acf-9b50-622b09afa3a7\" class=\"plotly-graph-div\" style=\"height:525px; width:100%;\"></div>            <script type=\"text/javascript\">                require([\"plotly\"], function(Plotly) {                    window.PLOTLYENV=window.PLOTLYENV || {};                                    if (document.getElementById(\"d656272d-49a7-4acf-9b50-622b09afa3a7\")) {                    Plotly.newPlot(                        \"d656272d-49a7-4acf-9b50-622b09afa3a7\",                        [{\"cells\": {\"align\": [\"center\", \"center\"], \"fill\": {\"color\": \"#decdc3\"}, \"font\": {\"color\": \"darkslategray\", \"size\": 12}, \"line\": {\"color\": \"white\"}, \"values\": [[\"US\", \"Brazil\", \"India\", \"Mexico\", \"United Kingdom\", \"Italy\", \"Peru\", \"France\", \"Spain\", \"Iran\", \"Colombia\", \"Russia\", \"Argentina\", \"South Africa\", \"Chile\", \"Ecuador\", \"Indonesia\", \"Belgium\", \"Germany\", \"Canada\", \"Iraq\", \"Turkey\", \"Bolivia\", \"Pakistan\", \"Netherlands\", \"Egypt\", \"Sweden\", \"Philippines\", \"Bangladesh\", \"Romania\", \"Saudi Arabia\", \"China\", \"Ukraine\", \"Guatemala\", \"Poland\", \"Panama\", \"Honduras\", \"Morocco\", \"Dominican Republic\", \"Switzerland\", \"Portugal\", \"Ireland\", \"Algeria\", \"Kazakhstan\", \"Japan\", \"Israel\", \"Afghanistan\", \"Moldova\", \"Ethiopia\", \"Nigeria\", \"Kyrgyzstan\", \"Armenia\", \"Oman\", \"Costa Rica\", \"Australia\", \"Paraguay\", \"Bosnia and Herzegovina\", \"El Salvador\", \"Sudan\", \"Belarus\", \"Bulgaria\", \"Austria\", \"Hungary\", \"Serbia\", \"North Macedonia\", \"Kenya\", \"Czechia\", \"Denmark\", \"Venezuela\", \"Kuwait\", \"Azerbaijan\", \"Yemen\", \"Libya\", \"Nepal\", \"Kosovo\", \"Uzbekistan\", \"United Arab Emirates\", \"Cameroon\", \"Korea, South\", \"Greece\", \"Albania\", \"Lebanon\", \"Finland\", \"Zambia\", \"Senegal\", \"West Bank and Gaza\", \"Burma\", \"Ghana\", \"Croatia\", \"Norway\", \"Congo (Kinshasa)\", \"Tunisia\", \"Bahrain\", \"Madagascar\", \"Haiti\", \"Zimbabwe\", \"Qatar\", \"Syria\", \"Angola\", \"Malawi\", \"Montenegro\", \"Mauritania\", \"Nicaragua\", \"Slovenia\", \"Malaysia\", \"Mali\", \"Luxembourg\", \"Cuba\", \"Namibia\", \"Cote d'Ivoire\", \"Gambia\", \"Eswatini\", \"Jamaica\", \"Suriname\", \"Somalia\", \"Bahamas\", \"Lithuania\", \"Congo (Brazzaville)\", \"Chad\", \"Equatorial Guinea\", \"Liberia\", \"Guyana\", \"Tajikistan\", \"Trinidad and Tobago\", \"Uganda\", \"Sierra Leone\", \"Niger\", \"Guinea\", \"Estonia\", \"Central African Republic\", \"Mozambique\", \"Jordan\", \"Djibouti\", \"Cabo Verde\", \"Thailand\", \"Burkina Faso\", \"Gabon\", \"Andorra\", \"South Sudan\", \"Slovakia\", \"Uruguay\", \"Togo\", \"San Marino\", \"Benin\", \"Guinea-Bissau\", \"Georgia\", \"Latvia\", \"Lesotho\", \"Vietnam\", \"Malta\", \"Maldives\", \"Rwanda\", \"Belize\", \"Singapore\", \"New Zealand\", \"Cyprus\", \"Tanzania\", \"Botswana\", \"Sao Tome and Principe\", \"Diamond Princess\", \"Sri Lanka\", \"Mauritius\", \"Iceland\", \"Papua New Guinea\", \"Taiwan*\", \"Barbados\", \"Comoros\", \"Antigua and Barbuda\", \"Brunei\", \"MS Zaandam\", \"Fiji\", \"Monaco\", \"Western Sahara\", \"Liechtenstein\", \"Burundi\", \"Holy See\", \"Grenada\", \"Mongolia\", \"Saint Vincent and the Grenadines\", \"Saint Lucia\", \"Saint Kitts and Nevis\", \"Timor-Leste\", \"Bhutan\", \"Seychelles\", \"Cambodia\", \"Eritrea\", \"Laos\", \"Dominica\"], [206932, 143952, 98678, 77646, 42233, 35894, 32396, 31986, 31791, 26169, 25998, 20630, 16937, 16734, 12741, 11355, 10740, 10016, 9495, 9346, 9181, 8195, 7965, 6484, 6457, 5930, 5893, 5504, 5251, 4825, 4768, 4739, 4221, 3246, 2513, 2372, 2353, 2194, 2105, 2074, 1971, 1804, 1736, 1725, 1575, 1569, 1458, 1320, 1198, 1112, 1064, 959, 935, 904, 888, 857, 856, 843, 836, 833, 825, 799, 765, 749, 739, 711, 655, 650, 628, 610, 591, 587, 551, 498, 488, 470, 419, 418, 415, 391, 387, 367, 344, 332, 311, 311, 310, 301, 280, 274, 272, 265, 251, 230, 229, 228, 214, 200, 183, 179, 169, 161, 151, 150, 136, 131, 124, 122, 121, 120, 112, 109, 107, 104, 99, 96, 92, 89, 85, 83, 82, 80, 76, 76, 75, 72, 69, 66, 64, 62, 61, 61, 61, 60, 59, 58, 54, 53, 49, 48, 48, 48, 42, 41, 39, 39, 37, 36, 35, 35, 34, 29, 27, 27, 25, 22, 21, 16, 15, 13, 13, 10, 10, 7, 7, 7, 7, 3, 3, 2, 2, 2, 1, 1, 1, 0, 0, 0, 0, 0, 0, 0, 0, 0, 0, 0, 0, 0]]}, \"header\": {\"align\": [\"center\", \"center\"], \"fill\": {\"color\": \"#2d4059\"}, \"font\": {\"color\": \"white\", \"size\": 16}, \"line\": {\"color\": \"white\"}, \"values\": [\"\\u0e1b\\u0e23\\u0e30\\u0e40\\u0e17\\u0e28\", \"\\u0e08\\u0e33\\u0e19\\u0e27\\u0e19\\u0e1c\\u0e39\\u0e49\\u0e40\\u0e2a\\u0e35\\u0e22\\u0e0a\\u0e35\\u0e27\\u0e34\\u0e15\"]}, \"type\": \"table\"}],                        {\"template\": {\"data\": {\"bar\": [{\"error_x\": {\"color\": \"#2a3f5f\"}, \"error_y\": {\"color\": \"#2a3f5f\"}, \"marker\": {\"line\": {\"color\": \"#E5ECF6\", \"width\": 0.5}}, \"type\": \"bar\"}], \"barpolar\": [{\"marker\": {\"line\": {\"color\": \"#E5ECF6\", \"width\": 0.5}}, \"type\": \"barpolar\"}], \"carpet\": [{\"aaxis\": {\"endlinecolor\": \"#2a3f5f\", \"gridcolor\": \"white\", \"linecolor\": \"white\", \"minorgridcolor\": \"white\", \"startlinecolor\": \"#2a3f5f\"}, \"baxis\": {\"endlinecolor\": \"#2a3f5f\", \"gridcolor\": \"white\", \"linecolor\": \"white\", \"minorgridcolor\": \"white\", \"startlinecolor\": \"#2a3f5f\"}, \"type\": \"carpet\"}], \"choropleth\": [{\"colorbar\": {\"outlinewidth\": 0, \"ticks\": \"\"}, \"type\": \"choropleth\"}], \"contour\": [{\"colorbar\": {\"outlinewidth\": 0, \"ticks\": \"\"}, \"colorscale\": [[0.0, \"#0d0887\"], [0.1111111111111111, \"#46039f\"], [0.2222222222222222, \"#7201a8\"], [0.3333333333333333, \"#9c179e\"], [0.4444444444444444, \"#bd3786\"], [0.5555555555555556, \"#d8576b\"], [0.6666666666666666, \"#ed7953\"], [0.7777777777777778, \"#fb9f3a\"], [0.8888888888888888, \"#fdca26\"], [1.0, \"#f0f921\"]], \"type\": \"contour\"}], \"contourcarpet\": [{\"colorbar\": {\"outlinewidth\": 0, \"ticks\": \"\"}, \"type\": \"contourcarpet\"}], \"heatmap\": [{\"colorbar\": {\"outlinewidth\": 0, \"ticks\": \"\"}, \"colorscale\": [[0.0, \"#0d0887\"], [0.1111111111111111, \"#46039f\"], [0.2222222222222222, \"#7201a8\"], [0.3333333333333333, \"#9c179e\"], [0.4444444444444444, \"#bd3786\"], [0.5555555555555556, \"#d8576b\"], [0.6666666666666666, \"#ed7953\"], [0.7777777777777778, \"#fb9f3a\"], [0.8888888888888888, \"#fdca26\"], [1.0, \"#f0f921\"]], \"type\": \"heatmap\"}], \"heatmapgl\": [{\"colorbar\": {\"outlinewidth\": 0, \"ticks\": \"\"}, \"colorscale\": [[0.0, \"#0d0887\"], [0.1111111111111111, \"#46039f\"], [0.2222222222222222, \"#7201a8\"], [0.3333333333333333, \"#9c179e\"], [0.4444444444444444, \"#bd3786\"], [0.5555555555555556, \"#d8576b\"], [0.6666666666666666, \"#ed7953\"], [0.7777777777777778, \"#fb9f3a\"], [0.8888888888888888, \"#fdca26\"], [1.0, \"#f0f921\"]], \"type\": \"heatmapgl\"}], \"histogram\": [{\"marker\": {\"colorbar\": {\"outlinewidth\": 0, \"ticks\": \"\"}}, \"type\": \"histogram\"}], \"histogram2d\": [{\"colorbar\": {\"outlinewidth\": 0, \"ticks\": \"\"}, \"colorscale\": [[0.0, \"#0d0887\"], [0.1111111111111111, \"#46039f\"], [0.2222222222222222, \"#7201a8\"], [0.3333333333333333, \"#9c179e\"], [0.4444444444444444, \"#bd3786\"], [0.5555555555555556, \"#d8576b\"], [0.6666666666666666, \"#ed7953\"], [0.7777777777777778, \"#fb9f3a\"], [0.8888888888888888, \"#fdca26\"], [1.0, \"#f0f921\"]], \"type\": \"histogram2d\"}], \"histogram2dcontour\": [{\"colorbar\": {\"outlinewidth\": 0, \"ticks\": \"\"}, \"colorscale\": [[0.0, \"#0d0887\"], [0.1111111111111111, \"#46039f\"], [0.2222222222222222, \"#7201a8\"], [0.3333333333333333, \"#9c179e\"], [0.4444444444444444, \"#bd3786\"], [0.5555555555555556, \"#d8576b\"], [0.6666666666666666, \"#ed7953\"], [0.7777777777777778, \"#fb9f3a\"], [0.8888888888888888, \"#fdca26\"], [1.0, \"#f0f921\"]], \"type\": \"histogram2dcontour\"}], \"mesh3d\": [{\"colorbar\": {\"outlinewidth\": 0, \"ticks\": \"\"}, \"type\": \"mesh3d\"}], \"parcoords\": [{\"line\": {\"colorbar\": {\"outlinewidth\": 0, \"ticks\": \"\"}}, \"type\": \"parcoords\"}], \"pie\": [{\"automargin\": true, \"type\": \"pie\"}], \"scatter\": [{\"marker\": {\"colorbar\": {\"outlinewidth\": 0, \"ticks\": \"\"}}, \"type\": \"scatter\"}], \"scatter3d\": [{\"line\": {\"colorbar\": {\"outlinewidth\": 0, \"ticks\": \"\"}}, \"marker\": {\"colorbar\": {\"outlinewidth\": 0, \"ticks\": \"\"}}, \"type\": \"scatter3d\"}], \"scattercarpet\": [{\"marker\": {\"colorbar\": {\"outlinewidth\": 0, \"ticks\": \"\"}}, \"type\": \"scattercarpet\"}], \"scattergeo\": [{\"marker\": {\"colorbar\": {\"outlinewidth\": 0, \"ticks\": \"\"}}, \"type\": \"scattergeo\"}], \"scattergl\": [{\"marker\": {\"colorbar\": {\"outlinewidth\": 0, \"ticks\": \"\"}}, \"type\": \"scattergl\"}], \"scattermapbox\": [{\"marker\": {\"colorbar\": {\"outlinewidth\": 0, \"ticks\": \"\"}}, \"type\": \"scattermapbox\"}], \"scatterpolar\": [{\"marker\": {\"colorbar\": {\"outlinewidth\": 0, \"ticks\": \"\"}}, \"type\": \"scatterpolar\"}], \"scatterpolargl\": [{\"marker\": {\"colorbar\": {\"outlinewidth\": 0, \"ticks\": \"\"}}, \"type\": \"scatterpolargl\"}], \"scatterternary\": [{\"marker\": {\"colorbar\": {\"outlinewidth\": 0, \"ticks\": \"\"}}, \"type\": \"scatterternary\"}], \"surface\": [{\"colorbar\": {\"outlinewidth\": 0, \"ticks\": \"\"}, \"colorscale\": [[0.0, \"#0d0887\"], [0.1111111111111111, \"#46039f\"], [0.2222222222222222, \"#7201a8\"], [0.3333333333333333, \"#9c179e\"], [0.4444444444444444, \"#bd3786\"], [0.5555555555555556, \"#d8576b\"], [0.6666666666666666, \"#ed7953\"], [0.7777777777777778, \"#fb9f3a\"], [0.8888888888888888, \"#fdca26\"], [1.0, \"#f0f921\"]], \"type\": \"surface\"}], \"table\": [{\"cells\": {\"fill\": {\"color\": \"#EBF0F8\"}, \"line\": {\"color\": \"white\"}}, \"header\": {\"fill\": {\"color\": \"#C8D4E3\"}, \"line\": {\"color\": \"white\"}}, \"type\": \"table\"}]}, \"layout\": {\"annotationdefaults\": {\"arrowcolor\": \"#2a3f5f\", \"arrowhead\": 0, \"arrowwidth\": 1}, \"coloraxis\": {\"colorbar\": {\"outlinewidth\": 0, \"ticks\": \"\"}}, \"colorscale\": {\"diverging\": [[0, \"#8e0152\"], [0.1, \"#c51b7d\"], [0.2, \"#de77ae\"], [0.3, \"#f1b6da\"], [0.4, \"#fde0ef\"], [0.5, \"#f7f7f7\"], [0.6, \"#e6f5d0\"], [0.7, \"#b8e186\"], [0.8, \"#7fbc41\"], [0.9, \"#4d9221\"], [1, \"#276419\"]], \"sequential\": [[0.0, \"#0d0887\"], [0.1111111111111111, \"#46039f\"], [0.2222222222222222, \"#7201a8\"], [0.3333333333333333, \"#9c179e\"], [0.4444444444444444, \"#bd3786\"], [0.5555555555555556, \"#d8576b\"], [0.6666666666666666, \"#ed7953\"], [0.7777777777777778, \"#fb9f3a\"], [0.8888888888888888, \"#fdca26\"], [1.0, \"#f0f921\"]], \"sequentialminus\": [[0.0, \"#0d0887\"], [0.1111111111111111, \"#46039f\"], [0.2222222222222222, \"#7201a8\"], [0.3333333333333333, \"#9c179e\"], [0.4444444444444444, \"#bd3786\"], [0.5555555555555556, \"#d8576b\"], [0.6666666666666666, \"#ed7953\"], [0.7777777777777778, \"#fb9f3a\"], [0.8888888888888888, \"#fdca26\"], [1.0, \"#f0f921\"]]}, \"colorway\": [\"#636efa\", \"#EF553B\", \"#00cc96\", \"#ab63fa\", \"#FFA15A\", \"#19d3f3\", \"#FF6692\", \"#B6E880\", \"#FF97FF\", \"#FECB52\"], \"font\": {\"color\": \"#2a3f5f\"}, \"geo\": {\"bgcolor\": \"white\", \"lakecolor\": \"white\", \"landcolor\": \"#E5ECF6\", \"showlakes\": true, \"showland\": true, \"subunitcolor\": \"white\"}, \"hoverlabel\": {\"align\": \"left\"}, \"hovermode\": \"closest\", \"mapbox\": {\"style\": \"light\"}, \"paper_bgcolor\": \"white\", \"plot_bgcolor\": \"#E5ECF6\", \"polar\": {\"angularaxis\": {\"gridcolor\": \"white\", \"linecolor\": \"white\", \"ticks\": \"\"}, \"bgcolor\": \"#E5ECF6\", \"radialaxis\": {\"gridcolor\": \"white\", \"linecolor\": \"white\", \"ticks\": \"\"}}, \"scene\": {\"xaxis\": {\"backgroundcolor\": \"#E5ECF6\", \"gridcolor\": \"white\", \"gridwidth\": 2, \"linecolor\": \"white\", \"showbackground\": true, \"ticks\": \"\", \"zerolinecolor\": \"white\"}, \"yaxis\": {\"backgroundcolor\": \"#E5ECF6\", \"gridcolor\": \"white\", \"gridwidth\": 2, \"linecolor\": \"white\", \"showbackground\": true, \"ticks\": \"\", \"zerolinecolor\": \"white\"}, \"zaxis\": {\"backgroundcolor\": \"#E5ECF6\", \"gridcolor\": \"white\", \"gridwidth\": 2, \"linecolor\": \"white\", \"showbackground\": true, \"ticks\": \"\", \"zerolinecolor\": \"white\"}}, \"shapedefaults\": {\"line\": {\"color\": \"#2a3f5f\"}}, \"ternary\": {\"aaxis\": {\"gridcolor\": \"white\", \"linecolor\": \"white\", \"ticks\": \"\"}, \"baxis\": {\"gridcolor\": \"white\", \"linecolor\": \"white\", \"ticks\": \"\"}, \"bgcolor\": \"#E5ECF6\", \"caxis\": {\"gridcolor\": \"white\", \"linecolor\": \"white\", \"ticks\": \"\"}}, \"title\": {\"x\": 0.05}, \"xaxis\": {\"automargin\": true, \"gridcolor\": \"white\", \"linecolor\": \"white\", \"ticks\": \"\", \"title\": {\"standoff\": 15}, \"zerolinecolor\": \"white\", \"zerolinewidth\": 2}, \"yaxis\": {\"automargin\": true, \"gridcolor\": \"white\", \"linecolor\": \"white\", \"ticks\": \"\", \"title\": {\"standoff\": 15}, \"zerolinecolor\": \"white\", \"zerolinewidth\": 2}}}, \"title\": {\"text\": \"\\u0e08\\u0e33\\u0e19\\u0e27\\u0e19\\u0e1c\\u0e39\\u0e49\\u0e40\\u0e2a\\u0e35\\u0e22\\u0e0a\\u0e35\\u0e27\\u0e34\\u0e15\\u0e43\\u0e19\\u0e41\\u0e15\\u0e48\\u0e25\\u0e30\\u0e1b\\u0e23\\u0e30\\u0e40\\u0e17\\u0e28\"}},                        {\"responsive\": true}                    ).then(function(){\n",
       "                            \n",
       "var gd = document.getElementById('d656272d-49a7-4acf-9b50-622b09afa3a7');\n",
       "var x = new MutationObserver(function (mutations, observer) {{\n",
       "        var display = window.getComputedStyle(gd).display;\n",
       "        if (!display || display === 'none') {{\n",
       "            console.log([gd, 'removed!']);\n",
       "            Plotly.purge(gd);\n",
       "            observer.disconnect();\n",
       "        }}\n",
       "}});\n",
       "\n",
       "// Listen for the removal of the full notebook cells\n",
       "var notebookContainer = gd.closest('#notebook-container');\n",
       "if (notebookContainer) {{\n",
       "    x.observe(notebookContainer, {childList: true});\n",
       "}}\n",
       "\n",
       "// Listen for the clearing of the current output cell\n",
       "var outputEl = gd.closest('.output');\n",
       "if (outputEl) {{\n",
       "    x.observe(outputEl, {childList: true});\n",
       "}}\n",
       "\n",
       "                        })                };                });            </script>        </div>"
      ]
     },
     "metadata": {},
     "output_type": "display_data"
    }
   ],
   "source": [
    "#จำนวนผู้เสียชีวิตในแต่ละประเทศ พบว่าประเทศไทยอยู่อันดับที่ 59 และ ประเทศที่มีอันดับผู้เสียชีวิตมากที่สุดคือ US และ India\n",
    "headerColor = 'grey'\n",
    "rowEvenColor = 'lightgrey'\n",
    "rowOddColor = 'white'\n",
    "\n",
    "fig = go.Figure(data=[go.Table(\n",
    "  header=dict(\n",
    "    values=['ประเทศ','จำนวนผู้เสียชีวิต'],\n",
    "    line_color='white',\n",
    "    fill_color='#2d4059',\n",
    "    align=['center','center'],\n",
    "      \n",
    "    font=dict(color='white', size=16)\n",
    "  ),\n",
    "  cells=dict(\n",
    "    values=[\n",
    "      Data_country['country'],\n",
    "      Data_country['deaths'],\n",
    "      ],\n",
    "    line_color='white',\n",
    "    fill_color='#decdc3',\n",
    "    align = ['center', 'center'],\n",
    "    font = dict(color = 'darkslategray', size = 12)\n",
    "    ))\n",
    "])\n",
    "fig.update_layout(\n",
    "    title='จำนวนผู้เสียชีวิตในแต่ละประเทศ',\n",
    ")\n",
    "fig.show()"
   ]
  },
  {
   "cell_type": "code",
   "execution_count": 20,
   "metadata": {
    "colab": {
     "base_uri": "https://localhost:8080/",
     "height": 542
    },
    "id": "IInovNdkYc14",
    "outputId": "686b5ee9-c6dd-4591-8d58-4338d11cc117"
   },
   "outputs": [
    {
     "data": {
      "application/vnd.plotly.v1+json": {
       "config": {
        "plotlyServerURL": "https://plot.ly"
       },
       "data": [
        {
         "orientation": "h",
         "type": "bar",
         "x": [
          7233042,
          4810935,
          6312584,
          743216,
          455846,
          314861,
          811768,
          604031,
          769188,
          457219,
          829679,
          1170799,
          751001,
          674339,
          462991,
          137047,
          287008,
          118452,
          292913,
          161107,
          362981,
          318663,
          135311,
          312806,
          125988,
          103198,
          92863,
          311694,
          363479,
          127572,
          334605,
          90545,
          214446,
          91746,
          91514,
          112595,
          76900,
          123653,
          112209,
          53282,
          75542,
          36155,
          51530,
          107979,
          83591,
          245494,
          39268,
          53042,
          75368,
          58848,
          46669,
          50359,
          98585,
          75760,
          27096,
          40758,
          27469,
          29077,
          13640,
          78631,
          20833,
          44813,
          26461,
          33551,
          17977,
          38529,
          68919,
          28479,
          75122,
          105182,
          40229,
          2034,
          34525,
          77817,
          12683,
          56717,
          94190,
          20838,
          23889,
          18475,
          13649,
          39634,
          9992,
          14759,
          14982,
          39899,
          13373,
          46626,
          16593,
          14027,
          10659,
          18413,
          70864,
          16408,
          8766,
          7838,
          125760,
          4200,
          4972,
          5773,
          10772,
          7502,
          5170,
          5690,
          11224,
          3118,
          8509,
          5597,
          11265,
          19724,
          3579,
          5482,
          6482,
          4877,
          3588,
          4123,
          4693,
          5089,
          1200,
          5030,
          1343,
          2894,
          9769,
          4531,
          8129,
          2231,
          1197,
          10652,
          3371,
          4829,
          8728,
          11825,
          5416,
          6024,
          3569,
          2056,
          8766,
          2050,
          2704,
          10141,
          2046,
          1784,
          732,
          2357,
          2324,
          6192,
          1824,
          1595,
          1094,
          3058,
          10291,
          4840,
          1992,
          57765,
          1848,
          1755,
          509,
          3172,
          911,
          712,
          3380,
          381,
          2728,
          534,
          514,
          190,
          479,
          101,
          146,
          9,
          32,
          218,
          10,
          118,
          508,
          12,
          24,
          313,
          64,
          27,
          19,
          28,
          282,
          144,
          277,
          375,
          23,
          30
         ],
         "y": [
          "US",
          "Brazil",
          "India",
          "Mexico",
          "United Kingdom",
          "Italy",
          "Peru",
          "France",
          "Spain",
          "Iran",
          "Colombia",
          "Russia",
          "Argentina",
          "South Africa",
          "Chile",
          "Ecuador",
          "Indonesia",
          "Belgium",
          "Germany",
          "Canada",
          "Iraq",
          "Turkey",
          "Bolivia",
          "Pakistan",
          "Netherlands",
          "Egypt",
          "Sweden",
          "Philippines",
          "Bangladesh",
          "Romania",
          "Saudi Arabia",
          "China",
          "Ukraine",
          "Guatemala",
          "Poland",
          "Panama",
          "Honduras",
          "Morocco",
          "Dominican Republic",
          "Switzerland",
          "Portugal",
          "Ireland",
          "Algeria",
          "Kazakhstan",
          "Japan",
          "Israel",
          "Afghanistan",
          "Moldova",
          "Ethiopia",
          "Nigeria",
          "Kyrgyzstan",
          "Armenia",
          "Oman",
          "Costa Rica",
          "Australia",
          "Paraguay",
          "Bosnia and Herzegovina",
          "El Salvador",
          "Sudan",
          "Belarus",
          "Bulgaria",
          "Austria",
          "Hungary",
          "Serbia",
          "North Macedonia",
          "Kenya",
          "Czechia",
          "Denmark",
          "Venezuela",
          "Kuwait",
          "Azerbaijan",
          "Yemen",
          "Libya",
          "Nepal",
          "Kosovo",
          "Uzbekistan",
          "United Arab Emirates",
          "Cameroon",
          "Korea, South",
          "Greece",
          "Albania",
          "Lebanon",
          "Finland",
          "Zambia",
          "Senegal",
          "West Bank and Gaza",
          "Burma",
          "Ghana",
          "Croatia",
          "Norway",
          "Congo (Kinshasa)",
          "Tunisia",
          "Bahrain",
          "Madagascar",
          "Haiti",
          "Zimbabwe",
          "Qatar",
          "Syria",
          "Angola",
          "Malawi",
          "Montenegro",
          "Mauritania",
          "Nicaragua",
          "Slovenia",
          "Malaysia",
          "Mali",
          "Luxembourg",
          "Cuba",
          "Namibia",
          "Cote d'Ivoire",
          "Gambia",
          "Eswatini",
          "Jamaica",
          "Suriname",
          "Somalia",
          "Bahamas",
          "Lithuania",
          "Congo (Brazzaville)",
          "Chad",
          "Equatorial Guinea",
          "Liberia",
          "Guyana",
          "Tajikistan",
          "Trinidad and Tobago",
          "Uganda",
          "Sierra Leone",
          "Niger",
          "Guinea",
          "Estonia",
          "Central African Republic",
          "Mozambique",
          "Jordan",
          "Djibouti",
          "Cabo Verde",
          "Thailand",
          "Burkina Faso",
          "Gabon",
          "Andorra",
          "South Sudan",
          "Slovakia",
          "Uruguay",
          "Togo",
          "San Marino",
          "Benin",
          "Guinea-Bissau",
          "Georgia",
          "Latvia",
          "Lesotho",
          "Vietnam",
          "Malta",
          "Maldives",
          "Rwanda",
          "Belize",
          "Singapore",
          "New Zealand",
          "Cyprus",
          "Tanzania",
          "Botswana",
          "Sao Tome and Principe",
          "Diamond Princess",
          "Sri Lanka",
          "Mauritius",
          "Iceland",
          "Papua New Guinea",
          "Taiwan*",
          "Barbados",
          "Comoros",
          "Antigua and Barbuda",
          "Brunei",
          "MS Zaandam",
          "Fiji",
          "Monaco",
          "Western Sahara",
          "Liechtenstein",
          "Burundi",
          "Holy See",
          "Grenada",
          "Mongolia",
          "Saint Vincent and the Grenadines",
          "Saint Lucia",
          "Saint Kitts and Nevis",
          "Timor-Leste",
          "Bhutan",
          "Seychelles",
          "Cambodia",
          "Eritrea",
          "Laos",
          "Dominica"
         ]
        }
       ],
       "layout": {
        "template": {
         "data": {
          "bar": [
           {
            "error_x": {
             "color": "#2a3f5f"
            },
            "error_y": {
             "color": "#2a3f5f"
            },
            "marker": {
             "line": {
              "color": "white",
              "width": 0.5
             }
            },
            "type": "bar"
           }
          ],
          "barpolar": [
           {
            "marker": {
             "line": {
              "color": "white",
              "width": 0.5
             }
            },
            "type": "barpolar"
           }
          ],
          "carpet": [
           {
            "aaxis": {
             "endlinecolor": "#2a3f5f",
             "gridcolor": "#C8D4E3",
             "linecolor": "#C8D4E3",
             "minorgridcolor": "#C8D4E3",
             "startlinecolor": "#2a3f5f"
            },
            "baxis": {
             "endlinecolor": "#2a3f5f",
             "gridcolor": "#C8D4E3",
             "linecolor": "#C8D4E3",
             "minorgridcolor": "#C8D4E3",
             "startlinecolor": "#2a3f5f"
            },
            "type": "carpet"
           }
          ],
          "choropleth": [
           {
            "colorbar": {
             "outlinewidth": 0,
             "ticks": ""
            },
            "type": "choropleth"
           }
          ],
          "contour": [
           {
            "colorbar": {
             "outlinewidth": 0,
             "ticks": ""
            },
            "colorscale": [
             [
              0,
              "#0d0887"
             ],
             [
              0.1111111111111111,
              "#46039f"
             ],
             [
              0.2222222222222222,
              "#7201a8"
             ],
             [
              0.3333333333333333,
              "#9c179e"
             ],
             [
              0.4444444444444444,
              "#bd3786"
             ],
             [
              0.5555555555555556,
              "#d8576b"
             ],
             [
              0.6666666666666666,
              "#ed7953"
             ],
             [
              0.7777777777777778,
              "#fb9f3a"
             ],
             [
              0.8888888888888888,
              "#fdca26"
             ],
             [
              1,
              "#f0f921"
             ]
            ],
            "type": "contour"
           }
          ],
          "contourcarpet": [
           {
            "colorbar": {
             "outlinewidth": 0,
             "ticks": ""
            },
            "type": "contourcarpet"
           }
          ],
          "heatmap": [
           {
            "colorbar": {
             "outlinewidth": 0,
             "ticks": ""
            },
            "colorscale": [
             [
              0,
              "#0d0887"
             ],
             [
              0.1111111111111111,
              "#46039f"
             ],
             [
              0.2222222222222222,
              "#7201a8"
             ],
             [
              0.3333333333333333,
              "#9c179e"
             ],
             [
              0.4444444444444444,
              "#bd3786"
             ],
             [
              0.5555555555555556,
              "#d8576b"
             ],
             [
              0.6666666666666666,
              "#ed7953"
             ],
             [
              0.7777777777777778,
              "#fb9f3a"
             ],
             [
              0.8888888888888888,
              "#fdca26"
             ],
             [
              1,
              "#f0f921"
             ]
            ],
            "type": "heatmap"
           }
          ],
          "heatmapgl": [
           {
            "colorbar": {
             "outlinewidth": 0,
             "ticks": ""
            },
            "colorscale": [
             [
              0,
              "#0d0887"
             ],
             [
              0.1111111111111111,
              "#46039f"
             ],
             [
              0.2222222222222222,
              "#7201a8"
             ],
             [
              0.3333333333333333,
              "#9c179e"
             ],
             [
              0.4444444444444444,
              "#bd3786"
             ],
             [
              0.5555555555555556,
              "#d8576b"
             ],
             [
              0.6666666666666666,
              "#ed7953"
             ],
             [
              0.7777777777777778,
              "#fb9f3a"
             ],
             [
              0.8888888888888888,
              "#fdca26"
             ],
             [
              1,
              "#f0f921"
             ]
            ],
            "type": "heatmapgl"
           }
          ],
          "histogram": [
           {
            "marker": {
             "colorbar": {
              "outlinewidth": 0,
              "ticks": ""
             }
            },
            "type": "histogram"
           }
          ],
          "histogram2d": [
           {
            "colorbar": {
             "outlinewidth": 0,
             "ticks": ""
            },
            "colorscale": [
             [
              0,
              "#0d0887"
             ],
             [
              0.1111111111111111,
              "#46039f"
             ],
             [
              0.2222222222222222,
              "#7201a8"
             ],
             [
              0.3333333333333333,
              "#9c179e"
             ],
             [
              0.4444444444444444,
              "#bd3786"
             ],
             [
              0.5555555555555556,
              "#d8576b"
             ],
             [
              0.6666666666666666,
              "#ed7953"
             ],
             [
              0.7777777777777778,
              "#fb9f3a"
             ],
             [
              0.8888888888888888,
              "#fdca26"
             ],
             [
              1,
              "#f0f921"
             ]
            ],
            "type": "histogram2d"
           }
          ],
          "histogram2dcontour": [
           {
            "colorbar": {
             "outlinewidth": 0,
             "ticks": ""
            },
            "colorscale": [
             [
              0,
              "#0d0887"
             ],
             [
              0.1111111111111111,
              "#46039f"
             ],
             [
              0.2222222222222222,
              "#7201a8"
             ],
             [
              0.3333333333333333,
              "#9c179e"
             ],
             [
              0.4444444444444444,
              "#bd3786"
             ],
             [
              0.5555555555555556,
              "#d8576b"
             ],
             [
              0.6666666666666666,
              "#ed7953"
             ],
             [
              0.7777777777777778,
              "#fb9f3a"
             ],
             [
              0.8888888888888888,
              "#fdca26"
             ],
             [
              1,
              "#f0f921"
             ]
            ],
            "type": "histogram2dcontour"
           }
          ],
          "mesh3d": [
           {
            "colorbar": {
             "outlinewidth": 0,
             "ticks": ""
            },
            "type": "mesh3d"
           }
          ],
          "parcoords": [
           {
            "line": {
             "colorbar": {
              "outlinewidth": 0,
              "ticks": ""
             }
            },
            "type": "parcoords"
           }
          ],
          "pie": [
           {
            "automargin": true,
            "type": "pie"
           }
          ],
          "scatter": [
           {
            "marker": {
             "colorbar": {
              "outlinewidth": 0,
              "ticks": ""
             }
            },
            "type": "scatter"
           }
          ],
          "scatter3d": [
           {
            "line": {
             "colorbar": {
              "outlinewidth": 0,
              "ticks": ""
             }
            },
            "marker": {
             "colorbar": {
              "outlinewidth": 0,
              "ticks": ""
             }
            },
            "type": "scatter3d"
           }
          ],
          "scattercarpet": [
           {
            "marker": {
             "colorbar": {
              "outlinewidth": 0,
              "ticks": ""
             }
            },
            "type": "scattercarpet"
           }
          ],
          "scattergeo": [
           {
            "marker": {
             "colorbar": {
              "outlinewidth": 0,
              "ticks": ""
             }
            },
            "type": "scattergeo"
           }
          ],
          "scattergl": [
           {
            "marker": {
             "colorbar": {
              "outlinewidth": 0,
              "ticks": ""
             }
            },
            "type": "scattergl"
           }
          ],
          "scattermapbox": [
           {
            "marker": {
             "colorbar": {
              "outlinewidth": 0,
              "ticks": ""
             }
            },
            "type": "scattermapbox"
           }
          ],
          "scatterpolar": [
           {
            "marker": {
             "colorbar": {
              "outlinewidth": 0,
              "ticks": ""
             }
            },
            "type": "scatterpolar"
           }
          ],
          "scatterpolargl": [
           {
            "marker": {
             "colorbar": {
              "outlinewidth": 0,
              "ticks": ""
             }
            },
            "type": "scatterpolargl"
           }
          ],
          "scatterternary": [
           {
            "marker": {
             "colorbar": {
              "outlinewidth": 0,
              "ticks": ""
             }
            },
            "type": "scatterternary"
           }
          ],
          "surface": [
           {
            "colorbar": {
             "outlinewidth": 0,
             "ticks": ""
            },
            "colorscale": [
             [
              0,
              "#0d0887"
             ],
             [
              0.1111111111111111,
              "#46039f"
             ],
             [
              0.2222222222222222,
              "#7201a8"
             ],
             [
              0.3333333333333333,
              "#9c179e"
             ],
             [
              0.4444444444444444,
              "#bd3786"
             ],
             [
              0.5555555555555556,
              "#d8576b"
             ],
             [
              0.6666666666666666,
              "#ed7953"
             ],
             [
              0.7777777777777778,
              "#fb9f3a"
             ],
             [
              0.8888888888888888,
              "#fdca26"
             ],
             [
              1,
              "#f0f921"
             ]
            ],
            "type": "surface"
           }
          ],
          "table": [
           {
            "cells": {
             "fill": {
              "color": "#EBF0F8"
             },
             "line": {
              "color": "white"
             }
            },
            "header": {
             "fill": {
              "color": "#C8D4E3"
             },
             "line": {
              "color": "white"
             }
            },
            "type": "table"
           }
          ]
         },
         "layout": {
          "annotationdefaults": {
           "arrowcolor": "#2a3f5f",
           "arrowhead": 0,
           "arrowwidth": 1
          },
          "coloraxis": {
           "colorbar": {
            "outlinewidth": 0,
            "ticks": ""
           }
          },
          "colorscale": {
           "diverging": [
            [
             0,
             "#8e0152"
            ],
            [
             0.1,
             "#c51b7d"
            ],
            [
             0.2,
             "#de77ae"
            ],
            [
             0.3,
             "#f1b6da"
            ],
            [
             0.4,
             "#fde0ef"
            ],
            [
             0.5,
             "#f7f7f7"
            ],
            [
             0.6,
             "#e6f5d0"
            ],
            [
             0.7,
             "#b8e186"
            ],
            [
             0.8,
             "#7fbc41"
            ],
            [
             0.9,
             "#4d9221"
            ],
            [
             1,
             "#276419"
            ]
           ],
           "sequential": [
            [
             0,
             "#0d0887"
            ],
            [
             0.1111111111111111,
             "#46039f"
            ],
            [
             0.2222222222222222,
             "#7201a8"
            ],
            [
             0.3333333333333333,
             "#9c179e"
            ],
            [
             0.4444444444444444,
             "#bd3786"
            ],
            [
             0.5555555555555556,
             "#d8576b"
            ],
            [
             0.6666666666666666,
             "#ed7953"
            ],
            [
             0.7777777777777778,
             "#fb9f3a"
            ],
            [
             0.8888888888888888,
             "#fdca26"
            ],
            [
             1,
             "#f0f921"
            ]
           ],
           "sequentialminus": [
            [
             0,
             "#0d0887"
            ],
            [
             0.1111111111111111,
             "#46039f"
            ],
            [
             0.2222222222222222,
             "#7201a8"
            ],
            [
             0.3333333333333333,
             "#9c179e"
            ],
            [
             0.4444444444444444,
             "#bd3786"
            ],
            [
             0.5555555555555556,
             "#d8576b"
            ],
            [
             0.6666666666666666,
             "#ed7953"
            ],
            [
             0.7777777777777778,
             "#fb9f3a"
            ],
            [
             0.8888888888888888,
             "#fdca26"
            ],
            [
             1,
             "#f0f921"
            ]
           ]
          },
          "colorway": [
           "#636efa",
           "#EF553B",
           "#00cc96",
           "#ab63fa",
           "#FFA15A",
           "#19d3f3",
           "#FF6692",
           "#B6E880",
           "#FF97FF",
           "#FECB52"
          ],
          "font": {
           "color": "#2a3f5f"
          },
          "geo": {
           "bgcolor": "white",
           "lakecolor": "white",
           "landcolor": "white",
           "showlakes": true,
           "showland": true,
           "subunitcolor": "#C8D4E3"
          },
          "hoverlabel": {
           "align": "left"
          },
          "hovermode": "closest",
          "mapbox": {
           "style": "light"
          },
          "paper_bgcolor": "white",
          "plot_bgcolor": "white",
          "polar": {
           "angularaxis": {
            "gridcolor": "#EBF0F8",
            "linecolor": "#EBF0F8",
            "ticks": ""
           },
           "bgcolor": "white",
           "radialaxis": {
            "gridcolor": "#EBF0F8",
            "linecolor": "#EBF0F8",
            "ticks": ""
           }
          },
          "scene": {
           "xaxis": {
            "backgroundcolor": "white",
            "gridcolor": "#DFE8F3",
            "gridwidth": 2,
            "linecolor": "#EBF0F8",
            "showbackground": true,
            "ticks": "",
            "zerolinecolor": "#EBF0F8"
           },
           "yaxis": {
            "backgroundcolor": "white",
            "gridcolor": "#DFE8F3",
            "gridwidth": 2,
            "linecolor": "#EBF0F8",
            "showbackground": true,
            "ticks": "",
            "zerolinecolor": "#EBF0F8"
           },
           "zaxis": {
            "backgroundcolor": "white",
            "gridcolor": "#DFE8F3",
            "gridwidth": 2,
            "linecolor": "#EBF0F8",
            "showbackground": true,
            "ticks": "",
            "zerolinecolor": "#EBF0F8"
           }
          },
          "shapedefaults": {
           "line": {
            "color": "#2a3f5f"
           }
          },
          "ternary": {
           "aaxis": {
            "gridcolor": "#DFE8F3",
            "linecolor": "#A2B1C6",
            "ticks": ""
           },
           "baxis": {
            "gridcolor": "#DFE8F3",
            "linecolor": "#A2B1C6",
            "ticks": ""
           },
           "bgcolor": "white",
           "caxis": {
            "gridcolor": "#DFE8F3",
            "linecolor": "#A2B1C6",
            "ticks": ""
           }
          },
          "title": {
           "x": 0.05
          },
          "xaxis": {
           "automargin": true,
           "gridcolor": "#EBF0F8",
           "linecolor": "#EBF0F8",
           "ticks": "",
           "title": {
            "standoff": 15
           },
           "zerolinecolor": "#EBF0F8",
           "zerolinewidth": 2
          },
          "yaxis": {
           "automargin": true,
           "gridcolor": "#EBF0F8",
           "linecolor": "#EBF0F8",
           "ticks": "",
           "title": {
            "standoff": 15
           },
           "zerolinecolor": "#EBF0F8",
           "zerolinewidth": 2
          }
         }
        },
        "title": {
         "text": "จำนวนผู้ติดเชื้อ covid-19 ในแต่ละประเทศ"
        },
        "xaxis": {
         "title": {
          "text": "Confirmed Cases"
         }
        },
        "yaxis": {
         "title": {
          "text": "Countries"
         }
        }
       }
      },
      "text/html": [
       "<div>                            <div id=\"92ef1d49-5758-46b8-ab21-5e70154ff562\" class=\"plotly-graph-div\" style=\"height:525px; width:100%;\"></div>            <script type=\"text/javascript\">                require([\"plotly\"], function(Plotly) {                    window.PLOTLYENV=window.PLOTLYENV || {};                                    if (document.getElementById(\"92ef1d49-5758-46b8-ab21-5e70154ff562\")) {                    Plotly.newPlot(                        \"92ef1d49-5758-46b8-ab21-5e70154ff562\",                        [{\"orientation\": \"h\", \"type\": \"bar\", \"x\": [7233042, 4810935, 6312584, 743216, 455846, 314861, 811768, 604031, 769188, 457219, 829679, 1170799, 751001, 674339, 462991, 137047, 287008, 118452, 292913, 161107, 362981, 318663, 135311, 312806, 125988, 103198, 92863, 311694, 363479, 127572, 334605, 90545, 214446, 91746, 91514, 112595, 76900, 123653, 112209, 53282, 75542, 36155, 51530, 107979, 83591, 245494, 39268, 53042, 75368, 58848, 46669, 50359, 98585, 75760, 27096, 40758, 27469, 29077, 13640, 78631, 20833, 44813, 26461, 33551, 17977, 38529, 68919, 28479, 75122, 105182, 40229, 2034, 34525, 77817, 12683, 56717, 94190, 20838, 23889, 18475, 13649, 39634, 9992, 14759, 14982, 39899, 13373, 46626, 16593, 14027, 10659, 18413, 70864, 16408, 8766, 7838, 125760, 4200, 4972, 5773, 10772, 7502, 5170, 5690, 11224, 3118, 8509, 5597, 11265, 19724, 3579, 5482, 6482, 4877, 3588, 4123, 4693, 5089, 1200, 5030, 1343, 2894, 9769, 4531, 8129, 2231, 1197, 10652, 3371, 4829, 8728, 11825, 5416, 6024, 3569, 2056, 8766, 2050, 2704, 10141, 2046, 1784, 732, 2357, 2324, 6192, 1824, 1595, 1094, 3058, 10291, 4840, 1992, 57765, 1848, 1755, 509, 3172, 911, 712, 3380, 381, 2728, 534, 514, 190, 479, 101, 146, 9, 32, 218, 10, 118, 508, 12, 24, 313, 64, 27, 19, 28, 282, 144, 277, 375, 23, 30], \"y\": [\"US\", \"Brazil\", \"India\", \"Mexico\", \"United Kingdom\", \"Italy\", \"Peru\", \"France\", \"Spain\", \"Iran\", \"Colombia\", \"Russia\", \"Argentina\", \"South Africa\", \"Chile\", \"Ecuador\", \"Indonesia\", \"Belgium\", \"Germany\", \"Canada\", \"Iraq\", \"Turkey\", \"Bolivia\", \"Pakistan\", \"Netherlands\", \"Egypt\", \"Sweden\", \"Philippines\", \"Bangladesh\", \"Romania\", \"Saudi Arabia\", \"China\", \"Ukraine\", \"Guatemala\", \"Poland\", \"Panama\", \"Honduras\", \"Morocco\", \"Dominican Republic\", \"Switzerland\", \"Portugal\", \"Ireland\", \"Algeria\", \"Kazakhstan\", \"Japan\", \"Israel\", \"Afghanistan\", \"Moldova\", \"Ethiopia\", \"Nigeria\", \"Kyrgyzstan\", \"Armenia\", \"Oman\", \"Costa Rica\", \"Australia\", \"Paraguay\", \"Bosnia and Herzegovina\", \"El Salvador\", \"Sudan\", \"Belarus\", \"Bulgaria\", \"Austria\", \"Hungary\", \"Serbia\", \"North Macedonia\", \"Kenya\", \"Czechia\", \"Denmark\", \"Venezuela\", \"Kuwait\", \"Azerbaijan\", \"Yemen\", \"Libya\", \"Nepal\", \"Kosovo\", \"Uzbekistan\", \"United Arab Emirates\", \"Cameroon\", \"Korea, South\", \"Greece\", \"Albania\", \"Lebanon\", \"Finland\", \"Zambia\", \"Senegal\", \"West Bank and Gaza\", \"Burma\", \"Ghana\", \"Croatia\", \"Norway\", \"Congo (Kinshasa)\", \"Tunisia\", \"Bahrain\", \"Madagascar\", \"Haiti\", \"Zimbabwe\", \"Qatar\", \"Syria\", \"Angola\", \"Malawi\", \"Montenegro\", \"Mauritania\", \"Nicaragua\", \"Slovenia\", \"Malaysia\", \"Mali\", \"Luxembourg\", \"Cuba\", \"Namibia\", \"Cote d'Ivoire\", \"Gambia\", \"Eswatini\", \"Jamaica\", \"Suriname\", \"Somalia\", \"Bahamas\", \"Lithuania\", \"Congo (Brazzaville)\", \"Chad\", \"Equatorial Guinea\", \"Liberia\", \"Guyana\", \"Tajikistan\", \"Trinidad and Tobago\", \"Uganda\", \"Sierra Leone\", \"Niger\", \"Guinea\", \"Estonia\", \"Central African Republic\", \"Mozambique\", \"Jordan\", \"Djibouti\", \"Cabo Verde\", \"Thailand\", \"Burkina Faso\", \"Gabon\", \"Andorra\", \"South Sudan\", \"Slovakia\", \"Uruguay\", \"Togo\", \"San Marino\", \"Benin\", \"Guinea-Bissau\", \"Georgia\", \"Latvia\", \"Lesotho\", \"Vietnam\", \"Malta\", \"Maldives\", \"Rwanda\", \"Belize\", \"Singapore\", \"New Zealand\", \"Cyprus\", \"Tanzania\", \"Botswana\", \"Sao Tome and Principe\", \"Diamond Princess\", \"Sri Lanka\", \"Mauritius\", \"Iceland\", \"Papua New Guinea\", \"Taiwan*\", \"Barbados\", \"Comoros\", \"Antigua and Barbuda\", \"Brunei\", \"MS Zaandam\", \"Fiji\", \"Monaco\", \"Western Sahara\", \"Liechtenstein\", \"Burundi\", \"Holy See\", \"Grenada\", \"Mongolia\", \"Saint Vincent and the Grenadines\", \"Saint Lucia\", \"Saint Kitts and Nevis\", \"Timor-Leste\", \"Bhutan\", \"Seychelles\", \"Cambodia\", \"Eritrea\", \"Laos\", \"Dominica\"]}],                        {\"template\": {\"data\": {\"bar\": [{\"error_x\": {\"color\": \"#2a3f5f\"}, \"error_y\": {\"color\": \"#2a3f5f\"}, \"marker\": {\"line\": {\"color\": \"white\", \"width\": 0.5}}, \"type\": \"bar\"}], \"barpolar\": [{\"marker\": {\"line\": {\"color\": \"white\", \"width\": 0.5}}, \"type\": \"barpolar\"}], \"carpet\": [{\"aaxis\": {\"endlinecolor\": \"#2a3f5f\", \"gridcolor\": \"#C8D4E3\", \"linecolor\": \"#C8D4E3\", \"minorgridcolor\": \"#C8D4E3\", \"startlinecolor\": \"#2a3f5f\"}, \"baxis\": {\"endlinecolor\": \"#2a3f5f\", \"gridcolor\": \"#C8D4E3\", \"linecolor\": \"#C8D4E3\", \"minorgridcolor\": \"#C8D4E3\", \"startlinecolor\": \"#2a3f5f\"}, \"type\": \"carpet\"}], \"choropleth\": [{\"colorbar\": {\"outlinewidth\": 0, \"ticks\": \"\"}, \"type\": \"choropleth\"}], \"contour\": [{\"colorbar\": {\"outlinewidth\": 0, \"ticks\": \"\"}, \"colorscale\": [[0.0, \"#0d0887\"], [0.1111111111111111, \"#46039f\"], [0.2222222222222222, \"#7201a8\"], [0.3333333333333333, \"#9c179e\"], [0.4444444444444444, \"#bd3786\"], [0.5555555555555556, \"#d8576b\"], [0.6666666666666666, \"#ed7953\"], [0.7777777777777778, \"#fb9f3a\"], [0.8888888888888888, \"#fdca26\"], [1.0, \"#f0f921\"]], \"type\": \"contour\"}], \"contourcarpet\": [{\"colorbar\": {\"outlinewidth\": 0, \"ticks\": \"\"}, \"type\": \"contourcarpet\"}], \"heatmap\": [{\"colorbar\": {\"outlinewidth\": 0, \"ticks\": \"\"}, \"colorscale\": [[0.0, \"#0d0887\"], [0.1111111111111111, \"#46039f\"], [0.2222222222222222, \"#7201a8\"], [0.3333333333333333, \"#9c179e\"], [0.4444444444444444, \"#bd3786\"], [0.5555555555555556, \"#d8576b\"], [0.6666666666666666, \"#ed7953\"], [0.7777777777777778, \"#fb9f3a\"], [0.8888888888888888, \"#fdca26\"], [1.0, \"#f0f921\"]], \"type\": \"heatmap\"}], \"heatmapgl\": [{\"colorbar\": {\"outlinewidth\": 0, \"ticks\": \"\"}, \"colorscale\": [[0.0, \"#0d0887\"], [0.1111111111111111, \"#46039f\"], [0.2222222222222222, \"#7201a8\"], [0.3333333333333333, \"#9c179e\"], [0.4444444444444444, \"#bd3786\"], [0.5555555555555556, \"#d8576b\"], [0.6666666666666666, \"#ed7953\"], [0.7777777777777778, \"#fb9f3a\"], [0.8888888888888888, \"#fdca26\"], [1.0, \"#f0f921\"]], \"type\": \"heatmapgl\"}], \"histogram\": [{\"marker\": {\"colorbar\": {\"outlinewidth\": 0, \"ticks\": \"\"}}, \"type\": \"histogram\"}], \"histogram2d\": [{\"colorbar\": {\"outlinewidth\": 0, \"ticks\": \"\"}, \"colorscale\": [[0.0, \"#0d0887\"], [0.1111111111111111, \"#46039f\"], [0.2222222222222222, \"#7201a8\"], [0.3333333333333333, \"#9c179e\"], [0.4444444444444444, \"#bd3786\"], [0.5555555555555556, \"#d8576b\"], [0.6666666666666666, \"#ed7953\"], [0.7777777777777778, \"#fb9f3a\"], [0.8888888888888888, \"#fdca26\"], [1.0, \"#f0f921\"]], \"type\": \"histogram2d\"}], \"histogram2dcontour\": [{\"colorbar\": {\"outlinewidth\": 0, \"ticks\": \"\"}, \"colorscale\": [[0.0, \"#0d0887\"], [0.1111111111111111, \"#46039f\"], [0.2222222222222222, \"#7201a8\"], [0.3333333333333333, \"#9c179e\"], [0.4444444444444444, \"#bd3786\"], [0.5555555555555556, \"#d8576b\"], [0.6666666666666666, \"#ed7953\"], [0.7777777777777778, \"#fb9f3a\"], [0.8888888888888888, \"#fdca26\"], [1.0, \"#f0f921\"]], \"type\": \"histogram2dcontour\"}], \"mesh3d\": [{\"colorbar\": {\"outlinewidth\": 0, \"ticks\": \"\"}, \"type\": \"mesh3d\"}], \"parcoords\": [{\"line\": {\"colorbar\": {\"outlinewidth\": 0, \"ticks\": \"\"}}, \"type\": \"parcoords\"}], \"pie\": [{\"automargin\": true, \"type\": \"pie\"}], \"scatter\": [{\"marker\": {\"colorbar\": {\"outlinewidth\": 0, \"ticks\": \"\"}}, \"type\": \"scatter\"}], \"scatter3d\": [{\"line\": {\"colorbar\": {\"outlinewidth\": 0, \"ticks\": \"\"}}, \"marker\": {\"colorbar\": {\"outlinewidth\": 0, \"ticks\": \"\"}}, \"type\": \"scatter3d\"}], \"scattercarpet\": [{\"marker\": {\"colorbar\": {\"outlinewidth\": 0, \"ticks\": \"\"}}, \"type\": \"scattercarpet\"}], \"scattergeo\": [{\"marker\": {\"colorbar\": {\"outlinewidth\": 0, \"ticks\": \"\"}}, \"type\": \"scattergeo\"}], \"scattergl\": [{\"marker\": {\"colorbar\": {\"outlinewidth\": 0, \"ticks\": \"\"}}, \"type\": \"scattergl\"}], \"scattermapbox\": [{\"marker\": {\"colorbar\": {\"outlinewidth\": 0, \"ticks\": \"\"}}, \"type\": \"scattermapbox\"}], \"scatterpolar\": [{\"marker\": {\"colorbar\": {\"outlinewidth\": 0, \"ticks\": \"\"}}, \"type\": \"scatterpolar\"}], \"scatterpolargl\": [{\"marker\": {\"colorbar\": {\"outlinewidth\": 0, \"ticks\": \"\"}}, \"type\": \"scatterpolargl\"}], \"scatterternary\": [{\"marker\": {\"colorbar\": {\"outlinewidth\": 0, \"ticks\": \"\"}}, \"type\": \"scatterternary\"}], \"surface\": [{\"colorbar\": {\"outlinewidth\": 0, \"ticks\": \"\"}, \"colorscale\": [[0.0, \"#0d0887\"], [0.1111111111111111, \"#46039f\"], [0.2222222222222222, \"#7201a8\"], [0.3333333333333333, \"#9c179e\"], [0.4444444444444444, \"#bd3786\"], [0.5555555555555556, \"#d8576b\"], [0.6666666666666666, \"#ed7953\"], [0.7777777777777778, \"#fb9f3a\"], [0.8888888888888888, \"#fdca26\"], [1.0, \"#f0f921\"]], \"type\": \"surface\"}], \"table\": [{\"cells\": {\"fill\": {\"color\": \"#EBF0F8\"}, \"line\": {\"color\": \"white\"}}, \"header\": {\"fill\": {\"color\": \"#C8D4E3\"}, \"line\": {\"color\": \"white\"}}, \"type\": \"table\"}]}, \"layout\": {\"annotationdefaults\": {\"arrowcolor\": \"#2a3f5f\", \"arrowhead\": 0, \"arrowwidth\": 1}, \"coloraxis\": {\"colorbar\": {\"outlinewidth\": 0, \"ticks\": \"\"}}, \"colorscale\": {\"diverging\": [[0, \"#8e0152\"], [0.1, \"#c51b7d\"], [0.2, \"#de77ae\"], [0.3, \"#f1b6da\"], [0.4, \"#fde0ef\"], [0.5, \"#f7f7f7\"], [0.6, \"#e6f5d0\"], [0.7, \"#b8e186\"], [0.8, \"#7fbc41\"], [0.9, \"#4d9221\"], [1, \"#276419\"]], \"sequential\": [[0.0, \"#0d0887\"], [0.1111111111111111, \"#46039f\"], [0.2222222222222222, \"#7201a8\"], [0.3333333333333333, \"#9c179e\"], [0.4444444444444444, \"#bd3786\"], [0.5555555555555556, \"#d8576b\"], [0.6666666666666666, \"#ed7953\"], [0.7777777777777778, \"#fb9f3a\"], [0.8888888888888888, \"#fdca26\"], [1.0, \"#f0f921\"]], \"sequentialminus\": [[0.0, \"#0d0887\"], [0.1111111111111111, \"#46039f\"], [0.2222222222222222, \"#7201a8\"], [0.3333333333333333, \"#9c179e\"], [0.4444444444444444, \"#bd3786\"], [0.5555555555555556, \"#d8576b\"], [0.6666666666666666, \"#ed7953\"], [0.7777777777777778, \"#fb9f3a\"], [0.8888888888888888, \"#fdca26\"], [1.0, \"#f0f921\"]]}, \"colorway\": [\"#636efa\", \"#EF553B\", \"#00cc96\", \"#ab63fa\", \"#FFA15A\", \"#19d3f3\", \"#FF6692\", \"#B6E880\", \"#FF97FF\", \"#FECB52\"], \"font\": {\"color\": \"#2a3f5f\"}, \"geo\": {\"bgcolor\": \"white\", \"lakecolor\": \"white\", \"landcolor\": \"white\", \"showlakes\": true, \"showland\": true, \"subunitcolor\": \"#C8D4E3\"}, \"hoverlabel\": {\"align\": \"left\"}, \"hovermode\": \"closest\", \"mapbox\": {\"style\": \"light\"}, \"paper_bgcolor\": \"white\", \"plot_bgcolor\": \"white\", \"polar\": {\"angularaxis\": {\"gridcolor\": \"#EBF0F8\", \"linecolor\": \"#EBF0F8\", \"ticks\": \"\"}, \"bgcolor\": \"white\", \"radialaxis\": {\"gridcolor\": \"#EBF0F8\", \"linecolor\": \"#EBF0F8\", \"ticks\": \"\"}}, \"scene\": {\"xaxis\": {\"backgroundcolor\": \"white\", \"gridcolor\": \"#DFE8F3\", \"gridwidth\": 2, \"linecolor\": \"#EBF0F8\", \"showbackground\": true, \"ticks\": \"\", \"zerolinecolor\": \"#EBF0F8\"}, \"yaxis\": {\"backgroundcolor\": \"white\", \"gridcolor\": \"#DFE8F3\", \"gridwidth\": 2, \"linecolor\": \"#EBF0F8\", \"showbackground\": true, \"ticks\": \"\", \"zerolinecolor\": \"#EBF0F8\"}, \"zaxis\": {\"backgroundcolor\": \"white\", \"gridcolor\": \"#DFE8F3\", \"gridwidth\": 2, \"linecolor\": \"#EBF0F8\", \"showbackground\": true, \"ticks\": \"\", \"zerolinecolor\": \"#EBF0F8\"}}, \"shapedefaults\": {\"line\": {\"color\": \"#2a3f5f\"}}, \"ternary\": {\"aaxis\": {\"gridcolor\": \"#DFE8F3\", \"linecolor\": \"#A2B1C6\", \"ticks\": \"\"}, \"baxis\": {\"gridcolor\": \"#DFE8F3\", \"linecolor\": \"#A2B1C6\", \"ticks\": \"\"}, \"bgcolor\": \"white\", \"caxis\": {\"gridcolor\": \"#DFE8F3\", \"linecolor\": \"#A2B1C6\", \"ticks\": \"\"}}, \"title\": {\"x\": 0.05}, \"xaxis\": {\"automargin\": true, \"gridcolor\": \"#EBF0F8\", \"linecolor\": \"#EBF0F8\", \"ticks\": \"\", \"title\": {\"standoff\": 15}, \"zerolinecolor\": \"#EBF0F8\", \"zerolinewidth\": 2}, \"yaxis\": {\"automargin\": true, \"gridcolor\": \"#EBF0F8\", \"linecolor\": \"#EBF0F8\", \"ticks\": \"\", \"title\": {\"standoff\": 15}, \"zerolinecolor\": \"#EBF0F8\", \"zerolinewidth\": 2}}}, \"title\": {\"text\": \"\\u0e08\\u0e33\\u0e19\\u0e27\\u0e19\\u0e1c\\u0e39\\u0e49\\u0e15\\u0e34\\u0e14\\u0e40\\u0e0a\\u0e37\\u0e49\\u0e2d covid-19 \\u0e43\\u0e19\\u0e41\\u0e15\\u0e48\\u0e25\\u0e30\\u0e1b\\u0e23\\u0e30\\u0e40\\u0e17\\u0e28\"}, \"xaxis\": {\"title\": {\"text\": \"Confirmed Cases\"}}, \"yaxis\": {\"title\": {\"text\": \"Countries\"}}},                        {\"responsive\": true}                    ).then(function(){\n",
       "                            \n",
       "var gd = document.getElementById('92ef1d49-5758-46b8-ab21-5e70154ff562');\n",
       "var x = new MutationObserver(function (mutations, observer) {{\n",
       "        var display = window.getComputedStyle(gd).display;\n",
       "        if (!display || display === 'none') {{\n",
       "            console.log([gd, 'removed!']);\n",
       "            Plotly.purge(gd);\n",
       "            observer.disconnect();\n",
       "        }}\n",
       "}});\n",
       "\n",
       "// Listen for the removal of the full notebook cells\n",
       "var notebookContainer = gd.closest('#notebook-container');\n",
       "if (notebookContainer) {{\n",
       "    x.observe(notebookContainer, {childList: true});\n",
       "}}\n",
       "\n",
       "// Listen for the clearing of the current output cell\n",
       "var outputEl = gd.closest('.output');\n",
       "if (outputEl) {{\n",
       "    x.observe(outputEl, {childList: true});\n",
       "}}\n",
       "\n",
       "                        })                };                });            </script>        </div>"
      ]
     },
     "metadata": {},
     "output_type": "display_data"
    }
   ],
   "source": [
    "fig = go.Figure(go.Bar(\n",
    "            x=Data_country['confirmed'],\n",
    "            y=Data_country['country'],\n",
    "            orientation='h'))\n",
    "fig.update_layout(\n",
    "    title='จำนวนผู้ติดเชื้อ covid-19 ในแต่ละประเทศ',\n",
    "    template='plotly_white',\n",
    "     xaxis_title=\"Confirmed Cases\",\n",
    "    yaxis_title=\"Countries\",\n",
    ")\n",
    "fig.show()"
   ]
  },
  {
   "cell_type": "code",
   "execution_count": 21,
   "metadata": {
    "colab": {
     "base_uri": "https://localhost:8080/",
     "height": 542
    },
    "id": "nCbnRiMtakdX",
    "outputId": "af83a5f9-1ff7-41f5-9acb-ddfd3db4fc92"
   },
   "outputs": [
    {
     "data": {
      "application/vnd.plotly.v1+json": {
       "config": {
        "plotlyServerURL": "https://plot.ly"
       },
       "data": [
        {
         "orientation": "h",
         "type": "bar",
         "x": [
          2840688,
          4274774,
          5273201,
          628007,
          2373,
          227704,
          676925,
          98632,
          150376,
          380956,
          743653,
          954788,
          594645,
          608112,
          436589,
          112296,
          214947,
          19454,
          256861,
          137181,
          292197,
          279749,
          95529,
          297497,
          4019,
          96494,
          0,
          253488,
          275487,
          102476,
          319154,
          85460,
          95829,
          80256,
          69695,
          89061,
          27922,
          102715,
          87629,
          42700,
          48530,
          23364,
          36174,
          102937,
          75522,
          174506,
          32789,
          38997,
          31204,
          50358,
          42879,
          44001,
          88528,
          37841,
          24782,
          24449,
          20616,
          23813,
          6764,
          74525,
          14634,
          35644,
          5890,
          0,
          14959,
          24908,
          33443,
          21197,
          65225,
          96688,
          37954,
          1286,
          19361,
          56428,
          8788,
          53366,
          83724,
          19440,
          21666,
          1347,
          7847,
          17565,
          8100,
          13959,
          12437,
          31743,
          3755,
          45757,
          15057,
          11190,
          10139,
          5032,
          64838,
          15301,
          6829,
          6303,
          122699,
          1103,
          1941,
          4263,
          7192,
          7120,
          2913,
          3804,
          9967,
          2453,
          7174,
          4893,
          9014,
          19291,
          2161,
          4912,
          1867,
          4695,
          2946,
          2206,
          2365,
          3887,
          1007,
          4769,
          1221,
          1680,
          8572,
          2560,
          4260,
          1687,
          1114,
          9996,
          2605,
          1914,
          5232,
          4626,
          5344,
          5277,
          3379,
          1335,
          8005,
          1432,
          1290,
          4395,
          1791,
          1348,
          680,
          1973,
          1549,
          3120,
          1307,
          873,
          1010,
          2562,
          9108,
          3154,
          1246,
          57488,
          1770,
          1369,
          183,
          710,
          886,
          651,
          3230,
          344,
          2167,
          516,
          483,
          179,
          464,
          92,
          142,
          0,
          28,
          181,
          8,
          113,
          472,
          12,
          24,
          307,
          64,
          27,
          17,
          28,
          222,
          140,
          275,
          341,
          22,
          24
         ],
         "y": [
          "US",
          "Brazil",
          "India",
          "Mexico",
          "United Kingdom",
          "Italy",
          "Peru",
          "France",
          "Spain",
          "Iran",
          "Colombia",
          "Russia",
          "Argentina",
          "South Africa",
          "Chile",
          "Ecuador",
          "Indonesia",
          "Belgium",
          "Germany",
          "Canada",
          "Iraq",
          "Turkey",
          "Bolivia",
          "Pakistan",
          "Netherlands",
          "Egypt",
          "Sweden",
          "Philippines",
          "Bangladesh",
          "Romania",
          "Saudi Arabia",
          "China",
          "Ukraine",
          "Guatemala",
          "Poland",
          "Panama",
          "Honduras",
          "Morocco",
          "Dominican Republic",
          "Switzerland",
          "Portugal",
          "Ireland",
          "Algeria",
          "Kazakhstan",
          "Japan",
          "Israel",
          "Afghanistan",
          "Moldova",
          "Ethiopia",
          "Nigeria",
          "Kyrgyzstan",
          "Armenia",
          "Oman",
          "Costa Rica",
          "Australia",
          "Paraguay",
          "Bosnia and Herzegovina",
          "El Salvador",
          "Sudan",
          "Belarus",
          "Bulgaria",
          "Austria",
          "Hungary",
          "Serbia",
          "North Macedonia",
          "Kenya",
          "Czechia",
          "Denmark",
          "Venezuela",
          "Kuwait",
          "Azerbaijan",
          "Yemen",
          "Libya",
          "Nepal",
          "Kosovo",
          "Uzbekistan",
          "United Arab Emirates",
          "Cameroon",
          "Korea, South",
          "Greece",
          "Albania",
          "Lebanon",
          "Finland",
          "Zambia",
          "Senegal",
          "West Bank and Gaza",
          "Burma",
          "Ghana",
          "Croatia",
          "Norway",
          "Congo (Kinshasa)",
          "Tunisia",
          "Bahrain",
          "Madagascar",
          "Haiti",
          "Zimbabwe",
          "Qatar",
          "Syria",
          "Angola",
          "Malawi",
          "Montenegro",
          "Mauritania",
          "Nicaragua",
          "Slovenia",
          "Malaysia",
          "Mali",
          "Luxembourg",
          "Cuba",
          "Namibia",
          "Cote d'Ivoire",
          "Gambia",
          "Eswatini",
          "Jamaica",
          "Suriname",
          "Somalia",
          "Bahamas",
          "Lithuania",
          "Congo (Brazzaville)",
          "Chad",
          "Equatorial Guinea",
          "Liberia",
          "Guyana",
          "Tajikistan",
          "Trinidad and Tobago",
          "Uganda",
          "Sierra Leone",
          "Niger",
          "Guinea",
          "Estonia",
          "Central African Republic",
          "Mozambique",
          "Jordan",
          "Djibouti",
          "Cabo Verde",
          "Thailand",
          "Burkina Faso",
          "Gabon",
          "Andorra",
          "South Sudan",
          "Slovakia",
          "Uruguay",
          "Togo",
          "San Marino",
          "Benin",
          "Guinea-Bissau",
          "Georgia",
          "Latvia",
          "Lesotho",
          "Vietnam",
          "Malta",
          "Maldives",
          "Rwanda",
          "Belize",
          "Singapore",
          "New Zealand",
          "Cyprus",
          "Tanzania",
          "Botswana",
          "Sao Tome and Principe",
          "Diamond Princess",
          "Sri Lanka",
          "Mauritius",
          "Iceland",
          "Papua New Guinea",
          "Taiwan*",
          "Barbados",
          "Comoros",
          "Antigua and Barbuda",
          "Brunei",
          "MS Zaandam",
          "Fiji",
          "Monaco",
          "Western Sahara",
          "Liechtenstein",
          "Burundi",
          "Holy See",
          "Grenada",
          "Mongolia",
          "Saint Vincent and the Grenadines",
          "Saint Lucia",
          "Saint Kitts and Nevis",
          "Timor-Leste",
          "Bhutan",
          "Seychelles",
          "Cambodia",
          "Eritrea",
          "Laos",
          "Dominica"
         ]
        }
       ],
       "layout": {
        "template": {
         "data": {
          "bar": [
           {
            "error_x": {
             "color": "#2a3f5f"
            },
            "error_y": {
             "color": "#2a3f5f"
            },
            "marker": {
             "line": {
              "color": "white",
              "width": 0.5
             }
            },
            "type": "bar"
           }
          ],
          "barpolar": [
           {
            "marker": {
             "line": {
              "color": "white",
              "width": 0.5
             }
            },
            "type": "barpolar"
           }
          ],
          "carpet": [
           {
            "aaxis": {
             "endlinecolor": "#2a3f5f",
             "gridcolor": "#C8D4E3",
             "linecolor": "#C8D4E3",
             "minorgridcolor": "#C8D4E3",
             "startlinecolor": "#2a3f5f"
            },
            "baxis": {
             "endlinecolor": "#2a3f5f",
             "gridcolor": "#C8D4E3",
             "linecolor": "#C8D4E3",
             "minorgridcolor": "#C8D4E3",
             "startlinecolor": "#2a3f5f"
            },
            "type": "carpet"
           }
          ],
          "choropleth": [
           {
            "colorbar": {
             "outlinewidth": 0,
             "ticks": ""
            },
            "type": "choropleth"
           }
          ],
          "contour": [
           {
            "colorbar": {
             "outlinewidth": 0,
             "ticks": ""
            },
            "colorscale": [
             [
              0,
              "#0d0887"
             ],
             [
              0.1111111111111111,
              "#46039f"
             ],
             [
              0.2222222222222222,
              "#7201a8"
             ],
             [
              0.3333333333333333,
              "#9c179e"
             ],
             [
              0.4444444444444444,
              "#bd3786"
             ],
             [
              0.5555555555555556,
              "#d8576b"
             ],
             [
              0.6666666666666666,
              "#ed7953"
             ],
             [
              0.7777777777777778,
              "#fb9f3a"
             ],
             [
              0.8888888888888888,
              "#fdca26"
             ],
             [
              1,
              "#f0f921"
             ]
            ],
            "type": "contour"
           }
          ],
          "contourcarpet": [
           {
            "colorbar": {
             "outlinewidth": 0,
             "ticks": ""
            },
            "type": "contourcarpet"
           }
          ],
          "heatmap": [
           {
            "colorbar": {
             "outlinewidth": 0,
             "ticks": ""
            },
            "colorscale": [
             [
              0,
              "#0d0887"
             ],
             [
              0.1111111111111111,
              "#46039f"
             ],
             [
              0.2222222222222222,
              "#7201a8"
             ],
             [
              0.3333333333333333,
              "#9c179e"
             ],
             [
              0.4444444444444444,
              "#bd3786"
             ],
             [
              0.5555555555555556,
              "#d8576b"
             ],
             [
              0.6666666666666666,
              "#ed7953"
             ],
             [
              0.7777777777777778,
              "#fb9f3a"
             ],
             [
              0.8888888888888888,
              "#fdca26"
             ],
             [
              1,
              "#f0f921"
             ]
            ],
            "type": "heatmap"
           }
          ],
          "heatmapgl": [
           {
            "colorbar": {
             "outlinewidth": 0,
             "ticks": ""
            },
            "colorscale": [
             [
              0,
              "#0d0887"
             ],
             [
              0.1111111111111111,
              "#46039f"
             ],
             [
              0.2222222222222222,
              "#7201a8"
             ],
             [
              0.3333333333333333,
              "#9c179e"
             ],
             [
              0.4444444444444444,
              "#bd3786"
             ],
             [
              0.5555555555555556,
              "#d8576b"
             ],
             [
              0.6666666666666666,
              "#ed7953"
             ],
             [
              0.7777777777777778,
              "#fb9f3a"
             ],
             [
              0.8888888888888888,
              "#fdca26"
             ],
             [
              1,
              "#f0f921"
             ]
            ],
            "type": "heatmapgl"
           }
          ],
          "histogram": [
           {
            "marker": {
             "colorbar": {
              "outlinewidth": 0,
              "ticks": ""
             }
            },
            "type": "histogram"
           }
          ],
          "histogram2d": [
           {
            "colorbar": {
             "outlinewidth": 0,
             "ticks": ""
            },
            "colorscale": [
             [
              0,
              "#0d0887"
             ],
             [
              0.1111111111111111,
              "#46039f"
             ],
             [
              0.2222222222222222,
              "#7201a8"
             ],
             [
              0.3333333333333333,
              "#9c179e"
             ],
             [
              0.4444444444444444,
              "#bd3786"
             ],
             [
              0.5555555555555556,
              "#d8576b"
             ],
             [
              0.6666666666666666,
              "#ed7953"
             ],
             [
              0.7777777777777778,
              "#fb9f3a"
             ],
             [
              0.8888888888888888,
              "#fdca26"
             ],
             [
              1,
              "#f0f921"
             ]
            ],
            "type": "histogram2d"
           }
          ],
          "histogram2dcontour": [
           {
            "colorbar": {
             "outlinewidth": 0,
             "ticks": ""
            },
            "colorscale": [
             [
              0,
              "#0d0887"
             ],
             [
              0.1111111111111111,
              "#46039f"
             ],
             [
              0.2222222222222222,
              "#7201a8"
             ],
             [
              0.3333333333333333,
              "#9c179e"
             ],
             [
              0.4444444444444444,
              "#bd3786"
             ],
             [
              0.5555555555555556,
              "#d8576b"
             ],
             [
              0.6666666666666666,
              "#ed7953"
             ],
             [
              0.7777777777777778,
              "#fb9f3a"
             ],
             [
              0.8888888888888888,
              "#fdca26"
             ],
             [
              1,
              "#f0f921"
             ]
            ],
            "type": "histogram2dcontour"
           }
          ],
          "mesh3d": [
           {
            "colorbar": {
             "outlinewidth": 0,
             "ticks": ""
            },
            "type": "mesh3d"
           }
          ],
          "parcoords": [
           {
            "line": {
             "colorbar": {
              "outlinewidth": 0,
              "ticks": ""
             }
            },
            "type": "parcoords"
           }
          ],
          "pie": [
           {
            "automargin": true,
            "type": "pie"
           }
          ],
          "scatter": [
           {
            "marker": {
             "colorbar": {
              "outlinewidth": 0,
              "ticks": ""
             }
            },
            "type": "scatter"
           }
          ],
          "scatter3d": [
           {
            "line": {
             "colorbar": {
              "outlinewidth": 0,
              "ticks": ""
             }
            },
            "marker": {
             "colorbar": {
              "outlinewidth": 0,
              "ticks": ""
             }
            },
            "type": "scatter3d"
           }
          ],
          "scattercarpet": [
           {
            "marker": {
             "colorbar": {
              "outlinewidth": 0,
              "ticks": ""
             }
            },
            "type": "scattercarpet"
           }
          ],
          "scattergeo": [
           {
            "marker": {
             "colorbar": {
              "outlinewidth": 0,
              "ticks": ""
             }
            },
            "type": "scattergeo"
           }
          ],
          "scattergl": [
           {
            "marker": {
             "colorbar": {
              "outlinewidth": 0,
              "ticks": ""
             }
            },
            "type": "scattergl"
           }
          ],
          "scattermapbox": [
           {
            "marker": {
             "colorbar": {
              "outlinewidth": 0,
              "ticks": ""
             }
            },
            "type": "scattermapbox"
           }
          ],
          "scatterpolar": [
           {
            "marker": {
             "colorbar": {
              "outlinewidth": 0,
              "ticks": ""
             }
            },
            "type": "scatterpolar"
           }
          ],
          "scatterpolargl": [
           {
            "marker": {
             "colorbar": {
              "outlinewidth": 0,
              "ticks": ""
             }
            },
            "type": "scatterpolargl"
           }
          ],
          "scatterternary": [
           {
            "marker": {
             "colorbar": {
              "outlinewidth": 0,
              "ticks": ""
             }
            },
            "type": "scatterternary"
           }
          ],
          "surface": [
           {
            "colorbar": {
             "outlinewidth": 0,
             "ticks": ""
            },
            "colorscale": [
             [
              0,
              "#0d0887"
             ],
             [
              0.1111111111111111,
              "#46039f"
             ],
             [
              0.2222222222222222,
              "#7201a8"
             ],
             [
              0.3333333333333333,
              "#9c179e"
             ],
             [
              0.4444444444444444,
              "#bd3786"
             ],
             [
              0.5555555555555556,
              "#d8576b"
             ],
             [
              0.6666666666666666,
              "#ed7953"
             ],
             [
              0.7777777777777778,
              "#fb9f3a"
             ],
             [
              0.8888888888888888,
              "#fdca26"
             ],
             [
              1,
              "#f0f921"
             ]
            ],
            "type": "surface"
           }
          ],
          "table": [
           {
            "cells": {
             "fill": {
              "color": "#EBF0F8"
             },
             "line": {
              "color": "white"
             }
            },
            "header": {
             "fill": {
              "color": "#C8D4E3"
             },
             "line": {
              "color": "white"
             }
            },
            "type": "table"
           }
          ]
         },
         "layout": {
          "annotationdefaults": {
           "arrowcolor": "#2a3f5f",
           "arrowhead": 0,
           "arrowwidth": 1
          },
          "coloraxis": {
           "colorbar": {
            "outlinewidth": 0,
            "ticks": ""
           }
          },
          "colorscale": {
           "diverging": [
            [
             0,
             "#8e0152"
            ],
            [
             0.1,
             "#c51b7d"
            ],
            [
             0.2,
             "#de77ae"
            ],
            [
             0.3,
             "#f1b6da"
            ],
            [
             0.4,
             "#fde0ef"
            ],
            [
             0.5,
             "#f7f7f7"
            ],
            [
             0.6,
             "#e6f5d0"
            ],
            [
             0.7,
             "#b8e186"
            ],
            [
             0.8,
             "#7fbc41"
            ],
            [
             0.9,
             "#4d9221"
            ],
            [
             1,
             "#276419"
            ]
           ],
           "sequential": [
            [
             0,
             "#0d0887"
            ],
            [
             0.1111111111111111,
             "#46039f"
            ],
            [
             0.2222222222222222,
             "#7201a8"
            ],
            [
             0.3333333333333333,
             "#9c179e"
            ],
            [
             0.4444444444444444,
             "#bd3786"
            ],
            [
             0.5555555555555556,
             "#d8576b"
            ],
            [
             0.6666666666666666,
             "#ed7953"
            ],
            [
             0.7777777777777778,
             "#fb9f3a"
            ],
            [
             0.8888888888888888,
             "#fdca26"
            ],
            [
             1,
             "#f0f921"
            ]
           ],
           "sequentialminus": [
            [
             0,
             "#0d0887"
            ],
            [
             0.1111111111111111,
             "#46039f"
            ],
            [
             0.2222222222222222,
             "#7201a8"
            ],
            [
             0.3333333333333333,
             "#9c179e"
            ],
            [
             0.4444444444444444,
             "#bd3786"
            ],
            [
             0.5555555555555556,
             "#d8576b"
            ],
            [
             0.6666666666666666,
             "#ed7953"
            ],
            [
             0.7777777777777778,
             "#fb9f3a"
            ],
            [
             0.8888888888888888,
             "#fdca26"
            ],
            [
             1,
             "#f0f921"
            ]
           ]
          },
          "colorway": [
           "#636efa",
           "#EF553B",
           "#00cc96",
           "#ab63fa",
           "#FFA15A",
           "#19d3f3",
           "#FF6692",
           "#B6E880",
           "#FF97FF",
           "#FECB52"
          ],
          "font": {
           "color": "#2a3f5f"
          },
          "geo": {
           "bgcolor": "white",
           "lakecolor": "white",
           "landcolor": "white",
           "showlakes": true,
           "showland": true,
           "subunitcolor": "#C8D4E3"
          },
          "hoverlabel": {
           "align": "left"
          },
          "hovermode": "closest",
          "mapbox": {
           "style": "light"
          },
          "paper_bgcolor": "white",
          "plot_bgcolor": "white",
          "polar": {
           "angularaxis": {
            "gridcolor": "#EBF0F8",
            "linecolor": "#EBF0F8",
            "ticks": ""
           },
           "bgcolor": "white",
           "radialaxis": {
            "gridcolor": "#EBF0F8",
            "linecolor": "#EBF0F8",
            "ticks": ""
           }
          },
          "scene": {
           "xaxis": {
            "backgroundcolor": "white",
            "gridcolor": "#DFE8F3",
            "gridwidth": 2,
            "linecolor": "#EBF0F8",
            "showbackground": true,
            "ticks": "",
            "zerolinecolor": "#EBF0F8"
           },
           "yaxis": {
            "backgroundcolor": "white",
            "gridcolor": "#DFE8F3",
            "gridwidth": 2,
            "linecolor": "#EBF0F8",
            "showbackground": true,
            "ticks": "",
            "zerolinecolor": "#EBF0F8"
           },
           "zaxis": {
            "backgroundcolor": "white",
            "gridcolor": "#DFE8F3",
            "gridwidth": 2,
            "linecolor": "#EBF0F8",
            "showbackground": true,
            "ticks": "",
            "zerolinecolor": "#EBF0F8"
           }
          },
          "shapedefaults": {
           "line": {
            "color": "#2a3f5f"
           }
          },
          "ternary": {
           "aaxis": {
            "gridcolor": "#DFE8F3",
            "linecolor": "#A2B1C6",
            "ticks": ""
           },
           "baxis": {
            "gridcolor": "#DFE8F3",
            "linecolor": "#A2B1C6",
            "ticks": ""
           },
           "bgcolor": "white",
           "caxis": {
            "gridcolor": "#DFE8F3",
            "linecolor": "#A2B1C6",
            "ticks": ""
           }
          },
          "title": {
           "x": 0.05
          },
          "xaxis": {
           "automargin": true,
           "gridcolor": "#EBF0F8",
           "linecolor": "#EBF0F8",
           "ticks": "",
           "title": {
            "standoff": 15
           },
           "zerolinecolor": "#EBF0F8",
           "zerolinewidth": 2
          },
          "yaxis": {
           "automargin": true,
           "gridcolor": "#EBF0F8",
           "linecolor": "#EBF0F8",
           "ticks": "",
           "title": {
            "standoff": 15
           },
           "zerolinecolor": "#EBF0F8",
           "zerolinewidth": 2
          }
         }
        },
        "title": {
         "text": "จำนวนที่หายจาก covid-19 ในแต่ละประเทศ"
        },
        "xaxis": {
         "title": {
          "text": "Confirmed Cases"
         }
        },
        "yaxis": {
         "title": {
          "text": "Countries"
         }
        }
       }
      },
      "text/html": [
       "<div>                            <div id=\"28864340-b0f5-4fef-ad35-c7c83b794b43\" class=\"plotly-graph-div\" style=\"height:525px; width:100%;\"></div>            <script type=\"text/javascript\">                require([\"plotly\"], function(Plotly) {                    window.PLOTLYENV=window.PLOTLYENV || {};                                    if (document.getElementById(\"28864340-b0f5-4fef-ad35-c7c83b794b43\")) {                    Plotly.newPlot(                        \"28864340-b0f5-4fef-ad35-c7c83b794b43\",                        [{\"orientation\": \"h\", \"type\": \"bar\", \"x\": [2840688.0, 4274774.0, 5273201.0, 628007.0, 2373.0, 227704.0, 676925.0, 98632.0, 150376.0, 380956.0, 743653.0, 954788.0, 594645.0, 608112.0, 436589.0, 112296.0, 214947.0, 19454.0, 256861.0, 137181.0, 292197.0, 279749.0, 95529.0, 297497.0, 4019.0, 96494.0, 0.0, 253488.0, 275487.0, 102476.0, 319154.0, 85460.0, 95829.0, 80256.0, 69695.0, 89061.0, 27922.0, 102715.0, 87629.0, 42700.0, 48530.0, 23364.0, 36174.0, 102937.0, 75522.0, 174506.0, 32789.0, 38997.0, 31204.0, 50358.0, 42879.0, 44001.0, 88528.0, 37841.0, 24782.0, 24449.0, 20616.0, 23813.0, 6764.0, 74525.0, 14634.0, 35644.0, 5890.0, 0.0, 14959.0, 24908.0, 33443.0, 21197.0, 65225.0, 96688.0, 37954.0, 1286.0, 19361.0, 56428.0, 8788.0, 53366.0, 83724.0, 19440.0, 21666.0, 1347.0, 7847.0, 17565.0, 8100.0, 13959.0, 12437.0, 31743.0, 3755.0, 45757.0, 15057.0, 11190.0, 10139.0, 5032.0, 64838.0, 15301.0, 6829.0, 6303.0, 122699.0, 1103.0, 1941.0, 4263.0, 7192.0, 7120.0, 2913.0, 3804.0, 9967.0, 2453.0, 7174.0, 4893.0, 9014.0, 19291.0, 2161.0, 4912.0, 1867.0, 4695.0, 2946.0, 2206.0, 2365.0, 3887.0, 1007.0, 4769.0, 1221.0, 1680.0, 8572.0, 2560.0, 4260.0, 1687.0, 1114.0, 9996.0, 2605.0, 1914.0, 5232.0, 4626.0, 5344.0, 5277.0, 3379.0, 1335.0, 8005.0, 1432.0, 1290.0, 4395.0, 1791.0, 1348.0, 680.0, 1973.0, 1549.0, 3120.0, 1307.0, 873.0, 1010.0, 2562.0, 9108.0, 3154.0, 1246.0, 57488.0, 1770.0, 1369.0, 183.0, 710.0, 886.0, 651.0, 3230.0, 344.0, 2167.0, 516.0, 483.0, 179.0, 464.0, 92.0, 142.0, 0.0, 28.0, 181.0, 8.0, 113.0, 472.0, 12.0, 24.0, 307.0, 64.0, 27.0, 17.0, 28.0, 222.0, 140.0, 275.0, 341.0, 22.0, 24.0], \"y\": [\"US\", \"Brazil\", \"India\", \"Mexico\", \"United Kingdom\", \"Italy\", \"Peru\", \"France\", \"Spain\", \"Iran\", \"Colombia\", \"Russia\", \"Argentina\", \"South Africa\", \"Chile\", \"Ecuador\", \"Indonesia\", \"Belgium\", \"Germany\", \"Canada\", \"Iraq\", \"Turkey\", \"Bolivia\", \"Pakistan\", \"Netherlands\", \"Egypt\", \"Sweden\", \"Philippines\", \"Bangladesh\", \"Romania\", \"Saudi Arabia\", \"China\", \"Ukraine\", \"Guatemala\", \"Poland\", \"Panama\", \"Honduras\", \"Morocco\", \"Dominican Republic\", \"Switzerland\", \"Portugal\", \"Ireland\", \"Algeria\", \"Kazakhstan\", \"Japan\", \"Israel\", \"Afghanistan\", \"Moldova\", \"Ethiopia\", \"Nigeria\", \"Kyrgyzstan\", \"Armenia\", \"Oman\", \"Costa Rica\", \"Australia\", \"Paraguay\", \"Bosnia and Herzegovina\", \"El Salvador\", \"Sudan\", \"Belarus\", \"Bulgaria\", \"Austria\", \"Hungary\", \"Serbia\", \"North Macedonia\", \"Kenya\", \"Czechia\", \"Denmark\", \"Venezuela\", \"Kuwait\", \"Azerbaijan\", \"Yemen\", \"Libya\", \"Nepal\", \"Kosovo\", \"Uzbekistan\", \"United Arab Emirates\", \"Cameroon\", \"Korea, South\", \"Greece\", \"Albania\", \"Lebanon\", \"Finland\", \"Zambia\", \"Senegal\", \"West Bank and Gaza\", \"Burma\", \"Ghana\", \"Croatia\", \"Norway\", \"Congo (Kinshasa)\", \"Tunisia\", \"Bahrain\", \"Madagascar\", \"Haiti\", \"Zimbabwe\", \"Qatar\", \"Syria\", \"Angola\", \"Malawi\", \"Montenegro\", \"Mauritania\", \"Nicaragua\", \"Slovenia\", \"Malaysia\", \"Mali\", \"Luxembourg\", \"Cuba\", \"Namibia\", \"Cote d'Ivoire\", \"Gambia\", \"Eswatini\", \"Jamaica\", \"Suriname\", \"Somalia\", \"Bahamas\", \"Lithuania\", \"Congo (Brazzaville)\", \"Chad\", \"Equatorial Guinea\", \"Liberia\", \"Guyana\", \"Tajikistan\", \"Trinidad and Tobago\", \"Uganda\", \"Sierra Leone\", \"Niger\", \"Guinea\", \"Estonia\", \"Central African Republic\", \"Mozambique\", \"Jordan\", \"Djibouti\", \"Cabo Verde\", \"Thailand\", \"Burkina Faso\", \"Gabon\", \"Andorra\", \"South Sudan\", \"Slovakia\", \"Uruguay\", \"Togo\", \"San Marino\", \"Benin\", \"Guinea-Bissau\", \"Georgia\", \"Latvia\", \"Lesotho\", \"Vietnam\", \"Malta\", \"Maldives\", \"Rwanda\", \"Belize\", \"Singapore\", \"New Zealand\", \"Cyprus\", \"Tanzania\", \"Botswana\", \"Sao Tome and Principe\", \"Diamond Princess\", \"Sri Lanka\", \"Mauritius\", \"Iceland\", \"Papua New Guinea\", \"Taiwan*\", \"Barbados\", \"Comoros\", \"Antigua and Barbuda\", \"Brunei\", \"MS Zaandam\", \"Fiji\", \"Monaco\", \"Western Sahara\", \"Liechtenstein\", \"Burundi\", \"Holy See\", \"Grenada\", \"Mongolia\", \"Saint Vincent and the Grenadines\", \"Saint Lucia\", \"Saint Kitts and Nevis\", \"Timor-Leste\", \"Bhutan\", \"Seychelles\", \"Cambodia\", \"Eritrea\", \"Laos\", \"Dominica\"]}],                        {\"template\": {\"data\": {\"bar\": [{\"error_x\": {\"color\": \"#2a3f5f\"}, \"error_y\": {\"color\": \"#2a3f5f\"}, \"marker\": {\"line\": {\"color\": \"white\", \"width\": 0.5}}, \"type\": \"bar\"}], \"barpolar\": [{\"marker\": {\"line\": {\"color\": \"white\", \"width\": 0.5}}, \"type\": \"barpolar\"}], \"carpet\": [{\"aaxis\": {\"endlinecolor\": \"#2a3f5f\", \"gridcolor\": \"#C8D4E3\", \"linecolor\": \"#C8D4E3\", \"minorgridcolor\": \"#C8D4E3\", \"startlinecolor\": \"#2a3f5f\"}, \"baxis\": {\"endlinecolor\": \"#2a3f5f\", \"gridcolor\": \"#C8D4E3\", \"linecolor\": \"#C8D4E3\", \"minorgridcolor\": \"#C8D4E3\", \"startlinecolor\": \"#2a3f5f\"}, \"type\": \"carpet\"}], \"choropleth\": [{\"colorbar\": {\"outlinewidth\": 0, \"ticks\": \"\"}, \"type\": \"choropleth\"}], \"contour\": [{\"colorbar\": {\"outlinewidth\": 0, \"ticks\": \"\"}, \"colorscale\": [[0.0, \"#0d0887\"], [0.1111111111111111, \"#46039f\"], [0.2222222222222222, \"#7201a8\"], [0.3333333333333333, \"#9c179e\"], [0.4444444444444444, \"#bd3786\"], [0.5555555555555556, \"#d8576b\"], [0.6666666666666666, \"#ed7953\"], [0.7777777777777778, \"#fb9f3a\"], [0.8888888888888888, \"#fdca26\"], [1.0, \"#f0f921\"]], \"type\": \"contour\"}], \"contourcarpet\": [{\"colorbar\": {\"outlinewidth\": 0, \"ticks\": \"\"}, \"type\": \"contourcarpet\"}], \"heatmap\": [{\"colorbar\": {\"outlinewidth\": 0, \"ticks\": \"\"}, \"colorscale\": [[0.0, \"#0d0887\"], [0.1111111111111111, \"#46039f\"], [0.2222222222222222, \"#7201a8\"], [0.3333333333333333, \"#9c179e\"], [0.4444444444444444, \"#bd3786\"], [0.5555555555555556, \"#d8576b\"], [0.6666666666666666, \"#ed7953\"], [0.7777777777777778, \"#fb9f3a\"], [0.8888888888888888, \"#fdca26\"], [1.0, \"#f0f921\"]], \"type\": \"heatmap\"}], \"heatmapgl\": [{\"colorbar\": {\"outlinewidth\": 0, \"ticks\": \"\"}, \"colorscale\": [[0.0, \"#0d0887\"], [0.1111111111111111, \"#46039f\"], [0.2222222222222222, \"#7201a8\"], [0.3333333333333333, \"#9c179e\"], [0.4444444444444444, \"#bd3786\"], [0.5555555555555556, \"#d8576b\"], [0.6666666666666666, \"#ed7953\"], [0.7777777777777778, \"#fb9f3a\"], [0.8888888888888888, \"#fdca26\"], [1.0, \"#f0f921\"]], \"type\": \"heatmapgl\"}], \"histogram\": [{\"marker\": {\"colorbar\": {\"outlinewidth\": 0, \"ticks\": \"\"}}, \"type\": \"histogram\"}], \"histogram2d\": [{\"colorbar\": {\"outlinewidth\": 0, \"ticks\": \"\"}, \"colorscale\": [[0.0, \"#0d0887\"], [0.1111111111111111, \"#46039f\"], [0.2222222222222222, \"#7201a8\"], [0.3333333333333333, \"#9c179e\"], [0.4444444444444444, \"#bd3786\"], [0.5555555555555556, \"#d8576b\"], [0.6666666666666666, \"#ed7953\"], [0.7777777777777778, \"#fb9f3a\"], [0.8888888888888888, \"#fdca26\"], [1.0, \"#f0f921\"]], \"type\": \"histogram2d\"}], \"histogram2dcontour\": [{\"colorbar\": {\"outlinewidth\": 0, \"ticks\": \"\"}, \"colorscale\": [[0.0, \"#0d0887\"], [0.1111111111111111, \"#46039f\"], [0.2222222222222222, \"#7201a8\"], [0.3333333333333333, \"#9c179e\"], [0.4444444444444444, \"#bd3786\"], [0.5555555555555556, \"#d8576b\"], [0.6666666666666666, \"#ed7953\"], [0.7777777777777778, \"#fb9f3a\"], [0.8888888888888888, \"#fdca26\"], [1.0, \"#f0f921\"]], \"type\": \"histogram2dcontour\"}], \"mesh3d\": [{\"colorbar\": {\"outlinewidth\": 0, \"ticks\": \"\"}, \"type\": \"mesh3d\"}], \"parcoords\": [{\"line\": {\"colorbar\": {\"outlinewidth\": 0, \"ticks\": \"\"}}, \"type\": \"parcoords\"}], \"pie\": [{\"automargin\": true, \"type\": \"pie\"}], \"scatter\": [{\"marker\": {\"colorbar\": {\"outlinewidth\": 0, \"ticks\": \"\"}}, \"type\": \"scatter\"}], \"scatter3d\": [{\"line\": {\"colorbar\": {\"outlinewidth\": 0, \"ticks\": \"\"}}, \"marker\": {\"colorbar\": {\"outlinewidth\": 0, \"ticks\": \"\"}}, \"type\": \"scatter3d\"}], \"scattercarpet\": [{\"marker\": {\"colorbar\": {\"outlinewidth\": 0, \"ticks\": \"\"}}, \"type\": \"scattercarpet\"}], \"scattergeo\": [{\"marker\": {\"colorbar\": {\"outlinewidth\": 0, \"ticks\": \"\"}}, \"type\": \"scattergeo\"}], \"scattergl\": [{\"marker\": {\"colorbar\": {\"outlinewidth\": 0, \"ticks\": \"\"}}, \"type\": \"scattergl\"}], \"scattermapbox\": [{\"marker\": {\"colorbar\": {\"outlinewidth\": 0, \"ticks\": \"\"}}, \"type\": \"scattermapbox\"}], \"scatterpolar\": [{\"marker\": {\"colorbar\": {\"outlinewidth\": 0, \"ticks\": \"\"}}, \"type\": \"scatterpolar\"}], \"scatterpolargl\": [{\"marker\": {\"colorbar\": {\"outlinewidth\": 0, \"ticks\": \"\"}}, \"type\": \"scatterpolargl\"}], \"scatterternary\": [{\"marker\": {\"colorbar\": {\"outlinewidth\": 0, \"ticks\": \"\"}}, \"type\": \"scatterternary\"}], \"surface\": [{\"colorbar\": {\"outlinewidth\": 0, \"ticks\": \"\"}, \"colorscale\": [[0.0, \"#0d0887\"], [0.1111111111111111, \"#46039f\"], [0.2222222222222222, \"#7201a8\"], [0.3333333333333333, \"#9c179e\"], [0.4444444444444444, \"#bd3786\"], [0.5555555555555556, \"#d8576b\"], [0.6666666666666666, \"#ed7953\"], [0.7777777777777778, \"#fb9f3a\"], [0.8888888888888888, \"#fdca26\"], [1.0, \"#f0f921\"]], \"type\": \"surface\"}], \"table\": [{\"cells\": {\"fill\": {\"color\": \"#EBF0F8\"}, \"line\": {\"color\": \"white\"}}, \"header\": {\"fill\": {\"color\": \"#C8D4E3\"}, \"line\": {\"color\": \"white\"}}, \"type\": \"table\"}]}, \"layout\": {\"annotationdefaults\": {\"arrowcolor\": \"#2a3f5f\", \"arrowhead\": 0, \"arrowwidth\": 1}, \"coloraxis\": {\"colorbar\": {\"outlinewidth\": 0, \"ticks\": \"\"}}, \"colorscale\": {\"diverging\": [[0, \"#8e0152\"], [0.1, \"#c51b7d\"], [0.2, \"#de77ae\"], [0.3, \"#f1b6da\"], [0.4, \"#fde0ef\"], [0.5, \"#f7f7f7\"], [0.6, \"#e6f5d0\"], [0.7, \"#b8e186\"], [0.8, \"#7fbc41\"], [0.9, \"#4d9221\"], [1, \"#276419\"]], \"sequential\": [[0.0, \"#0d0887\"], [0.1111111111111111, \"#46039f\"], [0.2222222222222222, \"#7201a8\"], [0.3333333333333333, \"#9c179e\"], [0.4444444444444444, \"#bd3786\"], [0.5555555555555556, \"#d8576b\"], [0.6666666666666666, \"#ed7953\"], [0.7777777777777778, \"#fb9f3a\"], [0.8888888888888888, \"#fdca26\"], [1.0, \"#f0f921\"]], \"sequentialminus\": [[0.0, \"#0d0887\"], [0.1111111111111111, \"#46039f\"], [0.2222222222222222, \"#7201a8\"], [0.3333333333333333, \"#9c179e\"], [0.4444444444444444, \"#bd3786\"], [0.5555555555555556, \"#d8576b\"], [0.6666666666666666, \"#ed7953\"], [0.7777777777777778, \"#fb9f3a\"], [0.8888888888888888, \"#fdca26\"], [1.0, \"#f0f921\"]]}, \"colorway\": [\"#636efa\", \"#EF553B\", \"#00cc96\", \"#ab63fa\", \"#FFA15A\", \"#19d3f3\", \"#FF6692\", \"#B6E880\", \"#FF97FF\", \"#FECB52\"], \"font\": {\"color\": \"#2a3f5f\"}, \"geo\": {\"bgcolor\": \"white\", \"lakecolor\": \"white\", \"landcolor\": \"white\", \"showlakes\": true, \"showland\": true, \"subunitcolor\": \"#C8D4E3\"}, \"hoverlabel\": {\"align\": \"left\"}, \"hovermode\": \"closest\", \"mapbox\": {\"style\": \"light\"}, \"paper_bgcolor\": \"white\", \"plot_bgcolor\": \"white\", \"polar\": {\"angularaxis\": {\"gridcolor\": \"#EBF0F8\", \"linecolor\": \"#EBF0F8\", \"ticks\": \"\"}, \"bgcolor\": \"white\", \"radialaxis\": {\"gridcolor\": \"#EBF0F8\", \"linecolor\": \"#EBF0F8\", \"ticks\": \"\"}}, \"scene\": {\"xaxis\": {\"backgroundcolor\": \"white\", \"gridcolor\": \"#DFE8F3\", \"gridwidth\": 2, \"linecolor\": \"#EBF0F8\", \"showbackground\": true, \"ticks\": \"\", \"zerolinecolor\": \"#EBF0F8\"}, \"yaxis\": {\"backgroundcolor\": \"white\", \"gridcolor\": \"#DFE8F3\", \"gridwidth\": 2, \"linecolor\": \"#EBF0F8\", \"showbackground\": true, \"ticks\": \"\", \"zerolinecolor\": \"#EBF0F8\"}, \"zaxis\": {\"backgroundcolor\": \"white\", \"gridcolor\": \"#DFE8F3\", \"gridwidth\": 2, \"linecolor\": \"#EBF0F8\", \"showbackground\": true, \"ticks\": \"\", \"zerolinecolor\": \"#EBF0F8\"}}, \"shapedefaults\": {\"line\": {\"color\": \"#2a3f5f\"}}, \"ternary\": {\"aaxis\": {\"gridcolor\": \"#DFE8F3\", \"linecolor\": \"#A2B1C6\", \"ticks\": \"\"}, \"baxis\": {\"gridcolor\": \"#DFE8F3\", \"linecolor\": \"#A2B1C6\", \"ticks\": \"\"}, \"bgcolor\": \"white\", \"caxis\": {\"gridcolor\": \"#DFE8F3\", \"linecolor\": \"#A2B1C6\", \"ticks\": \"\"}}, \"title\": {\"x\": 0.05}, \"xaxis\": {\"automargin\": true, \"gridcolor\": \"#EBF0F8\", \"linecolor\": \"#EBF0F8\", \"ticks\": \"\", \"title\": {\"standoff\": 15}, \"zerolinecolor\": \"#EBF0F8\", \"zerolinewidth\": 2}, \"yaxis\": {\"automargin\": true, \"gridcolor\": \"#EBF0F8\", \"linecolor\": \"#EBF0F8\", \"ticks\": \"\", \"title\": {\"standoff\": 15}, \"zerolinecolor\": \"#EBF0F8\", \"zerolinewidth\": 2}}}, \"title\": {\"text\": \"\\u0e08\\u0e33\\u0e19\\u0e27\\u0e19\\u0e17\\u0e35\\u0e48\\u0e2b\\u0e32\\u0e22\\u0e08\\u0e32\\u0e01 covid-19 \\u0e43\\u0e19\\u0e41\\u0e15\\u0e48\\u0e25\\u0e30\\u0e1b\\u0e23\\u0e30\\u0e40\\u0e17\\u0e28\"}, \"xaxis\": {\"title\": {\"text\": \"Confirmed Cases\"}}, \"yaxis\": {\"title\": {\"text\": \"Countries\"}}},                        {\"responsive\": true}                    ).then(function(){\n",
       "                            \n",
       "var gd = document.getElementById('28864340-b0f5-4fef-ad35-c7c83b794b43');\n",
       "var x = new MutationObserver(function (mutations, observer) {{\n",
       "        var display = window.getComputedStyle(gd).display;\n",
       "        if (!display || display === 'none') {{\n",
       "            console.log([gd, 'removed!']);\n",
       "            Plotly.purge(gd);\n",
       "            observer.disconnect();\n",
       "        }}\n",
       "}});\n",
       "\n",
       "// Listen for the removal of the full notebook cells\n",
       "var notebookContainer = gd.closest('#notebook-container');\n",
       "if (notebookContainer) {{\n",
       "    x.observe(notebookContainer, {childList: true});\n",
       "}}\n",
       "\n",
       "// Listen for the clearing of the current output cell\n",
       "var outputEl = gd.closest('.output');\n",
       "if (outputEl) {{\n",
       "    x.observe(outputEl, {childList: true});\n",
       "}}\n",
       "\n",
       "                        })                };                });            </script>        </div>"
      ]
     },
     "metadata": {},
     "output_type": "display_data"
    }
   ],
   "source": [
    "fig = go.Figure(go.Bar(\n",
    "            x=Data_country['recovered'],\n",
    "            y=Data_country['country'],\n",
    "            orientation='h'))\n",
    "fig.update_layout(\n",
    "    title='จำนวนที่หายจาก covid-19 ในแต่ละประเทศ',\n",
    "    template='plotly_white',\n",
    "     xaxis_title=\"Confirmed Cases\",\n",
    "    yaxis_title=\"Countries\",\n",
    ")\n",
    "fig.show()"
   ]
  },
  {
   "cell_type": "code",
   "execution_count": 49,
   "metadata": {
    "colab": {
     "base_uri": "https://localhost:8080/",
     "height": 1000
    },
    "id": "yw4YYWhIjTY_",
    "outputId": "135ff9ae-8d2c-4864-adeb-282aff835b7a"
   },
   "outputs": [
    {
     "data": {
      "text/html": [
       "<div>\n",
       "<style scoped>\n",
       "    .dataframe tbody tr th:only-of-type {\n",
       "        vertical-align: middle;\n",
       "    }\n",
       "\n",
       "    .dataframe tbody tr th {\n",
       "        vertical-align: top;\n",
       "    }\n",
       "\n",
       "    .dataframe thead th {\n",
       "        text-align: right;\n",
       "    }\n",
       "</style>\n",
       "<table border=\"1\" class=\"dataframe\">\n",
       "  <thead>\n",
       "    <tr style=\"text-align: right;\">\n",
       "      <th></th>\n",
       "      <th>city</th>\n",
       "      <th>province</th>\n",
       "      <th>country</th>\n",
       "      <th>lastUpdate</th>\n",
       "      <th>keyId</th>\n",
       "      <th>confirmed</th>\n",
       "      <th>deaths</th>\n",
       "      <th>recovered</th>\n",
       "      <th>Active</th>\n",
       "    </tr>\n",
       "  </thead>\n",
       "  <tbody>\n",
       "    <tr>\n",
       "      <th>0</th>\n",
       "      <td>Unknown</td>\n",
       "      <td>Andaman and Nicobar Islands</td>\n",
       "      <td>India</td>\n",
       "      <td>2020-10-01T04:23:42+00:00</td>\n",
       "      <td>Andaman and Nicobar Islands, India</td>\n",
       "      <td>3835</td>\n",
       "      <td>53</td>\n",
       "      <td>3608.0</td>\n",
       "      <td>174.0</td>\n",
       "    </tr>\n",
       "    <tr>\n",
       "      <th>1</th>\n",
       "      <td>Unknown</td>\n",
       "      <td>Andhra Pradesh</td>\n",
       "      <td>India</td>\n",
       "      <td>2020-10-01T04:23:42+00:00</td>\n",
       "      <td>Andhra Pradesh, India</td>\n",
       "      <td>693484</td>\n",
       "      <td>5828</td>\n",
       "      <td>629211.0</td>\n",
       "      <td>58445.0</td>\n",
       "    </tr>\n",
       "    <tr>\n",
       "      <th>2</th>\n",
       "      <td>Unknown</td>\n",
       "      <td>Arunachal Pradesh</td>\n",
       "      <td>India</td>\n",
       "      <td>2020-10-01T04:23:42+00:00</td>\n",
       "      <td>Arunachal Pradesh, India</td>\n",
       "      <td>9796</td>\n",
       "      <td>16</td>\n",
       "      <td>6890.0</td>\n",
       "      <td>2890.0</td>\n",
       "    </tr>\n",
       "    <tr>\n",
       "      <th>3</th>\n",
       "      <td>Unknown</td>\n",
       "      <td>Assam</td>\n",
       "      <td>India</td>\n",
       "      <td>2020-10-01T04:23:42+00:00</td>\n",
       "      <td>Assam, India</td>\n",
       "      <td>180811</td>\n",
       "      <td>697</td>\n",
       "      <td>145618.0</td>\n",
       "      <td>34496.0</td>\n",
       "    </tr>\n",
       "    <tr>\n",
       "      <th>4</th>\n",
       "      <td>Unknown</td>\n",
       "      <td>Bihar</td>\n",
       "      <td>India</td>\n",
       "      <td>2020-10-01T04:23:42+00:00</td>\n",
       "      <td>Bihar, India</td>\n",
       "      <td>182728</td>\n",
       "      <td>904</td>\n",
       "      <td>169732.0</td>\n",
       "      <td>12092.0</td>\n",
       "    </tr>\n",
       "    <tr>\n",
       "      <th>5</th>\n",
       "      <td>Unknown</td>\n",
       "      <td>Chandigarh</td>\n",
       "      <td>India</td>\n",
       "      <td>2020-10-01T04:23:42+00:00</td>\n",
       "      <td>Chandigarh, India</td>\n",
       "      <td>11938</td>\n",
       "      <td>162</td>\n",
       "      <td>9813.0</td>\n",
       "      <td>1963.0</td>\n",
       "    </tr>\n",
       "    <tr>\n",
       "      <th>6</th>\n",
       "      <td>Unknown</td>\n",
       "      <td>Chhattisgarh</td>\n",
       "      <td>India</td>\n",
       "      <td>2020-10-01T04:23:42+00:00</td>\n",
       "      <td>Chhattisgarh, India</td>\n",
       "      <td>113602</td>\n",
       "      <td>957</td>\n",
       "      <td>81718.0</td>\n",
       "      <td>30927.0</td>\n",
       "    </tr>\n",
       "    <tr>\n",
       "      <th>7</th>\n",
       "      <td>Unknown</td>\n",
       "      <td>Dadra and Nagar Haveli and Daman and Diu</td>\n",
       "      <td>India</td>\n",
       "      <td>2020-10-01T04:23:42+00:00</td>\n",
       "      <td>Dadra and Nagar Haveli and Daman and Diu, India</td>\n",
       "      <td>3040</td>\n",
       "      <td>2</td>\n",
       "      <td>2929.0</td>\n",
       "      <td>109.0</td>\n",
       "    </tr>\n",
       "    <tr>\n",
       "      <th>8</th>\n",
       "      <td>Unknown</td>\n",
       "      <td>Delhi</td>\n",
       "      <td>India</td>\n",
       "      <td>2020-10-01T04:23:42+00:00</td>\n",
       "      <td>Delhi, India</td>\n",
       "      <td>279715</td>\n",
       "      <td>5361</td>\n",
       "      <td>247446.0</td>\n",
       "      <td>26908.0</td>\n",
       "    </tr>\n",
       "    <tr>\n",
       "      <th>9</th>\n",
       "      <td>Unknown</td>\n",
       "      <td>Goa</td>\n",
       "      <td>India</td>\n",
       "      <td>2020-10-01T04:23:42+00:00</td>\n",
       "      <td>Goa, India</td>\n",
       "      <td>33418</td>\n",
       "      <td>428</td>\n",
       "      <td>28125.0</td>\n",
       "      <td>4865.0</td>\n",
       "    </tr>\n",
       "    <tr>\n",
       "      <th>10</th>\n",
       "      <td>Unknown</td>\n",
       "      <td>Gujarat</td>\n",
       "      <td>India</td>\n",
       "      <td>2020-10-01T04:23:42+00:00</td>\n",
       "      <td>Gujarat, India</td>\n",
       "      <td>137232</td>\n",
       "      <td>3450</td>\n",
       "      <td>117099.0</td>\n",
       "      <td>16683.0</td>\n",
       "    </tr>\n",
       "    <tr>\n",
       "      <th>11</th>\n",
       "      <td>Unknown</td>\n",
       "      <td>Haryana</td>\n",
       "      <td>India</td>\n",
       "      <td>2020-10-01T04:23:42+00:00</td>\n",
       "      <td>Haryana, India</td>\n",
       "      <td>128599</td>\n",
       "      <td>1382</td>\n",
       "      <td>112877.0</td>\n",
       "      <td>14340.0</td>\n",
       "    </tr>\n",
       "    <tr>\n",
       "      <th>12</th>\n",
       "      <td>Unknown</td>\n",
       "      <td>Himachal Pradesh</td>\n",
       "      <td>India</td>\n",
       "      <td>2020-10-01T04:23:42+00:00</td>\n",
       "      <td>Himachal Pradesh, India</td>\n",
       "      <td>14976</td>\n",
       "      <td>186</td>\n",
       "      <td>11390.0</td>\n",
       "      <td>3400.0</td>\n",
       "    </tr>\n",
       "    <tr>\n",
       "      <th>13</th>\n",
       "      <td>Unknown</td>\n",
       "      <td>Jammu and Kashmir</td>\n",
       "      <td>India</td>\n",
       "      <td>2020-10-01T04:23:42+00:00</td>\n",
       "      <td>Jammu and Kashmir, India</td>\n",
       "      <td>75070</td>\n",
       "      <td>1181</td>\n",
       "      <td>56872.0</td>\n",
       "      <td>17017.0</td>\n",
       "    </tr>\n",
       "    <tr>\n",
       "      <th>14</th>\n",
       "      <td>Unknown</td>\n",
       "      <td>Jharkhand</td>\n",
       "      <td>India</td>\n",
       "      <td>2020-10-01T04:23:42+00:00</td>\n",
       "      <td>Jharkhand, India</td>\n",
       "      <td>83651</td>\n",
       "      <td>713</td>\n",
       "      <td>71342.0</td>\n",
       "      <td>11596.0</td>\n",
       "    </tr>\n",
       "    <tr>\n",
       "      <th>15</th>\n",
       "      <td>Unknown</td>\n",
       "      <td>Karnataka</td>\n",
       "      <td>India</td>\n",
       "      <td>2020-10-01T04:23:42+00:00</td>\n",
       "      <td>Karnataka, India</td>\n",
       "      <td>601767</td>\n",
       "      <td>8864</td>\n",
       "      <td>485268.0</td>\n",
       "      <td>107635.0</td>\n",
       "    </tr>\n",
       "    <tr>\n",
       "      <th>16</th>\n",
       "      <td>Unknown</td>\n",
       "      <td>Kerala</td>\n",
       "      <td>India</td>\n",
       "      <td>2020-10-01T04:23:42+00:00</td>\n",
       "      <td>Kerala, India</td>\n",
       "      <td>196106</td>\n",
       "      <td>742</td>\n",
       "      <td>128224.0</td>\n",
       "      <td>67140.0</td>\n",
       "    </tr>\n",
       "    <tr>\n",
       "      <th>17</th>\n",
       "      <td>Unknown</td>\n",
       "      <td>Ladakh</td>\n",
       "      <td>India</td>\n",
       "      <td>2020-10-01T04:23:42+00:00</td>\n",
       "      <td>Ladakh, India</td>\n",
       "      <td>4269</td>\n",
       "      <td>58</td>\n",
       "      <td>3147.0</td>\n",
       "      <td>1064.0</td>\n",
       "    </tr>\n",
       "    <tr>\n",
       "      <th>18</th>\n",
       "      <td>Unknown</td>\n",
       "      <td>Lakshadweep</td>\n",
       "      <td>India</td>\n",
       "      <td>2020-10-01T04:23:42+00:00</td>\n",
       "      <td>Lakshadweep, India</td>\n",
       "      <td>0</td>\n",
       "      <td>0</td>\n",
       "      <td>NaN</td>\n",
       "      <td>NaN</td>\n",
       "    </tr>\n",
       "    <tr>\n",
       "      <th>19</th>\n",
       "      <td>Unknown</td>\n",
       "      <td>Madhya Pradesh</td>\n",
       "      <td>India</td>\n",
       "      <td>2020-10-01T04:23:42+00:00</td>\n",
       "      <td>Madhya Pradesh, India</td>\n",
       "      <td>128047</td>\n",
       "      <td>2316</td>\n",
       "      <td>104734.0</td>\n",
       "      <td>20997.0</td>\n",
       "    </tr>\n",
       "    <tr>\n",
       "      <th>20</th>\n",
       "      <td>Unknown</td>\n",
       "      <td>Maharashtra</td>\n",
       "      <td>India</td>\n",
       "      <td>2020-10-01T04:23:42+00:00</td>\n",
       "      <td>Maharashtra, India</td>\n",
       "      <td>1384446</td>\n",
       "      <td>36662</td>\n",
       "      <td>1088322.0</td>\n",
       "      <td>259462.0</td>\n",
       "    </tr>\n",
       "    <tr>\n",
       "      <th>21</th>\n",
       "      <td>Unknown</td>\n",
       "      <td>Manipur</td>\n",
       "      <td>India</td>\n",
       "      <td>2020-10-01T04:23:42+00:00</td>\n",
       "      <td>Manipur, India</td>\n",
       "      <td>10983</td>\n",
       "      <td>67</td>\n",
       "      <td>8460.0</td>\n",
       "      <td>2456.0</td>\n",
       "    </tr>\n",
       "    <tr>\n",
       "      <th>22</th>\n",
       "      <td>Unknown</td>\n",
       "      <td>Meghalaya</td>\n",
       "      <td>India</td>\n",
       "      <td>2020-10-01T04:23:42+00:00</td>\n",
       "      <td>Meghalaya, India</td>\n",
       "      <td>5639</td>\n",
       "      <td>49</td>\n",
       "      <td>3975.0</td>\n",
       "      <td>1615.0</td>\n",
       "    </tr>\n",
       "    <tr>\n",
       "      <th>23</th>\n",
       "      <td>Unknown</td>\n",
       "      <td>Mizoram</td>\n",
       "      <td>India</td>\n",
       "      <td>2020-10-01T04:23:42+00:00</td>\n",
       "      <td>Mizoram, India</td>\n",
       "      <td>2017</td>\n",
       "      <td>0</td>\n",
       "      <td>1597.0</td>\n",
       "      <td>420.0</td>\n",
       "    </tr>\n",
       "    <tr>\n",
       "      <th>24</th>\n",
       "      <td>Unknown</td>\n",
       "      <td>Nagaland</td>\n",
       "      <td>India</td>\n",
       "      <td>2020-10-01T04:23:42+00:00</td>\n",
       "      <td>Nagaland, India</td>\n",
       "      <td>6163</td>\n",
       "      <td>17</td>\n",
       "      <td>5066.0</td>\n",
       "      <td>1080.0</td>\n",
       "    </tr>\n",
       "    <tr>\n",
       "      <th>25</th>\n",
       "      <td>Unknown</td>\n",
       "      <td>Odisha</td>\n",
       "      <td>India</td>\n",
       "      <td>2020-10-01T04:23:42+00:00</td>\n",
       "      <td>Odisha, India</td>\n",
       "      <td>219119</td>\n",
       "      <td>842</td>\n",
       "      <td>185700.0</td>\n",
       "      <td>32577.0</td>\n",
       "    </tr>\n",
       "    <tr>\n",
       "      <th>26</th>\n",
       "      <td>Unknown</td>\n",
       "      <td>Puducherry</td>\n",
       "      <td>India</td>\n",
       "      <td>2020-10-01T04:23:42+00:00</td>\n",
       "      <td>Puducherry, India</td>\n",
       "      <td>27544</td>\n",
       "      <td>521</td>\n",
       "      <td>22074.0</td>\n",
       "      <td>4949.0</td>\n",
       "    </tr>\n",
       "    <tr>\n",
       "      <th>27</th>\n",
       "      <td>Unknown</td>\n",
       "      <td>Punjab</td>\n",
       "      <td>India</td>\n",
       "      <td>2020-10-01T04:23:42+00:00</td>\n",
       "      <td>Punjab, India</td>\n",
       "      <td>113886</td>\n",
       "      <td>3406</td>\n",
       "      <td>93666.0</td>\n",
       "      <td>16814.0</td>\n",
       "    </tr>\n",
       "    <tr>\n",
       "      <th>28</th>\n",
       "      <td>Unknown</td>\n",
       "      <td>Rajasthan</td>\n",
       "      <td>India</td>\n",
       "      <td>2020-10-01T04:23:42+00:00</td>\n",
       "      <td>Rajasthan, India</td>\n",
       "      <td>135292</td>\n",
       "      <td>1486</td>\n",
       "      <td>113225.0</td>\n",
       "      <td>20581.0</td>\n",
       "    </tr>\n",
       "    <tr>\n",
       "      <th>29</th>\n",
       "      <td>Unknown</td>\n",
       "      <td>Sikkim</td>\n",
       "      <td>India</td>\n",
       "      <td>2020-10-01T04:23:42+00:00</td>\n",
       "      <td>Sikkim, India</td>\n",
       "      <td>3012</td>\n",
       "      <td>37</td>\n",
       "      <td>2303.0</td>\n",
       "      <td>672.0</td>\n",
       "    </tr>\n",
       "    <tr>\n",
       "      <th>30</th>\n",
       "      <td>Unknown</td>\n",
       "      <td>Tamil Nadu</td>\n",
       "      <td>India</td>\n",
       "      <td>2020-10-01T04:23:42+00:00</td>\n",
       "      <td>Tamil Nadu, India</td>\n",
       "      <td>597602</td>\n",
       "      <td>9520</td>\n",
       "      <td>541819.0</td>\n",
       "      <td>46263.0</td>\n",
       "    </tr>\n",
       "    <tr>\n",
       "      <th>31</th>\n",
       "      <td>Unknown</td>\n",
       "      <td>Telangana</td>\n",
       "      <td>India</td>\n",
       "      <td>2020-10-01T04:23:42+00:00</td>\n",
       "      <td>Telangana, India</td>\n",
       "      <td>193600</td>\n",
       "      <td>1135</td>\n",
       "      <td>163407.0</td>\n",
       "      <td>29058.0</td>\n",
       "    </tr>\n",
       "    <tr>\n",
       "      <th>32</th>\n",
       "      <td>Unknown</td>\n",
       "      <td>Tripura</td>\n",
       "      <td>India</td>\n",
       "      <td>2020-10-01T04:23:42+00:00</td>\n",
       "      <td>Tripura, India</td>\n",
       "      <td>26066</td>\n",
       "      <td>283</td>\n",
       "      <td>20092.0</td>\n",
       "      <td>5691.0</td>\n",
       "    </tr>\n",
       "    <tr>\n",
       "      <th>33</th>\n",
       "      <td>Unknown</td>\n",
       "      <td>Unknown</td>\n",
       "      <td>India</td>\n",
       "      <td>2020-10-01T04:23:42+00:00</td>\n",
       "      <td>Unknown, India</td>\n",
       "      <td>0</td>\n",
       "      <td>0</td>\n",
       "      <td>NaN</td>\n",
       "      <td>NaN</td>\n",
       "    </tr>\n",
       "    <tr>\n",
       "      <th>34</th>\n",
       "      <td>Unknown</td>\n",
       "      <td>Uttar Pradesh</td>\n",
       "      <td>India</td>\n",
       "      <td>2020-10-01T04:23:42+00:00</td>\n",
       "      <td>Uttar Pradesh, India</td>\n",
       "      <td>399082</td>\n",
       "      <td>5784</td>\n",
       "      <td>342415.0</td>\n",
       "      <td>50883.0</td>\n",
       "    </tr>\n",
       "    <tr>\n",
       "      <th>35</th>\n",
       "      <td>Unknown</td>\n",
       "      <td>Uttarakhand</td>\n",
       "      <td>India</td>\n",
       "      <td>2020-10-01T04:23:42+00:00</td>\n",
       "      <td>Uttarakhand, India</td>\n",
       "      <td>49000</td>\n",
       "      <td>611</td>\n",
       "      <td>39278.0</td>\n",
       "      <td>9111.0</td>\n",
       "    </tr>\n",
       "    <tr>\n",
       "      <th>36</th>\n",
       "      <td>Unknown</td>\n",
       "      <td>West Bengal</td>\n",
       "      <td>India</td>\n",
       "      <td>2020-10-01T04:23:42+00:00</td>\n",
       "      <td>West Bengal, India</td>\n",
       "      <td>257049</td>\n",
       "      <td>4958</td>\n",
       "      <td>225759.0</td>\n",
       "      <td>26332.0</td>\n",
       "    </tr>\n",
       "  </tbody>\n",
       "</table>\n",
       "</div>"
      ],
      "text/plain": [
       "       city                                  province country  \\\n",
       "0   Unknown               Andaman and Nicobar Islands   India   \n",
       "1   Unknown                            Andhra Pradesh   India   \n",
       "2   Unknown                         Arunachal Pradesh   India   \n",
       "3   Unknown                                     Assam   India   \n",
       "4   Unknown                                     Bihar   India   \n",
       "5   Unknown                                Chandigarh   India   \n",
       "6   Unknown                              Chhattisgarh   India   \n",
       "7   Unknown  Dadra and Nagar Haveli and Daman and Diu   India   \n",
       "8   Unknown                                     Delhi   India   \n",
       "9   Unknown                                       Goa   India   \n",
       "10  Unknown                                   Gujarat   India   \n",
       "11  Unknown                                   Haryana   India   \n",
       "12  Unknown                          Himachal Pradesh   India   \n",
       "13  Unknown                         Jammu and Kashmir   India   \n",
       "14  Unknown                                 Jharkhand   India   \n",
       "15  Unknown                                 Karnataka   India   \n",
       "16  Unknown                                    Kerala   India   \n",
       "17  Unknown                                    Ladakh   India   \n",
       "18  Unknown                               Lakshadweep   India   \n",
       "19  Unknown                            Madhya Pradesh   India   \n",
       "20  Unknown                               Maharashtra   India   \n",
       "21  Unknown                                   Manipur   India   \n",
       "22  Unknown                                 Meghalaya   India   \n",
       "23  Unknown                                   Mizoram   India   \n",
       "24  Unknown                                  Nagaland   India   \n",
       "25  Unknown                                    Odisha   India   \n",
       "26  Unknown                                Puducherry   India   \n",
       "27  Unknown                                    Punjab   India   \n",
       "28  Unknown                                 Rajasthan   India   \n",
       "29  Unknown                                    Sikkim   India   \n",
       "30  Unknown                                Tamil Nadu   India   \n",
       "31  Unknown                                 Telangana   India   \n",
       "32  Unknown                                   Tripura   India   \n",
       "33  Unknown                                   Unknown   India   \n",
       "34  Unknown                             Uttar Pradesh   India   \n",
       "35  Unknown                               Uttarakhand   India   \n",
       "36  Unknown                               West Bengal   India   \n",
       "\n",
       "                   lastUpdate  \\\n",
       "0   2020-10-01T04:23:42+00:00   \n",
       "1   2020-10-01T04:23:42+00:00   \n",
       "2   2020-10-01T04:23:42+00:00   \n",
       "3   2020-10-01T04:23:42+00:00   \n",
       "4   2020-10-01T04:23:42+00:00   \n",
       "5   2020-10-01T04:23:42+00:00   \n",
       "6   2020-10-01T04:23:42+00:00   \n",
       "7   2020-10-01T04:23:42+00:00   \n",
       "8   2020-10-01T04:23:42+00:00   \n",
       "9   2020-10-01T04:23:42+00:00   \n",
       "10  2020-10-01T04:23:42+00:00   \n",
       "11  2020-10-01T04:23:42+00:00   \n",
       "12  2020-10-01T04:23:42+00:00   \n",
       "13  2020-10-01T04:23:42+00:00   \n",
       "14  2020-10-01T04:23:42+00:00   \n",
       "15  2020-10-01T04:23:42+00:00   \n",
       "16  2020-10-01T04:23:42+00:00   \n",
       "17  2020-10-01T04:23:42+00:00   \n",
       "18  2020-10-01T04:23:42+00:00   \n",
       "19  2020-10-01T04:23:42+00:00   \n",
       "20  2020-10-01T04:23:42+00:00   \n",
       "21  2020-10-01T04:23:42+00:00   \n",
       "22  2020-10-01T04:23:42+00:00   \n",
       "23  2020-10-01T04:23:42+00:00   \n",
       "24  2020-10-01T04:23:42+00:00   \n",
       "25  2020-10-01T04:23:42+00:00   \n",
       "26  2020-10-01T04:23:42+00:00   \n",
       "27  2020-10-01T04:23:42+00:00   \n",
       "28  2020-10-01T04:23:42+00:00   \n",
       "29  2020-10-01T04:23:42+00:00   \n",
       "30  2020-10-01T04:23:42+00:00   \n",
       "31  2020-10-01T04:23:42+00:00   \n",
       "32  2020-10-01T04:23:42+00:00   \n",
       "33  2020-10-01T04:23:42+00:00   \n",
       "34  2020-10-01T04:23:42+00:00   \n",
       "35  2020-10-01T04:23:42+00:00   \n",
       "36  2020-10-01T04:23:42+00:00   \n",
       "\n",
       "                                              keyId  confirmed  deaths  \\\n",
       "0                Andaman and Nicobar Islands, India       3835      53   \n",
       "1                             Andhra Pradesh, India     693484    5828   \n",
       "2                          Arunachal Pradesh, India       9796      16   \n",
       "3                                      Assam, India     180811     697   \n",
       "4                                      Bihar, India     182728     904   \n",
       "5                                 Chandigarh, India      11938     162   \n",
       "6                               Chhattisgarh, India     113602     957   \n",
       "7   Dadra and Nagar Haveli and Daman and Diu, India       3040       2   \n",
       "8                                      Delhi, India     279715    5361   \n",
       "9                                        Goa, India      33418     428   \n",
       "10                                   Gujarat, India     137232    3450   \n",
       "11                                   Haryana, India     128599    1382   \n",
       "12                          Himachal Pradesh, India      14976     186   \n",
       "13                         Jammu and Kashmir, India      75070    1181   \n",
       "14                                 Jharkhand, India      83651     713   \n",
       "15                                 Karnataka, India     601767    8864   \n",
       "16                                    Kerala, India     196106     742   \n",
       "17                                    Ladakh, India       4269      58   \n",
       "18                               Lakshadweep, India          0       0   \n",
       "19                            Madhya Pradesh, India     128047    2316   \n",
       "20                               Maharashtra, India    1384446   36662   \n",
       "21                                   Manipur, India      10983      67   \n",
       "22                                 Meghalaya, India       5639      49   \n",
       "23                                   Mizoram, India       2017       0   \n",
       "24                                  Nagaland, India       6163      17   \n",
       "25                                    Odisha, India     219119     842   \n",
       "26                                Puducherry, India      27544     521   \n",
       "27                                    Punjab, India     113886    3406   \n",
       "28                                 Rajasthan, India     135292    1486   \n",
       "29                                    Sikkim, India       3012      37   \n",
       "30                                Tamil Nadu, India     597602    9520   \n",
       "31                                 Telangana, India     193600    1135   \n",
       "32                                   Tripura, India      26066     283   \n",
       "33                                   Unknown, India          0       0   \n",
       "34                             Uttar Pradesh, India     399082    5784   \n",
       "35                               Uttarakhand, India      49000     611   \n",
       "36                               West Bengal, India     257049    4958   \n",
       "\n",
       "    recovered    Active  \n",
       "0      3608.0     174.0  \n",
       "1    629211.0   58445.0  \n",
       "2      6890.0    2890.0  \n",
       "3    145618.0   34496.0  \n",
       "4    169732.0   12092.0  \n",
       "5      9813.0    1963.0  \n",
       "6     81718.0   30927.0  \n",
       "7      2929.0     109.0  \n",
       "8    247446.0   26908.0  \n",
       "9     28125.0    4865.0  \n",
       "10   117099.0   16683.0  \n",
       "11   112877.0   14340.0  \n",
       "12    11390.0    3400.0  \n",
       "13    56872.0   17017.0  \n",
       "14    71342.0   11596.0  \n",
       "15   485268.0  107635.0  \n",
       "16   128224.0   67140.0  \n",
       "17     3147.0    1064.0  \n",
       "18        NaN       NaN  \n",
       "19   104734.0   20997.0  \n",
       "20  1088322.0  259462.0  \n",
       "21     8460.0    2456.0  \n",
       "22     3975.0    1615.0  \n",
       "23     1597.0     420.0  \n",
       "24     5066.0    1080.0  \n",
       "25   185700.0   32577.0  \n",
       "26    22074.0    4949.0  \n",
       "27    93666.0   16814.0  \n",
       "28   113225.0   20581.0  \n",
       "29     2303.0     672.0  \n",
       "30   541819.0   46263.0  \n",
       "31   163407.0   29058.0  \n",
       "32    20092.0    5691.0  \n",
       "33        NaN       NaN  \n",
       "34   342415.0   50883.0  \n",
       "35    39278.0    9111.0  \n",
       "36   225759.0   26332.0  "
      ]
     },
     "execution_count": 49,
     "metadata": {},
     "output_type": "execute_result"
    }
   ],
   "source": [
    "#สนใจจำนวนยอดผู้ติดเชื้อในอินเดีย เนื่องจากเป็นประเทศที่อยู่ในทวีปเอเชียและมียอดผู้ติดเชื้อมากทีุ่ด\n",
    "Data_ID = df[(df['country'] == 'India') ].reset_index(drop=True)\n",
    "Data_ID\n"
   ]
  },
  {
   "cell_type": "code",
   "execution_count": 50,
   "metadata": {
    "colab": {
     "base_uri": "https://localhost:8080/",
     "height": 1000
    },
    "id": "Q3rWOjK5rYmH",
    "outputId": "9caf6553-5545-4734-d8f2-2a14c8fe578a"
   },
   "outputs": [
    {
     "data": {
      "text/html": [
       "<div>\n",
       "<style scoped>\n",
       "    .dataframe tbody tr th:only-of-type {\n",
       "        vertical-align: middle;\n",
       "    }\n",
       "\n",
       "    .dataframe tbody tr th {\n",
       "        vertical-align: top;\n",
       "    }\n",
       "\n",
       "    .dataframe thead th {\n",
       "        text-align: right;\n",
       "    }\n",
       "</style>\n",
       "<table border=\"1\" class=\"dataframe\">\n",
       "  <thead>\n",
       "    <tr style=\"text-align: right;\">\n",
       "      <th></th>\n",
       "      <th>province</th>\n",
       "      <th>confirmed</th>\n",
       "      <th>recovered</th>\n",
       "      <th>deaths</th>\n",
       "    </tr>\n",
       "  </thead>\n",
       "  <tbody>\n",
       "    <tr>\n",
       "      <th>0</th>\n",
       "      <td>Maharashtra</td>\n",
       "      <td>1384446</td>\n",
       "      <td>1088322.0</td>\n",
       "      <td>36662</td>\n",
       "    </tr>\n",
       "    <tr>\n",
       "      <th>1</th>\n",
       "      <td>Andhra Pradesh</td>\n",
       "      <td>693484</td>\n",
       "      <td>629211.0</td>\n",
       "      <td>5828</td>\n",
       "    </tr>\n",
       "    <tr>\n",
       "      <th>2</th>\n",
       "      <td>Karnataka</td>\n",
       "      <td>601767</td>\n",
       "      <td>485268.0</td>\n",
       "      <td>8864</td>\n",
       "    </tr>\n",
       "    <tr>\n",
       "      <th>3</th>\n",
       "      <td>Tamil Nadu</td>\n",
       "      <td>597602</td>\n",
       "      <td>541819.0</td>\n",
       "      <td>9520</td>\n",
       "    </tr>\n",
       "    <tr>\n",
       "      <th>4</th>\n",
       "      <td>Uttar Pradesh</td>\n",
       "      <td>399082</td>\n",
       "      <td>342415.0</td>\n",
       "      <td>5784</td>\n",
       "    </tr>\n",
       "    <tr>\n",
       "      <th>5</th>\n",
       "      <td>Delhi</td>\n",
       "      <td>279715</td>\n",
       "      <td>247446.0</td>\n",
       "      <td>5361</td>\n",
       "    </tr>\n",
       "    <tr>\n",
       "      <th>6</th>\n",
       "      <td>West Bengal</td>\n",
       "      <td>257049</td>\n",
       "      <td>225759.0</td>\n",
       "      <td>4958</td>\n",
       "    </tr>\n",
       "    <tr>\n",
       "      <th>7</th>\n",
       "      <td>Odisha</td>\n",
       "      <td>219119</td>\n",
       "      <td>185700.0</td>\n",
       "      <td>842</td>\n",
       "    </tr>\n",
       "    <tr>\n",
       "      <th>8</th>\n",
       "      <td>Kerala</td>\n",
       "      <td>196106</td>\n",
       "      <td>128224.0</td>\n",
       "      <td>742</td>\n",
       "    </tr>\n",
       "    <tr>\n",
       "      <th>9</th>\n",
       "      <td>Telangana</td>\n",
       "      <td>193600</td>\n",
       "      <td>163407.0</td>\n",
       "      <td>1135</td>\n",
       "    </tr>\n",
       "    <tr>\n",
       "      <th>10</th>\n",
       "      <td>Bihar</td>\n",
       "      <td>182728</td>\n",
       "      <td>169732.0</td>\n",
       "      <td>904</td>\n",
       "    </tr>\n",
       "    <tr>\n",
       "      <th>11</th>\n",
       "      <td>Assam</td>\n",
       "      <td>180811</td>\n",
       "      <td>145618.0</td>\n",
       "      <td>697</td>\n",
       "    </tr>\n",
       "    <tr>\n",
       "      <th>12</th>\n",
       "      <td>Gujarat</td>\n",
       "      <td>137232</td>\n",
       "      <td>117099.0</td>\n",
       "      <td>3450</td>\n",
       "    </tr>\n",
       "    <tr>\n",
       "      <th>13</th>\n",
       "      <td>Rajasthan</td>\n",
       "      <td>135292</td>\n",
       "      <td>113225.0</td>\n",
       "      <td>1486</td>\n",
       "    </tr>\n",
       "    <tr>\n",
       "      <th>14</th>\n",
       "      <td>Haryana</td>\n",
       "      <td>128599</td>\n",
       "      <td>112877.0</td>\n",
       "      <td>1382</td>\n",
       "    </tr>\n",
       "    <tr>\n",
       "      <th>15</th>\n",
       "      <td>Madhya Pradesh</td>\n",
       "      <td>128047</td>\n",
       "      <td>104734.0</td>\n",
       "      <td>2316</td>\n",
       "    </tr>\n",
       "    <tr>\n",
       "      <th>16</th>\n",
       "      <td>Punjab</td>\n",
       "      <td>113886</td>\n",
       "      <td>93666.0</td>\n",
       "      <td>3406</td>\n",
       "    </tr>\n",
       "    <tr>\n",
       "      <th>17</th>\n",
       "      <td>Chhattisgarh</td>\n",
       "      <td>113602</td>\n",
       "      <td>81718.0</td>\n",
       "      <td>957</td>\n",
       "    </tr>\n",
       "    <tr>\n",
       "      <th>18</th>\n",
       "      <td>Jharkhand</td>\n",
       "      <td>83651</td>\n",
       "      <td>71342.0</td>\n",
       "      <td>713</td>\n",
       "    </tr>\n",
       "    <tr>\n",
       "      <th>19</th>\n",
       "      <td>Jammu and Kashmir</td>\n",
       "      <td>75070</td>\n",
       "      <td>56872.0</td>\n",
       "      <td>1181</td>\n",
       "    </tr>\n",
       "    <tr>\n",
       "      <th>20</th>\n",
       "      <td>Uttarakhand</td>\n",
       "      <td>49000</td>\n",
       "      <td>39278.0</td>\n",
       "      <td>611</td>\n",
       "    </tr>\n",
       "    <tr>\n",
       "      <th>21</th>\n",
       "      <td>Goa</td>\n",
       "      <td>33418</td>\n",
       "      <td>28125.0</td>\n",
       "      <td>428</td>\n",
       "    </tr>\n",
       "    <tr>\n",
       "      <th>22</th>\n",
       "      <td>Puducherry</td>\n",
       "      <td>27544</td>\n",
       "      <td>22074.0</td>\n",
       "      <td>521</td>\n",
       "    </tr>\n",
       "    <tr>\n",
       "      <th>23</th>\n",
       "      <td>Tripura</td>\n",
       "      <td>26066</td>\n",
       "      <td>20092.0</td>\n",
       "      <td>283</td>\n",
       "    </tr>\n",
       "    <tr>\n",
       "      <th>24</th>\n",
       "      <td>Himachal Pradesh</td>\n",
       "      <td>14976</td>\n",
       "      <td>11390.0</td>\n",
       "      <td>186</td>\n",
       "    </tr>\n",
       "    <tr>\n",
       "      <th>25</th>\n",
       "      <td>Chandigarh</td>\n",
       "      <td>11938</td>\n",
       "      <td>9813.0</td>\n",
       "      <td>162</td>\n",
       "    </tr>\n",
       "    <tr>\n",
       "      <th>26</th>\n",
       "      <td>Manipur</td>\n",
       "      <td>10983</td>\n",
       "      <td>8460.0</td>\n",
       "      <td>67</td>\n",
       "    </tr>\n",
       "    <tr>\n",
       "      <th>27</th>\n",
       "      <td>Arunachal Pradesh</td>\n",
       "      <td>9796</td>\n",
       "      <td>6890.0</td>\n",
       "      <td>16</td>\n",
       "    </tr>\n",
       "    <tr>\n",
       "      <th>28</th>\n",
       "      <td>Nagaland</td>\n",
       "      <td>6163</td>\n",
       "      <td>5066.0</td>\n",
       "      <td>17</td>\n",
       "    </tr>\n",
       "    <tr>\n",
       "      <th>29</th>\n",
       "      <td>Meghalaya</td>\n",
       "      <td>5639</td>\n",
       "      <td>3975.0</td>\n",
       "      <td>49</td>\n",
       "    </tr>\n",
       "    <tr>\n",
       "      <th>30</th>\n",
       "      <td>Ladakh</td>\n",
       "      <td>4269</td>\n",
       "      <td>3147.0</td>\n",
       "      <td>58</td>\n",
       "    </tr>\n",
       "    <tr>\n",
       "      <th>31</th>\n",
       "      <td>Andaman and Nicobar Islands</td>\n",
       "      <td>3835</td>\n",
       "      <td>3608.0</td>\n",
       "      <td>53</td>\n",
       "    </tr>\n",
       "    <tr>\n",
       "      <th>32</th>\n",
       "      <td>Dadra and Nagar Haveli and Daman and Diu</td>\n",
       "      <td>3040</td>\n",
       "      <td>2929.0</td>\n",
       "      <td>2</td>\n",
       "    </tr>\n",
       "    <tr>\n",
       "      <th>33</th>\n",
       "      <td>Sikkim</td>\n",
       "      <td>3012</td>\n",
       "      <td>2303.0</td>\n",
       "      <td>37</td>\n",
       "    </tr>\n",
       "    <tr>\n",
       "      <th>34</th>\n",
       "      <td>Mizoram</td>\n",
       "      <td>2017</td>\n",
       "      <td>1597.0</td>\n",
       "      <td>0</td>\n",
       "    </tr>\n",
       "    <tr>\n",
       "      <th>35</th>\n",
       "      <td>Unknown</td>\n",
       "      <td>0</td>\n",
       "      <td>0.0</td>\n",
       "      <td>0</td>\n",
       "    </tr>\n",
       "    <tr>\n",
       "      <th>36</th>\n",
       "      <td>Lakshadweep</td>\n",
       "      <td>0</td>\n",
       "      <td>0.0</td>\n",
       "      <td>0</td>\n",
       "    </tr>\n",
       "  </tbody>\n",
       "</table>\n",
       "</div>"
      ],
      "text/plain": [
       "                                    province  confirmed  recovered  deaths\n",
       "0                                Maharashtra    1384446  1088322.0   36662\n",
       "1                             Andhra Pradesh     693484   629211.0    5828\n",
       "2                                  Karnataka     601767   485268.0    8864\n",
       "3                                 Tamil Nadu     597602   541819.0    9520\n",
       "4                              Uttar Pradesh     399082   342415.0    5784\n",
       "5                                      Delhi     279715   247446.0    5361\n",
       "6                                West Bengal     257049   225759.0    4958\n",
       "7                                     Odisha     219119   185700.0     842\n",
       "8                                     Kerala     196106   128224.0     742\n",
       "9                                  Telangana     193600   163407.0    1135\n",
       "10                                     Bihar     182728   169732.0     904\n",
       "11                                     Assam     180811   145618.0     697\n",
       "12                                   Gujarat     137232   117099.0    3450\n",
       "13                                 Rajasthan     135292   113225.0    1486\n",
       "14                                   Haryana     128599   112877.0    1382\n",
       "15                            Madhya Pradesh     128047   104734.0    2316\n",
       "16                                    Punjab     113886    93666.0    3406\n",
       "17                              Chhattisgarh     113602    81718.0     957\n",
       "18                                 Jharkhand      83651    71342.0     713\n",
       "19                         Jammu and Kashmir      75070    56872.0    1181\n",
       "20                               Uttarakhand      49000    39278.0     611\n",
       "21                                       Goa      33418    28125.0     428\n",
       "22                                Puducherry      27544    22074.0     521\n",
       "23                                   Tripura      26066    20092.0     283\n",
       "24                          Himachal Pradesh      14976    11390.0     186\n",
       "25                                Chandigarh      11938     9813.0     162\n",
       "26                                   Manipur      10983     8460.0      67\n",
       "27                         Arunachal Pradesh       9796     6890.0      16\n",
       "28                                  Nagaland       6163     5066.0      17\n",
       "29                                 Meghalaya       5639     3975.0      49\n",
       "30                                    Ladakh       4269     3147.0      58\n",
       "31               Andaman and Nicobar Islands       3835     3608.0      53\n",
       "32  Dadra and Nagar Haveli and Daman and Diu       3040     2929.0       2\n",
       "33                                    Sikkim       3012     2303.0      37\n",
       "34                                   Mizoram       2017     1597.0       0\n",
       "35                                   Unknown          0        0.0       0\n",
       "36                               Lakshadweep          0        0.0       0"
      ]
     },
     "execution_count": 50,
     "metadata": {},
     "output_type": "execute_result"
    }
   ],
   "source": [
    "Data_id_state= Data_ID.groupby([\"province\"])[\"confirmed\",\"recovered\",\"deaths\"].sum().reset_index().sort_values(\"confirmed\",ascending=False).reset_index(drop=True)\n",
    "Data_id_state"
   ]
  },
  {
   "cell_type": "code",
   "execution_count": 26,
   "metadata": {
    "colab": {
     "base_uri": "https://localhost:8080/",
     "height": 542
    },
    "id": "Y_gJgSR3sLaQ",
    "outputId": "7087d889-ce17-4630-a78c-b18f6b3807c6"
   },
   "outputs": [
    {
     "data": {
      "application/vnd.plotly.v1+json": {
       "config": {
        "plotlyServerURL": "https://plot.ly"
       },
       "data": [
        {
         "domain": {
          "x": [
           0,
           1
          ],
          "y": [
           0,
           1
          ]
         },
         "hole": 0.5,
         "hovertemplate": "province=%{label}<br>confirmed=%{value}<extra></extra>",
         "labels": [
          "Maharashtra",
          "Andhra Pradesh",
          "Karnataka",
          "Tamil Nadu",
          "Uttar Pradesh",
          "Delhi",
          "West Bengal",
          "Odisha",
          "Telangana",
          "Kerala",
          "Bihar",
          "Assam",
          "Gujarat",
          "Rajasthan",
          "Haryana",
          "Madhya Pradesh",
          "Punjab",
          "Chhattisgarh",
          "Jharkhand",
          "Jammu and Kashmir",
          "Uttarakhand",
          "Goa",
          "Puducherry",
          "Tripura",
          "Himachal Pradesh",
          "Chandigarh",
          "Manipur",
          "Arunachal Pradesh",
          "Nagaland",
          "Meghalaya",
          "Ladakh",
          "Andaman and Nicobar Islands",
          "Dadra and Nagar Haveli and Daman and Diu",
          "Sikkim",
          "Mizoram",
          "Unknown",
          "Lakshadweep"
         ],
         "legendgroup": "",
         "name": "",
         "showlegend": true,
         "textinfo": "percent+label",
         "textposition": "inside",
         "type": "pie",
         "values": [
          1366129,
          687351,
          592911,
          591943,
          394856,
          276325,
          253768,
          215676,
          191386,
          187276,
          181285,
          177221,
          135842,
          133119,
          126974,
          126043,
          112460,
          110655,
          82540,
          74095,
          47995,
          32777,
          27066,
          25734,
          14747,
          11816,
          10746,
          9553,
          6040,
          5463,
          4195,
          3821,
          3032,
          2937,
          1986,
          0,
          0
         ]
        }
       ],
       "layout": {
        "legend": {
         "tracegroupgap": 0
        },
        "template": {
         "data": {
          "bar": [
           {
            "error_x": {
             "color": "#2a3f5f"
            },
            "error_y": {
             "color": "#2a3f5f"
            },
            "marker": {
             "line": {
              "color": "#E5ECF6",
              "width": 0.5
             }
            },
            "type": "bar"
           }
          ],
          "barpolar": [
           {
            "marker": {
             "line": {
              "color": "#E5ECF6",
              "width": 0.5
             }
            },
            "type": "barpolar"
           }
          ],
          "carpet": [
           {
            "aaxis": {
             "endlinecolor": "#2a3f5f",
             "gridcolor": "white",
             "linecolor": "white",
             "minorgridcolor": "white",
             "startlinecolor": "#2a3f5f"
            },
            "baxis": {
             "endlinecolor": "#2a3f5f",
             "gridcolor": "white",
             "linecolor": "white",
             "minorgridcolor": "white",
             "startlinecolor": "#2a3f5f"
            },
            "type": "carpet"
           }
          ],
          "choropleth": [
           {
            "colorbar": {
             "outlinewidth": 0,
             "ticks": ""
            },
            "type": "choropleth"
           }
          ],
          "contour": [
           {
            "colorbar": {
             "outlinewidth": 0,
             "ticks": ""
            },
            "colorscale": [
             [
              0,
              "#0d0887"
             ],
             [
              0.1111111111111111,
              "#46039f"
             ],
             [
              0.2222222222222222,
              "#7201a8"
             ],
             [
              0.3333333333333333,
              "#9c179e"
             ],
             [
              0.4444444444444444,
              "#bd3786"
             ],
             [
              0.5555555555555556,
              "#d8576b"
             ],
             [
              0.6666666666666666,
              "#ed7953"
             ],
             [
              0.7777777777777778,
              "#fb9f3a"
             ],
             [
              0.8888888888888888,
              "#fdca26"
             ],
             [
              1,
              "#f0f921"
             ]
            ],
            "type": "contour"
           }
          ],
          "contourcarpet": [
           {
            "colorbar": {
             "outlinewidth": 0,
             "ticks": ""
            },
            "type": "contourcarpet"
           }
          ],
          "heatmap": [
           {
            "colorbar": {
             "outlinewidth": 0,
             "ticks": ""
            },
            "colorscale": [
             [
              0,
              "#0d0887"
             ],
             [
              0.1111111111111111,
              "#46039f"
             ],
             [
              0.2222222222222222,
              "#7201a8"
             ],
             [
              0.3333333333333333,
              "#9c179e"
             ],
             [
              0.4444444444444444,
              "#bd3786"
             ],
             [
              0.5555555555555556,
              "#d8576b"
             ],
             [
              0.6666666666666666,
              "#ed7953"
             ],
             [
              0.7777777777777778,
              "#fb9f3a"
             ],
             [
              0.8888888888888888,
              "#fdca26"
             ],
             [
              1,
              "#f0f921"
             ]
            ],
            "type": "heatmap"
           }
          ],
          "heatmapgl": [
           {
            "colorbar": {
             "outlinewidth": 0,
             "ticks": ""
            },
            "colorscale": [
             [
              0,
              "#0d0887"
             ],
             [
              0.1111111111111111,
              "#46039f"
             ],
             [
              0.2222222222222222,
              "#7201a8"
             ],
             [
              0.3333333333333333,
              "#9c179e"
             ],
             [
              0.4444444444444444,
              "#bd3786"
             ],
             [
              0.5555555555555556,
              "#d8576b"
             ],
             [
              0.6666666666666666,
              "#ed7953"
             ],
             [
              0.7777777777777778,
              "#fb9f3a"
             ],
             [
              0.8888888888888888,
              "#fdca26"
             ],
             [
              1,
              "#f0f921"
             ]
            ],
            "type": "heatmapgl"
           }
          ],
          "histogram": [
           {
            "marker": {
             "colorbar": {
              "outlinewidth": 0,
              "ticks": ""
             }
            },
            "type": "histogram"
           }
          ],
          "histogram2d": [
           {
            "colorbar": {
             "outlinewidth": 0,
             "ticks": ""
            },
            "colorscale": [
             [
              0,
              "#0d0887"
             ],
             [
              0.1111111111111111,
              "#46039f"
             ],
             [
              0.2222222222222222,
              "#7201a8"
             ],
             [
              0.3333333333333333,
              "#9c179e"
             ],
             [
              0.4444444444444444,
              "#bd3786"
             ],
             [
              0.5555555555555556,
              "#d8576b"
             ],
             [
              0.6666666666666666,
              "#ed7953"
             ],
             [
              0.7777777777777778,
              "#fb9f3a"
             ],
             [
              0.8888888888888888,
              "#fdca26"
             ],
             [
              1,
              "#f0f921"
             ]
            ],
            "type": "histogram2d"
           }
          ],
          "histogram2dcontour": [
           {
            "colorbar": {
             "outlinewidth": 0,
             "ticks": ""
            },
            "colorscale": [
             [
              0,
              "#0d0887"
             ],
             [
              0.1111111111111111,
              "#46039f"
             ],
             [
              0.2222222222222222,
              "#7201a8"
             ],
             [
              0.3333333333333333,
              "#9c179e"
             ],
             [
              0.4444444444444444,
              "#bd3786"
             ],
             [
              0.5555555555555556,
              "#d8576b"
             ],
             [
              0.6666666666666666,
              "#ed7953"
             ],
             [
              0.7777777777777778,
              "#fb9f3a"
             ],
             [
              0.8888888888888888,
              "#fdca26"
             ],
             [
              1,
              "#f0f921"
             ]
            ],
            "type": "histogram2dcontour"
           }
          ],
          "mesh3d": [
           {
            "colorbar": {
             "outlinewidth": 0,
             "ticks": ""
            },
            "type": "mesh3d"
           }
          ],
          "parcoords": [
           {
            "line": {
             "colorbar": {
              "outlinewidth": 0,
              "ticks": ""
             }
            },
            "type": "parcoords"
           }
          ],
          "pie": [
           {
            "automargin": true,
            "type": "pie"
           }
          ],
          "scatter": [
           {
            "marker": {
             "colorbar": {
              "outlinewidth": 0,
              "ticks": ""
             }
            },
            "type": "scatter"
           }
          ],
          "scatter3d": [
           {
            "line": {
             "colorbar": {
              "outlinewidth": 0,
              "ticks": ""
             }
            },
            "marker": {
             "colorbar": {
              "outlinewidth": 0,
              "ticks": ""
             }
            },
            "type": "scatter3d"
           }
          ],
          "scattercarpet": [
           {
            "marker": {
             "colorbar": {
              "outlinewidth": 0,
              "ticks": ""
             }
            },
            "type": "scattercarpet"
           }
          ],
          "scattergeo": [
           {
            "marker": {
             "colorbar": {
              "outlinewidth": 0,
              "ticks": ""
             }
            },
            "type": "scattergeo"
           }
          ],
          "scattergl": [
           {
            "marker": {
             "colorbar": {
              "outlinewidth": 0,
              "ticks": ""
             }
            },
            "type": "scattergl"
           }
          ],
          "scattermapbox": [
           {
            "marker": {
             "colorbar": {
              "outlinewidth": 0,
              "ticks": ""
             }
            },
            "type": "scattermapbox"
           }
          ],
          "scatterpolar": [
           {
            "marker": {
             "colorbar": {
              "outlinewidth": 0,
              "ticks": ""
             }
            },
            "type": "scatterpolar"
           }
          ],
          "scatterpolargl": [
           {
            "marker": {
             "colorbar": {
              "outlinewidth": 0,
              "ticks": ""
             }
            },
            "type": "scatterpolargl"
           }
          ],
          "scatterternary": [
           {
            "marker": {
             "colorbar": {
              "outlinewidth": 0,
              "ticks": ""
             }
            },
            "type": "scatterternary"
           }
          ],
          "surface": [
           {
            "colorbar": {
             "outlinewidth": 0,
             "ticks": ""
            },
            "colorscale": [
             [
              0,
              "#0d0887"
             ],
             [
              0.1111111111111111,
              "#46039f"
             ],
             [
              0.2222222222222222,
              "#7201a8"
             ],
             [
              0.3333333333333333,
              "#9c179e"
             ],
             [
              0.4444444444444444,
              "#bd3786"
             ],
             [
              0.5555555555555556,
              "#d8576b"
             ],
             [
              0.6666666666666666,
              "#ed7953"
             ],
             [
              0.7777777777777778,
              "#fb9f3a"
             ],
             [
              0.8888888888888888,
              "#fdca26"
             ],
             [
              1,
              "#f0f921"
             ]
            ],
            "type": "surface"
           }
          ],
          "table": [
           {
            "cells": {
             "fill": {
              "color": "#EBF0F8"
             },
             "line": {
              "color": "white"
             }
            },
            "header": {
             "fill": {
              "color": "#C8D4E3"
             },
             "line": {
              "color": "white"
             }
            },
            "type": "table"
           }
          ]
         },
         "layout": {
          "annotationdefaults": {
           "arrowcolor": "#2a3f5f",
           "arrowhead": 0,
           "arrowwidth": 1
          },
          "coloraxis": {
           "colorbar": {
            "outlinewidth": 0,
            "ticks": ""
           }
          },
          "colorscale": {
           "diverging": [
            [
             0,
             "#8e0152"
            ],
            [
             0.1,
             "#c51b7d"
            ],
            [
             0.2,
             "#de77ae"
            ],
            [
             0.3,
             "#f1b6da"
            ],
            [
             0.4,
             "#fde0ef"
            ],
            [
             0.5,
             "#f7f7f7"
            ],
            [
             0.6,
             "#e6f5d0"
            ],
            [
             0.7,
             "#b8e186"
            ],
            [
             0.8,
             "#7fbc41"
            ],
            [
             0.9,
             "#4d9221"
            ],
            [
             1,
             "#276419"
            ]
           ],
           "sequential": [
            [
             0,
             "#0d0887"
            ],
            [
             0.1111111111111111,
             "#46039f"
            ],
            [
             0.2222222222222222,
             "#7201a8"
            ],
            [
             0.3333333333333333,
             "#9c179e"
            ],
            [
             0.4444444444444444,
             "#bd3786"
            ],
            [
             0.5555555555555556,
             "#d8576b"
            ],
            [
             0.6666666666666666,
             "#ed7953"
            ],
            [
             0.7777777777777778,
             "#fb9f3a"
            ],
            [
             0.8888888888888888,
             "#fdca26"
            ],
            [
             1,
             "#f0f921"
            ]
           ],
           "sequentialminus": [
            [
             0,
             "#0d0887"
            ],
            [
             0.1111111111111111,
             "#46039f"
            ],
            [
             0.2222222222222222,
             "#7201a8"
            ],
            [
             0.3333333333333333,
             "#9c179e"
            ],
            [
             0.4444444444444444,
             "#bd3786"
            ],
            [
             0.5555555555555556,
             "#d8576b"
            ],
            [
             0.6666666666666666,
             "#ed7953"
            ],
            [
             0.7777777777777778,
             "#fb9f3a"
            ],
            [
             0.8888888888888888,
             "#fdca26"
            ],
            [
             1,
             "#f0f921"
            ]
           ]
          },
          "colorway": [
           "#636efa",
           "#EF553B",
           "#00cc96",
           "#ab63fa",
           "#FFA15A",
           "#19d3f3",
           "#FF6692",
           "#B6E880",
           "#FF97FF",
           "#FECB52"
          ],
          "font": {
           "color": "#2a3f5f"
          },
          "geo": {
           "bgcolor": "white",
           "lakecolor": "white",
           "landcolor": "#E5ECF6",
           "showlakes": true,
           "showland": true,
           "subunitcolor": "white"
          },
          "hoverlabel": {
           "align": "left"
          },
          "hovermode": "closest",
          "mapbox": {
           "style": "light"
          },
          "paper_bgcolor": "white",
          "plot_bgcolor": "#E5ECF6",
          "polar": {
           "angularaxis": {
            "gridcolor": "white",
            "linecolor": "white",
            "ticks": ""
           },
           "bgcolor": "#E5ECF6",
           "radialaxis": {
            "gridcolor": "white",
            "linecolor": "white",
            "ticks": ""
           }
          },
          "scene": {
           "xaxis": {
            "backgroundcolor": "#E5ECF6",
            "gridcolor": "white",
            "gridwidth": 2,
            "linecolor": "white",
            "showbackground": true,
            "ticks": "",
            "zerolinecolor": "white"
           },
           "yaxis": {
            "backgroundcolor": "#E5ECF6",
            "gridcolor": "white",
            "gridwidth": 2,
            "linecolor": "white",
            "showbackground": true,
            "ticks": "",
            "zerolinecolor": "white"
           },
           "zaxis": {
            "backgroundcolor": "#E5ECF6",
            "gridcolor": "white",
            "gridwidth": 2,
            "linecolor": "white",
            "showbackground": true,
            "ticks": "",
            "zerolinecolor": "white"
           }
          },
          "shapedefaults": {
           "line": {
            "color": "#2a3f5f"
           }
          },
          "ternary": {
           "aaxis": {
            "gridcolor": "white",
            "linecolor": "white",
            "ticks": ""
           },
           "baxis": {
            "gridcolor": "white",
            "linecolor": "white",
            "ticks": ""
           },
           "bgcolor": "#E5ECF6",
           "caxis": {
            "gridcolor": "white",
            "linecolor": "white",
            "ticks": ""
           }
          },
          "title": {
           "x": 0.05
          },
          "xaxis": {
           "automargin": true,
           "gridcolor": "white",
           "linecolor": "white",
           "ticks": "",
           "title": {
            "standoff": 15
           },
           "zerolinecolor": "white",
           "zerolinewidth": 2
          },
          "yaxis": {
           "automargin": true,
           "gridcolor": "white",
           "linecolor": "white",
           "ticks": "",
           "title": {
            "standoff": 15
           },
           "zerolinecolor": "white",
           "zerolinewidth": 2
          }
         }
        },
        "title": {
         "text": "จำนวนผู้ติดเชื้อ covid-19 ในประเทศอินเดีย(แบ่งตามจังหวัด)"
        }
       }
      },
      "text/html": [
       "<div>                            <div id=\"73db820f-f325-4464-a5cf-0ba8eb901f1d\" class=\"plotly-graph-div\" style=\"height:525px; width:100%;\"></div>            <script type=\"text/javascript\">                require([\"plotly\"], function(Plotly) {                    window.PLOTLYENV=window.PLOTLYENV || {};                                    if (document.getElementById(\"73db820f-f325-4464-a5cf-0ba8eb901f1d\")) {                    Plotly.newPlot(                        \"73db820f-f325-4464-a5cf-0ba8eb901f1d\",                        [{\"domain\": {\"x\": [0.0, 1.0], \"y\": [0.0, 1.0]}, \"hole\": 0.5, \"hovertemplate\": \"province=%{label}<br>confirmed=%{value}<extra></extra>\", \"labels\": [\"Maharashtra\", \"Andhra Pradesh\", \"Karnataka\", \"Tamil Nadu\", \"Uttar Pradesh\", \"Delhi\", \"West Bengal\", \"Odisha\", \"Telangana\", \"Kerala\", \"Bihar\", \"Assam\", \"Gujarat\", \"Rajasthan\", \"Haryana\", \"Madhya Pradesh\", \"Punjab\", \"Chhattisgarh\", \"Jharkhand\", \"Jammu and Kashmir\", \"Uttarakhand\", \"Goa\", \"Puducherry\", \"Tripura\", \"Himachal Pradesh\", \"Chandigarh\", \"Manipur\", \"Arunachal Pradesh\", \"Nagaland\", \"Meghalaya\", \"Ladakh\", \"Andaman and Nicobar Islands\", \"Dadra and Nagar Haveli and Daman and Diu\", \"Sikkim\", \"Mizoram\", \"Unknown\", \"Lakshadweep\"], \"legendgroup\": \"\", \"name\": \"\", \"showlegend\": true, \"textinfo\": \"percent+label\", \"textposition\": \"inside\", \"type\": \"pie\", \"values\": [1366129, 687351, 592911, 591943, 394856, 276325, 253768, 215676, 191386, 187276, 181285, 177221, 135842, 133119, 126974, 126043, 112460, 110655, 82540, 74095, 47995, 32777, 27066, 25734, 14747, 11816, 10746, 9553, 6040, 5463, 4195, 3821, 3032, 2937, 1986, 0, 0]}],                        {\"legend\": {\"tracegroupgap\": 0}, \"template\": {\"data\": {\"bar\": [{\"error_x\": {\"color\": \"#2a3f5f\"}, \"error_y\": {\"color\": \"#2a3f5f\"}, \"marker\": {\"line\": {\"color\": \"#E5ECF6\", \"width\": 0.5}}, \"type\": \"bar\"}], \"barpolar\": [{\"marker\": {\"line\": {\"color\": \"#E5ECF6\", \"width\": 0.5}}, \"type\": \"barpolar\"}], \"carpet\": [{\"aaxis\": {\"endlinecolor\": \"#2a3f5f\", \"gridcolor\": \"white\", \"linecolor\": \"white\", \"minorgridcolor\": \"white\", \"startlinecolor\": \"#2a3f5f\"}, \"baxis\": {\"endlinecolor\": \"#2a3f5f\", \"gridcolor\": \"white\", \"linecolor\": \"white\", \"minorgridcolor\": \"white\", \"startlinecolor\": \"#2a3f5f\"}, \"type\": \"carpet\"}], \"choropleth\": [{\"colorbar\": {\"outlinewidth\": 0, \"ticks\": \"\"}, \"type\": \"choropleth\"}], \"contour\": [{\"colorbar\": {\"outlinewidth\": 0, \"ticks\": \"\"}, \"colorscale\": [[0.0, \"#0d0887\"], [0.1111111111111111, \"#46039f\"], [0.2222222222222222, \"#7201a8\"], [0.3333333333333333, \"#9c179e\"], [0.4444444444444444, \"#bd3786\"], [0.5555555555555556, \"#d8576b\"], [0.6666666666666666, \"#ed7953\"], [0.7777777777777778, \"#fb9f3a\"], [0.8888888888888888, \"#fdca26\"], [1.0, \"#f0f921\"]], \"type\": \"contour\"}], \"contourcarpet\": [{\"colorbar\": {\"outlinewidth\": 0, \"ticks\": \"\"}, \"type\": \"contourcarpet\"}], \"heatmap\": [{\"colorbar\": {\"outlinewidth\": 0, \"ticks\": \"\"}, \"colorscale\": [[0.0, \"#0d0887\"], [0.1111111111111111, \"#46039f\"], [0.2222222222222222, \"#7201a8\"], [0.3333333333333333, \"#9c179e\"], [0.4444444444444444, \"#bd3786\"], [0.5555555555555556, \"#d8576b\"], [0.6666666666666666, \"#ed7953\"], [0.7777777777777778, \"#fb9f3a\"], [0.8888888888888888, \"#fdca26\"], [1.0, \"#f0f921\"]], \"type\": \"heatmap\"}], \"heatmapgl\": [{\"colorbar\": {\"outlinewidth\": 0, \"ticks\": \"\"}, \"colorscale\": [[0.0, \"#0d0887\"], [0.1111111111111111, \"#46039f\"], [0.2222222222222222, \"#7201a8\"], [0.3333333333333333, \"#9c179e\"], [0.4444444444444444, \"#bd3786\"], [0.5555555555555556, \"#d8576b\"], [0.6666666666666666, \"#ed7953\"], [0.7777777777777778, \"#fb9f3a\"], [0.8888888888888888, \"#fdca26\"], [1.0, \"#f0f921\"]], \"type\": \"heatmapgl\"}], \"histogram\": [{\"marker\": {\"colorbar\": {\"outlinewidth\": 0, \"ticks\": \"\"}}, \"type\": \"histogram\"}], \"histogram2d\": [{\"colorbar\": {\"outlinewidth\": 0, \"ticks\": \"\"}, \"colorscale\": [[0.0, \"#0d0887\"], [0.1111111111111111, \"#46039f\"], [0.2222222222222222, \"#7201a8\"], [0.3333333333333333, \"#9c179e\"], [0.4444444444444444, \"#bd3786\"], [0.5555555555555556, \"#d8576b\"], [0.6666666666666666, \"#ed7953\"], [0.7777777777777778, \"#fb9f3a\"], [0.8888888888888888, \"#fdca26\"], [1.0, \"#f0f921\"]], \"type\": \"histogram2d\"}], \"histogram2dcontour\": [{\"colorbar\": {\"outlinewidth\": 0, \"ticks\": \"\"}, \"colorscale\": [[0.0, \"#0d0887\"], [0.1111111111111111, \"#46039f\"], [0.2222222222222222, \"#7201a8\"], [0.3333333333333333, \"#9c179e\"], [0.4444444444444444, \"#bd3786\"], [0.5555555555555556, \"#d8576b\"], [0.6666666666666666, \"#ed7953\"], [0.7777777777777778, \"#fb9f3a\"], [0.8888888888888888, \"#fdca26\"], [1.0, \"#f0f921\"]], \"type\": \"histogram2dcontour\"}], \"mesh3d\": [{\"colorbar\": {\"outlinewidth\": 0, \"ticks\": \"\"}, \"type\": \"mesh3d\"}], \"parcoords\": [{\"line\": {\"colorbar\": {\"outlinewidth\": 0, \"ticks\": \"\"}}, \"type\": \"parcoords\"}], \"pie\": [{\"automargin\": true, \"type\": \"pie\"}], \"scatter\": [{\"marker\": {\"colorbar\": {\"outlinewidth\": 0, \"ticks\": \"\"}}, \"type\": \"scatter\"}], \"scatter3d\": [{\"line\": {\"colorbar\": {\"outlinewidth\": 0, \"ticks\": \"\"}}, \"marker\": {\"colorbar\": {\"outlinewidth\": 0, \"ticks\": \"\"}}, \"type\": \"scatter3d\"}], \"scattercarpet\": [{\"marker\": {\"colorbar\": {\"outlinewidth\": 0, \"ticks\": \"\"}}, \"type\": \"scattercarpet\"}], \"scattergeo\": [{\"marker\": {\"colorbar\": {\"outlinewidth\": 0, \"ticks\": \"\"}}, \"type\": \"scattergeo\"}], \"scattergl\": [{\"marker\": {\"colorbar\": {\"outlinewidth\": 0, \"ticks\": \"\"}}, \"type\": \"scattergl\"}], \"scattermapbox\": [{\"marker\": {\"colorbar\": {\"outlinewidth\": 0, \"ticks\": \"\"}}, \"type\": \"scattermapbox\"}], \"scatterpolar\": [{\"marker\": {\"colorbar\": {\"outlinewidth\": 0, \"ticks\": \"\"}}, \"type\": \"scatterpolar\"}], \"scatterpolargl\": [{\"marker\": {\"colorbar\": {\"outlinewidth\": 0, \"ticks\": \"\"}}, \"type\": \"scatterpolargl\"}], \"scatterternary\": [{\"marker\": {\"colorbar\": {\"outlinewidth\": 0, \"ticks\": \"\"}}, \"type\": \"scatterternary\"}], \"surface\": [{\"colorbar\": {\"outlinewidth\": 0, \"ticks\": \"\"}, \"colorscale\": [[0.0, \"#0d0887\"], [0.1111111111111111, \"#46039f\"], [0.2222222222222222, \"#7201a8\"], [0.3333333333333333, \"#9c179e\"], [0.4444444444444444, \"#bd3786\"], [0.5555555555555556, \"#d8576b\"], [0.6666666666666666, \"#ed7953\"], [0.7777777777777778, \"#fb9f3a\"], [0.8888888888888888, \"#fdca26\"], [1.0, \"#f0f921\"]], \"type\": \"surface\"}], \"table\": [{\"cells\": {\"fill\": {\"color\": \"#EBF0F8\"}, \"line\": {\"color\": \"white\"}}, \"header\": {\"fill\": {\"color\": \"#C8D4E3\"}, \"line\": {\"color\": \"white\"}}, \"type\": \"table\"}]}, \"layout\": {\"annotationdefaults\": {\"arrowcolor\": \"#2a3f5f\", \"arrowhead\": 0, \"arrowwidth\": 1}, \"coloraxis\": {\"colorbar\": {\"outlinewidth\": 0, \"ticks\": \"\"}}, \"colorscale\": {\"diverging\": [[0, \"#8e0152\"], [0.1, \"#c51b7d\"], [0.2, \"#de77ae\"], [0.3, \"#f1b6da\"], [0.4, \"#fde0ef\"], [0.5, \"#f7f7f7\"], [0.6, \"#e6f5d0\"], [0.7, \"#b8e186\"], [0.8, \"#7fbc41\"], [0.9, \"#4d9221\"], [1, \"#276419\"]], \"sequential\": [[0.0, \"#0d0887\"], [0.1111111111111111, \"#46039f\"], [0.2222222222222222, \"#7201a8\"], [0.3333333333333333, \"#9c179e\"], [0.4444444444444444, \"#bd3786\"], [0.5555555555555556, \"#d8576b\"], [0.6666666666666666, \"#ed7953\"], [0.7777777777777778, \"#fb9f3a\"], [0.8888888888888888, \"#fdca26\"], [1.0, \"#f0f921\"]], \"sequentialminus\": [[0.0, \"#0d0887\"], [0.1111111111111111, \"#46039f\"], [0.2222222222222222, \"#7201a8\"], [0.3333333333333333, \"#9c179e\"], [0.4444444444444444, \"#bd3786\"], [0.5555555555555556, \"#d8576b\"], [0.6666666666666666, \"#ed7953\"], [0.7777777777777778, \"#fb9f3a\"], [0.8888888888888888, \"#fdca26\"], [1.0, \"#f0f921\"]]}, \"colorway\": [\"#636efa\", \"#EF553B\", \"#00cc96\", \"#ab63fa\", \"#FFA15A\", \"#19d3f3\", \"#FF6692\", \"#B6E880\", \"#FF97FF\", \"#FECB52\"], \"font\": {\"color\": \"#2a3f5f\"}, \"geo\": {\"bgcolor\": \"white\", \"lakecolor\": \"white\", \"landcolor\": \"#E5ECF6\", \"showlakes\": true, \"showland\": true, \"subunitcolor\": \"white\"}, \"hoverlabel\": {\"align\": \"left\"}, \"hovermode\": \"closest\", \"mapbox\": {\"style\": \"light\"}, \"paper_bgcolor\": \"white\", \"plot_bgcolor\": \"#E5ECF6\", \"polar\": {\"angularaxis\": {\"gridcolor\": \"white\", \"linecolor\": \"white\", \"ticks\": \"\"}, \"bgcolor\": \"#E5ECF6\", \"radialaxis\": {\"gridcolor\": \"white\", \"linecolor\": \"white\", \"ticks\": \"\"}}, \"scene\": {\"xaxis\": {\"backgroundcolor\": \"#E5ECF6\", \"gridcolor\": \"white\", \"gridwidth\": 2, \"linecolor\": \"white\", \"showbackground\": true, \"ticks\": \"\", \"zerolinecolor\": \"white\"}, \"yaxis\": {\"backgroundcolor\": \"#E5ECF6\", \"gridcolor\": \"white\", \"gridwidth\": 2, \"linecolor\": \"white\", \"showbackground\": true, \"ticks\": \"\", \"zerolinecolor\": \"white\"}, \"zaxis\": {\"backgroundcolor\": \"#E5ECF6\", \"gridcolor\": \"white\", \"gridwidth\": 2, \"linecolor\": \"white\", \"showbackground\": true, \"ticks\": \"\", \"zerolinecolor\": \"white\"}}, \"shapedefaults\": {\"line\": {\"color\": \"#2a3f5f\"}}, \"ternary\": {\"aaxis\": {\"gridcolor\": \"white\", \"linecolor\": \"white\", \"ticks\": \"\"}, \"baxis\": {\"gridcolor\": \"white\", \"linecolor\": \"white\", \"ticks\": \"\"}, \"bgcolor\": \"#E5ECF6\", \"caxis\": {\"gridcolor\": \"white\", \"linecolor\": \"white\", \"ticks\": \"\"}}, \"title\": {\"x\": 0.05}, \"xaxis\": {\"automargin\": true, \"gridcolor\": \"white\", \"linecolor\": \"white\", \"ticks\": \"\", \"title\": {\"standoff\": 15}, \"zerolinecolor\": \"white\", \"zerolinewidth\": 2}, \"yaxis\": {\"automargin\": true, \"gridcolor\": \"white\", \"linecolor\": \"white\", \"ticks\": \"\", \"title\": {\"standoff\": 15}, \"zerolinecolor\": \"white\", \"zerolinewidth\": 2}}}, \"title\": {\"text\": \"\\u0e08\\u0e33\\u0e19\\u0e27\\u0e19\\u0e1c\\u0e39\\u0e49\\u0e15\\u0e34\\u0e14\\u0e40\\u0e0a\\u0e37\\u0e49\\u0e2d covid-19 \\u0e43\\u0e19\\u0e1b\\u0e23\\u0e30\\u0e40\\u0e17\\u0e28\\u0e2d\\u0e34\\u0e19\\u0e40\\u0e14\\u0e35\\u0e22(\\u0e41\\u0e1a\\u0e48\\u0e07\\u0e15\\u0e32\\u0e21\\u0e08\\u0e31\\u0e07\\u0e2b\\u0e27\\u0e31\\u0e14)\"}},                        {\"responsive\": true}                    ).then(function(){\n",
       "                            \n",
       "var gd = document.getElementById('73db820f-f325-4464-a5cf-0ba8eb901f1d');\n",
       "var x = new MutationObserver(function (mutations, observer) {{\n",
       "        var display = window.getComputedStyle(gd).display;\n",
       "        if (!display || display === 'none') {{\n",
       "            console.log([gd, 'removed!']);\n",
       "            Plotly.purge(gd);\n",
       "            observer.disconnect();\n",
       "        }}\n",
       "}});\n",
       "\n",
       "// Listen for the removal of the full notebook cells\n",
       "var notebookContainer = gd.closest('#notebook-container');\n",
       "if (notebookContainer) {{\n",
       "    x.observe(notebookContainer, {childList: true});\n",
       "}}\n",
       "\n",
       "// Listen for the clearing of the current output cell\n",
       "var outputEl = gd.closest('.output');\n",
       "if (outputEl) {{\n",
       "    x.observe(outputEl, {childList: true});\n",
       "}}\n",
       "\n",
       "                        })                };                });            </script>        </div>"
      ]
     },
     "metadata": {},
     "output_type": "display_data"
    }
   ],
   "source": [
    "fig = px.pie(Data_id_state,values=Data_id_state['confirmed'], names=Data_id_state['province'],\n",
    "             title='จำนวนผู้ติดเชื้อ covid-19 ในประเทศอินเดีย(แบ่งตามจังหวัด)',\n",
    "            hole=0.5)\n",
    "fig.update_traces(textposition='inside', textinfo='percent+label')\n",
    "fig.show()"
   ]
  },
  {
   "cell_type": "code",
   "execution_count": 51,
   "metadata": {
    "id": "5A_DsvW46jPl"
   },
   "outputs": [
    {
     "data": {
      "text/html": [
       "<div>\n",
       "<style scoped>\n",
       "    .dataframe tbody tr th:only-of-type {\n",
       "        vertical-align: middle;\n",
       "    }\n",
       "\n",
       "    .dataframe tbody tr th {\n",
       "        vertical-align: top;\n",
       "    }\n",
       "\n",
       "    .dataframe thead th {\n",
       "        text-align: right;\n",
       "    }\n",
       "</style>\n",
       "<table border=\"1\" class=\"dataframe\">\n",
       "  <thead>\n",
       "    <tr style=\"text-align: right;\">\n",
       "      <th></th>\n",
       "      <th>city</th>\n",
       "      <th>province</th>\n",
       "      <th>country</th>\n",
       "      <th>lastUpdate</th>\n",
       "      <th>keyId</th>\n",
       "      <th>confirmed</th>\n",
       "      <th>deaths</th>\n",
       "      <th>recovered</th>\n",
       "      <th>Active</th>\n",
       "    </tr>\n",
       "  </thead>\n",
       "  <tbody>\n",
       "    <tr>\n",
       "      <th>0</th>\n",
       "      <td>Unknown</td>\n",
       "      <td>Acre</td>\n",
       "      <td>Brazil</td>\n",
       "      <td>2020-10-01T04:23:42+00:00</td>\n",
       "      <td>Acre, Brazil</td>\n",
       "      <td>28222</td>\n",
       "      <td>659</td>\n",
       "      <td>25041.0</td>\n",
       "      <td>2522.0</td>\n",
       "    </tr>\n",
       "    <tr>\n",
       "      <th>1</th>\n",
       "      <td>Unknown</td>\n",
       "      <td>Alagoas</td>\n",
       "      <td>Brazil</td>\n",
       "      <td>2020-10-01T04:23:42+00:00</td>\n",
       "      <td>Alagoas, Brazil</td>\n",
       "      <td>86879</td>\n",
       "      <td>2072</td>\n",
       "      <td>83608.0</td>\n",
       "      <td>1199.0</td>\n",
       "    </tr>\n",
       "    <tr>\n",
       "      <th>2</th>\n",
       "      <td>Unknown</td>\n",
       "      <td>Amapa</td>\n",
       "      <td>Brazil</td>\n",
       "      <td>2020-10-01T04:23:42+00:00</td>\n",
       "      <td>Amapa, Brazil</td>\n",
       "      <td>48254</td>\n",
       "      <td>709</td>\n",
       "      <td>36098.0</td>\n",
       "      <td>11447.0</td>\n",
       "    </tr>\n",
       "    <tr>\n",
       "      <th>3</th>\n",
       "      <td>Unknown</td>\n",
       "      <td>Amazonas</td>\n",
       "      <td>Brazil</td>\n",
       "      <td>2020-10-01T04:23:42+00:00</td>\n",
       "      <td>Amazonas, Brazil</td>\n",
       "      <td>139326</td>\n",
       "      <td>4156</td>\n",
       "      <td>116119.0</td>\n",
       "      <td>19051.0</td>\n",
       "    </tr>\n",
       "    <tr>\n",
       "      <th>4</th>\n",
       "      <td>Unknown</td>\n",
       "      <td>Bahia</td>\n",
       "      <td>Brazil</td>\n",
       "      <td>2020-10-01T04:23:42+00:00</td>\n",
       "      <td>Bahia, Brazil</td>\n",
       "      <td>310526</td>\n",
       "      <td>6744</td>\n",
       "      <td>296207.0</td>\n",
       "      <td>7575.0</td>\n",
       "    </tr>\n",
       "    <tr>\n",
       "      <th>5</th>\n",
       "      <td>Unknown</td>\n",
       "      <td>Ceara</td>\n",
       "      <td>Brazil</td>\n",
       "      <td>2020-10-01T04:23:42+00:00</td>\n",
       "      <td>Ceara, Brazil</td>\n",
       "      <td>241159</td>\n",
       "      <td>8994</td>\n",
       "      <td>214221.0</td>\n",
       "      <td>17944.0</td>\n",
       "    </tr>\n",
       "    <tr>\n",
       "      <th>6</th>\n",
       "      <td>Unknown</td>\n",
       "      <td>Distrito Federal</td>\n",
       "      <td>Brazil</td>\n",
       "      <td>2020-10-01T04:23:42+00:00</td>\n",
       "      <td>Distrito Federal, Brazil</td>\n",
       "      <td>192245</td>\n",
       "      <td>3255</td>\n",
       "      <td>181308.0</td>\n",
       "      <td>7682.0</td>\n",
       "    </tr>\n",
       "    <tr>\n",
       "      <th>7</th>\n",
       "      <td>Unknown</td>\n",
       "      <td>Espirito Santo</td>\n",
       "      <td>Brazil</td>\n",
       "      <td>2020-10-01T04:23:42+00:00</td>\n",
       "      <td>Espirito Santo, Brazil</td>\n",
       "      <td>131490</td>\n",
       "      <td>3545</td>\n",
       "      <td>121026.0</td>\n",
       "      <td>6919.0</td>\n",
       "    </tr>\n",
       "    <tr>\n",
       "      <th>8</th>\n",
       "      <td>Unknown</td>\n",
       "      <td>Goias</td>\n",
       "      <td>Brazil</td>\n",
       "      <td>2020-10-01T04:23:42+00:00</td>\n",
       "      <td>Goias, Brazil</td>\n",
       "      <td>209411</td>\n",
       "      <td>4672</td>\n",
       "      <td>199091.0</td>\n",
       "      <td>5648.0</td>\n",
       "    </tr>\n",
       "    <tr>\n",
       "      <th>9</th>\n",
       "      <td>Unknown</td>\n",
       "      <td>Maranhao</td>\n",
       "      <td>Brazil</td>\n",
       "      <td>2020-10-01T04:23:42+00:00</td>\n",
       "      <td>Maranhao, Brazil</td>\n",
       "      <td>173564</td>\n",
       "      <td>3756</td>\n",
       "      <td>163892.0</td>\n",
       "      <td>5916.0</td>\n",
       "    </tr>\n",
       "    <tr>\n",
       "      <th>10</th>\n",
       "      <td>Unknown</td>\n",
       "      <td>Mato Grosso</td>\n",
       "      <td>Brazil</td>\n",
       "      <td>2020-10-01T04:23:42+00:00</td>\n",
       "      <td>Mato Grosso, Brazil</td>\n",
       "      <td>123416</td>\n",
       "      <td>3406</td>\n",
       "      <td>104661.0</td>\n",
       "      <td>15349.0</td>\n",
       "    </tr>\n",
       "    <tr>\n",
       "      <th>11</th>\n",
       "      <td>Unknown</td>\n",
       "      <td>Mato Grosso do Sul</td>\n",
       "      <td>Brazil</td>\n",
       "      <td>2020-10-01T04:23:42+00:00</td>\n",
       "      <td>Mato Grosso do Sul, Brazil</td>\n",
       "      <td>69706</td>\n",
       "      <td>1303</td>\n",
       "      <td>63288.0</td>\n",
       "      <td>5115.0</td>\n",
       "    </tr>\n",
       "    <tr>\n",
       "      <th>12</th>\n",
       "      <td>Unknown</td>\n",
       "      <td>Minas Gerais</td>\n",
       "      <td>Brazil</td>\n",
       "      <td>2020-10-01T04:23:42+00:00</td>\n",
       "      <td>Minas Gerais, Brazil</td>\n",
       "      <td>295169</td>\n",
       "      <td>7360</td>\n",
       "      <td>260674.0</td>\n",
       "      <td>27135.0</td>\n",
       "    </tr>\n",
       "    <tr>\n",
       "      <th>13</th>\n",
       "      <td>Unknown</td>\n",
       "      <td>Para</td>\n",
       "      <td>Brazil</td>\n",
       "      <td>2020-10-01T04:23:42+00:00</td>\n",
       "      <td>Para, Brazil</td>\n",
       "      <td>230449</td>\n",
       "      <td>6573</td>\n",
       "      <td>215527.0</td>\n",
       "      <td>8349.0</td>\n",
       "    </tr>\n",
       "    <tr>\n",
       "      <th>14</th>\n",
       "      <td>Unknown</td>\n",
       "      <td>Paraiba</td>\n",
       "      <td>Brazil</td>\n",
       "      <td>2020-10-01T04:23:42+00:00</td>\n",
       "      <td>Paraiba, Brazil</td>\n",
       "      <td>121267</td>\n",
       "      <td>2824</td>\n",
       "      <td>96044.0</td>\n",
       "      <td>22399.0</td>\n",
       "    </tr>\n",
       "    <tr>\n",
       "      <th>15</th>\n",
       "      <td>Unknown</td>\n",
       "      <td>Parana</td>\n",
       "      <td>Brazil</td>\n",
       "      <td>2020-10-01T04:23:42+00:00</td>\n",
       "      <td>Parana, Brazil</td>\n",
       "      <td>178898</td>\n",
       "      <td>4485</td>\n",
       "      <td>130644.0</td>\n",
       "      <td>43769.0</td>\n",
       "    </tr>\n",
       "    <tr>\n",
       "      <th>16</th>\n",
       "      <td>Unknown</td>\n",
       "      <td>Pernambuco</td>\n",
       "      <td>Brazil</td>\n",
       "      <td>2020-10-01T04:23:42+00:00</td>\n",
       "      <td>Pernambuco, Brazil</td>\n",
       "      <td>147171</td>\n",
       "      <td>8251</td>\n",
       "      <td>127590.0</td>\n",
       "      <td>11330.0</td>\n",
       "    </tr>\n",
       "    <tr>\n",
       "      <th>17</th>\n",
       "      <td>Unknown</td>\n",
       "      <td>Piaui</td>\n",
       "      <td>Brazil</td>\n",
       "      <td>2020-10-01T04:23:42+00:00</td>\n",
       "      <td>Piaui, Brazil</td>\n",
       "      <td>96086</td>\n",
       "      <td>2127</td>\n",
       "      <td>94235.0</td>\n",
       "      <td>-276.0</td>\n",
       "    </tr>\n",
       "    <tr>\n",
       "      <th>18</th>\n",
       "      <td>Unknown</td>\n",
       "      <td>Rio Grande do Norte</td>\n",
       "      <td>Brazil</td>\n",
       "      <td>2020-10-01T04:23:42+00:00</td>\n",
       "      <td>Rio Grande do Norte, Brazil</td>\n",
       "      <td>69433</td>\n",
       "      <td>2393</td>\n",
       "      <td>40400.0</td>\n",
       "      <td>26640.0</td>\n",
       "    </tr>\n",
       "    <tr>\n",
       "      <th>19</th>\n",
       "      <td>Unknown</td>\n",
       "      <td>Rio Grande do Sul</td>\n",
       "      <td>Brazil</td>\n",
       "      <td>2020-10-01T04:23:42+00:00</td>\n",
       "      <td>Rio Grande do Sul, Brazil</td>\n",
       "      <td>190572</td>\n",
       "      <td>4782</td>\n",
       "      <td>176768.0</td>\n",
       "      <td>9022.0</td>\n",
       "    </tr>\n",
       "    <tr>\n",
       "      <th>20</th>\n",
       "      <td>Unknown</td>\n",
       "      <td>Rio de Janeiro</td>\n",
       "      <td>Brazil</td>\n",
       "      <td>2020-10-01T04:23:42+00:00</td>\n",
       "      <td>Rio de Janeiro, Brazil</td>\n",
       "      <td>264783</td>\n",
       "      <td>18487</td>\n",
       "      <td>241650.0</td>\n",
       "      <td>4646.0</td>\n",
       "    </tr>\n",
       "    <tr>\n",
       "      <th>21</th>\n",
       "      <td>Unknown</td>\n",
       "      <td>Rondonia</td>\n",
       "      <td>Brazil</td>\n",
       "      <td>2020-10-01T04:23:42+00:00</td>\n",
       "      <td>Rondonia, Brazil</td>\n",
       "      <td>65911</td>\n",
       "      <td>1357</td>\n",
       "      <td>57267.0</td>\n",
       "      <td>7287.0</td>\n",
       "    </tr>\n",
       "    <tr>\n",
       "      <th>22</th>\n",
       "      <td>Unknown</td>\n",
       "      <td>Roraima</td>\n",
       "      <td>Brazil</td>\n",
       "      <td>2020-10-01T04:23:42+00:00</td>\n",
       "      <td>Roraima, Brazil</td>\n",
       "      <td>50449</td>\n",
       "      <td>648</td>\n",
       "      <td>46135.0</td>\n",
       "      <td>3666.0</td>\n",
       "    </tr>\n",
       "    <tr>\n",
       "      <th>23</th>\n",
       "      <td>Unknown</td>\n",
       "      <td>Santa Catarina</td>\n",
       "      <td>Brazil</td>\n",
       "      <td>2020-10-01T04:23:42+00:00</td>\n",
       "      <td>Santa Catarina, Brazil</td>\n",
       "      <td>215478</td>\n",
       "      <td>2797</td>\n",
       "      <td>205075.0</td>\n",
       "      <td>7606.0</td>\n",
       "    </tr>\n",
       "    <tr>\n",
       "      <th>24</th>\n",
       "      <td>Unknown</td>\n",
       "      <td>Sao Paulo</td>\n",
       "      <td>Brazil</td>\n",
       "      <td>2020-10-01T04:23:42+00:00</td>\n",
       "      <td>Sao Paulo, Brazil</td>\n",
       "      <td>985628</td>\n",
       "      <td>35622</td>\n",
       "      <td>855068.0</td>\n",
       "      <td>94938.0</td>\n",
       "    </tr>\n",
       "    <tr>\n",
       "      <th>25</th>\n",
       "      <td>Unknown</td>\n",
       "      <td>Sergipe</td>\n",
       "      <td>Brazil</td>\n",
       "      <td>2020-10-01T04:23:42+00:00</td>\n",
       "      <td>Sergipe, Brazil</td>\n",
       "      <td>77440</td>\n",
       "      <td>2036</td>\n",
       "      <td>71213.0</td>\n",
       "      <td>4191.0</td>\n",
       "    </tr>\n",
       "    <tr>\n",
       "      <th>26</th>\n",
       "      <td>Unknown</td>\n",
       "      <td>Tocantins</td>\n",
       "      <td>Brazil</td>\n",
       "      <td>2020-10-01T04:23:42+00:00</td>\n",
       "      <td>Tocantins, Brazil</td>\n",
       "      <td>68003</td>\n",
       "      <td>939</td>\n",
       "      <td>51924.0</td>\n",
       "      <td>15140.0</td>\n",
       "    </tr>\n",
       "  </tbody>\n",
       "</table>\n",
       "</div>"
      ],
      "text/plain": [
       "       city             province country                 lastUpdate  \\\n",
       "0   Unknown                 Acre  Brazil  2020-10-01T04:23:42+00:00   \n",
       "1   Unknown              Alagoas  Brazil  2020-10-01T04:23:42+00:00   \n",
       "2   Unknown                Amapa  Brazil  2020-10-01T04:23:42+00:00   \n",
       "3   Unknown             Amazonas  Brazil  2020-10-01T04:23:42+00:00   \n",
       "4   Unknown                Bahia  Brazil  2020-10-01T04:23:42+00:00   \n",
       "5   Unknown                Ceara  Brazil  2020-10-01T04:23:42+00:00   \n",
       "6   Unknown     Distrito Federal  Brazil  2020-10-01T04:23:42+00:00   \n",
       "7   Unknown       Espirito Santo  Brazil  2020-10-01T04:23:42+00:00   \n",
       "8   Unknown                Goias  Brazil  2020-10-01T04:23:42+00:00   \n",
       "9   Unknown             Maranhao  Brazil  2020-10-01T04:23:42+00:00   \n",
       "10  Unknown          Mato Grosso  Brazil  2020-10-01T04:23:42+00:00   \n",
       "11  Unknown   Mato Grosso do Sul  Brazil  2020-10-01T04:23:42+00:00   \n",
       "12  Unknown         Minas Gerais  Brazil  2020-10-01T04:23:42+00:00   \n",
       "13  Unknown                 Para  Brazil  2020-10-01T04:23:42+00:00   \n",
       "14  Unknown              Paraiba  Brazil  2020-10-01T04:23:42+00:00   \n",
       "15  Unknown               Parana  Brazil  2020-10-01T04:23:42+00:00   \n",
       "16  Unknown           Pernambuco  Brazil  2020-10-01T04:23:42+00:00   \n",
       "17  Unknown                Piaui  Brazil  2020-10-01T04:23:42+00:00   \n",
       "18  Unknown  Rio Grande do Norte  Brazil  2020-10-01T04:23:42+00:00   \n",
       "19  Unknown    Rio Grande do Sul  Brazil  2020-10-01T04:23:42+00:00   \n",
       "20  Unknown       Rio de Janeiro  Brazil  2020-10-01T04:23:42+00:00   \n",
       "21  Unknown             Rondonia  Brazil  2020-10-01T04:23:42+00:00   \n",
       "22  Unknown              Roraima  Brazil  2020-10-01T04:23:42+00:00   \n",
       "23  Unknown       Santa Catarina  Brazil  2020-10-01T04:23:42+00:00   \n",
       "24  Unknown            Sao Paulo  Brazil  2020-10-01T04:23:42+00:00   \n",
       "25  Unknown              Sergipe  Brazil  2020-10-01T04:23:42+00:00   \n",
       "26  Unknown            Tocantins  Brazil  2020-10-01T04:23:42+00:00   \n",
       "\n",
       "                          keyId  confirmed  deaths  recovered   Active  \n",
       "0                  Acre, Brazil      28222     659    25041.0   2522.0  \n",
       "1               Alagoas, Brazil      86879    2072    83608.0   1199.0  \n",
       "2                 Amapa, Brazil      48254     709    36098.0  11447.0  \n",
       "3              Amazonas, Brazil     139326    4156   116119.0  19051.0  \n",
       "4                 Bahia, Brazil     310526    6744   296207.0   7575.0  \n",
       "5                 Ceara, Brazil     241159    8994   214221.0  17944.0  \n",
       "6      Distrito Federal, Brazil     192245    3255   181308.0   7682.0  \n",
       "7        Espirito Santo, Brazil     131490    3545   121026.0   6919.0  \n",
       "8                 Goias, Brazil     209411    4672   199091.0   5648.0  \n",
       "9              Maranhao, Brazil     173564    3756   163892.0   5916.0  \n",
       "10          Mato Grosso, Brazil     123416    3406   104661.0  15349.0  \n",
       "11   Mato Grosso do Sul, Brazil      69706    1303    63288.0   5115.0  \n",
       "12         Minas Gerais, Brazil     295169    7360   260674.0  27135.0  \n",
       "13                 Para, Brazil     230449    6573   215527.0   8349.0  \n",
       "14              Paraiba, Brazil     121267    2824    96044.0  22399.0  \n",
       "15               Parana, Brazil     178898    4485   130644.0  43769.0  \n",
       "16           Pernambuco, Brazil     147171    8251   127590.0  11330.0  \n",
       "17                Piaui, Brazil      96086    2127    94235.0   -276.0  \n",
       "18  Rio Grande do Norte, Brazil      69433    2393    40400.0  26640.0  \n",
       "19    Rio Grande do Sul, Brazil     190572    4782   176768.0   9022.0  \n",
       "20       Rio de Janeiro, Brazil     264783   18487   241650.0   4646.0  \n",
       "21             Rondonia, Brazil      65911    1357    57267.0   7287.0  \n",
       "22              Roraima, Brazil      50449     648    46135.0   3666.0  \n",
       "23       Santa Catarina, Brazil     215478    2797   205075.0   7606.0  \n",
       "24            Sao Paulo, Brazil     985628   35622   855068.0  94938.0  \n",
       "25              Sergipe, Brazil      77440    2036    71213.0   4191.0  \n",
       "26            Tocantins, Brazil      68003     939    51924.0  15140.0  "
      ]
     },
     "execution_count": 51,
     "metadata": {},
     "output_type": "execute_result"
    }
   ],
   "source": [
    "#ยอดผู้ติดเชื้อในแต่ะเมืองของบราซิล\n",
    "Data_BZ = df[(df['country'] == 'Brazil') ].reset_index(drop=True)\n",
    "Data_BZ"
   ]
  },
  {
   "cell_type": "code",
   "execution_count": 74,
   "metadata": {
    "id": "GAvHlS5a6vea"
   },
   "outputs": [
    {
     "data": {
      "text/html": [
       "<div>\n",
       "<style scoped>\n",
       "    .dataframe tbody tr th:only-of-type {\n",
       "        vertical-align: middle;\n",
       "    }\n",
       "\n",
       "    .dataframe tbody tr th {\n",
       "        vertical-align: top;\n",
       "    }\n",
       "\n",
       "    .dataframe thead th {\n",
       "        text-align: right;\n",
       "    }\n",
       "</style>\n",
       "<table border=\"1\" class=\"dataframe\">\n",
       "  <thead>\n",
       "    <tr style=\"text-align: right;\">\n",
       "      <th></th>\n",
       "      <th>province</th>\n",
       "      <th>confirmed</th>\n",
       "      <th>recovered</th>\n",
       "      <th>deaths</th>\n",
       "    </tr>\n",
       "  </thead>\n",
       "  <tbody>\n",
       "    <tr>\n",
       "      <th>0</th>\n",
       "      <td>Sao Paulo</td>\n",
       "      <td>985628</td>\n",
       "      <td>855068.0</td>\n",
       "      <td>35622</td>\n",
       "    </tr>\n",
       "    <tr>\n",
       "      <th>1</th>\n",
       "      <td>Bahia</td>\n",
       "      <td>310526</td>\n",
       "      <td>296207.0</td>\n",
       "      <td>6744</td>\n",
       "    </tr>\n",
       "    <tr>\n",
       "      <th>2</th>\n",
       "      <td>Minas Gerais</td>\n",
       "      <td>295169</td>\n",
       "      <td>260674.0</td>\n",
       "      <td>7360</td>\n",
       "    </tr>\n",
       "    <tr>\n",
       "      <th>3</th>\n",
       "      <td>Rio de Janeiro</td>\n",
       "      <td>264783</td>\n",
       "      <td>241650.0</td>\n",
       "      <td>18487</td>\n",
       "    </tr>\n",
       "    <tr>\n",
       "      <th>4</th>\n",
       "      <td>Ceara</td>\n",
       "      <td>241159</td>\n",
       "      <td>214221.0</td>\n",
       "      <td>8994</td>\n",
       "    </tr>\n",
       "    <tr>\n",
       "      <th>5</th>\n",
       "      <td>Para</td>\n",
       "      <td>230449</td>\n",
       "      <td>215527.0</td>\n",
       "      <td>6573</td>\n",
       "    </tr>\n",
       "    <tr>\n",
       "      <th>6</th>\n",
       "      <td>Santa Catarina</td>\n",
       "      <td>215478</td>\n",
       "      <td>205075.0</td>\n",
       "      <td>2797</td>\n",
       "    </tr>\n",
       "    <tr>\n",
       "      <th>7</th>\n",
       "      <td>Goias</td>\n",
       "      <td>209411</td>\n",
       "      <td>199091.0</td>\n",
       "      <td>4672</td>\n",
       "    </tr>\n",
       "    <tr>\n",
       "      <th>8</th>\n",
       "      <td>Distrito Federal</td>\n",
       "      <td>192245</td>\n",
       "      <td>181308.0</td>\n",
       "      <td>3255</td>\n",
       "    </tr>\n",
       "    <tr>\n",
       "      <th>9</th>\n",
       "      <td>Rio Grande do Sul</td>\n",
       "      <td>190572</td>\n",
       "      <td>176768.0</td>\n",
       "      <td>4782</td>\n",
       "    </tr>\n",
       "    <tr>\n",
       "      <th>10</th>\n",
       "      <td>Parana</td>\n",
       "      <td>178898</td>\n",
       "      <td>130644.0</td>\n",
       "      <td>4485</td>\n",
       "    </tr>\n",
       "    <tr>\n",
       "      <th>11</th>\n",
       "      <td>Maranhao</td>\n",
       "      <td>173564</td>\n",
       "      <td>163892.0</td>\n",
       "      <td>3756</td>\n",
       "    </tr>\n",
       "    <tr>\n",
       "      <th>12</th>\n",
       "      <td>Pernambuco</td>\n",
       "      <td>147171</td>\n",
       "      <td>127590.0</td>\n",
       "      <td>8251</td>\n",
       "    </tr>\n",
       "    <tr>\n",
       "      <th>13</th>\n",
       "      <td>Amazonas</td>\n",
       "      <td>139326</td>\n",
       "      <td>116119.0</td>\n",
       "      <td>4156</td>\n",
       "    </tr>\n",
       "    <tr>\n",
       "      <th>14</th>\n",
       "      <td>Espirito Santo</td>\n",
       "      <td>131490</td>\n",
       "      <td>121026.0</td>\n",
       "      <td>3545</td>\n",
       "    </tr>\n",
       "    <tr>\n",
       "      <th>15</th>\n",
       "      <td>Mato Grosso</td>\n",
       "      <td>123416</td>\n",
       "      <td>104661.0</td>\n",
       "      <td>3406</td>\n",
       "    </tr>\n",
       "    <tr>\n",
       "      <th>16</th>\n",
       "      <td>Paraiba</td>\n",
       "      <td>121267</td>\n",
       "      <td>96044.0</td>\n",
       "      <td>2824</td>\n",
       "    </tr>\n",
       "    <tr>\n",
       "      <th>17</th>\n",
       "      <td>Piaui</td>\n",
       "      <td>96086</td>\n",
       "      <td>94235.0</td>\n",
       "      <td>2127</td>\n",
       "    </tr>\n",
       "    <tr>\n",
       "      <th>18</th>\n",
       "      <td>Alagoas</td>\n",
       "      <td>86879</td>\n",
       "      <td>83608.0</td>\n",
       "      <td>2072</td>\n",
       "    </tr>\n",
       "    <tr>\n",
       "      <th>19</th>\n",
       "      <td>Sergipe</td>\n",
       "      <td>77440</td>\n",
       "      <td>71213.0</td>\n",
       "      <td>2036</td>\n",
       "    </tr>\n",
       "    <tr>\n",
       "      <th>20</th>\n",
       "      <td>Mato Grosso do Sul</td>\n",
       "      <td>69706</td>\n",
       "      <td>63288.0</td>\n",
       "      <td>1303</td>\n",
       "    </tr>\n",
       "    <tr>\n",
       "      <th>21</th>\n",
       "      <td>Rio Grande do Norte</td>\n",
       "      <td>69433</td>\n",
       "      <td>40400.0</td>\n",
       "      <td>2393</td>\n",
       "    </tr>\n",
       "    <tr>\n",
       "      <th>22</th>\n",
       "      <td>Tocantins</td>\n",
       "      <td>68003</td>\n",
       "      <td>51924.0</td>\n",
       "      <td>939</td>\n",
       "    </tr>\n",
       "    <tr>\n",
       "      <th>23</th>\n",
       "      <td>Rondonia</td>\n",
       "      <td>65911</td>\n",
       "      <td>57267.0</td>\n",
       "      <td>1357</td>\n",
       "    </tr>\n",
       "    <tr>\n",
       "      <th>24</th>\n",
       "      <td>Roraima</td>\n",
       "      <td>50449</td>\n",
       "      <td>46135.0</td>\n",
       "      <td>648</td>\n",
       "    </tr>\n",
       "    <tr>\n",
       "      <th>25</th>\n",
       "      <td>Amapa</td>\n",
       "      <td>48254</td>\n",
       "      <td>36098.0</td>\n",
       "      <td>709</td>\n",
       "    </tr>\n",
       "    <tr>\n",
       "      <th>26</th>\n",
       "      <td>Acre</td>\n",
       "      <td>28222</td>\n",
       "      <td>25041.0</td>\n",
       "      <td>659</td>\n",
       "    </tr>\n",
       "  </tbody>\n",
       "</table>\n",
       "</div>"
      ],
      "text/plain": [
       "               province  confirmed  recovered  deaths\n",
       "0             Sao Paulo     985628   855068.0   35622\n",
       "1                 Bahia     310526   296207.0    6744\n",
       "2          Minas Gerais     295169   260674.0    7360\n",
       "3        Rio de Janeiro     264783   241650.0   18487\n",
       "4                 Ceara     241159   214221.0    8994\n",
       "5                  Para     230449   215527.0    6573\n",
       "6        Santa Catarina     215478   205075.0    2797\n",
       "7                 Goias     209411   199091.0    4672\n",
       "8      Distrito Federal     192245   181308.0    3255\n",
       "9     Rio Grande do Sul     190572   176768.0    4782\n",
       "10               Parana     178898   130644.0    4485\n",
       "11             Maranhao     173564   163892.0    3756\n",
       "12           Pernambuco     147171   127590.0    8251\n",
       "13             Amazonas     139326   116119.0    4156\n",
       "14       Espirito Santo     131490   121026.0    3545\n",
       "15          Mato Grosso     123416   104661.0    3406\n",
       "16              Paraiba     121267    96044.0    2824\n",
       "17                Piaui      96086    94235.0    2127\n",
       "18              Alagoas      86879    83608.0    2072\n",
       "19              Sergipe      77440    71213.0    2036\n",
       "20   Mato Grosso do Sul      69706    63288.0    1303\n",
       "21  Rio Grande do Norte      69433    40400.0    2393\n",
       "22            Tocantins      68003    51924.0     939\n",
       "23             Rondonia      65911    57267.0    1357\n",
       "24              Roraima      50449    46135.0     648\n",
       "25                Amapa      48254    36098.0     709\n",
       "26                 Acre      28222    25041.0     659"
      ]
     },
     "execution_count": 74,
     "metadata": {},
     "output_type": "execute_result"
    }
   ],
   "source": [
    "Data_BZ_state= Data_BZ.groupby([\"province\"])[\"confirmed\",\"recovered\",\"deaths\"].sum().reset_index().sort_values(\"confirmed\",ascending=False).reset_index(drop=True)\n",
    "Data_BZ_state"
   ]
  },
  {
   "cell_type": "code",
   "execution_count": 75,
   "metadata": {
    "colab": {
     "base_uri": "https://localhost:8080/",
     "height": 542
    },
    "id": "jw6eavyg7MSy",
    "outputId": "8c46d786-d9d7-41f6-8fa2-3ca05c7b2fd3"
   },
   "outputs": [
    {
     "data": {
      "application/vnd.plotly.v1+json": {
       "config": {
        "plotlyServerURL": "https://plot.ly"
       },
       "data": [
        {
         "marker": {
          "color": [
           "#7d0633",
           "#821752",
           "#0f3057",
           "#00587a",
           "#008891",
           "#41aea9",
           "#a6f6f1",
           "#ccf6c8",
           "#fafcc2",
           "#f6d6ad",
           "#f9c0c0"
          ]
         },
         "text": [
          "confirmed"
         ],
         "textposition": "auto",
         "type": "bar",
         "x": [
          "Sao Paulo",
          "Bahia",
          "Minas Gerais",
          "Rio de Janeiro",
          "Ceara",
          "Para",
          "Santa Catarina",
          "Goias",
          "Distrito Federal",
          "Rio Grande do Sul",
          "Parana",
          "Maranhao",
          "Pernambuco",
          "Amazonas",
          "Espirito Santo",
          "Mato Grosso",
          "Paraiba",
          "Piaui",
          "Alagoas",
          "Sergipe",
          "Mato Grosso do Sul",
          "Rio Grande do Norte",
          "Tocantins",
          "Rondonia",
          "Roraima",
          "Amapa",
          "Acre"
         ],
         "y": [
          985628,
          310526,
          295169,
          264783,
          241159,
          230449,
          215478,
          209411,
          192245,
          190572,
          178898,
          173564,
          147171,
          139326,
          131490,
          123416,
          121267,
          96086,
          86879,
          77440,
          69706,
          69433,
          68003,
          65911,
          50449,
          48254,
          28222
         ]
        }
       ],
       "layout": {
        "template": {
         "data": {
          "bar": [
           {
            "error_x": {
             "color": "#2a3f5f"
            },
            "error_y": {
             "color": "#2a3f5f"
            },
            "marker": {
             "line": {
              "color": "white",
              "width": 0.5
             }
            },
            "type": "bar"
           }
          ],
          "barpolar": [
           {
            "marker": {
             "line": {
              "color": "white",
              "width": 0.5
             }
            },
            "type": "barpolar"
           }
          ],
          "carpet": [
           {
            "aaxis": {
             "endlinecolor": "#2a3f5f",
             "gridcolor": "#C8D4E3",
             "linecolor": "#C8D4E3",
             "minorgridcolor": "#C8D4E3",
             "startlinecolor": "#2a3f5f"
            },
            "baxis": {
             "endlinecolor": "#2a3f5f",
             "gridcolor": "#C8D4E3",
             "linecolor": "#C8D4E3",
             "minorgridcolor": "#C8D4E3",
             "startlinecolor": "#2a3f5f"
            },
            "type": "carpet"
           }
          ],
          "choropleth": [
           {
            "colorbar": {
             "outlinewidth": 0,
             "ticks": ""
            },
            "type": "choropleth"
           }
          ],
          "contour": [
           {
            "colorbar": {
             "outlinewidth": 0,
             "ticks": ""
            },
            "colorscale": [
             [
              0,
              "#0d0887"
             ],
             [
              0.1111111111111111,
              "#46039f"
             ],
             [
              0.2222222222222222,
              "#7201a8"
             ],
             [
              0.3333333333333333,
              "#9c179e"
             ],
             [
              0.4444444444444444,
              "#bd3786"
             ],
             [
              0.5555555555555556,
              "#d8576b"
             ],
             [
              0.6666666666666666,
              "#ed7953"
             ],
             [
              0.7777777777777778,
              "#fb9f3a"
             ],
             [
              0.8888888888888888,
              "#fdca26"
             ],
             [
              1,
              "#f0f921"
             ]
            ],
            "type": "contour"
           }
          ],
          "contourcarpet": [
           {
            "colorbar": {
             "outlinewidth": 0,
             "ticks": ""
            },
            "type": "contourcarpet"
           }
          ],
          "heatmap": [
           {
            "colorbar": {
             "outlinewidth": 0,
             "ticks": ""
            },
            "colorscale": [
             [
              0,
              "#0d0887"
             ],
             [
              0.1111111111111111,
              "#46039f"
             ],
             [
              0.2222222222222222,
              "#7201a8"
             ],
             [
              0.3333333333333333,
              "#9c179e"
             ],
             [
              0.4444444444444444,
              "#bd3786"
             ],
             [
              0.5555555555555556,
              "#d8576b"
             ],
             [
              0.6666666666666666,
              "#ed7953"
             ],
             [
              0.7777777777777778,
              "#fb9f3a"
             ],
             [
              0.8888888888888888,
              "#fdca26"
             ],
             [
              1,
              "#f0f921"
             ]
            ],
            "type": "heatmap"
           }
          ],
          "heatmapgl": [
           {
            "colorbar": {
             "outlinewidth": 0,
             "ticks": ""
            },
            "colorscale": [
             [
              0,
              "#0d0887"
             ],
             [
              0.1111111111111111,
              "#46039f"
             ],
             [
              0.2222222222222222,
              "#7201a8"
             ],
             [
              0.3333333333333333,
              "#9c179e"
             ],
             [
              0.4444444444444444,
              "#bd3786"
             ],
             [
              0.5555555555555556,
              "#d8576b"
             ],
             [
              0.6666666666666666,
              "#ed7953"
             ],
             [
              0.7777777777777778,
              "#fb9f3a"
             ],
             [
              0.8888888888888888,
              "#fdca26"
             ],
             [
              1,
              "#f0f921"
             ]
            ],
            "type": "heatmapgl"
           }
          ],
          "histogram": [
           {
            "marker": {
             "colorbar": {
              "outlinewidth": 0,
              "ticks": ""
             }
            },
            "type": "histogram"
           }
          ],
          "histogram2d": [
           {
            "colorbar": {
             "outlinewidth": 0,
             "ticks": ""
            },
            "colorscale": [
             [
              0,
              "#0d0887"
             ],
             [
              0.1111111111111111,
              "#46039f"
             ],
             [
              0.2222222222222222,
              "#7201a8"
             ],
             [
              0.3333333333333333,
              "#9c179e"
             ],
             [
              0.4444444444444444,
              "#bd3786"
             ],
             [
              0.5555555555555556,
              "#d8576b"
             ],
             [
              0.6666666666666666,
              "#ed7953"
             ],
             [
              0.7777777777777778,
              "#fb9f3a"
             ],
             [
              0.8888888888888888,
              "#fdca26"
             ],
             [
              1,
              "#f0f921"
             ]
            ],
            "type": "histogram2d"
           }
          ],
          "histogram2dcontour": [
           {
            "colorbar": {
             "outlinewidth": 0,
             "ticks": ""
            },
            "colorscale": [
             [
              0,
              "#0d0887"
             ],
             [
              0.1111111111111111,
              "#46039f"
             ],
             [
              0.2222222222222222,
              "#7201a8"
             ],
             [
              0.3333333333333333,
              "#9c179e"
             ],
             [
              0.4444444444444444,
              "#bd3786"
             ],
             [
              0.5555555555555556,
              "#d8576b"
             ],
             [
              0.6666666666666666,
              "#ed7953"
             ],
             [
              0.7777777777777778,
              "#fb9f3a"
             ],
             [
              0.8888888888888888,
              "#fdca26"
             ],
             [
              1,
              "#f0f921"
             ]
            ],
            "type": "histogram2dcontour"
           }
          ],
          "mesh3d": [
           {
            "colorbar": {
             "outlinewidth": 0,
             "ticks": ""
            },
            "type": "mesh3d"
           }
          ],
          "parcoords": [
           {
            "line": {
             "colorbar": {
              "outlinewidth": 0,
              "ticks": ""
             }
            },
            "type": "parcoords"
           }
          ],
          "pie": [
           {
            "automargin": true,
            "type": "pie"
           }
          ],
          "scatter": [
           {
            "marker": {
             "colorbar": {
              "outlinewidth": 0,
              "ticks": ""
             }
            },
            "type": "scatter"
           }
          ],
          "scatter3d": [
           {
            "line": {
             "colorbar": {
              "outlinewidth": 0,
              "ticks": ""
             }
            },
            "marker": {
             "colorbar": {
              "outlinewidth": 0,
              "ticks": ""
             }
            },
            "type": "scatter3d"
           }
          ],
          "scattercarpet": [
           {
            "marker": {
             "colorbar": {
              "outlinewidth": 0,
              "ticks": ""
             }
            },
            "type": "scattercarpet"
           }
          ],
          "scattergeo": [
           {
            "marker": {
             "colorbar": {
              "outlinewidth": 0,
              "ticks": ""
             }
            },
            "type": "scattergeo"
           }
          ],
          "scattergl": [
           {
            "marker": {
             "colorbar": {
              "outlinewidth": 0,
              "ticks": ""
             }
            },
            "type": "scattergl"
           }
          ],
          "scattermapbox": [
           {
            "marker": {
             "colorbar": {
              "outlinewidth": 0,
              "ticks": ""
             }
            },
            "type": "scattermapbox"
           }
          ],
          "scatterpolar": [
           {
            "marker": {
             "colorbar": {
              "outlinewidth": 0,
              "ticks": ""
             }
            },
            "type": "scatterpolar"
           }
          ],
          "scatterpolargl": [
           {
            "marker": {
             "colorbar": {
              "outlinewidth": 0,
              "ticks": ""
             }
            },
            "type": "scatterpolargl"
           }
          ],
          "scatterternary": [
           {
            "marker": {
             "colorbar": {
              "outlinewidth": 0,
              "ticks": ""
             }
            },
            "type": "scatterternary"
           }
          ],
          "surface": [
           {
            "colorbar": {
             "outlinewidth": 0,
             "ticks": ""
            },
            "colorscale": [
             [
              0,
              "#0d0887"
             ],
             [
              0.1111111111111111,
              "#46039f"
             ],
             [
              0.2222222222222222,
              "#7201a8"
             ],
             [
              0.3333333333333333,
              "#9c179e"
             ],
             [
              0.4444444444444444,
              "#bd3786"
             ],
             [
              0.5555555555555556,
              "#d8576b"
             ],
             [
              0.6666666666666666,
              "#ed7953"
             ],
             [
              0.7777777777777778,
              "#fb9f3a"
             ],
             [
              0.8888888888888888,
              "#fdca26"
             ],
             [
              1,
              "#f0f921"
             ]
            ],
            "type": "surface"
           }
          ],
          "table": [
           {
            "cells": {
             "fill": {
              "color": "#EBF0F8"
             },
             "line": {
              "color": "white"
             }
            },
            "header": {
             "fill": {
              "color": "#C8D4E3"
             },
             "line": {
              "color": "white"
             }
            },
            "type": "table"
           }
          ]
         },
         "layout": {
          "annotationdefaults": {
           "arrowcolor": "#2a3f5f",
           "arrowhead": 0,
           "arrowwidth": 1
          },
          "coloraxis": {
           "colorbar": {
            "outlinewidth": 0,
            "ticks": ""
           }
          },
          "colorscale": {
           "diverging": [
            [
             0,
             "#8e0152"
            ],
            [
             0.1,
             "#c51b7d"
            ],
            [
             0.2,
             "#de77ae"
            ],
            [
             0.3,
             "#f1b6da"
            ],
            [
             0.4,
             "#fde0ef"
            ],
            [
             0.5,
             "#f7f7f7"
            ],
            [
             0.6,
             "#e6f5d0"
            ],
            [
             0.7,
             "#b8e186"
            ],
            [
             0.8,
             "#7fbc41"
            ],
            [
             0.9,
             "#4d9221"
            ],
            [
             1,
             "#276419"
            ]
           ],
           "sequential": [
            [
             0,
             "#0d0887"
            ],
            [
             0.1111111111111111,
             "#46039f"
            ],
            [
             0.2222222222222222,
             "#7201a8"
            ],
            [
             0.3333333333333333,
             "#9c179e"
            ],
            [
             0.4444444444444444,
             "#bd3786"
            ],
            [
             0.5555555555555556,
             "#d8576b"
            ],
            [
             0.6666666666666666,
             "#ed7953"
            ],
            [
             0.7777777777777778,
             "#fb9f3a"
            ],
            [
             0.8888888888888888,
             "#fdca26"
            ],
            [
             1,
             "#f0f921"
            ]
           ],
           "sequentialminus": [
            [
             0,
             "#0d0887"
            ],
            [
             0.1111111111111111,
             "#46039f"
            ],
            [
             0.2222222222222222,
             "#7201a8"
            ],
            [
             0.3333333333333333,
             "#9c179e"
            ],
            [
             0.4444444444444444,
             "#bd3786"
            ],
            [
             0.5555555555555556,
             "#d8576b"
            ],
            [
             0.6666666666666666,
             "#ed7953"
            ],
            [
             0.7777777777777778,
             "#fb9f3a"
            ],
            [
             0.8888888888888888,
             "#fdca26"
            ],
            [
             1,
             "#f0f921"
            ]
           ]
          },
          "colorway": [
           "#636efa",
           "#EF553B",
           "#00cc96",
           "#ab63fa",
           "#FFA15A",
           "#19d3f3",
           "#FF6692",
           "#B6E880",
           "#FF97FF",
           "#FECB52"
          ],
          "font": {
           "color": "#2a3f5f"
          },
          "geo": {
           "bgcolor": "white",
           "lakecolor": "white",
           "landcolor": "white",
           "showlakes": true,
           "showland": true,
           "subunitcolor": "#C8D4E3"
          },
          "hoverlabel": {
           "align": "left"
          },
          "hovermode": "closest",
          "mapbox": {
           "style": "light"
          },
          "paper_bgcolor": "white",
          "plot_bgcolor": "white",
          "polar": {
           "angularaxis": {
            "gridcolor": "#EBF0F8",
            "linecolor": "#EBF0F8",
            "ticks": ""
           },
           "bgcolor": "white",
           "radialaxis": {
            "gridcolor": "#EBF0F8",
            "linecolor": "#EBF0F8",
            "ticks": ""
           }
          },
          "scene": {
           "xaxis": {
            "backgroundcolor": "white",
            "gridcolor": "#DFE8F3",
            "gridwidth": 2,
            "linecolor": "#EBF0F8",
            "showbackground": true,
            "ticks": "",
            "zerolinecolor": "#EBF0F8"
           },
           "yaxis": {
            "backgroundcolor": "white",
            "gridcolor": "#DFE8F3",
            "gridwidth": 2,
            "linecolor": "#EBF0F8",
            "showbackground": true,
            "ticks": "",
            "zerolinecolor": "#EBF0F8"
           },
           "zaxis": {
            "backgroundcolor": "white",
            "gridcolor": "#DFE8F3",
            "gridwidth": 2,
            "linecolor": "#EBF0F8",
            "showbackground": true,
            "ticks": "",
            "zerolinecolor": "#EBF0F8"
           }
          },
          "shapedefaults": {
           "line": {
            "color": "#2a3f5f"
           }
          },
          "ternary": {
           "aaxis": {
            "gridcolor": "#DFE8F3",
            "linecolor": "#A2B1C6",
            "ticks": ""
           },
           "baxis": {
            "gridcolor": "#DFE8F3",
            "linecolor": "#A2B1C6",
            "ticks": ""
           },
           "bgcolor": "white",
           "caxis": {
            "gridcolor": "#DFE8F3",
            "linecolor": "#A2B1C6",
            "ticks": ""
           }
          },
          "title": {
           "x": 0.05
          },
          "xaxis": {
           "automargin": true,
           "gridcolor": "#EBF0F8",
           "linecolor": "#EBF0F8",
           "ticks": "",
           "title": {
            "standoff": 15
           },
           "zerolinecolor": "#EBF0F8",
           "zerolinewidth": 2
          },
          "yaxis": {
           "automargin": true,
           "gridcolor": "#EBF0F8",
           "linecolor": "#EBF0F8",
           "ticks": "",
           "title": {
            "standoff": 15
           },
           "zerolinecolor": "#EBF0F8",
           "zerolinewidth": 2
          }
         }
        },
        "title": {
         "text": "มาคิดเชื่อเรื่องใหม่หน่อย"
        },
        "xaxis": {
         "title": {
          "text": "เมืองในประเทศบราซิล"
         }
        },
        "yaxis": {
         "title": {
          "text": "จำนวนที่หายจาก covid-19"
         }
        }
       }
      },
      "text/html": [
       "<div>                            <div id=\"49373725-3175-413b-ac93-c63f17e2233e\" class=\"plotly-graph-div\" style=\"height:525px; width:100%;\"></div>            <script type=\"text/javascript\">                require([\"plotly\"], function(Plotly) {                    window.PLOTLYENV=window.PLOTLYENV || {};                                    if (document.getElementById(\"49373725-3175-413b-ac93-c63f17e2233e\")) {                    Plotly.newPlot(                        \"49373725-3175-413b-ac93-c63f17e2233e\",                        [{\"marker\": {\"color\": [\"#7d0633\", \"#821752\", \"#0f3057\", \"#00587a\", \"#008891\", \"#41aea9\", \"#a6f6f1\", \"#ccf6c8\", \"#fafcc2\", \"#f6d6ad\", \"#f9c0c0\"]}, \"text\": [\"confirmed\"], \"textposition\": \"auto\", \"type\": \"bar\", \"x\": [\"Sao Paulo\", \"Bahia\", \"Minas Gerais\", \"Rio de Janeiro\", \"Ceara\", \"Para\", \"Santa Catarina\", \"Goias\", \"Distrito Federal\", \"Rio Grande do Sul\", \"Parana\", \"Maranhao\", \"Pernambuco\", \"Amazonas\", \"Espirito Santo\", \"Mato Grosso\", \"Paraiba\", \"Piaui\", \"Alagoas\", \"Sergipe\", \"Mato Grosso do Sul\", \"Rio Grande do Norte\", \"Tocantins\", \"Rondonia\", \"Roraima\", \"Amapa\", \"Acre\"], \"y\": [985628, 310526, 295169, 264783, 241159, 230449, 215478, 209411, 192245, 190572, 178898, 173564, 147171, 139326, 131490, 123416, 121267, 96086, 86879, 77440, 69706, 69433, 68003, 65911, 50449, 48254, 28222]}],                        {\"template\": {\"data\": {\"bar\": [{\"error_x\": {\"color\": \"#2a3f5f\"}, \"error_y\": {\"color\": \"#2a3f5f\"}, \"marker\": {\"line\": {\"color\": \"white\", \"width\": 0.5}}, \"type\": \"bar\"}], \"barpolar\": [{\"marker\": {\"line\": {\"color\": \"white\", \"width\": 0.5}}, \"type\": \"barpolar\"}], \"carpet\": [{\"aaxis\": {\"endlinecolor\": \"#2a3f5f\", \"gridcolor\": \"#C8D4E3\", \"linecolor\": \"#C8D4E3\", \"minorgridcolor\": \"#C8D4E3\", \"startlinecolor\": \"#2a3f5f\"}, \"baxis\": {\"endlinecolor\": \"#2a3f5f\", \"gridcolor\": \"#C8D4E3\", \"linecolor\": \"#C8D4E3\", \"minorgridcolor\": \"#C8D4E3\", \"startlinecolor\": \"#2a3f5f\"}, \"type\": \"carpet\"}], \"choropleth\": [{\"colorbar\": {\"outlinewidth\": 0, \"ticks\": \"\"}, \"type\": \"choropleth\"}], \"contour\": [{\"colorbar\": {\"outlinewidth\": 0, \"ticks\": \"\"}, \"colorscale\": [[0.0, \"#0d0887\"], [0.1111111111111111, \"#46039f\"], [0.2222222222222222, \"#7201a8\"], [0.3333333333333333, \"#9c179e\"], [0.4444444444444444, \"#bd3786\"], [0.5555555555555556, \"#d8576b\"], [0.6666666666666666, \"#ed7953\"], [0.7777777777777778, \"#fb9f3a\"], [0.8888888888888888, \"#fdca26\"], [1.0, \"#f0f921\"]], \"type\": \"contour\"}], \"contourcarpet\": [{\"colorbar\": {\"outlinewidth\": 0, \"ticks\": \"\"}, \"type\": \"contourcarpet\"}], \"heatmap\": [{\"colorbar\": {\"outlinewidth\": 0, \"ticks\": \"\"}, \"colorscale\": [[0.0, \"#0d0887\"], [0.1111111111111111, \"#46039f\"], [0.2222222222222222, \"#7201a8\"], [0.3333333333333333, \"#9c179e\"], [0.4444444444444444, \"#bd3786\"], [0.5555555555555556, \"#d8576b\"], [0.6666666666666666, \"#ed7953\"], [0.7777777777777778, \"#fb9f3a\"], [0.8888888888888888, \"#fdca26\"], [1.0, \"#f0f921\"]], \"type\": \"heatmap\"}], \"heatmapgl\": [{\"colorbar\": {\"outlinewidth\": 0, \"ticks\": \"\"}, \"colorscale\": [[0.0, \"#0d0887\"], [0.1111111111111111, \"#46039f\"], [0.2222222222222222, \"#7201a8\"], [0.3333333333333333, \"#9c179e\"], [0.4444444444444444, \"#bd3786\"], [0.5555555555555556, \"#d8576b\"], [0.6666666666666666, \"#ed7953\"], [0.7777777777777778, \"#fb9f3a\"], [0.8888888888888888, \"#fdca26\"], [1.0, \"#f0f921\"]], \"type\": \"heatmapgl\"}], \"histogram\": [{\"marker\": {\"colorbar\": {\"outlinewidth\": 0, \"ticks\": \"\"}}, \"type\": \"histogram\"}], \"histogram2d\": [{\"colorbar\": {\"outlinewidth\": 0, \"ticks\": \"\"}, \"colorscale\": [[0.0, \"#0d0887\"], [0.1111111111111111, \"#46039f\"], [0.2222222222222222, \"#7201a8\"], [0.3333333333333333, \"#9c179e\"], [0.4444444444444444, \"#bd3786\"], [0.5555555555555556, \"#d8576b\"], [0.6666666666666666, \"#ed7953\"], [0.7777777777777778, \"#fb9f3a\"], [0.8888888888888888, \"#fdca26\"], [1.0, \"#f0f921\"]], \"type\": \"histogram2d\"}], \"histogram2dcontour\": [{\"colorbar\": {\"outlinewidth\": 0, \"ticks\": \"\"}, \"colorscale\": [[0.0, \"#0d0887\"], [0.1111111111111111, \"#46039f\"], [0.2222222222222222, \"#7201a8\"], [0.3333333333333333, \"#9c179e\"], [0.4444444444444444, \"#bd3786\"], [0.5555555555555556, \"#d8576b\"], [0.6666666666666666, \"#ed7953\"], [0.7777777777777778, \"#fb9f3a\"], [0.8888888888888888, \"#fdca26\"], [1.0, \"#f0f921\"]], \"type\": \"histogram2dcontour\"}], \"mesh3d\": [{\"colorbar\": {\"outlinewidth\": 0, \"ticks\": \"\"}, \"type\": \"mesh3d\"}], \"parcoords\": [{\"line\": {\"colorbar\": {\"outlinewidth\": 0, \"ticks\": \"\"}}, \"type\": \"parcoords\"}], \"pie\": [{\"automargin\": true, \"type\": \"pie\"}], \"scatter\": [{\"marker\": {\"colorbar\": {\"outlinewidth\": 0, \"ticks\": \"\"}}, \"type\": \"scatter\"}], \"scatter3d\": [{\"line\": {\"colorbar\": {\"outlinewidth\": 0, \"ticks\": \"\"}}, \"marker\": {\"colorbar\": {\"outlinewidth\": 0, \"ticks\": \"\"}}, \"type\": \"scatter3d\"}], \"scattercarpet\": [{\"marker\": {\"colorbar\": {\"outlinewidth\": 0, \"ticks\": \"\"}}, \"type\": \"scattercarpet\"}], \"scattergeo\": [{\"marker\": {\"colorbar\": {\"outlinewidth\": 0, \"ticks\": \"\"}}, \"type\": \"scattergeo\"}], \"scattergl\": [{\"marker\": {\"colorbar\": {\"outlinewidth\": 0, \"ticks\": \"\"}}, \"type\": \"scattergl\"}], \"scattermapbox\": [{\"marker\": {\"colorbar\": {\"outlinewidth\": 0, \"ticks\": \"\"}}, \"type\": \"scattermapbox\"}], \"scatterpolar\": [{\"marker\": {\"colorbar\": {\"outlinewidth\": 0, \"ticks\": \"\"}}, \"type\": \"scatterpolar\"}], \"scatterpolargl\": [{\"marker\": {\"colorbar\": {\"outlinewidth\": 0, \"ticks\": \"\"}}, \"type\": \"scatterpolargl\"}], \"scatterternary\": [{\"marker\": {\"colorbar\": {\"outlinewidth\": 0, \"ticks\": \"\"}}, \"type\": \"scatterternary\"}], \"surface\": [{\"colorbar\": {\"outlinewidth\": 0, \"ticks\": \"\"}, \"colorscale\": [[0.0, \"#0d0887\"], [0.1111111111111111, \"#46039f\"], [0.2222222222222222, \"#7201a8\"], [0.3333333333333333, \"#9c179e\"], [0.4444444444444444, \"#bd3786\"], [0.5555555555555556, \"#d8576b\"], [0.6666666666666666, \"#ed7953\"], [0.7777777777777778, \"#fb9f3a\"], [0.8888888888888888, \"#fdca26\"], [1.0, \"#f0f921\"]], \"type\": \"surface\"}], \"table\": [{\"cells\": {\"fill\": {\"color\": \"#EBF0F8\"}, \"line\": {\"color\": \"white\"}}, \"header\": {\"fill\": {\"color\": \"#C8D4E3\"}, \"line\": {\"color\": \"white\"}}, \"type\": \"table\"}]}, \"layout\": {\"annotationdefaults\": {\"arrowcolor\": \"#2a3f5f\", \"arrowhead\": 0, \"arrowwidth\": 1}, \"coloraxis\": {\"colorbar\": {\"outlinewidth\": 0, \"ticks\": \"\"}}, \"colorscale\": {\"diverging\": [[0, \"#8e0152\"], [0.1, \"#c51b7d\"], [0.2, \"#de77ae\"], [0.3, \"#f1b6da\"], [0.4, \"#fde0ef\"], [0.5, \"#f7f7f7\"], [0.6, \"#e6f5d0\"], [0.7, \"#b8e186\"], [0.8, \"#7fbc41\"], [0.9, \"#4d9221\"], [1, \"#276419\"]], \"sequential\": [[0.0, \"#0d0887\"], [0.1111111111111111, \"#46039f\"], [0.2222222222222222, \"#7201a8\"], [0.3333333333333333, \"#9c179e\"], [0.4444444444444444, \"#bd3786\"], [0.5555555555555556, \"#d8576b\"], [0.6666666666666666, \"#ed7953\"], [0.7777777777777778, \"#fb9f3a\"], [0.8888888888888888, \"#fdca26\"], [1.0, \"#f0f921\"]], \"sequentialminus\": [[0.0, \"#0d0887\"], [0.1111111111111111, \"#46039f\"], [0.2222222222222222, \"#7201a8\"], [0.3333333333333333, \"#9c179e\"], [0.4444444444444444, \"#bd3786\"], [0.5555555555555556, \"#d8576b\"], [0.6666666666666666, \"#ed7953\"], [0.7777777777777778, \"#fb9f3a\"], [0.8888888888888888, \"#fdca26\"], [1.0, \"#f0f921\"]]}, \"colorway\": [\"#636efa\", \"#EF553B\", \"#00cc96\", \"#ab63fa\", \"#FFA15A\", \"#19d3f3\", \"#FF6692\", \"#B6E880\", \"#FF97FF\", \"#FECB52\"], \"font\": {\"color\": \"#2a3f5f\"}, \"geo\": {\"bgcolor\": \"white\", \"lakecolor\": \"white\", \"landcolor\": \"white\", \"showlakes\": true, \"showland\": true, \"subunitcolor\": \"#C8D4E3\"}, \"hoverlabel\": {\"align\": \"left\"}, \"hovermode\": \"closest\", \"mapbox\": {\"style\": \"light\"}, \"paper_bgcolor\": \"white\", \"plot_bgcolor\": \"white\", \"polar\": {\"angularaxis\": {\"gridcolor\": \"#EBF0F8\", \"linecolor\": \"#EBF0F8\", \"ticks\": \"\"}, \"bgcolor\": \"white\", \"radialaxis\": {\"gridcolor\": \"#EBF0F8\", \"linecolor\": \"#EBF0F8\", \"ticks\": \"\"}}, \"scene\": {\"xaxis\": {\"backgroundcolor\": \"white\", \"gridcolor\": \"#DFE8F3\", \"gridwidth\": 2, \"linecolor\": \"#EBF0F8\", \"showbackground\": true, \"ticks\": \"\", \"zerolinecolor\": \"#EBF0F8\"}, \"yaxis\": {\"backgroundcolor\": \"white\", \"gridcolor\": \"#DFE8F3\", \"gridwidth\": 2, \"linecolor\": \"#EBF0F8\", \"showbackground\": true, \"ticks\": \"\", \"zerolinecolor\": \"#EBF0F8\"}, \"zaxis\": {\"backgroundcolor\": \"white\", \"gridcolor\": \"#DFE8F3\", \"gridwidth\": 2, \"linecolor\": \"#EBF0F8\", \"showbackground\": true, \"ticks\": \"\", \"zerolinecolor\": \"#EBF0F8\"}}, \"shapedefaults\": {\"line\": {\"color\": \"#2a3f5f\"}}, \"ternary\": {\"aaxis\": {\"gridcolor\": \"#DFE8F3\", \"linecolor\": \"#A2B1C6\", \"ticks\": \"\"}, \"baxis\": {\"gridcolor\": \"#DFE8F3\", \"linecolor\": \"#A2B1C6\", \"ticks\": \"\"}, \"bgcolor\": \"white\", \"caxis\": {\"gridcolor\": \"#DFE8F3\", \"linecolor\": \"#A2B1C6\", \"ticks\": \"\"}}, \"title\": {\"x\": 0.05}, \"xaxis\": {\"automargin\": true, \"gridcolor\": \"#EBF0F8\", \"linecolor\": \"#EBF0F8\", \"ticks\": \"\", \"title\": {\"standoff\": 15}, \"zerolinecolor\": \"#EBF0F8\", \"zerolinewidth\": 2}, \"yaxis\": {\"automargin\": true, \"gridcolor\": \"#EBF0F8\", \"linecolor\": \"#EBF0F8\", \"ticks\": \"\", \"title\": {\"standoff\": 15}, \"zerolinecolor\": \"#EBF0F8\", \"zerolinewidth\": 2}}}, \"title\": {\"text\": \"\\u0e21\\u0e32\\u0e04\\u0e34\\u0e14\\u0e40\\u0e0a\\u0e37\\u0e48\\u0e2d\\u0e40\\u0e23\\u0e37\\u0e48\\u0e2d\\u0e07\\u0e43\\u0e2b\\u0e21\\u0e48\\u0e2b\\u0e19\\u0e48\\u0e2d\\u0e22\"}, \"xaxis\": {\"title\": {\"text\": \"\\u0e40\\u0e21\\u0e37\\u0e2d\\u0e07\\u0e43\\u0e19\\u0e1b\\u0e23\\u0e30\\u0e40\\u0e17\\u0e28\\u0e1a\\u0e23\\u0e32\\u0e0b\\u0e34\\u0e25\"}}, \"yaxis\": {\"title\": {\"text\": \"\\u0e08\\u0e33\\u0e19\\u0e27\\u0e19\\u0e17\\u0e35\\u0e48\\u0e2b\\u0e32\\u0e22\\u0e08\\u0e32\\u0e01 covid-19\"}}},                        {\"responsive\": true}                    ).then(function(){\n",
       "                            \n",
       "var gd = document.getElementById('49373725-3175-413b-ac93-c63f17e2233e');\n",
       "var x = new MutationObserver(function (mutations, observer) {{\n",
       "        var display = window.getComputedStyle(gd).display;\n",
       "        if (!display || display === 'none') {{\n",
       "            console.log([gd, 'removed!']);\n",
       "            Plotly.purge(gd);\n",
       "            observer.disconnect();\n",
       "        }}\n",
       "}});\n",
       "\n",
       "// Listen for the removal of the full notebook cells\n",
       "var notebookContainer = gd.closest('#notebook-container');\n",
       "if (notebookContainer) {{\n",
       "    x.observe(notebookContainer, {childList: true});\n",
       "}}\n",
       "\n",
       "// Listen for the clearing of the current output cell\n",
       "var outputEl = gd.closest('.output');\n",
       "if (outputEl) {{\n",
       "    x.observe(outputEl, {childList: true});\n",
       "}}\n",
       "\n",
       "                        })                };                });            </script>        </div>"
      ]
     },
     "metadata": {},
     "output_type": "display_data"
    }
   ],
   "source": [
    "#สมมติถ้าอยากได้ 10 ประเทศก็ slicing เอา เช่น [0:10] งี้\n",
    "\n",
    "fig = go.Figure(data=[go.Bar(\n",
    "            x=Data_BZ_state['province'], y=Data_BZ_state['confirmed'],\n",
    "            text=['confirmed'],\n",
    "            textposition='auto',\n",
    "            marker_color=['#7d0633','#821752','#0f3057','#00587a','#008891','#41aea9','#a6f6f1','#ccf6c8','#fafcc2','#f6d6ad','#f9c0c0'],\n",
    "\n",
    "        )])\n",
    "fig.update_layout(\n",
    "    title='มาคิดเชื่อเรื่องใหม่หน่อย',\n",
    "    xaxis_title=\"เมืองในประเทศบราซิล\",\n",
    "    yaxis_title=\"จำนวนผู้ติดเชื้อ\",\n",
    "    template='plotly_white'\n",
    ")\n",
    "fig.show()\n",
    "#ความแออัดของเมืองมีผลต่อ covid-19 หรือไม่? เป็นการพูดถึงเรื่องของพื้นที่"
   ]
  },
  {
   "cell_type": "code",
   "execution_count": 69,
   "metadata": {
    "colab": {
     "base_uri": "https://localhost:8080/",
     "height": 77
    },
    "id": "kUh93hRu-aQr",
    "outputId": "81454fda-e4d6-4a76-8dc5-e29a9bc71f24"
   },
   "outputs": [
    {
     "data": {
      "text/html": [
       "<div>\n",
       "<style scoped>\n",
       "    .dataframe tbody tr th:only-of-type {\n",
       "        vertical-align: middle;\n",
       "    }\n",
       "\n",
       "    .dataframe tbody tr th {\n",
       "        vertical-align: top;\n",
       "    }\n",
       "\n",
       "    .dataframe thead th {\n",
       "        text-align: right;\n",
       "    }\n",
       "</style>\n",
       "<table border=\"1\" class=\"dataframe\">\n",
       "  <thead>\n",
       "    <tr style=\"text-align: right;\">\n",
       "      <th></th>\n",
       "      <th>city</th>\n",
       "      <th>province</th>\n",
       "      <th>country</th>\n",
       "      <th>lastUpdate</th>\n",
       "      <th>keyId</th>\n",
       "      <th>confirmed</th>\n",
       "      <th>deaths</th>\n",
       "      <th>recovered</th>\n",
       "    </tr>\n",
       "  </thead>\n",
       "  <tbody>\n",
       "    <tr>\n",
       "      <th>0</th>\n",
       "      <td>NaN</td>\n",
       "      <td>NaN</td>\n",
       "      <td>Thailand</td>\n",
       "      <td>2020-10-01T04:23:42+00:00</td>\n",
       "      <td>Thailand</td>\n",
       "      <td>3569</td>\n",
       "      <td>59</td>\n",
       "      <td>3379.0</td>\n",
       "    </tr>\n",
       "  </tbody>\n",
       "</table>\n",
       "</div>"
      ],
      "text/plain": [
       "  city province   country                 lastUpdate     keyId  confirmed  \\\n",
       "0  NaN      NaN  Thailand  2020-10-01T04:23:42+00:00  Thailand       3569   \n",
       "\n",
       "   deaths  recovered  \n",
       "0      59     3379.0  "
      ]
     },
     "execution_count": 69,
     "metadata": {},
     "output_type": "execute_result"
    }
   ],
   "source": [
    "#Pie chart แสดงจำนวนผู้เสียชีวิต , ผู้ติดเชื้อ , ผู้เสียชีวิต ในประเทศไทย\n",
    "Data_TH = df[(df['country'] == 'Thailand') ].reset_index(drop=True)\n",
    "Data_TH"
   ]
  },
  {
   "cell_type": "code",
   "execution_count": 66,
   "metadata": {
    "colab": {
     "base_uri": "https://localhost:8080/",
     "height": 144
    },
    "id": "kHtZ60hxP03W",
    "outputId": "b8470621-7d51-4caf-8581-861ad1407a76"
   },
   "outputs": [
    {
     "data": {
      "text/html": [
       "<div>\n",
       "<style scoped>\n",
       "    .dataframe tbody tr th:only-of-type {\n",
       "        vertical-align: middle;\n",
       "    }\n",
       "\n",
       "    .dataframe tbody tr th {\n",
       "        vertical-align: top;\n",
       "    }\n",
       "\n",
       "    .dataframe thead th {\n",
       "        text-align: right;\n",
       "    }\n",
       "</style>\n",
       "<table border=\"1\" class=\"dataframe\">\n",
       "  <thead>\n",
       "    <tr style=\"text-align: right;\">\n",
       "      <th></th>\n",
       "      <th>city</th>\n",
       "      <th>confirmed</th>\n",
       "      <th>deaths</th>\n",
       "      <th>recovered</th>\n",
       "      <th>Active</th>\n",
       "    </tr>\n",
       "  </thead>\n",
       "  <tbody>\n",
       "    <tr>\n",
       "      <th>0</th>\n",
       "      <td>Unknown</td>\n",
       "      <td>3569</td>\n",
       "      <td>59</td>\n",
       "      <td>3379.0</td>\n",
       "      <td>131.0</td>\n",
       "    </tr>\n",
       "  </tbody>\n",
       "</table>\n",
       "</div>"
      ],
      "text/plain": [
       "      city  confirmed  deaths  recovered  Active\n",
       "0  Unknown       3569      59     3379.0   131.0"
      ]
     },
     "execution_count": 66,
     "metadata": {},
     "output_type": "execute_result"
    }
   ],
   "source": [
    "Data_TH = Data_TH[Data_TH['lastUpdate'] == max(Data_TH['lastUpdate'])].reset_index()\n",
    "Data_TH2= Data_TH.groupby([\"city\"])[\"confirmed\",\"deaths\",\"recovered\",\"Active\"].sum().reset_index().reset_index(drop=True)\n",
    "Data_TH2"
   ]
  },
  {
   "cell_type": "code",
   "execution_count": 67,
   "metadata": {
    "colab": {
     "base_uri": "https://localhost:8080/",
     "height": 542
    },
    "id": "P1AspZW_QYbr",
    "outputId": "f963fc4a-703c-4652-a21b-8c34ad932695"
   },
   "outputs": [
    {
     "data": {
      "application/vnd.plotly.v1+json": {
       "config": {
        "plotlyServerURL": "https://plot.ly"
       },
       "data": [
        {
         "domain": {
          "x": [
           0,
           1
          ],
          "y": [
           0,
           1
          ]
         },
         "hole": 0.5,
         "hovertemplate": "label=%{label}<br>value=%{value}<extra></extra>",
         "labels": [
          "Active ",
          "recovered",
          "deaths"
         ],
         "legendgroup": "",
         "name": "",
         "showlegend": true,
         "type": "pie",
         "values": [
          131,
          3379,
          59
         ]
        }
       ],
       "layout": {
        "legend": {
         "tracegroupgap": 0
        },
        "margin": {
         "t": 60
        },
        "piecolorway": [
         "#679b9b",
         "#6a2c70",
         "#821752"
        ],
        "template": {
         "data": {
          "bar": [
           {
            "error_x": {
             "color": "#2a3f5f"
            },
            "error_y": {
             "color": "#2a3f5f"
            },
            "marker": {
             "line": {
              "color": "#E5ECF6",
              "width": 0.5
             }
            },
            "type": "bar"
           }
          ],
          "barpolar": [
           {
            "marker": {
             "line": {
              "color": "#E5ECF6",
              "width": 0.5
             }
            },
            "type": "barpolar"
           }
          ],
          "carpet": [
           {
            "aaxis": {
             "endlinecolor": "#2a3f5f",
             "gridcolor": "white",
             "linecolor": "white",
             "minorgridcolor": "white",
             "startlinecolor": "#2a3f5f"
            },
            "baxis": {
             "endlinecolor": "#2a3f5f",
             "gridcolor": "white",
             "linecolor": "white",
             "minorgridcolor": "white",
             "startlinecolor": "#2a3f5f"
            },
            "type": "carpet"
           }
          ],
          "choropleth": [
           {
            "colorbar": {
             "outlinewidth": 0,
             "ticks": ""
            },
            "type": "choropleth"
           }
          ],
          "contour": [
           {
            "colorbar": {
             "outlinewidth": 0,
             "ticks": ""
            },
            "colorscale": [
             [
              0,
              "#0d0887"
             ],
             [
              0.1111111111111111,
              "#46039f"
             ],
             [
              0.2222222222222222,
              "#7201a8"
             ],
             [
              0.3333333333333333,
              "#9c179e"
             ],
             [
              0.4444444444444444,
              "#bd3786"
             ],
             [
              0.5555555555555556,
              "#d8576b"
             ],
             [
              0.6666666666666666,
              "#ed7953"
             ],
             [
              0.7777777777777778,
              "#fb9f3a"
             ],
             [
              0.8888888888888888,
              "#fdca26"
             ],
             [
              1,
              "#f0f921"
             ]
            ],
            "type": "contour"
           }
          ],
          "contourcarpet": [
           {
            "colorbar": {
             "outlinewidth": 0,
             "ticks": ""
            },
            "type": "contourcarpet"
           }
          ],
          "heatmap": [
           {
            "colorbar": {
             "outlinewidth": 0,
             "ticks": ""
            },
            "colorscale": [
             [
              0,
              "#0d0887"
             ],
             [
              0.1111111111111111,
              "#46039f"
             ],
             [
              0.2222222222222222,
              "#7201a8"
             ],
             [
              0.3333333333333333,
              "#9c179e"
             ],
             [
              0.4444444444444444,
              "#bd3786"
             ],
             [
              0.5555555555555556,
              "#d8576b"
             ],
             [
              0.6666666666666666,
              "#ed7953"
             ],
             [
              0.7777777777777778,
              "#fb9f3a"
             ],
             [
              0.8888888888888888,
              "#fdca26"
             ],
             [
              1,
              "#f0f921"
             ]
            ],
            "type": "heatmap"
           }
          ],
          "heatmapgl": [
           {
            "colorbar": {
             "outlinewidth": 0,
             "ticks": ""
            },
            "colorscale": [
             [
              0,
              "#0d0887"
             ],
             [
              0.1111111111111111,
              "#46039f"
             ],
             [
              0.2222222222222222,
              "#7201a8"
             ],
             [
              0.3333333333333333,
              "#9c179e"
             ],
             [
              0.4444444444444444,
              "#bd3786"
             ],
             [
              0.5555555555555556,
              "#d8576b"
             ],
             [
              0.6666666666666666,
              "#ed7953"
             ],
             [
              0.7777777777777778,
              "#fb9f3a"
             ],
             [
              0.8888888888888888,
              "#fdca26"
             ],
             [
              1,
              "#f0f921"
             ]
            ],
            "type": "heatmapgl"
           }
          ],
          "histogram": [
           {
            "marker": {
             "colorbar": {
              "outlinewidth": 0,
              "ticks": ""
             }
            },
            "type": "histogram"
           }
          ],
          "histogram2d": [
           {
            "colorbar": {
             "outlinewidth": 0,
             "ticks": ""
            },
            "colorscale": [
             [
              0,
              "#0d0887"
             ],
             [
              0.1111111111111111,
              "#46039f"
             ],
             [
              0.2222222222222222,
              "#7201a8"
             ],
             [
              0.3333333333333333,
              "#9c179e"
             ],
             [
              0.4444444444444444,
              "#bd3786"
             ],
             [
              0.5555555555555556,
              "#d8576b"
             ],
             [
              0.6666666666666666,
              "#ed7953"
             ],
             [
              0.7777777777777778,
              "#fb9f3a"
             ],
             [
              0.8888888888888888,
              "#fdca26"
             ],
             [
              1,
              "#f0f921"
             ]
            ],
            "type": "histogram2d"
           }
          ],
          "histogram2dcontour": [
           {
            "colorbar": {
             "outlinewidth": 0,
             "ticks": ""
            },
            "colorscale": [
             [
              0,
              "#0d0887"
             ],
             [
              0.1111111111111111,
              "#46039f"
             ],
             [
              0.2222222222222222,
              "#7201a8"
             ],
             [
              0.3333333333333333,
              "#9c179e"
             ],
             [
              0.4444444444444444,
              "#bd3786"
             ],
             [
              0.5555555555555556,
              "#d8576b"
             ],
             [
              0.6666666666666666,
              "#ed7953"
             ],
             [
              0.7777777777777778,
              "#fb9f3a"
             ],
             [
              0.8888888888888888,
              "#fdca26"
             ],
             [
              1,
              "#f0f921"
             ]
            ],
            "type": "histogram2dcontour"
           }
          ],
          "mesh3d": [
           {
            "colorbar": {
             "outlinewidth": 0,
             "ticks": ""
            },
            "type": "mesh3d"
           }
          ],
          "parcoords": [
           {
            "line": {
             "colorbar": {
              "outlinewidth": 0,
              "ticks": ""
             }
            },
            "type": "parcoords"
           }
          ],
          "pie": [
           {
            "automargin": true,
            "type": "pie"
           }
          ],
          "scatter": [
           {
            "marker": {
             "colorbar": {
              "outlinewidth": 0,
              "ticks": ""
             }
            },
            "type": "scatter"
           }
          ],
          "scatter3d": [
           {
            "line": {
             "colorbar": {
              "outlinewidth": 0,
              "ticks": ""
             }
            },
            "marker": {
             "colorbar": {
              "outlinewidth": 0,
              "ticks": ""
             }
            },
            "type": "scatter3d"
           }
          ],
          "scattercarpet": [
           {
            "marker": {
             "colorbar": {
              "outlinewidth": 0,
              "ticks": ""
             }
            },
            "type": "scattercarpet"
           }
          ],
          "scattergeo": [
           {
            "marker": {
             "colorbar": {
              "outlinewidth": 0,
              "ticks": ""
             }
            },
            "type": "scattergeo"
           }
          ],
          "scattergl": [
           {
            "marker": {
             "colorbar": {
              "outlinewidth": 0,
              "ticks": ""
             }
            },
            "type": "scattergl"
           }
          ],
          "scattermapbox": [
           {
            "marker": {
             "colorbar": {
              "outlinewidth": 0,
              "ticks": ""
             }
            },
            "type": "scattermapbox"
           }
          ],
          "scatterpolar": [
           {
            "marker": {
             "colorbar": {
              "outlinewidth": 0,
              "ticks": ""
             }
            },
            "type": "scatterpolar"
           }
          ],
          "scatterpolargl": [
           {
            "marker": {
             "colorbar": {
              "outlinewidth": 0,
              "ticks": ""
             }
            },
            "type": "scatterpolargl"
           }
          ],
          "scatterternary": [
           {
            "marker": {
             "colorbar": {
              "outlinewidth": 0,
              "ticks": ""
             }
            },
            "type": "scatterternary"
           }
          ],
          "surface": [
           {
            "colorbar": {
             "outlinewidth": 0,
             "ticks": ""
            },
            "colorscale": [
             [
              0,
              "#0d0887"
             ],
             [
              0.1111111111111111,
              "#46039f"
             ],
             [
              0.2222222222222222,
              "#7201a8"
             ],
             [
              0.3333333333333333,
              "#9c179e"
             ],
             [
              0.4444444444444444,
              "#bd3786"
             ],
             [
              0.5555555555555556,
              "#d8576b"
             ],
             [
              0.6666666666666666,
              "#ed7953"
             ],
             [
              0.7777777777777778,
              "#fb9f3a"
             ],
             [
              0.8888888888888888,
              "#fdca26"
             ],
             [
              1,
              "#f0f921"
             ]
            ],
            "type": "surface"
           }
          ],
          "table": [
           {
            "cells": {
             "fill": {
              "color": "#EBF0F8"
             },
             "line": {
              "color": "white"
             }
            },
            "header": {
             "fill": {
              "color": "#C8D4E3"
             },
             "line": {
              "color": "white"
             }
            },
            "type": "table"
           }
          ]
         },
         "layout": {
          "annotationdefaults": {
           "arrowcolor": "#2a3f5f",
           "arrowhead": 0,
           "arrowwidth": 1
          },
          "coloraxis": {
           "colorbar": {
            "outlinewidth": 0,
            "ticks": ""
           }
          },
          "colorscale": {
           "diverging": [
            [
             0,
             "#8e0152"
            ],
            [
             0.1,
             "#c51b7d"
            ],
            [
             0.2,
             "#de77ae"
            ],
            [
             0.3,
             "#f1b6da"
            ],
            [
             0.4,
             "#fde0ef"
            ],
            [
             0.5,
             "#f7f7f7"
            ],
            [
             0.6,
             "#e6f5d0"
            ],
            [
             0.7,
             "#b8e186"
            ],
            [
             0.8,
             "#7fbc41"
            ],
            [
             0.9,
             "#4d9221"
            ],
            [
             1,
             "#276419"
            ]
           ],
           "sequential": [
            [
             0,
             "#0d0887"
            ],
            [
             0.1111111111111111,
             "#46039f"
            ],
            [
             0.2222222222222222,
             "#7201a8"
            ],
            [
             0.3333333333333333,
             "#9c179e"
            ],
            [
             0.4444444444444444,
             "#bd3786"
            ],
            [
             0.5555555555555556,
             "#d8576b"
            ],
            [
             0.6666666666666666,
             "#ed7953"
            ],
            [
             0.7777777777777778,
             "#fb9f3a"
            ],
            [
             0.8888888888888888,
             "#fdca26"
            ],
            [
             1,
             "#f0f921"
            ]
           ],
           "sequentialminus": [
            [
             0,
             "#0d0887"
            ],
            [
             0.1111111111111111,
             "#46039f"
            ],
            [
             0.2222222222222222,
             "#7201a8"
            ],
            [
             0.3333333333333333,
             "#9c179e"
            ],
            [
             0.4444444444444444,
             "#bd3786"
            ],
            [
             0.5555555555555556,
             "#d8576b"
            ],
            [
             0.6666666666666666,
             "#ed7953"
            ],
            [
             0.7777777777777778,
             "#fb9f3a"
            ],
            [
             0.8888888888888888,
             "#fdca26"
            ],
            [
             1,
             "#f0f921"
            ]
           ]
          },
          "colorway": [
           "#636efa",
           "#EF553B",
           "#00cc96",
           "#ab63fa",
           "#FFA15A",
           "#19d3f3",
           "#FF6692",
           "#B6E880",
           "#FF97FF",
           "#FECB52"
          ],
          "font": {
           "color": "#2a3f5f"
          },
          "geo": {
           "bgcolor": "white",
           "lakecolor": "white",
           "landcolor": "#E5ECF6",
           "showlakes": true,
           "showland": true,
           "subunitcolor": "white"
          },
          "hoverlabel": {
           "align": "left"
          },
          "hovermode": "closest",
          "mapbox": {
           "style": "light"
          },
          "paper_bgcolor": "white",
          "plot_bgcolor": "#E5ECF6",
          "polar": {
           "angularaxis": {
            "gridcolor": "white",
            "linecolor": "white",
            "ticks": ""
           },
           "bgcolor": "#E5ECF6",
           "radialaxis": {
            "gridcolor": "white",
            "linecolor": "white",
            "ticks": ""
           }
          },
          "scene": {
           "xaxis": {
            "backgroundcolor": "#E5ECF6",
            "gridcolor": "white",
            "gridwidth": 2,
            "linecolor": "white",
            "showbackground": true,
            "ticks": "",
            "zerolinecolor": "white"
           },
           "yaxis": {
            "backgroundcolor": "#E5ECF6",
            "gridcolor": "white",
            "gridwidth": 2,
            "linecolor": "white",
            "showbackground": true,
            "ticks": "",
            "zerolinecolor": "white"
           },
           "zaxis": {
            "backgroundcolor": "#E5ECF6",
            "gridcolor": "white",
            "gridwidth": 2,
            "linecolor": "white",
            "showbackground": true,
            "ticks": "",
            "zerolinecolor": "white"
           }
          },
          "shapedefaults": {
           "line": {
            "color": "#2a3f5f"
           }
          },
          "ternary": {
           "aaxis": {
            "gridcolor": "white",
            "linecolor": "white",
            "ticks": ""
           },
           "baxis": {
            "gridcolor": "white",
            "linecolor": "white",
            "ticks": ""
           },
           "bgcolor": "#E5ECF6",
           "caxis": {
            "gridcolor": "white",
            "linecolor": "white",
            "ticks": ""
           }
          },
          "title": {
           "x": 0.05
          },
          "xaxis": {
           "automargin": true,
           "gridcolor": "white",
           "linecolor": "white",
           "ticks": "",
           "title": {
            "standoff": 15
           },
           "zerolinecolor": "white",
           "zerolinewidth": 2
          },
          "yaxis": {
           "automargin": true,
           "gridcolor": "white",
           "linecolor": "white",
           "ticks": "",
           "title": {
            "standoff": 15
           },
           "zerolinecolor": "white",
           "zerolinewidth": 2
          }
         }
        },
        "title": {
         "text": "covid-19 Thailand : 3569"
        }
       }
      },
      "text/html": [
       "<div>                            <div id=\"56d72ccd-edcc-4fa6-b177-8ecb8270faad\" class=\"plotly-graph-div\" style=\"height:525px; width:100%;\"></div>            <script type=\"text/javascript\">                require([\"plotly\"], function(Plotly) {                    window.PLOTLYENV=window.PLOTLYENV || {};                                    if (document.getElementById(\"56d72ccd-edcc-4fa6-b177-8ecb8270faad\")) {                    Plotly.newPlot(                        \"56d72ccd-edcc-4fa6-b177-8ecb8270faad\",                        [{\"domain\": {\"x\": [0.0, 1.0], \"y\": [0.0, 1.0]}, \"hole\": 0.5, \"hovertemplate\": \"label=%{label}<br>value=%{value}<extra></extra>\", \"labels\": [\"Active \", \"recovered\", \"deaths\"], \"legendgroup\": \"\", \"name\": \"\", \"showlegend\": true, \"type\": \"pie\", \"values\": [131.0, 3379.0, 59]}],                        {\"legend\": {\"tracegroupgap\": 0}, \"margin\": {\"t\": 60}, \"piecolorway\": [\"#679b9b\", \"#6a2c70\", \"#821752\"], \"template\": {\"data\": {\"bar\": [{\"error_x\": {\"color\": \"#2a3f5f\"}, \"error_y\": {\"color\": \"#2a3f5f\"}, \"marker\": {\"line\": {\"color\": \"#E5ECF6\", \"width\": 0.5}}, \"type\": \"bar\"}], \"barpolar\": [{\"marker\": {\"line\": {\"color\": \"#E5ECF6\", \"width\": 0.5}}, \"type\": \"barpolar\"}], \"carpet\": [{\"aaxis\": {\"endlinecolor\": \"#2a3f5f\", \"gridcolor\": \"white\", \"linecolor\": \"white\", \"minorgridcolor\": \"white\", \"startlinecolor\": \"#2a3f5f\"}, \"baxis\": {\"endlinecolor\": \"#2a3f5f\", \"gridcolor\": \"white\", \"linecolor\": \"white\", \"minorgridcolor\": \"white\", \"startlinecolor\": \"#2a3f5f\"}, \"type\": \"carpet\"}], \"choropleth\": [{\"colorbar\": {\"outlinewidth\": 0, \"ticks\": \"\"}, \"type\": \"choropleth\"}], \"contour\": [{\"colorbar\": {\"outlinewidth\": 0, \"ticks\": \"\"}, \"colorscale\": [[0.0, \"#0d0887\"], [0.1111111111111111, \"#46039f\"], [0.2222222222222222, \"#7201a8\"], [0.3333333333333333, \"#9c179e\"], [0.4444444444444444, \"#bd3786\"], [0.5555555555555556, \"#d8576b\"], [0.6666666666666666, \"#ed7953\"], [0.7777777777777778, \"#fb9f3a\"], [0.8888888888888888, \"#fdca26\"], [1.0, \"#f0f921\"]], \"type\": \"contour\"}], \"contourcarpet\": [{\"colorbar\": {\"outlinewidth\": 0, \"ticks\": \"\"}, \"type\": \"contourcarpet\"}], \"heatmap\": [{\"colorbar\": {\"outlinewidth\": 0, \"ticks\": \"\"}, \"colorscale\": [[0.0, \"#0d0887\"], [0.1111111111111111, \"#46039f\"], [0.2222222222222222, \"#7201a8\"], [0.3333333333333333, \"#9c179e\"], [0.4444444444444444, \"#bd3786\"], [0.5555555555555556, \"#d8576b\"], [0.6666666666666666, \"#ed7953\"], [0.7777777777777778, \"#fb9f3a\"], [0.8888888888888888, \"#fdca26\"], [1.0, \"#f0f921\"]], \"type\": \"heatmap\"}], \"heatmapgl\": [{\"colorbar\": {\"outlinewidth\": 0, \"ticks\": \"\"}, \"colorscale\": [[0.0, \"#0d0887\"], [0.1111111111111111, \"#46039f\"], [0.2222222222222222, \"#7201a8\"], [0.3333333333333333, \"#9c179e\"], [0.4444444444444444, \"#bd3786\"], [0.5555555555555556, \"#d8576b\"], [0.6666666666666666, \"#ed7953\"], [0.7777777777777778, \"#fb9f3a\"], [0.8888888888888888, \"#fdca26\"], [1.0, \"#f0f921\"]], \"type\": \"heatmapgl\"}], \"histogram\": [{\"marker\": {\"colorbar\": {\"outlinewidth\": 0, \"ticks\": \"\"}}, \"type\": \"histogram\"}], \"histogram2d\": [{\"colorbar\": {\"outlinewidth\": 0, \"ticks\": \"\"}, \"colorscale\": [[0.0, \"#0d0887\"], [0.1111111111111111, \"#46039f\"], [0.2222222222222222, \"#7201a8\"], [0.3333333333333333, \"#9c179e\"], [0.4444444444444444, \"#bd3786\"], [0.5555555555555556, \"#d8576b\"], [0.6666666666666666, \"#ed7953\"], [0.7777777777777778, \"#fb9f3a\"], [0.8888888888888888, \"#fdca26\"], [1.0, \"#f0f921\"]], \"type\": \"histogram2d\"}], \"histogram2dcontour\": [{\"colorbar\": {\"outlinewidth\": 0, \"ticks\": \"\"}, \"colorscale\": [[0.0, \"#0d0887\"], [0.1111111111111111, \"#46039f\"], [0.2222222222222222, \"#7201a8\"], [0.3333333333333333, \"#9c179e\"], [0.4444444444444444, \"#bd3786\"], [0.5555555555555556, \"#d8576b\"], [0.6666666666666666, \"#ed7953\"], [0.7777777777777778, \"#fb9f3a\"], [0.8888888888888888, \"#fdca26\"], [1.0, \"#f0f921\"]], \"type\": \"histogram2dcontour\"}], \"mesh3d\": [{\"colorbar\": {\"outlinewidth\": 0, \"ticks\": \"\"}, \"type\": \"mesh3d\"}], \"parcoords\": [{\"line\": {\"colorbar\": {\"outlinewidth\": 0, \"ticks\": \"\"}}, \"type\": \"parcoords\"}], \"pie\": [{\"automargin\": true, \"type\": \"pie\"}], \"scatter\": [{\"marker\": {\"colorbar\": {\"outlinewidth\": 0, \"ticks\": \"\"}}, \"type\": \"scatter\"}], \"scatter3d\": [{\"line\": {\"colorbar\": {\"outlinewidth\": 0, \"ticks\": \"\"}}, \"marker\": {\"colorbar\": {\"outlinewidth\": 0, \"ticks\": \"\"}}, \"type\": \"scatter3d\"}], \"scattercarpet\": [{\"marker\": {\"colorbar\": {\"outlinewidth\": 0, \"ticks\": \"\"}}, \"type\": \"scattercarpet\"}], \"scattergeo\": [{\"marker\": {\"colorbar\": {\"outlinewidth\": 0, \"ticks\": \"\"}}, \"type\": \"scattergeo\"}], \"scattergl\": [{\"marker\": {\"colorbar\": {\"outlinewidth\": 0, \"ticks\": \"\"}}, \"type\": \"scattergl\"}], \"scattermapbox\": [{\"marker\": {\"colorbar\": {\"outlinewidth\": 0, \"ticks\": \"\"}}, \"type\": \"scattermapbox\"}], \"scatterpolar\": [{\"marker\": {\"colorbar\": {\"outlinewidth\": 0, \"ticks\": \"\"}}, \"type\": \"scatterpolar\"}], \"scatterpolargl\": [{\"marker\": {\"colorbar\": {\"outlinewidth\": 0, \"ticks\": \"\"}}, \"type\": \"scatterpolargl\"}], \"scatterternary\": [{\"marker\": {\"colorbar\": {\"outlinewidth\": 0, \"ticks\": \"\"}}, \"type\": \"scatterternary\"}], \"surface\": [{\"colorbar\": {\"outlinewidth\": 0, \"ticks\": \"\"}, \"colorscale\": [[0.0, \"#0d0887\"], [0.1111111111111111, \"#46039f\"], [0.2222222222222222, \"#7201a8\"], [0.3333333333333333, \"#9c179e\"], [0.4444444444444444, \"#bd3786\"], [0.5555555555555556, \"#d8576b\"], [0.6666666666666666, \"#ed7953\"], [0.7777777777777778, \"#fb9f3a\"], [0.8888888888888888, \"#fdca26\"], [1.0, \"#f0f921\"]], \"type\": \"surface\"}], \"table\": [{\"cells\": {\"fill\": {\"color\": \"#EBF0F8\"}, \"line\": {\"color\": \"white\"}}, \"header\": {\"fill\": {\"color\": \"#C8D4E3\"}, \"line\": {\"color\": \"white\"}}, \"type\": \"table\"}]}, \"layout\": {\"annotationdefaults\": {\"arrowcolor\": \"#2a3f5f\", \"arrowhead\": 0, \"arrowwidth\": 1}, \"coloraxis\": {\"colorbar\": {\"outlinewidth\": 0, \"ticks\": \"\"}}, \"colorscale\": {\"diverging\": [[0, \"#8e0152\"], [0.1, \"#c51b7d\"], [0.2, \"#de77ae\"], [0.3, \"#f1b6da\"], [0.4, \"#fde0ef\"], [0.5, \"#f7f7f7\"], [0.6, \"#e6f5d0\"], [0.7, \"#b8e186\"], [0.8, \"#7fbc41\"], [0.9, \"#4d9221\"], [1, \"#276419\"]], \"sequential\": [[0.0, \"#0d0887\"], [0.1111111111111111, \"#46039f\"], [0.2222222222222222, \"#7201a8\"], [0.3333333333333333, \"#9c179e\"], [0.4444444444444444, \"#bd3786\"], [0.5555555555555556, \"#d8576b\"], [0.6666666666666666, \"#ed7953\"], [0.7777777777777778, \"#fb9f3a\"], [0.8888888888888888, \"#fdca26\"], [1.0, \"#f0f921\"]], \"sequentialminus\": [[0.0, \"#0d0887\"], [0.1111111111111111, \"#46039f\"], [0.2222222222222222, \"#7201a8\"], [0.3333333333333333, \"#9c179e\"], [0.4444444444444444, \"#bd3786\"], [0.5555555555555556, \"#d8576b\"], [0.6666666666666666, \"#ed7953\"], [0.7777777777777778, \"#fb9f3a\"], [0.8888888888888888, \"#fdca26\"], [1.0, \"#f0f921\"]]}, \"colorway\": [\"#636efa\", \"#EF553B\", \"#00cc96\", \"#ab63fa\", \"#FFA15A\", \"#19d3f3\", \"#FF6692\", \"#B6E880\", \"#FF97FF\", \"#FECB52\"], \"font\": {\"color\": \"#2a3f5f\"}, \"geo\": {\"bgcolor\": \"white\", \"lakecolor\": \"white\", \"landcolor\": \"#E5ECF6\", \"showlakes\": true, \"showland\": true, \"subunitcolor\": \"white\"}, \"hoverlabel\": {\"align\": \"left\"}, \"hovermode\": \"closest\", \"mapbox\": {\"style\": \"light\"}, \"paper_bgcolor\": \"white\", \"plot_bgcolor\": \"#E5ECF6\", \"polar\": {\"angularaxis\": {\"gridcolor\": \"white\", \"linecolor\": \"white\", \"ticks\": \"\"}, \"bgcolor\": \"#E5ECF6\", \"radialaxis\": {\"gridcolor\": \"white\", \"linecolor\": \"white\", \"ticks\": \"\"}}, \"scene\": {\"xaxis\": {\"backgroundcolor\": \"#E5ECF6\", \"gridcolor\": \"white\", \"gridwidth\": 2, \"linecolor\": \"white\", \"showbackground\": true, \"ticks\": \"\", \"zerolinecolor\": \"white\"}, \"yaxis\": {\"backgroundcolor\": \"#E5ECF6\", \"gridcolor\": \"white\", \"gridwidth\": 2, \"linecolor\": \"white\", \"showbackground\": true, \"ticks\": \"\", \"zerolinecolor\": \"white\"}, \"zaxis\": {\"backgroundcolor\": \"#E5ECF6\", \"gridcolor\": \"white\", \"gridwidth\": 2, \"linecolor\": \"white\", \"showbackground\": true, \"ticks\": \"\", \"zerolinecolor\": \"white\"}}, \"shapedefaults\": {\"line\": {\"color\": \"#2a3f5f\"}}, \"ternary\": {\"aaxis\": {\"gridcolor\": \"white\", \"linecolor\": \"white\", \"ticks\": \"\"}, \"baxis\": {\"gridcolor\": \"white\", \"linecolor\": \"white\", \"ticks\": \"\"}, \"bgcolor\": \"#E5ECF6\", \"caxis\": {\"gridcolor\": \"white\", \"linecolor\": \"white\", \"ticks\": \"\"}}, \"title\": {\"x\": 0.05}, \"xaxis\": {\"automargin\": true, \"gridcolor\": \"white\", \"linecolor\": \"white\", \"ticks\": \"\", \"title\": {\"standoff\": 15}, \"zerolinecolor\": \"white\", \"zerolinewidth\": 2}, \"yaxis\": {\"automargin\": true, \"gridcolor\": \"white\", \"linecolor\": \"white\", \"ticks\": \"\", \"title\": {\"standoff\": 15}, \"zerolinecolor\": \"white\", \"zerolinewidth\": 2}}}, \"title\": {\"text\": \"covid-19 Thailand : 3569\"}},                        {\"responsive\": true}                    ).then(function(){\n",
       "                            \n",
       "var gd = document.getElementById('56d72ccd-edcc-4fa6-b177-8ecb8270faad');\n",
       "var x = new MutationObserver(function (mutations, observer) {{\n",
       "        var display = window.getComputedStyle(gd).display;\n",
       "        if (!display || display === 'none') {{\n",
       "            console.log([gd, 'removed!']);\n",
       "            Plotly.purge(gd);\n",
       "            observer.disconnect();\n",
       "        }}\n",
       "}});\n",
       "\n",
       "// Listen for the removal of the full notebook cells\n",
       "var notebookContainer = gd.closest('#notebook-container');\n",
       "if (notebookContainer) {{\n",
       "    x.observe(notebookContainer, {childList: true});\n",
       "}}\n",
       "\n",
       "// Listen for the clearing of the current output cell\n",
       "var outputEl = gd.closest('.output');\n",
       "if (outputEl) {{\n",
       "    x.observe(outputEl, {childList: true});\n",
       "}}\n",
       "\n",
       "                        })                };                });            </script>        </div>"
      ]
     },
     "metadata": {},
     "output_type": "display_data"
    }
   ],
   "source": [
    "labels = [\"Active \",\"recovered\",\"deaths\"]\n",
    "values = Data_TH2.loc[0, [\"Active\",\"recovered\",\"deaths\"]]\n",
    "df = px.data.tips()\n",
    "fig = px.pie(Data_TH2, values=values, names=labels, color_discrete_sequence=['#679b9b','#6a2c70','#821752'], hole=0.5)\n",
    "fig.update_layout(\n",
    "    title='covid-19 Thailand : '+str(Data_TH2[\"confirmed\"][0]),\n",
    ")\n",
    "fig.show()"
   ]
  },
  {
   "cell_type": "code",
   "execution_count": 73,
   "metadata": {},
   "outputs": [
    {
     "data": {
      "text/html": [
       "<div>\n",
       "<style scoped>\n",
       "    .dataframe tbody tr th:only-of-type {\n",
       "        vertical-align: middle;\n",
       "    }\n",
       "\n",
       "    .dataframe tbody tr th {\n",
       "        vertical-align: top;\n",
       "    }\n",
       "\n",
       "    .dataframe thead th {\n",
       "        text-align: right;\n",
       "    }\n",
       "</style>\n",
       "<table border=\"1\" class=\"dataframe\">\n",
       "  <thead>\n",
       "    <tr style=\"text-align: right;\">\n",
       "      <th></th>\n",
       "      <th>city</th>\n",
       "      <th>province</th>\n",
       "      <th>country</th>\n",
       "      <th>lastUpdate</th>\n",
       "      <th>keyId</th>\n",
       "      <th>confirmed</th>\n",
       "      <th>deaths</th>\n",
       "      <th>recovered</th>\n",
       "    </tr>\n",
       "  </thead>\n",
       "  <tbody>\n",
       "    <tr>\n",
       "      <th>0</th>\n",
       "      <td>NaN</td>\n",
       "      <td>Aichi</td>\n",
       "      <td>Japan</td>\n",
       "      <td>2020-10-01T04:23:42+00:00</td>\n",
       "      <td>Aichi, Japan</td>\n",
       "      <td>5370</td>\n",
       "      <td>86</td>\n",
       "      <td>4877.0</td>\n",
       "    </tr>\n",
       "    <tr>\n",
       "      <th>1</th>\n",
       "      <td>NaN</td>\n",
       "      <td>Akita</td>\n",
       "      <td>Japan</td>\n",
       "      <td>2020-10-01T04:23:42+00:00</td>\n",
       "      <td>Akita, Japan</td>\n",
       "      <td>53</td>\n",
       "      <td>0</td>\n",
       "      <td>51.0</td>\n",
       "    </tr>\n",
       "    <tr>\n",
       "      <th>2</th>\n",
       "      <td>NaN</td>\n",
       "      <td>Aomori</td>\n",
       "      <td>Japan</td>\n",
       "      <td>2020-10-01T04:23:42+00:00</td>\n",
       "      <td>Aomori, Japan</td>\n",
       "      <td>36</td>\n",
       "      <td>1</td>\n",
       "      <td>34.0</td>\n",
       "    </tr>\n",
       "    <tr>\n",
       "      <th>3</th>\n",
       "      <td>NaN</td>\n",
       "      <td>Chiba</td>\n",
       "      <td>Japan</td>\n",
       "      <td>2020-10-01T04:23:42+00:00</td>\n",
       "      <td>Chiba, Japan</td>\n",
       "      <td>3896</td>\n",
       "      <td>71</td>\n",
       "      <td>3506.0</td>\n",
       "    </tr>\n",
       "    <tr>\n",
       "      <th>4</th>\n",
       "      <td>NaN</td>\n",
       "      <td>Ehime</td>\n",
       "      <td>Japan</td>\n",
       "      <td>2020-10-01T04:23:42+00:00</td>\n",
       "      <td>Ehime, Japan</td>\n",
       "      <td>114</td>\n",
       "      <td>6</td>\n",
       "      <td>108.0</td>\n",
       "    </tr>\n",
       "    <tr>\n",
       "      <th>5</th>\n",
       "      <td>NaN</td>\n",
       "      <td>Fukui</td>\n",
       "      <td>Japan</td>\n",
       "      <td>2020-10-01T04:23:42+00:00</td>\n",
       "      <td>Fukui, Japan</td>\n",
       "      <td>244</td>\n",
       "      <td>11</td>\n",
       "      <td>229.0</td>\n",
       "    </tr>\n",
       "    <tr>\n",
       "      <th>6</th>\n",
       "      <td>NaN</td>\n",
       "      <td>Fukuoka</td>\n",
       "      <td>Japan</td>\n",
       "      <td>2020-10-01T04:23:42+00:00</td>\n",
       "      <td>Fukuoka, Japan</td>\n",
       "      <td>5044</td>\n",
       "      <td>98</td>\n",
       "      <td>4837.0</td>\n",
       "    </tr>\n",
       "    <tr>\n",
       "      <th>7</th>\n",
       "      <td>NaN</td>\n",
       "      <td>Fukushima</td>\n",
       "      <td>Japan</td>\n",
       "      <td>2020-10-01T04:23:42+00:00</td>\n",
       "      <td>Fukushima, Japan</td>\n",
       "      <td>253</td>\n",
       "      <td>3</td>\n",
       "      <td>209.0</td>\n",
       "    </tr>\n",
       "    <tr>\n",
       "      <th>8</th>\n",
       "      <td>NaN</td>\n",
       "      <td>Gifu</td>\n",
       "      <td>Japan</td>\n",
       "      <td>2020-10-01T04:23:42+00:00</td>\n",
       "      <td>Gifu, Japan</td>\n",
       "      <td>626</td>\n",
       "      <td>10</td>\n",
       "      <td>585.0</td>\n",
       "    </tr>\n",
       "    <tr>\n",
       "      <th>9</th>\n",
       "      <td>NaN</td>\n",
       "      <td>Gunma</td>\n",
       "      <td>Japan</td>\n",
       "      <td>2020-10-01T04:23:42+00:00</td>\n",
       "      <td>Gunma, Japan</td>\n",
       "      <td>701</td>\n",
       "      <td>19</td>\n",
       "      <td>611.0</td>\n",
       "    </tr>\n",
       "    <tr>\n",
       "      <th>10</th>\n",
       "      <td>NaN</td>\n",
       "      <td>Hiroshima</td>\n",
       "      <td>Japan</td>\n",
       "      <td>2020-10-01T04:23:42+00:00</td>\n",
       "      <td>Hiroshima, Japan</td>\n",
       "      <td>574</td>\n",
       "      <td>3</td>\n",
       "      <td>469.0</td>\n",
       "    </tr>\n",
       "    <tr>\n",
       "      <th>11</th>\n",
       "      <td>NaN</td>\n",
       "      <td>Hokkaido</td>\n",
       "      <td>Japan</td>\n",
       "      <td>2020-10-01T04:23:42+00:00</td>\n",
       "      <td>Hokkaido, Japan</td>\n",
       "      <td>2096</td>\n",
       "      <td>107</td>\n",
       "      <td>1842.0</td>\n",
       "    </tr>\n",
       "    <tr>\n",
       "      <th>12</th>\n",
       "      <td>NaN</td>\n",
       "      <td>Hyogo</td>\n",
       "      <td>Japan</td>\n",
       "      <td>2020-10-01T04:23:42+00:00</td>\n",
       "      <td>Hyogo, Japan</td>\n",
       "      <td>2721</td>\n",
       "      <td>59</td>\n",
       "      <td>2522.0</td>\n",
       "    </tr>\n",
       "    <tr>\n",
       "      <th>13</th>\n",
       "      <td>NaN</td>\n",
       "      <td>Ibaraki</td>\n",
       "      <td>Japan</td>\n",
       "      <td>2020-10-01T04:23:42+00:00</td>\n",
       "      <td>Ibaraki, Japan</td>\n",
       "      <td>657</td>\n",
       "      <td>17</td>\n",
       "      <td>601.0</td>\n",
       "    </tr>\n",
       "    <tr>\n",
       "      <th>14</th>\n",
       "      <td>NaN</td>\n",
       "      <td>Ishikawa</td>\n",
       "      <td>Japan</td>\n",
       "      <td>2020-10-01T04:23:42+00:00</td>\n",
       "      <td>Ishikawa, Japan</td>\n",
       "      <td>776</td>\n",
       "      <td>47</td>\n",
       "      <td>683.0</td>\n",
       "    </tr>\n",
       "    <tr>\n",
       "      <th>15</th>\n",
       "      <td>NaN</td>\n",
       "      <td>Iwate</td>\n",
       "      <td>Japan</td>\n",
       "      <td>2020-10-01T04:23:42+00:00</td>\n",
       "      <td>Iwate, Japan</td>\n",
       "      <td>23</td>\n",
       "      <td>0</td>\n",
       "      <td>23.0</td>\n",
       "    </tr>\n",
       "    <tr>\n",
       "      <th>16</th>\n",
       "      <td>NaN</td>\n",
       "      <td>Kagawa</td>\n",
       "      <td>Japan</td>\n",
       "      <td>2020-10-01T04:23:42+00:00</td>\n",
       "      <td>Kagawa, Japan</td>\n",
       "      <td>94</td>\n",
       "      <td>2</td>\n",
       "      <td>88.0</td>\n",
       "    </tr>\n",
       "    <tr>\n",
       "      <th>17</th>\n",
       "      <td>NaN</td>\n",
       "      <td>Kagoshima</td>\n",
       "      <td>Japan</td>\n",
       "      <td>2020-10-01T04:23:42+00:00</td>\n",
       "      <td>Kagoshima, Japan</td>\n",
       "      <td>417</td>\n",
       "      <td>12</td>\n",
       "      <td>378.0</td>\n",
       "    </tr>\n",
       "    <tr>\n",
       "      <th>18</th>\n",
       "      <td>NaN</td>\n",
       "      <td>Kanagawa</td>\n",
       "      <td>Japan</td>\n",
       "      <td>2020-10-01T04:23:42+00:00</td>\n",
       "      <td>Kanagawa, Japan</td>\n",
       "      <td>6904</td>\n",
       "      <td>139</td>\n",
       "      <td>6167.0</td>\n",
       "    </tr>\n",
       "    <tr>\n",
       "      <th>19</th>\n",
       "      <td>NaN</td>\n",
       "      <td>Kochi</td>\n",
       "      <td>Japan</td>\n",
       "      <td>2020-10-01T04:23:42+00:00</td>\n",
       "      <td>Kochi, Japan</td>\n",
       "      <td>138</td>\n",
       "      <td>4</td>\n",
       "      <td>133.0</td>\n",
       "    </tr>\n",
       "    <tr>\n",
       "      <th>20</th>\n",
       "      <td>NaN</td>\n",
       "      <td>Kumamoto</td>\n",
       "      <td>Japan</td>\n",
       "      <td>2020-10-01T04:23:42+00:00</td>\n",
       "      <td>Kumamoto, Japan</td>\n",
       "      <td>573</td>\n",
       "      <td>8</td>\n",
       "      <td>559.0</td>\n",
       "    </tr>\n",
       "    <tr>\n",
       "      <th>21</th>\n",
       "      <td>NaN</td>\n",
       "      <td>Kyoto</td>\n",
       "      <td>Japan</td>\n",
       "      <td>2020-10-01T04:23:42+00:00</td>\n",
       "      <td>Kyoto, Japan</td>\n",
       "      <td>1762</td>\n",
       "      <td>25</td>\n",
       "      <td>1650.0</td>\n",
       "    </tr>\n",
       "    <tr>\n",
       "      <th>22</th>\n",
       "      <td>NaN</td>\n",
       "      <td>Mie</td>\n",
       "      <td>Japan</td>\n",
       "      <td>2020-10-01T04:23:42+00:00</td>\n",
       "      <td>Mie, Japan</td>\n",
       "      <td>510</td>\n",
       "      <td>6</td>\n",
       "      <td>411.0</td>\n",
       "    </tr>\n",
       "    <tr>\n",
       "      <th>23</th>\n",
       "      <td>NaN</td>\n",
       "      <td>Miyagi</td>\n",
       "      <td>Japan</td>\n",
       "      <td>2020-10-01T04:23:42+00:00</td>\n",
       "      <td>Miyagi, Japan</td>\n",
       "      <td>406</td>\n",
       "      <td>2</td>\n",
       "      <td>348.0</td>\n",
       "    </tr>\n",
       "    <tr>\n",
       "      <th>24</th>\n",
       "      <td>NaN</td>\n",
       "      <td>Miyazaki</td>\n",
       "      <td>Japan</td>\n",
       "      <td>2020-10-01T04:23:42+00:00</td>\n",
       "      <td>Miyazaki, Japan</td>\n",
       "      <td>365</td>\n",
       "      <td>1</td>\n",
       "      <td>343.0</td>\n",
       "    </tr>\n",
       "    <tr>\n",
       "      <th>25</th>\n",
       "      <td>NaN</td>\n",
       "      <td>Nagano</td>\n",
       "      <td>Japan</td>\n",
       "      <td>2020-10-01T04:23:42+00:00</td>\n",
       "      <td>Nagano, Japan</td>\n",
       "      <td>308</td>\n",
       "      <td>1</td>\n",
       "      <td>306.0</td>\n",
       "    </tr>\n",
       "    <tr>\n",
       "      <th>26</th>\n",
       "      <td>NaN</td>\n",
       "      <td>Nagasaki</td>\n",
       "      <td>Japan</td>\n",
       "      <td>2020-10-01T04:23:42+00:00</td>\n",
       "      <td>Nagasaki, Japan</td>\n",
       "      <td>236</td>\n",
       "      <td>3</td>\n",
       "      <td>231.0</td>\n",
       "    </tr>\n",
       "    <tr>\n",
       "      <th>27</th>\n",
       "      <td>NaN</td>\n",
       "      <td>Nara</td>\n",
       "      <td>Japan</td>\n",
       "      <td>2020-10-01T04:23:42+00:00</td>\n",
       "      <td>Nara, Japan</td>\n",
       "      <td>569</td>\n",
       "      <td>9</td>\n",
       "      <td>541.0</td>\n",
       "    </tr>\n",
       "    <tr>\n",
       "      <th>28</th>\n",
       "      <td>NaN</td>\n",
       "      <td>Niigata</td>\n",
       "      <td>Japan</td>\n",
       "      <td>2020-10-01T04:23:42+00:00</td>\n",
       "      <td>Niigata, Japan</td>\n",
       "      <td>170</td>\n",
       "      <td>0</td>\n",
       "      <td>160.0</td>\n",
       "    </tr>\n",
       "    <tr>\n",
       "      <th>29</th>\n",
       "      <td>NaN</td>\n",
       "      <td>Oita</td>\n",
       "      <td>Japan</td>\n",
       "      <td>2020-10-01T04:23:42+00:00</td>\n",
       "      <td>Oita, Japan</td>\n",
       "      <td>158</td>\n",
       "      <td>2</td>\n",
       "      <td>153.0</td>\n",
       "    </tr>\n",
       "    <tr>\n",
       "      <th>30</th>\n",
       "      <td>NaN</td>\n",
       "      <td>Okayama</td>\n",
       "      <td>Japan</td>\n",
       "      <td>2020-10-01T04:23:42+00:00</td>\n",
       "      <td>Okayama, Japan</td>\n",
       "      <td>157</td>\n",
       "      <td>1</td>\n",
       "      <td>147.0</td>\n",
       "    </tr>\n",
       "    <tr>\n",
       "      <th>31</th>\n",
       "      <td>NaN</td>\n",
       "      <td>Okinawa</td>\n",
       "      <td>Japan</td>\n",
       "      <td>2020-10-01T04:23:42+00:00</td>\n",
       "      <td>Okinawa, Japan</td>\n",
       "      <td>2496</td>\n",
       "      <td>46</td>\n",
       "      <td>2248.0</td>\n",
       "    </tr>\n",
       "    <tr>\n",
       "      <th>32</th>\n",
       "      <td>NaN</td>\n",
       "      <td>Osaka</td>\n",
       "      <td>Japan</td>\n",
       "      <td>2020-10-01T04:23:42+00:00</td>\n",
       "      <td>Osaka, Japan</td>\n",
       "      <td>10593</td>\n",
       "      <td>206</td>\n",
       "      <td>9784.0</td>\n",
       "    </tr>\n",
       "    <tr>\n",
       "      <th>33</th>\n",
       "      <td>NaN</td>\n",
       "      <td>Port Quarantine</td>\n",
       "      <td>Japan</td>\n",
       "      <td>2020-10-01T04:23:42+00:00</td>\n",
       "      <td>Port Quarantine, Japan</td>\n",
       "      <td>958</td>\n",
       "      <td>1</td>\n",
       "      <td>514.0</td>\n",
       "    </tr>\n",
       "    <tr>\n",
       "      <th>34</th>\n",
       "      <td>NaN</td>\n",
       "      <td>Saga</td>\n",
       "      <td>Japan</td>\n",
       "      <td>2020-10-01T04:23:42+00:00</td>\n",
       "      <td>Saga, Japan</td>\n",
       "      <td>243</td>\n",
       "      <td>0</td>\n",
       "      <td>245.0</td>\n",
       "    </tr>\n",
       "    <tr>\n",
       "      <th>35</th>\n",
       "      <td>NaN</td>\n",
       "      <td>Saitama</td>\n",
       "      <td>Japan</td>\n",
       "      <td>2020-10-01T04:23:42+00:00</td>\n",
       "      <td>Saitama, Japan</td>\n",
       "      <td>4663</td>\n",
       "      <td>102</td>\n",
       "      <td>4262.0</td>\n",
       "    </tr>\n",
       "    <tr>\n",
       "      <th>36</th>\n",
       "      <td>NaN</td>\n",
       "      <td>Shiga</td>\n",
       "      <td>Japan</td>\n",
       "      <td>2020-10-01T04:23:42+00:00</td>\n",
       "      <td>Shiga, Japan</td>\n",
       "      <td>502</td>\n",
       "      <td>8</td>\n",
       "      <td>465.0</td>\n",
       "    </tr>\n",
       "    <tr>\n",
       "      <th>37</th>\n",
       "      <td>NaN</td>\n",
       "      <td>Shimane</td>\n",
       "      <td>Japan</td>\n",
       "      <td>2020-10-01T04:23:42+00:00</td>\n",
       "      <td>Shimane, Japan</td>\n",
       "      <td>140</td>\n",
       "      <td>0</td>\n",
       "      <td>137.0</td>\n",
       "    </tr>\n",
       "    <tr>\n",
       "      <th>38</th>\n",
       "      <td>NaN</td>\n",
       "      <td>Shizuoka</td>\n",
       "      <td>Japan</td>\n",
       "      <td>2020-10-01T04:23:42+00:00</td>\n",
       "      <td>Shizuoka, Japan</td>\n",
       "      <td>541</td>\n",
       "      <td>2</td>\n",
       "      <td>516.0</td>\n",
       "    </tr>\n",
       "    <tr>\n",
       "      <th>39</th>\n",
       "      <td>NaN</td>\n",
       "      <td>Tochigi</td>\n",
       "      <td>Japan</td>\n",
       "      <td>2020-10-01T04:23:42+00:00</td>\n",
       "      <td>Tochigi, Japan</td>\n",
       "      <td>431</td>\n",
       "      <td>1</td>\n",
       "      <td>379.0</td>\n",
       "    </tr>\n",
       "    <tr>\n",
       "      <th>40</th>\n",
       "      <td>NaN</td>\n",
       "      <td>Tokushima</td>\n",
       "      <td>Japan</td>\n",
       "      <td>2020-10-01T04:23:42+00:00</td>\n",
       "      <td>Tokushima, Japan</td>\n",
       "      <td>148</td>\n",
       "      <td>9</td>\n",
       "      <td>126.0</td>\n",
       "    </tr>\n",
       "    <tr>\n",
       "      <th>41</th>\n",
       "      <td>NaN</td>\n",
       "      <td>Tokyo</td>\n",
       "      <td>Japan</td>\n",
       "      <td>2020-10-01T04:23:42+00:00</td>\n",
       "      <td>Tokyo, Japan</td>\n",
       "      <td>25751</td>\n",
       "      <td>408</td>\n",
       "      <td>22956.0</td>\n",
       "    </tr>\n",
       "    <tr>\n",
       "      <th>42</th>\n",
       "      <td>NaN</td>\n",
       "      <td>Tottori</td>\n",
       "      <td>Japan</td>\n",
       "      <td>2020-10-01T04:23:42+00:00</td>\n",
       "      <td>Tottori, Japan</td>\n",
       "      <td>36</td>\n",
       "      <td>0</td>\n",
       "      <td>30.0</td>\n",
       "    </tr>\n",
       "    <tr>\n",
       "      <th>43</th>\n",
       "      <td>NaN</td>\n",
       "      <td>Toyama</td>\n",
       "      <td>Japan</td>\n",
       "      <td>2020-10-01T04:23:42+00:00</td>\n",
       "      <td>Toyama, Japan</td>\n",
       "      <td>419</td>\n",
       "      <td>26</td>\n",
       "      <td>383.0</td>\n",
       "    </tr>\n",
       "    <tr>\n",
       "      <th>44</th>\n",
       "      <td>NaN</td>\n",
       "      <td>Unknown</td>\n",
       "      <td>Japan</td>\n",
       "      <td>2020-10-01T04:23:42+00:00</td>\n",
       "      <td>Unknown, Japan</td>\n",
       "      <td>8</td>\n",
       "      <td>0</td>\n",
       "      <td>8.0</td>\n",
       "    </tr>\n",
       "    <tr>\n",
       "      <th>45</th>\n",
       "      <td>NaN</td>\n",
       "      <td>Wakayama</td>\n",
       "      <td>Japan</td>\n",
       "      <td>2020-10-01T04:23:42+00:00</td>\n",
       "      <td>Wakayama, Japan</td>\n",
       "      <td>242</td>\n",
       "      <td>4</td>\n",
       "      <td>229.0</td>\n",
       "    </tr>\n",
       "    <tr>\n",
       "      <th>46</th>\n",
       "      <td>NaN</td>\n",
       "      <td>Yamagata</td>\n",
       "      <td>Japan</td>\n",
       "      <td>2020-10-01T04:23:42+00:00</td>\n",
       "      <td>Yamagata, Japan</td>\n",
       "      <td>78</td>\n",
       "      <td>1</td>\n",
       "      <td>76.0</td>\n",
       "    </tr>\n",
       "    <tr>\n",
       "      <th>47</th>\n",
       "      <td>NaN</td>\n",
       "      <td>Yamaguchi</td>\n",
       "      <td>Japan</td>\n",
       "      <td>2020-10-01T04:23:42+00:00</td>\n",
       "      <td>Yamaguchi, Japan</td>\n",
       "      <td>202</td>\n",
       "      <td>2</td>\n",
       "      <td>190.0</td>\n",
       "    </tr>\n",
       "    <tr>\n",
       "      <th>48</th>\n",
       "      <td>NaN</td>\n",
       "      <td>Yamanashi</td>\n",
       "      <td>Japan</td>\n",
       "      <td>2020-10-01T04:23:42+00:00</td>\n",
       "      <td>Yamanashi, Japan</td>\n",
       "      <td>189</td>\n",
       "      <td>6</td>\n",
       "      <td>172.0</td>\n",
       "    </tr>\n",
       "  </tbody>\n",
       "</table>\n",
       "</div>"
      ],
      "text/plain": [
       "   city         province country                 lastUpdate  \\\n",
       "0   NaN            Aichi   Japan  2020-10-01T04:23:42+00:00   \n",
       "1   NaN            Akita   Japan  2020-10-01T04:23:42+00:00   \n",
       "2   NaN           Aomori   Japan  2020-10-01T04:23:42+00:00   \n",
       "3   NaN            Chiba   Japan  2020-10-01T04:23:42+00:00   \n",
       "4   NaN            Ehime   Japan  2020-10-01T04:23:42+00:00   \n",
       "5   NaN            Fukui   Japan  2020-10-01T04:23:42+00:00   \n",
       "6   NaN          Fukuoka   Japan  2020-10-01T04:23:42+00:00   \n",
       "7   NaN        Fukushima   Japan  2020-10-01T04:23:42+00:00   \n",
       "8   NaN             Gifu   Japan  2020-10-01T04:23:42+00:00   \n",
       "9   NaN            Gunma   Japan  2020-10-01T04:23:42+00:00   \n",
       "10  NaN        Hiroshima   Japan  2020-10-01T04:23:42+00:00   \n",
       "11  NaN         Hokkaido   Japan  2020-10-01T04:23:42+00:00   \n",
       "12  NaN            Hyogo   Japan  2020-10-01T04:23:42+00:00   \n",
       "13  NaN          Ibaraki   Japan  2020-10-01T04:23:42+00:00   \n",
       "14  NaN         Ishikawa   Japan  2020-10-01T04:23:42+00:00   \n",
       "15  NaN            Iwate   Japan  2020-10-01T04:23:42+00:00   \n",
       "16  NaN           Kagawa   Japan  2020-10-01T04:23:42+00:00   \n",
       "17  NaN        Kagoshima   Japan  2020-10-01T04:23:42+00:00   \n",
       "18  NaN         Kanagawa   Japan  2020-10-01T04:23:42+00:00   \n",
       "19  NaN            Kochi   Japan  2020-10-01T04:23:42+00:00   \n",
       "20  NaN         Kumamoto   Japan  2020-10-01T04:23:42+00:00   \n",
       "21  NaN            Kyoto   Japan  2020-10-01T04:23:42+00:00   \n",
       "22  NaN              Mie   Japan  2020-10-01T04:23:42+00:00   \n",
       "23  NaN           Miyagi   Japan  2020-10-01T04:23:42+00:00   \n",
       "24  NaN         Miyazaki   Japan  2020-10-01T04:23:42+00:00   \n",
       "25  NaN           Nagano   Japan  2020-10-01T04:23:42+00:00   \n",
       "26  NaN         Nagasaki   Japan  2020-10-01T04:23:42+00:00   \n",
       "27  NaN             Nara   Japan  2020-10-01T04:23:42+00:00   \n",
       "28  NaN          Niigata   Japan  2020-10-01T04:23:42+00:00   \n",
       "29  NaN             Oita   Japan  2020-10-01T04:23:42+00:00   \n",
       "30  NaN          Okayama   Japan  2020-10-01T04:23:42+00:00   \n",
       "31  NaN          Okinawa   Japan  2020-10-01T04:23:42+00:00   \n",
       "32  NaN            Osaka   Japan  2020-10-01T04:23:42+00:00   \n",
       "33  NaN  Port Quarantine   Japan  2020-10-01T04:23:42+00:00   \n",
       "34  NaN             Saga   Japan  2020-10-01T04:23:42+00:00   \n",
       "35  NaN          Saitama   Japan  2020-10-01T04:23:42+00:00   \n",
       "36  NaN            Shiga   Japan  2020-10-01T04:23:42+00:00   \n",
       "37  NaN          Shimane   Japan  2020-10-01T04:23:42+00:00   \n",
       "38  NaN         Shizuoka   Japan  2020-10-01T04:23:42+00:00   \n",
       "39  NaN          Tochigi   Japan  2020-10-01T04:23:42+00:00   \n",
       "40  NaN        Tokushima   Japan  2020-10-01T04:23:42+00:00   \n",
       "41  NaN            Tokyo   Japan  2020-10-01T04:23:42+00:00   \n",
       "42  NaN          Tottori   Japan  2020-10-01T04:23:42+00:00   \n",
       "43  NaN           Toyama   Japan  2020-10-01T04:23:42+00:00   \n",
       "44  NaN          Unknown   Japan  2020-10-01T04:23:42+00:00   \n",
       "45  NaN         Wakayama   Japan  2020-10-01T04:23:42+00:00   \n",
       "46  NaN         Yamagata   Japan  2020-10-01T04:23:42+00:00   \n",
       "47  NaN        Yamaguchi   Japan  2020-10-01T04:23:42+00:00   \n",
       "48  NaN        Yamanashi   Japan  2020-10-01T04:23:42+00:00   \n",
       "\n",
       "                     keyId  confirmed  deaths  recovered  \n",
       "0             Aichi, Japan       5370      86     4877.0  \n",
       "1             Akita, Japan         53       0       51.0  \n",
       "2            Aomori, Japan         36       1       34.0  \n",
       "3             Chiba, Japan       3896      71     3506.0  \n",
       "4             Ehime, Japan        114       6      108.0  \n",
       "5             Fukui, Japan        244      11      229.0  \n",
       "6           Fukuoka, Japan       5044      98     4837.0  \n",
       "7         Fukushima, Japan        253       3      209.0  \n",
       "8              Gifu, Japan        626      10      585.0  \n",
       "9             Gunma, Japan        701      19      611.0  \n",
       "10        Hiroshima, Japan        574       3      469.0  \n",
       "11         Hokkaido, Japan       2096     107     1842.0  \n",
       "12            Hyogo, Japan       2721      59     2522.0  \n",
       "13          Ibaraki, Japan        657      17      601.0  \n",
       "14         Ishikawa, Japan        776      47      683.0  \n",
       "15            Iwate, Japan         23       0       23.0  \n",
       "16           Kagawa, Japan         94       2       88.0  \n",
       "17        Kagoshima, Japan        417      12      378.0  \n",
       "18         Kanagawa, Japan       6904     139     6167.0  \n",
       "19            Kochi, Japan        138       4      133.0  \n",
       "20         Kumamoto, Japan        573       8      559.0  \n",
       "21            Kyoto, Japan       1762      25     1650.0  \n",
       "22              Mie, Japan        510       6      411.0  \n",
       "23           Miyagi, Japan        406       2      348.0  \n",
       "24         Miyazaki, Japan        365       1      343.0  \n",
       "25           Nagano, Japan        308       1      306.0  \n",
       "26         Nagasaki, Japan        236       3      231.0  \n",
       "27             Nara, Japan        569       9      541.0  \n",
       "28          Niigata, Japan        170       0      160.0  \n",
       "29             Oita, Japan        158       2      153.0  \n",
       "30          Okayama, Japan        157       1      147.0  \n",
       "31          Okinawa, Japan       2496      46     2248.0  \n",
       "32            Osaka, Japan      10593     206     9784.0  \n",
       "33  Port Quarantine, Japan        958       1      514.0  \n",
       "34             Saga, Japan        243       0      245.0  \n",
       "35          Saitama, Japan       4663     102     4262.0  \n",
       "36            Shiga, Japan        502       8      465.0  \n",
       "37          Shimane, Japan        140       0      137.0  \n",
       "38         Shizuoka, Japan        541       2      516.0  \n",
       "39          Tochigi, Japan        431       1      379.0  \n",
       "40        Tokushima, Japan        148       9      126.0  \n",
       "41            Tokyo, Japan      25751     408    22956.0  \n",
       "42          Tottori, Japan         36       0       30.0  \n",
       "43           Toyama, Japan        419      26      383.0  \n",
       "44          Unknown, Japan          8       0        8.0  \n",
       "45         Wakayama, Japan        242       4      229.0  \n",
       "46         Yamagata, Japan         78       1       76.0  \n",
       "47        Yamaguchi, Japan        202       2      190.0  \n",
       "48        Yamanashi, Japan        189       6      172.0  "
      ]
     },
     "execution_count": 73,
     "metadata": {},
     "output_type": "execute_result"
    }
   ],
   "source": [
    "#ตั้งสมมติฐานว่าแบบ เมืองที่มีสาธารณสุขที่ดี น่าจะมีการควบคุมโรคที่ดี\n",
    "Data_JP = df[(df['country'] == 'Japan') ].reset_index(drop=True)\n",
    "Data_JP"
   ]
  },
  {
   "cell_type": "code",
   "execution_count": 110,
   "metadata": {},
   "outputs": [
    {
     "data": {
      "text/html": [
       "<style  type=\"text/css\" >\n",
       "    #T_bf1cda23_03f8_11eb_a6f4_94b86d703d15row0_col0 {\n",
       "            background-color:  #000000;\n",
       "            color:  #f1f1f1;\n",
       "        }    #T_bf1cda23_03f8_11eb_a6f4_94b86d703d15row1_col0 {\n",
       "            background-color:  #9c7946;\n",
       "            color:  #000000;\n",
       "        }    #T_bf1cda23_03f8_11eb_a6f4_94b86d703d15row2_col0 {\n",
       "            background-color:  #d48dc1;\n",
       "            color:  #000000;\n",
       "        }    #T_bf1cda23_03f8_11eb_a6f4_94b86d703d15row3_col0 {\n",
       "            background-color:  #c9ade9;\n",
       "            color:  #000000;\n",
       "        }    #T_bf1cda23_03f8_11eb_a6f4_94b86d703d15row4_col0 {\n",
       "            background-color:  #c7b2ed;\n",
       "            color:  #000000;\n",
       "        }    #T_bf1cda23_03f8_11eb_a6f4_94b86d703d15row5_col0 {\n",
       "            background-color:  #c5b8ef;\n",
       "            color:  #000000;\n",
       "        }    #T_bf1cda23_03f8_11eb_a6f4_94b86d703d15row6_col0 {\n",
       "            background-color:  #c2c6f3;\n",
       "            color:  #000000;\n",
       "        }    #T_bf1cda23_03f8_11eb_a6f4_94b86d703d15row7_col0 {\n",
       "            background-color:  #c2d6f3;\n",
       "            color:  #000000;\n",
       "        }    #T_bf1cda23_03f8_11eb_a6f4_94b86d703d15row8_col0 {\n",
       "            background-color:  #c6e0f1;\n",
       "            color:  #000000;\n",
       "        }    #T_bf1cda23_03f8_11eb_a6f4_94b86d703d15row9_col0 {\n",
       "            background-color:  #cdeaef;\n",
       "            color:  #000000;\n",
       "        }    #T_bf1cda23_03f8_11eb_a6f4_94b86d703d15row10_col0 {\n",
       "            background-color:  #cfebef;\n",
       "            color:  #000000;\n",
       "        }    #T_bf1cda23_03f8_11eb_a6f4_94b86d703d15row11_col0 {\n",
       "            background-color:  #e2f6f0;\n",
       "            color:  #000000;\n",
       "        }    #T_bf1cda23_03f8_11eb_a6f4_94b86d703d15row12_col0 {\n",
       "            background-color:  #e3f6f0;\n",
       "            color:  #000000;\n",
       "        }    #T_bf1cda23_03f8_11eb_a6f4_94b86d703d15row13_col0 {\n",
       "            background-color:  #ebf9f3;\n",
       "            color:  #000000;\n",
       "        }    #T_bf1cda23_03f8_11eb_a6f4_94b86d703d15row14_col0 {\n",
       "            background-color:  #edfaf4;\n",
       "            color:  #000000;\n",
       "        }    #T_bf1cda23_03f8_11eb_a6f4_94b86d703d15row15_col0 {\n",
       "            background-color:  #f2fbf6;\n",
       "            color:  #000000;\n",
       "        }    #T_bf1cda23_03f8_11eb_a6f4_94b86d703d15row16_col0 {\n",
       "            background-color:  #f4fcf7;\n",
       "            color:  #000000;\n",
       "        }    #T_bf1cda23_03f8_11eb_a6f4_94b86d703d15row17_col0 {\n",
       "            background-color:  #f4fcf7;\n",
       "            color:  #000000;\n",
       "        }    #T_bf1cda23_03f8_11eb_a6f4_94b86d703d15row18_col0 {\n",
       "            background-color:  #f6fcf8;\n",
       "            color:  #000000;\n",
       "        }    #T_bf1cda23_03f8_11eb_a6f4_94b86d703d15row19_col0 {\n",
       "            background-color:  #f6fcf8;\n",
       "            color:  #000000;\n",
       "        }    #T_bf1cda23_03f8_11eb_a6f4_94b86d703d15row20_col0 {\n",
       "            background-color:  #f6fcf8;\n",
       "            color:  #000000;\n",
       "        }    #T_bf1cda23_03f8_11eb_a6f4_94b86d703d15row21_col0 {\n",
       "            background-color:  #f6fcf8;\n",
       "            color:  #000000;\n",
       "        }    #T_bf1cda23_03f8_11eb_a6f4_94b86d703d15row22_col0 {\n",
       "            background-color:  #fafdfb;\n",
       "            color:  #000000;\n",
       "        }    #T_bf1cda23_03f8_11eb_a6f4_94b86d703d15row23_col0 {\n",
       "            background-color:  #fafdfb;\n",
       "            color:  #000000;\n",
       "        }    #T_bf1cda23_03f8_11eb_a6f4_94b86d703d15row24_col0 {\n",
       "            background-color:  #fafdfb;\n",
       "            color:  #000000;\n",
       "        }    #T_bf1cda23_03f8_11eb_a6f4_94b86d703d15row25_col0 {\n",
       "            background-color:  #fbfefc;\n",
       "            color:  #000000;\n",
       "        }    #T_bf1cda23_03f8_11eb_a6f4_94b86d703d15row26_col0 {\n",
       "            background-color:  #fbfefc;\n",
       "            color:  #000000;\n",
       "        }    #T_bf1cda23_03f8_11eb_a6f4_94b86d703d15row27_col0 {\n",
       "            background-color:  #fdfefe;\n",
       "            color:  #000000;\n",
       "        }    #T_bf1cda23_03f8_11eb_a6f4_94b86d703d15row28_col0 {\n",
       "            background-color:  #fdfefe;\n",
       "            color:  #000000;\n",
       "        }    #T_bf1cda23_03f8_11eb_a6f4_94b86d703d15row29_col0 {\n",
       "            background-color:  #fdfefe;\n",
       "            color:  #000000;\n",
       "        }    #T_bf1cda23_03f8_11eb_a6f4_94b86d703d15row30_col0 {\n",
       "            background-color:  #fdfefe;\n",
       "            color:  #000000;\n",
       "        }    #T_bf1cda23_03f8_11eb_a6f4_94b86d703d15row31_col0 {\n",
       "            background-color:  #fdfefe;\n",
       "            color:  #000000;\n",
       "        }    #T_bf1cda23_03f8_11eb_a6f4_94b86d703d15row32_col0 {\n",
       "            background-color:  #fdfefe;\n",
       "            color:  #000000;\n",
       "        }    #T_bf1cda23_03f8_11eb_a6f4_94b86d703d15row33_col0 {\n",
       "            background-color:  #fdfefe;\n",
       "            color:  #000000;\n",
       "        }    #T_bf1cda23_03f8_11eb_a6f4_94b86d703d15row34_col0 {\n",
       "            background-color:  #fdfefe;\n",
       "            color:  #000000;\n",
       "        }    #T_bf1cda23_03f8_11eb_a6f4_94b86d703d15row35_col0 {\n",
       "            background-color:  #ffffff;\n",
       "            color:  #000000;\n",
       "        }    #T_bf1cda23_03f8_11eb_a6f4_94b86d703d15row36_col0 {\n",
       "            background-color:  #ffffff;\n",
       "            color:  #000000;\n",
       "        }    #T_bf1cda23_03f8_11eb_a6f4_94b86d703d15row37_col0 {\n",
       "            background-color:  #ffffff;\n",
       "            color:  #000000;\n",
       "        }    #T_bf1cda23_03f8_11eb_a6f4_94b86d703d15row38_col0 {\n",
       "            background-color:  #ffffff;\n",
       "            color:  #000000;\n",
       "        }    #T_bf1cda23_03f8_11eb_a6f4_94b86d703d15row39_col0 {\n",
       "            background-color:  #ffffff;\n",
       "            color:  #000000;\n",
       "        }    #T_bf1cda23_03f8_11eb_a6f4_94b86d703d15row40_col0 {\n",
       "            background-color:  #ffffff;\n",
       "            color:  #000000;\n",
       "        }    #T_bf1cda23_03f8_11eb_a6f4_94b86d703d15row41_col0 {\n",
       "            background-color:  #ffffff;\n",
       "            color:  #000000;\n",
       "        }    #T_bf1cda23_03f8_11eb_a6f4_94b86d703d15row42_col0 {\n",
       "            background-color:  #ffffff;\n",
       "            color:  #000000;\n",
       "        }    #T_bf1cda23_03f8_11eb_a6f4_94b86d703d15row43_col0 {\n",
       "            background-color:  #ffffff;\n",
       "            color:  #000000;\n",
       "        }    #T_bf1cda23_03f8_11eb_a6f4_94b86d703d15row44_col0 {\n",
       "            background-color:  #ffffff;\n",
       "            color:  #000000;\n",
       "        }    #T_bf1cda23_03f8_11eb_a6f4_94b86d703d15row45_col0 {\n",
       "            background-color:  #ffffff;\n",
       "            color:  #000000;\n",
       "        }    #T_bf1cda23_03f8_11eb_a6f4_94b86d703d15row46_col0 {\n",
       "            background-color:  #ffffff;\n",
       "            color:  #000000;\n",
       "        }    #T_bf1cda23_03f8_11eb_a6f4_94b86d703d15row47_col0 {\n",
       "            background-color:  #ffffff;\n",
       "            color:  #000000;\n",
       "        }    #T_bf1cda23_03f8_11eb_a6f4_94b86d703d15row48_col0 {\n",
       "            background-color:  #ffffff;\n",
       "            color:  #000000;\n",
       "        }</style><table id=\"T_bf1cda23_03f8_11eb_a6f4_94b86d703d15\" ><thead>    <tr>        <th class=\"blank level0\" ></th>        <th class=\"col_heading level0 col0\" >deaths</th>    </tr>    <tr>        <th class=\"index_name level0\" >province</th>        <th class=\"blank\" ></th>    </tr></thead><tbody>\n",
       "                <tr>\n",
       "                        <th id=\"T_bf1cda23_03f8_11eb_a6f4_94b86d703d15level0_row0\" class=\"row_heading level0 row0\" >Tokyo</th>\n",
       "                        <td id=\"T_bf1cda23_03f8_11eb_a6f4_94b86d703d15row0_col0\" class=\"data row0 col0\" >408</td>\n",
       "            </tr>\n",
       "            <tr>\n",
       "                        <th id=\"T_bf1cda23_03f8_11eb_a6f4_94b86d703d15level0_row1\" class=\"row_heading level0 row1\" >Osaka</th>\n",
       "                        <td id=\"T_bf1cda23_03f8_11eb_a6f4_94b86d703d15row1_col0\" class=\"data row1 col0\" >206</td>\n",
       "            </tr>\n",
       "            <tr>\n",
       "                        <th id=\"T_bf1cda23_03f8_11eb_a6f4_94b86d703d15level0_row2\" class=\"row_heading level0 row2\" >Kanagawa</th>\n",
       "                        <td id=\"T_bf1cda23_03f8_11eb_a6f4_94b86d703d15row2_col0\" class=\"data row2 col0\" >139</td>\n",
       "            </tr>\n",
       "            <tr>\n",
       "                        <th id=\"T_bf1cda23_03f8_11eb_a6f4_94b86d703d15level0_row3\" class=\"row_heading level0 row3\" >Hokkaido</th>\n",
       "                        <td id=\"T_bf1cda23_03f8_11eb_a6f4_94b86d703d15row3_col0\" class=\"data row3 col0\" >107</td>\n",
       "            </tr>\n",
       "            <tr>\n",
       "                        <th id=\"T_bf1cda23_03f8_11eb_a6f4_94b86d703d15level0_row4\" class=\"row_heading level0 row4\" >Saitama</th>\n",
       "                        <td id=\"T_bf1cda23_03f8_11eb_a6f4_94b86d703d15row4_col0\" class=\"data row4 col0\" >102</td>\n",
       "            </tr>\n",
       "            <tr>\n",
       "                        <th id=\"T_bf1cda23_03f8_11eb_a6f4_94b86d703d15level0_row5\" class=\"row_heading level0 row5\" >Fukuoka</th>\n",
       "                        <td id=\"T_bf1cda23_03f8_11eb_a6f4_94b86d703d15row5_col0\" class=\"data row5 col0\" >98</td>\n",
       "            </tr>\n",
       "            <tr>\n",
       "                        <th id=\"T_bf1cda23_03f8_11eb_a6f4_94b86d703d15level0_row6\" class=\"row_heading level0 row6\" >Aichi</th>\n",
       "                        <td id=\"T_bf1cda23_03f8_11eb_a6f4_94b86d703d15row6_col0\" class=\"data row6 col0\" >86</td>\n",
       "            </tr>\n",
       "            <tr>\n",
       "                        <th id=\"T_bf1cda23_03f8_11eb_a6f4_94b86d703d15level0_row7\" class=\"row_heading level0 row7\" >Chiba</th>\n",
       "                        <td id=\"T_bf1cda23_03f8_11eb_a6f4_94b86d703d15row7_col0\" class=\"data row7 col0\" >71</td>\n",
       "            </tr>\n",
       "            <tr>\n",
       "                        <th id=\"T_bf1cda23_03f8_11eb_a6f4_94b86d703d15level0_row8\" class=\"row_heading level0 row8\" >Hyogo</th>\n",
       "                        <td id=\"T_bf1cda23_03f8_11eb_a6f4_94b86d703d15row8_col0\" class=\"data row8 col0\" >59</td>\n",
       "            </tr>\n",
       "            <tr>\n",
       "                        <th id=\"T_bf1cda23_03f8_11eb_a6f4_94b86d703d15level0_row9\" class=\"row_heading level0 row9\" >Ishikawa</th>\n",
       "                        <td id=\"T_bf1cda23_03f8_11eb_a6f4_94b86d703d15row9_col0\" class=\"data row9 col0\" >47</td>\n",
       "            </tr>\n",
       "            <tr>\n",
       "                        <th id=\"T_bf1cda23_03f8_11eb_a6f4_94b86d703d15level0_row10\" class=\"row_heading level0 row10\" >Okinawa</th>\n",
       "                        <td id=\"T_bf1cda23_03f8_11eb_a6f4_94b86d703d15row10_col0\" class=\"data row10 col0\" >46</td>\n",
       "            </tr>\n",
       "            <tr>\n",
       "                        <th id=\"T_bf1cda23_03f8_11eb_a6f4_94b86d703d15level0_row11\" class=\"row_heading level0 row11\" >Toyama</th>\n",
       "                        <td id=\"T_bf1cda23_03f8_11eb_a6f4_94b86d703d15row11_col0\" class=\"data row11 col0\" >26</td>\n",
       "            </tr>\n",
       "            <tr>\n",
       "                        <th id=\"T_bf1cda23_03f8_11eb_a6f4_94b86d703d15level0_row12\" class=\"row_heading level0 row12\" >Kyoto</th>\n",
       "                        <td id=\"T_bf1cda23_03f8_11eb_a6f4_94b86d703d15row12_col0\" class=\"data row12 col0\" >25</td>\n",
       "            </tr>\n",
       "            <tr>\n",
       "                        <th id=\"T_bf1cda23_03f8_11eb_a6f4_94b86d703d15level0_row13\" class=\"row_heading level0 row13\" >Gunma</th>\n",
       "                        <td id=\"T_bf1cda23_03f8_11eb_a6f4_94b86d703d15row13_col0\" class=\"data row13 col0\" >19</td>\n",
       "            </tr>\n",
       "            <tr>\n",
       "                        <th id=\"T_bf1cda23_03f8_11eb_a6f4_94b86d703d15level0_row14\" class=\"row_heading level0 row14\" >Ibaraki</th>\n",
       "                        <td id=\"T_bf1cda23_03f8_11eb_a6f4_94b86d703d15row14_col0\" class=\"data row14 col0\" >17</td>\n",
       "            </tr>\n",
       "            <tr>\n",
       "                        <th id=\"T_bf1cda23_03f8_11eb_a6f4_94b86d703d15level0_row15\" class=\"row_heading level0 row15\" >Kagoshima</th>\n",
       "                        <td id=\"T_bf1cda23_03f8_11eb_a6f4_94b86d703d15row15_col0\" class=\"data row15 col0\" >12</td>\n",
       "            </tr>\n",
       "            <tr>\n",
       "                        <th id=\"T_bf1cda23_03f8_11eb_a6f4_94b86d703d15level0_row16\" class=\"row_heading level0 row16\" >Fukui</th>\n",
       "                        <td id=\"T_bf1cda23_03f8_11eb_a6f4_94b86d703d15row16_col0\" class=\"data row16 col0\" >11</td>\n",
       "            </tr>\n",
       "            <tr>\n",
       "                        <th id=\"T_bf1cda23_03f8_11eb_a6f4_94b86d703d15level0_row17\" class=\"row_heading level0 row17\" >Gifu</th>\n",
       "                        <td id=\"T_bf1cda23_03f8_11eb_a6f4_94b86d703d15row17_col0\" class=\"data row17 col0\" >10</td>\n",
       "            </tr>\n",
       "            <tr>\n",
       "                        <th id=\"T_bf1cda23_03f8_11eb_a6f4_94b86d703d15level0_row18\" class=\"row_heading level0 row18\" >Tokushima</th>\n",
       "                        <td id=\"T_bf1cda23_03f8_11eb_a6f4_94b86d703d15row18_col0\" class=\"data row18 col0\" >9</td>\n",
       "            </tr>\n",
       "            <tr>\n",
       "                        <th id=\"T_bf1cda23_03f8_11eb_a6f4_94b86d703d15level0_row19\" class=\"row_heading level0 row19\" >Nara</th>\n",
       "                        <td id=\"T_bf1cda23_03f8_11eb_a6f4_94b86d703d15row19_col0\" class=\"data row19 col0\" >9</td>\n",
       "            </tr>\n",
       "            <tr>\n",
       "                        <th id=\"T_bf1cda23_03f8_11eb_a6f4_94b86d703d15level0_row20\" class=\"row_heading level0 row20\" >Kumamoto</th>\n",
       "                        <td id=\"T_bf1cda23_03f8_11eb_a6f4_94b86d703d15row20_col0\" class=\"data row20 col0\" >8</td>\n",
       "            </tr>\n",
       "            <tr>\n",
       "                        <th id=\"T_bf1cda23_03f8_11eb_a6f4_94b86d703d15level0_row21\" class=\"row_heading level0 row21\" >Shiga</th>\n",
       "                        <td id=\"T_bf1cda23_03f8_11eb_a6f4_94b86d703d15row21_col0\" class=\"data row21 col0\" >8</td>\n",
       "            </tr>\n",
       "            <tr>\n",
       "                        <th id=\"T_bf1cda23_03f8_11eb_a6f4_94b86d703d15level0_row22\" class=\"row_heading level0 row22\" >Mie</th>\n",
       "                        <td id=\"T_bf1cda23_03f8_11eb_a6f4_94b86d703d15row22_col0\" class=\"data row22 col0\" >6</td>\n",
       "            </tr>\n",
       "            <tr>\n",
       "                        <th id=\"T_bf1cda23_03f8_11eb_a6f4_94b86d703d15level0_row23\" class=\"row_heading level0 row23\" >Ehime</th>\n",
       "                        <td id=\"T_bf1cda23_03f8_11eb_a6f4_94b86d703d15row23_col0\" class=\"data row23 col0\" >6</td>\n",
       "            </tr>\n",
       "            <tr>\n",
       "                        <th id=\"T_bf1cda23_03f8_11eb_a6f4_94b86d703d15level0_row24\" class=\"row_heading level0 row24\" >Yamanashi</th>\n",
       "                        <td id=\"T_bf1cda23_03f8_11eb_a6f4_94b86d703d15row24_col0\" class=\"data row24 col0\" >6</td>\n",
       "            </tr>\n",
       "            <tr>\n",
       "                        <th id=\"T_bf1cda23_03f8_11eb_a6f4_94b86d703d15level0_row25\" class=\"row_heading level0 row25\" >Kochi</th>\n",
       "                        <td id=\"T_bf1cda23_03f8_11eb_a6f4_94b86d703d15row25_col0\" class=\"data row25 col0\" >4</td>\n",
       "            </tr>\n",
       "            <tr>\n",
       "                        <th id=\"T_bf1cda23_03f8_11eb_a6f4_94b86d703d15level0_row26\" class=\"row_heading level0 row26\" >Wakayama</th>\n",
       "                        <td id=\"T_bf1cda23_03f8_11eb_a6f4_94b86d703d15row26_col0\" class=\"data row26 col0\" >4</td>\n",
       "            </tr>\n",
       "            <tr>\n",
       "                        <th id=\"T_bf1cda23_03f8_11eb_a6f4_94b86d703d15level0_row27\" class=\"row_heading level0 row27\" >Hiroshima</th>\n",
       "                        <td id=\"T_bf1cda23_03f8_11eb_a6f4_94b86d703d15row27_col0\" class=\"data row27 col0\" >3</td>\n",
       "            </tr>\n",
       "            <tr>\n",
       "                        <th id=\"T_bf1cda23_03f8_11eb_a6f4_94b86d703d15level0_row28\" class=\"row_heading level0 row28\" >Nagasaki</th>\n",
       "                        <td id=\"T_bf1cda23_03f8_11eb_a6f4_94b86d703d15row28_col0\" class=\"data row28 col0\" >3</td>\n",
       "            </tr>\n",
       "            <tr>\n",
       "                        <th id=\"T_bf1cda23_03f8_11eb_a6f4_94b86d703d15level0_row29\" class=\"row_heading level0 row29\" >Fukushima</th>\n",
       "                        <td id=\"T_bf1cda23_03f8_11eb_a6f4_94b86d703d15row29_col0\" class=\"data row29 col0\" >3</td>\n",
       "            </tr>\n",
       "            <tr>\n",
       "                        <th id=\"T_bf1cda23_03f8_11eb_a6f4_94b86d703d15level0_row30\" class=\"row_heading level0 row30\" >Miyagi</th>\n",
       "                        <td id=\"T_bf1cda23_03f8_11eb_a6f4_94b86d703d15row30_col0\" class=\"data row30 col0\" >2</td>\n",
       "            </tr>\n",
       "            <tr>\n",
       "                        <th id=\"T_bf1cda23_03f8_11eb_a6f4_94b86d703d15level0_row31\" class=\"row_heading level0 row31\" >Oita</th>\n",
       "                        <td id=\"T_bf1cda23_03f8_11eb_a6f4_94b86d703d15row31_col0\" class=\"data row31 col0\" >2</td>\n",
       "            </tr>\n",
       "            <tr>\n",
       "                        <th id=\"T_bf1cda23_03f8_11eb_a6f4_94b86d703d15level0_row32\" class=\"row_heading level0 row32\" >Kagawa</th>\n",
       "                        <td id=\"T_bf1cda23_03f8_11eb_a6f4_94b86d703d15row32_col0\" class=\"data row32 col0\" >2</td>\n",
       "            </tr>\n",
       "            <tr>\n",
       "                        <th id=\"T_bf1cda23_03f8_11eb_a6f4_94b86d703d15level0_row33\" class=\"row_heading level0 row33\" >Shizuoka</th>\n",
       "                        <td id=\"T_bf1cda23_03f8_11eb_a6f4_94b86d703d15row33_col0\" class=\"data row33 col0\" >2</td>\n",
       "            </tr>\n",
       "            <tr>\n",
       "                        <th id=\"T_bf1cda23_03f8_11eb_a6f4_94b86d703d15level0_row34\" class=\"row_heading level0 row34\" >Yamaguchi</th>\n",
       "                        <td id=\"T_bf1cda23_03f8_11eb_a6f4_94b86d703d15row34_col0\" class=\"data row34 col0\" >2</td>\n",
       "            </tr>\n",
       "            <tr>\n",
       "                        <th id=\"T_bf1cda23_03f8_11eb_a6f4_94b86d703d15level0_row35\" class=\"row_heading level0 row35\" >Aomori</th>\n",
       "                        <td id=\"T_bf1cda23_03f8_11eb_a6f4_94b86d703d15row35_col0\" class=\"data row35 col0\" >1</td>\n",
       "            </tr>\n",
       "            <tr>\n",
       "                        <th id=\"T_bf1cda23_03f8_11eb_a6f4_94b86d703d15level0_row36\" class=\"row_heading level0 row36\" >Yamagata</th>\n",
       "                        <td id=\"T_bf1cda23_03f8_11eb_a6f4_94b86d703d15row36_col0\" class=\"data row36 col0\" >1</td>\n",
       "            </tr>\n",
       "            <tr>\n",
       "                        <th id=\"T_bf1cda23_03f8_11eb_a6f4_94b86d703d15level0_row37\" class=\"row_heading level0 row37\" >Tochigi</th>\n",
       "                        <td id=\"T_bf1cda23_03f8_11eb_a6f4_94b86d703d15row37_col0\" class=\"data row37 col0\" >1</td>\n",
       "            </tr>\n",
       "            <tr>\n",
       "                        <th id=\"T_bf1cda23_03f8_11eb_a6f4_94b86d703d15level0_row38\" class=\"row_heading level0 row38\" >Miyazaki</th>\n",
       "                        <td id=\"T_bf1cda23_03f8_11eb_a6f4_94b86d703d15row38_col0\" class=\"data row38 col0\" >1</td>\n",
       "            </tr>\n",
       "            <tr>\n",
       "                        <th id=\"T_bf1cda23_03f8_11eb_a6f4_94b86d703d15level0_row39\" class=\"row_heading level0 row39\" >Port Quarantine</th>\n",
       "                        <td id=\"T_bf1cda23_03f8_11eb_a6f4_94b86d703d15row39_col0\" class=\"data row39 col0\" >1</td>\n",
       "            </tr>\n",
       "            <tr>\n",
       "                        <th id=\"T_bf1cda23_03f8_11eb_a6f4_94b86d703d15level0_row40\" class=\"row_heading level0 row40\" >Okayama</th>\n",
       "                        <td id=\"T_bf1cda23_03f8_11eb_a6f4_94b86d703d15row40_col0\" class=\"data row40 col0\" >1</td>\n",
       "            </tr>\n",
       "            <tr>\n",
       "                        <th id=\"T_bf1cda23_03f8_11eb_a6f4_94b86d703d15level0_row41\" class=\"row_heading level0 row41\" >Nagano</th>\n",
       "                        <td id=\"T_bf1cda23_03f8_11eb_a6f4_94b86d703d15row41_col0\" class=\"data row41 col0\" >1</td>\n",
       "            </tr>\n",
       "            <tr>\n",
       "                        <th id=\"T_bf1cda23_03f8_11eb_a6f4_94b86d703d15level0_row42\" class=\"row_heading level0 row42\" >Saga</th>\n",
       "                        <td id=\"T_bf1cda23_03f8_11eb_a6f4_94b86d703d15row42_col0\" class=\"data row42 col0\" >0</td>\n",
       "            </tr>\n",
       "            <tr>\n",
       "                        <th id=\"T_bf1cda23_03f8_11eb_a6f4_94b86d703d15level0_row43\" class=\"row_heading level0 row43\" >Tottori</th>\n",
       "                        <td id=\"T_bf1cda23_03f8_11eb_a6f4_94b86d703d15row43_col0\" class=\"data row43 col0\" >0</td>\n",
       "            </tr>\n",
       "            <tr>\n",
       "                        <th id=\"T_bf1cda23_03f8_11eb_a6f4_94b86d703d15level0_row44\" class=\"row_heading level0 row44\" >Unknown</th>\n",
       "                        <td id=\"T_bf1cda23_03f8_11eb_a6f4_94b86d703d15row44_col0\" class=\"data row44 col0\" >0</td>\n",
       "            </tr>\n",
       "            <tr>\n",
       "                        <th id=\"T_bf1cda23_03f8_11eb_a6f4_94b86d703d15level0_row45\" class=\"row_heading level0 row45\" >Iwate</th>\n",
       "                        <td id=\"T_bf1cda23_03f8_11eb_a6f4_94b86d703d15row45_col0\" class=\"data row45 col0\" >0</td>\n",
       "            </tr>\n",
       "            <tr>\n",
       "                        <th id=\"T_bf1cda23_03f8_11eb_a6f4_94b86d703d15level0_row46\" class=\"row_heading level0 row46\" >Niigata</th>\n",
       "                        <td id=\"T_bf1cda23_03f8_11eb_a6f4_94b86d703d15row46_col0\" class=\"data row46 col0\" >0</td>\n",
       "            </tr>\n",
       "            <tr>\n",
       "                        <th id=\"T_bf1cda23_03f8_11eb_a6f4_94b86d703d15level0_row47\" class=\"row_heading level0 row47\" >Akita</th>\n",
       "                        <td id=\"T_bf1cda23_03f8_11eb_a6f4_94b86d703d15row47_col0\" class=\"data row47 col0\" >0</td>\n",
       "            </tr>\n",
       "            <tr>\n",
       "                        <th id=\"T_bf1cda23_03f8_11eb_a6f4_94b86d703d15level0_row48\" class=\"row_heading level0 row48\" >Shimane</th>\n",
       "                        <td id=\"T_bf1cda23_03f8_11eb_a6f4_94b86d703d15row48_col0\" class=\"data row48 col0\" >0</td>\n",
       "            </tr>\n",
       "    </tbody></table>"
      ],
      "text/plain": [
       "<pandas.io.formats.style.Styler at 0x19288c4e910>"
      ]
     },
     "execution_count": 110,
     "metadata": {},
     "output_type": "execute_result"
    }
   ],
   "source": [
    "D_JP = Data_JP.groupby('province')['deaths'].sum().sort_values(ascending=False).to_frame()\n",
    "D_JP.style.background_gradient(cmap='cubehelix_r')"
   ]
  },
  {
   "cell_type": "code",
   "execution_count": 100,
   "metadata": {},
   "outputs": [
    {
     "data": {
      "image/png": "[encoded data removed]",
      "text/plain": [
       "<Figure size 864x576 with 1 Axes>"
      ]
     },
     "metadata": {
      "needs_background": "light"
     },
     "output_type": "display_data"
    }
   ],
   "source": [
    "#ทำ stack chart เพื่อเปรียบเทียบระหว่างยอดผู้ติดเชื้อ-และได้รับการรักษาจนหายดี\n",
    "f, ax = plt.subplots(figsize=(12, 8))\n",
    "dt = Data_JP[['confirmed','deaths','recovered']]\n",
    "Data_JP.sort_values('confirmed',ascending=False,inplace=True)\n",
    "sns.set_color_codes(\"pastel\")\n",
    "sns.barplot(x=\"confirmed\", y=\"province\", data=Data_JP,\n",
    "            label=\"Confirmed-case\", color=\"#931a25\")\n",
    "\n",
    "sns.set_color_codes(\"muted\")\n",
    "sns.barplot(x=\"recovered\", y=\"province\", data=Data_JP,\n",
    "            label=\"Recovered-case\", color=\"#a6f6f1\")\n",
    "\n",
    "\n",
    "ax.legend(ncol=2, loc=\"lower right\", frameon=True)\n",
    "ax.set(xlim=(0, 10000), ylabel=\"province in Japan\",\n",
    "       xlabel=\"case-recovered\")\n",
    "sns.despine(left=True, bottom=True)"
   ]
  },
  {
   "cell_type": "code",
   "execution_count": 111,
   "metadata": {},
   "outputs": [
    {
     "data": {
      "text/plain": [
       "(  city province country                 lastUpdate         keyId  confirmed  \\\n",
       " 0  NaN    Tokyo   Japan  2020-10-01T04:23:42+00:00  Tokyo, Japan      25751   \n",
       " \n",
       "    deaths  recovered  \n",
       " 0     408    22956.0  ,\n",
       "   city province country                 lastUpdate         keyId  confirmed  \\\n",
       " 0  NaN    Delhi   India  2020-10-01T04:23:42+00:00  Delhi, India     279715   \n",
       " \n",
       "    deaths  recovered  \n",
       " 0    5361   247446.0  ,\n",
       "   city  province country                 lastUpdate            keyId  \\\n",
       " 0  NaN  Shanghai   China  2020-10-01T04:23:42+00:00  Shanghai, China   \n",
       " \n",
       "    confirmed  deaths  recovered  \n",
       " 0       1006       7      947.0  ,\n",
       "   city   province country                 lastUpdate              keyId  \\\n",
       " 0  NaN  Sao Paulo  Brazil  2020-10-01T04:23:42+00:00  Sao Paulo, Brazil   \n",
       " \n",
       "    confirmed  deaths  recovered  \n",
       " 0     985628   35622   855068.0  ,\n",
       " Empty DataFrame\n",
       " Columns: [city, province, country, lastUpdate, keyId, confirmed, deaths, recovered]\n",
       " Index: [])"
      ]
     },
     "execution_count": 111,
     "metadata": {},
     "output_type": "execute_result"
    }
   ],
   "source": [
    "#เว็บ Terrabkk พูดถึง10เมืองที่มีประชากรหนาแน่นที่สุดในโลก \n",
    "#สมมติฐานคือ ความหนาแน่นของประชากรส่งผลต่อยอดผู้ติดเชื้อ covid-19 หรือไม่?\n",
    "\n",
    "Data_Jap = df[(df['province'] == 'Tokyo') ].reset_index(drop=True)\n",
    "Data_Ind = df[(df['province'] == 'Delhi') ].reset_index(drop=True)\n",
    "Data_Chi = df[(df['province'] == 'Shanghai') ].reset_index(drop=True)\n",
    "Data_Bra = df[(df['province'] == 'Sao Paulo') ].reset_index(drop=True)\n",
    "Data_Mex = df[(df['province'] == 'Mexico City') ].reset_index(drop=True)\n",
    "Data_Jap,Data_Ind,Data_Chi,Data_Bra ,Data_Mex"
   ]
  },
  {
   "cell_type": "code",
   "execution_count": 114,
   "metadata": {},
   "outputs": [
    {
     "data": {
      "text/plain": [
       "0    25751\n",
       "Name: confirmed, dtype: int64"
      ]
     },
     "execution_count": 114,
     "metadata": {},
     "output_type": "execute_result"
    }
   ],
   "source": [
    "Data_Jap[\"confirmed\"]"
   ]
  },
  {
   "cell_type": "code",
   "execution_count": null,
   "metadata": {},
   "outputs": [],
   "source": []
  }
 ],
 "metadata": {
  "colab": {
   "collapsed_sections": [],
   "name": "ASS_DTS_EDIT.ipynb",
   "provenance": [],
   "toc_visible": true
  },
  "kernelspec": {
   "display_name": "Python 3",
   "language": "python",
   "name": "python3"
  },
  "language_info": {
   "codemirror_mode": {
    "name": "ipython",
    "version": 3
   },
   "file_extension": ".py",
   "mimetype": "text/x-python",
   "name": "python",
   "nbconvert_exporter": "python",
   "pygments_lexer": "ipython3",
   "version": "3.8.3"
  }
 },
 "nbformat": 4,
 "nbformat_minor": 1
}
